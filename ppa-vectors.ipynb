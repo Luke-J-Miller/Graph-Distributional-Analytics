{
 "cells": [
  {
   "cell_type": "code",
   "execution_count": 1,
   "id": "7c6ca636",
   "metadata": {
    "_cell_guid": "b1076dfc-b9ad-4769-8c92-a6c4dae69d19",
    "_uuid": "8f2839f25d086af736a60e9eeb907d3b93b6e0e5",
    "execution": {
     "iopub.execute_input": "2024-03-19T13:09:34.897219Z",
     "iopub.status.busy": "2024-03-19T13:09:34.896796Z",
     "iopub.status.idle": "2024-03-19T13:09:36.406752Z",
     "shell.execute_reply": "2024-03-19T13:09:36.405160Z"
    },
    "papermill": {
     "duration": 1.518022,
     "end_time": "2024-03-19T13:09:36.409031",
     "exception": false,
     "start_time": "2024-03-19T13:09:34.891009",
     "status": "completed"
    },
    "tags": []
   },
   "outputs": [
    {
     "name": "stdout",
     "output_type": "stream",
     "text": [
      "/kaggle/input/ppa-dataset/__results__.html\n",
      "/kaggle/input/ppa-dataset/graphidx2speciesid.csv\n",
      "/kaggle/input/ppa-dataset/valid.csv\n",
      "/kaggle/input/ppa-dataset/graph_data.hdf5\n",
      "/kaggle/input/ppa-dataset/__notebook__.ipynb\n",
      "/kaggle/input/ppa-dataset/__output__.json\n",
      "/kaggle/input/ppa-dataset/train.csv\n",
      "/kaggle/input/ppa-dataset/test.csv\n",
      "/kaggle/input/ppa-dataset/custom.css\n"
     ]
    }
   ],
   "source": [
    "# This Python 3 environment comes with many helpful analytics libraries installed\n",
    "# It is defined by the kaggle/python Docker image: https://github.com/kaggle/docker-python\n",
    "# For example, here's several helpful packages to load\n",
    "\n",
    "import numpy as np # linear algebra\n",
    "import pandas as pd # data processing, CSV file I/O (e.g. pd.read_csv)\n",
    "from tqdm.auto import tqdm\n",
    "import pickle\n",
    "# Input data files are available in the read-only \"../input/\" directory\n",
    "# For example, running this (by clicking run or pressing Shift+Enter) will list all files under the input directory\n",
    "import h5py\n",
    "from scipy.sparse import dok_matrix\n",
    "import gc\n",
    "from scipy.spatial.distance import cosine\n",
    "from numpy.linalg import norm\n",
    "\n",
    "from scipy.sparse import csr_matrix\n",
    "import os\n",
    "for dirname, _, filenames in os.walk('/kaggle/input'):\n",
    "    for filename in filenames:\n",
    "        print(os.path.join(dirname, filename))\n",
    "\n",
    "# You can write up to 20GB to the current directory (/kaggle/working/) that gets preserved as output when you create a version using \"Save & Run All\" \n",
    "# You can also write temporary files to /kaggle/temp/, but they won't be saved outside of the current session"
   ]
  },
  {
   "cell_type": "code",
   "execution_count": 2,
   "id": "d82b2a7b",
   "metadata": {
    "execution": {
     "iopub.execute_input": "2024-03-19T13:09:36.418016Z",
     "iopub.status.busy": "2024-03-19T13:09:36.417604Z",
     "iopub.status.idle": "2024-03-19T13:23:39.817488Z",
     "shell.execute_reply": "2024-03-19T13:23:39.816660Z"
    },
    "papermill": {
     "duration": 843.406914,
     "end_time": "2024-03-19T13:23:39.819833",
     "exception": false,
     "start_time": "2024-03-19T13:09:36.412919",
     "status": "completed"
    },
    "tags": []
   },
   "outputs": [
    {
     "name": "stderr",
     "output_type": "stream",
     "text": [
      "100%|██████████| 158100/158100 [12:40<00:00, 207.86it/s]\n"
     ]
    }
   ],
   "source": [
    "import h5py\n",
    "from tqdm import tqdm\n",
    "import numpy as np\n",
    "import pickle\n",
    "\n",
    "file_path = '/kaggle/input/ppa-dataset/graph_data.hdf5'\n",
    "all_hashes = set()\n",
    "\n",
    "with h5py.File(file_path, 'r') as f:\n",
    "    for graph_name in tqdm(f.keys()):  # Iterate over the names of the graphs\n",
    "        embedding_hashes = f[graph_name]['embedding'][:]  # Access embeddings using graph name\n",
    "        # Extract all hash bytes at once (assuming hash is the first field in the dtype)\n",
    "        hashes = embedding_hashes['hash']\n",
    "        # Update the set with all hashes from this graph using set union\n",
    "        all_hashes.update(hashes)"
   ]
  },
  {
   "cell_type": "code",
   "execution_count": 3,
   "id": "e1bd98a7",
   "metadata": {
    "execution": {
     "iopub.execute_input": "2024-03-19T13:23:40.932204Z",
     "iopub.status.busy": "2024-03-19T13:23:40.931553Z",
     "iopub.status.idle": "2024-03-19T13:23:46.207690Z",
     "shell.execute_reply": "2024-03-19T13:23:46.206836Z"
    },
    "papermill": {
     "duration": 5.826082,
     "end_time": "2024-03-19T13:23:46.209737",
     "exception": false,
     "start_time": "2024-03-19T13:23:40.383655",
     "status": "completed"
    },
    "tags": []
   },
   "outputs": [
    {
     "data": {
      "text/plain": [
       "0"
      ]
     },
     "execution_count": 3,
     "metadata": {},
     "output_type": "execute_result"
    }
   ],
   "source": [
    "import gc\n",
    "gc.collect()"
   ]
  },
  {
   "cell_type": "code",
   "execution_count": 4,
   "id": "b6818d27",
   "metadata": {
    "execution": {
     "iopub.execute_input": "2024-03-19T13:23:47.350330Z",
     "iopub.status.busy": "2024-03-19T13:23:47.349524Z",
     "iopub.status.idle": "2024-03-19T13:27:00.020642Z",
     "shell.execute_reply": "2024-03-19T13:27:00.019745Z"
    },
    "papermill": {
     "duration": 193.216175,
     "end_time": "2024-03-19T13:27:00.022910",
     "exception": false,
     "start_time": "2024-03-19T13:23:46.806735",
     "status": "completed"
    },
    "tags": []
   },
   "outputs": [],
   "source": [
    "all_hashes_list = np.array(sorted(all_hashes))\n",
    "\n",
    "# Save the sorted list of all hashes using h5py\n",
    "with h5py.File('/kaggle/working/all_hashes.h5', 'w') as h5f:\n",
    "    # Create a dataset from our list/array of hashes\n",
    "    h5f.create_dataset('all_hashes', data=all_hashes_list)"
   ]
  },
  {
   "cell_type": "code",
   "execution_count": 5,
   "id": "90990308",
   "metadata": {
    "execution": {
     "iopub.execute_input": "2024-03-19T13:27:01.185131Z",
     "iopub.status.busy": "2024-03-19T13:27:01.184451Z",
     "iopub.status.idle": "2024-03-19T13:28:54.691702Z",
     "shell.execute_reply": "2024-03-19T13:28:54.690777Z"
    },
    "papermill": {
     "duration": 114.678477,
     "end_time": "2024-03-19T13:28:55.265048",
     "exception": false,
     "start_time": "2024-03-19T13:27:00.586571",
     "status": "completed"
    },
    "scrolled": true,
    "tags": []
   },
   "outputs": [
    {
     "data": {
      "text/plain": [
       "0"
      ]
     },
     "execution_count": 5,
     "metadata": {},
     "output_type": "execute_result"
    }
   ],
   "source": [
    "# Assuming 'all_hashes' is defined and is a set of byte strings\n",
    "hash_to_idx = {hash_: idx for idx, hash_ in enumerate(all_hashes)}\n",
    "\n",
    "# Define a custom HDF5 datatype for the hash-index pairs\n",
    "dt = np.dtype([('hash', 'S32'), ('index', np.int32)])  # Adjust 'S32' based on your hash length\n",
    "\n",
    "# Convert the hash_to_idx dictionary to a structured array\n",
    "data = np.array(list(hash_to_idx.items()), dtype=dt)\n",
    "with h5py.File('/kaggle/working/hash_to_idx.h5', 'w') as f:\n",
    "    # Create a dataset from the structured array\n",
    "    f.create_dataset('hash_to_idx', data=data)\n",
    "del data\n",
    "gc.collect()"
   ]
  },
  {
   "cell_type": "code",
   "execution_count": 6,
   "id": "f982b827",
   "metadata": {
    "execution": {
     "iopub.execute_input": "2024-03-19T13:28:56.466551Z",
     "iopub.status.busy": "2024-03-19T13:28:56.466170Z",
     "iopub.status.idle": "2024-03-19T14:15:46.800868Z",
     "shell.execute_reply": "2024-03-19T14:15:46.799920Z"
    },
    "papermill": {
     "duration": 2810.967508,
     "end_time": "2024-03-19T14:15:46.802875",
     "exception": false,
     "start_time": "2024-03-19T13:28:55.835367",
     "status": "completed"
    },
    "tags": []
   },
   "outputs": [
    {
     "name": "stderr",
     "output_type": "stream",
     "text": [
      "158100it [45:23, 58.04it/s]\n"
     ]
    },
    {
     "data": {
      "text/plain": [
       "0"
      ]
     },
     "execution_count": 6,
     "metadata": {},
     "output_type": "execute_result"
    }
   ],
   "source": [
    "from scipy.sparse import dok_matrix\n",
    "\n",
    "num_hashes = len(all_hashes)\n",
    "with h5py.File(file_path, 'r') as f:\n",
    "    num_graphs = len(f.keys())\n",
    "    matrix = dok_matrix((num_graphs, num_hashes))\n",
    "    for i, graph_name in tqdm(enumerate(f.keys())):\n",
    "        embedding_hashes = f[graph_name]['embedding'][:]\n",
    "        for embedding_hash in embedding_hashes:\n",
    "            hash_bytes, count = embedding_hash\n",
    "            matrix[i, hash_to_idx[hash_bytes]] = count\n",
    "\n",
    "del hash_to_idx\n",
    "gc.collect()"
   ]
  },
  {
   "cell_type": "code",
   "execution_count": 7,
   "id": "3eed3fb9",
   "metadata": {
    "execution": {
     "iopub.execute_input": "2024-03-19T14:15:51.662127Z",
     "iopub.status.busy": "2024-03-19T14:15:51.661752Z",
     "iopub.status.idle": "2024-03-19T14:17:01.669371Z",
     "shell.execute_reply": "2024-03-19T14:17:01.668361Z"
    },
    "papermill": {
     "duration": 72.517516,
     "end_time": "2024-03-19T14:17:01.672110",
     "exception": false,
     "start_time": "2024-03-19T14:15:49.154594",
     "status": "completed"
    },
    "tags": []
   },
   "outputs": [],
   "source": [
    "# Assuming matrix_csr is already defined\n",
    "matrix_csr = csr_matrix(matrix)\n",
    "del matrix\n",
    "gc.collect()\n",
    "with h5py.File('/kaggle/working/matrix_csr.h5', 'w') as f:\n",
    "    f.create_dataset('data', data=matrix_csr.data)\n",
    "    f.create_dataset('indices', data=matrix_csr.indices)\n",
    "    f.create_dataset('indptr', data=matrix_csr.indptr)\n",
    "    f.create_dataset('shape', data=matrix_csr.shape)"
   ]
  },
  {
   "cell_type": "code",
   "execution_count": 8,
   "id": "19d3413c",
   "metadata": {
    "execution": {
     "iopub.execute_input": "2024-03-19T14:17:06.553778Z",
     "iopub.status.busy": "2024-03-19T14:17:06.553325Z",
     "iopub.status.idle": "2024-03-19T14:17:24.719414Z",
     "shell.execute_reply": "2024-03-19T14:17:24.718160Z"
    },
    "papermill": {
     "duration": 20.618762,
     "end_time": "2024-03-19T14:17:24.721752",
     "exception": false,
     "start_time": "2024-03-19T14:17:04.102990",
     "status": "completed"
    },
    "tags": []
   },
   "outputs": [],
   "source": [
    "# Calculate mean and variance vectors\n",
    "mean_vector = matrix_csr.mean(axis=0)\n",
    "variance_vector = matrix_csr.power(2).mean(axis=0) - np.square(mean_vector)\n",
    "del matrix_csr\n",
    "gc.collect()\n",
    "with h5py.File('/kaggle/working/statistics.h5', 'w') as f:\n",
    "    # Assuming mean_vector and variance_vector are numpy arrays or can be converted to such\n",
    "    f.create_dataset('mean_vector', data=mean_vector)\n",
    "    f.create_dataset('variance_vector', data=variance_vector)"
   ]
  },
  {
   "cell_type": "markdown",
   "id": "80e0e102",
   "metadata": {
    "execution": {
     "iopub.execute_input": "2024-03-19T06:50:24.822076Z",
     "iopub.status.busy": "2024-03-19T06:50:24.821411Z",
     "iopub.status.idle": "2024-03-19T06:51:06.313434Z",
     "shell.execute_reply": "2024-03-19T06:51:06.310570Z",
     "shell.execute_reply.started": "2024-03-19T06:50:24.822025Z"
    },
    "papermill": {
     "duration": 2.62395,
     "end_time": "2024-03-19T14:17:29.780530",
     "exception": false,
     "start_time": "2024-03-19T14:17:27.156580",
     "status": "completed"
    },
    "tags": []
   },
   "source": [
    "from scipy.spatial.distance import cosine\n",
    "from numpy.linalg import norm\n",
    "\n",
    "cos_sims = []\n",
    "mean_vector = np.array(mean_vector).flatten()\n",
    "with h5py.File('/kaggle/working/matrix_csr.h5', 'r') as f:\n",
    "    # Reconstruct the CSR matrix\n",
    "    data = f['data'][:]\n",
    "    indices = f['indices'][:]\n",
    "    indptr = f['indptr'][:]\n",
    "    shape = f['shape'][:]  # shape is stored as a dataset; make sure to extract it correctly\n",
    "    \n",
    "    matrix_csr = csr_matrix((data, indices, indptr), shape=shape)\n",
    "    \n",
    "mean_vector_norm = mean_vector / norm(mean_vector)\n",
    "\n",
    "# Precompute norms for all graph vectors (rows of the CSR matrix)\n",
    "graph_norms = np.linalg.norm(matrix_csr, axis=1)\n",
    "\n",
    "# Calculate dot products of each graph vector with the mean vector efficiently\n",
    "dot_products = matrix_csr.dot(mean_vector_norm)\n",
    "\n",
    "# Compute cosine similarity for each graph\n",
    "cos_sims = dot_products / graph_norms"
   ]
  },
  {
   "cell_type": "code",
   "execution_count": null,
   "id": "c910a2af",
   "metadata": {
    "papermill": {
     "duration": 2.357327,
     "end_time": "2024-03-19T14:17:34.779163",
     "exception": false,
     "start_time": "2024-03-19T14:17:32.421836",
     "status": "completed"
    },
    "tags": []
   },
   "outputs": [],
   "source": []
  }
 ],
 "metadata": {
  "kaggle": {
   "accelerator": "none",
   "dataSources": [
    {
     "sourceId": 166523846,
     "sourceType": "kernelVersion"
    }
   ],
   "dockerImageVersionId": 30664,
   "isGpuEnabled": false,
   "isInternetEnabled": true,
   "language": "python",
   "sourceType": "notebook"
  },
  "kernelspec": {
   "display_name": "Python 3",
   "language": "python",
   "name": "python3"
  },
  "language_info": {
   "codemirror_mode": {
    "name": "ipython",
    "version": 3
   },
   "file_extension": ".py",
   "mimetype": "text/x-python",
   "name": "python",
   "nbconvert_exporter": "python",
   "pygments_lexer": "ipython3",
   "version": "3.10.13"
  },
  "papermill": {
   "default_parameters": {},
   "duration": 4088.411394,
   "end_time": "2024-03-19T14:17:40.466165",
   "environment_variables": {},
   "exception": null,
   "input_path": "__notebook__.ipynb",
   "output_path": "__notebook__.ipynb",
   "parameters": {},
   "start_time": "2024-03-19T13:09:32.054771",
   "version": "2.5.0"
  }
 },
 "nbformat": 4,
 "nbformat_minor": 5
}
