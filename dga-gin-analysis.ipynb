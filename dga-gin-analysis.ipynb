{
 "cells": [
  {
   "cell_type": "code",
   "execution_count": 1,
   "id": "a66f9608",
   "metadata": {
    "execution": {
     "iopub.execute_input": "2024-06-17T13:52:52.073311Z",
     "iopub.status.busy": "2024-06-17T13:52:52.072840Z",
     "iopub.status.idle": "2024-06-17T13:53:25.205657Z",
     "shell.execute_reply": "2024-06-17T13:53:25.203717Z"
    },
    "papermill": {
     "duration": 33.145993,
     "end_time": "2024-06-17T13:53:25.208891",
     "exception": false,
     "start_time": "2024-06-17T13:52:52.062898",
     "status": "completed"
    },
    "tags": []
   },
   "outputs": [
    {
     "name": "stdout",
     "output_type": "stream",
     "text": [
      "Requirement already satisfied: torch in /opt/conda/lib/python3.10/site-packages (2.1.2+cpu)\r\n",
      "Requirement already satisfied: torchvision in /opt/conda/lib/python3.10/site-packages (0.16.2+cpu)\r\n",
      "Requirement already satisfied: torchaudio in /opt/conda/lib/python3.10/site-packages (2.1.2+cpu)\r\n",
      "Requirement already satisfied: filelock in /opt/conda/lib/python3.10/site-packages (from torch) (3.13.1)\r\n",
      "Requirement already satisfied: typing-extensions in /opt/conda/lib/python3.10/site-packages (from torch) (4.9.0)\r\n",
      "Requirement already satisfied: sympy in /opt/conda/lib/python3.10/site-packages (from torch) (1.12.1)\r\n",
      "Requirement already satisfied: networkx in /opt/conda/lib/python3.10/site-packages (from torch) (3.2.1)\r\n",
      "Requirement already satisfied: jinja2 in /opt/conda/lib/python3.10/site-packages (from torch) (3.1.2)\r\n",
      "Requirement already satisfied: fsspec in /opt/conda/lib/python3.10/site-packages (from torch) (2024.3.1)\r\n",
      "Requirement already satisfied: numpy in /opt/conda/lib/python3.10/site-packages (from torchvision) (1.26.4)\r\n",
      "Requirement already satisfied: requests in /opt/conda/lib/python3.10/site-packages (from torchvision) (2.32.3)\r\n",
      "Requirement already satisfied: pillow!=8.3.*,>=5.3.0 in /opt/conda/lib/python3.10/site-packages (from torchvision) (9.5.0)\r\n",
      "Requirement already satisfied: MarkupSafe>=2.0 in /opt/conda/lib/python3.10/site-packages (from jinja2->torch) (2.1.3)\r\n",
      "Requirement already satisfied: charset-normalizer<4,>=2 in /opt/conda/lib/python3.10/site-packages (from requests->torchvision) (3.3.2)\r\n",
      "Requirement already satisfied: idna<4,>=2.5 in /opt/conda/lib/python3.10/site-packages (from requests->torchvision) (3.6)\r\n",
      "Requirement already satisfied: urllib3<3,>=1.21.1 in /opt/conda/lib/python3.10/site-packages (from requests->torchvision) (1.26.18)\r\n",
      "Requirement already satisfied: certifi>=2017.4.17 in /opt/conda/lib/python3.10/site-packages (from requests->torchvision) (2024.2.2)\r\n",
      "Requirement already satisfied: mpmath<1.4.0,>=1.1.0 in /opt/conda/lib/python3.10/site-packages (from sympy->torch) (1.3.0)\r\n",
      "Requirement already satisfied: torch in /opt/conda/lib/python3.10/site-packages (2.1.2+cpu)\r\n",
      "Collecting torch-geometric\r\n",
      "  Downloading torch_geometric-2.5.3-py3-none-any.whl.metadata (64 kB)\r\n",
      "\u001b[2K     \u001b[90m━━━━━━━━━━━━━━━━━━━━━━━━━━━━━━━━━━━━━━━━\u001b[0m \u001b[32m64.2/64.2 kB\u001b[0m \u001b[31m2.4 MB/s\u001b[0m eta \u001b[36m0:00:00\u001b[0m\r\n",
      "\u001b[?25hRequirement already satisfied: filelock in /opt/conda/lib/python3.10/site-packages (from torch) (3.13.1)\r\n",
      "Requirement already satisfied: typing-extensions in /opt/conda/lib/python3.10/site-packages (from torch) (4.9.0)\r\n",
      "Requirement already satisfied: sympy in /opt/conda/lib/python3.10/site-packages (from torch) (1.12.1)\r\n",
      "Requirement already satisfied: networkx in /opt/conda/lib/python3.10/site-packages (from torch) (3.2.1)\r\n",
      "Requirement already satisfied: jinja2 in /opt/conda/lib/python3.10/site-packages (from torch) (3.1.2)\r\n",
      "Requirement already satisfied: fsspec in /opt/conda/lib/python3.10/site-packages (from torch) (2024.3.1)\r\n",
      "Requirement already satisfied: tqdm in /opt/conda/lib/python3.10/site-packages (from torch-geometric) (4.66.4)\r\n",
      "Requirement already satisfied: numpy in /opt/conda/lib/python3.10/site-packages (from torch-geometric) (1.26.4)\r\n",
      "Requirement already satisfied: scipy in /opt/conda/lib/python3.10/site-packages (from torch-geometric) (1.11.4)\r\n",
      "Requirement already satisfied: aiohttp in /opt/conda/lib/python3.10/site-packages (from torch-geometric) (3.9.1)\r\n",
      "Requirement already satisfied: requests in /opt/conda/lib/python3.10/site-packages (from torch-geometric) (2.32.3)\r\n",
      "Requirement already satisfied: pyparsing in /opt/conda/lib/python3.10/site-packages (from torch-geometric) (3.1.1)\r\n",
      "Requirement already satisfied: scikit-learn in /opt/conda/lib/python3.10/site-packages (from torch-geometric) (1.2.2)\r\n",
      "Requirement already satisfied: psutil>=5.8.0 in /opt/conda/lib/python3.10/site-packages (from torch-geometric) (5.9.3)\r\n",
      "Requirement already satisfied: attrs>=17.3.0 in /opt/conda/lib/python3.10/site-packages (from aiohttp->torch-geometric) (23.2.0)\r\n",
      "Requirement already satisfied: multidict<7.0,>=4.5 in /opt/conda/lib/python3.10/site-packages (from aiohttp->torch-geometric) (6.0.4)\r\n",
      "Requirement already satisfied: yarl<2.0,>=1.0 in /opt/conda/lib/python3.10/site-packages (from aiohttp->torch-geometric) (1.9.3)\r\n",
      "Requirement already satisfied: frozenlist>=1.1.1 in /opt/conda/lib/python3.10/site-packages (from aiohttp->torch-geometric) (1.4.1)\r\n",
      "Requirement already satisfied: aiosignal>=1.1.2 in /opt/conda/lib/python3.10/site-packages (from aiohttp->torch-geometric) (1.3.1)\r\n",
      "Requirement already satisfied: async-timeout<5.0,>=4.0 in /opt/conda/lib/python3.10/site-packages (from aiohttp->torch-geometric) (4.0.3)\r\n",
      "Requirement already satisfied: MarkupSafe>=2.0 in /opt/conda/lib/python3.10/site-packages (from jinja2->torch) (2.1.3)\r\n",
      "Requirement already satisfied: charset-normalizer<4,>=2 in /opt/conda/lib/python3.10/site-packages (from requests->torch-geometric) (3.3.2)\r\n",
      "Requirement already satisfied: idna<4,>=2.5 in /opt/conda/lib/python3.10/site-packages (from requests->torch-geometric) (3.6)\r\n",
      "Requirement already satisfied: urllib3<3,>=1.21.1 in /opt/conda/lib/python3.10/site-packages (from requests->torch-geometric) (1.26.18)\r\n",
      "Requirement already satisfied: certifi>=2017.4.17 in /opt/conda/lib/python3.10/site-packages (from requests->torch-geometric) (2024.2.2)\r\n",
      "Requirement already satisfied: joblib>=1.1.1 in /opt/conda/lib/python3.10/site-packages (from scikit-learn->torch-geometric) (1.4.2)\r\n",
      "Requirement already satisfied: threadpoolctl>=2.0.0 in /opt/conda/lib/python3.10/site-packages (from scikit-learn->torch-geometric) (3.2.0)\r\n",
      "Requirement already satisfied: mpmath<1.4.0,>=1.1.0 in /opt/conda/lib/python3.10/site-packages (from sympy->torch) (1.3.0)\r\n",
      "Downloading torch_geometric-2.5.3-py3-none-any.whl (1.1 MB)\r\n",
      "\u001b[2K   \u001b[90m━━━━━━━━━━━━━━━━━━━━━━━━━━━━━━━━━━━━━━━━\u001b[0m \u001b[32m1.1/1.1 MB\u001b[0m \u001b[31m19.9 MB/s\u001b[0m eta \u001b[36m0:00:00\u001b[0m\r\n",
      "\u001b[?25hInstalling collected packages: torch-geometric\r\n",
      "Successfully installed torch-geometric-2.5.3\r\n"
     ]
    }
   ],
   "source": [
    "if 'first_run' not in globals():\n",
    "    !pip install torch torchvision torchaudio\n",
    "    !pip install torch torch-geometric\n",
    "    first_run = False\n",
    "else:\n",
    "    pass"
   ]
  },
  {
   "cell_type": "code",
   "execution_count": 2,
   "id": "eafed069",
   "metadata": {
    "_cell_guid": "b1076dfc-b9ad-4769-8c92-a6c4dae69d19",
    "_uuid": "8f2839f25d086af736a60e9eeb907d3b93b6e0e5",
    "execution": {
     "iopub.execute_input": "2024-06-17T13:53:25.230771Z",
     "iopub.status.busy": "2024-06-17T13:53:25.230293Z",
     "iopub.status.idle": "2024-06-17T13:53:35.415997Z",
     "shell.execute_reply": "2024-06-17T13:53:35.414822Z"
    },
    "papermill": {
     "duration": 10.200201,
     "end_time": "2024-06-17T13:53:35.418998",
     "exception": false,
     "start_time": "2024-06-17T13:53:25.218797",
     "status": "completed"
    },
    "tags": []
   },
   "outputs": [
    {
     "name": "stdout",
     "output_type": "stream",
     "text": [
      "/kaggle/input/dd-dga/__results__.html\n",
      "/kaggle/input/dd-dga/DD.pt\n",
      "/kaggle/input/dd-dga/DD_train_indices_dict.pkl\n",
      "/kaggle/input/dd-dga/__notebook__.ipynb\n",
      "/kaggle/input/dd-dga/__output__.json\n",
      "/kaggle/input/dd-dga/custom.css\n",
      "/kaggle/input/enzymes-dga/__results__.html\n",
      "/kaggle/input/enzymes-dga/ENZYMES.pt\n",
      "/kaggle/input/enzymes-dga/__notebook__.ipynb\n",
      "/kaggle/input/enzymes-dga/__output__.json\n",
      "/kaggle/input/enzymes-dga/ENZYMES_train_indices_dict.pkl\n",
      "/kaggle/input/enzymes-dga/custom.css\n",
      "/kaggle/input/mutag-dga/MUTAG.pt\n",
      "/kaggle/input/mutag-dga/MUTAG_train_indices_dict.pkl\n",
      "/kaggle/input/mutag-dga/__results__.html\n",
      "/kaggle/input/mutag-dga/__notebook__.ipynb\n",
      "/kaggle/input/mutag-dga/__output__.json\n",
      "/kaggle/input/mutag-dga/custom.css\n",
      "/kaggle/input/nci1-dga/NCI1.pt\n",
      "/kaggle/input/nci1-dga/__results__.html\n",
      "/kaggle/input/nci1-dga/NCI1_train_indices_dict.pkl\n",
      "/kaggle/input/nci1-dga/__notebook__.ipynb\n",
      "/kaggle/input/nci1-dga/__output__.json\n",
      "/kaggle/input/nci1-dga/custom.css\n",
      "/kaggle/input/nci109-dga/__results__.html\n",
      "/kaggle/input/nci109-dga/__notebook__.ipynb\n",
      "/kaggle/input/nci109-dga/NCI109_train_indices_dict.pkl\n",
      "/kaggle/input/nci109-dga/__output__.json\n",
      "/kaggle/input/nci109-dga/NCI109.pt\n",
      "/kaggle/input/nci109-dga/custom.css\n",
      "/kaggle/input/proteins-dga/PROTEINS_train_indices_dict.pkl\n",
      "/kaggle/input/proteins-dga/__results__.html\n",
      "/kaggle/input/proteins-dga/PROTEINS.pt\n",
      "/kaggle/input/proteins-dga/__notebook__.ipynb\n",
      "/kaggle/input/proteins-dga/__output__.json\n",
      "/kaggle/input/proteins-dga/custom.css\n"
     ]
    }
   ],
   "source": [
    "# This Python 3 environment comes with many helpful analytics libraries installed\n",
    "# It is defined by the kaggle/python Docker image: https://github.com/kaggle/docker-python\n",
    "# For example, here's several helpful packages to load\n",
    "\n",
    "import numpy as np # linear algebra\n",
    "import pandas as pd # data processing, CSV file I/O (e.g. pd.read_csv)\n",
    "import pickle\n",
    "\n",
    "# Input data files are available in the read-only \"../input/\" directory\n",
    "# For example, running this (by clicking run or pressing Shift+Enter) will list all files under the input directory\n",
    "\n",
    "import os\n",
    "for dirname, _, filenames in os.walk('/kaggle/input'):\n",
    "    for filename in filenames:\n",
    "        print(os.path.join(dirname, filename))\n",
    "        \n",
    "import torch\n",
    "import torch.nn.functional as F\n",
    "import torch_geometric\n",
    "from torch_geometric.nn import GCNConv\n",
    "import hashlib\n",
    "import numpy as np\n",
    "import torch\n",
    "import torch.nn as nn\n",
    "from torch_geometric.transforms import BaseTransform\n",
    "from torch_geometric.nn import GCNConv, global_mean_pool, BatchNorm\n",
    "from torch_geometric.utils import to_scipy_sparse_matrix\n",
    "from torch_geometric.data import Data\n",
    "from torch_geometric.io import fs, read_txt_array\n",
    "import torch_geometric.transforms as T\n",
    "# from torch_geometric.datasets import TUDataset\n",
    "from torch_geometric.data import Data, InMemoryDataset\n",
    "from torch_geometric.data import DataLoader\n",
    "import math\n",
    "from typing import Callable, List, Optional, Tuple, Dict\n",
    "from torch import Tensor\n",
    "import os\n",
    "import requests\n",
    "from torch_geometric.utils import coalesce, cumsum, one_hot, remove_self_loops\n",
    "from sklearn.metrics import confusion_matrix\n",
    "from torch.cuda.amp import GradScaler, autocast\n",
    "import os.path as osp\n",
    "\n",
    "import numpy as np\n",
    "import torch\n",
    "import torch.nn.functional as F\n",
    "import torch_geometric.transforms as T\n",
    "from sklearn.model_selection import KFold\n",
    "from sklearn.model_selection import train_test_split\n",
    "from torch_geometric.data import DataLoader\n",
    "from torch_geometric.datasets import TUDataset\n",
    "from torch_geometric.utils import degree\n",
    "import torch\n",
    "import torch.nn.functional as F\n",
    "from torch.nn import Linear, Sequential, ReLU, BatchNorm1d as BN\n",
    "from torch_geometric.nn import GINConv, global_mean_pool, JumpingKnowledge\n",
    "from torch_geometric.nn import MessagePassing\n",
    "from torch_geometric.nn.inits import reset\n",
    "# You can write up to 20GB to the current directory (/kaggle/working/) that gets preserved as output when you create a version using \"Save & Run All\" \n",
    "# You can also write temporary files to /kaggle/temp/, but they won't be saved outside of the current session"
   ]
  },
  {
   "cell_type": "code",
   "execution_count": 3,
   "id": "581da09a",
   "metadata": {
    "execution": {
     "iopub.execute_input": "2024-06-17T13:53:35.442390Z",
     "iopub.status.busy": "2024-06-17T13:53:35.441764Z",
     "iopub.status.idle": "2024-06-17T13:53:35.457290Z",
     "shell.execute_reply": "2024-06-17T13:53:35.456033Z"
    },
    "papermill": {
     "duration": 0.029884,
     "end_time": "2024-06-17T13:53:35.460137",
     "exception": false,
     "start_time": "2024-06-17T13:53:35.430253",
     "status": "completed"
    },
    "tags": []
   },
   "outputs": [],
   "source": [
    "class IDAddingDataset:\n",
    "    def __init__(self, dataset, attr_func):\n",
    "        self.dataset = dataset\n",
    "        self.attr_func = attr_func\n",
    "        self.indices = np.arange(0, len(dataset.indices()))\n",
    "    \n",
    "    def __getitem__(self, idx):\n",
    "        data = self.dataset[idx].clone()  # Clone the data to avoid modifying the original dataset\n",
    "        data.id = self.indices[idx]\n",
    "        data.num_edges = self.dataset[idx].edge_index.size(1)\n",
    "        data.adj_mat = to_scipy_sparse_matrix(self.dataset[idx].edge_index, num_nodes=self.dataset[idx].num_nodes).toarray().astype(int)\n",
    "        return data\n",
    "    \n",
    "    def __len__(self):\n",
    "        return len(self.dataset)\n",
    "class EmbeddingAddingDataset:\n",
    "    def __init__(self, dataset, embedding_dict):\n",
    "        self.dataset = dataset\n",
    "        self.embedding_dict = embedding_dict\n",
    "    \n",
    "    def __getitem__(self, idx):\n",
    "        data = self.dataset[idx].clone()  # Clone the data to avoid modifying the original dataset\n",
    "        data.embedding = self.embedding_dict[self.dataset[idx].id]\n",
    "        return data\n",
    "    \n",
    "    def __len__(self):\n",
    "        return len(self.dataset)\n",
    "class FinalAddingDataset:\n",
    "    def __init__(self, Embedding_dataset, cos_sims, all_z_scores):\n",
    "        self.dataset = Embedding_dataset\n",
    "        self.cos_sims = cos_sims\n",
    "        self.all_z_scores = all_z_scores\n",
    "        \n",
    "    \n",
    "    def __getitem__(self, idx):\n",
    "        data = self.dataset[idx].clone()  # Clone the data to avoid modifying the original dataset\n",
    "        data.cos_sim = self.cos_sims[self.dataset[idx].id]\n",
    "        data.z_score = self.all_z_scores[self.dataset[idx].id]\n",
    "        return data\n",
    "    \n",
    "    def __len__(self):\n",
    "        return len(self.dataset)"
   ]
  },
  {
   "cell_type": "code",
   "execution_count": 4,
   "id": "989003d6",
   "metadata": {
    "execution": {
     "iopub.execute_input": "2024-06-17T13:53:35.481736Z",
     "iopub.status.busy": "2024-06-17T13:53:35.481325Z",
     "iopub.status.idle": "2024-06-17T13:53:35.488443Z",
     "shell.execute_reply": "2024-06-17T13:53:35.487290Z"
    },
    "papermill": {
     "duration": 0.020944,
     "end_time": "2024-06-17T13:53:35.491120",
     "exception": false,
     "start_time": "2024-06-17T13:53:35.470176",
     "status": "completed"
    },
    "tags": []
   },
   "outputs": [],
   "source": [
    "class TrainDatasetWrapper:\n",
    "    def __init__(self, dataset):\n",
    "        self.dataset = dataset\n",
    "    \n",
    "    def __getitem__(self, idx):\n",
    "        data = self.dataset[idx].clone()  # Clone to avoid modifying the original dataset\n",
    "        return Data(edge_index=data.edge_index, x=data.x, y=data.y.item())  # Return only necessary attributes\n",
    "    \n",
    "    def __len__(self):\n",
    "        return len(self.dataset)"
   ]
  },
  {
   "cell_type": "code",
   "execution_count": 5,
   "id": "c3261276",
   "metadata": {
    "execution": {
     "iopub.execute_input": "2024-06-17T13:53:35.512289Z",
     "iopub.status.busy": "2024-06-17T13:53:35.511898Z",
     "iopub.status.idle": "2024-06-17T13:53:35.519050Z",
     "shell.execute_reply": "2024-06-17T13:53:35.517801Z"
    },
    "papermill": {
     "duration": 0.020614,
     "end_time": "2024-06-17T13:53:35.521477",
     "exception": false,
     "start_time": "2024-06-17T13:53:35.500863",
     "status": "completed"
    },
    "tags": []
   },
   "outputs": [],
   "source": [
    "class SubsetDataset:\n",
    "    def __init__(self, full_dataset, indices):\n",
    "        self.dataset = full_dataset\n",
    "        self.indices = indices\n",
    "\n",
    "    def __getitem__(self, idx):\n",
    "        actual_idx = self.indices[idx]\n",
    "        return self.dataset[actual_idx]\n",
    "\n",
    "    def __len__(self):\n",
    "        return len(self.indices)\n"
   ]
  },
  {
   "cell_type": "code",
   "execution_count": 6,
   "id": "d0a57fb2",
   "metadata": {
    "execution": {
     "iopub.execute_input": "2024-06-17T13:53:35.543227Z",
     "iopub.status.busy": "2024-06-17T13:53:35.542826Z",
     "iopub.status.idle": "2024-06-17T13:53:35.550328Z",
     "shell.execute_reply": "2024-06-17T13:53:35.549002Z"
    },
    "papermill": {
     "duration": 0.021131,
     "end_time": "2024-06-17T13:53:35.552737",
     "exception": false,
     "start_time": "2024-06-17T13:53:35.531606",
     "status": "completed"
    },
    "tags": []
   },
   "outputs": [],
   "source": [
    "class NormalizedDegree(object):\n",
    "    def __init__(self, mean, std):\n",
    "        self.mean = mean\n",
    "        self.std = std\n",
    "\n",
    "    def __call__(self, data):\n",
    "        deg = degree(data.edge_index[0], dtype=torch.float)\n",
    "        deg = (deg - self.mean) / self.std\n",
    "        data.x = deg.view(-1, 1)\n",
    "        return data"
   ]
  },
  {
   "cell_type": "code",
   "execution_count": 7,
   "id": "b297adca",
   "metadata": {
    "execution": {
     "iopub.execute_input": "2024-06-17T13:53:35.574013Z",
     "iopub.status.busy": "2024-06-17T13:53:35.573582Z",
     "iopub.status.idle": "2024-06-17T13:53:35.586903Z",
     "shell.execute_reply": "2024-06-17T13:53:35.585597Z"
    },
    "papermill": {
     "duration": 0.02724,
     "end_time": "2024-06-17T13:53:35.589585",
     "exception": false,
     "start_time": "2024-06-17T13:53:35.562345",
     "status": "completed"
    },
    "tags": []
   },
   "outputs": [],
   "source": [
    "class GCN(torch.nn.Module):\n",
    "    def __init__(self, num_features, num_classes):\n",
    "        super(GCN, self).__init__()\n",
    "        self.conv1 = GCNConv(num_features, 16)\n",
    "        self.bn1 = BatchNorm(16)\n",
    "        self.conv2 = GCNConv(16, 32)\n",
    "        self.bn2 = BatchNorm(32)\n",
    "        self.conv3 = GCNConv(32, 64)\n",
    "        self.bn3 = BatchNorm(64)\n",
    "        self.conv4 = GCNConv(64, 128)\n",
    "        self.bn4 = BatchNorm(128)\n",
    "        self.fc1 = torch.nn.Linear(128, 64)\n",
    "        self.fc2 = torch.nn.Linear(64, num_classes)\n",
    "\n",
    "    def forward(self, data):\n",
    "        x, edge_index = data.x, data.edge_index\n",
    "\n",
    "        # Apply the first convolution and batch normalization\n",
    "        x = F.relu(self.bn1(self.conv1(x, edge_index)))\n",
    "        x = F.dropout(x, training=self.training)\n",
    "\n",
    "        # Apply the second convolution and batch normalization\n",
    "        x = F.relu(self.bn2(self.conv2(x, edge_index)))\n",
    "\n",
    "        # Apply the third convolution and batch normalization\n",
    "        x = F.relu(self.bn3(self.conv3(x, edge_index)))\n",
    "\n",
    "        # Apply the fourth convolution and batch normalization\n",
    "        x = F.relu(self.bn4(self.conv4(x, edge_index)))\n",
    "\n",
    "        # Global mean pooling\n",
    "        x = global_mean_pool(x, data.batch)\n",
    "\n",
    "        # MLP for the final output\n",
    "        x = F.relu(self.fc1(x))\n",
    "        x = self.fc2(x)\n",
    "        \n",
    "        return x  # Return logits for use with nn.CrossEntropyLoss"
   ]
  },
  {
   "cell_type": "code",
   "execution_count": 8,
   "id": "34c00ab0",
   "metadata": {
    "execution": {
     "iopub.execute_input": "2024-06-17T13:53:35.612352Z",
     "iopub.status.busy": "2024-06-17T13:53:35.611451Z",
     "iopub.status.idle": "2024-06-17T13:53:35.625127Z",
     "shell.execute_reply": "2024-06-17T13:53:35.623943Z"
    },
    "papermill": {
     "duration": 0.027891,
     "end_time": "2024-06-17T13:53:35.627697",
     "exception": false,
     "start_time": "2024-06-17T13:53:35.599806",
     "status": "completed"
    },
    "tags": []
   },
   "outputs": [],
   "source": [
    "# Taken from https://github.com/rusty1s/pytorch_geometric/blob/master/benchmark/kernel/gin.py.\n",
    "class GIN(torch.nn.Module):\n",
    "    def __init__(self, dataset, num_layers, hidden, num_classes):\n",
    "        super(GIN, self).__init__()\n",
    "        self.conv1 = GINConv(Sequential(\n",
    "            Linear(dataset[0].num_features, hidden),\n",
    "            ReLU(),\n",
    "            Linear(hidden, hidden),\n",
    "            ReLU(),\n",
    "            BN(hidden),\n",
    "        ),\n",
    "            train_eps=True)\n",
    "        self.convs = torch.nn.ModuleList()\n",
    "        for i in range(num_layers - 1):\n",
    "            self.convs.append(\n",
    "                GINConv(Sequential(\n",
    "                    Linear(hidden, hidden),\n",
    "                    ReLU(),\n",
    "                    Linear(hidden, hidden),\n",
    "                    ReLU(),\n",
    "                    BN(hidden),\n",
    "                ),\n",
    "                    train_eps=True))\n",
    "        self.lin1 = Linear(hidden, hidden)\n",
    "        self.lin2 = Linear(hidden, num_classes)\n",
    "\n",
    "    def reset_parameters(self):\n",
    "        self.conv1.reset_parameters()\n",
    "        for conv in self.convs:\n",
    "            conv.reset_parameters()\n",
    "        self.lin1.reset_parameters()\n",
    "        self.lin2.reset_parameters()\n",
    "\n",
    "    def forward(self, data):\n",
    "        x, edge_index, batch = data.x, data.edge_index, data.batch\n",
    "        x = self.conv1(x, edge_index)\n",
    "        for conv in self.convs:\n",
    "            x = conv(x, edge_index)\n",
    "\n",
    "        x = global_mean_pool(x, batch)\n",
    "\n",
    "        x = F.relu(self.lin1(x))\n",
    "        x = F.dropout(x, p=0.5, training=self.training)\n",
    "        x = self.lin2(x)\n",
    "        return F.log_softmax(x, dim=-1)\n",
    "\n",
    "    def __repr__(self):\n",
    "        return self.__class__.__name__"
   ]
  },
  {
   "cell_type": "code",
   "execution_count": 9,
   "id": "4d999c43",
   "metadata": {
    "execution": {
     "iopub.execute_input": "2024-06-17T13:53:35.649222Z",
     "iopub.status.busy": "2024-06-17T13:53:35.648752Z",
     "iopub.status.idle": "2024-06-17T13:53:35.665030Z",
     "shell.execute_reply": "2024-06-17T13:53:35.663846Z"
    },
    "papermill": {
     "duration": 0.030164,
     "end_time": "2024-06-17T13:53:35.667706",
     "exception": false,
     "start_time": "2024-06-17T13:53:35.637542",
     "status": "completed"
    },
    "tags": []
   },
   "outputs": [],
   "source": [
    "# Taken from https://github.com/rusty1s/pytorch_geometric/blob/master/benchmark/kernel/gin.py.\n",
    "class GINWithJK(torch.nn.Module):\n",
    "    def __init__(self, dataset, num_layers, hidden, mode='cat'):\n",
    "        super(GINWithJK, self).__init__()\n",
    "        self.conv1 = GINConv(Sequential(\n",
    "            Linear(dataset[0].num_features, hidden),\n",
    "            ReLU(),\n",
    "            Linear(hidden, hidden),\n",
    "            ReLU(),\n",
    "            BN(hidden),\n",
    "        ),\n",
    "            train_eps=True)\n",
    "        self.convs = torch.nn.ModuleList()\n",
    "        for i in range(num_layers - 1):\n",
    "            self.convs.append(\n",
    "                GINConv(Sequential(\n",
    "                    Linear(hidden, hidden),\n",
    "                    ReLU(),\n",
    "                    Linear(hidden, hidden),\n",
    "                    ReLU(),\n",
    "                    BN(hidden),\n",
    "                ),\n",
    "                    train_eps=True))\n",
    "        self.jump = JumpingKnowledge(mode)\n",
    "        if mode == 'cat':\n",
    "            self.lin1 = Linear(num_layers * hidden, hidden)\n",
    "        else:\n",
    "            self.lin1 = Linear(hidden, hidden)\n",
    "        self.lin2 = Linear(hidden, num_classes)\n",
    "\n",
    "    def reset_parameters(self):\n",
    "        self.conv1.reset_parameters()\n",
    "        for conv in self.convs:\n",
    "            conv.reset_parameters()\n",
    "        self.jump.reset_parameters()\n",
    "        self.lin1.reset_parameters()\n",
    "        self.lin2.reset_parameters()\n",
    "\n",
    "    def forward(self, data):\n",
    "        x, edge_index, batch = data.x, data.edge_index, data.batch\n",
    "        x = self.conv1(x, edge_index)\n",
    "        xs = [x]\n",
    "        for conv in self.convs:\n",
    "            x = conv(x, edge_index)\n",
    "            xs += [x]\n",
    "        x = self.jump(xs)\n",
    "        x = global_mean_pool(x, batch)\n",
    "        x = F.relu(self.lin1(x))\n",
    "        x = F.dropout(x, p=0.5, training=self.training)\n",
    "        x = self.lin2(x)\n",
    "        return F.log_softmax(x, dim=-1)\n",
    "\n",
    "    def __repr__(self):\n",
    "        return self.__class__.__name__\n"
   ]
  },
  {
   "cell_type": "code",
   "execution_count": 10,
   "id": "44c59fc4",
   "metadata": {
    "execution": {
     "iopub.execute_input": "2024-06-17T13:53:35.689032Z",
     "iopub.status.busy": "2024-06-17T13:53:35.688601Z",
     "iopub.status.idle": "2024-06-17T13:53:35.699152Z",
     "shell.execute_reply": "2024-06-17T13:53:35.697999Z"
    },
    "papermill": {
     "duration": 0.024022,
     "end_time": "2024-06-17T13:53:35.701546",
     "exception": false,
     "start_time": "2024-06-17T13:53:35.677524",
     "status": "completed"
    },
    "tags": []
   },
   "outputs": [],
   "source": [
    "def split_data(name, data, train_indices_dict, all_or_class = 'class', characterization_method = 'random', percentile = 90):\n",
    "    # Assuming 'data.__len__()' returns the total number of instances in the dataset\n",
    "    all_indices = set(range(data.__len__()))\n",
    "\n",
    "    # Assuming 'train_val' contains the combined set of training and validation indices\n",
    "    train_val = set(train_indices_dict[name][all_or_class][characterization_method][percentile])\n",
    "    # Convert train_val to a numpy array if not already\n",
    "    train_val_indices = np.array(list(train_val))\n",
    "    test_set = all_indices - train_val\n",
    "    test_indices = np.array(list(test_set))\n",
    "    # Randomly select 80% of the indices for training\n",
    "    train_indices = np.random.choice(train_val_indices, size=int(0.8 * len(train_val_indices)), replace=False)\n",
    "\n",
    "    # Convert train_indices back to a set to perform set subtraction\n",
    "    train_set = set(train_indices)\n",
    "\n",
    "    # The remaining 20% will be for validation\n",
    "    val_indices = np.array(list(set(train_val) - train_set))\n",
    "    indices = {\n",
    "    'train': train_indices,  # fill with your training indices\n",
    "    'val': val_indices,    # fill with your validation indices\n",
    "    'test': test_indices    # fill with your testing indices\n",
    "    }\n",
    "    train_dataset = SubsetDataset(data, indices['train'])\n",
    "    val_dataset = SubsetDataset(data, indices['val'])\n",
    "    test_dataset = SubsetDataset(data, indices['test'])\n",
    "    \n",
    "    return train_dataset, test_dataset, val_dataset"
   ]
  },
  {
   "cell_type": "code",
   "execution_count": 11,
   "id": "896bbca4",
   "metadata": {
    "execution": {
     "iopub.execute_input": "2024-06-17T13:53:35.722962Z",
     "iopub.status.busy": "2024-06-17T13:53:35.722482Z",
     "iopub.status.idle": "2024-06-17T13:53:35.731597Z",
     "shell.execute_reply": "2024-06-17T13:53:35.730303Z"
    },
    "papermill": {
     "duration": 0.023165,
     "end_time": "2024-06-17T13:53:35.734403",
     "exception": false,
     "start_time": "2024-06-17T13:53:35.711238",
     "status": "completed"
    },
    "tags": []
   },
   "outputs": [],
   "source": [
    "def calculate_global_metrics(all_labels, all_preds):\n",
    "    # Determine the number of unique classes\n",
    "    unique_classes = np.unique(all_labels)\n",
    "    cm = confusion_matrix(all_labels, all_preds)\n",
    "    tp = np.diag(cm).sum()\n",
    "    pop = len(all_preds)  # Total number of predictions\n",
    "    \n",
    "    if len(unique_classes) == 2:\n",
    "        # Binary classification\n",
    "        tn, fp, fn, tp = cm.ravel()\n",
    "    else:\n",
    "        # Multi-class classification\n",
    "        fp = cm.sum(axis=0) - np.diag(cm)  # False positives are summed over columns, exclude true positives\n",
    "        fn = cm.sum(axis=1) - np.diag(cm)  # False negatives are summed over rows, exclude true positives\n",
    "        tn = None  # True negatives are not defined the same way in multi-class scenarios\n",
    "\n",
    "        # Sum FP and FN for overall metrics\n",
    "        fp = fp.sum()\n",
    "        fn = fn.sum()\n",
    "\n",
    "    # Calculate accuracy, handling cases where TN is not used\n",
    "    acc = tp / pop\n",
    "\n",
    "    return acc, tn, fp, fn, tp"
   ]
  },
  {
   "cell_type": "code",
   "execution_count": 12,
   "id": "d5e478b5",
   "metadata": {
    "execution": {
     "iopub.execute_input": "2024-06-17T13:53:35.756311Z",
     "iopub.status.busy": "2024-06-17T13:53:35.755883Z",
     "iopub.status.idle": "2024-06-17T13:53:35.778940Z",
     "shell.execute_reply": "2024-06-17T13:53:35.777690Z"
    },
    "papermill": {
     "duration": 0.037377,
     "end_time": "2024-06-17T13:53:35.781720",
     "exception": false,
     "start_time": "2024-06-17T13:53:35.744343",
     "status": "completed"
    },
    "tags": []
   },
   "outputs": [],
   "source": [
    "def gnn_train(train_loader, model, optimizer, device):\n",
    "    model.train()\n",
    "\n",
    "    for data in train_loader:\n",
    "        data = data.to(device)\n",
    "        optimizer.zero_grad()\n",
    "        output = model(data)\n",
    "        loss = F.nll_loss(output, data.y)\n",
    "        loss.backward()\n",
    "        optimizer.step()\n",
    "        return loss\n",
    "\n",
    "\n",
    "# Get acc. of GNN model.\n",
    "def gnn_test(loader, model, device):\n",
    "    model.eval()\n",
    "    all_preds = []\n",
    "    all_labels = []\n",
    "    correct = 0\n",
    "    for data in loader:\n",
    "        data = data.to(device)\n",
    "        output = model(data)\n",
    "        pred = output.max(dim=1)[1]\n",
    "        correct += pred.eq(data.y).sum().item()\n",
    "        all_preds.extend(pred.cpu().numpy())  # Store predictions\n",
    "        all_labels.extend(data.y.cpu().numpy())\n",
    "    return calculate_global_metrics(all_labels, all_preds)\n",
    "def gnn_evaluation(\n",
    "    gnn, \n",
    "    ds_name, \n",
    "    dataset, \n",
    "    train_indices_dict, \n",
    "    _all_or_class, \n",
    "    method, \n",
    "    layers, \n",
    "    hidden, \n",
    "    num_classes,\n",
    "    max_num_epochs=200, \n",
    "    batch_size=128, \n",
    "    start_lr=0.01, \n",
    "    min_lr = 0.000001, \n",
    "    factor=0.5, \n",
    "    patience=5,\n",
    "    num_repetitions=10, \n",
    "    all_std=True\n",
    "):\n",
    "    # One-hot degree if node labels are not available.\n",
    "    # The following if clause is taken from  https://github.com/rusty1s/pytorch_geometric/blob/master/benchmark/kernel/datasets.py.\n",
    "#     if dataset.data.x is None:\n",
    "#         max_degree = 0\n",
    "#         degs = []\n",
    "#         for data in dataset:\n",
    "#             degs += [degree(data.edge_index[0], dtype=torch.long)]\n",
    "#             max_degree = max(max_degree, degs[-1].max().item())\n",
    "\n",
    "#         if max_degree < 1000:\n",
    "#             dataset.transform = T.OneHotDegree(max_degree)\n",
    "#         else:\n",
    "#             deg = torch.cat(degs, dim=0).to(torch.float)\n",
    "#             mean, std = deg.mean().item(), deg.std().item()\n",
    "#             dataset.transform = NormalizedDegree(mean, std)\n",
    "\n",
    "#     # Set device.\n",
    "    device = torch.device('cuda' if torch.cuda.is_available() else 'cpu')\n",
    "\n",
    "    test_accuracies_all = []\n",
    "    test_accuracies_complete = []\n",
    "\n",
    "    # Test acc. over all folds.\n",
    "    test_accuracies = []\n",
    "\n",
    "\n",
    "    best_val_acc = 0.0\n",
    "    best_test = 0.0\n",
    "\n",
    "    # Split data.\n",
    "    train_dataset, test_dataset, val_dataset = split_data(\n",
    "        ds_name,\n",
    "        dataset, \n",
    "        train_indices_dict, \n",
    "        all_or_class = _all_or_class, \n",
    "        characterization_method = method, \n",
    "        percentile = pctl\n",
    "    )\n",
    "    \n",
    "    # Prepare batching.\n",
    "    train_loader = DataLoader(train_dataset, batch_size=batch_size, shuffle=True)\n",
    "    val_loader = DataLoader(val_dataset, batch_size=batch_size, shuffle=True)\n",
    "    test_loader = DataLoader(test_dataset, batch_size=batch_size, shuffle=True)\n",
    "    if gnn == 'GIN':\n",
    "        model = GIN(dataset, layers, hidden, num_classes).to(device)\n",
    "        model.reset_parameters()\n",
    "    else:\n",
    "        model = GINWithJK(dataset, layers, hidden, num_classes).to(device)\n",
    "        model.reset_parameters()\n",
    "        \n",
    "    optimizer = torch.optim.Adam(model.parameters(), lr=start_lr)\n",
    "    scheduler = torch.optim.lr_scheduler.ReduceLROnPlateau(\n",
    "        optimizer, mode='min',\n",
    "        factor=factor, \n",
    "        patience=patience,\n",
    "        min_lr=0.0000001\n",
    "    )\n",
    "    results_dict = {'train': {'train_loss': [], 'val_acc': []}, 'test': {'acc': -1.0, 'confusion': {}}}\n",
    "    print('Epoch/val accuracy/lr', end = ': ')\n",
    "    for epoch in range(1, max_num_epochs + 1):\n",
    "        lr = scheduler.optimizer.param_groups[0]['lr']\n",
    "        train_loss = gnn_train(train_loader, model, optimizer, device)\n",
    "        val_acc = gnn_test(val_loader, model, device)[0]\n",
    "        results_dict['train']['train_loss'].append(train_loss)\n",
    "        results_dict['train']['val_acc'].append(val_acc)\n",
    "        scheduler.step(val_acc)\n",
    "        print(f'{epoch}/{val_acc:.4f}/{lr}', end = ' | ')\n",
    "        if lr < min_lr:\n",
    "            break\n",
    "\n",
    "    acc, tn, fp, fn, tp = gnn_test(test_loader, model, device)\n",
    "\n",
    "    results_dict['test']['acc'] = acc\n",
    "    results_dict['test']['confusion'] = {'tp': tp, 'fp': fp, 'tn': tn, 'fn': fn}\n",
    "    print(f'Accuracy: {acc:.4f}')\n",
    "    return results_dict\n",
    "        # Break if learning rate is smaller 10**-6.\n",
    "        \n",
    "    \n"
   ]
  },
  {
   "cell_type": "code",
   "execution_count": 13,
   "id": "048d91b1",
   "metadata": {
    "execution": {
     "iopub.execute_input": "2024-06-17T13:53:35.803557Z",
     "iopub.status.busy": "2024-06-17T13:53:35.803128Z",
     "iopub.status.idle": "2024-06-17T13:53:35.812296Z",
     "shell.execute_reply": "2024-06-17T13:53:35.811045Z"
    },
    "papermill": {
     "duration": 0.023142,
     "end_time": "2024-06-17T13:53:35.814872",
     "exception": false,
     "start_time": "2024-06-17T13:53:35.791730",
     "status": "completed"
    },
    "tags": []
   },
   "outputs": [],
   "source": [
    "# def my_gcn_train(name, data, train_indices_dict, method, _all_or_class, pctl, num_epochs):\n",
    "#     num_features = data[0].num_features\n",
    "#     results_dict = {}\n",
    "#     train_dataset, test_dataset, val_dataset = split_data(\n",
    "#         name,\n",
    "#         data, \n",
    "#         train_indices_dict, \n",
    "#         all_or_class = _all_or_class, \n",
    "#         characterization_method = method, \n",
    "#         percentile = pctl\n",
    "#     )\n",
    "#     device = torch.device('cuda' if torch.cuda.is_available() else 'cpu')\n",
    "#     model = GCN(num_features=num_features, num_classes=6).to(device)\n",
    "#     optimizer = torch.optim.Adam(model.parameters(), lr=0.005)\n",
    "#     scheduler = torch.optim.lr_scheduler.StepLR(optimizer, step_size=10, gamma=0.1)\n",
    "#     train_loader = DataLoader(train_dataset, batch_size=64, shuffle=True, num_workers = 4, pin_memory = True)\n",
    "#     val_loader = DataLoader(val_dataset, batch_size=16, shuffle=False, num_workers = 4, pin_memory = True)\n",
    "#     test_loader = DataLoader(test_dataset, batch_size=16, shuffle=False)\n",
    "\n",
    "#     # Initialize the loss function\n",
    "#     criterion = nn.CrossEntropyLoss()\n",
    "#     # Training loop\n",
    "#     scaler = GradScaler()\n",
    "\n",
    "#     def train():\n",
    "#         model.train()\n",
    "#         total_loss = 0\n",
    "#         for data in train_loader:\n",
    "#             data = data.to(device)\n",
    "#             optimizer.zero_grad()\n",
    "\n",
    "#             with autocast():\n",
    "#                 out = model(data)  # outputs logits\n",
    "#                 loss = criterion(out, data.y)\n",
    "\n",
    "#             scaler.scale(loss).backward()\n",
    "#             scaler.step(optimizer)\n",
    "#             scaler.update()\n",
    "\n",
    "#             total_loss += loss.item()\n",
    "\n",
    "#         return total_loss / len(train_loader)\n",
    "\n",
    "#     def evaluate(loader):\n",
    "#         model.eval()\n",
    "#         correct = 0\n",
    "#         total = 0\n",
    "#         with torch.no_grad():\n",
    "#             for data in loader:\n",
    "#                 data = data.to(device)\n",
    "#                 out = model(data)\n",
    "#                 pred = out.argmax(dim=1)\n",
    "#                 correct += int((pred == data.y).sum())\n",
    "#                 total += data.y.size(0)\n",
    "#         return correct / total\n",
    "#     # Assuming you have a DataLoader for your test data similar to train_loader\n",
    "\n",
    "#     def test():\n",
    "#         model.eval()  # Set the model to evaluation mode\n",
    "#         all_preds = []\n",
    "#         all_labels = []\n",
    "\n",
    "#         with torch.no_grad():  # Inference without gradient calculation\n",
    "#             for data in test_loader:\n",
    "#                 data = data.to(device)\n",
    "#                 out = model(data)  # Forward pass\n",
    "#                 pred = out.argmax(dim=1)  # Get the index of the max log-probability\n",
    "#                 all_preds.extend(pred.cpu().numpy())  # Store predictions\n",
    "#                 all_labels.extend(data.y.cpu().numpy())  # Store actual labels\n",
    "\n",
    "#         # Calculate confusion matrix\n",
    "#         acc, tn, fp, fn, tp = calculate_global_metrics(all_labels, all_preds)\n",
    "#         return acc, tn, fp, fn, tp\n",
    "    \n",
    "#     results_dict = {'train': {'train_loss': [], 'val_acc': []}, 'test': {'acc': -1.0, 'confusion': {}}}\n",
    "#     print(f'Training GCN on {name} for {num_epochs} epochs:')\n",
    "#     print('Epoch/train loss/val accuracy', end = ': ')\n",
    "#     for epoch in range(num_epochs):\n",
    "#         train_loss = train()\n",
    "#         val_accuracy = evaluate(val_loader)\n",
    "#         results_dict['train']['train_loss'].append(train_loss)\n",
    "#         results_dict['train']['val_acc'].append(val_accuracy)\n",
    "#         print(f'{epoch}/{train_loss:.4f}/{val_accuracy:.4f}', end = ' | ')\n",
    "#         scheduler.step()\n",
    "#     acc, tn, fp, fn, tp = test()\n",
    "#     results_dict['test']['acc'] = acc\n",
    "#     results_dict['test']['confusion'] = {'tp': tp, 'fp': fp, 'tn': tn, 'fn': fn}\n",
    "#     print(f'Accuracy: {acc:.4f}')\n",
    "#     return results_dict"
   ]
  },
  {
   "cell_type": "code",
   "execution_count": 14,
   "id": "f6fddb96",
   "metadata": {
    "execution": {
     "iopub.execute_input": "2024-06-17T13:53:35.836300Z",
     "iopub.status.busy": "2024-06-17T13:53:35.835903Z",
     "iopub.status.idle": "2024-06-17T13:53:35.842093Z",
     "shell.execute_reply": "2024-06-17T13:53:35.840705Z"
    },
    "papermill": {
     "duration": 0.019843,
     "end_time": "2024-06-17T13:53:35.844708",
     "exception": false,
     "start_time": "2024-06-17T13:53:35.824865",
     "status": "completed"
    },
    "tags": []
   },
   "outputs": [],
   "source": [
    "dataset_list = ['enzymes', 'dd', 'nci1', 'nci109', 'proteins', 'mutag']\n",
    "char_methods = ['random', 'graph_order', 'cos_sim']\n",
    "percentiles = [x for x in range(40, 91, 10)]"
   ]
  },
  {
   "cell_type": "code",
   "execution_count": 15,
   "id": "695b7cb1",
   "metadata": {
    "execution": {
     "iopub.execute_input": "2024-06-17T13:53:35.866957Z",
     "iopub.status.busy": "2024-06-17T13:53:35.866512Z",
     "iopub.status.idle": "2024-06-17T13:54:09.545744Z",
     "shell.execute_reply": "2024-06-17T13:54:09.544542Z"
    },
    "papermill": {
     "duration": 33.694084,
     "end_time": "2024-06-17T13:54:09.548758",
     "exception": false,
     "start_time": "2024-06-17T13:53:35.854674",
     "status": "completed"
    },
    "tags": []
   },
   "outputs": [],
   "source": [
    "if 'dataset_dict' not in globals():\n",
    "    dataset_dict = {}\n",
    "    train_indices_dict = {}\n",
    "    for dataset in dataset_list:\n",
    "        with open(f'/kaggle/input/{dataset}-dga/{dataset.upper()}.pt', 'rb') as file:\n",
    "            dataset_dict[dataset] = TrainDatasetWrapper(torch.load(file))\n",
    "        with open(f'/kaggle/input/{dataset}-dga/{dataset.upper()}_train_indices_dict.pkl', 'rb') as file:\n",
    "            train_indices_dict[dataset] = pickle.load(file)\n",
    "    num_classes_dict = {dataset: 2 if dataset != 'enzymes' else 6 for dataset in dataset_list}"
   ]
  },
  {
   "cell_type": "code",
   "execution_count": 16,
   "id": "eaa10296",
   "metadata": {
    "execution": {
     "iopub.execute_input": "2024-06-17T13:54:09.570438Z",
     "iopub.status.busy": "2024-06-17T13:54:09.570044Z",
     "iopub.status.idle": "2024-06-17T19:24:23.848560Z",
     "shell.execute_reply": "2024-06-17T19:24:23.846706Z"
    },
    "papermill": {
     "duration": 19814.293085,
     "end_time": "2024-06-17T19:24:23.851733",
     "exception": false,
     "start_time": "2024-06-17T13:54:09.558648",
     "status": "completed"
    },
    "scrolled": true,
    "tags": []
   },
   "outputs": [
    {
     "name": "stdout",
     "output_type": "stream",
     "text": [
      "Evaluating enzymes dataset using random method with a percentile of 40 against class members\n",
      "Epoch/val accuracy/lr: "
     ]
    },
    {
     "name": "stderr",
     "output_type": "stream",
     "text": [
      "/opt/conda/lib/python3.10/site-packages/torch_geometric/deprecation.py:26: UserWarning: 'data.DataLoader' is deprecated, use 'loader.DataLoader' instead\n",
      "  warnings.warn(out)\n"
     ]
    },
    {
     "name": "stdout",
     "output_type": "stream",
     "text": [
      "1/0.0833/0.01 | 2/0.1875/0.01 | 3/0.1667/0.01 | 4/0.1458/0.01 | 5/0.1458/0.01 | 6/0.1875/0.01 | 7/0.2083/0.01 | 8/0.1875/0.005 | 9/0.2500/0.005 | 10/0.2500/0.005 | 11/0.2500/0.005 | 12/0.2708/0.005 | 13/0.2292/0.005 | 14/0.2083/0.0025 | 15/0.2292/0.0025 | 16/0.2083/0.0025 | 17/0.2083/0.0025 | 18/0.2292/0.0025 | 19/0.2292/0.0025 | 20/0.2292/0.00125 | 21/0.2292/0.00125 | 22/0.2500/0.00125 | 23/0.2500/0.00125 | 24/0.2500/0.00125 | 25/0.1875/0.00125 | 26/0.1875/0.000625 | 27/0.1667/0.000625 | 28/0.1458/0.000625 | 29/0.1667/0.000625 | 30/0.1667/0.000625 | 31/0.2292/0.000625 | 32/0.2083/0.0003125 | 33/0.2292/0.0003125 | 34/0.2292/0.0003125 | 35/0.2292/0.0003125 | 36/0.2083/0.0003125 | 37/0.2083/0.0003125 | 38/0.2083/0.00015625 | 39/0.1875/0.00015625 | 40/0.1875/0.00015625 | 41/0.1875/0.00015625 | 42/0.1875/0.00015625 | 43/0.1875/0.00015625 | 44/0.1875/7.8125e-05 | 45/0.1875/7.8125e-05 | 46/0.1875/7.8125e-05 | 47/0.1875/7.8125e-05 | 48/0.1667/7.8125e-05 | 49/0.1875/7.8125e-05 | 50/0.1667/3.90625e-05 | 51/0.1667/3.90625e-05 | 52/0.1875/3.90625e-05 | 53/0.1667/3.90625e-05 | 54/0.1875/3.90625e-05 | 55/0.1667/3.90625e-05 | 56/0.1667/1.953125e-05 | 57/0.1667/1.953125e-05 | 58/0.1667/1.953125e-05 | 59/0.1667/1.953125e-05 | 60/0.1667/1.953125e-05 | 61/0.1667/1.953125e-05 | 62/0.1667/9.765625e-06 | 63/0.1667/9.765625e-06 | 64/0.1667/9.765625e-06 | 65/0.1667/9.765625e-06 | 66/0.1667/9.765625e-06 | 67/0.1667/9.765625e-06 | 68/0.1667/4.8828125e-06 | 69/0.1667/4.8828125e-06 | 70/0.1667/4.8828125e-06 | 71/0.1667/4.8828125e-06 | 72/0.1667/4.8828125e-06 | 73/0.1667/4.8828125e-06 | 74/0.1667/2.44140625e-06 | 75/0.1667/2.44140625e-06 | 76/0.1667/2.44140625e-06 | 77/0.1667/2.44140625e-06 | 78/0.1667/2.44140625e-06 | 79/0.1667/2.44140625e-06 | 80/0.1667/1.220703125e-06 | 81/0.1667/1.220703125e-06 | 82/0.1875/1.220703125e-06 | 83/0.1875/1.220703125e-06 | 84/0.1875/1.220703125e-06 | 85/0.1667/1.220703125e-06 | 86/0.1667/6.103515625e-07 | Accuracy: 0.2889\n",
      "Evaluating enzymes dataset using random method with a percentile of 50 against class members\n",
      "Epoch/val accuracy/lr: "
     ]
    },
    {
     "name": "stderr",
     "output_type": "stream",
     "text": [
      "/opt/conda/lib/python3.10/site-packages/torch_geometric/deprecation.py:26: UserWarning: 'data.DataLoader' is deprecated, use 'loader.DataLoader' instead\n",
      "  warnings.warn(out)\n"
     ]
    },
    {
     "name": "stdout",
     "output_type": "stream",
     "text": [
      "1/0.1167/0.01 | 2/0.1500/0.01 | 3/0.1500/0.01 | 4/0.1500/0.01 | 5/0.1500/0.01 | 6/0.1500/0.01 | 7/0.1500/0.01 | 8/0.1500/0.005 | 9/0.1667/0.005 | 10/0.1500/0.005 | 11/0.1167/0.005 | 12/0.1333/0.005 | 13/0.1500/0.005 | 14/0.1667/0.0025 | 15/0.1333/0.0025 | 16/0.2000/0.0025 | 17/0.2333/0.0025 | 18/0.2000/0.0025 | 19/0.2000/0.0025 | 20/0.1667/0.00125 | 21/0.1333/0.00125 | 22/0.1333/0.00125 | 23/0.1500/0.00125 | 24/0.1667/0.00125 | 25/0.1667/0.00125 | 26/0.1333/0.000625 | 27/0.1167/0.000625 | 28/0.1167/0.000625 | 29/0.1167/0.000625 | 30/0.1167/0.000625 | 31/0.1167/0.000625 | 32/0.1167/0.0003125 | 33/0.0833/0.0003125 | 34/0.0833/0.0003125 | 35/0.0833/0.0003125 | 36/0.1000/0.0003125 | 37/0.0833/0.0003125 | 38/0.0667/0.0003125 | 39/0.0667/0.0003125 | 40/0.0667/0.0003125 | 41/0.0667/0.0003125 | 42/0.1000/0.0003125 | 43/0.1167/0.0003125 | 44/0.1167/0.0003125 | 45/0.1167/0.00015625 | 46/0.1333/0.00015625 | 47/0.1500/0.00015625 | 48/0.1500/0.00015625 | 49/0.1500/0.00015625 | 50/0.1500/0.00015625 | 51/0.1500/7.8125e-05 | 52/0.1500/7.8125e-05 | 53/0.1500/7.8125e-05 | 54/0.1500/7.8125e-05 | 55/0.1500/7.8125e-05 | 56/0.1667/7.8125e-05 | 57/0.1667/3.90625e-05 | 58/0.1833/3.90625e-05 | 59/0.1833/3.90625e-05 | 60/0.1833/3.90625e-05 | 61/0.1833/3.90625e-05 | 62/0.1833/3.90625e-05 | 63/0.1833/1.953125e-05 | 64/0.1833/1.953125e-05 | 65/0.1833/1.953125e-05 | 66/0.1833/1.953125e-05 | 67/0.1833/1.953125e-05 | 68/0.1833/1.953125e-05 | 69/0.1833/9.765625e-06 | 70/0.1833/9.765625e-06 | 71/0.1833/9.765625e-06 | 72/0.1833/9.765625e-06 | 73/0.1833/9.765625e-06 | 74/0.1833/9.765625e-06 | 75/0.1833/4.8828125e-06 | 76/0.1833/4.8828125e-06 | 77/0.1833/4.8828125e-06 | 78/0.1833/4.8828125e-06 | 79/0.1833/4.8828125e-06 | 80/0.1833/4.8828125e-06 | 81/0.1833/2.44140625e-06 | 82/0.1833/2.44140625e-06 | 83/0.1833/2.44140625e-06 | 84/0.1833/2.44140625e-06 | 85/0.1833/2.44140625e-06 | 86/0.1833/2.44140625e-06 | 87/0.1833/1.220703125e-06 | 88/0.1833/1.220703125e-06 | 89/0.1833/1.220703125e-06 | 90/0.1667/1.220703125e-06 | 91/0.1833/1.220703125e-06 | 92/0.1667/1.220703125e-06 | 93/0.1667/6.103515625e-07 | Accuracy: 0.3100\n",
      "Evaluating enzymes dataset using random method with a percentile of 60 against class members\n",
      "Epoch/val accuracy/lr: "
     ]
    },
    {
     "name": "stderr",
     "output_type": "stream",
     "text": [
      "/opt/conda/lib/python3.10/site-packages/torch_geometric/deprecation.py:26: UserWarning: 'data.DataLoader' is deprecated, use 'loader.DataLoader' instead\n",
      "  warnings.warn(out)\n"
     ]
    },
    {
     "name": "stdout",
     "output_type": "stream",
     "text": [
      "1/0.1944/0.01 | 2/0.1944/0.01 | 3/0.2361/0.01 | 4/0.2222/0.01 | 5/0.2500/0.01 | 6/0.2222/0.01 | 7/0.1806/0.01 | 8/0.1667/0.01 | 9/0.1667/0.01 | 10/0.1667/0.01 | 11/0.1250/0.01 | 12/0.1806/0.01 | 13/0.2083/0.01 | 14/0.1944/0.01 | 15/0.2222/0.01 | 16/0.2222/0.01 | 17/0.2222/0.01 | 18/0.2361/0.005 | 19/0.2361/0.005 | 20/0.2361/0.005 | 21/0.2639/0.005 | 22/0.2639/0.005 | 23/0.2778/0.005 | 24/0.2778/0.0025 | 25/0.2639/0.0025 | 26/0.2917/0.0025 | 27/0.2778/0.0025 | 28/0.2917/0.0025 | 29/0.3056/0.0025 | 30/0.2778/0.00125 | 31/0.2500/0.00125 | 32/0.2639/0.00125 | 33/0.2500/0.00125 | 34/0.2778/0.00125 | 35/0.3056/0.00125 | 36/0.3056/0.000625 | 37/0.2917/0.000625 | 38/0.2917/0.000625 | 39/0.2639/0.000625 | 40/0.2361/0.000625 | 41/0.2639/0.000625 | 42/0.2639/0.0003125 | 43/0.2639/0.0003125 | 44/0.2639/0.0003125 | 45/0.2500/0.0003125 | 46/0.2500/0.0003125 | 47/0.2500/0.0003125 | 48/0.2500/0.00015625 | 49/0.2500/0.00015625 | 50/0.2639/0.00015625 | 51/0.2778/0.00015625 | 52/0.2917/0.00015625 | 53/0.2778/0.00015625 | 54/0.2778/7.8125e-05 | 55/0.2778/7.8125e-05 | 56/0.3056/7.8125e-05 | 57/0.3056/7.8125e-05 | 58/0.3056/7.8125e-05 | 59/0.3194/7.8125e-05 | 60/0.3056/3.90625e-05 | 61/0.3056/3.90625e-05 | 62/0.3056/3.90625e-05 | 63/0.3056/3.90625e-05 | 64/0.3194/3.90625e-05 | 65/0.3194/3.90625e-05 | 66/0.3056/1.953125e-05 | 67/0.3056/1.953125e-05 | 68/0.3194/1.953125e-05 | 69/0.3194/1.953125e-05 | 70/0.3194/1.953125e-05 | 71/0.3194/1.953125e-05 | 72/0.3194/9.765625e-06 | 73/0.3194/9.765625e-06 | 74/0.3194/9.765625e-06 | 75/0.3194/9.765625e-06 | 76/0.3194/9.765625e-06 | 77/0.3194/9.765625e-06 | 78/0.3194/4.8828125e-06 | 79/0.3194/4.8828125e-06 | 80/0.3194/4.8828125e-06 | 81/0.3472/4.8828125e-06 | 82/0.3472/4.8828125e-06 | 83/0.3472/4.8828125e-06 | 84/0.3472/2.44140625e-06 | 85/0.3472/2.44140625e-06 | 86/0.3472/2.44140625e-06 | 87/0.3611/2.44140625e-06 | 88/0.3611/2.44140625e-06 | 89/0.3611/2.44140625e-06 | 90/0.3611/1.220703125e-06 | 91/0.3611/1.220703125e-06 | 92/0.3611/1.220703125e-06 | 93/0.3611/1.220703125e-06 | 94/0.3472/1.220703125e-06 | 95/0.3472/1.220703125e-06 | 96/0.3333/6.103515625e-07 | Accuracy: 0.2958\n",
      "Evaluating enzymes dataset using random method with a percentile of 70 against class members\n",
      "Epoch/val accuracy/lr: "
     ]
    },
    {
     "name": "stderr",
     "output_type": "stream",
     "text": [
      "/opt/conda/lib/python3.10/site-packages/torch_geometric/deprecation.py:26: UserWarning: 'data.DataLoader' is deprecated, use 'loader.DataLoader' instead\n",
      "  warnings.warn(out)\n"
     ]
    },
    {
     "name": "stdout",
     "output_type": "stream",
     "text": [
      "1/0.0833/0.01 | 2/0.1429/0.01 | 3/0.1786/0.01 | 4/0.2024/0.01 | 5/0.2024/0.01 | 6/0.2024/0.01 | 7/0.1905/0.01 | 8/0.1905/0.005 | 9/0.2024/0.005 | 10/0.1786/0.005 | 11/0.1786/0.005 | 12/0.2143/0.005 | 13/0.1905/0.005 | 14/0.2143/0.0025 | 15/0.2500/0.0025 | 16/0.2619/0.0025 | 17/0.2381/0.0025 | 18/0.2143/0.0025 | 19/0.1905/0.0025 | 20/0.2024/0.00125 | 21/0.1905/0.00125 | 22/0.2262/0.00125 | 23/0.2500/0.00125 | 24/0.2381/0.00125 | 25/0.2143/0.00125 | 26/0.1786/0.000625 | 27/0.1786/0.000625 | 28/0.1786/0.000625 | 29/0.1786/0.000625 | 30/0.1786/0.000625 | 31/0.2024/0.000625 | 32/0.2262/0.0003125 | 33/0.2143/0.0003125 | 34/0.2143/0.0003125 | 35/0.2143/0.0003125 | 36/0.2262/0.0003125 | 37/0.2262/0.0003125 | 38/0.2262/0.00015625 | 39/0.2262/0.00015625 | 40/0.2381/0.00015625 | 41/0.2381/0.00015625 | 42/0.2381/0.00015625 | 43/0.2381/0.00015625 | 44/0.2381/7.8125e-05 | 45/0.2619/7.8125e-05 | 46/0.2857/7.8125e-05 | 47/0.2857/7.8125e-05 | 48/0.2738/7.8125e-05 | 49/0.2857/7.8125e-05 | 50/0.2976/3.90625e-05 | 51/0.2857/3.90625e-05 | 52/0.2976/3.90625e-05 | 53/0.2976/3.90625e-05 | 54/0.2857/3.90625e-05 | 55/0.2976/3.90625e-05 | 56/0.3095/1.953125e-05 | 57/0.3095/1.953125e-05 | 58/0.3095/1.953125e-05 | 59/0.2976/1.953125e-05 | 60/0.2976/1.953125e-05 | 61/0.2976/1.953125e-05 | 62/0.3214/9.765625e-06 | 63/0.3214/9.765625e-06 | 64/0.3095/9.765625e-06 | 65/0.3095/9.765625e-06 | 66/0.3095/9.765625e-06 | 67/0.3095/9.765625e-06 | 68/0.3095/4.8828125e-06 | 69/0.3095/4.8828125e-06 | 70/0.3095/4.8828125e-06 | 71/0.3095/4.8828125e-06 | 72/0.3095/4.8828125e-06 | 73/0.3095/4.8828125e-06 | 74/0.3095/2.44140625e-06 | 75/0.3214/2.44140625e-06 | 76/0.3214/2.44140625e-06 | 77/0.3095/2.44140625e-06 | 78/0.3095/2.44140625e-06 | 79/0.3095/2.44140625e-06 | 80/0.3095/1.220703125e-06 | 81/0.3095/1.220703125e-06 | 82/0.3095/1.220703125e-06 | 83/0.3095/1.220703125e-06 | 84/0.3095/1.220703125e-06 | 85/0.3095/1.220703125e-06 | 86/0.2976/6.103515625e-07 | Accuracy: 0.3333\n",
      "Evaluating enzymes dataset using random method with a percentile of 80 against class members\n",
      "Epoch/val accuracy/lr: "
     ]
    },
    {
     "name": "stderr",
     "output_type": "stream",
     "text": [
      "/opt/conda/lib/python3.10/site-packages/torch_geometric/deprecation.py:26: UserWarning: 'data.DataLoader' is deprecated, use 'loader.DataLoader' instead\n",
      "  warnings.warn(out)\n"
     ]
    },
    {
     "name": "stdout",
     "output_type": "stream",
     "text": [
      "1/0.1250/0.01 | 2/0.1250/0.01 | 3/0.1250/0.01 | 4/0.1250/0.01 | 5/0.1354/0.01 | 6/0.1458/0.01 | 7/0.1458/0.01 | 8/0.1458/0.005 | 9/0.1875/0.005 | 10/0.1875/0.005 | 11/0.1979/0.005 | 12/0.2292/0.005 | 13/0.2396/0.005 | 14/0.2188/0.0025 | 15/0.1771/0.0025 | 16/0.1875/0.0025 | 17/0.1562/0.0025 | 18/0.1667/0.0025 | 19/0.1979/0.0025 | 20/0.1979/0.00125 | 21/0.2188/0.00125 | 22/0.1979/0.00125 | 23/0.2188/0.00125 | 24/0.2292/0.00125 | 25/0.2396/0.00125 | 26/0.2604/0.000625 | 27/0.2500/0.000625 | 28/0.3125/0.000625 | 29/0.3333/0.000625 | 30/0.3438/0.000625 | 31/0.3542/0.000625 | 32/0.3438/0.0003125 | 33/0.3646/0.0003125 | 34/0.3750/0.0003125 | 35/0.3646/0.0003125 | 36/0.3646/0.0003125 | 37/0.3542/0.0003125 | 38/0.3542/0.00015625 | 39/0.3646/0.00015625 | 40/0.3750/0.00015625 | 41/0.3750/0.00015625 | 42/0.3958/0.00015625 | 43/0.3854/0.00015625 | 44/0.4167/7.8125e-05 | 45/0.4062/7.8125e-05 | 46/0.4167/7.8125e-05 | 47/0.4167/7.8125e-05 | 48/0.4167/7.8125e-05 | 49/0.4062/7.8125e-05 | 50/0.4167/3.90625e-05 | 51/0.4062/3.90625e-05 | 52/0.4062/3.90625e-05 | 53/0.4167/3.90625e-05 | 54/0.4062/3.90625e-05 | 55/0.4167/3.90625e-05 | 56/0.4271/1.953125e-05 | 57/0.4375/1.953125e-05 | 58/0.4375/1.953125e-05 | 59/0.4062/1.953125e-05 | 60/0.3958/1.953125e-05 | 61/0.4062/1.953125e-05 | 62/0.4375/9.765625e-06 | 63/0.4271/9.765625e-06 | 64/0.4167/9.765625e-06 | 65/0.4167/9.765625e-06 | 66/0.4062/9.765625e-06 | 67/0.4062/9.765625e-06 | 68/0.4062/4.8828125e-06 | 69/0.4167/4.8828125e-06 | 70/0.4167/4.8828125e-06 | 71/0.4167/4.8828125e-06 | 72/0.4062/4.8828125e-06 | 73/0.4167/4.8828125e-06 | 74/0.4167/2.44140625e-06 | 75/0.4167/2.44140625e-06 | 76/0.4167/2.44140625e-06 | 77/0.4062/2.44140625e-06 | 78/0.4167/2.44140625e-06 | 79/0.4062/2.44140625e-06 | 80/0.4062/1.220703125e-06 | 81/0.4062/1.220703125e-06 | 82/0.3958/1.220703125e-06 | 83/0.4062/1.220703125e-06 | 84/0.3958/1.220703125e-06 | 85/0.3958/1.220703125e-06 | 86/0.3958/6.103515625e-07 | Accuracy: 0.3000\n",
      "Evaluating enzymes dataset using random method with a percentile of 90 against class members\n",
      "Epoch/val accuracy/lr: "
     ]
    },
    {
     "name": "stderr",
     "output_type": "stream",
     "text": [
      "/opt/conda/lib/python3.10/site-packages/torch_geometric/deprecation.py:26: UserWarning: 'data.DataLoader' is deprecated, use 'loader.DataLoader' instead\n",
      "  warnings.warn(out)\n"
     ]
    },
    {
     "name": "stdout",
     "output_type": "stream",
     "text": [
      "1/0.1389/0.01 | 2/0.1296/0.01 | 3/0.1296/0.01 | 4/0.1389/0.01 | 5/0.1296/0.01 | 6/0.1389/0.01 | 7/0.1481/0.01 | 8/0.1481/0.01 | 9/0.1759/0.005 | 10/0.1389/0.005 | 11/0.1574/0.005 | 12/0.1481/0.005 | 13/0.1481/0.005 | 14/0.1574/0.005 | 15/0.1944/0.0025 | 16/0.2037/0.0025 | 17/0.1759/0.0025 | 18/0.2130/0.0025 | 19/0.2130/0.0025 | 20/0.2500/0.0025 | 21/0.2593/0.00125 | 22/0.2685/0.00125 | 23/0.2778/0.00125 | 24/0.2500/0.00125 | 25/0.2593/0.00125 | 26/0.2778/0.00125 | 27/0.2685/0.000625 | 28/0.2778/0.000625 | 29/0.2685/0.000625 | 30/0.2778/0.000625 | 31/0.2870/0.000625 | 32/0.2963/0.000625 | 33/0.3056/0.0003125 | 34/0.3056/0.0003125 | 35/0.2963/0.0003125 | 36/0.2963/0.0003125 | 37/0.2963/0.0003125 | 38/0.2963/0.0003125 | 39/0.2963/0.00015625 | 40/0.2963/0.00015625 | 41/0.2963/0.00015625 | 42/0.3056/0.00015625 | 43/0.3056/0.00015625 | 44/0.2963/0.00015625 | 45/0.2963/7.8125e-05 | 46/0.3056/7.8125e-05 | 47/0.2870/7.8125e-05 | 48/0.2963/7.8125e-05 | 49/0.2963/7.8125e-05 | 50/0.3056/7.8125e-05 | 51/0.3056/3.90625e-05 | 52/0.2963/3.90625e-05 | 53/0.2963/3.90625e-05 | 54/0.2963/3.90625e-05 | 55/0.2963/3.90625e-05 | 56/0.2963/3.90625e-05 | 57/0.2963/1.953125e-05 | 58/0.2963/1.953125e-05 | 59/0.2963/1.953125e-05 | 60/0.2870/1.953125e-05 | 61/0.2870/1.953125e-05 | 62/0.2870/1.953125e-05 | 63/0.2870/9.765625e-06 | 64/0.2870/9.765625e-06 | 65/0.2870/9.765625e-06 | 66/0.2963/9.765625e-06 | 67/0.2963/9.765625e-06 | 68/0.2963/9.765625e-06 | 69/0.2963/4.8828125e-06 | 70/0.2963/4.8828125e-06 | 71/0.2963/4.8828125e-06 | 72/0.2963/4.8828125e-06 | 73/0.2963/4.8828125e-06 | 74/0.2963/4.8828125e-06 | 75/0.2963/2.44140625e-06 | 76/0.2963/2.44140625e-06 | 77/0.2963/2.44140625e-06 | 78/0.2963/2.44140625e-06 | 79/0.2963/2.44140625e-06 | 80/0.2963/2.44140625e-06 | 81/0.2963/1.220703125e-06 | 82/0.2963/1.220703125e-06 | 83/0.2963/1.220703125e-06 | 84/0.2963/1.220703125e-06 | 85/0.2963/1.220703125e-06 | 86/0.2963/1.220703125e-06 | 87/0.2963/6.103515625e-07 | Accuracy: 0.2500\n",
      "Evaluating enzymes dataset using graph_order method with a percentile of 40 against class members\n",
      "Epoch/val accuracy/lr: "
     ]
    },
    {
     "name": "stderr",
     "output_type": "stream",
     "text": [
      "/opt/conda/lib/python3.10/site-packages/torch_geometric/deprecation.py:26: UserWarning: 'data.DataLoader' is deprecated, use 'loader.DataLoader' instead\n",
      "  warnings.warn(out)\n"
     ]
    },
    {
     "name": "stdout",
     "output_type": "stream",
     "text": [
      "1/0.0833/0.01 | 2/0.1667/0.01 | 3/0.1250/0.01 | 4/0.1250/0.01 | 5/0.0833/0.01 | 6/0.1250/0.01 | 7/0.1667/0.01 | 8/0.1458/0.005 | 9/0.1250/0.005 | 10/0.1250/0.005 | 11/0.1250/0.005 | 12/0.1250/0.005 | 13/0.1458/0.005 | 14/0.1250/0.0025 | 15/0.1667/0.0025 | 16/0.2083/0.0025 | 17/0.1875/0.0025 | 18/0.1875/0.0025 | 19/0.1875/0.0025 | 20/0.2500/0.00125 | 21/0.2292/0.00125 | 22/0.2500/0.00125 | 23/0.2292/0.00125 | 24/0.2292/0.00125 | 25/0.2500/0.00125 | 26/0.2500/0.000625 | 27/0.2292/0.000625 | 28/0.2083/0.000625 | 29/0.2292/0.000625 | 30/0.2708/0.000625 | 31/0.3125/0.000625 | 32/0.3125/0.0003125 | 33/0.3125/0.0003125 | 34/0.3333/0.0003125 | 35/0.3542/0.0003125 | 36/0.3333/0.0003125 | 37/0.3333/0.0003125 | 38/0.3542/0.00015625 | 39/0.3542/0.00015625 | 40/0.3750/0.00015625 | 41/0.3958/0.00015625 | 42/0.3958/0.00015625 | 43/0.3750/0.00015625 | 44/0.3750/7.8125e-05 | 45/0.3750/7.8125e-05 | 46/0.3750/7.8125e-05 | 47/0.3958/7.8125e-05 | 48/0.3958/7.8125e-05 | 49/0.3958/7.8125e-05 | 50/0.3750/3.90625e-05 | 51/0.3750/3.90625e-05 | 52/0.3958/3.90625e-05 | 53/0.3958/3.90625e-05 | 54/0.3750/3.90625e-05 | 55/0.3750/3.90625e-05 | 56/0.3750/1.953125e-05 | 57/0.3750/1.953125e-05 | 58/0.3750/1.953125e-05 | 59/0.3750/1.953125e-05 | 60/0.3750/1.953125e-05 | 61/0.3750/1.953125e-05 | 62/0.3750/9.765625e-06 | 63/0.3958/9.765625e-06 | 64/0.3958/9.765625e-06 | 65/0.3958/9.765625e-06 | 66/0.3958/9.765625e-06 | 67/0.3958/9.765625e-06 | 68/0.3958/4.8828125e-06 | 69/0.3958/4.8828125e-06 | 70/0.4167/4.8828125e-06 | 71/0.4167/4.8828125e-06 | 72/0.4167/4.8828125e-06 | 73/0.4167/4.8828125e-06 | 74/0.3958/2.44140625e-06 | 75/0.4167/2.44140625e-06 | 76/0.4167/2.44140625e-06 | 77/0.4167/2.44140625e-06 | 78/0.4167/2.44140625e-06 | 79/0.4167/2.44140625e-06 | 80/0.4167/1.220703125e-06 | 81/0.4167/1.220703125e-06 | 82/0.4167/1.220703125e-06 | 83/0.4167/1.220703125e-06 | 84/0.4167/1.220703125e-06 | 85/0.4167/1.220703125e-06 | 86/0.4167/6.103515625e-07 | Accuracy: 0.1889\n",
      "Evaluating enzymes dataset using graph_order method with a percentile of 50 against class members\n",
      "Epoch/val accuracy/lr: "
     ]
    },
    {
     "name": "stderr",
     "output_type": "stream",
     "text": [
      "/opt/conda/lib/python3.10/site-packages/torch_geometric/deprecation.py:26: UserWarning: 'data.DataLoader' is deprecated, use 'loader.DataLoader' instead\n",
      "  warnings.warn(out)\n"
     ]
    },
    {
     "name": "stdout",
     "output_type": "stream",
     "text": [
      "1/0.1833/0.01 | 2/0.1667/0.01 | 3/0.1667/0.01 | 4/0.2333/0.01 | 5/0.1833/0.01 | 6/0.1833/0.01 | 7/0.2500/0.01 | 8/0.2500/0.01 | 9/0.2167/0.005 | 10/0.2167/0.005 | 11/0.2000/0.005 | 12/0.1500/0.005 | 13/0.1500/0.005 | 14/0.1667/0.005 | 15/0.2000/0.005 | 16/0.2500/0.005 | 17/0.2167/0.005 | 18/0.2167/0.005 | 19/0.2333/0.0025 | 20/0.2333/0.0025 | 21/0.2833/0.0025 | 22/0.3000/0.0025 | 23/0.3000/0.0025 | 24/0.3000/0.0025 | 25/0.3000/0.00125 | 26/0.3000/0.00125 | 27/0.2833/0.00125 | 28/0.3167/0.00125 | 29/0.3000/0.00125 | 30/0.2833/0.00125 | 31/0.3167/0.000625 | 32/0.3500/0.000625 | 33/0.3167/0.000625 | 34/0.3000/0.000625 | 35/0.3000/0.000625 | 36/0.3000/0.000625 | 37/0.3333/0.0003125 | 38/0.3667/0.0003125 | 39/0.3500/0.0003125 | 40/0.3500/0.0003125 | 41/0.3500/0.0003125 | 42/0.3500/0.0003125 | 43/0.3500/0.00015625 | 44/0.4000/0.00015625 | 45/0.4000/0.00015625 | 46/0.4000/0.00015625 | 47/0.4167/0.00015625 | 48/0.4167/0.00015625 | 49/0.4333/7.8125e-05 | 50/0.4167/7.8125e-05 | 51/0.4167/7.8125e-05 | 52/0.4167/7.8125e-05 | 53/0.4167/7.8125e-05 | 54/0.4167/7.8125e-05 | 55/0.4167/3.90625e-05 | 56/0.4167/3.90625e-05 | 57/0.4167/3.90625e-05 | 58/0.4167/3.90625e-05 | 59/0.4167/3.90625e-05 | 60/0.4167/3.90625e-05 | 61/0.4167/1.953125e-05 | 62/0.4167/1.953125e-05 | 63/0.4167/1.953125e-05 | 64/0.4167/1.953125e-05 | 65/0.4333/1.953125e-05 | 66/0.4333/1.953125e-05 | 67/0.4333/9.765625e-06 | 68/0.4333/9.765625e-06 | 69/0.4333/9.765625e-06 | 70/0.4333/9.765625e-06 | 71/0.4500/9.765625e-06 | 72/0.4500/9.765625e-06 | 73/0.4500/4.8828125e-06 | 74/0.4500/4.8828125e-06 | 75/0.4500/4.8828125e-06 | 76/0.4500/4.8828125e-06 | 77/0.4500/4.8828125e-06 | 78/0.4333/4.8828125e-06 | 79/0.4500/2.44140625e-06 | 80/0.4500/2.44140625e-06 | 81/0.4333/2.44140625e-06 | 82/0.4333/2.44140625e-06 | 83/0.4333/2.44140625e-06 | 84/0.4500/2.44140625e-06 | 85/0.4500/1.220703125e-06 | 86/0.4500/1.220703125e-06 | 87/0.4500/1.220703125e-06 | 88/0.4333/1.220703125e-06 | 89/0.4333/1.220703125e-06 | 90/0.4333/1.220703125e-06 | 91/0.4333/6.103515625e-07 | Accuracy: 0.2033\n",
      "Evaluating enzymes dataset using graph_order method with a percentile of 60 against class members\n",
      "Epoch/val accuracy/lr: "
     ]
    },
    {
     "name": "stderr",
     "output_type": "stream",
     "text": [
      "/opt/conda/lib/python3.10/site-packages/torch_geometric/deprecation.py:26: UserWarning: 'data.DataLoader' is deprecated, use 'loader.DataLoader' instead\n",
      "  warnings.warn(out)\n"
     ]
    },
    {
     "name": "stdout",
     "output_type": "stream",
     "text": [
      "1/0.1250/0.01 | 2/0.1528/0.01 | 3/0.1111/0.01 | 4/0.1111/0.01 | 5/0.1111/0.01 | 6/0.1250/0.01 | 7/0.1250/0.01 | 8/0.1111/0.01 | 9/0.1250/0.01 | 10/0.1111/0.005 | 11/0.1528/0.005 | 12/0.1389/0.005 | 13/0.1250/0.005 | 14/0.1667/0.005 | 15/0.2083/0.005 | 16/0.1806/0.0025 | 17/0.1667/0.0025 | 18/0.1667/0.0025 | 19/0.2083/0.0025 | 20/0.2222/0.0025 | 21/0.2222/0.0025 | 22/0.2500/0.00125 | 23/0.2500/0.00125 | 24/0.2500/0.00125 | 25/0.2500/0.00125 | 26/0.2917/0.00125 | 27/0.3056/0.00125 | 28/0.3194/0.000625 | 29/0.3472/0.000625 | 30/0.3472/0.000625 | 31/0.3611/0.000625 | 32/0.3750/0.000625 | 33/0.3750/0.000625 | 34/0.3750/0.0003125 | 35/0.3611/0.0003125 | 36/0.3889/0.0003125 | 37/0.3889/0.0003125 | 38/0.3889/0.0003125 | 39/0.3889/0.0003125 | 40/0.3750/0.00015625 | 41/0.3611/0.00015625 | 42/0.3611/0.00015625 | 43/0.3472/0.00015625 | 44/0.3472/0.00015625 | 45/0.3472/0.00015625 | 46/0.3472/7.8125e-05 | 47/0.3472/7.8125e-05 | 48/0.3611/7.8125e-05 | 49/0.3611/7.8125e-05 | 50/0.3472/7.8125e-05 | 51/0.3472/7.8125e-05 | 52/0.3333/3.90625e-05 | 53/0.3333/3.90625e-05 | 54/0.3333/3.90625e-05 | 55/0.3333/3.90625e-05 | 56/0.3333/3.90625e-05 | 57/0.3333/3.90625e-05 | 58/0.3333/1.953125e-05 | 59/0.3333/1.953125e-05 | 60/0.3333/1.953125e-05 | 61/0.3333/1.953125e-05 | 62/0.3472/1.953125e-05 | 63/0.3333/1.953125e-05 | 64/0.3333/9.765625e-06 | 65/0.3333/9.765625e-06 | 66/0.3472/9.765625e-06 | 67/0.3333/9.765625e-06 | 68/0.3333/9.765625e-06 | 69/0.3472/9.765625e-06 | 70/0.3472/4.8828125e-06 | 71/0.3333/4.8828125e-06 | 72/0.3472/4.8828125e-06 | 73/0.3472/4.8828125e-06 | 74/0.3333/4.8828125e-06 | 75/0.3333/4.8828125e-06 | 76/0.3333/2.44140625e-06 | 77/0.3333/2.44140625e-06 | 78/0.3333/2.44140625e-06 | 79/0.3333/2.44140625e-06 | 80/0.3333/2.44140625e-06 | 81/0.3472/2.44140625e-06 | 82/0.3472/1.220703125e-06 | 83/0.3472/1.220703125e-06 | 84/0.3472/1.220703125e-06 | 85/0.3472/1.220703125e-06 | 86/0.3472/1.220703125e-06 | 87/0.3472/1.220703125e-06 | 88/0.3472/6.103515625e-07 | Accuracy: 0.2417\n",
      "Evaluating enzymes dataset using graph_order method with a percentile of 70 against class members\n",
      "Epoch/val accuracy/lr: "
     ]
    },
    {
     "name": "stderr",
     "output_type": "stream",
     "text": [
      "/opt/conda/lib/python3.10/site-packages/torch_geometric/deprecation.py:26: UserWarning: 'data.DataLoader' is deprecated, use 'loader.DataLoader' instead\n",
      "  warnings.warn(out)\n"
     ]
    },
    {
     "name": "stdout",
     "output_type": "stream",
     "text": [
      "1/0.1628/0.01 | 2/0.1860/0.01 | 3/0.1977/0.01 | 4/0.1628/0.01 | 5/0.1628/0.01 | 6/0.1628/0.01 | 7/0.1744/0.01 | 8/0.1512/0.005 | 9/0.1628/0.005 | 10/0.1744/0.005 | 11/0.1628/0.005 | 12/0.1977/0.005 | 13/0.2093/0.005 | 14/0.1860/0.005 | 15/0.2209/0.0025 | 16/0.2209/0.0025 | 17/0.2093/0.0025 | 18/0.2442/0.0025 | 19/0.2442/0.0025 | 20/0.2209/0.0025 | 21/0.2093/0.00125 | 22/0.1977/0.00125 | 23/0.2209/0.00125 | 24/0.2558/0.00125 | 25/0.2674/0.00125 | 26/0.2674/0.00125 | 27/0.2791/0.000625 | 28/0.3023/0.000625 | 29/0.3140/0.000625 | 30/0.3256/0.000625 | 31/0.3023/0.000625 | 32/0.3023/0.000625 | 33/0.3023/0.0003125 | 34/0.3140/0.0003125 | 35/0.3372/0.0003125 | 36/0.3372/0.0003125 | 37/0.3488/0.0003125 | 38/0.3488/0.0003125 | 39/0.3488/0.00015625 | 40/0.3488/0.00015625 | 41/0.3488/0.00015625 | 42/0.3488/0.00015625 | 43/0.3488/0.00015625 | 44/0.3488/0.00015625 | 45/0.3605/7.8125e-05 | 46/0.3488/7.8125e-05 | 47/0.3488/7.8125e-05 | 48/0.3488/7.8125e-05 | 49/0.3488/7.8125e-05 | 50/0.3488/7.8125e-05 | 51/0.3605/3.90625e-05 | 52/0.3605/3.90625e-05 | 53/0.3721/3.90625e-05 | 54/0.3605/3.90625e-05 | 55/0.3721/3.90625e-05 | 56/0.3721/3.90625e-05 | 57/0.3605/1.953125e-05 | 58/0.3721/1.953125e-05 | 59/0.3721/1.953125e-05 | 60/0.3721/1.953125e-05 | 61/0.3721/1.953125e-05 | 62/0.3605/1.953125e-05 | 63/0.3721/9.765625e-06 | 64/0.3721/9.765625e-06 | 65/0.3605/9.765625e-06 | 66/0.3605/9.765625e-06 | 67/0.3721/9.765625e-06 | 68/0.3605/9.765625e-06 | 69/0.3605/4.8828125e-06 | 70/0.3721/4.8828125e-06 | 71/0.3605/4.8828125e-06 | 72/0.3721/4.8828125e-06 | 73/0.3721/4.8828125e-06 | 74/0.3605/4.8828125e-06 | 75/0.3605/2.44140625e-06 | 76/0.3488/2.44140625e-06 | 77/0.3488/2.44140625e-06 | 78/0.3488/2.44140625e-06 | 79/0.3488/2.44140625e-06 | 80/0.3605/2.44140625e-06 | 81/0.3721/1.220703125e-06 | 82/0.3605/1.220703125e-06 | 83/0.3605/1.220703125e-06 | 84/0.3605/1.220703125e-06 | 85/0.3605/1.220703125e-06 | 86/0.3721/1.220703125e-06 | 87/0.3721/6.103515625e-07 | Accuracy: 0.1954\n",
      "Evaluating enzymes dataset using graph_order method with a percentile of 80 against class members\n",
      "Epoch/val accuracy/lr: "
     ]
    },
    {
     "name": "stderr",
     "output_type": "stream",
     "text": [
      "/opt/conda/lib/python3.10/site-packages/torch_geometric/deprecation.py:26: UserWarning: 'data.DataLoader' is deprecated, use 'loader.DataLoader' instead\n",
      "  warnings.warn(out)\n"
     ]
    },
    {
     "name": "stdout",
     "output_type": "stream",
     "text": [
      "1/0.1667/0.01 | 2/0.2292/0.01 | 3/0.1979/0.01 | 4/0.2396/0.01 | 5/0.2500/0.01 | 6/0.2188/0.01 | 7/0.2292/0.01 | 8/0.1979/0.005 | 9/0.1562/0.005 | 10/0.1667/0.005 | 11/0.1771/0.005 | 12/0.1667/0.005 | 13/0.1771/0.005 | 14/0.1875/0.005 | 15/0.1771/0.005 | 16/0.1875/0.0025 | 17/0.1875/0.0025 | 18/0.1771/0.0025 | 19/0.2292/0.0025 | 20/0.2188/0.0025 | 21/0.2083/0.0025 | 22/0.2188/0.00125 | 23/0.2604/0.00125 | 24/0.2500/0.00125 | 25/0.2604/0.00125 | 26/0.2396/0.00125 | 27/0.2500/0.00125 | 28/0.2604/0.000625 | 29/0.2708/0.000625 | 30/0.3021/0.000625 | 31/0.3125/0.000625 | 32/0.3021/0.000625 | 33/0.3125/0.000625 | 34/0.3125/0.0003125 | 35/0.3125/0.0003125 | 36/0.3125/0.0003125 | 37/0.3125/0.0003125 | 38/0.3125/0.0003125 | 39/0.3125/0.0003125 | 40/0.3125/0.00015625 | 41/0.3021/0.00015625 | 42/0.2917/0.00015625 | 43/0.2812/0.00015625 | 44/0.2812/0.00015625 | 45/0.2917/0.00015625 | 46/0.2917/7.8125e-05 | 47/0.2917/7.8125e-05 | 48/0.2812/7.8125e-05 | 49/0.2812/7.8125e-05 | 50/0.2812/7.8125e-05 | 51/0.2812/7.8125e-05 | 52/0.2812/3.90625e-05 | 53/0.3021/3.90625e-05 | 54/0.3021/3.90625e-05 | 55/0.2917/3.90625e-05 | 56/0.3021/3.90625e-05 | 57/0.3125/3.90625e-05 | 58/0.3125/1.953125e-05 | 59/0.3125/1.953125e-05 | 60/0.3021/1.953125e-05 | 61/0.3021/1.953125e-05 | 62/0.3021/1.953125e-05 | 63/0.3021/1.953125e-05 | 64/0.3125/9.765625e-06 | 65/0.3125/9.765625e-06 | 66/0.3229/9.765625e-06 | 67/0.3021/9.765625e-06 | 68/0.3021/9.765625e-06 | 69/0.3021/9.765625e-06 | 70/0.3021/4.8828125e-06 | 71/0.3021/4.8828125e-06 | 72/0.3021/4.8828125e-06 | 73/0.3021/4.8828125e-06 | 74/0.3021/4.8828125e-06 | 75/0.3125/4.8828125e-06 | 76/0.3021/2.44140625e-06 | 77/0.3021/2.44140625e-06 | 78/0.3021/2.44140625e-06 | 79/0.3021/2.44140625e-06 | 80/0.3021/2.44140625e-06 | 81/0.3125/2.44140625e-06 | 82/0.3125/1.220703125e-06 | 83/0.3021/1.220703125e-06 | 84/0.3021/1.220703125e-06 | 85/0.3125/1.220703125e-06 | 86/0.3125/1.220703125e-06 | 87/0.3125/1.220703125e-06 | 88/0.3021/6.103515625e-07 | Accuracy: 0.2500\n",
      "Evaluating enzymes dataset using graph_order method with a percentile of 90 against class members\n",
      "Epoch/val accuracy/lr: "
     ]
    },
    {
     "name": "stderr",
     "output_type": "stream",
     "text": [
      "/opt/conda/lib/python3.10/site-packages/torch_geometric/deprecation.py:26: UserWarning: 'data.DataLoader' is deprecated, use 'loader.DataLoader' instead\n",
      "  warnings.warn(out)\n"
     ]
    },
    {
     "name": "stdout",
     "output_type": "stream",
     "text": [
      "1/0.2130/0.01 | 2/0.2037/0.01 | 3/0.2130/0.01 | 4/0.2315/0.01 | 5/0.2315/0.01 | 6/0.2037/0.01 | 7/0.1852/0.01 | 8/0.1574/0.01 | 9/0.1481/0.01 | 10/0.1389/0.01 | 11/0.1852/0.01 | 12/0.2037/0.01 | 13/0.2037/0.01 | 14/0.2315/0.01 | 15/0.2407/0.01 | 16/0.2315/0.01 | 17/0.2315/0.005 | 18/0.2130/0.005 | 19/0.2130/0.005 | 20/0.2037/0.005 | 21/0.2222/0.005 | 22/0.2315/0.005 | 23/0.2315/0.0025 | 24/0.2315/0.0025 | 25/0.2222/0.0025 | 26/0.2407/0.0025 | 27/0.2315/0.0025 | 28/0.2500/0.0025 | 29/0.2593/0.00125 | 30/0.2593/0.00125 | 31/0.2593/0.00125 | 32/0.2685/0.00125 | 33/0.2685/0.00125 | 34/0.2778/0.00125 | 35/0.3056/0.000625 | 36/0.3148/0.000625 | 37/0.3148/0.000625 | 38/0.3056/0.000625 | 39/0.2963/0.000625 | 40/0.2963/0.000625 | 41/0.3056/0.0003125 | 42/0.3056/0.0003125 | 43/0.3148/0.0003125 | 44/0.3241/0.0003125 | 45/0.3148/0.0003125 | 46/0.3241/0.0003125 | 47/0.3333/0.00015625 | 48/0.3241/0.00015625 | 49/0.3241/0.00015625 | 50/0.3241/0.00015625 | 51/0.3333/0.00015625 | 52/0.3333/0.00015625 | 53/0.3241/7.8125e-05 | 54/0.3148/7.8125e-05 | 55/0.3241/7.8125e-05 | 56/0.3241/7.8125e-05 | 57/0.3148/7.8125e-05 | 58/0.3148/7.8125e-05 | 59/0.3148/3.90625e-05 | 60/0.3148/3.90625e-05 | 61/0.3241/3.90625e-05 | 62/0.3333/3.90625e-05 | 63/0.3333/3.90625e-05 | 64/0.3426/3.90625e-05 | 65/0.3333/1.953125e-05 | 66/0.3241/1.953125e-05 | 67/0.3333/1.953125e-05 | 68/0.3333/1.953125e-05 | 69/0.3333/1.953125e-05 | 70/0.3333/1.953125e-05 | 71/0.3333/9.765625e-06 | 72/0.3333/9.765625e-06 | 73/0.3333/9.765625e-06 | 74/0.3333/9.765625e-06 | 75/0.3333/9.765625e-06 | 76/0.3333/9.765625e-06 | 77/0.3241/4.8828125e-06 | 78/0.3241/4.8828125e-06 | 79/0.3241/4.8828125e-06 | 80/0.3241/4.8828125e-06 | 81/0.3241/4.8828125e-06 | 82/0.3241/4.8828125e-06 | 83/0.3148/2.44140625e-06 | 84/0.3241/2.44140625e-06 | 85/0.3241/2.44140625e-06 | 86/0.3241/2.44140625e-06 | 87/0.3241/2.44140625e-06 | 88/0.3241/2.44140625e-06 | 89/0.3241/1.220703125e-06 | 90/0.3241/1.220703125e-06 | 91/0.3241/1.220703125e-06 | 92/0.3148/1.220703125e-06 | 93/0.3148/1.220703125e-06 | 94/0.3148/1.220703125e-06 | 95/0.3148/6.103515625e-07 | Accuracy: 0.1500\n",
      "Evaluating enzymes dataset using cos_sim method with a percentile of 40 against class members\n",
      "Epoch/val accuracy/lr: "
     ]
    },
    {
     "name": "stderr",
     "output_type": "stream",
     "text": [
      "/opt/conda/lib/python3.10/site-packages/torch_geometric/deprecation.py:26: UserWarning: 'data.DataLoader' is deprecated, use 'loader.DataLoader' instead\n",
      "  warnings.warn(out)\n"
     ]
    },
    {
     "name": "stdout",
     "output_type": "stream",
     "text": [
      "1/0.1667/0.01 | 2/0.1667/0.01 | 3/0.1667/0.01 | 4/0.1667/0.01 | 5/0.1667/0.01 | 6/0.1667/0.01 | 7/0.1667/0.01 | 8/0.1875/0.005 | 9/0.1667/0.005 | 10/0.1667/0.005 | 11/0.2083/0.005 | 12/0.2292/0.005 | 13/0.2083/0.005 | 14/0.1875/0.0025 | 15/0.1667/0.0025 | 16/0.1875/0.0025 | 17/0.1875/0.0025 | 18/0.2083/0.0025 | 19/0.2083/0.0025 | 20/0.1875/0.00125 | 21/0.2083/0.00125 | 22/0.2083/0.00125 | 23/0.2083/0.00125 | 24/0.2083/0.00125 | 25/0.2083/0.00125 | 26/0.2083/0.000625 | 27/0.2083/0.000625 | 28/0.2292/0.000625 | 29/0.2292/0.000625 | 30/0.2500/0.000625 | 31/0.2500/0.000625 | 32/0.2917/0.0003125 | 33/0.2917/0.0003125 | 34/0.3125/0.0003125 | 35/0.3125/0.0003125 | 36/0.2917/0.0003125 | 37/0.2917/0.0003125 | 38/0.3125/0.00015625 | 39/0.3125/0.00015625 | 40/0.3333/0.00015625 | 41/0.3125/0.00015625 | 42/0.3125/0.00015625 | 43/0.3125/0.00015625 | 44/0.2917/7.8125e-05 | 45/0.3125/7.8125e-05 | 46/0.3125/7.8125e-05 | 47/0.3125/7.8125e-05 | 48/0.3125/7.8125e-05 | 49/0.3125/7.8125e-05 | 50/0.3333/3.90625e-05 | 51/0.3333/3.90625e-05 | 52/0.3333/3.90625e-05 | 53/0.3333/3.90625e-05 | 54/0.3333/3.90625e-05 | 55/0.3333/3.90625e-05 | 56/0.3333/1.953125e-05 | 57/0.3333/1.953125e-05 | 58/0.3333/1.953125e-05 | 59/0.3333/1.953125e-05 | 60/0.3333/1.953125e-05 | 61/0.3333/1.953125e-05 | 62/0.3333/9.765625e-06 | 63/0.3333/9.765625e-06 | 64/0.3333/9.765625e-06 | 65/0.3333/9.765625e-06 | 66/0.3333/9.765625e-06 | 67/0.3333/9.765625e-06 | 68/0.3333/4.8828125e-06 | 69/0.3333/4.8828125e-06 | 70/0.3333/4.8828125e-06 | 71/0.3333/4.8828125e-06 | 72/0.3333/4.8828125e-06 | 73/0.3333/4.8828125e-06 | 74/0.3333/2.44140625e-06 | 75/0.3333/2.44140625e-06 | 76/0.3333/2.44140625e-06 | 77/0.3333/2.44140625e-06 | 78/0.3333/2.44140625e-06 | 79/0.3333/2.44140625e-06 | 80/0.3333/1.220703125e-06 | 81/0.3333/1.220703125e-06 | 82/0.3333/1.220703125e-06 | 83/0.3333/1.220703125e-06 | 84/0.3333/1.220703125e-06 | 85/0.3333/1.220703125e-06 | 86/0.3333/6.103515625e-07 | Accuracy: 0.1806\n",
      "Evaluating enzymes dataset using cos_sim method with a percentile of 50 against class members\n",
      "Epoch/val accuracy/lr: "
     ]
    },
    {
     "name": "stderr",
     "output_type": "stream",
     "text": [
      "/opt/conda/lib/python3.10/site-packages/torch_geometric/deprecation.py:26: UserWarning: 'data.DataLoader' is deprecated, use 'loader.DataLoader' instead\n",
      "  warnings.warn(out)\n"
     ]
    },
    {
     "name": "stdout",
     "output_type": "stream",
     "text": [
      "1/0.1667/0.01 | 2/0.1667/0.01 | 3/0.1667/0.01 | 4/0.1667/0.01 | 5/0.1667/0.01 | 6/0.1833/0.01 | 7/0.1667/0.01 | 8/0.1667/0.005 | 9/0.1667/0.005 | 10/0.1500/0.005 | 11/0.1500/0.005 | 12/0.1667/0.005 | 13/0.2167/0.005 | 14/0.2667/0.005 | 15/0.2833/0.005 | 16/0.3167/0.005 | 17/0.3000/0.0025 | 18/0.3000/0.0025 | 19/0.3000/0.0025 | 20/0.3167/0.0025 | 21/0.3167/0.0025 | 22/0.2833/0.0025 | 23/0.2500/0.00125 | 24/0.2667/0.00125 | 25/0.2833/0.00125 | 26/0.3000/0.00125 | 27/0.3000/0.00125 | 28/0.2833/0.00125 | 29/0.3000/0.000625 | 30/0.3000/0.000625 | 31/0.3000/0.000625 | 32/0.3000/0.000625 | 33/0.2833/0.000625 | 34/0.2833/0.000625 | 35/0.2667/0.0003125 | 36/0.2667/0.0003125 | 37/0.2667/0.0003125 | 38/0.2500/0.0003125 | 39/0.2500/0.0003125 | 40/0.2500/0.0003125 | 41/0.2500/0.00015625 | 42/0.2500/0.00015625 | 43/0.2500/0.00015625 | 44/0.2500/0.00015625 | 45/0.2500/0.00015625 | 46/0.2500/0.00015625 | 47/0.2500/7.8125e-05 | 48/0.2500/7.8125e-05 | 49/0.2333/7.8125e-05 | 50/0.2333/7.8125e-05 | 51/0.2500/7.8125e-05 | 52/0.2500/7.8125e-05 | 53/0.2500/3.90625e-05 | 54/0.2500/3.90625e-05 | 55/0.2500/3.90625e-05 | 56/0.2667/3.90625e-05 | 57/0.2667/3.90625e-05 | 58/0.2667/3.90625e-05 | 59/0.2667/1.953125e-05 | 60/0.2667/1.953125e-05 | 61/0.2667/1.953125e-05 | 62/0.2667/1.953125e-05 | 63/0.2667/1.953125e-05 | 64/0.2667/1.953125e-05 | 65/0.2667/9.765625e-06 | 66/0.2667/9.765625e-06 | 67/0.2667/9.765625e-06 | 68/0.2833/9.765625e-06 | 69/0.2500/9.765625e-06 | 70/0.2500/9.765625e-06 | 71/0.2500/4.8828125e-06 | 72/0.2500/4.8828125e-06 | 73/0.2500/4.8828125e-06 | 74/0.2500/4.8828125e-06 | 75/0.2500/4.8828125e-06 | 76/0.2500/4.8828125e-06 | 77/0.2500/2.44140625e-06 | 78/0.2500/2.44140625e-06 | 79/0.2500/2.44140625e-06 | 80/0.2500/2.44140625e-06 | 81/0.2500/2.44140625e-06 | 82/0.2500/2.44140625e-06 | 83/0.2500/1.220703125e-06 | 84/0.2500/1.220703125e-06 | 85/0.2667/1.220703125e-06 | 86/0.2500/1.220703125e-06 | 87/0.2667/1.220703125e-06 | 88/0.2667/1.220703125e-06 | 89/0.2500/6.103515625e-07 | Accuracy: 0.2300\n",
      "Evaluating enzymes dataset using cos_sim method with a percentile of 60 against class members\n",
      "Epoch/val accuracy/lr: "
     ]
    },
    {
     "name": "stderr",
     "output_type": "stream",
     "text": [
      "/opt/conda/lib/python3.10/site-packages/torch_geometric/deprecation.py:26: UserWarning: 'data.DataLoader' is deprecated, use 'loader.DataLoader' instead\n",
      "  warnings.warn(out)\n"
     ]
    },
    {
     "name": "stdout",
     "output_type": "stream",
     "text": [
      "1/0.1389/0.01 | 2/0.1250/0.01 | 3/0.1528/0.01 | 4/0.1389/0.01 | 5/0.1389/0.01 | 6/0.1111/0.01 | 7/0.1111/0.01 | 8/0.1111/0.01 | 9/0.0833/0.01 | 10/0.0972/0.01 | 11/0.1250/0.01 | 12/0.1389/0.01 | 13/0.1944/0.01 | 14/0.1667/0.01 | 15/0.1944/0.01 | 16/0.1528/0.005 | 17/0.1528/0.005 | 18/0.1389/0.005 | 19/0.1528/0.005 | 20/0.1667/0.005 | 21/0.1667/0.005 | 22/0.1806/0.0025 | 23/0.1667/0.0025 | 24/0.1944/0.0025 | 25/0.2222/0.0025 | 26/0.2361/0.0025 | 27/0.2222/0.0025 | 28/0.2361/0.00125 | 29/0.2361/0.00125 | 30/0.2083/0.00125 | 31/0.2222/0.00125 | 32/0.2083/0.00125 | 33/0.2083/0.00125 | 34/0.2222/0.000625 | 35/0.2222/0.000625 | 36/0.2222/0.000625 | 37/0.2222/0.000625 | 38/0.2222/0.000625 | 39/0.2361/0.000625 | 40/0.2639/0.0003125 | 41/0.2500/0.0003125 | 42/0.2500/0.0003125 | 43/0.2639/0.0003125 | 44/0.2500/0.0003125 | 45/0.2500/0.0003125 | 46/0.2639/0.00015625 | 47/0.2639/0.00015625 | 48/0.2500/0.00015625 | 49/0.2639/0.00015625 | 50/0.2778/0.00015625 | 51/0.2639/0.00015625 | 52/0.2778/7.8125e-05 | 53/0.2778/7.8125e-05 | 54/0.2917/7.8125e-05 | 55/0.2778/7.8125e-05 | 56/0.2778/7.8125e-05 | 57/0.2917/7.8125e-05 | 58/0.2778/3.90625e-05 | 59/0.2778/3.90625e-05 | 60/0.2917/3.90625e-05 | 61/0.2917/3.90625e-05 | 62/0.2778/3.90625e-05 | 63/0.2917/3.90625e-05 | 64/0.2778/1.953125e-05 | 65/0.2917/1.953125e-05 | 66/0.2778/1.953125e-05 | 67/0.2778/1.953125e-05 | 68/0.2778/1.953125e-05 | 69/0.2639/1.953125e-05 | 70/0.2639/9.765625e-06 | 71/0.2778/9.765625e-06 | 72/0.2639/9.765625e-06 | 73/0.2639/9.765625e-06 | 74/0.2639/9.765625e-06 | 75/0.2778/9.765625e-06 | 76/0.2778/4.8828125e-06 | 77/0.2778/4.8828125e-06 | 78/0.2778/4.8828125e-06 | 79/0.2778/4.8828125e-06 | 80/0.2778/4.8828125e-06 | 81/0.2639/4.8828125e-06 | 82/0.2639/2.44140625e-06 | 83/0.2639/2.44140625e-06 | 84/0.2639/2.44140625e-06 | 85/0.2639/2.44140625e-06 | 86/0.2639/2.44140625e-06 | 87/0.2639/2.44140625e-06 | 88/0.2639/1.220703125e-06 | 89/0.2639/1.220703125e-06 | 90/0.2639/1.220703125e-06 | 91/0.2639/1.220703125e-06 | 92/0.2778/1.220703125e-06 | 93/0.2778/1.220703125e-06 | 94/0.2639/6.103515625e-07 | Accuracy: 0.2625\n",
      "Evaluating enzymes dataset using cos_sim method with a percentile of 70 against class members\n",
      "Epoch/val accuracy/lr: "
     ]
    },
    {
     "name": "stderr",
     "output_type": "stream",
     "text": [
      "/opt/conda/lib/python3.10/site-packages/torch_geometric/deprecation.py:26: UserWarning: 'data.DataLoader' is deprecated, use 'loader.DataLoader' instead\n",
      "  warnings.warn(out)\n"
     ]
    },
    {
     "name": "stdout",
     "output_type": "stream",
     "text": [
      "1/0.1744/0.01 | 2/0.1163/0.01 | 3/0.1047/0.01 | 4/0.1047/0.01 | 5/0.1047/0.01 | 6/0.1047/0.01 | 7/0.1163/0.01 | 8/0.1395/0.01 | 9/0.2209/0.01 | 10/0.1860/0.005 | 11/0.1744/0.005 | 12/0.2093/0.005 | 13/0.2093/0.005 | 14/0.1628/0.005 | 15/0.1860/0.005 | 16/0.1860/0.0025 | 17/0.1860/0.0025 | 18/0.1744/0.0025 | 19/0.1860/0.0025 | 20/0.1744/0.0025 | 21/0.1628/0.0025 | 22/0.1860/0.00125 | 23/0.1860/0.00125 | 24/0.1977/0.00125 | 25/0.1860/0.00125 | 26/0.2093/0.00125 | 27/0.2326/0.00125 | 28/0.2326/0.000625 | 29/0.2326/0.000625 | 30/0.2558/0.000625 | 31/0.2791/0.000625 | 32/0.2558/0.000625 | 33/0.2558/0.000625 | 34/0.2442/0.0003125 | 35/0.2791/0.0003125 | 36/0.2674/0.0003125 | 37/0.2674/0.0003125 | 38/0.2674/0.0003125 | 39/0.2791/0.0003125 | 40/0.3023/0.00015625 | 41/0.3023/0.00015625 | 42/0.3140/0.00015625 | 43/0.3023/0.00015625 | 44/0.2907/0.00015625 | 45/0.2907/0.00015625 | 46/0.2907/7.8125e-05 | 47/0.2791/7.8125e-05 | 48/0.2907/7.8125e-05 | 49/0.2907/7.8125e-05 | 50/0.2907/7.8125e-05 | 51/0.2907/7.8125e-05 | 52/0.2907/3.90625e-05 | 53/0.2907/3.90625e-05 | 54/0.2907/3.90625e-05 | 55/0.2907/3.90625e-05 | 56/0.3023/3.90625e-05 | 57/0.3023/3.90625e-05 | 58/0.3023/1.953125e-05 | 59/0.3023/1.953125e-05 | 60/0.3023/1.953125e-05 | 61/0.3023/1.953125e-05 | 62/0.3023/1.953125e-05 | 63/0.2907/1.953125e-05 | 64/0.2907/9.765625e-06 | 65/0.2907/9.765625e-06 | 66/0.2907/9.765625e-06 | 67/0.2907/9.765625e-06 | 68/0.2907/9.765625e-06 | 69/0.2907/9.765625e-06 | 70/0.2907/4.8828125e-06 | 71/0.2907/4.8828125e-06 | 72/0.2907/4.8828125e-06 | 73/0.2907/4.8828125e-06 | 74/0.2907/4.8828125e-06 | 75/0.2907/4.8828125e-06 | 76/0.2907/2.44140625e-06 | 77/0.2907/2.44140625e-06 | 78/0.2907/2.44140625e-06 | 79/0.2907/2.44140625e-06 | 80/0.2907/2.44140625e-06 | 81/0.2907/2.44140625e-06 | 82/0.2907/1.220703125e-06 | 83/0.2907/1.220703125e-06 | 84/0.2907/1.220703125e-06 | 85/0.2907/1.220703125e-06 | 86/0.2907/1.220703125e-06 | 87/0.2907/1.220703125e-06 | 88/0.3023/6.103515625e-07 | Accuracy: 0.2644\n",
      "Evaluating enzymes dataset using cos_sim method with a percentile of 80 against class members\n",
      "Epoch/val accuracy/lr: "
     ]
    },
    {
     "name": "stderr",
     "output_type": "stream",
     "text": [
      "/opt/conda/lib/python3.10/site-packages/torch_geometric/deprecation.py:26: UserWarning: 'data.DataLoader' is deprecated, use 'loader.DataLoader' instead\n",
      "  warnings.warn(out)\n"
     ]
    },
    {
     "name": "stdout",
     "output_type": "stream",
     "text": [
      "1/0.1875/0.01 | 2/0.1667/0.01 | 3/0.1667/0.01 | 4/0.1667/0.01 | 5/0.1667/0.01 | 6/0.1667/0.01 | 7/0.1667/0.01 | 8/0.1667/0.01 | 9/0.2188/0.005 | 10/0.1875/0.005 | 11/0.1771/0.005 | 12/0.1979/0.005 | 13/0.1875/0.005 | 14/0.1979/0.005 | 15/0.1667/0.0025 | 16/0.1667/0.0025 | 17/0.1979/0.0025 | 18/0.1979/0.0025 | 19/0.2188/0.0025 | 20/0.2292/0.0025 | 21/0.2292/0.00125 | 22/0.2708/0.00125 | 23/0.2708/0.00125 | 24/0.3021/0.00125 | 25/0.2917/0.00125 | 26/0.2917/0.00125 | 27/0.2917/0.000625 | 28/0.2917/0.000625 | 29/0.3021/0.000625 | 30/0.2917/0.000625 | 31/0.3021/0.000625 | 32/0.3021/0.000625 | 33/0.3021/0.0003125 | 34/0.3021/0.0003125 | 35/0.3333/0.0003125 | 36/0.3229/0.0003125 | 37/0.3229/0.0003125 | 38/0.3125/0.0003125 | 39/0.3125/0.00015625 | 40/0.3125/0.00015625 | 41/0.3229/0.00015625 | 42/0.3229/0.00015625 | 43/0.3229/0.00015625 | 44/0.3229/0.00015625 | 45/0.3229/7.8125e-05 | 46/0.3229/7.8125e-05 | 47/0.3333/7.8125e-05 | 48/0.3438/7.8125e-05 | 49/0.3438/7.8125e-05 | 50/0.3438/7.8125e-05 | 51/0.3438/3.90625e-05 | 52/0.3438/3.90625e-05 | 53/0.3646/3.90625e-05 | 54/0.3958/3.90625e-05 | 55/0.3854/3.90625e-05 | 56/0.3958/3.90625e-05 | 57/0.3854/1.953125e-05 | 58/0.3854/1.953125e-05 | 59/0.3854/1.953125e-05 | 60/0.3854/1.953125e-05 | 61/0.3958/1.953125e-05 | 62/0.3958/1.953125e-05 | 63/0.3958/9.765625e-06 | 64/0.3958/9.765625e-06 | 65/0.3958/9.765625e-06 | 66/0.3958/9.765625e-06 | 67/0.3958/9.765625e-06 | 68/0.3958/9.765625e-06 | 69/0.3958/4.8828125e-06 | 70/0.3958/4.8828125e-06 | 71/0.3958/4.8828125e-06 | 72/0.3958/4.8828125e-06 | 73/0.3958/4.8828125e-06 | 74/0.3958/4.8828125e-06 | 75/0.3958/2.44140625e-06 | 76/0.3958/2.44140625e-06 | 77/0.3958/2.44140625e-06 | 78/0.3958/2.44140625e-06 | 79/0.3958/2.44140625e-06 | 80/0.3958/2.44140625e-06 | 81/0.3958/1.220703125e-06 | 82/0.3958/1.220703125e-06 | 83/0.3958/1.220703125e-06 | 84/0.3958/1.220703125e-06 | 85/0.3958/1.220703125e-06 | 86/0.3958/1.220703125e-06 | 87/0.3958/6.103515625e-07 | Accuracy: 0.2500\n",
      "Evaluating enzymes dataset using cos_sim method with a percentile of 90 against class members\n",
      "Epoch/val accuracy/lr: "
     ]
    },
    {
     "name": "stderr",
     "output_type": "stream",
     "text": [
      "/opt/conda/lib/python3.10/site-packages/torch_geometric/deprecation.py:26: UserWarning: 'data.DataLoader' is deprecated, use 'loader.DataLoader' instead\n",
      "  warnings.warn(out)\n"
     ]
    },
    {
     "name": "stdout",
     "output_type": "stream",
     "text": [
      "1/0.2222/0.01 | 2/0.2222/0.01 | 3/0.2222/0.01 | 4/0.2222/0.01 | 5/0.2222/0.01 | 6/0.2315/0.01 | 7/0.2315/0.01 | 8/0.2222/0.005 | 9/0.2407/0.005 | 10/0.2315/0.005 | 11/0.2315/0.005 | 12/0.2407/0.005 | 13/0.2407/0.005 | 14/0.2315/0.0025 | 15/0.2593/0.0025 | 16/0.2685/0.0025 | 17/0.2685/0.0025 | 18/0.2963/0.0025 | 19/0.2870/0.0025 | 20/0.2778/0.00125 | 21/0.2778/0.00125 | 22/0.2963/0.00125 | 23/0.2963/0.00125 | 24/0.2870/0.00125 | 25/0.2870/0.00125 | 26/0.2685/0.000625 | 27/0.2685/0.000625 | 28/0.2870/0.000625 | 29/0.2870/0.000625 | 30/0.2870/0.000625 | 31/0.2870/0.000625 | 32/0.2778/0.0003125 | 33/0.2685/0.0003125 | 34/0.2778/0.0003125 | 35/0.2870/0.0003125 | 36/0.2685/0.0003125 | 37/0.2778/0.0003125 | 38/0.2870/0.00015625 | 39/0.2870/0.00015625 | 40/0.3056/0.00015625 | 41/0.3056/0.00015625 | 42/0.3241/0.00015625 | 43/0.3333/0.00015625 | 44/0.3241/7.8125e-05 | 45/0.3333/7.8125e-05 | 46/0.3426/7.8125e-05 | 47/0.3333/7.8125e-05 | 48/0.3333/7.8125e-05 | 49/0.3333/7.8125e-05 | 50/0.3333/3.90625e-05 | 51/0.3333/3.90625e-05 | 52/0.3426/3.90625e-05 | 53/0.3426/3.90625e-05 | 54/0.3426/3.90625e-05 | 55/0.3333/3.90625e-05 | 56/0.3426/1.953125e-05 | 57/0.3333/1.953125e-05 | 58/0.3426/1.953125e-05 | 59/0.3426/1.953125e-05 | 60/0.3426/1.953125e-05 | 61/0.3426/1.953125e-05 | 62/0.3426/9.765625e-06 | 63/0.3519/9.765625e-06 | 64/0.3519/9.765625e-06 | 65/0.3426/9.765625e-06 | 66/0.3519/9.765625e-06 | 67/0.3519/9.765625e-06 | 68/0.3426/4.8828125e-06 | 69/0.3333/4.8828125e-06 | 70/0.3333/4.8828125e-06 | 71/0.3333/4.8828125e-06 | 72/0.3333/4.8828125e-06 | 73/0.3333/4.8828125e-06 | 74/0.3333/2.44140625e-06 | 75/0.3426/2.44140625e-06 | 76/0.3519/2.44140625e-06 | 77/0.3426/2.44140625e-06 | 78/0.3333/2.44140625e-06 | 79/0.3333/2.44140625e-06 | 80/0.3333/1.220703125e-06 | 81/0.3426/1.220703125e-06 | 82/0.3426/1.220703125e-06 | 83/0.3333/1.220703125e-06 | 84/0.3333/1.220703125e-06 | 85/0.3333/1.220703125e-06 | 86/0.3333/6.103515625e-07 | Accuracy: 0.3333\n",
      "Evaluating dd dataset using random method with a percentile of 40 against class members\n",
      "Epoch/val accuracy/lr: "
     ]
    },
    {
     "name": "stderr",
     "output_type": "stream",
     "text": [
      "/opt/conda/lib/python3.10/site-packages/torch_geometric/deprecation.py:26: UserWarning: 'data.DataLoader' is deprecated, use 'loader.DataLoader' instead\n",
      "  warnings.warn(out)\n"
     ]
    },
    {
     "name": "stdout",
     "output_type": "stream",
     "text": [
      "1/0.0000/0.01 | 2/0.0000/0.01 | 3/0.2211/0.01 | 4/0.4000/0.01 | 5/0.4000/0.01 | 6/0.4000/0.01 | 7/0.4000/0.01 | 8/0.4000/0.005 | 9/0.4000/0.005 | 10/0.4000/0.005 | 11/0.4000/0.005 | 12/0.4000/0.005 | 13/0.4000/0.005 | 14/0.4000/0.0025 | 15/0.4000/0.0025 | 16/0.4000/0.0025 | 17/0.4000/0.0025 | 18/0.4000/0.0025 | 19/0.4000/0.0025 | 20/0.4000/0.00125 | 21/0.4000/0.00125 | 22/0.4000/0.00125 | 23/0.4000/0.00125 | 24/0.4000/0.00125 | 25/0.4000/0.00125 | 26/0.4000/0.000625 | 27/0.4000/0.000625 | 28/0.4000/0.000625 | 29/0.4000/0.000625 | 30/0.4000/0.000625 | 31/0.4000/0.000625 | 32/0.4000/0.0003125 | 33/0.4000/0.0003125 | 34/0.4000/0.0003125 | 35/0.4000/0.0003125 | 36/0.4000/0.0003125 | 37/0.4000/0.0003125 | 38/0.3895/0.00015625 | 39/0.3789/0.00015625 | 40/0.3789/0.00015625 | 41/0.3684/0.00015625 | 42/0.3684/0.00015625 | 43/0.3684/0.00015625 | 44/0.3579/7.8125e-05 | 45/0.3579/7.8125e-05 | 46/0.3474/7.8125e-05 | 47/0.3474/7.8125e-05 | 48/0.3474/7.8125e-05 | 49/0.3474/7.8125e-05 | 50/0.3368/3.90625e-05 | 51/0.3368/3.90625e-05 | 52/0.3263/3.90625e-05 | 53/0.3158/3.90625e-05 | 54/0.3158/3.90625e-05 | 55/0.3053/3.90625e-05 | 56/0.3053/1.953125e-05 | 57/0.3053/1.953125e-05 | 58/0.2842/1.953125e-05 | 59/0.2842/1.953125e-05 | 60/0.2842/1.953125e-05 | 61/0.2842/1.953125e-05 | 62/0.2842/9.765625e-06 | 63/0.2842/9.765625e-06 | 64/0.2842/9.765625e-06 | 65/0.2737/9.765625e-06 | 66/0.2737/9.765625e-06 | 67/0.2737/9.765625e-06 | 68/0.2737/4.8828125e-06 | 69/0.2737/4.8828125e-06 | 70/0.2632/4.8828125e-06 | 71/0.2632/4.8828125e-06 | 72/0.2632/4.8828125e-06 | 73/0.2632/4.8828125e-06 | 74/0.2632/2.44140625e-06 | 75/0.2632/2.44140625e-06 | 76/0.2632/2.44140625e-06 | 77/0.2632/2.44140625e-06 | 78/0.2737/2.44140625e-06 | 79/0.2737/2.44140625e-06 | 80/0.2737/1.220703125e-06 | 81/0.2737/1.220703125e-06 | 82/0.2737/1.220703125e-06 | 83/0.2842/1.220703125e-06 | 84/0.2842/1.220703125e-06 | 85/0.2842/1.220703125e-06 | 86/0.2842/6.103515625e-07 | Accuracy: 0.2051\n",
      "Evaluating dd dataset using random method with a percentile of 50 against class members\n",
      "Epoch/val accuracy/lr: "
     ]
    },
    {
     "name": "stderr",
     "output_type": "stream",
     "text": [
      "/opt/conda/lib/python3.10/site-packages/torch_geometric/deprecation.py:26: UserWarning: 'data.DataLoader' is deprecated, use 'loader.DataLoader' instead\n",
      "  warnings.warn(out)\n"
     ]
    },
    {
     "name": "stdout",
     "output_type": "stream",
     "text": [
      "1/0.0000/0.01 | 2/0.0000/0.01 | 3/0.0000/0.01 | 4/0.0000/0.01 | 5/0.0000/0.01 | 6/0.0000/0.01 | 7/0.0000/0.01 | 8/0.0000/0.005 | 9/0.0000/0.005 | 10/0.0000/0.005 | 11/0.0000/0.005 | 12/0.0000/0.005 | 13/0.0000/0.005 | 14/0.0000/0.0025 | 15/0.0000/0.0025 | 16/0.0000/0.0025 | 17/0.0000/0.0025 | 18/0.0000/0.0025 | 19/0.0085/0.0025 | 20/0.0085/0.00125 | 21/0.0085/0.00125 | 22/0.0085/0.00125 | 23/0.0085/0.00125 | 24/0.0169/0.00125 | 25/0.0169/0.00125 | 26/0.0254/0.000625 | 27/0.0339/0.000625 | 28/0.0678/0.000625 | 29/0.0678/0.000625 | 30/0.0678/0.000625 | 31/0.0678/0.000625 | 32/0.0678/0.0003125 | 33/0.0763/0.0003125 | 34/0.0763/0.0003125 | 35/0.0932/0.0003125 | 36/0.0932/0.0003125 | 37/0.1017/0.0003125 | 38/0.1017/0.00015625 | 39/0.1102/0.00015625 | 40/0.1102/0.00015625 | 41/0.1102/0.00015625 | 42/0.1102/0.00015625 | 43/0.1186/0.00015625 | 44/0.1186/7.8125e-05 | 45/0.1271/7.8125e-05 | 46/0.1271/7.8125e-05 | 47/0.1271/7.8125e-05 | 48/0.1271/7.8125e-05 | 49/0.1356/7.8125e-05 | 50/0.1356/3.90625e-05 | 51/0.1271/3.90625e-05 | 52/0.1271/3.90625e-05 | 53/0.1356/3.90625e-05 | 54/0.1356/3.90625e-05 | 55/0.1441/3.90625e-05 | 56/0.1525/1.953125e-05 | 57/0.1610/1.953125e-05 | 58/0.1610/1.953125e-05 | 59/0.1610/1.953125e-05 | 60/0.1610/1.953125e-05 | 61/0.1610/1.953125e-05 | 62/0.1780/9.765625e-06 | 63/0.1780/9.765625e-06 | 64/0.1780/9.765625e-06 | 65/0.1780/9.765625e-06 | 66/0.1864/9.765625e-06 | 67/0.1864/9.765625e-06 | 68/0.1949/4.8828125e-06 | 69/0.1949/4.8828125e-06 | 70/0.1949/4.8828125e-06 | 71/0.1949/4.8828125e-06 | 72/0.1949/4.8828125e-06 | 73/0.1949/4.8828125e-06 | 74/0.2034/2.44140625e-06 | 75/0.2034/2.44140625e-06 | 76/0.2203/2.44140625e-06 | 77/0.2119/2.44140625e-06 | 78/0.2203/2.44140625e-06 | 79/0.2288/2.44140625e-06 | 80/0.2288/1.220703125e-06 | 81/0.2288/1.220703125e-06 | 82/0.2288/1.220703125e-06 | 83/0.2288/1.220703125e-06 | 84/0.2288/1.220703125e-06 | 85/0.2288/1.220703125e-06 | 86/0.2373/6.103515625e-07 | Accuracy: 0.2003\n",
      "Evaluating dd dataset using random method with a percentile of 60 against class members\n",
      "Epoch/val accuracy/lr: "
     ]
    },
    {
     "name": "stderr",
     "output_type": "stream",
     "text": [
      "/opt/conda/lib/python3.10/site-packages/torch_geometric/deprecation.py:26: UserWarning: 'data.DataLoader' is deprecated, use 'loader.DataLoader' instead\n",
      "  warnings.warn(out)\n"
     ]
    },
    {
     "name": "stdout",
     "output_type": "stream",
     "text": [
      "1/0.4507/0.01 | 2/0.4507/0.01 | 3/0.0141/0.01 | 4/0.1338/0.01 | 5/0.3239/0.01 | 6/0.4296/0.01 | 7/0.4296/0.01 | 8/0.4296/0.01 | 9/0.4437/0.01 | 10/0.4507/0.005 | 11/0.4507/0.005 | 12/0.4507/0.005 | 13/0.4507/0.005 | 14/0.4507/0.005 | 15/0.4507/0.005 | 16/0.4507/0.0025 | 17/0.4507/0.0025 | 18/0.4507/0.0025 | 19/0.4507/0.0025 | 20/0.4507/0.0025 | 21/0.4507/0.0025 | 22/0.4507/0.00125 | 23/0.4507/0.00125 | 24/0.4507/0.00125 | 25/0.4507/0.00125 | 26/0.4507/0.00125 | 27/0.4507/0.00125 | 28/0.4507/0.000625 | 29/0.4507/0.000625 | 30/0.4507/0.000625 | 31/0.4507/0.000625 | 32/0.4507/0.000625 | 33/0.4507/0.000625 | 34/0.4366/0.0003125 | 35/0.4366/0.0003125 | 36/0.4366/0.0003125 | 37/0.4225/0.0003125 | 38/0.4296/0.0003125 | 39/0.4085/0.0003125 | 40/0.4014/0.00015625 | 41/0.3944/0.00015625 | 42/0.3944/0.00015625 | 43/0.3944/0.00015625 | 44/0.3873/0.00015625 | 45/0.3873/0.00015625 | 46/0.3873/7.8125e-05 | 47/0.3873/7.8125e-05 | 48/0.3873/7.8125e-05 | 49/0.3803/7.8125e-05 | 50/0.3662/7.8125e-05 | 51/0.3592/7.8125e-05 | 52/0.3592/3.90625e-05 | 53/0.3451/3.90625e-05 | 54/0.3169/3.90625e-05 | 55/0.3169/3.90625e-05 | 56/0.3169/3.90625e-05 | 57/0.3099/3.90625e-05 | 58/0.3028/1.953125e-05 | 59/0.2958/1.953125e-05 | 60/0.2958/1.953125e-05 | 61/0.2958/1.953125e-05 | 62/0.2958/1.953125e-05 | 63/0.2887/1.953125e-05 | 64/0.2817/9.765625e-06 | 65/0.2817/9.765625e-06 | 66/0.2817/9.765625e-06 | 67/0.2817/9.765625e-06 | 68/0.2817/9.765625e-06 | 69/0.2676/9.765625e-06 | 70/0.2676/4.8828125e-06 | 71/0.2676/4.8828125e-06 | 72/0.2606/4.8828125e-06 | 73/0.2606/4.8828125e-06 | 74/0.2606/4.8828125e-06 | 75/0.2606/4.8828125e-06 | 76/0.2606/2.44140625e-06 | 77/0.2606/2.44140625e-06 | 78/0.2606/2.44140625e-06 | 79/0.2606/2.44140625e-06 | 80/0.2606/2.44140625e-06 | 81/0.2606/2.44140625e-06 | 82/0.2606/1.220703125e-06 | 83/0.2606/1.220703125e-06 | 84/0.2606/1.220703125e-06 | 85/0.2606/1.220703125e-06 | 86/0.2606/1.220703125e-06 | 87/0.2606/1.220703125e-06 | 88/0.2606/6.103515625e-07 | Accuracy: 0.2267\n",
      "Evaluating dd dataset using random method with a percentile of 70 against class members\n",
      "Epoch/val accuracy/lr: "
     ]
    },
    {
     "name": "stderr",
     "output_type": "stream",
     "text": [
      "/opt/conda/lib/python3.10/site-packages/torch_geometric/deprecation.py:26: UserWarning: 'data.DataLoader' is deprecated, use 'loader.DataLoader' instead\n",
      "  warnings.warn(out)\n"
     ]
    },
    {
     "name": "stdout",
     "output_type": "stream",
     "text": [
      "1/0.0000/0.01 | 2/0.0000/0.01 | 3/0.0000/0.01 | 4/0.0000/0.01 | 5/0.0000/0.01 | 6/0.0000/0.01 | 7/0.0000/0.01 | 8/0.0000/0.005 | 9/0.0061/0.005 | 10/0.0424/0.005 | 11/0.0788/0.005 | 12/0.0788/0.005 | 13/0.1152/0.005 | 14/0.1152/0.0025 | 15/0.1091/0.0025 | 16/0.1152/0.0025 | 17/0.1273/0.0025 | 18/0.1394/0.0025 | 19/0.1697/0.0025 | 20/0.1879/0.00125 | 21/0.2061/0.00125 | 22/0.2242/0.00125 | 23/0.2303/0.00125 | 24/0.2303/0.00125 | 25/0.2242/0.00125 | 26/0.2121/0.000625 | 27/0.2000/0.000625 | 28/0.1879/0.000625 | 29/0.1879/0.000625 | 30/0.1879/0.000625 | 31/0.1818/0.000625 | 32/0.1818/0.0003125 | 33/0.1879/0.0003125 | 34/0.2000/0.0003125 | 35/0.2000/0.0003125 | 36/0.2000/0.0003125 | 37/0.2242/0.0003125 | 38/0.2242/0.00015625 | 39/0.2303/0.00015625 | 40/0.2303/0.00015625 | 41/0.2242/0.00015625 | 42/0.2303/0.00015625 | 43/0.2303/0.00015625 | 44/0.2242/7.8125e-05 | 45/0.2242/7.8125e-05 | 46/0.2303/7.8125e-05 | 47/0.2303/7.8125e-05 | 48/0.2303/7.8125e-05 | 49/0.2364/7.8125e-05 | 50/0.2303/3.90625e-05 | 51/0.2303/3.90625e-05 | 52/0.2303/3.90625e-05 | 53/0.2303/3.90625e-05 | 54/0.2303/3.90625e-05 | 55/0.2242/3.90625e-05 | 56/0.2303/1.953125e-05 | 57/0.2303/1.953125e-05 | 58/0.2242/1.953125e-05 | 59/0.2364/1.953125e-05 | 60/0.2424/1.953125e-05 | 61/0.2424/1.953125e-05 | 62/0.2424/9.765625e-06 | 63/0.2424/9.765625e-06 | 64/0.2424/9.765625e-06 | 65/0.2364/9.765625e-06 | 66/0.2424/9.765625e-06 | 67/0.2424/9.765625e-06 | 68/0.2424/4.8828125e-06 | 69/0.2424/4.8828125e-06 | 70/0.2424/4.8828125e-06 | 71/0.2424/4.8828125e-06 | 72/0.2424/4.8828125e-06 | 73/0.2424/4.8828125e-06 | 74/0.2424/2.44140625e-06 | 75/0.2424/2.44140625e-06 | 76/0.2424/2.44140625e-06 | 77/0.2424/2.44140625e-06 | 78/0.2424/2.44140625e-06 | 79/0.2424/2.44140625e-06 | 80/0.2424/1.220703125e-06 | 81/0.2424/1.220703125e-06 | 82/0.2424/1.220703125e-06 | 83/0.2364/1.220703125e-06 | 84/0.2364/1.220703125e-06 | 85/0.2364/1.220703125e-06 | 86/0.2485/6.103515625e-07 | Accuracy: 0.2006\n",
      "Evaluating dd dataset using random method with a percentile of 80 against class members\n",
      "Epoch/val accuracy/lr: "
     ]
    },
    {
     "name": "stderr",
     "output_type": "stream",
     "text": [
      "/opt/conda/lib/python3.10/site-packages/torch_geometric/deprecation.py:26: UserWarning: 'data.DataLoader' is deprecated, use 'loader.DataLoader' instead\n",
      "  warnings.warn(out)\n"
     ]
    },
    {
     "name": "stdout",
     "output_type": "stream",
     "text": [
      "1/0.0000/0.01 | 2/0.0000/0.01 | 3/0.3915/0.01 | 4/0.1640/0.01 | 5/0.0053/0.01 | 6/0.0529/0.01 | 7/0.3228/0.01 | 8/0.3968/0.005 | 9/0.4127/0.005 | 10/0.4233/0.005 | 11/0.3439/0.005 | 12/0.0847/0.005 | 13/0.0106/0.005 | 14/0.0000/0.0025 | 15/0.0000/0.0025 | 16/0.0000/0.0025 | 17/0.0000/0.0025 | 18/0.0000/0.0025 | 19/0.0000/0.0025 | 20/0.0000/0.00125 | 21/0.0000/0.00125 | 22/0.0000/0.00125 | 23/0.0106/0.00125 | 24/0.0159/0.00125 | 25/0.0370/0.00125 | 26/0.0423/0.000625 | 27/0.0476/0.000625 | 28/0.0529/0.000625 | 29/0.0688/0.000625 | 30/0.0688/0.000625 | 31/0.0688/0.000625 | 32/0.0688/0.0003125 | 33/0.0688/0.0003125 | 34/0.0741/0.0003125 | 35/0.0741/0.0003125 | 36/0.0794/0.0003125 | 37/0.0794/0.0003125 | 38/0.0847/0.00015625 | 39/0.0952/0.00015625 | 40/0.0952/0.00015625 | 41/0.1005/0.00015625 | 42/0.1005/0.00015625 | 43/0.1111/0.00015625 | 44/0.1164/7.8125e-05 | 45/0.1217/7.8125e-05 | 46/0.1270/7.8125e-05 | 47/0.1323/7.8125e-05 | 48/0.1481/7.8125e-05 | 49/0.1587/7.8125e-05 | 50/0.1587/3.90625e-05 | 51/0.1587/3.90625e-05 | 52/0.1587/3.90625e-05 | 53/0.1640/3.90625e-05 | 54/0.1640/3.90625e-05 | 55/0.1640/3.90625e-05 | 56/0.1746/1.953125e-05 | 57/0.1799/1.953125e-05 | 58/0.1852/1.953125e-05 | 59/0.1958/1.953125e-05 | 60/0.2011/1.953125e-05 | 61/0.2011/1.953125e-05 | 62/0.2063/9.765625e-06 | 63/0.2116/9.765625e-06 | 64/0.2169/9.765625e-06 | 65/0.2169/9.765625e-06 | 66/0.2222/9.765625e-06 | 67/0.2222/9.765625e-06 | 68/0.2328/4.8828125e-06 | 69/0.2381/4.8828125e-06 | 70/0.2381/4.8828125e-06 | 71/0.2381/4.8828125e-06 | 72/0.2381/4.8828125e-06 | 73/0.2381/4.8828125e-06 | 74/0.2381/2.44140625e-06 | 75/0.2434/2.44140625e-06 | 76/0.2434/2.44140625e-06 | 77/0.2434/2.44140625e-06 | 78/0.2434/2.44140625e-06 | 79/0.2434/2.44140625e-06 | 80/0.2434/1.220703125e-06 | 81/0.2434/1.220703125e-06 | 82/0.2434/1.220703125e-06 | 83/0.2434/1.220703125e-06 | 84/0.2487/1.220703125e-06 | 85/0.2487/1.220703125e-06 | 86/0.2487/6.103515625e-07 | Accuracy: 0.2839\n",
      "Evaluating dd dataset using random method with a percentile of 90 against class members\n",
      "Epoch/val accuracy/lr: "
     ]
    },
    {
     "name": "stderr",
     "output_type": "stream",
     "text": [
      "/opt/conda/lib/python3.10/site-packages/torch_geometric/deprecation.py:26: UserWarning: 'data.DataLoader' is deprecated, use 'loader.DataLoader' instead\n",
      "  warnings.warn(out)\n"
     ]
    },
    {
     "name": "stdout",
     "output_type": "stream",
     "text": [
      "1/0.0000/0.01 | 2/0.0000/0.01 | 3/0.0000/0.01 | 4/0.0283/0.01 | 5/0.2972/0.01 | 6/0.2547/0.01 | 7/0.1085/0.01 | 8/0.0991/0.005 | 9/0.0755/0.005 | 10/0.0755/0.005 | 11/0.0708/0.005 | 12/0.0566/0.005 | 13/0.0425/0.005 | 14/0.0425/0.0025 | 15/0.0425/0.0025 | 16/0.0519/0.0025 | 17/0.0755/0.0025 | 18/0.1085/0.0025 | 19/0.1132/0.0025 | 20/0.1274/0.00125 | 21/0.1462/0.00125 | 22/0.1509/0.00125 | 23/0.1368/0.00125 | 24/0.1179/0.00125 | 25/0.1085/0.00125 | 26/0.1038/0.000625 | 27/0.1038/0.000625 | 28/0.1038/0.000625 | 29/0.0991/0.000625 | 30/0.0991/0.000625 | 31/0.0991/0.000625 | 32/0.0991/0.0003125 | 33/0.1085/0.0003125 | 34/0.1179/0.0003125 | 35/0.1226/0.0003125 | 36/0.1274/0.0003125 | 37/0.1321/0.0003125 | 38/0.1415/0.00015625 | 39/0.1415/0.00015625 | 40/0.1415/0.00015625 | 41/0.1415/0.00015625 | 42/0.1415/0.00015625 | 43/0.1462/0.00015625 | 44/0.1462/7.8125e-05 | 45/0.1462/7.8125e-05 | 46/0.1462/7.8125e-05 | 47/0.1462/7.8125e-05 | 48/0.1557/7.8125e-05 | 49/0.1604/7.8125e-05 | 50/0.1604/3.90625e-05 | 51/0.1651/3.90625e-05 | 52/0.1651/3.90625e-05 | 53/0.1651/3.90625e-05 | 54/0.1698/3.90625e-05 | 55/0.1745/3.90625e-05 | 56/0.1745/1.953125e-05 | 57/0.1745/1.953125e-05 | 58/0.1745/1.953125e-05 | 59/0.1745/1.953125e-05 | 60/0.1745/1.953125e-05 | 61/0.1745/1.953125e-05 | 62/0.1840/9.765625e-06 | 63/0.1840/9.765625e-06 | 64/0.1887/9.765625e-06 | 65/0.1887/9.765625e-06 | 66/0.1887/9.765625e-06 | 67/0.1887/9.765625e-06 | 68/0.1887/4.8828125e-06 | 69/0.1887/4.8828125e-06 | 70/0.1887/4.8828125e-06 | 71/0.1934/4.8828125e-06 | 72/0.1934/4.8828125e-06 | 73/0.1934/4.8828125e-06 | 74/0.1934/2.44140625e-06 | 75/0.1934/2.44140625e-06 | 76/0.1934/2.44140625e-06 | 77/0.1934/2.44140625e-06 | 78/0.1934/2.44140625e-06 | 79/0.2028/2.44140625e-06 | 80/0.2075/1.220703125e-06 | 81/0.2075/1.220703125e-06 | 82/0.2075/1.220703125e-06 | 83/0.2075/1.220703125e-06 | 84/0.2075/1.220703125e-06 | 85/0.2123/1.220703125e-06 | 86/0.2123/6.103515625e-07 | Accuracy: 0.2288\n",
      "Evaluating dd dataset using graph_order method with a percentile of 40 against class members\n",
      "Epoch/val accuracy/lr: "
     ]
    },
    {
     "name": "stderr",
     "output_type": "stream",
     "text": [
      "/opt/conda/lib/python3.10/site-packages/torch_geometric/deprecation.py:26: UserWarning: 'data.DataLoader' is deprecated, use 'loader.DataLoader' instead\n",
      "  warnings.warn(out)\n"
     ]
    },
    {
     "name": "stdout",
     "output_type": "stream",
     "text": [
      "1/0.3368/0.01 | 2/0.0105/0.01 | 3/0.0211/0.01 | 4/0.0211/0.01 | 5/0.0421/0.01 | 6/0.0105/0.01 | 7/0.0105/0.01 | 8/0.0000/0.01 | 9/0.0105/0.01 | 10/0.0316/0.01 | 11/0.2211/0.01 | 12/0.4105/0.01 | 13/0.3368/0.01 | 14/0.1053/0.01 | 15/0.0632/0.005 | 16/0.0526/0.005 | 17/0.0421/0.005 | 18/0.0421/0.005 | 19/0.0421/0.005 | 20/0.0421/0.005 | 21/0.0526/0.0025 | 22/0.0526/0.0025 | 23/0.0526/0.0025 | 24/0.0632/0.0025 | 25/0.0632/0.0025 | 26/0.1053/0.0025 | 27/0.1053/0.00125 | 28/0.1053/0.00125 | 29/0.1263/0.00125 | 30/0.1684/0.00125 | 31/0.1789/0.00125 | 32/0.1895/0.00125 | 33/0.1895/0.000625 | 34/0.1895/0.000625 | 35/0.1895/0.000625 | 36/0.2000/0.000625 | 37/0.2000/0.000625 | 38/0.2000/0.000625 | 39/0.2000/0.0003125 | 40/0.2000/0.0003125 | 41/0.2211/0.0003125 | 42/0.2421/0.0003125 | 43/0.2526/0.0003125 | 44/0.2632/0.0003125 | 45/0.2632/0.00015625 | 46/0.2842/0.00015625 | 47/0.2842/0.00015625 | 48/0.2842/0.00015625 | 49/0.2842/0.00015625 | 50/0.2842/0.00015625 | 51/0.2842/7.8125e-05 | 52/0.3053/7.8125e-05 | 53/0.2947/7.8125e-05 | 54/0.2947/7.8125e-05 | 55/0.2842/7.8125e-05 | 56/0.2842/7.8125e-05 | 57/0.2947/3.90625e-05 | 58/0.3053/3.90625e-05 | 59/0.3053/3.90625e-05 | 60/0.3053/3.90625e-05 | 61/0.3053/3.90625e-05 | 62/0.3053/3.90625e-05 | 63/0.2947/1.953125e-05 | 64/0.2947/1.953125e-05 | 65/0.2947/1.953125e-05 | 66/0.2947/1.953125e-05 | 67/0.2947/1.953125e-05 | 68/0.2947/1.953125e-05 | 69/0.2947/9.765625e-06 | 70/0.2947/9.765625e-06 | 71/0.2947/9.765625e-06 | 72/0.2947/9.765625e-06 | 73/0.2947/9.765625e-06 | 74/0.2947/9.765625e-06 | 75/0.2947/4.8828125e-06 | 76/0.2947/4.8828125e-06 | 77/0.2947/4.8828125e-06 | 78/0.2947/4.8828125e-06 | 79/0.2842/4.8828125e-06 | 80/0.2842/4.8828125e-06 | 81/0.2842/2.44140625e-06 | 82/0.2842/2.44140625e-06 | 83/0.2842/2.44140625e-06 | 84/0.2842/2.44140625e-06 | 85/0.2947/2.44140625e-06 | 86/0.2947/2.44140625e-06 | 87/0.2947/1.220703125e-06 | 88/0.2947/1.220703125e-06 | 89/0.3053/1.220703125e-06 | 90/0.3053/1.220703125e-06 | 91/0.3053/1.220703125e-06 | 92/0.3053/1.220703125e-06 | 93/0.3053/6.103515625e-07 | Accuracy: 0.1119\n",
      "Evaluating dd dataset using graph_order method with a percentile of 50 against class members\n",
      "Epoch/val accuracy/lr: "
     ]
    },
    {
     "name": "stderr",
     "output_type": "stream",
     "text": [
      "/opt/conda/lib/python3.10/site-packages/torch_geometric/deprecation.py:26: UserWarning: 'data.DataLoader' is deprecated, use 'loader.DataLoader' instead\n",
      "  warnings.warn(out)\n"
     ]
    },
    {
     "name": "stdout",
     "output_type": "stream",
     "text": [
      "1/0.0085/0.01 | 2/0.0085/0.01 | 3/0.0000/0.01 | 4/0.0000/0.01 | 5/0.0000/0.01 | 6/0.0339/0.01 | 7/0.1271/0.01 | 8/0.1271/0.01 | 9/0.1695/0.01 | 10/0.1610/0.005 | 11/0.2712/0.005 | 12/0.3390/0.005 | 13/0.3983/0.005 | 14/0.3983/0.005 | 15/0.3898/0.005 | 16/0.3559/0.0025 | 17/0.2797/0.0025 | 18/0.1441/0.0025 | 19/0.0847/0.0025 | 20/0.0508/0.0025 | 21/0.0593/0.0025 | 22/0.1186/0.00125 | 23/0.1525/0.00125 | 24/0.2119/0.00125 | 25/0.2542/0.00125 | 26/0.3136/0.00125 | 27/0.3559/0.00125 | 28/0.3814/0.000625 | 29/0.3898/0.000625 | 30/0.3814/0.000625 | 31/0.3729/0.000625 | 32/0.3644/0.000625 | 33/0.3644/0.000625 | 34/0.3644/0.0003125 | 35/0.3644/0.0003125 | 36/0.3475/0.0003125 | 37/0.3305/0.0003125 | 38/0.3305/0.0003125 | 39/0.3220/0.0003125 | 40/0.3136/0.00015625 | 41/0.2881/0.00015625 | 42/0.2712/0.00015625 | 43/0.2881/0.00015625 | 44/0.2797/0.00015625 | 45/0.2627/0.00015625 | 46/0.2458/7.8125e-05 | 47/0.2458/7.8125e-05 | 48/0.2458/7.8125e-05 | 49/0.2542/7.8125e-05 | 50/0.2458/7.8125e-05 | 51/0.2458/7.8125e-05 | 52/0.2458/3.90625e-05 | 53/0.2458/3.90625e-05 | 54/0.2373/3.90625e-05 | 55/0.2373/3.90625e-05 | 56/0.2373/3.90625e-05 | 57/0.2288/3.90625e-05 | 58/0.2288/1.953125e-05 | 59/0.2373/1.953125e-05 | 60/0.2373/1.953125e-05 | 61/0.2288/1.953125e-05 | 62/0.2203/1.953125e-05 | 63/0.2203/1.953125e-05 | 64/0.2203/9.765625e-06 | 65/0.2119/9.765625e-06 | 66/0.2034/9.765625e-06 | 67/0.2034/9.765625e-06 | 68/0.2034/9.765625e-06 | 69/0.2119/9.765625e-06 | 70/0.2034/4.8828125e-06 | 71/0.2119/4.8828125e-06 | 72/0.1949/4.8828125e-06 | 73/0.1864/4.8828125e-06 | 74/0.1864/4.8828125e-06 | 75/0.1949/4.8828125e-06 | 76/0.1949/2.44140625e-06 | 77/0.1949/2.44140625e-06 | 78/0.1864/2.44140625e-06 | 79/0.1864/2.44140625e-06 | 80/0.1864/2.44140625e-06 | 81/0.1864/2.44140625e-06 | 82/0.1864/1.220703125e-06 | 83/0.1864/1.220703125e-06 | 84/0.1864/1.220703125e-06 | 85/0.1780/1.220703125e-06 | 86/0.1780/1.220703125e-06 | 87/0.1780/1.220703125e-06 | 88/0.1695/6.103515625e-07 | Accuracy: 0.1156\n",
      "Evaluating dd dataset using graph_order method with a percentile of 60 against class members\n",
      "Epoch/val accuracy/lr: "
     ]
    },
    {
     "name": "stderr",
     "output_type": "stream",
     "text": [
      "/opt/conda/lib/python3.10/site-packages/torch_geometric/deprecation.py:26: UserWarning: 'data.DataLoader' is deprecated, use 'loader.DataLoader' instead\n",
      "  warnings.warn(out)\n"
     ]
    },
    {
     "name": "stdout",
     "output_type": "stream",
     "text": [
      "1/0.0000/0.01 | 2/0.0000/0.01 | 3/0.0000/0.01 | 4/0.0000/0.01 | 5/0.0000/0.01 | 6/0.0000/0.01 | 7/0.0000/0.01 | 8/0.0000/0.005 | 9/0.0000/0.005 | 10/0.0000/0.005 | 11/0.0000/0.005 | 12/0.0000/0.005 | 13/0.0000/0.005 | 14/0.0000/0.0025 | 15/0.0000/0.0025 | 16/0.0141/0.0025 | 17/0.0493/0.0025 | 18/0.1690/0.0025 | 19/0.3169/0.0025 | 20/0.3592/0.00125 | 21/0.3662/0.00125 | 22/0.3803/0.00125 | 23/0.3873/0.00125 | 24/0.3732/0.00125 | 25/0.3732/0.00125 | 26/0.3732/0.000625 | 27/0.3521/0.000625 | 28/0.3521/0.000625 | 29/0.3380/0.000625 | 30/0.3380/0.000625 | 31/0.3380/0.000625 | 32/0.3310/0.0003125 | 33/0.3239/0.0003125 | 34/0.3239/0.0003125 | 35/0.3239/0.0003125 | 36/0.3028/0.0003125 | 37/0.2958/0.0003125 | 38/0.2958/0.00015625 | 39/0.2958/0.00015625 | 40/0.2958/0.00015625 | 41/0.2958/0.00015625 | 42/0.2958/0.00015625 | 43/0.2958/0.00015625 | 44/0.2887/7.8125e-05 | 45/0.2676/7.8125e-05 | 46/0.2606/7.8125e-05 | 47/0.2606/7.8125e-05 | 48/0.2606/7.8125e-05 | 49/0.2606/7.8125e-05 | 50/0.2535/3.90625e-05 | 51/0.2465/3.90625e-05 | 52/0.2465/3.90625e-05 | 53/0.2324/3.90625e-05 | 54/0.2324/3.90625e-05 | 55/0.2324/3.90625e-05 | 56/0.2254/1.953125e-05 | 57/0.2254/1.953125e-05 | 58/0.2254/1.953125e-05 | 59/0.2254/1.953125e-05 | 60/0.2183/1.953125e-05 | 61/0.2183/1.953125e-05 | 62/0.2183/9.765625e-06 | 63/0.2183/9.765625e-06 | 64/0.2183/9.765625e-06 | 65/0.2113/9.765625e-06 | 66/0.2183/9.765625e-06 | 67/0.2254/9.765625e-06 | 68/0.2183/4.8828125e-06 | 69/0.2183/4.8828125e-06 | 70/0.2183/4.8828125e-06 | 71/0.2183/4.8828125e-06 | 72/0.2183/4.8828125e-06 | 73/0.2183/4.8828125e-06 | 74/0.2183/2.44140625e-06 | 75/0.2183/2.44140625e-06 | 76/0.2183/2.44140625e-06 | 77/0.2183/2.44140625e-06 | 78/0.2183/2.44140625e-06 | 79/0.2183/2.44140625e-06 | 80/0.2183/1.220703125e-06 | 81/0.2183/1.220703125e-06 | 82/0.2183/1.220703125e-06 | 83/0.2183/1.220703125e-06 | 84/0.2183/1.220703125e-06 | 85/0.2183/1.220703125e-06 | 86/0.2183/6.103515625e-07 | Accuracy: 0.1468\n",
      "Evaluating dd dataset using graph_order method with a percentile of 70 against class members\n",
      "Epoch/val accuracy/lr: "
     ]
    },
    {
     "name": "stderr",
     "output_type": "stream",
     "text": [
      "/opt/conda/lib/python3.10/site-packages/torch_geometric/deprecation.py:26: UserWarning: 'data.DataLoader' is deprecated, use 'loader.DataLoader' instead\n",
      "  warnings.warn(out)\n"
     ]
    },
    {
     "name": "stdout",
     "output_type": "stream",
     "text": [
      "1/0.3818/0.01 | 2/0.1394/0.01 | 3/0.2848/0.01 | 4/0.2121/0.01 | 5/0.0667/0.01 | 6/0.1576/0.01 | 7/0.1818/0.01 | 8/0.0364/0.01 | 9/0.0000/0.01 | 10/0.0000/0.01 | 11/0.0000/0.01 | 12/0.0000/0.01 | 13/0.0000/0.01 | 14/0.0000/0.01 | 15/0.0061/0.01 | 16/0.0061/0.005 | 17/0.0182/0.005 | 18/0.0182/0.005 | 19/0.0303/0.005 | 20/0.0303/0.005 | 21/0.0364/0.005 | 22/0.0485/0.0025 | 23/0.0788/0.0025 | 24/0.0848/0.0025 | 25/0.1030/0.0025 | 26/0.1152/0.0025 | 27/0.1576/0.0025 | 28/0.1697/0.00125 | 29/0.1818/0.00125 | 30/0.1939/0.00125 | 31/0.1939/0.00125 | 32/0.1939/0.00125 | 33/0.1939/0.00125 | 34/0.1939/0.000625 | 35/0.1939/0.000625 | 36/0.1939/0.000625 | 37/0.1939/0.000625 | 38/0.2000/0.000625 | 39/0.2000/0.000625 | 40/0.2000/0.0003125 | 41/0.2000/0.0003125 | 42/0.2000/0.0003125 | 43/0.2000/0.0003125 | 44/0.2061/0.0003125 | 45/0.2000/0.0003125 | 46/0.2000/0.00015625 | 47/0.2000/0.00015625 | 48/0.2000/0.00015625 | 49/0.2000/0.00015625 | 50/0.2121/0.00015625 | 51/0.2182/0.00015625 | 52/0.2182/7.8125e-05 | 53/0.2303/7.8125e-05 | 54/0.2303/7.8125e-05 | 55/0.2303/7.8125e-05 | 56/0.2303/7.8125e-05 | 57/0.2242/7.8125e-05 | 58/0.2303/3.90625e-05 | 59/0.2303/3.90625e-05 | 60/0.2303/3.90625e-05 | 61/0.2303/3.90625e-05 | 62/0.2364/3.90625e-05 | 63/0.2364/3.90625e-05 | 64/0.2303/1.953125e-05 | 65/0.2303/1.953125e-05 | 66/0.2364/1.953125e-05 | 67/0.2364/1.953125e-05 | 68/0.2364/1.953125e-05 | 69/0.2364/1.953125e-05 | 70/0.2364/9.765625e-06 | 71/0.2364/9.765625e-06 | 72/0.2364/9.765625e-06 | 73/0.2364/9.765625e-06 | 74/0.2364/9.765625e-06 | 75/0.2364/9.765625e-06 | 76/0.2364/4.8828125e-06 | 77/0.2364/4.8828125e-06 | 78/0.2364/4.8828125e-06 | 79/0.2424/4.8828125e-06 | 80/0.2364/4.8828125e-06 | 81/0.2424/4.8828125e-06 | 82/0.2424/2.44140625e-06 | 83/0.2424/2.44140625e-06 | 84/0.2485/2.44140625e-06 | 85/0.2485/2.44140625e-06 | 86/0.2485/2.44140625e-06 | 87/0.2485/2.44140625e-06 | 88/0.2485/1.220703125e-06 | 89/0.2485/1.220703125e-06 | 90/0.2485/1.220703125e-06 | 91/0.2485/1.220703125e-06 | 92/0.2485/1.220703125e-06 | 93/0.2485/1.220703125e-06 | 94/0.2485/6.103515625e-07 | Accuracy: 0.1331\n",
      "Evaluating dd dataset using graph_order method with a percentile of 80 against class members\n",
      "Epoch/val accuracy/lr: "
     ]
    },
    {
     "name": "stderr",
     "output_type": "stream",
     "text": [
      "/opt/conda/lib/python3.10/site-packages/torch_geometric/deprecation.py:26: UserWarning: 'data.DataLoader' is deprecated, use 'loader.DataLoader' instead\n",
      "  warnings.warn(out)\n"
     ]
    },
    {
     "name": "stdout",
     "output_type": "stream",
     "text": [
      "1/0.0000/0.01 | 2/0.0000/0.01 | 3/0.0000/0.01 | 4/0.0000/0.01 | 5/0.0000/0.01 | 6/0.0212/0.01 | 7/0.0317/0.01 | 8/0.1270/0.005 | 9/0.2116/0.005 | 10/0.2540/0.005 | 11/0.3175/0.005 | 12/0.3333/0.005 | 13/0.2857/0.005 | 14/0.3280/0.0025 | 15/0.3651/0.0025 | 16/0.3968/0.0025 | 17/0.3968/0.0025 | 18/0.4021/0.0025 | 19/0.4127/0.0025 | 20/0.4127/0.00125 | 21/0.4127/0.00125 | 22/0.4127/0.00125 | 23/0.4127/0.00125 | 24/0.4127/0.00125 | 25/0.4127/0.00125 | 26/0.4127/0.000625 | 27/0.4127/0.000625 | 28/0.4127/0.000625 | 29/0.4127/0.000625 | 30/0.4127/0.000625 | 31/0.4127/0.000625 | 32/0.4127/0.0003125 | 33/0.4074/0.0003125 | 34/0.4074/0.0003125 | 35/0.4074/0.0003125 | 36/0.3968/0.0003125 | 37/0.3862/0.0003125 | 38/0.3862/0.00015625 | 39/0.3651/0.00015625 | 40/0.3598/0.00015625 | 41/0.3545/0.00015625 | 42/0.3492/0.00015625 | 43/0.3492/0.00015625 | 44/0.3492/7.8125e-05 | 45/0.3386/7.8125e-05 | 46/0.3280/7.8125e-05 | 47/0.3280/7.8125e-05 | 48/0.3175/7.8125e-05 | 49/0.3175/7.8125e-05 | 50/0.3016/3.90625e-05 | 51/0.3016/3.90625e-05 | 52/0.3016/3.90625e-05 | 53/0.2963/3.90625e-05 | 54/0.2963/3.90625e-05 | 55/0.2963/3.90625e-05 | 56/0.2910/1.953125e-05 | 57/0.2910/1.953125e-05 | 58/0.2857/1.953125e-05 | 59/0.2751/1.953125e-05 | 60/0.2751/1.953125e-05 | 61/0.2698/1.953125e-05 | 62/0.2646/9.765625e-06 | 63/0.2646/9.765625e-06 | 64/0.2646/9.765625e-06 | 65/0.2646/9.765625e-06 | 66/0.2646/9.765625e-06 | 67/0.2646/9.765625e-06 | 68/0.2646/4.8828125e-06 | 69/0.2646/4.8828125e-06 | 70/0.2540/4.8828125e-06 | 71/0.2540/4.8828125e-06 | 72/0.2540/4.8828125e-06 | 73/0.2540/4.8828125e-06 | 74/0.2540/2.44140625e-06 | 75/0.2540/2.44140625e-06 | 76/0.2540/2.44140625e-06 | 77/0.2487/2.44140625e-06 | 78/0.2540/2.44140625e-06 | 79/0.2487/2.44140625e-06 | 80/0.2487/1.220703125e-06 | 81/0.2540/1.220703125e-06 | 82/0.2540/1.220703125e-06 | 83/0.2540/1.220703125e-06 | 84/0.2487/1.220703125e-06 | 85/0.2487/1.220703125e-06 | 86/0.2487/6.103515625e-07 | Accuracy: 0.1745\n",
      "Evaluating dd dataset using graph_order method with a percentile of 90 against class members\n",
      "Epoch/val accuracy/lr: "
     ]
    },
    {
     "name": "stderr",
     "output_type": "stream",
     "text": [
      "/opt/conda/lib/python3.10/site-packages/torch_geometric/deprecation.py:26: UserWarning: 'data.DataLoader' is deprecated, use 'loader.DataLoader' instead\n",
      "  warnings.warn(out)\n"
     ]
    },
    {
     "name": "stdout",
     "output_type": "stream",
     "text": [
      "1/0.4038/0.01 | 2/0.4038/0.01 | 3/0.0845/0.01 | 4/0.0469/0.01 | 5/0.0376/0.01 | 6/0.0094/0.01 | 7/0.0141/0.01 | 8/0.0188/0.01 | 9/0.0188/0.01 | 10/0.0141/0.01 | 11/0.0141/0.01 | 12/0.0141/0.01 | 13/0.0188/0.005 | 14/0.1127/0.005 | 15/0.2582/0.005 | 16/0.3099/0.005 | 17/0.3662/0.005 | 18/0.3803/0.005 | 19/0.3850/0.0025 | 20/0.3803/0.0025 | 21/0.3803/0.0025 | 22/0.3803/0.0025 | 23/0.3756/0.0025 | 24/0.3756/0.0025 | 25/0.3662/0.00125 | 26/0.3380/0.00125 | 27/0.3239/0.00125 | 28/0.3192/0.00125 | 29/0.3052/0.00125 | 30/0.2958/0.00125 | 31/0.2958/0.000625 | 32/0.2958/0.000625 | 33/0.2958/0.000625 | 34/0.2817/0.000625 | 35/0.2723/0.000625 | 36/0.2723/0.000625 | 37/0.2676/0.0003125 | 38/0.2629/0.0003125 | 39/0.2582/0.0003125 | 40/0.2535/0.0003125 | 41/0.2488/0.0003125 | 42/0.2441/0.0003125 | 43/0.2394/0.00015625 | 44/0.2394/0.00015625 | 45/0.2394/0.00015625 | 46/0.2347/0.00015625 | 47/0.2347/0.00015625 | 48/0.2347/0.00015625 | 49/0.2160/7.8125e-05 | 50/0.2160/7.8125e-05 | 51/0.2160/7.8125e-05 | 52/0.2160/7.8125e-05 | 53/0.2113/7.8125e-05 | 54/0.2113/7.8125e-05 | 55/0.2113/3.90625e-05 | 56/0.2113/3.90625e-05 | 57/0.2113/3.90625e-05 | 58/0.2113/3.90625e-05 | 59/0.2113/3.90625e-05 | 60/0.2113/3.90625e-05 | 61/0.2113/1.953125e-05 | 62/0.2113/1.953125e-05 | 63/0.2113/1.953125e-05 | 64/0.2160/1.953125e-05 | 65/0.2207/1.953125e-05 | 66/0.2207/1.953125e-05 | 67/0.2207/9.765625e-06 | 68/0.2207/9.765625e-06 | 69/0.2207/9.765625e-06 | 70/0.2207/9.765625e-06 | 71/0.2207/9.765625e-06 | 72/0.2207/9.765625e-06 | 73/0.2207/4.8828125e-06 | 74/0.2207/4.8828125e-06 | 75/0.2207/4.8828125e-06 | 76/0.2207/4.8828125e-06 | 77/0.2207/4.8828125e-06 | 78/0.2207/4.8828125e-06 | 79/0.2207/2.44140625e-06 | 80/0.2207/2.44140625e-06 | 81/0.2207/2.44140625e-06 | 82/0.2207/2.44140625e-06 | 83/0.2207/2.44140625e-06 | 84/0.2207/2.44140625e-06 | 85/0.2207/1.220703125e-06 | 86/0.2207/1.220703125e-06 | 87/0.2207/1.220703125e-06 | 88/0.2207/1.220703125e-06 | 89/0.2254/1.220703125e-06 | 90/0.2254/1.220703125e-06 | 91/0.2254/6.103515625e-07 | Accuracy: 0.1709\n",
      "Evaluating dd dataset using cos_sim method with a percentile of 40 against class members\n",
      "Epoch/val accuracy/lr: "
     ]
    },
    {
     "name": "stderr",
     "output_type": "stream",
     "text": [
      "/opt/conda/lib/python3.10/site-packages/torch_geometric/deprecation.py:26: UserWarning: 'data.DataLoader' is deprecated, use 'loader.DataLoader' instead\n",
      "  warnings.warn(out)\n"
     ]
    },
    {
     "name": "stdout",
     "output_type": "stream",
     "text": [
      "1/0.0000/0.01 | 2/0.0105/0.01 | 3/0.0000/0.01 | 4/0.0000/0.01 | 5/0.0000/0.01 | 6/0.0000/0.01 | 7/0.0105/0.01 | 8/0.0000/0.005 | 9/0.0000/0.005 | 10/0.0000/0.005 | 11/0.0000/0.005 | 12/0.0000/0.005 | 13/0.0105/0.005 | 14/0.0105/0.0025 | 15/0.0105/0.0025 | 16/0.0105/0.0025 | 17/0.0000/0.0025 | 18/0.0105/0.0025 | 19/0.0105/0.0025 | 20/0.0105/0.00125 | 21/0.0105/0.00125 | 22/0.0105/0.00125 | 23/0.0105/0.00125 | 24/0.0105/0.00125 | 25/0.0105/0.00125 | 26/0.0105/0.000625 | 27/0.0105/0.000625 | 28/0.0211/0.000625 | 29/0.0211/0.000625 | 30/0.0316/0.000625 | 31/0.0316/0.000625 | 32/0.0316/0.0003125 | 33/0.0316/0.0003125 | 34/0.0316/0.0003125 | 35/0.0421/0.0003125 | 36/0.0421/0.0003125 | 37/0.0421/0.0003125 | 38/0.0421/0.00015625 | 39/0.0421/0.00015625 | 40/0.0421/0.00015625 | 41/0.0421/0.00015625 | 42/0.0421/0.00015625 | 43/0.0526/0.00015625 | 44/0.0526/7.8125e-05 | 45/0.0632/7.8125e-05 | 46/0.0737/7.8125e-05 | 47/0.0737/7.8125e-05 | 48/0.0737/7.8125e-05 | 49/0.0737/7.8125e-05 | 50/0.0737/3.90625e-05 | 51/0.0842/3.90625e-05 | 52/0.0842/3.90625e-05 | 53/0.0842/3.90625e-05 | 54/0.0842/3.90625e-05 | 55/0.0947/3.90625e-05 | 56/0.0947/1.953125e-05 | 57/0.0947/1.953125e-05 | 58/0.0947/1.953125e-05 | 59/0.1053/1.953125e-05 | 60/0.1158/1.953125e-05 | 61/0.1263/1.953125e-05 | 62/0.1263/9.765625e-06 | 63/0.1368/9.765625e-06 | 64/0.1368/9.765625e-06 | 65/0.1474/9.765625e-06 | 66/0.1368/9.765625e-06 | 67/0.1474/9.765625e-06 | 68/0.1579/4.8828125e-06 | 69/0.1684/4.8828125e-06 | 70/0.1684/4.8828125e-06 | 71/0.1789/4.8828125e-06 | 72/0.1789/4.8828125e-06 | 73/0.1789/4.8828125e-06 | 74/0.1789/2.44140625e-06 | 75/0.1789/2.44140625e-06 | 76/0.1789/2.44140625e-06 | 77/0.1789/2.44140625e-06 | 78/0.1895/2.44140625e-06 | 79/0.1895/2.44140625e-06 | 80/0.1895/1.220703125e-06 | 81/0.1895/1.220703125e-06 | 82/0.2000/1.220703125e-06 | 83/0.2000/1.220703125e-06 | 84/0.2000/1.220703125e-06 | 85/0.2000/1.220703125e-06 | 86/0.2000/6.103515625e-07 | Accuracy: 0.1275\n",
      "Evaluating dd dataset using cos_sim method with a percentile of 50 against class members\n",
      "Epoch/val accuracy/lr: "
     ]
    },
    {
     "name": "stderr",
     "output_type": "stream",
     "text": [
      "/opt/conda/lib/python3.10/site-packages/torch_geometric/deprecation.py:26: UserWarning: 'data.DataLoader' is deprecated, use 'loader.DataLoader' instead\n",
      "  warnings.warn(out)\n"
     ]
    },
    {
     "name": "stdout",
     "output_type": "stream",
     "text": [
      "1/0.3475/0.01 | 2/0.0000/0.01 | 3/0.0000/0.01 | 4/0.0000/0.01 | 5/0.0000/0.01 | 6/0.0000/0.01 | 7/0.0000/0.01 | 8/0.0000/0.01 | 9/0.0000/0.005 | 10/0.0000/0.005 | 11/0.0000/0.005 | 12/0.0000/0.005 | 13/0.0000/0.005 | 14/0.0000/0.005 | 15/0.0000/0.0025 | 16/0.0000/0.0025 | 17/0.0000/0.0025 | 18/0.0000/0.0025 | 19/0.0000/0.0025 | 20/0.0000/0.0025 | 21/0.0000/0.00125 | 22/0.0000/0.00125 | 23/0.0000/0.00125 | 24/0.0000/0.00125 | 25/0.0000/0.00125 | 26/0.0000/0.00125 | 27/0.0000/0.000625 | 28/0.0085/0.000625 | 29/0.0085/0.000625 | 30/0.0085/0.000625 | 31/0.0169/0.000625 | 32/0.0254/0.000625 | 33/0.0254/0.0003125 | 34/0.0424/0.0003125 | 35/0.0508/0.0003125 | 36/0.0593/0.0003125 | 37/0.0593/0.0003125 | 38/0.0593/0.0003125 | 39/0.0593/0.00015625 | 40/0.0593/0.00015625 | 41/0.0593/0.00015625 | 42/0.0678/0.00015625 | 43/0.0678/0.00015625 | 44/0.0847/0.00015625 | 45/0.1017/7.8125e-05 | 46/0.1102/7.8125e-05 | 47/0.1102/7.8125e-05 | 48/0.1102/7.8125e-05 | 49/0.1186/7.8125e-05 | 50/0.1271/7.8125e-05 | 51/0.1186/3.90625e-05 | 52/0.1186/3.90625e-05 | 53/0.1271/3.90625e-05 | 54/0.1356/3.90625e-05 | 55/0.1356/3.90625e-05 | 56/0.1356/3.90625e-05 | 57/0.1356/1.953125e-05 | 58/0.1356/1.953125e-05 | 59/0.1356/1.953125e-05 | 60/0.1356/1.953125e-05 | 61/0.1356/1.953125e-05 | 62/0.1356/1.953125e-05 | 63/0.1610/9.765625e-06 | 64/0.1610/9.765625e-06 | 65/0.1610/9.765625e-06 | 66/0.1610/9.765625e-06 | 67/0.1610/9.765625e-06 | 68/0.1610/9.765625e-06 | 69/0.1610/4.8828125e-06 | 70/0.1610/4.8828125e-06 | 71/0.1610/4.8828125e-06 | 72/0.1610/4.8828125e-06 | 73/0.1610/4.8828125e-06 | 74/0.1610/4.8828125e-06 | 75/0.1610/2.44140625e-06 | 76/0.1610/2.44140625e-06 | 77/0.1610/2.44140625e-06 | 78/0.1610/2.44140625e-06 | 79/0.1610/2.44140625e-06 | 80/0.1610/2.44140625e-06 | 81/0.1610/1.220703125e-06 | 82/0.1610/1.220703125e-06 | 83/0.1695/1.220703125e-06 | 84/0.1695/1.220703125e-06 | 85/0.1695/1.220703125e-06 | 86/0.1695/1.220703125e-06 | 87/0.1695/6.103515625e-07 | Accuracy: 0.1446\n",
      "Evaluating dd dataset using cos_sim method with a percentile of 60 against class members\n",
      "Epoch/val accuracy/lr: "
     ]
    },
    {
     "name": "stderr",
     "output_type": "stream",
     "text": [
      "/opt/conda/lib/python3.10/site-packages/torch_geometric/deprecation.py:26: UserWarning: 'data.DataLoader' is deprecated, use 'loader.DataLoader' instead\n",
      "  warnings.warn(out)\n"
     ]
    },
    {
     "name": "stdout",
     "output_type": "stream",
     "text": [
      "1/0.0986/0.01 | 2/0.0070/0.01 | 3/0.0282/0.01 | 4/0.0352/0.01 | 5/0.1127/0.01 | 6/0.0775/0.01 | 7/0.1056/0.01 | 8/0.0211/0.01 | 9/0.0282/0.005 | 10/0.0211/0.005 | 11/0.0775/0.005 | 12/0.2535/0.005 | 13/0.3803/0.005 | 14/0.3873/0.005 | 15/0.3944/0.0025 | 16/0.4085/0.0025 | 17/0.4155/0.0025 | 18/0.4225/0.0025 | 19/0.4296/0.0025 | 20/0.4296/0.0025 | 21/0.4296/0.00125 | 22/0.4296/0.00125 | 23/0.4296/0.00125 | 24/0.4366/0.00125 | 25/0.4366/0.00125 | 26/0.4296/0.00125 | 27/0.4296/0.000625 | 28/0.4296/0.000625 | 29/0.4155/0.000625 | 30/0.4155/0.000625 | 31/0.4155/0.000625 | 32/0.4085/0.000625 | 33/0.3944/0.0003125 | 34/0.3873/0.0003125 | 35/0.3803/0.0003125 | 36/0.3803/0.0003125 | 37/0.3662/0.0003125 | 38/0.3592/0.0003125 | 39/0.3592/0.00015625 | 40/0.3451/0.00015625 | 41/0.3380/0.00015625 | 42/0.3380/0.00015625 | 43/0.3380/0.00015625 | 44/0.3310/0.00015625 | 45/0.3169/7.8125e-05 | 46/0.3169/7.8125e-05 | 47/0.2887/7.8125e-05 | 48/0.2817/7.8125e-05 | 49/0.2817/7.8125e-05 | 50/0.2746/7.8125e-05 | 51/0.2676/3.90625e-05 | 52/0.2606/3.90625e-05 | 53/0.2606/3.90625e-05 | 54/0.2606/3.90625e-05 | 55/0.2606/3.90625e-05 | 56/0.2606/3.90625e-05 | 57/0.2535/1.953125e-05 | 58/0.2535/1.953125e-05 | 59/0.2535/1.953125e-05 | 60/0.2535/1.953125e-05 | 61/0.2535/1.953125e-05 | 62/0.2535/1.953125e-05 | 63/0.2606/9.765625e-06 | 64/0.2535/9.765625e-06 | 65/0.2535/9.765625e-06 | 66/0.2606/9.765625e-06 | 67/0.2676/9.765625e-06 | 68/0.2746/9.765625e-06 | 69/0.2746/4.8828125e-06 | 70/0.2746/4.8828125e-06 | 71/0.2746/4.8828125e-06 | 72/0.2746/4.8828125e-06 | 73/0.2746/4.8828125e-06 | 74/0.2746/4.8828125e-06 | 75/0.2746/2.44140625e-06 | 76/0.2746/2.44140625e-06 | 77/0.2746/2.44140625e-06 | 78/0.2746/2.44140625e-06 | 79/0.2746/2.44140625e-06 | 80/0.2676/2.44140625e-06 | 81/0.2676/1.220703125e-06 | 82/0.2676/1.220703125e-06 | 83/0.2746/1.220703125e-06 | 84/0.2746/1.220703125e-06 | 85/0.2746/1.220703125e-06 | 86/0.2746/1.220703125e-06 | 87/0.2817/6.103515625e-07 | Accuracy: 0.1511\n",
      "Evaluating dd dataset using cos_sim method with a percentile of 70 against class members\n",
      "Epoch/val accuracy/lr: "
     ]
    },
    {
     "name": "stderr",
     "output_type": "stream",
     "text": [
      "/opt/conda/lib/python3.10/site-packages/torch_geometric/deprecation.py:26: UserWarning: 'data.DataLoader' is deprecated, use 'loader.DataLoader' instead\n",
      "  warnings.warn(out)\n"
     ]
    },
    {
     "name": "stdout",
     "output_type": "stream",
     "text": [
      "1/0.0000/0.01 | 2/0.0000/0.01 | 3/0.0000/0.01 | 4/0.0000/0.01 | 5/0.0000/0.01 | 6/0.0000/0.01 | 7/0.0000/0.01 | 8/0.0000/0.005 | 9/0.0000/0.005 | 10/0.0000/0.005 | 11/0.0000/0.005 | 12/0.0000/0.005 | 13/0.0061/0.005 | 14/0.0121/0.0025 | 15/0.0424/0.0025 | 16/0.0545/0.0025 | 17/0.0727/0.0025 | 18/0.0970/0.0025 | 19/0.0727/0.0025 | 20/0.0667/0.00125 | 21/0.0606/0.00125 | 22/0.0788/0.00125 | 23/0.0788/0.00125 | 24/0.0727/0.00125 | 25/0.0788/0.00125 | 26/0.0909/0.000625 | 27/0.1030/0.000625 | 28/0.1091/0.000625 | 29/0.1091/0.000625 | 30/0.1091/0.000625 | 31/0.1091/0.000625 | 32/0.1091/0.0003125 | 33/0.1273/0.0003125 | 34/0.1333/0.0003125 | 35/0.1333/0.0003125 | 36/0.1394/0.0003125 | 37/0.1515/0.0003125 | 38/0.1576/0.00015625 | 39/0.1697/0.00015625 | 40/0.1818/0.00015625 | 41/0.1879/0.00015625 | 42/0.2061/0.00015625 | 43/0.2121/0.00015625 | 44/0.2242/7.8125e-05 | 45/0.2303/7.8125e-05 | 46/0.2364/7.8125e-05 | 47/0.2364/7.8125e-05 | 48/0.2364/7.8125e-05 | 49/0.2364/7.8125e-05 | 50/0.2364/3.90625e-05 | 51/0.2364/3.90625e-05 | 52/0.2364/3.90625e-05 | 53/0.2364/3.90625e-05 | 54/0.2364/3.90625e-05 | 55/0.2364/3.90625e-05 | 56/0.2364/1.953125e-05 | 57/0.2424/1.953125e-05 | 58/0.2485/1.953125e-05 | 59/0.2485/1.953125e-05 | 60/0.2485/1.953125e-05 | 61/0.2545/1.953125e-05 | 62/0.2667/9.765625e-06 | 63/0.2606/9.765625e-06 | 64/0.2667/9.765625e-06 | 65/0.2667/9.765625e-06 | 66/0.2606/9.765625e-06 | 67/0.2667/9.765625e-06 | 68/0.2667/4.8828125e-06 | 69/0.2667/4.8828125e-06 | 70/0.2667/4.8828125e-06 | 71/0.2667/4.8828125e-06 | 72/0.2667/4.8828125e-06 | 73/0.2727/4.8828125e-06 | 74/0.2727/2.44140625e-06 | 75/0.2667/2.44140625e-06 | 76/0.2788/2.44140625e-06 | 77/0.2848/2.44140625e-06 | 78/0.2848/2.44140625e-06 | 79/0.2848/2.44140625e-06 | 80/0.2848/1.220703125e-06 | 81/0.2848/1.220703125e-06 | 82/0.2848/1.220703125e-06 | 83/0.2727/1.220703125e-06 | 84/0.2788/1.220703125e-06 | 85/0.2788/1.220703125e-06 | 86/0.2727/6.103515625e-07 | Accuracy: 0.1841\n",
      "Evaluating dd dataset using cos_sim method with a percentile of 80 against class members\n",
      "Epoch/val accuracy/lr: "
     ]
    },
    {
     "name": "stderr",
     "output_type": "stream",
     "text": [
      "/opt/conda/lib/python3.10/site-packages/torch_geometric/deprecation.py:26: UserWarning: 'data.DataLoader' is deprecated, use 'loader.DataLoader' instead\n",
      "  warnings.warn(out)\n"
     ]
    },
    {
     "name": "stdout",
     "output_type": "stream",
     "text": [
      "1/0.0000/0.01 | 2/0.0000/0.01 | 3/0.0000/0.01 | 4/0.0000/0.01 | 5/0.0635/0.01 | 6/0.3069/0.01 | 7/0.3439/0.01 | 8/0.3598/0.005 | 9/0.3810/0.005 | 10/0.3862/0.005 | 11/0.3757/0.005 | 12/0.3757/0.005 | 13/0.3810/0.005 | 14/0.3862/0.0025 | 15/0.3862/0.0025 | 16/0.3862/0.0025 | 17/0.3862/0.0025 | 18/0.3862/0.0025 | 19/0.3862/0.0025 | 20/0.3862/0.00125 | 21/0.3862/0.00125 | 22/0.3862/0.00125 | 23/0.3862/0.00125 | 24/0.3862/0.00125 | 25/0.3704/0.00125 | 26/0.3704/0.000625 | 27/0.3704/0.000625 | 28/0.3704/0.000625 | 29/0.3704/0.000625 | 30/0.3704/0.000625 | 31/0.3651/0.000625 | 32/0.3598/0.0003125 | 33/0.3492/0.0003125 | 34/0.3333/0.0003125 | 35/0.3228/0.0003125 | 36/0.3175/0.0003125 | 37/0.3069/0.0003125 | 38/0.2963/0.00015625 | 39/0.2857/0.00015625 | 40/0.2910/0.00015625 | 41/0.2857/0.00015625 | 42/0.2751/0.00015625 | 43/0.2698/0.00015625 | 44/0.2593/7.8125e-05 | 45/0.2540/7.8125e-05 | 46/0.2540/7.8125e-05 | 47/0.2540/7.8125e-05 | 48/0.2434/7.8125e-05 | 49/0.2434/7.8125e-05 | 50/0.2381/3.90625e-05 | 51/0.2434/3.90625e-05 | 52/0.2434/3.90625e-05 | 53/0.2434/3.90625e-05 | 54/0.2434/3.90625e-05 | 55/0.2381/3.90625e-05 | 56/0.2381/1.953125e-05 | 57/0.2381/1.953125e-05 | 58/0.2381/1.953125e-05 | 59/0.2487/1.953125e-05 | 60/0.2487/1.953125e-05 | 61/0.2487/1.953125e-05 | 62/0.2487/9.765625e-06 | 63/0.2434/9.765625e-06 | 64/0.2434/9.765625e-06 | 65/0.2381/9.765625e-06 | 66/0.2275/9.765625e-06 | 67/0.2275/9.765625e-06 | 68/0.2275/4.8828125e-06 | 69/0.2275/4.8828125e-06 | 70/0.2222/4.8828125e-06 | 71/0.2169/4.8828125e-06 | 72/0.2169/4.8828125e-06 | 73/0.2169/4.8828125e-06 | 74/0.2169/2.44140625e-06 | 75/0.2169/2.44140625e-06 | 76/0.2169/2.44140625e-06 | 77/0.2222/2.44140625e-06 | 78/0.2222/2.44140625e-06 | 79/0.2222/2.44140625e-06 | 80/0.2275/1.220703125e-06 | 81/0.2275/1.220703125e-06 | 82/0.2275/1.220703125e-06 | 83/0.2275/1.220703125e-06 | 84/0.2275/1.220703125e-06 | 85/0.2275/1.220703125e-06 | 86/0.2275/6.103515625e-07 | Accuracy: 0.1574\n",
      "Evaluating dd dataset using cos_sim method with a percentile of 90 against class members\n",
      "Epoch/val accuracy/lr: "
     ]
    },
    {
     "name": "stderr",
     "output_type": "stream",
     "text": [
      "/opt/conda/lib/python3.10/site-packages/torch_geometric/deprecation.py:26: UserWarning: 'data.DataLoader' is deprecated, use 'loader.DataLoader' instead\n",
      "  warnings.warn(out)\n"
     ]
    },
    {
     "name": "stdout",
     "output_type": "stream",
     "text": [
      "1/0.0000/0.01 | 2/0.0000/0.01 | 3/0.0000/0.01 | 4/0.0000/0.01 | 5/0.0094/0.01 | 6/0.0047/0.01 | 7/0.1315/0.01 | 8/0.3568/0.005 | 9/0.3991/0.005 | 10/0.4178/0.005 | 11/0.4178/0.005 | 12/0.4178/0.005 | 13/0.4178/0.005 | 14/0.4178/0.0025 | 15/0.4225/0.0025 | 16/0.4225/0.0025 | 17/0.4225/0.0025 | 18/0.4225/0.0025 | 19/0.4178/0.0025 | 20/0.4178/0.00125 | 21/0.4178/0.00125 | 22/0.4178/0.00125 | 23/0.4131/0.00125 | 24/0.4131/0.00125 | 25/0.4178/0.00125 | 26/0.4178/0.000625 | 27/0.4178/0.000625 | 28/0.4178/0.000625 | 29/0.4131/0.000625 | 30/0.4085/0.000625 | 31/0.4038/0.000625 | 32/0.3991/0.0003125 | 33/0.3991/0.0003125 | 34/0.3944/0.0003125 | 35/0.3897/0.0003125 | 36/0.3850/0.0003125 | 37/0.3850/0.0003125 | 38/0.3803/0.00015625 | 39/0.3803/0.00015625 | 40/0.3803/0.00015625 | 41/0.3756/0.00015625 | 42/0.3615/0.00015625 | 43/0.3521/0.00015625 | 44/0.3474/7.8125e-05 | 45/0.3380/7.8125e-05 | 46/0.3286/7.8125e-05 | 47/0.3192/7.8125e-05 | 48/0.3146/7.8125e-05 | 49/0.3099/7.8125e-05 | 50/0.3099/3.90625e-05 | 51/0.3099/3.90625e-05 | 52/0.3052/3.90625e-05 | 53/0.2958/3.90625e-05 | 54/0.2958/3.90625e-05 | 55/0.2911/3.90625e-05 | 56/0.2911/1.953125e-05 | 57/0.2864/1.953125e-05 | 58/0.2770/1.953125e-05 | 59/0.2723/1.953125e-05 | 60/0.2629/1.953125e-05 | 61/0.2582/1.953125e-05 | 62/0.2582/9.765625e-06 | 63/0.2535/9.765625e-06 | 64/0.2535/9.765625e-06 | 65/0.2394/9.765625e-06 | 66/0.2394/9.765625e-06 | 67/0.2347/9.765625e-06 | 68/0.2300/4.8828125e-06 | 69/0.2300/4.8828125e-06 | 70/0.2300/4.8828125e-06 | 71/0.2300/4.8828125e-06 | 72/0.2300/4.8828125e-06 | 73/0.2207/4.8828125e-06 | 74/0.2254/2.44140625e-06 | 75/0.2300/2.44140625e-06 | 76/0.2254/2.44140625e-06 | 77/0.2207/2.44140625e-06 | 78/0.2254/2.44140625e-06 | 79/0.2207/2.44140625e-06 | 80/0.2207/1.220703125e-06 | 81/0.2207/1.220703125e-06 | 82/0.2160/1.220703125e-06 | 83/0.2160/1.220703125e-06 | 84/0.2207/1.220703125e-06 | 85/0.2113/1.220703125e-06 | 86/0.2113/6.103515625e-07 | Accuracy: 0.1880\n",
      "Evaluating nci1 dataset using random method with a percentile of 40 against class members\n",
      "Epoch/val accuracy/lr: "
     ]
    },
    {
     "name": "stderr",
     "output_type": "stream",
     "text": [
      "/opt/conda/lib/python3.10/site-packages/torch_geometric/deprecation.py:26: UserWarning: 'data.DataLoader' is deprecated, use 'loader.DataLoader' instead\n",
      "  warnings.warn(out)\n"
     ]
    },
    {
     "name": "stdout",
     "output_type": "stream",
     "text": [
      "1/0.0000/0.01 | 2/0.0000/0.01 | 3/0.0000/0.01 | 4/0.1398/0.01 | 5/0.3313/0.01 | 6/0.4924/0.01 | 7/0.4954/0.01 | 8/0.4954/0.005 | 9/0.4954/0.005 | 10/0.4954/0.005 | 11/0.4954/0.005 | 12/0.4954/0.005 | 13/0.4954/0.005 | 14/0.4894/0.0025 | 15/0.4833/0.0025 | 16/0.4833/0.0025 | 17/0.4772/0.0025 | 18/0.4681/0.0025 | 19/0.4559/0.0025 | 20/0.4498/0.00125 | 21/0.4498/0.00125 | 22/0.4498/0.00125 | 23/0.4468/0.00125 | 24/0.4468/0.00125 | 25/0.4468/0.00125 | 26/0.4468/0.000625 | 27/0.4407/0.000625 | 28/0.4407/0.000625 | 29/0.4377/0.000625 | 30/0.4377/0.000625 | 31/0.4347/0.000625 | 32/0.4316/0.0003125 | 33/0.4316/0.0003125 | 34/0.4316/0.0003125 | 35/0.4255/0.0003125 | 36/0.4255/0.0003125 | 37/0.4225/0.0003125 | 38/0.4225/0.00015625 | 39/0.4225/0.00015625 | 40/0.4164/0.00015625 | 41/0.4164/0.00015625 | 42/0.4134/0.00015625 | 43/0.4012/0.00015625 | 44/0.3891/7.8125e-05 | 45/0.3799/7.8125e-05 | 46/0.3708/7.8125e-05 | 47/0.3708/7.8125e-05 | 48/0.3617/7.8125e-05 | 49/0.3647/7.8125e-05 | 50/0.3647/3.90625e-05 | 51/0.3678/3.90625e-05 | 52/0.3678/3.90625e-05 | 53/0.3647/3.90625e-05 | 54/0.3617/3.90625e-05 | 55/0.3617/3.90625e-05 | 56/0.3617/1.953125e-05 | 57/0.3556/1.953125e-05 | 58/0.3526/1.953125e-05 | 59/0.3495/1.953125e-05 | 60/0.3465/1.953125e-05 | 61/0.3495/1.953125e-05 | 62/0.3465/9.765625e-06 | 63/0.3495/9.765625e-06 | 64/0.3495/9.765625e-06 | 65/0.3526/9.765625e-06 | 66/0.3526/9.765625e-06 | 67/0.3526/9.765625e-06 | 68/0.3435/4.8828125e-06 | 69/0.3404/4.8828125e-06 | 70/0.3404/4.8828125e-06 | 71/0.3404/4.8828125e-06 | 72/0.3404/4.8828125e-06 | 73/0.3404/4.8828125e-06 | 74/0.3374/2.44140625e-06 | 75/0.3374/2.44140625e-06 | 76/0.3343/2.44140625e-06 | 77/0.3343/2.44140625e-06 | 78/0.3343/2.44140625e-06 | 79/0.3343/2.44140625e-06 | 80/0.3343/1.220703125e-06 | 81/0.3374/1.220703125e-06 | 82/0.3374/1.220703125e-06 | 83/0.3374/1.220703125e-06 | 84/0.3343/1.220703125e-06 | 85/0.3343/1.220703125e-06 | 86/0.3313/6.103515625e-07 | Accuracy: 0.3325\n",
      "Evaluating nci1 dataset using random method with a percentile of 50 against class members\n",
      "Epoch/val accuracy/lr: "
     ]
    },
    {
     "name": "stderr",
     "output_type": "stream",
     "text": [
      "/opt/conda/lib/python3.10/site-packages/torch_geometric/deprecation.py:26: UserWarning: 'data.DataLoader' is deprecated, use 'loader.DataLoader' instead\n",
      "  warnings.warn(out)\n"
     ]
    },
    {
     "name": "stdout",
     "output_type": "stream",
     "text": [
      "1/0.5304/0.01 | 2/0.4964/0.01 | 3/0.5304/0.01 | 4/0.5304/0.01 | 5/0.5304/0.01 | 6/0.3796/0.01 | 7/0.4623/0.01 | 8/0.5304/0.01 | 9/0.5304/0.01 | 10/0.5304/0.01 | 11/0.5304/0.01 | 12/0.5182/0.01 | 13/0.5012/0.005 | 14/0.3844/0.005 | 15/0.3236/0.005 | 16/0.3455/0.005 | 17/0.3942/0.005 | 18/0.3650/0.005 | 19/0.1946/0.005 | 20/0.1752/0.005 | 21/0.1509/0.005 | 22/0.1800/0.005 | 23/0.3431/0.005 | 24/0.4161/0.005 | 25/0.4672/0.005 | 26/0.5280/0.005 | 27/0.5255/0.005 | 28/0.5207/0.0025 | 29/0.5134/0.0025 | 30/0.4574/0.0025 | 31/0.3942/0.0025 | 32/0.3820/0.0025 | 33/0.3747/0.0025 | 34/0.3625/0.00125 | 35/0.3455/0.00125 | 36/0.3382/0.00125 | 37/0.3090/0.00125 | 38/0.2944/0.00125 | 39/0.2336/0.00125 | 40/0.2311/0.000625 | 41/0.2190/0.000625 | 42/0.2092/0.000625 | 43/0.2068/0.000625 | 44/0.1971/0.000625 | 45/0.2068/0.000625 | 46/0.2238/0.0003125 | 47/0.2336/0.0003125 | 48/0.2336/0.0003125 | 49/0.2457/0.0003125 | 50/0.2506/0.0003125 | 51/0.2555/0.0003125 | 52/0.2555/0.00015625 | 53/0.2579/0.00015625 | 54/0.2652/0.00015625 | 55/0.2701/0.00015625 | 56/0.2774/0.00015625 | 57/0.2822/0.00015625 | 58/0.2920/7.8125e-05 | 59/0.2968/7.8125e-05 | 60/0.2993/7.8125e-05 | 61/0.3017/7.8125e-05 | 62/0.3090/7.8125e-05 | 63/0.3066/7.8125e-05 | 64/0.3066/3.90625e-05 | 65/0.3114/3.90625e-05 | 66/0.3114/3.90625e-05 | 67/0.3139/3.90625e-05 | 68/0.3090/3.90625e-05 | 69/0.3139/3.90625e-05 | 70/0.3139/1.953125e-05 | 71/0.3139/1.953125e-05 | 72/0.3163/1.953125e-05 | 73/0.3187/1.953125e-05 | 74/0.3187/1.953125e-05 | 75/0.3163/1.953125e-05 | 76/0.3212/9.765625e-06 | 77/0.3187/9.765625e-06 | 78/0.3236/9.765625e-06 | 79/0.3212/9.765625e-06 | 80/0.3187/9.765625e-06 | 81/0.3260/9.765625e-06 | 82/0.3236/4.8828125e-06 | 83/0.3236/4.8828125e-06 | 84/0.3236/4.8828125e-06 | 85/0.3187/4.8828125e-06 | 86/0.3212/4.8828125e-06 | 87/0.3212/4.8828125e-06 | 88/0.3212/2.44140625e-06 | 89/0.3212/2.44140625e-06 | 90/0.3236/2.44140625e-06 | 91/0.3236/2.44140625e-06 | 92/0.3236/2.44140625e-06 | 93/0.3236/2.44140625e-06 | 94/0.3285/1.220703125e-06 | 95/0.3285/1.220703125e-06 | 96/0.3285/1.220703125e-06 | 97/0.3285/1.220703125e-06 | 98/0.3260/1.220703125e-06 | 99/0.3260/1.220703125e-06 | 100/0.3285/6.103515625e-07 | Accuracy: 0.3173\n",
      "Evaluating nci1 dataset using random method with a percentile of 60 against class members\n",
      "Epoch/val accuracy/lr: "
     ]
    },
    {
     "name": "stderr",
     "output_type": "stream",
     "text": [
      "/opt/conda/lib/python3.10/site-packages/torch_geometric/deprecation.py:26: UserWarning: 'data.DataLoader' is deprecated, use 'loader.DataLoader' instead\n",
      "  warnings.warn(out)\n"
     ]
    },
    {
     "name": "stdout",
     "output_type": "stream",
     "text": [
      "1/0.4676/0.01 | 2/0.4676/0.01 | 3/0.4676/0.01 | 4/0.4676/0.01 | 5/0.4676/0.01 | 6/0.4676/0.01 | 7/0.4676/0.01 | 8/0.4656/0.005 | 9/0.4514/0.005 | 10/0.4291/0.005 | 11/0.4008/0.005 | 12/0.3320/0.005 | 13/0.2308/0.005 | 14/0.1316/0.005 | 15/0.1235/0.005 | 16/0.1579/0.005 | 17/0.2935/0.005 | 18/0.3887/0.005 | 19/0.4352/0.005 | 20/0.4656/0.005 | 21/0.4656/0.005 | 22/0.4656/0.0025 | 23/0.4636/0.0025 | 24/0.4615/0.0025 | 25/0.4555/0.0025 | 26/0.4474/0.0025 | 27/0.4393/0.0025 | 28/0.4352/0.00125 | 29/0.4312/0.00125 | 30/0.4190/0.00125 | 31/0.4069/0.00125 | 32/0.3968/0.00125 | 33/0.3765/0.00125 | 34/0.3664/0.000625 | 35/0.3543/0.000625 | 36/0.3522/0.000625 | 37/0.3401/0.000625 | 38/0.3340/0.000625 | 39/0.3239/0.000625 | 40/0.3117/0.0003125 | 41/0.3036/0.0003125 | 42/0.3016/0.0003125 | 43/0.2976/0.0003125 | 44/0.2854/0.0003125 | 45/0.2814/0.0003125 | 46/0.2794/0.00015625 | 47/0.2814/0.00015625 | 48/0.2834/0.00015625 | 49/0.2895/0.00015625 | 50/0.2874/0.00015625 | 51/0.2895/0.00015625 | 52/0.2955/7.8125e-05 | 53/0.2895/7.8125e-05 | 54/0.2915/7.8125e-05 | 55/0.2935/7.8125e-05 | 56/0.2955/7.8125e-05 | 57/0.3036/7.8125e-05 | 58/0.3057/3.90625e-05 | 59/0.3036/3.90625e-05 | 60/0.3057/3.90625e-05 | 61/0.3036/3.90625e-05 | 62/0.3097/3.90625e-05 | 63/0.3057/3.90625e-05 | 64/0.3077/1.953125e-05 | 65/0.3077/1.953125e-05 | 66/0.3077/1.953125e-05 | 67/0.3097/1.953125e-05 | 68/0.3117/1.953125e-05 | 69/0.3117/1.953125e-05 | 70/0.3158/9.765625e-06 | 71/0.3158/9.765625e-06 | 72/0.3158/9.765625e-06 | 73/0.3178/9.765625e-06 | 74/0.3178/9.765625e-06 | 75/0.3158/9.765625e-06 | 76/0.3158/4.8828125e-06 | 77/0.3178/4.8828125e-06 | 78/0.3178/4.8828125e-06 | 79/0.3158/4.8828125e-06 | 80/0.3198/4.8828125e-06 | 81/0.3198/4.8828125e-06 | 82/0.3198/2.44140625e-06 | 83/0.3158/2.44140625e-06 | 84/0.3198/2.44140625e-06 | 85/0.3219/2.44140625e-06 | 86/0.3219/2.44140625e-06 | 87/0.3219/2.44140625e-06 | 88/0.3239/1.220703125e-06 | 89/0.3219/1.220703125e-06 | 90/0.3219/1.220703125e-06 | 91/0.3219/1.220703125e-06 | 92/0.3219/1.220703125e-06 | 93/0.3219/1.220703125e-06 | 94/0.3219/6.103515625e-07 | Accuracy: 0.3485\n",
      "Evaluating nci1 dataset using random method with a percentile of 70 against class members\n",
      "Epoch/val accuracy/lr: "
     ]
    },
    {
     "name": "stderr",
     "output_type": "stream",
     "text": [
      "/opt/conda/lib/python3.10/site-packages/torch_geometric/deprecation.py:26: UserWarning: 'data.DataLoader' is deprecated, use 'loader.DataLoader' instead\n",
      "  warnings.warn(out)\n"
     ]
    },
    {
     "name": "stdout",
     "output_type": "stream",
     "text": [
      "1/0.4931/0.01 | 2/0.4931/0.01 | 3/0.4931/0.01 | 4/0.4931/0.01 | 5/0.4931/0.01 | 6/0.4722/0.01 | 7/0.2951/0.01 | 8/0.3854/0.01 | 9/0.4167/0.01 | 10/0.4340/0.01 | 11/0.2344/0.01 | 12/0.0538/0.01 | 13/0.0399/0.01 | 14/0.3142/0.01 | 15/0.3351/0.01 | 16/0.2222/0.01 | 17/0.2639/0.01 | 18/0.2188/0.01 | 19/0.0174/0.01 | 20/0.0052/0.01 | 21/0.0035/0.01 | 22/0.0017/0.01 | 23/0.0122/0.01 | 24/0.0451/0.01 | 25/0.1285/0.01 | 26/0.1927/0.01 | 27/0.2031/0.01 | 28/0.2083/0.01 | 29/0.2014/0.005 | 30/0.1979/0.005 | 31/0.2049/0.005 | 32/0.2031/0.005 | 33/0.2066/0.005 | 34/0.2066/0.005 | 35/0.2222/0.0025 | 36/0.2188/0.0025 | 37/0.2170/0.0025 | 38/0.2135/0.0025 | 39/0.2118/0.0025 | 40/0.2083/0.0025 | 41/0.2083/0.00125 | 42/0.2066/0.00125 | 43/0.2205/0.00125 | 44/0.2205/0.00125 | 45/0.2222/0.00125 | 46/0.2240/0.00125 | 47/0.2153/0.000625 | 48/0.2326/0.000625 | 49/0.2396/0.000625 | 50/0.2500/0.000625 | 51/0.2622/0.000625 | 52/0.2708/0.000625 | 53/0.2778/0.0003125 | 54/0.2847/0.0003125 | 55/0.2934/0.0003125 | 56/0.3021/0.0003125 | 57/0.3108/0.0003125 | 58/0.3160/0.0003125 | 59/0.3281/0.00015625 | 60/0.3316/0.00015625 | 61/0.3333/0.00015625 | 62/0.3333/0.00015625 | 63/0.3385/0.00015625 | 64/0.3438/0.00015625 | 65/0.3455/7.8125e-05 | 66/0.3576/7.8125e-05 | 67/0.3576/7.8125e-05 | 68/0.3559/7.8125e-05 | 69/0.3559/7.8125e-05 | 70/0.3594/7.8125e-05 | 71/0.3715/3.90625e-05 | 72/0.3715/3.90625e-05 | 73/0.3750/3.90625e-05 | 74/0.3767/3.90625e-05 | 75/0.3733/3.90625e-05 | 76/0.3733/3.90625e-05 | 77/0.3681/1.953125e-05 | 78/0.3767/1.953125e-05 | 79/0.3750/1.953125e-05 | 80/0.3715/1.953125e-05 | 81/0.3733/1.953125e-05 | 82/0.3785/1.953125e-05 | 83/0.3785/9.765625e-06 | 84/0.3750/9.765625e-06 | 85/0.3767/9.765625e-06 | 86/0.3785/9.765625e-06 | 87/0.3802/9.765625e-06 | 88/0.3802/9.765625e-06 | 89/0.3802/4.8828125e-06 | 90/0.3802/4.8828125e-06 | 91/0.3785/4.8828125e-06 | 92/0.3785/4.8828125e-06 | 93/0.3785/4.8828125e-06 | 94/0.3767/4.8828125e-06 | 95/0.3767/2.44140625e-06 | 96/0.3785/2.44140625e-06 | 97/0.3802/2.44140625e-06 | 98/0.3785/2.44140625e-06 | 99/0.3802/2.44140625e-06 | 100/0.3785/2.44140625e-06 | 101/0.3767/1.220703125e-06 | 102/0.3767/1.220703125e-06 | 103/0.3733/1.220703125e-06 | 104/0.3733/1.220703125e-06 | 105/0.3767/1.220703125e-06 | 106/0.3767/1.220703125e-06 | 107/0.3750/6.103515625e-07 | Accuracy: 0.3512\n",
      "Evaluating nci1 dataset using random method with a percentile of 80 against class members\n",
      "Epoch/val accuracy/lr: "
     ]
    },
    {
     "name": "stderr",
     "output_type": "stream",
     "text": [
      "/opt/conda/lib/python3.10/site-packages/torch_geometric/deprecation.py:26: UserWarning: 'data.DataLoader' is deprecated, use 'loader.DataLoader' instead\n",
      "  warnings.warn(out)\n"
     ]
    },
    {
     "name": "stdout",
     "output_type": "stream",
     "text": [
      "1/0.4605/0.01 | 2/0.0000/0.01 | 3/0.3936/0.01 | 4/0.4590/0.01 | 5/0.4347/0.01 | 6/0.4590/0.01 | 7/0.4605/0.01 | 8/0.4605/0.01 | 9/0.4605/0.005 | 10/0.4605/0.005 | 11/0.4605/0.005 | 12/0.4605/0.005 | 13/0.4605/0.005 | 14/0.4605/0.005 | 15/0.4605/0.0025 | 16/0.4559/0.0025 | 17/0.4529/0.0025 | 18/0.4514/0.0025 | 19/0.4438/0.0025 | 20/0.4407/0.0025 | 21/0.4362/0.00125 | 22/0.4286/0.00125 | 23/0.4240/0.00125 | 24/0.4195/0.00125 | 25/0.4149/0.00125 | 26/0.4027/0.00125 | 27/0.3906/0.000625 | 28/0.3784/0.000625 | 29/0.3693/0.000625 | 30/0.3571/0.000625 | 31/0.3541/0.000625 | 32/0.3526/0.000625 | 33/0.3495/0.0003125 | 34/0.3465/0.0003125 | 35/0.3465/0.0003125 | 36/0.3480/0.0003125 | 37/0.3465/0.0003125 | 38/0.3511/0.0003125 | 39/0.3450/0.00015625 | 40/0.3419/0.00015625 | 41/0.3404/0.00015625 | 42/0.3313/0.00015625 | 43/0.3237/0.00015625 | 44/0.3176/0.00015625 | 45/0.3161/7.8125e-05 | 46/0.3100/7.8125e-05 | 47/0.3085/7.8125e-05 | 48/0.3085/7.8125e-05 | 49/0.3040/7.8125e-05 | 50/0.3070/7.8125e-05 | 51/0.3055/3.90625e-05 | 52/0.3055/3.90625e-05 | 53/0.2994/3.90625e-05 | 54/0.2994/3.90625e-05 | 55/0.2979/3.90625e-05 | 56/0.2964/3.90625e-05 | 57/0.2948/1.953125e-05 | 58/0.2964/1.953125e-05 | 59/0.2948/1.953125e-05 | 60/0.2933/1.953125e-05 | 61/0.2948/1.953125e-05 | 62/0.2933/1.953125e-05 | 63/0.2918/9.765625e-06 | 64/0.2872/9.765625e-06 | 65/0.2872/9.765625e-06 | 66/0.2872/9.765625e-06 | 67/0.2857/9.765625e-06 | 68/0.2842/9.765625e-06 | 69/0.2827/4.8828125e-06 | 70/0.2827/4.8828125e-06 | 71/0.2827/4.8828125e-06 | 72/0.2827/4.8828125e-06 | 73/0.2827/4.8828125e-06 | 74/0.2827/4.8828125e-06 | 75/0.2842/2.44140625e-06 | 76/0.2827/2.44140625e-06 | 77/0.2796/2.44140625e-06 | 78/0.2796/2.44140625e-06 | 79/0.2796/2.44140625e-06 | 80/0.2796/2.44140625e-06 | 81/0.2796/1.220703125e-06 | 82/0.2796/1.220703125e-06 | 83/0.2796/1.220703125e-06 | 84/0.2796/1.220703125e-06 | 85/0.2796/1.220703125e-06 | 86/0.2796/1.220703125e-06 | 87/0.2766/6.103515625e-07 | Accuracy: 0.2956\n",
      "Evaluating nci1 dataset using random method with a percentile of 90 against class members\n",
      "Epoch/val accuracy/lr: "
     ]
    },
    {
     "name": "stderr",
     "output_type": "stream",
     "text": [
      "/opt/conda/lib/python3.10/site-packages/torch_geometric/deprecation.py:26: UserWarning: 'data.DataLoader' is deprecated, use 'loader.DataLoader' instead\n",
      "  warnings.warn(out)\n"
     ]
    },
    {
     "name": "stdout",
     "output_type": "stream",
     "text": [
      "1/0.4851/0.01 | 2/0.4851/0.01 | 3/0.4851/0.01 | 4/0.4851/0.01 | 5/0.4851/0.01 | 6/0.4851/0.01 | 7/0.4838/0.01 | 8/0.4716/0.01 | 9/0.1257/0.01 | 10/0.0135/0.01 | 11/0.0270/0.01 | 12/0.1149/0.01 | 13/0.4541/0.01 | 14/0.4730/0.01 | 15/0.4716/0.01 | 16/0.4689/0.01 | 17/0.4676/0.005 | 18/0.4595/0.005 | 19/0.4054/0.005 | 20/0.2824/0.005 | 21/0.2770/0.005 | 22/0.4054/0.005 | 23/0.4230/0.0025 | 24/0.4284/0.0025 | 25/0.4284/0.0025 | 26/0.4176/0.0025 | 27/0.4149/0.0025 | 28/0.4054/0.0025 | 29/0.3851/0.00125 | 30/0.3635/0.00125 | 31/0.3270/0.00125 | 32/0.2568/0.00125 | 33/0.1946/0.00125 | 34/0.1473/0.00125 | 35/0.1554/0.000625 | 36/0.1622/0.000625 | 37/0.1811/0.000625 | 38/0.1892/0.000625 | 39/0.2068/0.000625 | 40/0.2162/0.000625 | 41/0.2230/0.0003125 | 42/0.2311/0.0003125 | 43/0.2419/0.0003125 | 44/0.2541/0.0003125 | 45/0.2581/0.0003125 | 46/0.2676/0.0003125 | 47/0.2770/0.00015625 | 48/0.2824/0.00015625 | 49/0.2892/0.00015625 | 50/0.2959/0.00015625 | 51/0.2986/0.00015625 | 52/0.3041/0.00015625 | 53/0.3041/7.8125e-05 | 54/0.3068/7.8125e-05 | 55/0.3108/7.8125e-05 | 56/0.3081/7.8125e-05 | 57/0.3081/7.8125e-05 | 58/0.3095/7.8125e-05 | 59/0.3135/3.90625e-05 | 60/0.3122/3.90625e-05 | 61/0.3122/3.90625e-05 | 62/0.3135/3.90625e-05 | 63/0.3176/3.90625e-05 | 64/0.3189/3.90625e-05 | 65/0.3176/1.953125e-05 | 66/0.3176/1.953125e-05 | 67/0.3230/1.953125e-05 | 68/0.3230/1.953125e-05 | 69/0.3243/1.953125e-05 | 70/0.3284/1.953125e-05 | 71/0.3270/9.765625e-06 | 72/0.3270/9.765625e-06 | 73/0.3297/9.765625e-06 | 74/0.3311/9.765625e-06 | 75/0.3297/9.765625e-06 | 76/0.3284/9.765625e-06 | 77/0.3270/4.8828125e-06 | 78/0.3257/4.8828125e-06 | 79/0.3270/4.8828125e-06 | 80/0.3270/4.8828125e-06 | 81/0.3270/4.8828125e-06 | 82/0.3270/4.8828125e-06 | 83/0.3270/2.44140625e-06 | 84/0.3257/2.44140625e-06 | 85/0.3270/2.44140625e-06 | 86/0.3257/2.44140625e-06 | 87/0.3270/2.44140625e-06 | 88/0.3270/2.44140625e-06 | 89/0.3270/1.220703125e-06 | 90/0.3257/1.220703125e-06 | 91/0.3257/1.220703125e-06 | 92/0.3257/1.220703125e-06 | 93/0.3270/1.220703125e-06 | 94/0.3270/1.220703125e-06 | 95/0.3257/6.103515625e-07 | Accuracy: 0.3917\n",
      "Evaluating nci1 dataset using graph_order method with a percentile of 40 against class members\n",
      "Epoch/val accuracy/lr: "
     ]
    },
    {
     "name": "stderr",
     "output_type": "stream",
     "text": [
      "/opt/conda/lib/python3.10/site-packages/torch_geometric/deprecation.py:26: UserWarning: 'data.DataLoader' is deprecated, use 'loader.DataLoader' instead\n",
      "  warnings.warn(out)\n"
     ]
    },
    {
     "name": "stdout",
     "output_type": "stream",
     "text": [
      "1/0.5623/0.01 | 2/0.0821/0.01 | 3/0.0000/0.01 | 4/0.0030/0.01 | 5/0.0030/0.01 | 6/0.0000/0.01 | 7/0.0000/0.01 | 8/0.0304/0.01 | 9/0.2371/0.01 | 10/0.2492/0.005 | 11/0.1398/0.005 | 12/0.1064/0.005 | 13/0.0638/0.005 | 14/0.0426/0.005 | 15/0.1550/0.005 | 16/0.1733/0.0025 | 17/0.1824/0.0025 | 18/0.1824/0.0025 | 19/0.1884/0.0025 | 20/0.2067/0.0025 | 21/0.2158/0.0025 | 22/0.2128/0.00125 | 23/0.2036/0.00125 | 24/0.1945/0.00125 | 25/0.1945/0.00125 | 26/0.1945/0.00125 | 27/0.1763/0.00125 | 28/0.1763/0.000625 | 29/0.1672/0.000625 | 30/0.1702/0.000625 | 31/0.1702/0.000625 | 32/0.1672/0.000625 | 33/0.1733/0.000625 | 34/0.1793/0.0003125 | 35/0.1824/0.0003125 | 36/0.1884/0.0003125 | 37/0.2036/0.0003125 | 38/0.2097/0.0003125 | 39/0.2249/0.0003125 | 40/0.2280/0.00015625 | 41/0.2340/0.00015625 | 42/0.2371/0.00015625 | 43/0.2462/0.00015625 | 44/0.2492/0.00015625 | 45/0.2492/0.00015625 | 46/0.2614/7.8125e-05 | 47/0.2705/7.8125e-05 | 48/0.2918/7.8125e-05 | 49/0.3100/7.8125e-05 | 50/0.3161/7.8125e-05 | 51/0.3252/7.8125e-05 | 52/0.3374/3.90625e-05 | 53/0.3374/3.90625e-05 | 54/0.3374/3.90625e-05 | 55/0.3404/3.90625e-05 | 56/0.3647/3.90625e-05 | 57/0.3799/3.90625e-05 | 58/0.3769/1.953125e-05 | 59/0.3860/1.953125e-05 | 60/0.3891/1.953125e-05 | 61/0.4012/1.953125e-05 | 62/0.4073/1.953125e-05 | 63/0.4012/1.953125e-05 | 64/0.4073/9.765625e-06 | 65/0.4043/9.765625e-06 | 66/0.4043/9.765625e-06 | 67/0.4073/9.765625e-06 | 68/0.4043/9.765625e-06 | 69/0.4073/9.765625e-06 | 70/0.4164/4.8828125e-06 | 71/0.4225/4.8828125e-06 | 72/0.4255/4.8828125e-06 | 73/0.4286/4.8828125e-06 | 74/0.4286/4.8828125e-06 | 75/0.4286/4.8828125e-06 | 76/0.4164/2.44140625e-06 | 77/0.4195/2.44140625e-06 | 78/0.4134/2.44140625e-06 | 79/0.4195/2.44140625e-06 | 80/0.4195/2.44140625e-06 | 81/0.4225/2.44140625e-06 | 82/0.4225/1.220703125e-06 | 83/0.4195/1.220703125e-06 | 84/0.4134/1.220703125e-06 | 85/0.4195/1.220703125e-06 | 86/0.4195/1.220703125e-06 | 87/0.4195/1.220703125e-06 | 88/0.4103/6.103515625e-07 | Accuracy: 0.2682\n",
      "Evaluating nci1 dataset using graph_order method with a percentile of 50 against class members\n",
      "Epoch/val accuracy/lr: "
     ]
    },
    {
     "name": "stderr",
     "output_type": "stream",
     "text": [
      "/opt/conda/lib/python3.10/site-packages/torch_geometric/deprecation.py:26: UserWarning: 'data.DataLoader' is deprecated, use 'loader.DataLoader' instead\n",
      "  warnings.warn(out)\n"
     ]
    },
    {
     "name": "stdout",
     "output_type": "stream",
     "text": [
      "1/0.4879/0.01 | 2/0.4879/0.01 | 3/0.4879/0.01 | 4/0.4782/0.01 | 5/0.4879/0.01 | 6/0.4879/0.01 | 7/0.4879/0.01 | 8/0.4879/0.01 | 9/0.4879/0.01 | 10/0.4854/0.01 | 11/0.4830/0.005 | 12/0.4782/0.005 | 13/0.4709/0.005 | 14/0.4660/0.005 | 15/0.4442/0.005 | 16/0.4102/0.005 | 17/0.3786/0.005 | 18/0.3908/0.005 | 19/0.3762/0.005 | 20/0.3471/0.005 | 21/0.3398/0.005 | 22/0.3228/0.005 | 23/0.2767/0.005 | 24/0.2136/0.005 | 25/0.0825/0.005 | 26/0.0194/0.005 | 27/0.0049/0.005 | 28/0.0073/0.005 | 29/0.0024/0.005 | 30/0.0024/0.005 | 31/0.0073/0.005 | 32/0.0170/0.005 | 33/0.0267/0.005 | 34/0.0583/0.005 | 35/0.1189/0.005 | 36/0.1505/0.0025 | 37/0.2184/0.0025 | 38/0.2767/0.0025 | 39/0.3350/0.0025 | 40/0.3544/0.0025 | 41/0.3495/0.0025 | 42/0.3350/0.00125 | 43/0.3228/0.00125 | 44/0.2961/0.00125 | 45/0.2791/0.00125 | 46/0.2476/0.00125 | 47/0.2136/0.00125 | 48/0.2087/0.000625 | 49/0.2160/0.000625 | 50/0.2184/0.000625 | 51/0.2451/0.000625 | 52/0.2549/0.000625 | 53/0.2767/0.000625 | 54/0.2864/0.0003125 | 55/0.2937/0.0003125 | 56/0.2985/0.0003125 | 57/0.2913/0.0003125 | 58/0.2937/0.0003125 | 59/0.2913/0.0003125 | 60/0.2913/0.00015625 | 61/0.2888/0.00015625 | 62/0.2937/0.00015625 | 63/0.2888/0.00015625 | 64/0.2937/0.00015625 | 65/0.2961/0.00015625 | 66/0.2961/7.8125e-05 | 67/0.2985/7.8125e-05 | 68/0.2985/7.8125e-05 | 69/0.2985/7.8125e-05 | 70/0.3058/7.8125e-05 | 71/0.3058/7.8125e-05 | 72/0.3083/3.90625e-05 | 73/0.3131/3.90625e-05 | 74/0.3155/3.90625e-05 | 75/0.3155/3.90625e-05 | 76/0.3204/3.90625e-05 | 77/0.3204/3.90625e-05 | 78/0.3204/1.953125e-05 | 79/0.3204/1.953125e-05 | 80/0.3204/1.953125e-05 | 81/0.3204/1.953125e-05 | 82/0.3180/1.953125e-05 | 83/0.3180/1.953125e-05 | 84/0.3204/9.765625e-06 | 85/0.3204/9.765625e-06 | 86/0.3204/9.765625e-06 | 87/0.3252/9.765625e-06 | 88/0.3277/9.765625e-06 | 89/0.3301/9.765625e-06 | 90/0.3301/4.8828125e-06 | 91/0.3301/4.8828125e-06 | 92/0.3228/4.8828125e-06 | 93/0.3228/4.8828125e-06 | 94/0.3228/4.8828125e-06 | 95/0.3228/4.8828125e-06 | 96/0.3228/2.44140625e-06 | 97/0.3252/2.44140625e-06 | 98/0.3277/2.44140625e-06 | 99/0.3277/2.44140625e-06 | 100/0.3301/2.44140625e-06 | 101/0.3277/2.44140625e-06 | 102/0.3252/1.220703125e-06 | 103/0.3252/1.220703125e-06 | 104/0.3277/1.220703125e-06 | 105/0.3277/1.220703125e-06 | 106/0.3252/1.220703125e-06 | 107/0.3252/1.220703125e-06 | 108/0.3252/6.103515625e-07 | Accuracy: 0.3311\n",
      "Evaluating nci1 dataset using graph_order method with a percentile of 60 against class members\n",
      "Epoch/val accuracy/lr: "
     ]
    },
    {
     "name": "stderr",
     "output_type": "stream",
     "text": [
      "/opt/conda/lib/python3.10/site-packages/torch_geometric/deprecation.py:26: UserWarning: 'data.DataLoader' is deprecated, use 'loader.DataLoader' instead\n",
      "  warnings.warn(out)\n"
     ]
    },
    {
     "name": "stdout",
     "output_type": "stream",
     "text": [
      "1/0.5364/0.01 | 2/0.0000/0.01 | 3/0.0000/0.01 | 4/0.0000/0.01 | 5/0.0000/0.01 | 6/0.5162/0.01 | 7/0.5364/0.01 | 8/0.5364/0.01 | 9/0.5364/0.005 | 10/0.5364/0.005 | 11/0.5364/0.005 | 12/0.5344/0.005 | 13/0.5142/0.005 | 14/0.4919/0.005 | 15/0.4413/0.0025 | 16/0.4231/0.0025 | 17/0.3968/0.0025 | 18/0.3887/0.0025 | 19/0.3927/0.0025 | 20/0.3968/0.0025 | 21/0.3907/0.00125 | 22/0.3846/0.00125 | 23/0.3826/0.00125 | 24/0.3846/0.00125 | 25/0.3846/0.00125 | 26/0.3826/0.00125 | 27/0.3765/0.000625 | 28/0.3623/0.000625 | 29/0.3421/0.000625 | 30/0.3421/0.000625 | 31/0.3441/0.000625 | 32/0.3421/0.000625 | 33/0.3320/0.0003125 | 34/0.3320/0.0003125 | 35/0.3320/0.0003125 | 36/0.3300/0.0003125 | 37/0.3158/0.0003125 | 38/0.3178/0.0003125 | 39/0.3097/0.00015625 | 40/0.3138/0.00015625 | 41/0.3117/0.00015625 | 42/0.2996/0.00015625 | 43/0.2915/0.00015625 | 44/0.2976/0.00015625 | 45/0.2895/7.8125e-05 | 46/0.2955/7.8125e-05 | 47/0.2955/7.8125e-05 | 48/0.2976/7.8125e-05 | 49/0.2976/7.8125e-05 | 50/0.3057/7.8125e-05 | 51/0.3219/3.90625e-05 | 52/0.3219/3.90625e-05 | 53/0.3198/3.90625e-05 | 54/0.3239/3.90625e-05 | 55/0.3259/3.90625e-05 | 56/0.3279/3.90625e-05 | 57/0.3340/1.953125e-05 | 58/0.3421/1.953125e-05 | 59/0.3462/1.953125e-05 | 60/0.3462/1.953125e-05 | 61/0.3482/1.953125e-05 | 62/0.3522/1.953125e-05 | 63/0.3563/9.765625e-06 | 64/0.3603/9.765625e-06 | 65/0.3583/9.765625e-06 | 66/0.3583/9.765625e-06 | 67/0.3623/9.765625e-06 | 68/0.3623/9.765625e-06 | 69/0.3664/4.8828125e-06 | 70/0.3684/4.8828125e-06 | 71/0.3725/4.8828125e-06 | 72/0.3765/4.8828125e-06 | 73/0.3765/4.8828125e-06 | 74/0.3765/4.8828125e-06 | 75/0.3785/2.44140625e-06 | 76/0.3745/2.44140625e-06 | 77/0.3826/2.44140625e-06 | 78/0.3846/2.44140625e-06 | 79/0.3846/2.44140625e-06 | 80/0.3846/2.44140625e-06 | 81/0.3866/1.220703125e-06 | 82/0.3866/1.220703125e-06 | 83/0.3887/1.220703125e-06 | 84/0.3887/1.220703125e-06 | 85/0.3846/1.220703125e-06 | 86/0.3806/1.220703125e-06 | 87/0.3806/6.103515625e-07 | Accuracy: 0.3451\n",
      "Evaluating nci1 dataset using graph_order method with a percentile of 70 against class members\n",
      "Epoch/val accuracy/lr: "
     ]
    },
    {
     "name": "stderr",
     "output_type": "stream",
     "text": [
      "/opt/conda/lib/python3.10/site-packages/torch_geometric/deprecation.py:26: UserWarning: 'data.DataLoader' is deprecated, use 'loader.DataLoader' instead\n",
      "  warnings.warn(out)\n"
     ]
    },
    {
     "name": "stdout",
     "output_type": "stream",
     "text": [
      "1/0.0000/0.01 | 2/0.0000/0.01 | 3/0.3003/0.01 | 4/0.4931/0.01 | 5/0.4931/0.01 | 6/0.4618/0.01 | 7/0.1719/0.01 | 8/0.2257/0.005 | 9/0.3247/0.005 | 10/0.4549/0.005 | 11/0.4740/0.005 | 12/0.4722/0.005 | 13/0.4670/0.005 | 14/0.4618/0.0025 | 15/0.4566/0.0025 | 16/0.4462/0.0025 | 17/0.4340/0.0025 | 18/0.4236/0.0025 | 19/0.4115/0.0025 | 20/0.3941/0.00125 | 21/0.3837/0.00125 | 22/0.3663/0.00125 | 23/0.3368/0.00125 | 24/0.3056/0.00125 | 25/0.2674/0.00125 | 26/0.2569/0.000625 | 27/0.2483/0.000625 | 28/0.2344/0.000625 | 29/0.2240/0.000625 | 30/0.2066/0.000625 | 31/0.1875/0.000625 | 32/0.1927/0.0003125 | 33/0.1892/0.0003125 | 34/0.1892/0.0003125 | 35/0.1944/0.0003125 | 36/0.1962/0.0003125 | 37/0.1927/0.0003125 | 38/0.1962/0.00015625 | 39/0.2031/0.00015625 | 40/0.2170/0.00015625 | 41/0.2257/0.00015625 | 42/0.2361/0.00015625 | 43/0.2431/0.00015625 | 44/0.2517/7.8125e-05 | 45/0.2517/7.8125e-05 | 46/0.2604/7.8125e-05 | 47/0.2622/7.8125e-05 | 48/0.2708/7.8125e-05 | 49/0.2726/7.8125e-05 | 50/0.2743/3.90625e-05 | 51/0.2795/3.90625e-05 | 52/0.2795/3.90625e-05 | 53/0.2865/3.90625e-05 | 54/0.2882/3.90625e-05 | 55/0.2917/3.90625e-05 | 56/0.2917/1.953125e-05 | 57/0.2969/1.953125e-05 | 58/0.3003/1.953125e-05 | 59/0.3021/1.953125e-05 | 60/0.3021/1.953125e-05 | 61/0.3021/1.953125e-05 | 62/0.3038/9.765625e-06 | 63/0.3108/9.765625e-06 | 64/0.3142/9.765625e-06 | 65/0.3142/9.765625e-06 | 66/0.3125/9.765625e-06 | 67/0.3125/9.765625e-06 | 68/0.3125/4.8828125e-06 | 69/0.3160/4.8828125e-06 | 70/0.3194/4.8828125e-06 | 71/0.3194/4.8828125e-06 | 72/0.3212/4.8828125e-06 | 73/0.3212/4.8828125e-06 | 74/0.3212/2.44140625e-06 | 75/0.3212/2.44140625e-06 | 76/0.3247/2.44140625e-06 | 77/0.3247/2.44140625e-06 | 78/0.3247/2.44140625e-06 | 79/0.3281/2.44140625e-06 | 80/0.3299/1.220703125e-06 | 81/0.3316/1.220703125e-06 | 82/0.3316/1.220703125e-06 | 83/0.3316/1.220703125e-06 | 84/0.3299/1.220703125e-06 | 85/0.3299/1.220703125e-06 | 86/0.3316/6.103515625e-07 | Accuracy: 0.3401\n",
      "Evaluating nci1 dataset using graph_order method with a percentile of 80 against class members\n",
      "Epoch/val accuracy/lr: "
     ]
    },
    {
     "name": "stderr",
     "output_type": "stream",
     "text": [
      "/opt/conda/lib/python3.10/site-packages/torch_geometric/deprecation.py:26: UserWarning: 'data.DataLoader' is deprecated, use 'loader.DataLoader' instead\n",
      "  warnings.warn(out)\n"
     ]
    },
    {
     "name": "stdout",
     "output_type": "stream",
     "text": [
      "1/0.4909/0.01 | 2/0.4909/0.01 | 3/0.4909/0.01 | 4/0.4909/0.01 | 5/0.4909/0.01 | 6/0.4909/0.01 | 7/0.4696/0.01 | 8/0.3602/0.01 | 9/0.2827/0.01 | 10/0.1125/0.01 | 11/0.3222/0.01 | 12/0.4316/0.01 | 13/0.4711/0.01 | 14/0.4742/0.01 | 15/0.4073/0.01 | 16/0.1672/0.01 | 17/0.1960/0.005 | 18/0.0988/0.005 | 19/0.2812/0.005 | 20/0.4377/0.005 | 21/0.4711/0.005 | 22/0.4605/0.005 | 23/0.4407/0.005 | 24/0.4544/0.005 | 25/0.4590/0.0025 | 26/0.4605/0.0025 | 27/0.4635/0.0025 | 28/0.4650/0.0025 | 29/0.4635/0.0025 | 30/0.4514/0.0025 | 31/0.4438/0.00125 | 32/0.4362/0.00125 | 33/0.4301/0.00125 | 34/0.4210/0.00125 | 35/0.4103/0.00125 | 36/0.3921/0.00125 | 37/0.3845/0.000625 | 38/0.3739/0.000625 | 39/0.3678/0.000625 | 40/0.3617/0.000625 | 41/0.3556/0.000625 | 42/0.3511/0.000625 | 43/0.3435/0.0003125 | 44/0.3389/0.0003125 | 45/0.3374/0.0003125 | 46/0.3404/0.0003125 | 47/0.3374/0.0003125 | 48/0.3374/0.0003125 | 49/0.3374/0.00015625 | 50/0.3404/0.00015625 | 51/0.3419/0.00015625 | 52/0.3419/0.00015625 | 53/0.3480/0.00015625 | 54/0.3495/0.00015625 | 55/0.3526/7.8125e-05 | 56/0.3511/7.8125e-05 | 57/0.3541/7.8125e-05 | 58/0.3541/7.8125e-05 | 59/0.3526/7.8125e-05 | 60/0.3465/7.8125e-05 | 61/0.3511/3.90625e-05 | 62/0.3450/3.90625e-05 | 63/0.3480/3.90625e-05 | 64/0.3465/3.90625e-05 | 65/0.3511/3.90625e-05 | 66/0.3465/3.90625e-05 | 67/0.3495/1.953125e-05 | 68/0.3511/1.953125e-05 | 69/0.3526/1.953125e-05 | 70/0.3526/1.953125e-05 | 71/0.3526/1.953125e-05 | 72/0.3541/1.953125e-05 | 73/0.3541/9.765625e-06 | 74/0.3541/9.765625e-06 | 75/0.3541/9.765625e-06 | 76/0.3556/9.765625e-06 | 77/0.3556/9.765625e-06 | 78/0.3556/9.765625e-06 | 79/0.3556/4.8828125e-06 | 80/0.3556/4.8828125e-06 | 81/0.3556/4.8828125e-06 | 82/0.3556/4.8828125e-06 | 83/0.3556/4.8828125e-06 | 84/0.3556/4.8828125e-06 | 85/0.3587/2.44140625e-06 | 86/0.3571/2.44140625e-06 | 87/0.3556/2.44140625e-06 | 88/0.3602/2.44140625e-06 | 89/0.3632/2.44140625e-06 | 90/0.3663/2.44140625e-06 | 91/0.3663/1.220703125e-06 | 92/0.3617/1.220703125e-06 | 93/0.3602/1.220703125e-06 | 94/0.3617/1.220703125e-06 | 95/0.3632/1.220703125e-06 | 96/0.3663/1.220703125e-06 | 97/0.3663/6.103515625e-07 | Accuracy: 0.3569\n",
      "Evaluating nci1 dataset using graph_order method with a percentile of 90 against class members\n",
      "Epoch/val accuracy/lr: "
     ]
    },
    {
     "name": "stderr",
     "output_type": "stream",
     "text": [
      "/opt/conda/lib/python3.10/site-packages/torch_geometric/deprecation.py:26: UserWarning: 'data.DataLoader' is deprecated, use 'loader.DataLoader' instead\n",
      "  warnings.warn(out)\n"
     ]
    },
    {
     "name": "stdout",
     "output_type": "stream",
     "text": [
      "1/0.4878/0.01 | 2/0.4878/0.01 | 3/0.4878/0.01 | 4/0.4878/0.01 | 5/0.4878/0.01 | 6/0.4878/0.01 | 7/0.4541/0.01 | 8/0.4405/0.01 | 9/0.4459/0.01 | 10/0.4595/0.01 | 11/0.4811/0.01 | 12/0.4824/0.01 | 13/0.4824/0.01 | 14/0.4784/0.01 | 15/0.4716/0.005 | 16/0.4568/0.005 | 17/0.4311/0.005 | 18/0.4486/0.005 | 19/0.4649/0.005 | 20/0.4338/0.005 | 21/0.4149/0.005 | 22/0.3176/0.005 | 23/0.1946/0.005 | 24/0.0311/0.005 | 25/0.0095/0.005 | 26/0.0081/0.005 | 27/0.0014/0.005 | 28/0.0014/0.005 | 29/0.0014/0.005 | 30/0.0014/0.005 | 31/0.0027/0.005 | 32/0.0054/0.005 | 33/0.0108/0.005 | 34/0.0135/0.0025 | 35/0.0216/0.0025 | 36/0.0257/0.0025 | 37/0.0378/0.0025 | 38/0.0500/0.0025 | 39/0.0649/0.0025 | 40/0.0716/0.00125 | 41/0.0730/0.00125 | 42/0.0757/0.00125 | 43/0.0865/0.00125 | 44/0.0986/0.00125 | 45/0.1068/0.00125 | 46/0.1297/0.000625 | 47/0.1554/0.000625 | 48/0.1703/0.000625 | 49/0.1959/0.000625 | 50/0.2108/0.000625 | 51/0.2162/0.000625 | 52/0.2270/0.0003125 | 53/0.2514/0.0003125 | 54/0.2608/0.0003125 | 55/0.2797/0.0003125 | 56/0.2892/0.0003125 | 57/0.3041/0.0003125 | 58/0.3081/0.00015625 | 59/0.3162/0.00015625 | 60/0.3189/0.00015625 | 61/0.3270/0.00015625 | 62/0.3311/0.00015625 | 63/0.3365/0.00015625 | 64/0.3392/7.8125e-05 | 65/0.3392/7.8125e-05 | 66/0.3392/7.8125e-05 | 67/0.3378/7.8125e-05 | 68/0.3378/7.8125e-05 | 69/0.3365/7.8125e-05 | 70/0.3365/3.90625e-05 | 71/0.3392/3.90625e-05 | 72/0.3378/3.90625e-05 | 73/0.3432/3.90625e-05 | 74/0.3446/3.90625e-05 | 75/0.3405/3.90625e-05 | 76/0.3432/1.953125e-05 | 77/0.3432/1.953125e-05 | 78/0.3432/1.953125e-05 | 79/0.3459/1.953125e-05 | 80/0.3459/1.953125e-05 | 81/0.3473/1.953125e-05 | 82/0.3486/9.765625e-06 | 83/0.3459/9.765625e-06 | 84/0.3446/9.765625e-06 | 85/0.3446/9.765625e-06 | 86/0.3432/9.765625e-06 | 87/0.3432/9.765625e-06 | 88/0.3473/4.8828125e-06 | 89/0.3459/4.8828125e-06 | 90/0.3473/4.8828125e-06 | 91/0.3486/4.8828125e-06 | 92/0.3514/4.8828125e-06 | 93/0.3500/4.8828125e-06 | 94/0.3541/2.44140625e-06 | 95/0.3514/2.44140625e-06 | 96/0.3527/2.44140625e-06 | 97/0.3554/2.44140625e-06 | 98/0.3514/2.44140625e-06 | 99/0.3514/2.44140625e-06 | 100/0.3486/1.220703125e-06 | 101/0.3514/1.220703125e-06 | 102/0.3473/1.220703125e-06 | 103/0.3473/1.220703125e-06 | 104/0.3500/1.220703125e-06 | 105/0.3514/1.220703125e-06 | 106/0.3514/6.103515625e-07 | Accuracy: 0.3707\n",
      "Evaluating nci1 dataset using cos_sim method with a percentile of 40 against class members\n",
      "Epoch/val accuracy/lr: "
     ]
    },
    {
     "name": "stderr",
     "output_type": "stream",
     "text": [
      "/opt/conda/lib/python3.10/site-packages/torch_geometric/deprecation.py:26: UserWarning: 'data.DataLoader' is deprecated, use 'loader.DataLoader' instead\n",
      "  warnings.warn(out)\n"
     ]
    },
    {
     "name": "stdout",
     "output_type": "stream",
     "text": [
      "1/0.0000/0.01 | 2/0.0000/0.01 | 3/0.5046/0.01 | 4/0.5046/0.01 | 5/0.5046/0.01 | 6/0.5015/0.01 | 7/0.4863/0.01 | 8/0.4802/0.005 | 9/0.4863/0.005 | 10/0.4894/0.005 | 11/0.4863/0.005 | 12/0.4802/0.005 | 13/0.4772/0.005 | 14/0.4802/0.0025 | 15/0.4954/0.0025 | 16/0.4954/0.0025 | 17/0.4985/0.0025 | 18/0.4985/0.0025 | 19/0.4985/0.0025 | 20/0.4985/0.00125 | 21/0.4985/0.00125 | 22/0.4954/0.00125 | 23/0.4954/0.00125 | 24/0.4894/0.00125 | 25/0.4863/0.00125 | 26/0.4863/0.000625 | 27/0.4802/0.000625 | 28/0.4802/0.000625 | 29/0.4742/0.000625 | 30/0.4742/0.000625 | 31/0.4742/0.000625 | 32/0.4742/0.0003125 | 33/0.4742/0.0003125 | 34/0.4711/0.0003125 | 35/0.4590/0.0003125 | 36/0.4590/0.0003125 | 37/0.4407/0.0003125 | 38/0.4286/0.00015625 | 39/0.4164/0.00015625 | 40/0.4012/0.00015625 | 41/0.3860/0.00015625 | 42/0.3769/0.00015625 | 43/0.3647/0.00015625 | 44/0.3556/7.8125e-05 | 45/0.3526/7.8125e-05 | 46/0.3374/7.8125e-05 | 47/0.3343/7.8125e-05 | 48/0.3313/7.8125e-05 | 49/0.3283/7.8125e-05 | 50/0.3222/3.90625e-05 | 51/0.3131/3.90625e-05 | 52/0.3070/3.90625e-05 | 53/0.3009/3.90625e-05 | 54/0.3040/3.90625e-05 | 55/0.3040/3.90625e-05 | 56/0.3131/1.953125e-05 | 57/0.3191/1.953125e-05 | 58/0.3161/1.953125e-05 | 59/0.3100/1.953125e-05 | 60/0.3070/1.953125e-05 | 61/0.3070/1.953125e-05 | 62/0.3100/9.765625e-06 | 63/0.3040/9.765625e-06 | 64/0.3070/9.765625e-06 | 65/0.3100/9.765625e-06 | 66/0.3040/9.765625e-06 | 67/0.3009/9.765625e-06 | 68/0.2979/4.8828125e-06 | 69/0.2948/4.8828125e-06 | 70/0.2979/4.8828125e-06 | 71/0.2948/4.8828125e-06 | 72/0.2948/4.8828125e-06 | 73/0.2948/4.8828125e-06 | 74/0.2948/2.44140625e-06 | 75/0.2948/2.44140625e-06 | 76/0.2918/2.44140625e-06 | 77/0.2979/2.44140625e-06 | 78/0.2948/2.44140625e-06 | 79/0.2948/2.44140625e-06 | 80/0.2948/1.220703125e-06 | 81/0.2918/1.220703125e-06 | 82/0.2918/1.220703125e-06 | 83/0.2979/1.220703125e-06 | 84/0.2979/1.220703125e-06 | 85/0.2979/1.220703125e-06 | 86/0.2979/6.103515625e-07 | Accuracy: 0.3120\n",
      "Evaluating nci1 dataset using cos_sim method with a percentile of 50 against class members\n",
      "Epoch/val accuracy/lr: "
     ]
    },
    {
     "name": "stderr",
     "output_type": "stream",
     "text": [
      "/opt/conda/lib/python3.10/site-packages/torch_geometric/deprecation.py:26: UserWarning: 'data.DataLoader' is deprecated, use 'loader.DataLoader' instead\n",
      "  warnings.warn(out)\n"
     ]
    },
    {
     "name": "stdout",
     "output_type": "stream",
     "text": [
      "1/0.0000/0.01 | 2/0.0000/0.01 | 3/0.5243/0.01 | 4/0.5243/0.01 | 5/0.5243/0.01 | 6/0.4150/0.01 | 7/0.1408/0.01 | 8/0.2136/0.005 | 9/0.3495/0.005 | 10/0.4393/0.005 | 11/0.4976/0.005 | 12/0.5243/0.005 | 13/0.5218/0.005 | 14/0.5121/0.0025 | 15/0.5000/0.0025 | 16/0.4393/0.0025 | 17/0.4029/0.0025 | 18/0.4078/0.0025 | 19/0.4078/0.0025 | 20/0.4053/0.00125 | 21/0.3981/0.00125 | 22/0.4053/0.00125 | 23/0.3932/0.00125 | 24/0.3714/0.00125 | 25/0.3665/0.00125 | 26/0.3447/0.000625 | 27/0.3350/0.000625 | 28/0.3301/0.000625 | 29/0.3350/0.000625 | 30/0.3374/0.000625 | 31/0.3325/0.000625 | 32/0.3228/0.0003125 | 33/0.3034/0.0003125 | 34/0.2864/0.0003125 | 35/0.2767/0.0003125 | 36/0.2694/0.0003125 | 37/0.2670/0.0003125 | 38/0.2694/0.00015625 | 39/0.2767/0.00015625 | 40/0.2743/0.00015625 | 41/0.2767/0.00015625 | 42/0.2743/0.00015625 | 43/0.2694/0.00015625 | 44/0.2743/7.8125e-05 | 45/0.2767/7.8125e-05 | 46/0.2816/7.8125e-05 | 47/0.2840/7.8125e-05 | 48/0.2816/7.8125e-05 | 49/0.2840/7.8125e-05 | 50/0.2961/3.90625e-05 | 51/0.3058/3.90625e-05 | 52/0.3131/3.90625e-05 | 53/0.3180/3.90625e-05 | 54/0.3180/3.90625e-05 | 55/0.3228/3.90625e-05 | 56/0.3228/1.953125e-05 | 57/0.3180/1.953125e-05 | 58/0.3180/1.953125e-05 | 59/0.3180/1.953125e-05 | 60/0.3228/1.953125e-05 | 61/0.3204/1.953125e-05 | 62/0.3204/9.765625e-06 | 63/0.3204/9.765625e-06 | 64/0.3180/9.765625e-06 | 65/0.3155/9.765625e-06 | 66/0.3204/9.765625e-06 | 67/0.3180/9.765625e-06 | 68/0.3204/4.8828125e-06 | 69/0.3228/4.8828125e-06 | 70/0.3228/4.8828125e-06 | 71/0.3228/4.8828125e-06 | 72/0.3204/4.8828125e-06 | 73/0.3228/4.8828125e-06 | 74/0.3228/2.44140625e-06 | 75/0.3228/2.44140625e-06 | 76/0.3228/2.44140625e-06 | 77/0.3252/2.44140625e-06 | 78/0.3252/2.44140625e-06 | 79/0.3301/2.44140625e-06 | 80/0.3301/1.220703125e-06 | 81/0.3301/1.220703125e-06 | 82/0.3252/1.220703125e-06 | 83/0.3252/1.220703125e-06 | 84/0.3301/1.220703125e-06 | 85/0.3301/1.220703125e-06 | 86/0.3301/6.103515625e-07 | Accuracy: 0.2916\n",
      "Evaluating nci1 dataset using cos_sim method with a percentile of 60 against class members\n",
      "Epoch/val accuracy/lr: "
     ]
    },
    {
     "name": "stderr",
     "output_type": "stream",
     "text": [
      "/opt/conda/lib/python3.10/site-packages/torch_geometric/deprecation.py:26: UserWarning: 'data.DataLoader' is deprecated, use 'loader.DataLoader' instead\n",
      "  warnings.warn(out)\n"
     ]
    },
    {
     "name": "stdout",
     "output_type": "stream",
     "text": [
      "1/0.0000/0.01 | 2/0.0000/0.01 | 3/0.0000/0.01 | 4/0.0000/0.01 | 5/0.0142/0.01 | 6/0.2996/0.01 | 7/0.4980/0.01 | 8/0.4980/0.005 | 9/0.4879/0.005 | 10/0.4352/0.005 | 11/0.2490/0.005 | 12/0.1903/0.005 | 13/0.2348/0.005 | 14/0.2895/0.0025 | 15/0.3765/0.0025 | 16/0.4676/0.0025 | 17/0.4798/0.0025 | 18/0.4757/0.0025 | 19/0.4717/0.0025 | 20/0.4676/0.00125 | 21/0.4615/0.00125 | 22/0.4190/0.00125 | 23/0.3866/0.00125 | 24/0.3360/0.00125 | 25/0.3057/0.00125 | 26/0.2733/0.000625 | 27/0.2591/0.000625 | 28/0.2632/0.000625 | 29/0.2490/0.000625 | 30/0.2389/0.000625 | 31/0.2328/0.000625 | 32/0.2227/0.0003125 | 33/0.2227/0.0003125 | 34/0.2227/0.0003125 | 35/0.2227/0.0003125 | 36/0.2267/0.0003125 | 37/0.2449/0.0003125 | 38/0.2470/0.00015625 | 39/0.2470/0.00015625 | 40/0.2530/0.00015625 | 41/0.2470/0.00015625 | 42/0.2449/0.00015625 | 43/0.2429/0.00015625 | 44/0.2449/7.8125e-05 | 45/0.2571/7.8125e-05 | 46/0.2611/7.8125e-05 | 47/0.2611/7.8125e-05 | 48/0.2632/7.8125e-05 | 49/0.2591/7.8125e-05 | 50/0.2672/3.90625e-05 | 51/0.2713/3.90625e-05 | 52/0.2753/3.90625e-05 | 53/0.2733/3.90625e-05 | 54/0.2814/3.90625e-05 | 55/0.2814/3.90625e-05 | 56/0.2794/1.953125e-05 | 57/0.2794/1.953125e-05 | 58/0.2794/1.953125e-05 | 59/0.2854/1.953125e-05 | 60/0.2915/1.953125e-05 | 61/0.2895/1.953125e-05 | 62/0.2854/9.765625e-06 | 63/0.2935/9.765625e-06 | 64/0.2955/9.765625e-06 | 65/0.2976/9.765625e-06 | 66/0.2976/9.765625e-06 | 67/0.2996/9.765625e-06 | 68/0.2996/4.8828125e-06 | 69/0.2996/4.8828125e-06 | 70/0.2996/4.8828125e-06 | 71/0.3057/4.8828125e-06 | 72/0.3036/4.8828125e-06 | 73/0.3036/4.8828125e-06 | 74/0.3036/2.44140625e-06 | 75/0.3036/2.44140625e-06 | 76/0.3036/2.44140625e-06 | 77/0.2996/2.44140625e-06 | 78/0.2976/2.44140625e-06 | 79/0.3016/2.44140625e-06 | 80/0.3016/1.220703125e-06 | 81/0.2996/1.220703125e-06 | 82/0.2976/1.220703125e-06 | 83/0.2935/1.220703125e-06 | 84/0.2955/1.220703125e-06 | 85/0.2976/1.220703125e-06 | 86/0.2955/6.103515625e-07 | Accuracy: 0.2727\n",
      "Evaluating nci1 dataset using cos_sim method with a percentile of 70 against class members\n",
      "Epoch/val accuracy/lr: "
     ]
    },
    {
     "name": "stderr",
     "output_type": "stream",
     "text": [
      "/opt/conda/lib/python3.10/site-packages/torch_geometric/deprecation.py:26: UserWarning: 'data.DataLoader' is deprecated, use 'loader.DataLoader' instead\n",
      "  warnings.warn(out)\n"
     ]
    },
    {
     "name": "stdout",
     "output_type": "stream",
     "text": [
      "1/0.0000/0.01 | 2/0.5035/0.01 | 3/0.5035/0.01 | 4/0.5035/0.01 | 5/0.5035/0.01 | 6/0.5017/0.01 | 7/0.4688/0.01 | 8/0.3872/0.005 | 9/0.3368/0.005 | 10/0.3194/0.005 | 11/0.3021/0.005 | 12/0.3021/0.005 | 13/0.3663/0.005 | 14/0.3906/0.0025 | 15/0.3958/0.0025 | 16/0.3819/0.0025 | 17/0.3524/0.0025 | 18/0.3385/0.0025 | 19/0.3142/0.0025 | 20/0.2899/0.00125 | 21/0.2552/0.00125 | 22/0.1771/0.00125 | 23/0.1250/0.00125 | 24/0.0938/0.00125 | 25/0.0677/0.00125 | 26/0.0660/0.000625 | 27/0.0660/0.000625 | 28/0.0660/0.000625 | 29/0.0712/0.000625 | 30/0.0781/0.000625 | 31/0.0851/0.000625 | 32/0.0938/0.0003125 | 33/0.1007/0.0003125 | 34/0.1181/0.0003125 | 35/0.1285/0.0003125 | 36/0.1441/0.0003125 | 37/0.1684/0.0003125 | 38/0.1736/0.00015625 | 39/0.1806/0.00015625 | 40/0.2031/0.00015625 | 41/0.2083/0.00015625 | 42/0.2135/0.00015625 | 43/0.2292/0.00015625 | 44/0.2309/7.8125e-05 | 45/0.2465/7.8125e-05 | 46/0.2483/7.8125e-05 | 47/0.2535/7.8125e-05 | 48/0.2639/7.8125e-05 | 49/0.2726/7.8125e-05 | 50/0.2778/3.90625e-05 | 51/0.2726/3.90625e-05 | 52/0.2847/3.90625e-05 | 53/0.2830/3.90625e-05 | 54/0.2882/3.90625e-05 | 55/0.2934/3.90625e-05 | 56/0.2969/1.953125e-05 | 57/0.3003/1.953125e-05 | 58/0.3090/1.953125e-05 | 59/0.3090/1.953125e-05 | 60/0.3142/1.953125e-05 | 61/0.3160/1.953125e-05 | 62/0.3160/9.765625e-06 | 63/0.3160/9.765625e-06 | 64/0.3177/9.765625e-06 | 65/0.3229/9.765625e-06 | 66/0.3247/9.765625e-06 | 67/0.3316/9.765625e-06 | 68/0.3333/4.8828125e-06 | 69/0.3316/4.8828125e-06 | 70/0.3351/4.8828125e-06 | 71/0.3368/4.8828125e-06 | 72/0.3403/4.8828125e-06 | 73/0.3403/4.8828125e-06 | 74/0.3420/2.44140625e-06 | 75/0.3403/2.44140625e-06 | 76/0.3403/2.44140625e-06 | 77/0.3420/2.44140625e-06 | 78/0.3420/2.44140625e-06 | 79/0.3455/2.44140625e-06 | 80/0.3438/1.220703125e-06 | 81/0.3420/1.220703125e-06 | 82/0.3438/1.220703125e-06 | 83/0.3438/1.220703125e-06 | 84/0.3385/1.220703125e-06 | 85/0.3403/1.220703125e-06 | 86/0.3403/6.103515625e-07 | Accuracy: 0.2955\n",
      "Evaluating nci1 dataset using cos_sim method with a percentile of 80 against class members\n",
      "Epoch/val accuracy/lr: "
     ]
    },
    {
     "name": "stderr",
     "output_type": "stream",
     "text": [
      "/opt/conda/lib/python3.10/site-packages/torch_geometric/deprecation.py:26: UserWarning: 'data.DataLoader' is deprecated, use 'loader.DataLoader' instead\n",
      "  warnings.warn(out)\n"
     ]
    },
    {
     "name": "stdout",
     "output_type": "stream",
     "text": [
      "1/0.0000/0.01 | 2/0.0000/0.01 | 3/0.4438/0.01 | 4/0.4863/0.01 | 5/0.4468/0.01 | 6/0.4301/0.01 | 7/0.4422/0.01 | 8/0.4833/0.005 | 9/0.4438/0.005 | 10/0.2994/0.005 | 11/0.2052/0.005 | 12/0.1079/0.005 | 13/0.0334/0.005 | 14/0.0213/0.0025 | 15/0.0258/0.0025 | 16/0.0198/0.0025 | 17/0.0243/0.0025 | 18/0.0729/0.0025 | 19/0.1429/0.0025 | 20/0.1733/0.00125 | 21/0.1778/0.00125 | 22/0.1884/0.00125 | 23/0.2097/0.00125 | 24/0.2340/0.00125 | 25/0.2705/0.00125 | 26/0.2690/0.000625 | 27/0.2705/0.000625 | 28/0.2675/0.000625 | 29/0.2462/0.000625 | 30/0.2432/0.000625 | 31/0.2280/0.000625 | 32/0.2204/0.0003125 | 33/0.2188/0.0003125 | 34/0.2082/0.0003125 | 35/0.1991/0.0003125 | 36/0.1930/0.0003125 | 37/0.1793/0.0003125 | 38/0.1763/0.00015625 | 39/0.1763/0.00015625 | 40/0.1839/0.00015625 | 41/0.1900/0.00015625 | 42/0.1854/0.00015625 | 43/0.1869/0.00015625 | 44/0.1945/7.8125e-05 | 45/0.2082/7.8125e-05 | 46/0.2128/7.8125e-05 | 47/0.2158/7.8125e-05 | 48/0.2204/7.8125e-05 | 49/0.2204/7.8125e-05 | 50/0.2386/3.90625e-05 | 51/0.2614/3.90625e-05 | 52/0.2660/3.90625e-05 | 53/0.2705/3.90625e-05 | 54/0.2766/3.90625e-05 | 55/0.2796/3.90625e-05 | 56/0.2796/1.953125e-05 | 57/0.2842/1.953125e-05 | 58/0.2888/1.953125e-05 | 59/0.2888/1.953125e-05 | 60/0.2918/1.953125e-05 | 61/0.2918/1.953125e-05 | 62/0.2948/9.765625e-06 | 63/0.2964/9.765625e-06 | 64/0.2994/9.765625e-06 | 65/0.3040/9.765625e-06 | 66/0.3070/9.765625e-06 | 67/0.3116/9.765625e-06 | 68/0.3116/4.8828125e-06 | 69/0.3100/4.8828125e-06 | 70/0.3100/4.8828125e-06 | 71/0.3085/4.8828125e-06 | 72/0.3161/4.8828125e-06 | 73/0.3161/4.8828125e-06 | 74/0.3161/2.44140625e-06 | 75/0.3161/2.44140625e-06 | 76/0.3176/2.44140625e-06 | 77/0.3191/2.44140625e-06 | 78/0.3237/2.44140625e-06 | 79/0.3267/2.44140625e-06 | 80/0.3283/1.220703125e-06 | 81/0.3267/1.220703125e-06 | 82/0.3283/1.220703125e-06 | 83/0.3252/1.220703125e-06 | 84/0.3237/1.220703125e-06 | 85/0.3252/1.220703125e-06 | 86/0.3343/6.103515625e-07 | Accuracy: 0.3191\n",
      "Evaluating nci1 dataset using cos_sim method with a percentile of 90 against class members\n",
      "Epoch/val accuracy/lr: "
     ]
    },
    {
     "name": "stderr",
     "output_type": "stream",
     "text": [
      "/opt/conda/lib/python3.10/site-packages/torch_geometric/deprecation.py:26: UserWarning: 'data.DataLoader' is deprecated, use 'loader.DataLoader' instead\n",
      "  warnings.warn(out)\n"
     ]
    },
    {
     "name": "stdout",
     "output_type": "stream",
     "text": [
      "1/0.0000/0.01 | 2/0.0000/0.01 | 3/0.0000/0.01 | 4/0.1770/0.01 | 5/0.0176/0.01 | 6/0.0446/0.01 | 7/0.0676/0.01 | 8/0.0122/0.005 | 9/0.0095/0.005 | 10/0.0027/0.005 | 11/0.0081/0.005 | 12/0.0068/0.005 | 13/0.0000/0.005 | 14/0.0000/0.0025 | 15/0.0000/0.0025 | 16/0.0054/0.0025 | 17/0.0365/0.0025 | 18/0.0527/0.0025 | 19/0.0730/0.0025 | 20/0.1027/0.00125 | 21/0.1311/0.00125 | 22/0.1622/0.00125 | 23/0.1743/0.00125 | 24/0.1892/0.00125 | 25/0.2000/0.00125 | 26/0.2135/0.000625 | 27/0.2378/0.000625 | 28/0.2473/0.000625 | 29/0.2716/0.000625 | 30/0.2851/0.000625 | 31/0.3014/0.000625 | 32/0.3095/0.0003125 | 33/0.3149/0.0003125 | 34/0.3095/0.0003125 | 35/0.3081/0.0003125 | 36/0.3081/0.0003125 | 37/0.3162/0.0003125 | 38/0.3108/0.00015625 | 39/0.3108/0.00015625 | 40/0.3122/0.00015625 | 41/0.3176/0.00015625 | 42/0.3243/0.00015625 | 43/0.3297/0.00015625 | 44/0.3311/7.8125e-05 | 45/0.3446/7.8125e-05 | 46/0.3500/7.8125e-05 | 47/0.3635/7.8125e-05 | 48/0.3676/7.8125e-05 | 49/0.3676/7.8125e-05 | 50/0.3649/3.90625e-05 | 51/0.3649/3.90625e-05 | 52/0.3649/3.90625e-05 | 53/0.3635/3.90625e-05 | 54/0.3649/3.90625e-05 | 55/0.3581/3.90625e-05 | 56/0.3581/1.953125e-05 | 57/0.3595/1.953125e-05 | 58/0.3568/1.953125e-05 | 59/0.3568/1.953125e-05 | 60/0.3568/1.953125e-05 | 61/0.3554/1.953125e-05 | 62/0.3541/9.765625e-06 | 63/0.3541/9.765625e-06 | 64/0.3500/9.765625e-06 | 65/0.3473/9.765625e-06 | 66/0.3459/9.765625e-06 | 67/0.3459/9.765625e-06 | 68/0.3446/4.8828125e-06 | 69/0.3419/4.8828125e-06 | 70/0.3432/4.8828125e-06 | 71/0.3432/4.8828125e-06 | 72/0.3392/4.8828125e-06 | 73/0.3419/4.8828125e-06 | 74/0.3405/2.44140625e-06 | 75/0.3405/2.44140625e-06 | 76/0.3405/2.44140625e-06 | 77/0.3378/2.44140625e-06 | 78/0.3392/2.44140625e-06 | 79/0.3392/2.44140625e-06 | 80/0.3392/1.220703125e-06 | 81/0.3392/1.220703125e-06 | 82/0.3392/1.220703125e-06 | 83/0.3365/1.220703125e-06 | 84/0.3365/1.220703125e-06 | 85/0.3365/1.220703125e-06 | 86/0.3365/6.103515625e-07 | Accuracy: 0.3317\n",
      "Evaluating nci109 dataset using random method with a percentile of 40 against class members\n",
      "Epoch/val accuracy/lr: "
     ]
    },
    {
     "name": "stderr",
     "output_type": "stream",
     "text": [
      "/opt/conda/lib/python3.10/site-packages/torch_geometric/deprecation.py:26: UserWarning: 'data.DataLoader' is deprecated, use 'loader.DataLoader' instead\n",
      "  warnings.warn(out)\n"
     ]
    },
    {
     "name": "stdout",
     "output_type": "stream",
     "text": [
      "1/0.5121/0.01 | 2/0.5121/0.01 | 3/0.5121/0.01 | 4/0.5121/0.01 | 5/0.5121/0.01 | 6/0.5121/0.01 | 7/0.5121/0.01 | 8/0.5121/0.005 | 9/0.5121/0.005 | 10/0.5121/0.005 | 11/0.5121/0.005 | 12/0.5121/0.005 | 13/0.5121/0.005 | 14/0.5121/0.0025 | 15/0.5121/0.0025 | 16/0.5121/0.0025 | 17/0.5121/0.0025 | 18/0.5121/0.0025 | 19/0.5121/0.0025 | 20/0.5121/0.00125 | 21/0.5121/0.00125 | 22/0.5121/0.00125 | 23/0.5091/0.00125 | 24/0.5091/0.00125 | 25/0.5061/0.00125 | 26/0.4909/0.00125 | 27/0.4576/0.00125 | 28/0.4303/0.00125 | 29/0.4030/0.00125 | 30/0.3879/0.00125 | 31/0.3758/0.00125 | 32/0.3424/0.00125 | 33/0.3364/0.00125 | 34/0.3121/0.00125 | 35/0.2970/0.00125 | 36/0.2879/0.00125 | 37/0.2727/0.00125 | 38/0.2485/0.00125 | 39/0.2485/0.00125 | 40/0.2455/0.00125 | 41/0.2576/0.00125 | 42/0.2636/0.00125 | 43/0.2909/0.00125 | 44/0.3061/0.00125 | 45/0.3091/0.00125 | 46/0.2970/0.00125 | 47/0.2939/0.000625 | 48/0.2727/0.000625 | 49/0.2667/0.000625 | 50/0.2758/0.000625 | 51/0.2758/0.000625 | 52/0.2576/0.000625 | 53/0.2667/0.0003125 | 54/0.2788/0.0003125 | 55/0.2879/0.0003125 | 56/0.2909/0.0003125 | 57/0.3030/0.0003125 | 58/0.3000/0.0003125 | 59/0.3030/0.00015625 | 60/0.3000/0.00015625 | 61/0.3091/0.00015625 | 62/0.3152/0.00015625 | 63/0.3182/0.00015625 | 64/0.3273/0.00015625 | 65/0.3242/7.8125e-05 | 66/0.3242/7.8125e-05 | 67/0.3303/7.8125e-05 | 68/0.3273/7.8125e-05 | 69/0.3333/7.8125e-05 | 70/0.3333/7.8125e-05 | 71/0.3333/3.90625e-05 | 72/0.3333/3.90625e-05 | 73/0.3364/3.90625e-05 | 74/0.3364/3.90625e-05 | 75/0.3364/3.90625e-05 | 76/0.3394/3.90625e-05 | 77/0.3394/1.953125e-05 | 78/0.3394/1.953125e-05 | 79/0.3424/1.953125e-05 | 80/0.3424/1.953125e-05 | 81/0.3424/1.953125e-05 | 82/0.3424/1.953125e-05 | 83/0.3424/9.765625e-06 | 84/0.3424/9.765625e-06 | 85/0.3455/9.765625e-06 | 86/0.3485/9.765625e-06 | 87/0.3515/9.765625e-06 | 88/0.3606/9.765625e-06 | 89/0.3606/4.8828125e-06 | 90/0.3606/4.8828125e-06 | 91/0.3636/4.8828125e-06 | 92/0.3636/4.8828125e-06 | 93/0.3606/4.8828125e-06 | 94/0.3576/4.8828125e-06 | 95/0.3606/2.44140625e-06 | 96/0.3606/2.44140625e-06 | 97/0.3606/2.44140625e-06 | 98/0.3606/2.44140625e-06 | 99/0.3545/2.44140625e-06 | 100/0.3545/2.44140625e-06 | 101/0.3545/1.220703125e-06 | 102/0.3545/1.220703125e-06 | 103/0.3545/1.220703125e-06 | 104/0.3485/1.220703125e-06 | 105/0.3545/1.220703125e-06 | 106/0.3545/1.220703125e-06 | 107/0.3606/6.103515625e-07 | Accuracy: 0.3528\n",
      "Evaluating nci109 dataset using random method with a percentile of 50 against class members\n",
      "Epoch/val accuracy/lr: "
     ]
    },
    {
     "name": "stderr",
     "output_type": "stream",
     "text": [
      "/opt/conda/lib/python3.10/site-packages/torch_geometric/deprecation.py:26: UserWarning: 'data.DataLoader' is deprecated, use 'loader.DataLoader' instead\n",
      "  warnings.warn(out)\n"
     ]
    },
    {
     "name": "stdout",
     "output_type": "stream",
     "text": [
      "1/0.0000/0.01 | 2/0.0000/0.01 | 3/0.5012/0.01 | 4/0.5036/0.01 | 5/0.1768/0.01 | 6/0.0024/0.01 | 7/0.0024/0.01 | 8/0.0000/0.005 | 9/0.0000/0.005 | 10/0.0412/0.005 | 11/0.0363/0.005 | 12/0.0073/0.005 | 13/0.0000/0.005 | 14/0.0000/0.0025 | 15/0.0000/0.0025 | 16/0.0000/0.0025 | 17/0.0000/0.0025 | 18/0.0194/0.0025 | 19/0.0218/0.0025 | 20/0.0242/0.00125 | 21/0.0266/0.00125 | 22/0.0218/0.00125 | 23/0.0145/0.00125 | 24/0.0073/0.00125 | 25/0.0048/0.00125 | 26/0.0073/0.000625 | 27/0.0121/0.000625 | 28/0.0145/0.000625 | 29/0.0169/0.000625 | 30/0.0194/0.000625 | 31/0.0218/0.000625 | 32/0.0291/0.0003125 | 33/0.0339/0.0003125 | 34/0.0363/0.0003125 | 35/0.0387/0.0003125 | 36/0.0387/0.0003125 | 37/0.0484/0.0003125 | 38/0.0581/0.00015625 | 39/0.0654/0.00015625 | 40/0.0847/0.00015625 | 41/0.0993/0.00015625 | 42/0.1186/0.00015625 | 43/0.1380/0.00015625 | 44/0.1525/7.8125e-05 | 45/0.1719/7.8125e-05 | 46/0.1864/7.8125e-05 | 47/0.1913/7.8125e-05 | 48/0.2034/7.8125e-05 | 49/0.2082/7.8125e-05 | 50/0.2203/3.90625e-05 | 51/0.2228/3.90625e-05 | 52/0.2276/3.90625e-05 | 53/0.2373/3.90625e-05 | 54/0.2470/3.90625e-05 | 55/0.2518/3.90625e-05 | 56/0.2567/1.953125e-05 | 57/0.2663/1.953125e-05 | 58/0.2688/1.953125e-05 | 59/0.2760/1.953125e-05 | 60/0.2833/1.953125e-05 | 61/0.2881/1.953125e-05 | 62/0.2930/9.765625e-06 | 63/0.3002/9.765625e-06 | 64/0.3027/9.765625e-06 | 65/0.3075/9.765625e-06 | 66/0.3172/9.765625e-06 | 67/0.3172/9.765625e-06 | 68/0.3172/4.8828125e-06 | 69/0.3196/4.8828125e-06 | 70/0.3220/4.8828125e-06 | 71/0.3317/4.8828125e-06 | 72/0.3317/4.8828125e-06 | 73/0.3317/4.8828125e-06 | 74/0.3317/2.44140625e-06 | 75/0.3341/2.44140625e-06 | 76/0.3390/2.44140625e-06 | 77/0.3341/2.44140625e-06 | 78/0.3341/2.44140625e-06 | 79/0.3317/2.44140625e-06 | 80/0.3341/1.220703125e-06 | 81/0.3341/1.220703125e-06 | 82/0.3341/1.220703125e-06 | 83/0.3317/1.220703125e-06 | 84/0.3317/1.220703125e-06 | 85/0.3317/1.220703125e-06 | 86/0.3317/6.103515625e-07 | Accuracy: 0.3537\n",
      "Evaluating nci109 dataset using random method with a percentile of 60 against class members\n",
      "Epoch/val accuracy/lr: "
     ]
    },
    {
     "name": "stderr",
     "output_type": "stream",
     "text": [
      "/opt/conda/lib/python3.10/site-packages/torch_geometric/deprecation.py:26: UserWarning: 'data.DataLoader' is deprecated, use 'loader.DataLoader' instead\n",
      "  warnings.warn(out)\n"
     ]
    },
    {
     "name": "stdout",
     "output_type": "stream",
     "text": [
      "1/0.4899/0.01 | 2/0.4899/0.01 | 3/0.4899/0.01 | 4/0.4899/0.01 | 5/0.4899/0.01 | 6/0.4899/0.01 | 7/0.2319/0.01 | 8/0.2036/0.01 | 9/0.3306/0.01 | 10/0.2298/0.01 | 11/0.0544/0.01 | 12/0.0081/0.01 | 13/0.0081/0.01 | 14/0.1431/0.01 | 15/0.3649/0.01 | 16/0.3528/0.01 | 17/0.2419/0.01 | 18/0.2036/0.01 | 19/0.1935/0.005 | 20/0.1835/0.005 | 21/0.1673/0.005 | 22/0.1190/0.005 | 23/0.0867/0.005 | 24/0.0726/0.005 | 25/0.0565/0.0025 | 26/0.0625/0.0025 | 27/0.0585/0.0025 | 28/0.0847/0.0025 | 29/0.0847/0.0025 | 30/0.0867/0.0025 | 31/0.0867/0.00125 | 32/0.1008/0.00125 | 33/0.1149/0.00125 | 34/0.1210/0.00125 | 35/0.1351/0.00125 | 36/0.1593/0.00125 | 37/0.1633/0.000625 | 38/0.1774/0.000625 | 39/0.1935/0.000625 | 40/0.2117/0.000625 | 41/0.2278/0.000625 | 42/0.2641/0.000625 | 43/0.2782/0.0003125 | 44/0.2944/0.0003125 | 45/0.3105/0.0003125 | 46/0.3165/0.0003125 | 47/0.3266/0.0003125 | 48/0.3327/0.0003125 | 49/0.3367/0.00015625 | 50/0.3448/0.00015625 | 51/0.3448/0.00015625 | 52/0.3468/0.00015625 | 53/0.3488/0.00015625 | 54/0.3528/0.00015625 | 55/0.3569/7.8125e-05 | 56/0.3609/7.8125e-05 | 57/0.3609/7.8125e-05 | 58/0.3629/7.8125e-05 | 59/0.3629/7.8125e-05 | 60/0.3629/7.8125e-05 | 61/0.3629/3.90625e-05 | 62/0.3589/3.90625e-05 | 63/0.3609/3.90625e-05 | 64/0.3649/3.90625e-05 | 65/0.3669/3.90625e-05 | 66/0.3649/3.90625e-05 | 67/0.3649/1.953125e-05 | 68/0.3649/1.953125e-05 | 69/0.3649/1.953125e-05 | 70/0.3669/1.953125e-05 | 71/0.3669/1.953125e-05 | 72/0.3669/1.953125e-05 | 73/0.3669/9.765625e-06 | 74/0.3669/9.765625e-06 | 75/0.3669/9.765625e-06 | 76/0.3690/9.765625e-06 | 77/0.3690/9.765625e-06 | 78/0.3690/9.765625e-06 | 79/0.3710/4.8828125e-06 | 80/0.3710/4.8828125e-06 | 81/0.3690/4.8828125e-06 | 82/0.3710/4.8828125e-06 | 83/0.3690/4.8828125e-06 | 84/0.3690/4.8828125e-06 | 85/0.3690/2.44140625e-06 | 86/0.3690/2.44140625e-06 | 87/0.3649/2.44140625e-06 | 88/0.3669/2.44140625e-06 | 89/0.3669/2.44140625e-06 | 90/0.3649/2.44140625e-06 | 91/0.3669/1.220703125e-06 | 92/0.3649/1.220703125e-06 | 93/0.3649/1.220703125e-06 | 94/0.3629/1.220703125e-06 | 95/0.3649/1.220703125e-06 | 96/0.3629/1.220703125e-06 | 97/0.3609/6.103515625e-07 | Accuracy: 0.3786\n",
      "Evaluating nci109 dataset using random method with a percentile of 70 against class members\n",
      "Epoch/val accuracy/lr: "
     ]
    },
    {
     "name": "stderr",
     "output_type": "stream",
     "text": [
      "/opt/conda/lib/python3.10/site-packages/torch_geometric/deprecation.py:26: UserWarning: 'data.DataLoader' is deprecated, use 'loader.DataLoader' instead\n",
      "  warnings.warn(out)\n"
     ]
    },
    {
     "name": "stdout",
     "output_type": "stream",
     "text": [
      "1/0.0000/0.01 | 2/0.0000/0.01 | 3/0.0000/0.01 | 4/0.0000/0.01 | 5/0.0069/0.01 | 6/0.5104/0.01 | 7/0.5104/0.01 | 8/0.5087/0.005 | 9/0.5087/0.005 | 10/0.5087/0.005 | 11/0.5069/0.005 | 12/0.5069/0.005 | 13/0.5052/0.005 | 14/0.5069/0.0025 | 15/0.5035/0.0025 | 16/0.5000/0.0025 | 17/0.4983/0.0025 | 18/0.4810/0.0025 | 19/0.4567/0.0025 | 20/0.4446/0.00125 | 21/0.4291/0.00125 | 22/0.4170/0.00125 | 23/0.4031/0.00125 | 24/0.3841/0.00125 | 25/0.3789/0.00125 | 26/0.3720/0.000625 | 27/0.3651/0.000625 | 28/0.3564/0.000625 | 29/0.3564/0.000625 | 30/0.3495/0.000625 | 31/0.3322/0.000625 | 32/0.3322/0.0003125 | 33/0.3201/0.0003125 | 34/0.3114/0.0003125 | 35/0.3045/0.0003125 | 36/0.3010/0.0003125 | 37/0.2958/0.0003125 | 38/0.2941/0.00015625 | 39/0.2924/0.00015625 | 40/0.2889/0.00015625 | 41/0.2820/0.00015625 | 42/0.2768/0.00015625 | 43/0.2785/0.00015625 | 44/0.2820/7.8125e-05 | 45/0.2837/7.8125e-05 | 46/0.2785/7.8125e-05 | 47/0.2785/7.8125e-05 | 48/0.2785/7.8125e-05 | 49/0.2820/7.8125e-05 | 50/0.2889/3.90625e-05 | 51/0.2924/3.90625e-05 | 52/0.2993/3.90625e-05 | 53/0.3045/3.90625e-05 | 54/0.3062/3.90625e-05 | 55/0.3097/3.90625e-05 | 56/0.3131/1.953125e-05 | 57/0.3149/1.953125e-05 | 58/0.3166/1.953125e-05 | 59/0.3149/1.953125e-05 | 60/0.3183/1.953125e-05 | 61/0.3201/1.953125e-05 | 62/0.3270/9.765625e-06 | 63/0.3270/9.765625e-06 | 64/0.3270/9.765625e-06 | 65/0.3287/9.765625e-06 | 66/0.3304/9.765625e-06 | 67/0.3270/9.765625e-06 | 68/0.3304/4.8828125e-06 | 69/0.3322/4.8828125e-06 | 70/0.3356/4.8828125e-06 | 71/0.3356/4.8828125e-06 | 72/0.3391/4.8828125e-06 | 73/0.3391/4.8828125e-06 | 74/0.3391/2.44140625e-06 | 75/0.3374/2.44140625e-06 | 76/0.3374/2.44140625e-06 | 77/0.3391/2.44140625e-06 | 78/0.3426/2.44140625e-06 | 79/0.3391/2.44140625e-06 | 80/0.3356/1.220703125e-06 | 81/0.3356/1.220703125e-06 | 82/0.3356/1.220703125e-06 | 83/0.3356/1.220703125e-06 | 84/0.3426/1.220703125e-06 | 85/0.3426/1.220703125e-06 | 86/0.3408/6.103515625e-07 | Accuracy: 0.3293\n",
      "Evaluating nci109 dataset using random method with a percentile of 80 against class members\n",
      "Epoch/val accuracy/lr: "
     ]
    },
    {
     "name": "stderr",
     "output_type": "stream",
     "text": [
      "/opt/conda/lib/python3.10/site-packages/torch_geometric/deprecation.py:26: UserWarning: 'data.DataLoader' is deprecated, use 'loader.DataLoader' instead\n",
      "  warnings.warn(out)\n"
     ]
    },
    {
     "name": "stdout",
     "output_type": "stream",
     "text": [
      "1/0.0000/0.01 | 2/0.0000/0.01 | 3/0.0000/0.01 | 4/0.0000/0.01 | 5/0.3192/0.01 | 6/0.5144/0.01 | 7/0.5144/0.01 | 8/0.5144/0.005 | 9/0.5144/0.005 | 10/0.5053/0.005 | 11/0.4796/0.005 | 12/0.4629/0.005 | 13/0.4145/0.005 | 14/0.3495/0.0025 | 15/0.2542/0.0025 | 16/0.1694/0.0025 | 17/0.1876/0.0025 | 18/0.2254/0.0025 | 19/0.2012/0.0025 | 20/0.1362/0.00125 | 21/0.1346/0.00125 | 22/0.1619/0.00125 | 23/0.1770/0.00125 | 24/0.1967/0.00125 | 25/0.1861/0.00125 | 26/0.1710/0.000625 | 27/0.1770/0.000625 | 28/0.1921/0.000625 | 29/0.1967/0.000625 | 30/0.2133/0.000625 | 31/0.2254/0.000625 | 32/0.2269/0.0003125 | 33/0.2269/0.0003125 | 34/0.2254/0.0003125 | 35/0.2254/0.0003125 | 36/0.2194/0.0003125 | 37/0.2163/0.0003125 | 38/0.2163/0.00015625 | 39/0.2224/0.00015625 | 40/0.2163/0.00015625 | 41/0.2179/0.00015625 | 42/0.2194/0.00015625 | 43/0.2466/0.00015625 | 44/0.2466/7.8125e-05 | 45/0.2496/7.8125e-05 | 46/0.2542/7.8125e-05 | 47/0.2678/7.8125e-05 | 48/0.2753/7.8125e-05 | 49/0.2784/7.8125e-05 | 50/0.2905/3.90625e-05 | 51/0.2950/3.90625e-05 | 52/0.2950/3.90625e-05 | 53/0.2995/3.90625e-05 | 54/0.3026/3.90625e-05 | 55/0.3056/3.90625e-05 | 56/0.3056/1.953125e-05 | 57/0.3101/1.953125e-05 | 58/0.3147/1.953125e-05 | 59/0.3207/1.953125e-05 | 60/0.3268/1.953125e-05 | 61/0.3283/1.953125e-05 | 62/0.3283/9.765625e-06 | 63/0.3313/9.765625e-06 | 64/0.3283/9.765625e-06 | 65/0.3268/9.765625e-06 | 66/0.3283/9.765625e-06 | 67/0.3283/9.765625e-06 | 68/0.3283/4.8828125e-06 | 69/0.3283/4.8828125e-06 | 70/0.3268/4.8828125e-06 | 71/0.3268/4.8828125e-06 | 72/0.3283/4.8828125e-06 | 73/0.3298/4.8828125e-06 | 74/0.3298/2.44140625e-06 | 75/0.3298/2.44140625e-06 | 76/0.3298/2.44140625e-06 | 77/0.3298/2.44140625e-06 | 78/0.3298/2.44140625e-06 | 79/0.3283/2.44140625e-06 | 80/0.3298/1.220703125e-06 | 81/0.3313/1.220703125e-06 | 82/0.3328/1.220703125e-06 | 83/0.3389/1.220703125e-06 | 84/0.3389/1.220703125e-06 | 85/0.3389/1.220703125e-06 | 86/0.3434/6.103515625e-07 | Accuracy: 0.3123\n",
      "Evaluating nci109 dataset using random method with a percentile of 90 against class members\n",
      "Epoch/val accuracy/lr: "
     ]
    },
    {
     "name": "stderr",
     "output_type": "stream",
     "text": [
      "/opt/conda/lib/python3.10/site-packages/torch_geometric/deprecation.py:26: UserWarning: 'data.DataLoader' is deprecated, use 'loader.DataLoader' instead\n",
      "  warnings.warn(out)\n"
     ]
    },
    {
     "name": "stdout",
     "output_type": "stream",
     "text": [
      "1/0.4953/0.01 | 2/0.4953/0.01 | 3/0.4953/0.01 | 4/0.4953/0.01 | 5/0.4711/0.01 | 6/0.4953/0.01 | 7/0.4953/0.01 | 8/0.4926/0.01 | 9/0.4845/0.01 | 10/0.4226/0.01 | 11/0.3351/0.01 | 12/0.4172/0.01 | 13/0.4563/0.01 | 14/0.4482/0.01 | 15/0.4482/0.01 | 16/0.4536/0.01 | 17/0.4778/0.01 | 18/0.4818/0.005 | 19/0.4832/0.005 | 20/0.4724/0.005 | 21/0.4428/0.005 | 22/0.4374/0.005 | 23/0.4643/0.005 | 24/0.4818/0.0025 | 25/0.4886/0.0025 | 26/0.4859/0.0025 | 27/0.4859/0.0025 | 28/0.4832/0.0025 | 29/0.4764/0.0025 | 30/0.4738/0.00125 | 31/0.4711/0.00125 | 32/0.4657/0.00125 | 33/0.4563/0.00125 | 34/0.4563/0.00125 | 35/0.4576/0.00125 | 36/0.4563/0.000625 | 37/0.4428/0.000625 | 38/0.4320/0.000625 | 39/0.4226/0.000625 | 40/0.4051/0.000625 | 41/0.3930/0.000625 | 42/0.3890/0.0003125 | 43/0.3809/0.0003125 | 44/0.3782/0.0003125 | 45/0.3715/0.0003125 | 46/0.3688/0.0003125 | 47/0.3661/0.0003125 | 48/0.3647/0.00015625 | 49/0.3607/0.00015625 | 50/0.3620/0.00015625 | 51/0.3607/0.00015625 | 52/0.3620/0.00015625 | 53/0.3567/0.00015625 | 54/0.3620/7.8125e-05 | 55/0.3607/7.8125e-05 | 56/0.3607/7.8125e-05 | 57/0.3620/7.8125e-05 | 58/0.3661/7.8125e-05 | 59/0.3661/7.8125e-05 | 60/0.3674/3.90625e-05 | 61/0.3661/3.90625e-05 | 62/0.3674/3.90625e-05 | 63/0.3701/3.90625e-05 | 64/0.3728/3.90625e-05 | 65/0.3742/3.90625e-05 | 66/0.3701/1.953125e-05 | 67/0.3688/1.953125e-05 | 68/0.3688/1.953125e-05 | 69/0.3688/1.953125e-05 | 70/0.3701/1.953125e-05 | 71/0.3715/1.953125e-05 | 72/0.3715/9.765625e-06 | 73/0.3715/9.765625e-06 | 74/0.3715/9.765625e-06 | 75/0.3715/9.765625e-06 | 76/0.3728/9.765625e-06 | 77/0.3715/9.765625e-06 | 78/0.3701/4.8828125e-06 | 79/0.3701/4.8828125e-06 | 80/0.3688/4.8828125e-06 | 81/0.3688/4.8828125e-06 | 82/0.3715/4.8828125e-06 | 83/0.3742/4.8828125e-06 | 84/0.3728/2.44140625e-06 | 85/0.3701/2.44140625e-06 | 86/0.3728/2.44140625e-06 | 87/0.3742/2.44140625e-06 | 88/0.3742/2.44140625e-06 | 89/0.3715/2.44140625e-06 | 90/0.3715/1.220703125e-06 | 91/0.3688/1.220703125e-06 | 92/0.3715/1.220703125e-06 | 93/0.3688/1.220703125e-06 | 94/0.3701/1.220703125e-06 | 95/0.3701/1.220703125e-06 | 96/0.3715/6.103515625e-07 | Accuracy: 0.3511\n",
      "Evaluating nci109 dataset using graph_order method with a percentile of 40 against class members\n",
      "Epoch/val accuracy/lr: "
     ]
    },
    {
     "name": "stderr",
     "output_type": "stream",
     "text": [
      "/opt/conda/lib/python3.10/site-packages/torch_geometric/deprecation.py:26: UserWarning: 'data.DataLoader' is deprecated, use 'loader.DataLoader' instead\n",
      "  warnings.warn(out)\n"
     ]
    },
    {
     "name": "stdout",
     "output_type": "stream",
     "text": [
      "1/0.0000/0.01 | 2/0.0000/0.01 | 3/0.0000/0.01 | 4/0.5136/0.01 | 5/0.5227/0.01 | 6/0.5227/0.01 | 7/0.5227/0.01 | 8/0.5227/0.005 | 9/0.5196/0.005 | 10/0.5015/0.005 | 11/0.4804/0.005 | 12/0.4713/0.005 | 13/0.3172/0.005 | 14/0.1873/0.0025 | 15/0.0785/0.0025 | 16/0.0151/0.0025 | 17/0.0000/0.0025 | 18/0.0000/0.0025 | 19/0.0000/0.0025 | 20/0.0000/0.00125 | 21/0.0000/0.00125 | 22/0.0000/0.00125 | 23/0.0000/0.00125 | 24/0.0000/0.00125 | 25/0.0000/0.00125 | 26/0.0000/0.000625 | 27/0.0000/0.000625 | 28/0.0000/0.000625 | 29/0.0000/0.000625 | 30/0.0000/0.000625 | 31/0.0000/0.000625 | 32/0.0030/0.0003125 | 33/0.0030/0.0003125 | 34/0.0030/0.0003125 | 35/0.0030/0.0003125 | 36/0.0030/0.0003125 | 37/0.0030/0.0003125 | 38/0.0060/0.00015625 | 39/0.0181/0.00015625 | 40/0.0211/0.00015625 | 41/0.0302/0.00015625 | 42/0.0453/0.00015625 | 43/0.0604/0.00015625 | 44/0.0816/7.8125e-05 | 45/0.1027/7.8125e-05 | 46/0.1239/7.8125e-05 | 47/0.1511/7.8125e-05 | 48/0.1692/7.8125e-05 | 49/0.1782/7.8125e-05 | 50/0.1873/3.90625e-05 | 51/0.2085/3.90625e-05 | 52/0.2145/3.90625e-05 | 53/0.2296/3.90625e-05 | 54/0.2326/3.90625e-05 | 55/0.2447/3.90625e-05 | 56/0.2508/1.953125e-05 | 57/0.2689/1.953125e-05 | 58/0.2870/1.953125e-05 | 59/0.3082/1.953125e-05 | 60/0.3202/1.953125e-05 | 61/0.3263/1.953125e-05 | 62/0.3384/9.765625e-06 | 63/0.3474/9.765625e-06 | 64/0.3535/9.765625e-06 | 65/0.3535/9.765625e-06 | 66/0.3565/9.765625e-06 | 67/0.3565/9.765625e-06 | 68/0.3686/4.8828125e-06 | 69/0.3625/4.8828125e-06 | 70/0.3656/4.8828125e-06 | 71/0.3686/4.8828125e-06 | 72/0.3716/4.8828125e-06 | 73/0.3716/4.8828125e-06 | 74/0.3746/2.44140625e-06 | 75/0.3746/2.44140625e-06 | 76/0.3746/2.44140625e-06 | 77/0.3746/2.44140625e-06 | 78/0.3686/2.44140625e-06 | 79/0.3746/2.44140625e-06 | 80/0.3716/1.220703125e-06 | 81/0.3686/1.220703125e-06 | 82/0.3716/1.220703125e-06 | 83/0.3716/1.220703125e-06 | 84/0.3716/1.220703125e-06 | 85/0.3686/1.220703125e-06 | 86/0.3716/6.103515625e-07 | Accuracy: 0.3253\n",
      "Evaluating nci109 dataset using graph_order method with a percentile of 50 against class members\n",
      "Epoch/val accuracy/lr: "
     ]
    },
    {
     "name": "stderr",
     "output_type": "stream",
     "text": [
      "/opt/conda/lib/python3.10/site-packages/torch_geometric/deprecation.py:26: UserWarning: 'data.DataLoader' is deprecated, use 'loader.DataLoader' instead\n",
      "  warnings.warn(out)\n"
     ]
    },
    {
     "name": "stdout",
     "output_type": "stream",
     "text": [
      "1/0.4722/0.01 | 2/0.4722/0.01 | 3/0.4722/0.01 | 4/0.4722/0.01 | 5/0.4722/0.01 | 6/0.4625/0.01 | 7/0.1622/0.01 | 8/0.3366/0.01 | 9/0.4165/0.01 | 10/0.0000/0.01 | 11/0.4625/0.01 | 12/0.4697/0.01 | 13/0.4383/0.01 | 14/0.3850/0.01 | 15/0.4600/0.01 | 16/0.4673/0.01 | 17/0.4697/0.005 | 18/0.4673/0.005 | 19/0.4625/0.005 | 20/0.4358/0.005 | 21/0.4237/0.005 | 22/0.4165/0.005 | 23/0.3850/0.0025 | 24/0.3680/0.0025 | 25/0.3487/0.0025 | 26/0.3172/0.0025 | 27/0.2978/0.0025 | 28/0.2736/0.0025 | 29/0.2518/0.00125 | 30/0.2276/0.00125 | 31/0.2107/0.00125 | 32/0.2082/0.00125 | 33/0.2107/0.00125 | 34/0.2082/0.00125 | 35/0.2107/0.000625 | 36/0.2203/0.000625 | 37/0.2228/0.000625 | 38/0.2276/0.000625 | 39/0.2324/0.000625 | 40/0.2421/0.000625 | 41/0.2421/0.0003125 | 42/0.2470/0.0003125 | 43/0.2470/0.0003125 | 44/0.2567/0.0003125 | 45/0.2567/0.0003125 | 46/0.2518/0.0003125 | 47/0.2639/0.00015625 | 48/0.2663/0.00015625 | 49/0.2760/0.00015625 | 50/0.2833/0.00015625 | 51/0.2881/0.00015625 | 52/0.2954/0.00015625 | 53/0.3099/7.8125e-05 | 54/0.3123/7.8125e-05 | 55/0.3099/7.8125e-05 | 56/0.3123/7.8125e-05 | 57/0.3172/7.8125e-05 | 58/0.3245/7.8125e-05 | 59/0.3245/3.90625e-05 | 60/0.3269/3.90625e-05 | 61/0.3245/3.90625e-05 | 62/0.3245/3.90625e-05 | 63/0.3245/3.90625e-05 | 64/0.3269/3.90625e-05 | 65/0.3269/1.953125e-05 | 66/0.3245/1.953125e-05 | 67/0.3245/1.953125e-05 | 68/0.3245/1.953125e-05 | 69/0.3245/1.953125e-05 | 70/0.3245/1.953125e-05 | 71/0.3245/9.765625e-06 | 72/0.3220/9.765625e-06 | 73/0.3220/9.765625e-06 | 74/0.3245/9.765625e-06 | 75/0.3220/9.765625e-06 | 76/0.3269/9.765625e-06 | 77/0.3317/4.8828125e-06 | 78/0.3366/4.8828125e-06 | 79/0.3341/4.8828125e-06 | 80/0.3293/4.8828125e-06 | 81/0.3220/4.8828125e-06 | 82/0.3269/4.8828125e-06 | 83/0.3293/2.44140625e-06 | 84/0.3293/2.44140625e-06 | 85/0.3317/2.44140625e-06 | 86/0.3293/2.44140625e-06 | 87/0.3245/2.44140625e-06 | 88/0.3269/2.44140625e-06 | 89/0.3269/1.220703125e-06 | 90/0.3269/1.220703125e-06 | 91/0.3293/1.220703125e-06 | 92/0.3269/1.220703125e-06 | 93/0.3317/1.220703125e-06 | 94/0.3341/1.220703125e-06 | 95/0.3390/6.103515625e-07 | Accuracy: 0.3442\n",
      "Evaluating nci109 dataset using graph_order method with a percentile of 60 against class members\n",
      "Epoch/val accuracy/lr: "
     ]
    },
    {
     "name": "stderr",
     "output_type": "stream",
     "text": [
      "/opt/conda/lib/python3.10/site-packages/torch_geometric/deprecation.py:26: UserWarning: 'data.DataLoader' is deprecated, use 'loader.DataLoader' instead\n",
      "  warnings.warn(out)\n"
     ]
    },
    {
     "name": "stdout",
     "output_type": "stream",
     "text": [
      "1/0.4738/0.01 | 2/0.4738/0.01 | 3/0.4738/0.01 | 4/0.4738/0.01 | 5/0.4738/0.01 | 6/0.4738/0.01 | 7/0.4698/0.01 | 8/0.4355/0.01 | 9/0.4718/0.01 | 10/0.4738/0.01 | 11/0.4597/0.01 | 12/0.4496/0.01 | 13/0.4375/0.01 | 14/0.3750/0.01 | 15/0.3387/0.01 | 16/0.2944/0.01 | 17/0.3952/0.01 | 18/0.4456/0.01 | 19/0.4375/0.01 | 20/0.4294/0.01 | 21/0.4375/0.01 | 22/0.3710/0.01 | 23/0.4032/0.005 | 24/0.4415/0.005 | 25/0.4556/0.005 | 26/0.4496/0.005 | 27/0.4476/0.005 | 28/0.4315/0.005 | 29/0.4153/0.0025 | 30/0.4032/0.0025 | 31/0.3992/0.0025 | 32/0.3629/0.0025 | 33/0.3347/0.0025 | 34/0.3125/0.0025 | 35/0.3024/0.00125 | 36/0.2883/0.00125 | 37/0.2823/0.00125 | 38/0.2823/0.00125 | 39/0.2863/0.00125 | 40/0.2863/0.00125 | 41/0.2903/0.00125 | 42/0.2923/0.00125 | 43/0.2944/0.00125 | 44/0.2964/0.000625 | 45/0.2964/0.000625 | 46/0.3065/0.000625 | 47/0.3125/0.000625 | 48/0.3105/0.000625 | 49/0.3145/0.000625 | 50/0.3185/0.0003125 | 51/0.3226/0.0003125 | 52/0.3226/0.0003125 | 53/0.3306/0.0003125 | 54/0.3327/0.0003125 | 55/0.3327/0.0003125 | 56/0.3327/0.00015625 | 57/0.3367/0.00015625 | 58/0.3367/0.00015625 | 59/0.3347/0.00015625 | 60/0.3347/0.00015625 | 61/0.3347/0.00015625 | 62/0.3347/7.8125e-05 | 63/0.3367/7.8125e-05 | 64/0.3367/7.8125e-05 | 65/0.3367/7.8125e-05 | 66/0.3367/7.8125e-05 | 67/0.3347/7.8125e-05 | 68/0.3347/3.90625e-05 | 69/0.3367/3.90625e-05 | 70/0.3387/3.90625e-05 | 71/0.3387/3.90625e-05 | 72/0.3407/3.90625e-05 | 73/0.3387/3.90625e-05 | 74/0.3387/1.953125e-05 | 75/0.3407/1.953125e-05 | 76/0.3407/1.953125e-05 | 77/0.3407/1.953125e-05 | 78/0.3387/1.953125e-05 | 79/0.3407/1.953125e-05 | 80/0.3427/9.765625e-06 | 81/0.3427/9.765625e-06 | 82/0.3387/9.765625e-06 | 83/0.3387/9.765625e-06 | 84/0.3387/9.765625e-06 | 85/0.3387/9.765625e-06 | 86/0.3427/4.8828125e-06 | 87/0.3407/4.8828125e-06 | 88/0.3407/4.8828125e-06 | 89/0.3387/4.8828125e-06 | 90/0.3407/4.8828125e-06 | 91/0.3407/4.8828125e-06 | 92/0.3407/2.44140625e-06 | 93/0.3387/2.44140625e-06 | 94/0.3367/2.44140625e-06 | 95/0.3367/2.44140625e-06 | 96/0.3367/2.44140625e-06 | 97/0.3367/2.44140625e-06 | 98/0.3407/1.220703125e-06 | 99/0.3407/1.220703125e-06 | 100/0.3367/1.220703125e-06 | 101/0.3387/1.220703125e-06 | 102/0.3387/1.220703125e-06 | 103/0.3387/1.220703125e-06 | 104/0.3387/6.103515625e-07 | Accuracy: 0.3188\n",
      "Evaluating nci109 dataset using graph_order method with a percentile of 70 against class members\n",
      "Epoch/val accuracy/lr: "
     ]
    },
    {
     "name": "stderr",
     "output_type": "stream",
     "text": [
      "/opt/conda/lib/python3.10/site-packages/torch_geometric/deprecation.py:26: UserWarning: 'data.DataLoader' is deprecated, use 'loader.DataLoader' instead\n",
      "  warnings.warn(out)\n"
     ]
    },
    {
     "name": "stdout",
     "output_type": "stream",
     "text": [
      "1/0.4844/0.01 | 2/0.4844/0.01 | 3/0.4844/0.01 | 4/0.4844/0.01 | 5/0.4844/0.01 | 6/0.4844/0.01 | 7/0.4775/0.01 | 8/0.4706/0.01 | 9/0.4844/0.01 | 10/0.4844/0.01 | 11/0.4723/0.01 | 12/0.4740/0.01 | 13/0.4827/0.01 | 14/0.4844/0.01 | 15/0.4810/0.005 | 16/0.4723/0.005 | 17/0.4533/0.005 | 18/0.4429/0.005 | 19/0.4360/0.005 | 20/0.4239/0.005 | 21/0.4135/0.005 | 22/0.3893/0.005 | 23/0.3443/0.005 | 24/0.3304/0.005 | 25/0.3114/0.005 | 26/0.3149/0.005 | 27/0.3201/0.005 | 28/0.3374/0.005 | 29/0.3581/0.005 | 30/0.3685/0.005 | 31/0.3927/0.005 | 32/0.3979/0.0025 | 33/0.4031/0.0025 | 34/0.4083/0.0025 | 35/0.4014/0.0025 | 36/0.3841/0.0025 | 37/0.3581/0.0025 | 38/0.3408/0.00125 | 39/0.3166/0.00125 | 40/0.3270/0.00125 | 41/0.3287/0.00125 | 42/0.3408/0.00125 | 43/0.3547/0.00125 | 44/0.3529/0.000625 | 45/0.3512/0.000625 | 46/0.3529/0.000625 | 47/0.3547/0.000625 | 48/0.3581/0.000625 | 49/0.3616/0.000625 | 50/0.3599/0.0003125 | 51/0.3547/0.0003125 | 52/0.3529/0.0003125 | 53/0.3512/0.0003125 | 54/0.3460/0.0003125 | 55/0.3443/0.0003125 | 56/0.3443/0.00015625 | 57/0.3408/0.00015625 | 58/0.3374/0.00015625 | 59/0.3374/0.00015625 | 60/0.3339/0.00015625 | 61/0.3339/0.00015625 | 62/0.3322/7.8125e-05 | 63/0.3322/7.8125e-05 | 64/0.3304/7.8125e-05 | 65/0.3235/7.8125e-05 | 66/0.3183/7.8125e-05 | 67/0.3183/7.8125e-05 | 68/0.3166/3.90625e-05 | 69/0.3166/3.90625e-05 | 70/0.3166/3.90625e-05 | 71/0.3166/3.90625e-05 | 72/0.3166/3.90625e-05 | 73/0.3149/3.90625e-05 | 74/0.3131/1.953125e-05 | 75/0.3131/1.953125e-05 | 76/0.3149/1.953125e-05 | 77/0.3149/1.953125e-05 | 78/0.3149/1.953125e-05 | 79/0.3166/1.953125e-05 | 80/0.3131/9.765625e-06 | 81/0.3149/9.765625e-06 | 82/0.3131/9.765625e-06 | 83/0.3131/9.765625e-06 | 84/0.3131/9.765625e-06 | 85/0.3114/9.765625e-06 | 86/0.3114/4.8828125e-06 | 87/0.3080/4.8828125e-06 | 88/0.3114/4.8828125e-06 | 89/0.3114/4.8828125e-06 | 90/0.3114/4.8828125e-06 | 91/0.3114/4.8828125e-06 | 92/0.3131/4.8828125e-06 | 93/0.3131/4.8828125e-06 | 94/0.3131/2.44140625e-06 | 95/0.3131/2.44140625e-06 | 96/0.3131/2.44140625e-06 | 97/0.3131/2.44140625e-06 | 98/0.3097/2.44140625e-06 | 99/0.3131/2.44140625e-06 | 100/0.3131/1.220703125e-06 | 101/0.3131/1.220703125e-06 | 102/0.3131/1.220703125e-06 | 103/0.3131/1.220703125e-06 | 104/0.3131/1.220703125e-06 | 105/0.3149/1.220703125e-06 | 106/0.3166/6.103515625e-07 | Accuracy: 0.3274\n",
      "Evaluating nci109 dataset using graph_order method with a percentile of 80 against class members\n",
      "Epoch/val accuracy/lr: "
     ]
    },
    {
     "name": "stderr",
     "output_type": "stream",
     "text": [
      "/opt/conda/lib/python3.10/site-packages/torch_geometric/deprecation.py:26: UserWarning: 'data.DataLoader' is deprecated, use 'loader.DataLoader' instead\n",
      "  warnings.warn(out)\n"
     ]
    },
    {
     "name": "stdout",
     "output_type": "stream",
     "text": [
      "1/0.0000/0.01 | 2/0.0000/0.01 | 3/0.0000/0.01 | 4/0.0000/0.01 | 5/0.0000/0.01 | 6/0.1982/0.01 | 7/0.4554/0.01 | 8/0.5083/0.005 | 9/0.5174/0.005 | 10/0.5083/0.005 | 11/0.4690/0.005 | 12/0.3510/0.005 | 13/0.3374/0.005 | 14/0.3298/0.0025 | 15/0.2723/0.0025 | 16/0.1604/0.0025 | 17/0.0711/0.0025 | 18/0.0393/0.0025 | 19/0.0076/0.0025 | 20/0.0000/0.00125 | 21/0.0000/0.00125 | 22/0.0000/0.00125 | 23/0.0000/0.00125 | 24/0.0000/0.00125 | 25/0.0000/0.00125 | 26/0.0000/0.000625 | 27/0.0000/0.000625 | 28/0.0000/0.000625 | 29/0.0000/0.000625 | 30/0.0000/0.000625 | 31/0.0000/0.000625 | 32/0.0000/0.0003125 | 33/0.0000/0.0003125 | 34/0.0000/0.0003125 | 35/0.0015/0.0003125 | 36/0.0015/0.0003125 | 37/0.0015/0.0003125 | 38/0.0030/0.00015625 | 39/0.0045/0.00015625 | 40/0.0045/0.00015625 | 41/0.0091/0.00015625 | 42/0.0091/0.00015625 | 43/0.0182/0.00015625 | 44/0.0182/7.8125e-05 | 45/0.0227/7.8125e-05 | 46/0.0257/7.8125e-05 | 47/0.0303/7.8125e-05 | 48/0.0393/7.8125e-05 | 49/0.0620/7.8125e-05 | 50/0.0832/3.90625e-05 | 51/0.0998/3.90625e-05 | 52/0.1089/3.90625e-05 | 53/0.1241/3.90625e-05 | 54/0.1407/3.90625e-05 | 55/0.1710/3.90625e-05 | 56/0.1876/1.953125e-05 | 57/0.2012/1.953125e-05 | 58/0.2103/1.953125e-05 | 59/0.2194/1.953125e-05 | 60/0.2360/1.953125e-05 | 61/0.2436/1.953125e-05 | 62/0.2542/9.765625e-06 | 63/0.2587/9.765625e-06 | 64/0.2663/9.765625e-06 | 65/0.2663/9.765625e-06 | 66/0.2753/9.765625e-06 | 67/0.2814/9.765625e-06 | 68/0.2799/4.8828125e-06 | 69/0.2920/4.8828125e-06 | 70/0.2950/4.8828125e-06 | 71/0.3026/4.8828125e-06 | 72/0.3041/4.8828125e-06 | 73/0.3056/4.8828125e-06 | 74/0.3041/2.44140625e-06 | 75/0.3041/2.44140625e-06 | 76/0.3056/2.44140625e-06 | 77/0.3101/2.44140625e-06 | 78/0.3162/2.44140625e-06 | 79/0.3147/2.44140625e-06 | 80/0.3177/1.220703125e-06 | 81/0.3177/1.220703125e-06 | 82/0.3177/1.220703125e-06 | 83/0.3177/1.220703125e-06 | 84/0.3207/1.220703125e-06 | 85/0.3207/1.220703125e-06 | 86/0.3207/6.103515625e-07 | Accuracy: 0.3325\n",
      "Evaluating nci109 dataset using graph_order method with a percentile of 90 against class members\n",
      "Epoch/val accuracy/lr: "
     ]
    },
    {
     "name": "stderr",
     "output_type": "stream",
     "text": [
      "/opt/conda/lib/python3.10/site-packages/torch_geometric/deprecation.py:26: UserWarning: 'data.DataLoader' is deprecated, use 'loader.DataLoader' instead\n",
      "  warnings.warn(out)\n"
     ]
    },
    {
     "name": "stdout",
     "output_type": "stream",
     "text": [
      "1/0.0000/0.01 | 2/0.0000/0.01 | 3/0.5094/0.01 | 4/0.5094/0.01 | 5/0.5094/0.01 | 6/0.4960/0.01 | 7/0.5027/0.01 | 8/0.5081/0.005 | 9/0.5081/0.005 | 10/0.4987/0.005 | 11/0.4691/0.005 | 12/0.3925/0.005 | 13/0.2997/0.005 | 14/0.1909/0.0025 | 15/0.0995/0.0025 | 16/0.0685/0.0025 | 17/0.0323/0.0025 | 18/0.0121/0.0025 | 19/0.0000/0.0025 | 20/0.0000/0.00125 | 21/0.0000/0.00125 | 22/0.0000/0.00125 | 23/0.0000/0.00125 | 24/0.0000/0.00125 | 25/0.0000/0.00125 | 26/0.0000/0.000625 | 27/0.0000/0.000625 | 28/0.0000/0.000625 | 29/0.0000/0.000625 | 30/0.0013/0.000625 | 31/0.0013/0.000625 | 32/0.0040/0.0003125 | 33/0.0054/0.0003125 | 34/0.0054/0.0003125 | 35/0.0094/0.0003125 | 36/0.0108/0.0003125 | 37/0.0134/0.0003125 | 38/0.0134/0.00015625 | 39/0.0134/0.00015625 | 40/0.0175/0.00015625 | 41/0.0215/0.00015625 | 42/0.0282/0.00015625 | 43/0.0309/0.00015625 | 44/0.0309/7.8125e-05 | 45/0.0417/7.8125e-05 | 46/0.0484/7.8125e-05 | 47/0.0659/7.8125e-05 | 48/0.0847/7.8125e-05 | 49/0.0941/7.8125e-05 | 50/0.1089/3.90625e-05 | 51/0.1331/3.90625e-05 | 52/0.1438/3.90625e-05 | 53/0.1653/3.90625e-05 | 54/0.1909/3.90625e-05 | 55/0.2030/3.90625e-05 | 56/0.2097/1.953125e-05 | 57/0.2164/1.953125e-05 | 58/0.2272/1.953125e-05 | 59/0.2379/1.953125e-05 | 60/0.2567/1.953125e-05 | 61/0.2567/1.953125e-05 | 62/0.2608/9.765625e-06 | 63/0.2608/9.765625e-06 | 64/0.2675/9.765625e-06 | 65/0.2769/9.765625e-06 | 66/0.2849/9.765625e-06 | 67/0.2849/9.765625e-06 | 68/0.2876/4.8828125e-06 | 69/0.2890/4.8828125e-06 | 70/0.2903/4.8828125e-06 | 71/0.2917/4.8828125e-06 | 72/0.2917/4.8828125e-06 | 73/0.2930/4.8828125e-06 | 74/0.2944/2.44140625e-06 | 75/0.2957/2.44140625e-06 | 76/0.2957/2.44140625e-06 | 77/0.2984/2.44140625e-06 | 78/0.3011/2.44140625e-06 | 79/0.2984/2.44140625e-06 | 80/0.2970/1.220703125e-06 | 81/0.3038/1.220703125e-06 | 82/0.3051/1.220703125e-06 | 83/0.3011/1.220703125e-06 | 84/0.3011/1.220703125e-06 | 85/0.3038/1.220703125e-06 | 86/0.3038/6.103515625e-07 | Accuracy: 0.3431\n",
      "Evaluating nci109 dataset using cos_sim method with a percentile of 40 against class members\n",
      "Epoch/val accuracy/lr: "
     ]
    },
    {
     "name": "stderr",
     "output_type": "stream",
     "text": [
      "/opt/conda/lib/python3.10/site-packages/torch_geometric/deprecation.py:26: UserWarning: 'data.DataLoader' is deprecated, use 'loader.DataLoader' instead\n",
      "  warnings.warn(out)\n"
     ]
    },
    {
     "name": "stdout",
     "output_type": "stream",
     "text": [
      "1/0.0000/0.01 | 2/0.0000/0.01 | 3/0.5106/0.01 | 4/0.5136/0.01 | 5/0.5136/0.01 | 6/0.5136/0.01 | 7/0.5106/0.01 | 8/0.5106/0.005 | 9/0.5015/0.005 | 10/0.4894/0.005 | 11/0.4804/0.005 | 12/0.4713/0.005 | 13/0.4290/0.005 | 14/0.4109/0.0025 | 15/0.3776/0.0025 | 16/0.3686/0.0025 | 17/0.3625/0.0025 | 18/0.3565/0.0025 | 19/0.3444/0.0025 | 20/0.3293/0.00125 | 21/0.3233/0.00125 | 22/0.3202/0.00125 | 23/0.3202/0.00125 | 24/0.3051/0.00125 | 25/0.2749/0.00125 | 26/0.2689/0.000625 | 27/0.2568/0.000625 | 28/0.2326/0.000625 | 29/0.2205/0.000625 | 30/0.1903/0.000625 | 31/0.1722/0.000625 | 32/0.1662/0.0003125 | 33/0.1662/0.0003125 | 34/0.1571/0.0003125 | 35/0.1571/0.0003125 | 36/0.1601/0.0003125 | 37/0.1662/0.0003125 | 38/0.1722/0.00015625 | 39/0.1843/0.00015625 | 40/0.1903/0.00015625 | 41/0.2054/0.00015625 | 42/0.2236/0.00015625 | 43/0.2447/0.00015625 | 44/0.2689/7.8125e-05 | 45/0.2779/7.8125e-05 | 46/0.2840/7.8125e-05 | 47/0.2870/7.8125e-05 | 48/0.2991/7.8125e-05 | 49/0.2961/7.8125e-05 | 50/0.3051/3.90625e-05 | 51/0.3172/3.90625e-05 | 52/0.3172/3.90625e-05 | 53/0.3142/3.90625e-05 | 54/0.3202/3.90625e-05 | 55/0.3263/3.90625e-05 | 56/0.3233/1.953125e-05 | 57/0.3263/1.953125e-05 | 58/0.3263/1.953125e-05 | 59/0.3293/1.953125e-05 | 60/0.3293/1.953125e-05 | 61/0.3293/1.953125e-05 | 62/0.3293/9.765625e-06 | 63/0.3323/9.765625e-06 | 64/0.3384/9.765625e-06 | 65/0.3414/9.765625e-06 | 66/0.3414/9.765625e-06 | 67/0.3444/9.765625e-06 | 68/0.3444/4.8828125e-06 | 69/0.3414/4.8828125e-06 | 70/0.3414/4.8828125e-06 | 71/0.3414/4.8828125e-06 | 72/0.3384/4.8828125e-06 | 73/0.3414/4.8828125e-06 | 74/0.3414/2.44140625e-06 | 75/0.3384/2.44140625e-06 | 76/0.3384/2.44140625e-06 | 77/0.3384/2.44140625e-06 | 78/0.3414/2.44140625e-06 | 79/0.3414/2.44140625e-06 | 80/0.3505/1.220703125e-06 | 81/0.3505/1.220703125e-06 | 82/0.3505/1.220703125e-06 | 83/0.3535/1.220703125e-06 | 84/0.3535/1.220703125e-06 | 85/0.3535/1.220703125e-06 | 86/0.3474/6.103515625e-07 | Accuracy: 0.3455\n",
      "Evaluating nci109 dataset using cos_sim method with a percentile of 50 against class members\n",
      "Epoch/val accuracy/lr: "
     ]
    },
    {
     "name": "stderr",
     "output_type": "stream",
     "text": [
      "/opt/conda/lib/python3.10/site-packages/torch_geometric/deprecation.py:26: UserWarning: 'data.DataLoader' is deprecated, use 'loader.DataLoader' instead\n",
      "  warnings.warn(out)\n"
     ]
    },
    {
     "name": "stdout",
     "output_type": "stream",
     "text": [
      "1/0.0000/0.01 | 2/0.0000/0.01 | 3/0.0000/0.01 | 4/0.2542/0.01 | 5/0.1768/0.01 | 6/0.5182/0.01 | 7/0.5182/0.01 | 8/0.5182/0.005 | 9/0.5182/0.005 | 10/0.5182/0.005 | 11/0.5182/0.005 | 12/0.5182/0.005 | 13/0.5182/0.005 | 14/0.5182/0.0025 | 15/0.5182/0.0025 | 16/0.5182/0.0025 | 17/0.5182/0.0025 | 18/0.5182/0.0025 | 19/0.5182/0.0025 | 20/0.5182/0.00125 | 21/0.5182/0.00125 | 22/0.5157/0.00125 | 23/0.5133/0.00125 | 24/0.5133/0.00125 | 25/0.5133/0.00125 | 26/0.5133/0.000625 | 27/0.5036/0.000625 | 28/0.5036/0.000625 | 29/0.5012/0.000625 | 30/0.5012/0.000625 | 31/0.4988/0.000625 | 32/0.4964/0.0003125 | 33/0.4915/0.0003125 | 34/0.4891/0.0003125 | 35/0.4843/0.0003125 | 36/0.4818/0.0003125 | 37/0.4794/0.0003125 | 38/0.4746/0.00015625 | 39/0.4697/0.00015625 | 40/0.4649/0.00015625 | 41/0.4625/0.00015625 | 42/0.4552/0.00015625 | 43/0.4431/0.00015625 | 44/0.4383/7.8125e-05 | 45/0.4358/7.8125e-05 | 46/0.4334/7.8125e-05 | 47/0.4310/7.8125e-05 | 48/0.4310/7.8125e-05 | 49/0.4310/7.8125e-05 | 50/0.4140/3.90625e-05 | 51/0.4140/3.90625e-05 | 52/0.4092/3.90625e-05 | 53/0.4044/3.90625e-05 | 54/0.3995/3.90625e-05 | 55/0.3947/3.90625e-05 | 56/0.3850/1.953125e-05 | 57/0.3850/1.953125e-05 | 58/0.3826/1.953125e-05 | 59/0.3777/1.953125e-05 | 60/0.3729/1.953125e-05 | 61/0.3705/1.953125e-05 | 62/0.3705/9.765625e-06 | 63/0.3705/9.765625e-06 | 64/0.3705/9.765625e-06 | 65/0.3705/9.765625e-06 | 66/0.3680/9.765625e-06 | 67/0.3656/9.765625e-06 | 68/0.3656/4.8828125e-06 | 69/0.3632/4.8828125e-06 | 70/0.3632/4.8828125e-06 | 71/0.3608/4.8828125e-06 | 72/0.3632/4.8828125e-06 | 73/0.3608/4.8828125e-06 | 74/0.3608/2.44140625e-06 | 75/0.3608/2.44140625e-06 | 76/0.3584/2.44140625e-06 | 77/0.3584/2.44140625e-06 | 78/0.3584/2.44140625e-06 | 79/0.3584/2.44140625e-06 | 80/0.3584/1.220703125e-06 | 81/0.3584/1.220703125e-06 | 82/0.3584/1.220703125e-06 | 83/0.3584/1.220703125e-06 | 84/0.3535/1.220703125e-06 | 85/0.3535/1.220703125e-06 | 86/0.3438/6.103515625e-07 | Accuracy: 0.2971\n",
      "Evaluating nci109 dataset using cos_sim method with a percentile of 60 against class members\n",
      "Epoch/val accuracy/lr: "
     ]
    },
    {
     "name": "stderr",
     "output_type": "stream",
     "text": [
      "/opt/conda/lib/python3.10/site-packages/torch_geometric/deprecation.py:26: UserWarning: 'data.DataLoader' is deprecated, use 'loader.DataLoader' instead\n",
      "  warnings.warn(out)\n"
     ]
    },
    {
     "name": "stdout",
     "output_type": "stream",
     "text": [
      "1/0.4879/0.01 | 2/0.4879/0.01 | 3/0.4879/0.01 | 4/0.4879/0.01 | 5/0.4879/0.01 | 6/0.4879/0.01 | 7/0.4254/0.01 | 8/0.3710/0.01 | 9/0.2984/0.01 | 10/0.1492/0.01 | 11/0.0605/0.01 | 12/0.0444/0.01 | 13/0.1613/0.01 | 14/0.2540/0.01 | 15/0.2581/0.01 | 16/0.1089/0.01 | 17/0.0282/0.01 | 18/0.0000/0.01 | 19/0.0000/0.01 | 20/0.0202/0.01 | 21/0.0202/0.01 | 22/0.0726/0.01 | 23/0.1895/0.01 | 24/0.2863/0.01 | 25/0.3004/0.005 | 26/0.3004/0.005 | 27/0.2923/0.005 | 28/0.2863/0.005 | 29/0.2843/0.005 | 30/0.2722/0.005 | 31/0.2661/0.0025 | 32/0.2621/0.0025 | 33/0.2560/0.0025 | 34/0.2560/0.0025 | 35/0.2661/0.0025 | 36/0.2722/0.0025 | 37/0.2742/0.00125 | 38/0.2681/0.00125 | 39/0.2681/0.00125 | 40/0.2661/0.00125 | 41/0.2722/0.00125 | 42/0.2722/0.00125 | 43/0.2661/0.000625 | 44/0.2702/0.000625 | 45/0.2742/0.000625 | 46/0.2802/0.000625 | 47/0.2863/0.000625 | 48/0.2863/0.000625 | 49/0.2923/0.0003125 | 50/0.2923/0.0003125 | 51/0.2923/0.0003125 | 52/0.3004/0.0003125 | 53/0.3004/0.0003125 | 54/0.3185/0.0003125 | 55/0.3246/0.00015625 | 56/0.3246/0.00015625 | 57/0.3266/0.00015625 | 58/0.3266/0.00015625 | 59/0.3266/0.00015625 | 60/0.3286/0.00015625 | 61/0.3347/7.8125e-05 | 62/0.3347/7.8125e-05 | 63/0.3367/7.8125e-05 | 64/0.3327/7.8125e-05 | 65/0.3387/7.8125e-05 | 66/0.3407/7.8125e-05 | 67/0.3448/3.90625e-05 | 68/0.3448/3.90625e-05 | 69/0.3528/3.90625e-05 | 70/0.3508/3.90625e-05 | 71/0.3528/3.90625e-05 | 72/0.3569/3.90625e-05 | 73/0.3589/1.953125e-05 | 74/0.3569/1.953125e-05 | 75/0.3569/1.953125e-05 | 76/0.3548/1.953125e-05 | 77/0.3569/1.953125e-05 | 78/0.3589/1.953125e-05 | 79/0.3649/9.765625e-06 | 80/0.3649/9.765625e-06 | 81/0.3669/9.765625e-06 | 82/0.3649/9.765625e-06 | 83/0.3669/9.765625e-06 | 84/0.3669/9.765625e-06 | 85/0.3649/4.8828125e-06 | 86/0.3649/4.8828125e-06 | 87/0.3649/4.8828125e-06 | 88/0.3649/4.8828125e-06 | 89/0.3649/4.8828125e-06 | 90/0.3649/4.8828125e-06 | 91/0.3669/2.44140625e-06 | 92/0.3669/2.44140625e-06 | 93/0.3669/2.44140625e-06 | 94/0.3669/2.44140625e-06 | 95/0.3669/2.44140625e-06 | 96/0.3669/2.44140625e-06 | 97/0.3669/1.220703125e-06 | 98/0.3669/1.220703125e-06 | 99/0.3649/1.220703125e-06 | 100/0.3669/1.220703125e-06 | 101/0.3669/1.220703125e-06 | 102/0.3669/1.220703125e-06 | 103/0.3690/6.103515625e-07 | Accuracy: 0.3503\n",
      "Evaluating nci109 dataset using cos_sim method with a percentile of 70 against class members\n",
      "Epoch/val accuracy/lr: "
     ]
    },
    {
     "name": "stderr",
     "output_type": "stream",
     "text": [
      "/opt/conda/lib/python3.10/site-packages/torch_geometric/deprecation.py:26: UserWarning: 'data.DataLoader' is deprecated, use 'loader.DataLoader' instead\n",
      "  warnings.warn(out)\n"
     ]
    },
    {
     "name": "stdout",
     "output_type": "stream",
     "text": [
      "1/0.5294/0.01 | 2/0.5294/0.01 | 3/0.5294/0.01 | 4/0.5294/0.01 | 5/0.4740/0.01 | 6/0.4567/0.01 | 7/0.5087/0.01 | 8/0.5225/0.01 | 9/0.5225/0.01 | 10/0.5138/0.01 | 11/0.5121/0.01 | 12/0.5069/0.01 | 13/0.5052/0.005 | 14/0.5035/0.005 | 15/0.5121/0.005 | 16/0.5208/0.005 | 17/0.5208/0.005 | 18/0.5190/0.005 | 19/0.5190/0.0025 | 20/0.5173/0.0025 | 21/0.5190/0.0025 | 22/0.5173/0.0025 | 23/0.5156/0.0025 | 24/0.5156/0.0025 | 25/0.5156/0.00125 | 26/0.5156/0.00125 | 27/0.5138/0.00125 | 28/0.5104/0.00125 | 29/0.5069/0.00125 | 30/0.5087/0.00125 | 31/0.5017/0.000625 | 32/0.5017/0.000625 | 33/0.4931/0.000625 | 34/0.4913/0.000625 | 35/0.4896/0.000625 | 36/0.4862/0.000625 | 37/0.4810/0.0003125 | 38/0.4775/0.0003125 | 39/0.4740/0.0003125 | 40/0.4740/0.0003125 | 41/0.4706/0.0003125 | 42/0.4671/0.0003125 | 43/0.4585/0.00015625 | 44/0.4516/0.00015625 | 45/0.4429/0.00015625 | 46/0.4325/0.00015625 | 47/0.4239/0.00015625 | 48/0.4221/0.00015625 | 49/0.4152/0.00015625 | 50/0.4135/0.00015625 | 51/0.4031/0.00015625 | 52/0.4048/0.00015625 | 53/0.4048/0.00015625 | 54/0.3979/0.00015625 | 55/0.3962/0.00015625 | 56/0.3910/0.00015625 | 57/0.3841/0.00015625 | 58/0.3824/0.00015625 | 59/0.3824/0.00015625 | 60/0.3754/0.00015625 | 61/0.3702/0.00015625 | 62/0.3668/0.00015625 | 63/0.3685/0.00015625 | 64/0.3633/0.00015625 | 65/0.3599/0.00015625 | 66/0.3616/0.00015625 | 67/0.3581/0.00015625 | 68/0.3495/0.00015625 | 69/0.3512/0.00015625 | 70/0.3599/0.00015625 | 71/0.3651/0.00015625 | 72/0.3599/0.00015625 | 73/0.3599/0.00015625 | 74/0.3633/0.00015625 | 75/0.3668/7.8125e-05 | 76/0.3651/7.8125e-05 | 77/0.3651/7.8125e-05 | 78/0.3685/7.8125e-05 | 79/0.3737/7.8125e-05 | 80/0.3702/7.8125e-05 | 81/0.3720/3.90625e-05 | 82/0.3772/3.90625e-05 | 83/0.3754/3.90625e-05 | 84/0.3772/3.90625e-05 | 85/0.3789/3.90625e-05 | 86/0.3737/3.90625e-05 | 87/0.3720/1.953125e-05 | 88/0.3737/1.953125e-05 | 89/0.3702/1.953125e-05 | 90/0.3754/1.953125e-05 | 91/0.3789/1.953125e-05 | 92/0.3772/1.953125e-05 | 93/0.3754/9.765625e-06 | 94/0.3754/9.765625e-06 | 95/0.3754/9.765625e-06 | 96/0.3754/9.765625e-06 | 97/0.3754/9.765625e-06 | 98/0.3754/9.765625e-06 | 99/0.3754/4.8828125e-06 | 100/0.3720/4.8828125e-06 | 101/0.3737/4.8828125e-06 | 102/0.3754/4.8828125e-06 | 103/0.3737/4.8828125e-06 | 104/0.3702/4.8828125e-06 | 105/0.3720/2.44140625e-06 | 106/0.3737/2.44140625e-06 | 107/0.3737/2.44140625e-06 | 108/0.3737/2.44140625e-06 | 109/0.3737/2.44140625e-06 | 110/0.3737/2.44140625e-06 | 111/0.3737/1.220703125e-06 | 112/0.3754/1.220703125e-06 | 113/0.3720/1.220703125e-06 | 114/0.3720/1.220703125e-06 | 115/0.3685/1.220703125e-06 | 116/0.3720/1.220703125e-06 | 117/0.3702/6.103515625e-07 | Accuracy: 0.3161\n",
      "Evaluating nci109 dataset using cos_sim method with a percentile of 80 against class members\n",
      "Epoch/val accuracy/lr: "
     ]
    },
    {
     "name": "stderr",
     "output_type": "stream",
     "text": [
      "/opt/conda/lib/python3.10/site-packages/torch_geometric/deprecation.py:26: UserWarning: 'data.DataLoader' is deprecated, use 'loader.DataLoader' instead\n",
      "  warnings.warn(out)\n"
     ]
    },
    {
     "name": "stdout",
     "output_type": "stream",
     "text": [
      "1/0.0000/0.01 | 2/0.0000/0.01 | 3/0.0000/0.01 | 4/0.4297/0.01 | 5/0.4584/0.01 | 6/0.4508/0.01 | 7/0.4705/0.01 | 8/0.4478/0.005 | 9/0.4175/0.005 | 10/0.4387/0.005 | 11/0.4675/0.005 | 12/0.4735/0.005 | 13/0.4735/0.005 | 14/0.4720/0.0025 | 15/0.4720/0.0025 | 16/0.4675/0.0025 | 17/0.4342/0.0025 | 18/0.3782/0.0025 | 19/0.3661/0.0025 | 20/0.3389/0.00125 | 21/0.3449/0.00125 | 22/0.3404/0.00125 | 23/0.3177/0.00125 | 24/0.2995/0.00125 | 25/0.2950/0.00125 | 26/0.2890/0.000625 | 27/0.2769/0.000625 | 28/0.2632/0.000625 | 29/0.2602/0.000625 | 30/0.2602/0.000625 | 31/0.2542/0.000625 | 32/0.2436/0.0003125 | 33/0.2436/0.0003125 | 34/0.2405/0.0003125 | 35/0.2375/0.0003125 | 36/0.2239/0.0003125 | 37/0.2209/0.0003125 | 38/0.2194/0.00015625 | 39/0.2179/0.00015625 | 40/0.2163/0.00015625 | 41/0.2103/0.00015625 | 42/0.2163/0.00015625 | 43/0.2163/0.00015625 | 44/0.2239/7.8125e-05 | 45/0.2269/7.8125e-05 | 46/0.2390/7.8125e-05 | 47/0.2405/7.8125e-05 | 48/0.2421/7.8125e-05 | 49/0.2481/7.8125e-05 | 50/0.2587/3.90625e-05 | 51/0.2602/3.90625e-05 | 52/0.2648/3.90625e-05 | 53/0.2769/3.90625e-05 | 54/0.2844/3.90625e-05 | 55/0.2920/3.90625e-05 | 56/0.2935/1.953125e-05 | 57/0.3041/1.953125e-05 | 58/0.3086/1.953125e-05 | 59/0.3116/1.953125e-05 | 60/0.3192/1.953125e-05 | 61/0.3192/1.953125e-05 | 62/0.3207/9.765625e-06 | 63/0.3207/9.765625e-06 | 64/0.3207/9.765625e-06 | 65/0.3207/9.765625e-06 | 66/0.3222/9.765625e-06 | 67/0.3192/9.765625e-06 | 68/0.3238/4.8828125e-06 | 69/0.3238/4.8828125e-06 | 70/0.3268/4.8828125e-06 | 71/0.3313/4.8828125e-06 | 72/0.3298/4.8828125e-06 | 73/0.3313/4.8828125e-06 | 74/0.3313/2.44140625e-06 | 75/0.3328/2.44140625e-06 | 76/0.3343/2.44140625e-06 | 77/0.3343/2.44140625e-06 | 78/0.3374/2.44140625e-06 | 79/0.3343/2.44140625e-06 | 80/0.3298/1.220703125e-06 | 81/0.3389/1.220703125e-06 | 82/0.3389/1.220703125e-06 | 83/0.3404/1.220703125e-06 | 84/0.3404/1.220703125e-06 | 85/0.3404/1.220703125e-06 | 86/0.3404/6.103515625e-07 | Accuracy: 0.3325\n",
      "Evaluating nci109 dataset using cos_sim method with a percentile of 90 against class members\n",
      "Epoch/val accuracy/lr: "
     ]
    },
    {
     "name": "stderr",
     "output_type": "stream",
     "text": [
      "/opt/conda/lib/python3.10/site-packages/torch_geometric/deprecation.py:26: UserWarning: 'data.DataLoader' is deprecated, use 'loader.DataLoader' instead\n",
      "  warnings.warn(out)\n"
     ]
    },
    {
     "name": "stdout",
     "output_type": "stream",
     "text": [
      "1/0.5081/0.01 | 2/0.5081/0.01 | 3/0.5081/0.01 | 4/0.5081/0.01 | 5/0.5081/0.01 | 6/0.5081/0.01 | 7/0.4516/0.01 | 8/0.3978/0.01 | 9/0.3414/0.01 | 10/0.4368/0.01 | 11/0.5013/0.01 | 12/0.5000/0.01 | 13/0.4906/0.01 | 14/0.4825/0.01 | 15/0.4892/0.01 | 16/0.4852/0.005 | 17/0.4879/0.005 | 18/0.4892/0.005 | 19/0.4906/0.005 | 20/0.4919/0.005 | 21/0.4919/0.005 | 22/0.4919/0.0025 | 23/0.4906/0.0025 | 24/0.4839/0.0025 | 25/0.4677/0.0025 | 26/0.4516/0.0025 | 27/0.4234/0.0025 | 28/0.4005/0.00125 | 29/0.3817/0.00125 | 30/0.3656/0.00125 | 31/0.3414/0.00125 | 32/0.3280/0.00125 | 33/0.3172/0.00125 | 34/0.3038/0.00125 | 35/0.2863/0.00125 | 36/0.2782/0.00125 | 37/0.2715/0.00125 | 38/0.2715/0.00125 | 39/0.2675/0.00125 | 40/0.2608/0.00125 | 41/0.2594/0.00125 | 42/0.2594/0.00125 | 43/0.2675/0.00125 | 44/0.2702/0.00125 | 45/0.2755/0.00125 | 46/0.2849/0.00125 | 47/0.2957/0.00125 | 48/0.2970/0.000625 | 49/0.2997/0.000625 | 50/0.2970/0.000625 | 51/0.2957/0.000625 | 52/0.2997/0.000625 | 53/0.2930/0.000625 | 54/0.2957/0.0003125 | 55/0.3011/0.0003125 | 56/0.3051/0.0003125 | 57/0.3105/0.0003125 | 58/0.3078/0.0003125 | 59/0.3118/0.0003125 | 60/0.3118/0.00015625 | 61/0.3145/0.00015625 | 62/0.3199/0.00015625 | 63/0.3306/0.00015625 | 64/0.3320/0.00015625 | 65/0.3320/0.00015625 | 66/0.3360/7.8125e-05 | 67/0.3360/7.8125e-05 | 68/0.3387/7.8125e-05 | 69/0.3401/7.8125e-05 | 70/0.3414/7.8125e-05 | 71/0.3414/7.8125e-05 | 72/0.3427/3.90625e-05 | 73/0.3454/3.90625e-05 | 74/0.3481/3.90625e-05 | 75/0.3495/3.90625e-05 | 76/0.3495/3.90625e-05 | 77/0.3495/3.90625e-05 | 78/0.3468/1.953125e-05 | 79/0.3522/1.953125e-05 | 80/0.3508/1.953125e-05 | 81/0.3548/1.953125e-05 | 82/0.3575/1.953125e-05 | 83/0.3562/1.953125e-05 | 84/0.3562/9.765625e-06 | 85/0.3548/9.765625e-06 | 86/0.3535/9.765625e-06 | 87/0.3548/9.765625e-06 | 88/0.3548/9.765625e-06 | 89/0.3562/9.765625e-06 | 90/0.3575/4.8828125e-06 | 91/0.3562/4.8828125e-06 | 92/0.3562/4.8828125e-06 | 93/0.3575/4.8828125e-06 | 94/0.3535/4.8828125e-06 | 95/0.3575/4.8828125e-06 | 96/0.3562/2.44140625e-06 | 97/0.3548/2.44140625e-06 | 98/0.3562/2.44140625e-06 | 99/0.3575/2.44140625e-06 | 100/0.3575/2.44140625e-06 | 101/0.3575/2.44140625e-06 | 102/0.3562/1.220703125e-06 | 103/0.3575/1.220703125e-06 | 104/0.3562/1.220703125e-06 | 105/0.3562/1.220703125e-06 | 106/0.3575/1.220703125e-06 | 107/0.3548/1.220703125e-06 | 108/0.3535/6.103515625e-07 | Accuracy: 0.3406\n",
      "Evaluating proteins dataset using random method with a percentile of 40 against class members\n",
      "Epoch/val accuracy/lr: "
     ]
    },
    {
     "name": "stderr",
     "output_type": "stream",
     "text": [
      "/opt/conda/lib/python3.10/site-packages/torch_geometric/deprecation.py:26: UserWarning: 'data.DataLoader' is deprecated, use 'loader.DataLoader' instead\n",
      "  warnings.warn(out)\n"
     ]
    },
    {
     "name": "stdout",
     "output_type": "stream",
     "text": [
      "1/0.3258/0.01 | 2/0.3258/0.01 | 3/0.2360/0.01 | 4/0.0000/0.01 | 5/0.0000/0.01 | 6/0.1348/0.01 | 7/0.0000/0.01 | 8/0.0000/0.01 | 9/0.0000/0.01 | 10/0.0000/0.01 | 11/0.0000/0.005 | 12/0.0000/0.005 | 13/0.0000/0.005 | 14/0.0000/0.005 | 15/0.0000/0.005 | 16/0.0000/0.005 | 17/0.0000/0.0025 | 18/0.0000/0.0025 | 19/0.0112/0.0025 | 20/0.0112/0.0025 | 21/0.0225/0.0025 | 22/0.0674/0.0025 | 23/0.0674/0.00125 | 24/0.0674/0.00125 | 25/0.0674/0.00125 | 26/0.0674/0.00125 | 27/0.0674/0.00125 | 28/0.0562/0.00125 | 29/0.0562/0.000625 | 30/0.0449/0.000625 | 31/0.0562/0.000625 | 32/0.0674/0.000625 | 33/0.0674/0.000625 | 34/0.0674/0.000625 | 35/0.0674/0.0003125 | 36/0.0787/0.0003125 | 37/0.0787/0.0003125 | 38/0.0787/0.0003125 | 39/0.0787/0.0003125 | 40/0.0899/0.0003125 | 41/0.0899/0.00015625 | 42/0.0899/0.00015625 | 43/0.1011/0.00015625 | 44/0.1011/0.00015625 | 45/0.1011/0.00015625 | 46/0.1236/0.00015625 | 47/0.1348/7.8125e-05 | 48/0.1573/7.8125e-05 | 49/0.1573/7.8125e-05 | 50/0.1573/7.8125e-05 | 51/0.1573/7.8125e-05 | 52/0.1573/7.8125e-05 | 53/0.1573/3.90625e-05 | 54/0.1573/3.90625e-05 | 55/0.1685/3.90625e-05 | 56/0.1685/3.90625e-05 | 57/0.1685/3.90625e-05 | 58/0.1685/3.90625e-05 | 59/0.1685/1.953125e-05 | 60/0.1798/1.953125e-05 | 61/0.1910/1.953125e-05 | 62/0.1910/1.953125e-05 | 63/0.1910/1.953125e-05 | 64/0.1910/1.953125e-05 | 65/0.1910/9.765625e-06 | 66/0.1910/9.765625e-06 | 67/0.1910/9.765625e-06 | 68/0.1910/9.765625e-06 | 69/0.1910/9.765625e-06 | 70/0.1910/9.765625e-06 | 71/0.1910/4.8828125e-06 | 72/0.1910/4.8828125e-06 | 73/0.1910/4.8828125e-06 | 74/0.1910/4.8828125e-06 | 75/0.1910/4.8828125e-06 | 76/0.1910/4.8828125e-06 | 77/0.1910/2.44140625e-06 | 78/0.1910/2.44140625e-06 | 79/0.1910/2.44140625e-06 | 80/0.1910/2.44140625e-06 | 81/0.1910/2.44140625e-06 | 82/0.1910/2.44140625e-06 | 83/0.2022/1.220703125e-06 | 84/0.1910/1.220703125e-06 | 85/0.1910/1.220703125e-06 | 86/0.1910/1.220703125e-06 | 87/0.1910/1.220703125e-06 | 88/0.2022/1.220703125e-06 | 89/0.1910/6.103515625e-07 | Accuracy: 0.2231\n",
      "Evaluating proteins dataset using random method with a percentile of 50 against class members\n",
      "Epoch/val accuracy/lr: "
     ]
    },
    {
     "name": "stderr",
     "output_type": "stream",
     "text": [
      "/opt/conda/lib/python3.10/site-packages/torch_geometric/deprecation.py:26: UserWarning: 'data.DataLoader' is deprecated, use 'loader.DataLoader' instead\n",
      "  warnings.warn(out)\n"
     ]
    },
    {
     "name": "stdout",
     "output_type": "stream",
     "text": [
      "1/0.1339/0.01 | 2/0.0000/0.01 | 3/0.2232/0.01 | 4/0.2679/0.01 | 5/0.0714/0.01 | 6/0.0357/0.01 | 7/0.0357/0.01 | 8/0.0179/0.01 | 9/0.0179/0.005 | 10/0.0268/0.005 | 11/0.0268/0.005 | 12/0.0625/0.005 | 13/0.0893/0.005 | 14/0.0893/0.005 | 15/0.0893/0.0025 | 16/0.0893/0.0025 | 17/0.1161/0.0025 | 18/0.1161/0.0025 | 19/0.1250/0.0025 | 20/0.1339/0.0025 | 21/0.1339/0.00125 | 22/0.1429/0.00125 | 23/0.1429/0.00125 | 24/0.1339/0.00125 | 25/0.1339/0.00125 | 26/0.1339/0.00125 | 27/0.1339/0.000625 | 28/0.1250/0.000625 | 29/0.1250/0.000625 | 30/0.1339/0.000625 | 31/0.1339/0.000625 | 32/0.1339/0.000625 | 33/0.1339/0.0003125 | 34/0.1429/0.0003125 | 35/0.1696/0.0003125 | 36/0.1786/0.0003125 | 37/0.1875/0.0003125 | 38/0.1875/0.0003125 | 39/0.1875/0.00015625 | 40/0.1875/0.00015625 | 41/0.1875/0.00015625 | 42/0.1786/0.00015625 | 43/0.1786/0.00015625 | 44/0.1786/0.00015625 | 45/0.1875/7.8125e-05 | 46/0.1875/7.8125e-05 | 47/0.1964/7.8125e-05 | 48/0.1964/7.8125e-05 | 49/0.1964/7.8125e-05 | 50/0.1964/7.8125e-05 | 51/0.1964/3.90625e-05 | 52/0.1964/3.90625e-05 | 53/0.1964/3.90625e-05 | 54/0.1964/3.90625e-05 | 55/0.1964/3.90625e-05 | 56/0.1964/3.90625e-05 | 57/0.1964/1.953125e-05 | 58/0.1964/1.953125e-05 | 59/0.1964/1.953125e-05 | 60/0.1964/1.953125e-05 | 61/0.1964/1.953125e-05 | 62/0.1964/1.953125e-05 | 63/0.2054/9.765625e-06 | 64/0.2054/9.765625e-06 | 65/0.2054/9.765625e-06 | 66/0.2054/9.765625e-06 | 67/0.2143/9.765625e-06 | 68/0.2143/9.765625e-06 | 69/0.2054/4.8828125e-06 | 70/0.2054/4.8828125e-06 | 71/0.2054/4.8828125e-06 | 72/0.2054/4.8828125e-06 | 73/0.2054/4.8828125e-06 | 74/0.2054/4.8828125e-06 | 75/0.2054/2.44140625e-06 | 76/0.1964/2.44140625e-06 | 77/0.2143/2.44140625e-06 | 78/0.2143/2.44140625e-06 | 79/0.2143/2.44140625e-06 | 80/0.2054/2.44140625e-06 | 81/0.2054/1.220703125e-06 | 82/0.1964/1.220703125e-06 | 83/0.2054/1.220703125e-06 | 84/0.2054/1.220703125e-06 | 85/0.2054/1.220703125e-06 | 86/0.2143/1.220703125e-06 | 87/0.2143/6.103515625e-07 | Accuracy: 0.2513\n",
      "Evaluating proteins dataset using random method with a percentile of 60 against class members\n",
      "Epoch/val accuracy/lr: "
     ]
    },
    {
     "name": "stderr",
     "output_type": "stream",
     "text": [
      "/opt/conda/lib/python3.10/site-packages/torch_geometric/deprecation.py:26: UserWarning: 'data.DataLoader' is deprecated, use 'loader.DataLoader' instead\n",
      "  warnings.warn(out)\n"
     ]
    },
    {
     "name": "stdout",
     "output_type": "stream",
     "text": [
      "1/0.0000/0.01 | 2/0.3433/0.01 | 3/0.3358/0.01 | 4/0.2612/0.01 | 5/0.0896/0.01 | 6/0.0149/0.01 | 7/0.0000/0.01 | 8/0.0000/0.005 | 9/0.0149/0.005 | 10/0.0373/0.005 | 11/0.0149/0.005 | 12/0.0149/0.005 | 13/0.0299/0.005 | 14/0.0299/0.0025 | 15/0.0373/0.0025 | 16/0.0448/0.0025 | 17/0.0597/0.0025 | 18/0.0896/0.0025 | 19/0.0821/0.0025 | 20/0.0597/0.00125 | 21/0.0672/0.00125 | 22/0.0896/0.00125 | 23/0.0896/0.00125 | 24/0.0896/0.00125 | 25/0.1119/0.00125 | 26/0.1119/0.000625 | 27/0.1194/0.000625 | 28/0.1418/0.000625 | 29/0.1493/0.000625 | 30/0.1642/0.000625 | 31/0.1642/0.000625 | 32/0.1716/0.0003125 | 33/0.1716/0.0003125 | 34/0.1716/0.0003125 | 35/0.1642/0.0003125 | 36/0.1716/0.0003125 | 37/0.1716/0.0003125 | 38/0.1716/0.00015625 | 39/0.1716/0.00015625 | 40/0.1791/0.00015625 | 41/0.1791/0.00015625 | 42/0.1791/0.00015625 | 43/0.1791/0.00015625 | 44/0.1866/7.8125e-05 | 45/0.1866/7.8125e-05 | 46/0.1866/7.8125e-05 | 47/0.1866/7.8125e-05 | 48/0.1866/7.8125e-05 | 49/0.1940/7.8125e-05 | 50/0.2015/3.90625e-05 | 51/0.2015/3.90625e-05 | 52/0.2090/3.90625e-05 | 53/0.2090/3.90625e-05 | 54/0.2090/3.90625e-05 | 55/0.2090/3.90625e-05 | 56/0.2090/1.953125e-05 | 57/0.2090/1.953125e-05 | 58/0.2090/1.953125e-05 | 59/0.2090/1.953125e-05 | 60/0.2090/1.953125e-05 | 61/0.2090/1.953125e-05 | 62/0.2090/9.765625e-06 | 63/0.2090/9.765625e-06 | 64/0.2090/9.765625e-06 | 65/0.2090/9.765625e-06 | 66/0.2090/9.765625e-06 | 67/0.2090/9.765625e-06 | 68/0.2090/4.8828125e-06 | 69/0.2090/4.8828125e-06 | 70/0.2090/4.8828125e-06 | 71/0.2090/4.8828125e-06 | 72/0.2090/4.8828125e-06 | 73/0.2090/4.8828125e-06 | 74/0.2090/2.44140625e-06 | 75/0.2090/2.44140625e-06 | 76/0.2090/2.44140625e-06 | 77/0.2090/2.44140625e-06 | 78/0.2090/2.44140625e-06 | 79/0.2090/2.44140625e-06 | 80/0.2090/1.220703125e-06 | 81/0.2090/1.220703125e-06 | 82/0.2090/1.220703125e-06 | 83/0.2090/1.220703125e-06 | 84/0.2090/1.220703125e-06 | 85/0.2090/1.220703125e-06 | 86/0.2090/6.103515625e-07 | Accuracy: 0.2242\n",
      "Evaluating proteins dataset using random method with a percentile of 70 against class members\n",
      "Epoch/val accuracy/lr: "
     ]
    },
    {
     "name": "stderr",
     "output_type": "stream",
     "text": [
      "/opt/conda/lib/python3.10/site-packages/torch_geometric/deprecation.py:26: UserWarning: 'data.DataLoader' is deprecated, use 'loader.DataLoader' instead\n",
      "  warnings.warn(out)\n"
     ]
    },
    {
     "name": "stdout",
     "output_type": "stream",
     "text": [
      "1/0.0000/0.01 | 2/0.0000/0.01 | 3/0.0000/0.01 | 4/0.0000/0.01 | 5/0.0000/0.01 | 6/0.0000/0.01 | 7/0.0000/0.01 | 8/0.0192/0.005 | 9/0.0833/0.005 | 10/0.0962/0.005 | 11/0.1154/0.005 | 12/0.1282/0.005 | 13/0.1474/0.005 | 14/0.1603/0.0025 | 15/0.1795/0.0025 | 16/0.2308/0.0025 | 17/0.2244/0.0025 | 18/0.1795/0.0025 | 19/0.1538/0.0025 | 20/0.1410/0.00125 | 21/0.1410/0.00125 | 22/0.1474/0.00125 | 23/0.1987/0.00125 | 24/0.1795/0.00125 | 25/0.1731/0.00125 | 26/0.1731/0.000625 | 27/0.1795/0.000625 | 28/0.1795/0.000625 | 29/0.1795/0.000625 | 30/0.1859/0.000625 | 31/0.1923/0.000625 | 32/0.1923/0.0003125 | 33/0.1987/0.0003125 | 34/0.1987/0.0003125 | 35/0.2051/0.0003125 | 36/0.2179/0.0003125 | 37/0.2244/0.0003125 | 38/0.2308/0.00015625 | 39/0.2308/0.00015625 | 40/0.2308/0.00015625 | 41/0.2308/0.00015625 | 42/0.2308/0.00015625 | 43/0.2308/0.00015625 | 44/0.2308/7.8125e-05 | 45/0.2308/7.8125e-05 | 46/0.2372/7.8125e-05 | 47/0.2308/7.8125e-05 | 48/0.2244/7.8125e-05 | 49/0.2244/7.8125e-05 | 50/0.2244/3.90625e-05 | 51/0.2244/3.90625e-05 | 52/0.2372/3.90625e-05 | 53/0.2372/3.90625e-05 | 54/0.2372/3.90625e-05 | 55/0.2372/3.90625e-05 | 56/0.2372/1.953125e-05 | 57/0.2372/1.953125e-05 | 58/0.2372/1.953125e-05 | 59/0.2372/1.953125e-05 | 60/0.2372/1.953125e-05 | 61/0.2308/1.953125e-05 | 62/0.2308/9.765625e-06 | 63/0.2244/9.765625e-06 | 64/0.2244/9.765625e-06 | 65/0.2308/9.765625e-06 | 66/0.2308/9.765625e-06 | 67/0.2308/9.765625e-06 | 68/0.2308/4.8828125e-06 | 69/0.2308/4.8828125e-06 | 70/0.2308/4.8828125e-06 | 71/0.2308/4.8828125e-06 | 72/0.2308/4.8828125e-06 | 73/0.2308/4.8828125e-06 | 74/0.2308/2.44140625e-06 | 75/0.2308/2.44140625e-06 | 76/0.2308/2.44140625e-06 | 77/0.2308/2.44140625e-06 | 78/0.2308/2.44140625e-06 | 79/0.2308/2.44140625e-06 | 80/0.2308/1.220703125e-06 | 81/0.2308/1.220703125e-06 | 82/0.2308/1.220703125e-06 | 83/0.2308/1.220703125e-06 | 84/0.2308/1.220703125e-06 | 85/0.2244/1.220703125e-06 | 86/0.2179/6.103515625e-07 | Accuracy: 0.2156\n",
      "Evaluating proteins dataset using random method with a percentile of 80 against class members\n",
      "Epoch/val accuracy/lr: "
     ]
    },
    {
     "name": "stderr",
     "output_type": "stream",
     "text": [
      "/opt/conda/lib/python3.10/site-packages/torch_geometric/deprecation.py:26: UserWarning: 'data.DataLoader' is deprecated, use 'loader.DataLoader' instead\n",
      "  warnings.warn(out)\n"
     ]
    },
    {
     "name": "stdout",
     "output_type": "stream",
     "text": [
      "1/0.0056/0.01 | 2/0.1292/0.01 | 3/0.1517/0.01 | 4/0.3596/0.01 | 5/0.2303/0.01 | 6/0.1573/0.01 | 7/0.0281/0.01 | 8/0.0000/0.005 | 9/0.0056/0.005 | 10/0.0112/0.005 | 11/0.0112/0.005 | 12/0.0337/0.005 | 13/0.0281/0.005 | 14/0.0337/0.005 | 15/0.0393/0.0025 | 16/0.0506/0.0025 | 17/0.0506/0.0025 | 18/0.1067/0.0025 | 19/0.1067/0.0025 | 20/0.0449/0.0025 | 21/0.0449/0.00125 | 22/0.0506/0.00125 | 23/0.0843/0.00125 | 24/0.1067/0.00125 | 25/0.1124/0.00125 | 26/0.1124/0.00125 | 27/0.1180/0.000625 | 28/0.1292/0.000625 | 29/0.1348/0.000625 | 30/0.1461/0.000625 | 31/0.1461/0.000625 | 32/0.1236/0.000625 | 33/0.1180/0.0003125 | 34/0.1292/0.0003125 | 35/0.1348/0.0003125 | 36/0.1348/0.0003125 | 37/0.1573/0.0003125 | 38/0.1573/0.0003125 | 39/0.1573/0.00015625 | 40/0.1629/0.00015625 | 41/0.1798/0.00015625 | 42/0.1854/0.00015625 | 43/0.1910/0.00015625 | 44/0.1910/0.00015625 | 45/0.1966/7.8125e-05 | 46/0.1966/7.8125e-05 | 47/0.2022/7.8125e-05 | 48/0.2022/7.8125e-05 | 49/0.2135/7.8125e-05 | 50/0.2135/7.8125e-05 | 51/0.2135/3.90625e-05 | 52/0.2135/3.90625e-05 | 53/0.2135/3.90625e-05 | 54/0.2135/3.90625e-05 | 55/0.2135/3.90625e-05 | 56/0.2135/3.90625e-05 | 57/0.2135/1.953125e-05 | 58/0.2135/1.953125e-05 | 59/0.2135/1.953125e-05 | 60/0.2135/1.953125e-05 | 61/0.2135/1.953125e-05 | 62/0.2135/1.953125e-05 | 63/0.2135/9.765625e-06 | 64/0.2135/9.765625e-06 | 65/0.2135/9.765625e-06 | 66/0.2135/9.765625e-06 | 67/0.2135/9.765625e-06 | 68/0.2135/9.765625e-06 | 69/0.2079/4.8828125e-06 | 70/0.2079/4.8828125e-06 | 71/0.2022/4.8828125e-06 | 72/0.2079/4.8828125e-06 | 73/0.2079/4.8828125e-06 | 74/0.2022/4.8828125e-06 | 75/0.2022/2.44140625e-06 | 76/0.2079/2.44140625e-06 | 77/0.2079/2.44140625e-06 | 78/0.2079/2.44140625e-06 | 79/0.2022/2.44140625e-06 | 80/0.2079/2.44140625e-06 | 81/0.2079/1.220703125e-06 | 82/0.2079/1.220703125e-06 | 83/0.2079/1.220703125e-06 | 84/0.2135/1.220703125e-06 | 85/0.2135/1.220703125e-06 | 86/0.2079/1.220703125e-06 | 87/0.2079/6.103515625e-07 | Accuracy: 0.2242\n",
      "Evaluating proteins dataset using random method with a percentile of 90 against class members\n",
      "Epoch/val accuracy/lr: "
     ]
    },
    {
     "name": "stderr",
     "output_type": "stream",
     "text": [
      "/opt/conda/lib/python3.10/site-packages/torch_geometric/deprecation.py:26: UserWarning: 'data.DataLoader' is deprecated, use 'loader.DataLoader' instead\n",
      "  warnings.warn(out)\n"
     ]
    },
    {
     "name": "stdout",
     "output_type": "stream",
     "text": [
      "1/0.4030/0.01 | 2/0.2289/0.01 | 3/0.0000/0.01 | 4/0.2786/0.01 | 5/0.0398/0.01 | 6/0.0149/0.01 | 7/0.0846/0.01 | 8/0.1443/0.01 | 9/0.1542/0.01 | 10/0.1144/0.005 | 11/0.0498/0.005 | 12/0.0249/0.005 | 13/0.0348/0.005 | 14/0.0896/0.005 | 15/0.1343/0.005 | 16/0.1443/0.0025 | 17/0.1542/0.0025 | 18/0.1642/0.0025 | 19/0.1592/0.0025 | 20/0.1692/0.0025 | 21/0.1841/0.0025 | 22/0.1791/0.00125 | 23/0.1791/0.00125 | 24/0.1791/0.00125 | 25/0.1791/0.00125 | 26/0.1940/0.00125 | 27/0.1990/0.00125 | 28/0.1940/0.000625 | 29/0.2040/0.000625 | 30/0.1940/0.000625 | 31/0.1791/0.000625 | 32/0.1791/0.000625 | 33/0.1791/0.000625 | 34/0.1791/0.0003125 | 35/0.1741/0.0003125 | 36/0.1891/0.0003125 | 37/0.1891/0.0003125 | 38/0.1891/0.0003125 | 39/0.1990/0.0003125 | 40/0.2388/0.00015625 | 41/0.2438/0.00015625 | 42/0.2338/0.00015625 | 43/0.2338/0.00015625 | 44/0.2388/0.00015625 | 45/0.2388/0.00015625 | 46/0.2289/7.8125e-05 | 47/0.2338/7.8125e-05 | 48/0.2338/7.8125e-05 | 49/0.2438/7.8125e-05 | 50/0.2438/7.8125e-05 | 51/0.2438/7.8125e-05 | 52/0.2388/3.90625e-05 | 53/0.2488/3.90625e-05 | 54/0.2488/3.90625e-05 | 55/0.2537/3.90625e-05 | 56/0.2537/3.90625e-05 | 57/0.2537/3.90625e-05 | 58/0.2537/1.953125e-05 | 59/0.2537/1.953125e-05 | 60/0.2537/1.953125e-05 | 61/0.2537/1.953125e-05 | 62/0.2537/1.953125e-05 | 63/0.2488/1.953125e-05 | 64/0.2488/9.765625e-06 | 65/0.2438/9.765625e-06 | 66/0.2388/9.765625e-06 | 67/0.2388/9.765625e-06 | 68/0.2537/9.765625e-06 | 69/0.2537/9.765625e-06 | 70/0.2537/4.8828125e-06 | 71/0.2587/4.8828125e-06 | 72/0.2637/4.8828125e-06 | 73/0.2537/4.8828125e-06 | 74/0.2587/4.8828125e-06 | 75/0.2587/4.8828125e-06 | 76/0.2637/2.44140625e-06 | 77/0.2587/2.44140625e-06 | 78/0.2537/2.44140625e-06 | 79/0.2537/2.44140625e-06 | 80/0.2537/2.44140625e-06 | 81/0.2637/2.44140625e-06 | 82/0.2637/1.220703125e-06 | 83/0.2587/1.220703125e-06 | 84/0.2687/1.220703125e-06 | 85/0.2687/1.220703125e-06 | 86/0.2637/1.220703125e-06 | 87/0.2637/1.220703125e-06 | 88/0.2587/6.103515625e-07 | Accuracy: 0.2143\n",
      "Evaluating proteins dataset using graph_order method with a percentile of 40 against class members\n",
      "Epoch/val accuracy/lr: "
     ]
    },
    {
     "name": "stderr",
     "output_type": "stream",
     "text": [
      "/opt/conda/lib/python3.10/site-packages/torch_geometric/deprecation.py:26: UserWarning: 'data.DataLoader' is deprecated, use 'loader.DataLoader' instead\n",
      "  warnings.warn(out)\n"
     ]
    },
    {
     "name": "stdout",
     "output_type": "stream",
     "text": [
      "1/0.3889/0.01 | 2/0.0000/0.01 | 3/0.0556/0.01 | 4/0.0667/0.01 | 5/0.1667/0.01 | 6/0.0333/0.01 | 7/0.0222/0.01 | 8/0.0333/0.01 | 9/0.0333/0.005 | 10/0.0333/0.005 | 11/0.0333/0.005 | 12/0.0222/0.005 | 13/0.1333/0.005 | 14/0.1333/0.005 | 15/0.1333/0.0025 | 16/0.1333/0.0025 | 17/0.1444/0.0025 | 18/0.1444/0.0025 | 19/0.0778/0.0025 | 20/0.0556/0.0025 | 21/0.0889/0.00125 | 22/0.1333/0.00125 | 23/0.1333/0.00125 | 24/0.1444/0.00125 | 25/0.1556/0.00125 | 26/0.1556/0.00125 | 27/0.1333/0.000625 | 28/0.1556/0.000625 | 29/0.1556/0.000625 | 30/0.1556/0.000625 | 31/0.1556/0.000625 | 32/0.2000/0.000625 | 33/0.1889/0.0003125 | 34/0.1889/0.0003125 | 35/0.1889/0.0003125 | 36/0.1889/0.0003125 | 37/0.1889/0.0003125 | 38/0.1889/0.0003125 | 39/0.1889/0.00015625 | 40/0.2000/0.00015625 | 41/0.2000/0.00015625 | 42/0.2000/0.00015625 | 43/0.2000/0.00015625 | 44/0.2000/0.00015625 | 45/0.2000/7.8125e-05 | 46/0.2111/7.8125e-05 | 47/0.2111/7.8125e-05 | 48/0.2333/7.8125e-05 | 49/0.2333/7.8125e-05 | 50/0.2333/7.8125e-05 | 51/0.2333/3.90625e-05 | 52/0.2444/3.90625e-05 | 53/0.2444/3.90625e-05 | 54/0.2444/3.90625e-05 | 55/0.2444/3.90625e-05 | 56/0.2444/3.90625e-05 | 57/0.2556/1.953125e-05 | 58/0.2556/1.953125e-05 | 59/0.2556/1.953125e-05 | 60/0.2556/1.953125e-05 | 61/0.2556/1.953125e-05 | 62/0.2556/1.953125e-05 | 63/0.2444/9.765625e-06 | 64/0.2444/9.765625e-06 | 65/0.2444/9.765625e-06 | 66/0.2444/9.765625e-06 | 67/0.2444/9.765625e-06 | 68/0.2444/9.765625e-06 | 69/0.2444/4.8828125e-06 | 70/0.2444/4.8828125e-06 | 71/0.2444/4.8828125e-06 | 72/0.2444/4.8828125e-06 | 73/0.2444/4.8828125e-06 | 74/0.2444/4.8828125e-06 | 75/0.2444/2.44140625e-06 | 76/0.2444/2.44140625e-06 | 77/0.2444/2.44140625e-06 | 78/0.2444/2.44140625e-06 | 79/0.2444/2.44140625e-06 | 80/0.2444/2.44140625e-06 | 81/0.2444/1.220703125e-06 | 82/0.2444/1.220703125e-06 | 83/0.2556/1.220703125e-06 | 84/0.2667/1.220703125e-06 | 85/0.2444/1.220703125e-06 | 86/0.2444/1.220703125e-06 | 87/0.2444/6.103515625e-07 | Accuracy: 0.1109\n",
      "Evaluating proteins dataset using graph_order method with a percentile of 50 against class members\n",
      "Epoch/val accuracy/lr: "
     ]
    },
    {
     "name": "stderr",
     "output_type": "stream",
     "text": [
      "/opt/conda/lib/python3.10/site-packages/torch_geometric/deprecation.py:26: UserWarning: 'data.DataLoader' is deprecated, use 'loader.DataLoader' instead\n",
      "  warnings.warn(out)\n"
     ]
    },
    {
     "name": "stdout",
     "output_type": "stream",
     "text": [
      "1/0.0000/0.01 | 2/0.0000/0.01 | 3/0.0536/0.01 | 4/0.1071/0.01 | 5/0.1071/0.01 | 6/0.1161/0.01 | 7/0.0893/0.01 | 8/0.0625/0.005 | 9/0.0179/0.005 | 10/0.0000/0.005 | 11/0.0000/0.005 | 12/0.0446/0.005 | 13/0.0804/0.005 | 14/0.0893/0.0025 | 15/0.0893/0.0025 | 16/0.0893/0.0025 | 17/0.0893/0.0025 | 18/0.0893/0.0025 | 19/0.1071/0.0025 | 20/0.0982/0.00125 | 21/0.0982/0.00125 | 22/0.0982/0.00125 | 23/0.1071/0.00125 | 24/0.1250/0.00125 | 25/0.1250/0.00125 | 26/0.1339/0.000625 | 27/0.1429/0.000625 | 28/0.1429/0.000625 | 29/0.1429/0.000625 | 30/0.1429/0.000625 | 31/0.1518/0.000625 | 32/0.1518/0.0003125 | 33/0.1518/0.0003125 | 34/0.1518/0.0003125 | 35/0.1518/0.0003125 | 36/0.1607/0.0003125 | 37/0.1607/0.0003125 | 38/0.1607/0.00015625 | 39/0.1607/0.00015625 | 40/0.1607/0.00015625 | 41/0.1607/0.00015625 | 42/0.1607/0.00015625 | 43/0.1607/0.00015625 | 44/0.1607/7.8125e-05 | 45/0.1607/7.8125e-05 | 46/0.1607/7.8125e-05 | 47/0.1607/7.8125e-05 | 48/0.1607/7.8125e-05 | 49/0.1607/7.8125e-05 | 50/0.1786/3.90625e-05 | 51/0.1786/3.90625e-05 | 52/0.1786/3.90625e-05 | 53/0.1786/3.90625e-05 | 54/0.1786/3.90625e-05 | 55/0.1786/3.90625e-05 | 56/0.1786/1.953125e-05 | 57/0.1875/1.953125e-05 | 58/0.1875/1.953125e-05 | 59/0.1964/1.953125e-05 | 60/0.1964/1.953125e-05 | 61/0.1964/1.953125e-05 | 62/0.2054/9.765625e-06 | 63/0.2054/9.765625e-06 | 64/0.2054/9.765625e-06 | 65/0.2054/9.765625e-06 | 66/0.2054/9.765625e-06 | 67/0.2054/9.765625e-06 | 68/0.2054/4.8828125e-06 | 69/0.2054/4.8828125e-06 | 70/0.2143/4.8828125e-06 | 71/0.2143/4.8828125e-06 | 72/0.2143/4.8828125e-06 | 73/0.2143/4.8828125e-06 | 74/0.2143/2.44140625e-06 | 75/0.2143/2.44140625e-06 | 76/0.2143/2.44140625e-06 | 77/0.2143/2.44140625e-06 | 78/0.2143/2.44140625e-06 | 79/0.2143/2.44140625e-06 | 80/0.2143/1.220703125e-06 | 81/0.2143/1.220703125e-06 | 82/0.2143/1.220703125e-06 | 83/0.2143/1.220703125e-06 | 84/0.2143/1.220703125e-06 | 85/0.2143/1.220703125e-06 | 86/0.2143/6.103515625e-07 | Accuracy: 0.1403\n",
      "Evaluating proteins dataset using graph_order method with a percentile of 60 against class members\n",
      "Epoch/val accuracy/lr: "
     ]
    },
    {
     "name": "stderr",
     "output_type": "stream",
     "text": [
      "/opt/conda/lib/python3.10/site-packages/torch_geometric/deprecation.py:26: UserWarning: 'data.DataLoader' is deprecated, use 'loader.DataLoader' instead\n",
      "  warnings.warn(out)\n"
     ]
    },
    {
     "name": "stdout",
     "output_type": "stream",
     "text": [
      "1/0.0000/0.01 | 2/0.0000/0.01 | 3/0.0000/0.01 | 4/0.0000/0.01 | 5/0.0000/0.01 | 6/0.0448/0.01 | 7/0.2164/0.01 | 8/0.2612/0.005 | 9/0.2761/0.005 | 10/0.2537/0.005 | 11/0.1418/0.005 | 12/0.1343/0.005 | 13/0.1269/0.005 | 14/0.1269/0.0025 | 15/0.1269/0.0025 | 16/0.1119/0.0025 | 17/0.1194/0.0025 | 18/0.1119/0.0025 | 19/0.1567/0.0025 | 20/0.1567/0.00125 | 21/0.1567/0.00125 | 22/0.1567/0.00125 | 23/0.1642/0.00125 | 24/0.1642/0.00125 | 25/0.1642/0.00125 | 26/0.1642/0.000625 | 27/0.1642/0.000625 | 28/0.1642/0.000625 | 29/0.1716/0.000625 | 30/0.1642/0.000625 | 31/0.1642/0.000625 | 32/0.1716/0.0003125 | 33/0.1716/0.0003125 | 34/0.1791/0.0003125 | 35/0.1866/0.0003125 | 36/0.1940/0.0003125 | 37/0.2015/0.0003125 | 38/0.2015/0.00015625 | 39/0.1940/0.00015625 | 40/0.1940/0.00015625 | 41/0.2090/0.00015625 | 42/0.2015/0.00015625 | 43/0.2164/0.00015625 | 44/0.2090/7.8125e-05 | 45/0.2164/7.8125e-05 | 46/0.2090/7.8125e-05 | 47/0.2090/7.8125e-05 | 48/0.2090/7.8125e-05 | 49/0.2090/7.8125e-05 | 50/0.2164/3.90625e-05 | 51/0.2164/3.90625e-05 | 52/0.2164/3.90625e-05 | 53/0.2239/3.90625e-05 | 54/0.2090/3.90625e-05 | 55/0.2015/3.90625e-05 | 56/0.2015/1.953125e-05 | 57/0.2164/1.953125e-05 | 58/0.2090/1.953125e-05 | 59/0.2090/1.953125e-05 | 60/0.2090/1.953125e-05 | 61/0.2313/1.953125e-05 | 62/0.2164/9.765625e-06 | 63/0.2164/9.765625e-06 | 64/0.2090/9.765625e-06 | 65/0.2090/9.765625e-06 | 66/0.2164/9.765625e-06 | 67/0.2164/9.765625e-06 | 68/0.2164/4.8828125e-06 | 69/0.2164/4.8828125e-06 | 70/0.2164/4.8828125e-06 | 71/0.2164/4.8828125e-06 | 72/0.2164/4.8828125e-06 | 73/0.2239/4.8828125e-06 | 74/0.2090/2.44140625e-06 | 75/0.2090/2.44140625e-06 | 76/0.2090/2.44140625e-06 | 77/0.2015/2.44140625e-06 | 78/0.2015/2.44140625e-06 | 79/0.2090/2.44140625e-06 | 80/0.2164/1.220703125e-06 | 81/0.2090/1.220703125e-06 | 82/0.2239/1.220703125e-06 | 83/0.2164/1.220703125e-06 | 84/0.2239/1.220703125e-06 | 85/0.2239/1.220703125e-06 | 86/0.2164/6.103515625e-07 | Accuracy: 0.1101\n",
      "Evaluating proteins dataset using graph_order method with a percentile of 70 against class members\n",
      "Epoch/val accuracy/lr: "
     ]
    },
    {
     "name": "stderr",
     "output_type": "stream",
     "text": [
      "/opt/conda/lib/python3.10/site-packages/torch_geometric/deprecation.py:26: UserWarning: 'data.DataLoader' is deprecated, use 'loader.DataLoader' instead\n",
      "  warnings.warn(out)\n"
     ]
    },
    {
     "name": "stdout",
     "output_type": "stream",
     "text": [
      "1/0.2803/0.01 | 2/0.3439/0.01 | 3/0.2484/0.01 | 4/0.1210/0.01 | 5/0.2484/0.01 | 6/0.1847/0.01 | 7/0.0127/0.01 | 8/0.0127/0.01 | 9/0.0064/0.01 | 10/0.0573/0.01 | 11/0.1847/0.01 | 12/0.1720/0.01 | 13/0.1529/0.01 | 14/0.1465/0.01 | 15/0.1847/0.01 | 16/0.1720/0.005 | 17/0.1911/0.005 | 18/0.1911/0.005 | 19/0.1975/0.005 | 20/0.1975/0.005 | 21/0.1975/0.005 | 22/0.2166/0.0025 | 23/0.2038/0.0025 | 24/0.2166/0.0025 | 25/0.2293/0.0025 | 26/0.2229/0.0025 | 27/0.2229/0.0025 | 28/0.2166/0.00125 | 29/0.2229/0.00125 | 30/0.2166/0.00125 | 31/0.2229/0.00125 | 32/0.2357/0.00125 | 33/0.2357/0.00125 | 34/0.2357/0.000625 | 35/0.2357/0.000625 | 36/0.2293/0.000625 | 37/0.2229/0.000625 | 38/0.2293/0.000625 | 39/0.2293/0.000625 | 40/0.2293/0.0003125 | 41/0.2293/0.0003125 | 42/0.2229/0.0003125 | 43/0.2229/0.0003125 | 44/0.2166/0.0003125 | 45/0.2166/0.0003125 | 46/0.2166/0.00015625 | 47/0.2166/0.00015625 | 48/0.2166/0.00015625 | 49/0.2166/0.00015625 | 50/0.2166/0.00015625 | 51/0.2293/0.00015625 | 52/0.2166/7.8125e-05 | 53/0.2293/7.8125e-05 | 54/0.2357/7.8125e-05 | 55/0.2357/7.8125e-05 | 56/0.2357/7.8125e-05 | 57/0.2357/7.8125e-05 | 58/0.2357/3.90625e-05 | 59/0.2357/3.90625e-05 | 60/0.2357/3.90625e-05 | 61/0.2357/3.90625e-05 | 62/0.2357/3.90625e-05 | 63/0.2357/3.90625e-05 | 64/0.2357/1.953125e-05 | 65/0.2357/1.953125e-05 | 66/0.2357/1.953125e-05 | 67/0.2357/1.953125e-05 | 68/0.2357/1.953125e-05 | 69/0.2357/1.953125e-05 | 70/0.2357/9.765625e-06 | 71/0.2357/9.765625e-06 | 72/0.2420/9.765625e-06 | 73/0.2420/9.765625e-06 | 74/0.2229/9.765625e-06 | 75/0.2293/9.765625e-06 | 76/0.2357/4.8828125e-06 | 77/0.2293/4.8828125e-06 | 78/0.2293/4.8828125e-06 | 79/0.2293/4.8828125e-06 | 80/0.2293/4.8828125e-06 | 81/0.2293/4.8828125e-06 | 82/0.2229/2.44140625e-06 | 83/0.2229/2.44140625e-06 | 84/0.2357/2.44140625e-06 | 85/0.2357/2.44140625e-06 | 86/0.2357/2.44140625e-06 | 87/0.2357/2.44140625e-06 | 88/0.2420/1.220703125e-06 | 89/0.2357/1.220703125e-06 | 90/0.2293/1.220703125e-06 | 91/0.2293/1.220703125e-06 | 92/0.2229/1.220703125e-06 | 93/0.2293/1.220703125e-06 | 94/0.2420/6.103515625e-07 | Accuracy: 0.1145\n",
      "Evaluating proteins dataset using graph_order method with a percentile of 80 against class members\n",
      "Epoch/val accuracy/lr: "
     ]
    },
    {
     "name": "stderr",
     "output_type": "stream",
     "text": [
      "/opt/conda/lib/python3.10/site-packages/torch_geometric/deprecation.py:26: UserWarning: 'data.DataLoader' is deprecated, use 'loader.DataLoader' instead\n",
      "  warnings.warn(out)\n"
     ]
    },
    {
     "name": "stdout",
     "output_type": "stream",
     "text": [
      "1/0.3073/0.01 | 2/0.1508/0.01 | 3/0.1229/0.01 | 4/0.0000/0.01 | 5/0.0000/0.01 | 6/0.0056/0.01 | 7/0.0000/0.01 | 8/0.0000/0.01 | 9/0.0223/0.01 | 10/0.1788/0.01 | 11/0.1899/0.005 | 12/0.1676/0.005 | 13/0.1341/0.005 | 14/0.1229/0.005 | 15/0.1285/0.005 | 16/0.1061/0.005 | 17/0.1117/0.0025 | 18/0.0894/0.0025 | 19/0.0894/0.0025 | 20/0.0894/0.0025 | 21/0.1006/0.0025 | 22/0.1061/0.0025 | 23/0.1173/0.00125 | 24/0.1173/0.00125 | 25/0.1229/0.00125 | 26/0.1229/0.00125 | 27/0.1229/0.00125 | 28/0.1341/0.00125 | 29/0.1508/0.000625 | 30/0.1732/0.000625 | 31/0.1732/0.000625 | 32/0.1732/0.000625 | 33/0.1732/0.000625 | 34/0.1788/0.000625 | 35/0.1955/0.0003125 | 36/0.2011/0.0003125 | 37/0.2123/0.0003125 | 38/0.2123/0.0003125 | 39/0.2235/0.0003125 | 40/0.2179/0.0003125 | 41/0.2179/0.00015625 | 42/0.2179/0.00015625 | 43/0.2179/0.00015625 | 44/0.2179/0.00015625 | 45/0.2291/0.00015625 | 46/0.2291/0.00015625 | 47/0.2291/7.8125e-05 | 48/0.2291/7.8125e-05 | 49/0.2291/7.8125e-05 | 50/0.2346/7.8125e-05 | 51/0.2402/7.8125e-05 | 52/0.2402/7.8125e-05 | 53/0.2402/3.90625e-05 | 54/0.2402/3.90625e-05 | 55/0.2402/3.90625e-05 | 56/0.2402/3.90625e-05 | 57/0.2458/3.90625e-05 | 58/0.2514/3.90625e-05 | 59/0.2514/1.953125e-05 | 60/0.2514/1.953125e-05 | 61/0.2458/1.953125e-05 | 62/0.2458/1.953125e-05 | 63/0.2514/1.953125e-05 | 64/0.2458/1.953125e-05 | 65/0.2458/9.765625e-06 | 66/0.2458/9.765625e-06 | 67/0.2458/9.765625e-06 | 68/0.2458/9.765625e-06 | 69/0.2458/9.765625e-06 | 70/0.2458/9.765625e-06 | 71/0.2458/4.8828125e-06 | 72/0.2458/4.8828125e-06 | 73/0.2458/4.8828125e-06 | 74/0.2458/4.8828125e-06 | 75/0.2458/4.8828125e-06 | 76/0.2458/4.8828125e-06 | 77/0.2514/2.44140625e-06 | 78/0.2514/2.44140625e-06 | 79/0.2514/2.44140625e-06 | 80/0.2514/2.44140625e-06 | 81/0.2514/2.44140625e-06 | 82/0.2514/2.44140625e-06 | 83/0.2514/1.220703125e-06 | 84/0.2514/1.220703125e-06 | 85/0.2514/1.220703125e-06 | 86/0.2514/1.220703125e-06 | 87/0.2514/1.220703125e-06 | 88/0.2514/1.220703125e-06 | 89/0.2514/6.103515625e-07 | Accuracy: 0.1532\n",
      "Evaluating proteins dataset using graph_order method with a percentile of 90 against class members\n",
      "Epoch/val accuracy/lr: "
     ]
    },
    {
     "name": "stderr",
     "output_type": "stream",
     "text": [
      "/opt/conda/lib/python3.10/site-packages/torch_geometric/deprecation.py:26: UserWarning: 'data.DataLoader' is deprecated, use 'loader.DataLoader' instead\n",
      "  warnings.warn(out)\n"
     ]
    },
    {
     "name": "stdout",
     "output_type": "stream",
     "text": [
      "1/0.4030/0.01 | 2/0.0000/0.01 | 3/0.0000/0.01 | 4/0.0597/0.01 | 5/0.1095/0.01 | 6/0.0547/0.01 | 7/0.0746/0.01 | 8/0.0945/0.01 | 9/0.0896/0.005 | 10/0.0597/0.005 | 11/0.0149/0.005 | 12/0.0199/0.005 | 13/0.0149/0.005 | 14/0.0199/0.005 | 15/0.0100/0.0025 | 16/0.0199/0.0025 | 17/0.0100/0.0025 | 18/0.0100/0.0025 | 19/0.0100/0.0025 | 20/0.0100/0.0025 | 21/0.0299/0.00125 | 22/0.0348/0.00125 | 23/0.0796/0.00125 | 24/0.0896/0.00125 | 25/0.0995/0.00125 | 26/0.0995/0.00125 | 27/0.0995/0.000625 | 28/0.0995/0.000625 | 29/0.0995/0.000625 | 30/0.1045/0.000625 | 31/0.1045/0.000625 | 32/0.1095/0.000625 | 33/0.1095/0.0003125 | 34/0.1144/0.0003125 | 35/0.1144/0.0003125 | 36/0.1144/0.0003125 | 37/0.1144/0.0003125 | 38/0.1194/0.0003125 | 39/0.1244/0.00015625 | 40/0.1294/0.00015625 | 41/0.1343/0.00015625 | 42/0.1443/0.00015625 | 43/0.1493/0.00015625 | 44/0.1542/0.00015625 | 45/0.1493/7.8125e-05 | 46/0.1493/7.8125e-05 | 47/0.1542/7.8125e-05 | 48/0.1542/7.8125e-05 | 49/0.1542/7.8125e-05 | 50/0.1493/7.8125e-05 | 51/0.1493/3.90625e-05 | 52/0.1542/3.90625e-05 | 53/0.1592/3.90625e-05 | 54/0.1642/3.90625e-05 | 55/0.1642/3.90625e-05 | 56/0.1741/3.90625e-05 | 57/0.1741/1.953125e-05 | 58/0.1791/1.953125e-05 | 59/0.1791/1.953125e-05 | 60/0.1841/1.953125e-05 | 61/0.1841/1.953125e-05 | 62/0.1841/1.953125e-05 | 63/0.1841/9.765625e-06 | 64/0.1791/9.765625e-06 | 65/0.1891/9.765625e-06 | 66/0.1891/9.765625e-06 | 67/0.1891/9.765625e-06 | 68/0.1891/9.765625e-06 | 69/0.1891/4.8828125e-06 | 70/0.1891/4.8828125e-06 | 71/0.1891/4.8828125e-06 | 72/0.1891/4.8828125e-06 | 73/0.1841/4.8828125e-06 | 74/0.1841/4.8828125e-06 | 75/0.1841/2.44140625e-06 | 76/0.1891/2.44140625e-06 | 77/0.1891/2.44140625e-06 | 78/0.1940/2.44140625e-06 | 79/0.1891/2.44140625e-06 | 80/0.1891/2.44140625e-06 | 81/0.1940/1.220703125e-06 | 82/0.1891/1.220703125e-06 | 83/0.1891/1.220703125e-06 | 84/0.1841/1.220703125e-06 | 85/0.1841/1.220703125e-06 | 86/0.1841/1.220703125e-06 | 87/0.1841/6.103515625e-07 | Accuracy: 0.1982\n",
      "Evaluating proteins dataset using cos_sim method with a percentile of 40 against class members\n",
      "Epoch/val accuracy/lr: "
     ]
    },
    {
     "name": "stderr",
     "output_type": "stream",
     "text": [
      "/opt/conda/lib/python3.10/site-packages/torch_geometric/deprecation.py:26: UserWarning: 'data.DataLoader' is deprecated, use 'loader.DataLoader' instead\n",
      "  warnings.warn(out)\n"
     ]
    },
    {
     "name": "stdout",
     "output_type": "stream",
     "text": [
      "1/0.4000/0.01 | 2/0.2111/0.01 | 3/0.0556/0.01 | 4/0.0444/0.01 | 5/0.0444/0.01 | 6/0.0222/0.01 | 7/0.1111/0.01 | 8/0.1000/0.01 | 9/0.0111/0.01 | 10/0.0667/0.01 | 11/0.1000/0.01 | 12/0.1000/0.01 | 13/0.0667/0.01 | 14/0.1000/0.01 | 15/0.0778/0.01 | 16/0.0778/0.005 | 17/0.0556/0.005 | 18/0.0556/0.005 | 19/0.0333/0.005 | 20/0.0333/0.005 | 21/0.0556/0.005 | 22/0.0556/0.0025 | 23/0.0667/0.0025 | 24/0.0667/0.0025 | 25/0.0667/0.0025 | 26/0.0667/0.0025 | 27/0.0667/0.0025 | 28/0.1000/0.00125 | 29/0.1333/0.00125 | 30/0.1333/0.00125 | 31/0.1556/0.00125 | 32/0.1556/0.00125 | 33/0.1556/0.00125 | 34/0.1778/0.000625 | 35/0.1778/0.000625 | 36/0.1778/0.000625 | 37/0.1778/0.000625 | 38/0.1778/0.000625 | 39/0.1778/0.000625 | 40/0.1778/0.0003125 | 41/0.1778/0.0003125 | 42/0.1778/0.0003125 | 43/0.1778/0.0003125 | 44/0.1778/0.0003125 | 45/0.1778/0.0003125 | 46/0.1778/0.00015625 | 47/0.1889/0.00015625 | 48/0.1889/0.00015625 | 49/0.1889/0.00015625 | 50/0.1889/0.00015625 | 51/0.1889/0.00015625 | 52/0.1889/7.8125e-05 | 53/0.1889/7.8125e-05 | 54/0.1889/7.8125e-05 | 55/0.2000/7.8125e-05 | 56/0.2000/7.8125e-05 | 57/0.2000/7.8125e-05 | 58/0.2000/3.90625e-05 | 59/0.2111/3.90625e-05 | 60/0.2222/3.90625e-05 | 61/0.2222/3.90625e-05 | 62/0.2222/3.90625e-05 | 63/0.2111/3.90625e-05 | 64/0.2111/1.953125e-05 | 65/0.2222/1.953125e-05 | 66/0.2111/1.953125e-05 | 67/0.2111/1.953125e-05 | 68/0.2111/1.953125e-05 | 69/0.2111/1.953125e-05 | 70/0.2111/9.765625e-06 | 71/0.2111/9.765625e-06 | 72/0.2111/9.765625e-06 | 73/0.2111/9.765625e-06 | 74/0.2111/9.765625e-06 | 75/0.2111/9.765625e-06 | 76/0.2111/4.8828125e-06 | 77/0.2111/4.8828125e-06 | 78/0.2222/4.8828125e-06 | 79/0.2111/4.8828125e-06 | 80/0.2222/4.8828125e-06 | 81/0.2222/4.8828125e-06 | 82/0.2222/2.44140625e-06 | 83/0.2222/2.44140625e-06 | 84/0.2222/2.44140625e-06 | 85/0.2222/2.44140625e-06 | 86/0.2222/2.44140625e-06 | 87/0.2222/2.44140625e-06 | 88/0.2222/1.220703125e-06 | 89/0.2222/1.220703125e-06 | 90/0.2222/1.220703125e-06 | 91/0.2222/1.220703125e-06 | 92/0.2222/1.220703125e-06 | 93/0.2222/1.220703125e-06 | 94/0.2222/6.103515625e-07 | Accuracy: 0.2624\n",
      "Evaluating proteins dataset using cos_sim method with a percentile of 50 against class members\n",
      "Epoch/val accuracy/lr: "
     ]
    },
    {
     "name": "stderr",
     "output_type": "stream",
     "text": [
      "/opt/conda/lib/python3.10/site-packages/torch_geometric/deprecation.py:26: UserWarning: 'data.DataLoader' is deprecated, use 'loader.DataLoader' instead\n",
      "  warnings.warn(out)\n"
     ]
    },
    {
     "name": "stdout",
     "output_type": "stream",
     "text": [
      "1/0.4107/0.01 | 2/0.1607/0.01 | 3/0.0179/0.01 | 4/0.2589/0.01 | 5/0.2679/0.01 | 6/0.0446/0.01 | 7/0.0000/0.01 | 8/0.0000/0.01 | 9/0.0000/0.01 | 10/0.0000/0.01 | 11/0.0268/0.01 | 12/0.1518/0.01 | 13/0.2143/0.01 | 14/0.2143/0.005 | 15/0.2232/0.005 | 16/0.2232/0.005 | 17/0.2232/0.005 | 18/0.2232/0.005 | 19/0.2232/0.005 | 20/0.2232/0.0025 | 21/0.2321/0.0025 | 22/0.2143/0.0025 | 23/0.2054/0.0025 | 24/0.2054/0.0025 | 25/0.2054/0.0025 | 26/0.1875/0.00125 | 27/0.1875/0.00125 | 28/0.1786/0.00125 | 29/0.1875/0.00125 | 30/0.1786/0.00125 | 31/0.1786/0.00125 | 32/0.1786/0.000625 | 33/0.1696/0.000625 | 34/0.1875/0.000625 | 35/0.1964/0.000625 | 36/0.1964/0.000625 | 37/0.2143/0.000625 | 38/0.2143/0.0003125 | 39/0.2143/0.0003125 | 40/0.2321/0.0003125 | 41/0.2321/0.0003125 | 42/0.2411/0.0003125 | 43/0.2411/0.0003125 | 44/0.2411/0.00015625 | 45/0.2411/0.00015625 | 46/0.2500/0.00015625 | 47/0.2500/0.00015625 | 48/0.2500/0.00015625 | 49/0.2500/0.00015625 | 50/0.2500/7.8125e-05 | 51/0.2500/7.8125e-05 | 52/0.2411/7.8125e-05 | 53/0.2411/7.8125e-05 | 54/0.2411/7.8125e-05 | 55/0.2500/7.8125e-05 | 56/0.2411/3.90625e-05 | 57/0.2321/3.90625e-05 | 58/0.2321/3.90625e-05 | 59/0.2411/3.90625e-05 | 60/0.2411/3.90625e-05 | 61/0.2500/3.90625e-05 | 62/0.2589/1.953125e-05 | 63/0.2679/1.953125e-05 | 64/0.2679/1.953125e-05 | 65/0.2679/1.953125e-05 | 66/0.2679/1.953125e-05 | 67/0.2679/1.953125e-05 | 68/0.2679/9.765625e-06 | 69/0.2500/9.765625e-06 | 70/0.2500/9.765625e-06 | 71/0.2500/9.765625e-06 | 72/0.2500/9.765625e-06 | 73/0.2589/9.765625e-06 | 74/0.2679/4.8828125e-06 | 75/0.2500/4.8828125e-06 | 76/0.2500/4.8828125e-06 | 77/0.2589/4.8828125e-06 | 78/0.2500/4.8828125e-06 | 79/0.2589/4.8828125e-06 | 80/0.2589/2.44140625e-06 | 81/0.2589/2.44140625e-06 | 82/0.2589/2.44140625e-06 | 83/0.2589/2.44140625e-06 | 84/0.2679/2.44140625e-06 | 85/0.2679/2.44140625e-06 | 86/0.2679/1.220703125e-06 | 87/0.2679/1.220703125e-06 | 88/0.2679/1.220703125e-06 | 89/0.2589/1.220703125e-06 | 90/0.2589/1.220703125e-06 | 91/0.2679/1.220703125e-06 | 92/0.2679/6.103515625e-07 | Accuracy: 0.2410\n",
      "Evaluating proteins dataset using cos_sim method with a percentile of 60 against class members\n",
      "Epoch/val accuracy/lr: "
     ]
    },
    {
     "name": "stderr",
     "output_type": "stream",
     "text": [
      "/opt/conda/lib/python3.10/site-packages/torch_geometric/deprecation.py:26: UserWarning: 'data.DataLoader' is deprecated, use 'loader.DataLoader' instead\n",
      "  warnings.warn(out)\n"
     ]
    },
    {
     "name": "stdout",
     "output_type": "stream",
     "text": [
      "1/0.3507/0.01 | 2/0.3507/0.01 | 3/0.3284/0.01 | 4/0.2612/0.01 | 5/0.2015/0.01 | 6/0.0672/0.01 | 7/0.2164/0.01 | 8/0.2388/0.01 | 9/0.2388/0.01 | 10/0.2164/0.01 | 11/0.2090/0.01 | 12/0.1716/0.01 | 13/0.1194/0.005 | 14/0.1418/0.005 | 15/0.1642/0.005 | 16/0.1567/0.005 | 17/0.1493/0.005 | 18/0.1418/0.005 | 19/0.1343/0.0025 | 20/0.1343/0.0025 | 21/0.1343/0.0025 | 22/0.1343/0.0025 | 23/0.1194/0.0025 | 24/0.1194/0.0025 | 25/0.1194/0.00125 | 26/0.1194/0.00125 | 27/0.1119/0.00125 | 28/0.1119/0.00125 | 29/0.1194/0.00125 | 30/0.1194/0.00125 | 31/0.1119/0.000625 | 32/0.1119/0.000625 | 33/0.1119/0.000625 | 34/0.1269/0.000625 | 35/0.1343/0.000625 | 36/0.1418/0.000625 | 37/0.1418/0.0003125 | 38/0.1418/0.0003125 | 39/0.1418/0.0003125 | 40/0.1418/0.0003125 | 41/0.1418/0.0003125 | 42/0.1418/0.0003125 | 43/0.1343/0.00015625 | 44/0.1343/0.00015625 | 45/0.1343/0.00015625 | 46/0.1343/0.00015625 | 47/0.1343/0.00015625 | 48/0.1343/0.00015625 | 49/0.1343/7.8125e-05 | 50/0.1343/7.8125e-05 | 51/0.1269/7.8125e-05 | 52/0.1269/7.8125e-05 | 53/0.1269/7.8125e-05 | 54/0.1343/7.8125e-05 | 55/0.1343/3.90625e-05 | 56/0.1343/3.90625e-05 | 57/0.1269/3.90625e-05 | 58/0.1343/3.90625e-05 | 59/0.1343/3.90625e-05 | 60/0.1343/3.90625e-05 | 61/0.1343/1.953125e-05 | 62/0.1343/1.953125e-05 | 63/0.1343/1.953125e-05 | 64/0.1343/1.953125e-05 | 65/0.1343/1.953125e-05 | 66/0.1343/1.953125e-05 | 67/0.1343/9.765625e-06 | 68/0.1343/9.765625e-06 | 69/0.1343/9.765625e-06 | 70/0.1343/9.765625e-06 | 71/0.1343/9.765625e-06 | 72/0.1343/9.765625e-06 | 73/0.1343/4.8828125e-06 | 74/0.1343/4.8828125e-06 | 75/0.1343/4.8828125e-06 | 76/0.1343/4.8828125e-06 | 77/0.1343/4.8828125e-06 | 78/0.1343/4.8828125e-06 | 79/0.1343/2.44140625e-06 | 80/0.1343/2.44140625e-06 | 81/0.1343/2.44140625e-06 | 82/0.1343/2.44140625e-06 | 83/0.1343/2.44140625e-06 | 84/0.1418/2.44140625e-06 | 85/0.1418/1.220703125e-06 | 86/0.1418/1.220703125e-06 | 87/0.1418/1.220703125e-06 | 88/0.1418/1.220703125e-06 | 89/0.1418/1.220703125e-06 | 90/0.1343/1.220703125e-06 | 91/0.1343/6.103515625e-07 | Accuracy: 0.2360\n",
      "Evaluating proteins dataset using cos_sim method with a percentile of 70 against class members\n",
      "Epoch/val accuracy/lr: "
     ]
    },
    {
     "name": "stderr",
     "output_type": "stream",
     "text": [
      "/opt/conda/lib/python3.10/site-packages/torch_geometric/deprecation.py:26: UserWarning: 'data.DataLoader' is deprecated, use 'loader.DataLoader' instead\n",
      "  warnings.warn(out)\n"
     ]
    },
    {
     "name": "stdout",
     "output_type": "stream",
     "text": [
      "1/0.0127/0.01 | 2/0.0000/0.01 | 3/0.0064/0.01 | 4/0.0318/0.01 | 5/0.0000/0.01 | 6/0.0000/0.01 | 7/0.0382/0.01 | 8/0.0446/0.01 | 9/0.0382/0.005 | 10/0.0000/0.005 | 11/0.0000/0.005 | 12/0.0000/0.005 | 13/0.0064/0.005 | 14/0.0127/0.005 | 15/0.0510/0.0025 | 16/0.0637/0.0025 | 17/0.0701/0.0025 | 18/0.0701/0.0025 | 19/0.0892/0.0025 | 20/0.1146/0.0025 | 21/0.1210/0.00125 | 22/0.1274/0.00125 | 23/0.1083/0.00125 | 24/0.1146/0.00125 | 25/0.0955/0.00125 | 26/0.0955/0.00125 | 27/0.0955/0.000625 | 28/0.0955/0.000625 | 29/0.1019/0.000625 | 30/0.1083/0.000625 | 31/0.1083/0.000625 | 32/0.1274/0.000625 | 33/0.1210/0.0003125 | 34/0.1338/0.0003125 | 35/0.1274/0.0003125 | 36/0.1274/0.0003125 | 37/0.1338/0.0003125 | 38/0.1338/0.0003125 | 39/0.1338/0.00015625 | 40/0.1338/0.00015625 | 41/0.1338/0.00015625 | 42/0.1401/0.00015625 | 43/0.1465/0.00015625 | 44/0.1465/0.00015625 | 45/0.1465/7.8125e-05 | 46/0.1592/7.8125e-05 | 47/0.1592/7.8125e-05 | 48/0.1529/7.8125e-05 | 49/0.1529/7.8125e-05 | 50/0.1529/7.8125e-05 | 51/0.1592/3.90625e-05 | 52/0.1529/3.90625e-05 | 53/0.1529/3.90625e-05 | 54/0.1529/3.90625e-05 | 55/0.1656/3.90625e-05 | 56/0.1720/3.90625e-05 | 57/0.1720/1.953125e-05 | 58/0.1720/1.953125e-05 | 59/0.1720/1.953125e-05 | 60/0.1720/1.953125e-05 | 61/0.1783/1.953125e-05 | 62/0.1720/1.953125e-05 | 63/0.1783/9.765625e-06 | 64/0.1720/9.765625e-06 | 65/0.1847/9.765625e-06 | 66/0.1847/9.765625e-06 | 67/0.1783/9.765625e-06 | 68/0.1847/9.765625e-06 | 69/0.1847/4.8828125e-06 | 70/0.1911/4.8828125e-06 | 71/0.1911/4.8828125e-06 | 72/0.1911/4.8828125e-06 | 73/0.1911/4.8828125e-06 | 74/0.1911/4.8828125e-06 | 75/0.1783/2.44140625e-06 | 76/0.1783/2.44140625e-06 | 77/0.1783/2.44140625e-06 | 78/0.1783/2.44140625e-06 | 79/0.1783/2.44140625e-06 | 80/0.1720/2.44140625e-06 | 81/0.1783/1.220703125e-06 | 82/0.1847/1.220703125e-06 | 83/0.1847/1.220703125e-06 | 84/0.1847/1.220703125e-06 | 85/0.1847/1.220703125e-06 | 86/0.1911/1.220703125e-06 | 87/0.1911/6.103515625e-07 | Accuracy: 0.2139\n",
      "Evaluating proteins dataset using cos_sim method with a percentile of 80 against class members\n",
      "Epoch/val accuracy/lr: "
     ]
    },
    {
     "name": "stderr",
     "output_type": "stream",
     "text": [
      "/opt/conda/lib/python3.10/site-packages/torch_geometric/deprecation.py:26: UserWarning: 'data.DataLoader' is deprecated, use 'loader.DataLoader' instead\n",
      "  warnings.warn(out)\n"
     ]
    },
    {
     "name": "stdout",
     "output_type": "stream",
     "text": [
      "1/0.4022/0.01 | 2/0.3520/0.01 | 3/0.3799/0.01 | 4/0.2849/0.01 | 5/0.0000/0.01 | 6/0.0000/0.01 | 7/0.0000/0.01 | 8/0.2961/0.01 | 9/0.3855/0.01 | 10/0.3464/0.01 | 11/0.3408/0.01 | 12/0.3128/0.005 | 13/0.2905/0.005 | 14/0.2514/0.005 | 15/0.2235/0.005 | 16/0.2123/0.005 | 17/0.1844/0.005 | 18/0.1732/0.0025 | 19/0.1676/0.0025 | 20/0.1788/0.0025 | 21/0.1620/0.0025 | 22/0.1676/0.0025 | 23/0.1453/0.0025 | 24/0.1453/0.00125 | 25/0.1453/0.00125 | 26/0.1341/0.00125 | 27/0.1285/0.00125 | 28/0.1229/0.00125 | 29/0.1285/0.00125 | 30/0.1285/0.000625 | 31/0.1341/0.000625 | 32/0.1285/0.000625 | 33/0.1397/0.000625 | 34/0.1508/0.000625 | 35/0.1564/0.000625 | 36/0.1564/0.0003125 | 37/0.1564/0.0003125 | 38/0.1508/0.0003125 | 39/0.1508/0.0003125 | 40/0.1453/0.0003125 | 41/0.1453/0.0003125 | 42/0.1564/0.00015625 | 43/0.1508/0.00015625 | 44/0.1508/0.00015625 | 45/0.1508/0.00015625 | 46/0.1508/0.00015625 | 47/0.1564/0.00015625 | 48/0.1564/7.8125e-05 | 49/0.1620/7.8125e-05 | 50/0.1564/7.8125e-05 | 51/0.1676/7.8125e-05 | 52/0.1620/7.8125e-05 | 53/0.1620/7.8125e-05 | 54/0.1620/3.90625e-05 | 55/0.1620/3.90625e-05 | 56/0.1564/3.90625e-05 | 57/0.1620/3.90625e-05 | 58/0.1620/3.90625e-05 | 59/0.1732/3.90625e-05 | 60/0.1676/1.953125e-05 | 61/0.1620/1.953125e-05 | 62/0.1676/1.953125e-05 | 63/0.1788/1.953125e-05 | 64/0.1844/1.953125e-05 | 65/0.2011/1.953125e-05 | 66/0.2011/9.765625e-06 | 67/0.2346/9.765625e-06 | 68/0.2458/9.765625e-06 | 69/0.2402/9.765625e-06 | 70/0.2402/9.765625e-06 | 71/0.2402/9.765625e-06 | 72/0.2458/4.8828125e-06 | 73/0.2514/4.8828125e-06 | 74/0.2626/4.8828125e-06 | 75/0.2514/4.8828125e-06 | 76/0.2570/4.8828125e-06 | 77/0.2458/4.8828125e-06 | 78/0.2570/2.44140625e-06 | 79/0.2682/2.44140625e-06 | 80/0.2682/2.44140625e-06 | 81/0.2682/2.44140625e-06 | 82/0.2626/2.44140625e-06 | 83/0.2626/2.44140625e-06 | 84/0.2458/1.220703125e-06 | 85/0.2458/1.220703125e-06 | 86/0.2514/1.220703125e-06 | 87/0.2458/1.220703125e-06 | 88/0.2626/1.220703125e-06 | 89/0.2626/1.220703125e-06 | 90/0.2570/6.103515625e-07 | Accuracy: 0.1982\n",
      "Evaluating proteins dataset using cos_sim method with a percentile of 90 against class members\n",
      "Epoch/val accuracy/lr: "
     ]
    },
    {
     "name": "stderr",
     "output_type": "stream",
     "text": [
      "/opt/conda/lib/python3.10/site-packages/torch_geometric/deprecation.py:26: UserWarning: 'data.DataLoader' is deprecated, use 'loader.DataLoader' instead\n",
      "  warnings.warn(out)\n"
     ]
    },
    {
     "name": "stdout",
     "output_type": "stream",
     "text": [
      "1/0.2886/0.01 | 2/0.3532/0.01 | 3/0.2537/0.01 | 4/0.2537/0.01 | 5/0.2488/0.01 | 6/0.1692/0.01 | 7/0.1940/0.01 | 8/0.2289/0.01 | 9/0.2139/0.01 | 10/0.2338/0.01 | 11/0.2886/0.01 | 12/0.3134/0.01 | 13/0.2935/0.005 | 14/0.2836/0.005 | 15/0.2736/0.005 | 16/0.2488/0.005 | 17/0.2488/0.005 | 18/0.2488/0.005 | 19/0.2388/0.0025 | 20/0.2338/0.0025 | 21/0.2040/0.0025 | 22/0.1990/0.0025 | 23/0.1741/0.0025 | 24/0.1592/0.0025 | 25/0.1393/0.0025 | 26/0.1294/0.0025 | 27/0.1294/0.0025 | 28/0.1294/0.0025 | 29/0.1393/0.0025 | 30/0.1443/0.0025 | 31/0.1592/0.0025 | 32/0.1791/0.0025 | 33/0.1841/0.00125 | 34/0.1891/0.00125 | 35/0.2189/0.00125 | 36/0.2338/0.00125 | 37/0.2289/0.00125 | 38/0.2388/0.00125 | 39/0.2488/0.000625 | 40/0.2488/0.000625 | 41/0.2587/0.000625 | 42/0.2537/0.000625 | 43/0.2537/0.000625 | 44/0.2537/0.000625 | 45/0.2537/0.0003125 | 46/0.2537/0.0003125 | 47/0.2587/0.0003125 | 48/0.2687/0.0003125 | 49/0.2637/0.0003125 | 50/0.2637/0.0003125 | 51/0.2587/0.00015625 | 52/0.2587/0.00015625 | 53/0.2438/0.00015625 | 54/0.2438/0.00015625 | 55/0.2488/0.00015625 | 56/0.2537/0.00015625 | 57/0.2488/7.8125e-05 | 58/0.2537/7.8125e-05 | 59/0.2587/7.8125e-05 | 60/0.2637/7.8125e-05 | 61/0.2637/7.8125e-05 | 62/0.2637/7.8125e-05 | 63/0.2687/3.90625e-05 | 64/0.2687/3.90625e-05 | 65/0.2637/3.90625e-05 | 66/0.2687/3.90625e-05 | 67/0.2637/3.90625e-05 | 68/0.2637/3.90625e-05 | 69/0.2637/1.953125e-05 | 70/0.2637/1.953125e-05 | 71/0.2537/1.953125e-05 | 72/0.2537/1.953125e-05 | 73/0.2587/1.953125e-05 | 74/0.2537/1.953125e-05 | 75/0.2587/9.765625e-06 | 76/0.2537/9.765625e-06 | 77/0.2537/9.765625e-06 | 78/0.2488/9.765625e-06 | 79/0.2537/9.765625e-06 | 80/0.2537/9.765625e-06 | 81/0.2537/4.8828125e-06 | 82/0.2537/4.8828125e-06 | 83/0.2537/4.8828125e-06 | 84/0.2488/4.8828125e-06 | 85/0.2488/4.8828125e-06 | 86/0.2438/4.8828125e-06 | 87/0.2488/2.44140625e-06 | 88/0.2488/2.44140625e-06 | 89/0.2488/2.44140625e-06 | 90/0.2438/2.44140625e-06 | 91/0.2537/2.44140625e-06 | 92/0.2537/2.44140625e-06 | 93/0.2537/1.220703125e-06 | 94/0.2637/1.220703125e-06 | 95/0.2587/1.220703125e-06 | 96/0.2637/1.220703125e-06 | 97/0.2537/1.220703125e-06 | 98/0.2488/1.220703125e-06 | 99/0.2488/6.103515625e-07 | Accuracy: 0.2793\n",
      "Evaluating mutag dataset using random method with a percentile of 40 against class members\n",
      "Epoch/val accuracy/lr: "
     ]
    },
    {
     "name": "stderr",
     "output_type": "stream",
     "text": [
      "/opt/conda/lib/python3.10/site-packages/torch_geometric/deprecation.py:26: UserWarning: 'data.DataLoader' is deprecated, use 'loader.DataLoader' instead\n",
      "  warnings.warn(out)\n"
     ]
    },
    {
     "name": "stdout",
     "output_type": "stream",
     "text": [
      "1/0.6667/0.01 | 2/0.6667/0.01 | 3/0.6667/0.01 | 4/0.6667/0.01 | 5/0.6667/0.01 | 6/0.6667/0.01 | 7/0.6667/0.01 | 8/0.6667/0.005 | 9/0.6667/0.005 | 10/0.6667/0.005 | 11/0.6667/0.005 | 12/0.6667/0.005 | 13/0.6667/0.005 | 14/0.6667/0.0025 | 15/0.6667/0.0025 | 16/0.6667/0.0025 | 17/0.6000/0.0025 | 18/0.5333/0.0025 | 19/0.5333/0.0025 | 20/0.5333/0.0025 | 21/0.5333/0.0025 | 22/0.5333/0.0025 | 23/0.5333/0.0025 | 24/0.5333/0.0025 | 25/0.5333/0.00125 | 26/0.5333/0.00125 | 27/0.5333/0.00125 | 28/0.5333/0.00125 | 29/0.5333/0.00125 | 30/0.5333/0.00125 | 31/0.5333/0.000625 | 32/0.5333/0.000625 | 33/0.5333/0.000625 | 34/0.5333/0.000625 | 35/0.5333/0.000625 | 36/0.5333/0.000625 | 37/0.5333/0.0003125 | 38/0.5333/0.0003125 | 39/0.6000/0.0003125 | 40/0.6000/0.0003125 | 41/0.6000/0.0003125 | 42/0.6000/0.0003125 | 43/0.6000/0.00015625 | 44/0.6000/0.00015625 | 45/0.6000/0.00015625 | 46/0.6000/0.00015625 | 47/0.6000/0.00015625 | 48/0.6000/0.00015625 | 49/0.6000/7.8125e-05 | 50/0.6000/7.8125e-05 | 51/0.6000/7.8125e-05 | 52/0.6000/7.8125e-05 | 53/0.6000/7.8125e-05 | 54/0.6000/7.8125e-05 | 55/0.6000/3.90625e-05 | 56/0.6000/3.90625e-05 | 57/0.6000/3.90625e-05 | 58/0.6000/3.90625e-05 | 59/0.6000/3.90625e-05 | 60/0.6000/3.90625e-05 | 61/0.6000/1.953125e-05 | 62/0.6000/1.953125e-05 | 63/0.6000/1.953125e-05 | 64/0.6000/1.953125e-05 | 65/0.6000/1.953125e-05 | 66/0.6000/1.953125e-05 | 67/0.6000/9.765625e-06 | 68/0.6000/9.765625e-06 | 69/0.6000/9.765625e-06 | 70/0.6000/9.765625e-06 | 71/0.6000/9.765625e-06 | 72/0.6000/9.765625e-06 | 73/0.6000/4.8828125e-06 | 74/0.6000/4.8828125e-06 | 75/0.6000/4.8828125e-06 | 76/0.6000/4.8828125e-06 | 77/0.6000/4.8828125e-06 | 78/0.6000/4.8828125e-06 | 79/0.6000/2.44140625e-06 | 80/0.6000/2.44140625e-06 | 81/0.6000/2.44140625e-06 | 82/0.6000/2.44140625e-06 | 83/0.6000/2.44140625e-06 | 84/0.6000/2.44140625e-06 | 85/0.6000/1.220703125e-06 | 86/0.6000/1.220703125e-06 | 87/0.6000/1.220703125e-06 | 88/0.6000/1.220703125e-06 | 89/0.6000/1.220703125e-06 | 90/0.6000/1.220703125e-06 | 91/0.6000/6.103515625e-07 | Accuracy: 0.5398\n",
      "Evaluating mutag dataset using random method with a percentile of 50 against class members\n",
      "Epoch/val accuracy/lr: "
     ]
    },
    {
     "name": "stderr",
     "output_type": "stream",
     "text": [
      "/opt/conda/lib/python3.10/site-packages/torch_geometric/deprecation.py:26: UserWarning: 'data.DataLoader' is deprecated, use 'loader.DataLoader' instead\n",
      "  warnings.warn(out)\n"
     ]
    },
    {
     "name": "stdout",
     "output_type": "stream",
     "text": [
      "1/0.1579/0.01 | 2/0.1579/0.01 | 3/0.1579/0.01 | 4/0.1579/0.01 | 5/0.1579/0.01 | 6/0.1579/0.01 | 7/0.1579/0.01 | 8/0.1579/0.005 | 9/0.1579/0.005 | 10/0.1579/0.005 | 11/0.1579/0.005 | 12/0.1579/0.005 | 13/0.1579/0.005 | 14/0.1579/0.0025 | 15/0.1579/0.0025 | 16/0.1579/0.0025 | 17/0.1579/0.0025 | 18/0.1579/0.0025 | 19/0.1579/0.0025 | 20/0.1579/0.00125 | 21/0.1579/0.00125 | 22/0.1579/0.00125 | 23/0.1579/0.00125 | 24/0.1579/0.00125 | 25/0.1579/0.00125 | 26/0.1579/0.000625 | 27/0.1579/0.000625 | 28/0.1579/0.000625 | 29/0.1579/0.000625 | 30/0.1579/0.000625 | 31/0.1579/0.000625 | 32/0.1579/0.0003125 | 33/0.1579/0.0003125 | 34/0.1579/0.0003125 | 35/0.1579/0.0003125 | 36/0.1579/0.0003125 | 37/0.1579/0.0003125 | 38/0.1579/0.00015625 | 39/0.1579/0.00015625 | 40/0.1579/0.00015625 | 41/0.1579/0.00015625 | 42/0.1579/0.00015625 | 43/0.1579/0.00015625 | 44/0.1579/7.8125e-05 | 45/0.1579/7.8125e-05 | 46/0.1579/7.8125e-05 | 47/0.1579/7.8125e-05 | 48/0.1579/7.8125e-05 | 49/0.1579/7.8125e-05 | 50/0.1579/3.90625e-05 | 51/0.1579/3.90625e-05 | 52/0.1579/3.90625e-05 | 53/0.1579/3.90625e-05 | 54/0.1579/3.90625e-05 | 55/0.1053/3.90625e-05 | 56/0.1053/3.90625e-05 | 57/0.1053/3.90625e-05 | 58/0.1053/3.90625e-05 | 59/0.1053/3.90625e-05 | 60/0.1053/3.90625e-05 | 61/0.1053/3.90625e-05 | 62/0.1053/1.953125e-05 | 63/0.1053/1.953125e-05 | 64/0.1053/1.953125e-05 | 65/0.1053/1.953125e-05 | 66/0.1053/1.953125e-05 | 67/0.1053/1.953125e-05 | 68/0.1053/9.765625e-06 | 69/0.1053/9.765625e-06 | 70/0.1053/9.765625e-06 | 71/0.1053/9.765625e-06 | 72/0.1053/9.765625e-06 | 73/0.1053/9.765625e-06 | 74/0.1053/4.8828125e-06 | 75/0.1053/4.8828125e-06 | 76/0.1053/4.8828125e-06 | 77/0.1053/4.8828125e-06 | 78/0.1053/4.8828125e-06 | 79/0.1053/4.8828125e-06 | 80/0.1053/2.44140625e-06 | 81/0.1053/2.44140625e-06 | 82/0.1053/2.44140625e-06 | 83/0.1053/2.44140625e-06 | 84/0.1053/2.44140625e-06 | 85/0.1053/2.44140625e-06 | 86/0.1053/1.220703125e-06 | 87/0.1053/1.220703125e-06 | 88/0.1053/1.220703125e-06 | 89/0.1053/1.220703125e-06 | 90/0.1053/1.220703125e-06 | 91/0.1053/1.220703125e-06 | 92/0.1053/6.103515625e-07 | Accuracy: 0.6170\n",
      "Evaluating mutag dataset using random method with a percentile of 60 against class members\n",
      "Epoch/val accuracy/lr: "
     ]
    },
    {
     "name": "stderr",
     "output_type": "stream",
     "text": [
      "/opt/conda/lib/python3.10/site-packages/torch_geometric/deprecation.py:26: UserWarning: 'data.DataLoader' is deprecated, use 'loader.DataLoader' instead\n",
      "  warnings.warn(out)\n"
     ]
    },
    {
     "name": "stdout",
     "output_type": "stream",
     "text": [
      "1/0.0000/0.01 | 2/0.2609/0.01 | 3/0.8261/0.01 | 4/0.8261/0.01 | 5/0.8261/0.01 | 6/0.8261/0.01 | 7/0.8261/0.01 | 8/0.8261/0.005 | 9/0.8261/0.005 | 10/0.8261/0.005 | 11/0.6957/0.005 | 12/0.6957/0.005 | 13/0.6957/0.005 | 14/0.6957/0.0025 | 15/0.6957/0.0025 | 16/0.6957/0.0025 | 17/0.6957/0.0025 | 18/0.6957/0.0025 | 19/0.6957/0.0025 | 20/0.6957/0.00125 | 21/0.6957/0.00125 | 22/0.6957/0.00125 | 23/0.6522/0.00125 | 24/0.6522/0.00125 | 25/0.6522/0.00125 | 26/0.6522/0.000625 | 27/0.6522/0.000625 | 28/0.6522/0.000625 | 29/0.6522/0.000625 | 30/0.6522/0.000625 | 31/0.6522/0.000625 | 32/0.6522/0.0003125 | 33/0.6522/0.0003125 | 34/0.6522/0.0003125 | 35/0.6522/0.0003125 | 36/0.6522/0.0003125 | 37/0.6522/0.0003125 | 38/0.6522/0.00015625 | 39/0.6522/0.00015625 | 40/0.6522/0.00015625 | 41/0.6522/0.00015625 | 42/0.6522/0.00015625 | 43/0.6522/0.00015625 | 44/0.6522/7.8125e-05 | 45/0.6522/7.8125e-05 | 46/0.6522/7.8125e-05 | 47/0.6522/7.8125e-05 | 48/0.6522/7.8125e-05 | 49/0.6522/7.8125e-05 | 50/0.6522/3.90625e-05 | 51/0.6522/3.90625e-05 | 52/0.6957/3.90625e-05 | 53/0.6957/3.90625e-05 | 54/0.6957/3.90625e-05 | 55/0.6957/3.90625e-05 | 56/0.6957/1.953125e-05 | 57/0.6957/1.953125e-05 | 58/0.6957/1.953125e-05 | 59/0.6957/1.953125e-05 | 60/0.6957/1.953125e-05 | 61/0.6957/1.953125e-05 | 62/0.6957/9.765625e-06 | 63/0.6957/9.765625e-06 | 64/0.6957/9.765625e-06 | 65/0.6957/9.765625e-06 | 66/0.6957/9.765625e-06 | 67/0.7826/9.765625e-06 | 68/0.7826/4.8828125e-06 | 69/0.7826/4.8828125e-06 | 70/0.7826/4.8828125e-06 | 71/0.7826/4.8828125e-06 | 72/0.7826/4.8828125e-06 | 73/0.7826/4.8828125e-06 | 74/0.7826/2.44140625e-06 | 75/0.7826/2.44140625e-06 | 76/0.7826/2.44140625e-06 | 77/0.7826/2.44140625e-06 | 78/0.7826/2.44140625e-06 | 79/0.7826/2.44140625e-06 | 80/0.7826/1.220703125e-06 | 81/0.7826/1.220703125e-06 | 82/0.7826/1.220703125e-06 | 83/0.7826/1.220703125e-06 | 84/0.7826/1.220703125e-06 | 85/0.7826/1.220703125e-06 | 86/0.7826/6.103515625e-07 | Accuracy: 0.5132\n",
      "Evaluating mutag dataset using random method with a percentile of 70 against class members\n",
      "Epoch/val accuracy/lr: "
     ]
    },
    {
     "name": "stderr",
     "output_type": "stream",
     "text": [
      "/opt/conda/lib/python3.10/site-packages/torch_geometric/deprecation.py:26: UserWarning: 'data.DataLoader' is deprecated, use 'loader.DataLoader' instead\n",
      "  warnings.warn(out)\n"
     ]
    },
    {
     "name": "stdout",
     "output_type": "stream",
     "text": [
      "1/0.7778/0.01 | 2/0.7778/0.01 | 3/0.7778/0.01 | 4/0.7778/0.01 | 5/0.7778/0.01 | 6/0.7778/0.01 | 7/0.7778/0.01 | 8/0.7778/0.005 | 9/0.7778/0.005 | 10/0.7778/0.005 | 11/0.7778/0.005 | 12/0.7778/0.005 | 13/0.7778/0.005 | 14/0.7778/0.0025 | 15/0.7407/0.0025 | 16/0.7407/0.0025 | 17/0.7407/0.0025 | 18/0.7407/0.0025 | 19/0.7037/0.0025 | 20/0.7037/0.0025 | 21/0.7037/0.0025 | 22/0.7037/0.0025 | 23/0.7037/0.0025 | 24/0.7037/0.0025 | 25/0.7037/0.0025 | 26/0.7037/0.00125 | 27/0.7037/0.00125 | 28/0.7037/0.00125 | 29/0.7037/0.00125 | 30/0.7037/0.00125 | 31/0.7037/0.00125 | 32/0.6667/0.000625 | 33/0.6667/0.000625 | 34/0.6667/0.000625 | 35/0.6667/0.000625 | 36/0.6667/0.000625 | 37/0.6667/0.000625 | 38/0.6667/0.000625 | 39/0.6667/0.0003125 | 40/0.6667/0.0003125 | 41/0.6667/0.0003125 | 42/0.7037/0.0003125 | 43/0.7037/0.0003125 | 44/0.7037/0.0003125 | 45/0.7037/0.00015625 | 46/0.7037/0.00015625 | 47/0.7037/0.00015625 | 48/0.7037/0.00015625 | 49/0.7037/0.00015625 | 50/0.7037/0.00015625 | 51/0.7037/7.8125e-05 | 52/0.7037/7.8125e-05 | 53/0.7037/7.8125e-05 | 54/0.7037/7.8125e-05 | 55/0.7037/7.8125e-05 | 56/0.7037/7.8125e-05 | 57/0.6667/3.90625e-05 | 58/0.6667/3.90625e-05 | 59/0.6667/3.90625e-05 | 60/0.6667/3.90625e-05 | 61/0.6667/3.90625e-05 | 62/0.6667/3.90625e-05 | 63/0.6667/1.953125e-05 | 64/0.6667/1.953125e-05 | 65/0.6667/1.953125e-05 | 66/0.6667/1.953125e-05 | 67/0.6667/1.953125e-05 | 68/0.6667/1.953125e-05 | 69/0.6667/9.765625e-06 | 70/0.6667/9.765625e-06 | 71/0.6667/9.765625e-06 | 72/0.6667/9.765625e-06 | 73/0.6667/9.765625e-06 | 74/0.6667/9.765625e-06 | 75/0.6667/4.8828125e-06 | 76/0.6667/4.8828125e-06 | 77/0.6667/4.8828125e-06 | 78/0.6667/4.8828125e-06 | 79/0.6667/4.8828125e-06 | 80/0.6667/4.8828125e-06 | 81/0.6667/2.44140625e-06 | 82/0.6667/2.44140625e-06 | 83/0.6667/2.44140625e-06 | 84/0.6667/2.44140625e-06 | 85/0.6667/2.44140625e-06 | 86/0.6667/2.44140625e-06 | 87/0.6667/1.220703125e-06 | 88/0.6667/1.220703125e-06 | 89/0.6667/1.220703125e-06 | 90/0.6667/1.220703125e-06 | 91/0.6667/1.220703125e-06 | 92/0.6667/1.220703125e-06 | 93/0.6667/6.103515625e-07 | Accuracy: 0.6667\n",
      "Evaluating mutag dataset using random method with a percentile of 80 against class members\n",
      "Epoch/val accuracy/lr: "
     ]
    },
    {
     "name": "stderr",
     "output_type": "stream",
     "text": [
      "/opt/conda/lib/python3.10/site-packages/torch_geometric/deprecation.py:26: UserWarning: 'data.DataLoader' is deprecated, use 'loader.DataLoader' instead\n",
      "  warnings.warn(out)\n"
     ]
    },
    {
     "name": "stdout",
     "output_type": "stream",
     "text": [
      "1/0.0000/0.01 | 2/0.6333/0.01 | 3/0.6333/0.01 | 4/0.6333/0.01 | 5/0.6333/0.01 | 6/0.6333/0.01 | 7/0.6333/0.01 | 8/0.6333/0.005 | 9/0.6333/0.005 | 10/0.6333/0.005 | 11/0.6333/0.005 | 12/0.6333/0.005 | 13/0.6000/0.005 | 14/0.6000/0.0025 | 15/0.6000/0.0025 | 16/0.4667/0.0025 | 17/0.4667/0.0025 | 18/0.4000/0.0025 | 19/0.4000/0.0025 | 20/0.3667/0.00125 | 21/0.3000/0.00125 | 22/0.3000/0.00125 | 23/0.2333/0.00125 | 24/0.2333/0.00125 | 25/0.2333/0.00125 | 26/0.2333/0.000625 | 27/0.2667/0.000625 | 28/0.3000/0.000625 | 29/0.3667/0.000625 | 30/0.4000/0.000625 | 31/0.4333/0.000625 | 32/0.4333/0.0003125 | 33/0.4333/0.0003125 | 34/0.4333/0.0003125 | 35/0.4333/0.0003125 | 36/0.4000/0.0003125 | 37/0.4000/0.0003125 | 38/0.4667/0.00015625 | 39/0.5000/0.00015625 | 40/0.5000/0.00015625 | 41/0.5000/0.00015625 | 42/0.5000/0.00015625 | 43/0.5000/0.00015625 | 44/0.5000/7.8125e-05 | 45/0.5000/7.8125e-05 | 46/0.5000/7.8125e-05 | 47/0.5000/7.8125e-05 | 48/0.5000/7.8125e-05 | 49/0.5000/7.8125e-05 | 50/0.5000/3.90625e-05 | 51/0.5000/3.90625e-05 | 52/0.5000/3.90625e-05 | 53/0.5000/3.90625e-05 | 54/0.5333/3.90625e-05 | 55/0.5333/3.90625e-05 | 56/0.5333/1.953125e-05 | 57/0.5333/1.953125e-05 | 58/0.5333/1.953125e-05 | 59/0.5333/1.953125e-05 | 60/0.5333/1.953125e-05 | 61/0.5333/1.953125e-05 | 62/0.5667/9.765625e-06 | 63/0.6000/9.765625e-06 | 64/0.6000/9.765625e-06 | 65/0.6000/9.765625e-06 | 66/0.6000/9.765625e-06 | 67/0.6000/9.765625e-06 | 68/0.6000/4.8828125e-06 | 69/0.6000/4.8828125e-06 | 70/0.6000/4.8828125e-06 | 71/0.6000/4.8828125e-06 | 72/0.6000/4.8828125e-06 | 73/0.6000/4.8828125e-06 | 74/0.6000/2.44140625e-06 | 75/0.6000/2.44140625e-06 | 76/0.6000/2.44140625e-06 | 77/0.6000/2.44140625e-06 | 78/0.6000/2.44140625e-06 | 79/0.6000/2.44140625e-06 | 80/0.6000/1.220703125e-06 | 81/0.6000/1.220703125e-06 | 82/0.6000/1.220703125e-06 | 83/0.6000/1.220703125e-06 | 84/0.6000/1.220703125e-06 | 85/0.6000/1.220703125e-06 | 86/0.6000/6.103515625e-07 | Accuracy: 0.5789\n",
      "Evaluating mutag dataset using random method with a percentile of 90 against class members\n",
      "Epoch/val accuracy/lr: "
     ]
    },
    {
     "name": "stderr",
     "output_type": "stream",
     "text": [
      "/opt/conda/lib/python3.10/site-packages/torch_geometric/deprecation.py:26: UserWarning: 'data.DataLoader' is deprecated, use 'loader.DataLoader' instead\n",
      "  warnings.warn(out)\n"
     ]
    },
    {
     "name": "stdout",
     "output_type": "stream",
     "text": [
      "1/0.7647/0.01 | 2/0.7647/0.01 | 3/0.7647/0.01 | 4/0.7647/0.01 | 5/0.7647/0.01 | 6/0.7647/0.01 | 7/0.7647/0.01 | 8/0.7647/0.005 | 9/0.7647/0.005 | 10/0.7647/0.005 | 11/0.7647/0.005 | 12/0.7647/0.005 | 13/0.7647/0.005 | 14/0.7647/0.0025 | 15/0.7647/0.0025 | 16/0.7647/0.0025 | 17/0.7647/0.0025 | 18/0.7353/0.0025 | 19/0.7059/0.0025 | 20/0.6471/0.0025 | 21/0.6471/0.0025 | 22/0.6471/0.0025 | 23/0.6471/0.0025 | 24/0.6471/0.0025 | 25/0.6471/0.0025 | 26/0.6471/0.0025 | 27/0.6176/0.00125 | 28/0.5294/0.00125 | 29/0.5294/0.00125 | 30/0.5294/0.00125 | 31/0.5294/0.00125 | 32/0.5294/0.00125 | 33/0.5294/0.00125 | 34/0.5294/0.00125 | 35/0.5882/0.000625 | 36/0.5882/0.000625 | 37/0.6176/0.000625 | 38/0.6471/0.000625 | 39/0.6765/0.000625 | 40/0.6765/0.000625 | 41/0.6765/0.0003125 | 42/0.6765/0.0003125 | 43/0.6765/0.0003125 | 44/0.6765/0.0003125 | 45/0.6765/0.0003125 | 46/0.6765/0.0003125 | 47/0.6765/0.00015625 | 48/0.6765/0.00015625 | 49/0.6765/0.00015625 | 50/0.6765/0.00015625 | 51/0.6765/0.00015625 | 52/0.6765/0.00015625 | 53/0.6765/7.8125e-05 | 54/0.6765/7.8125e-05 | 55/0.6765/7.8125e-05 | 56/0.6765/7.8125e-05 | 57/0.6765/7.8125e-05 | 58/0.6765/7.8125e-05 | 59/0.6765/3.90625e-05 | 60/0.6765/3.90625e-05 | 61/0.6765/3.90625e-05 | 62/0.6765/3.90625e-05 | 63/0.6765/3.90625e-05 | 64/0.6765/3.90625e-05 | 65/0.6471/1.953125e-05 | 66/0.6471/1.953125e-05 | 67/0.6471/1.953125e-05 | 68/0.6471/1.953125e-05 | 69/0.6471/1.953125e-05 | 70/0.6471/1.953125e-05 | 71/0.6471/9.765625e-06 | 72/0.6471/9.765625e-06 | 73/0.6471/9.765625e-06 | 74/0.6471/9.765625e-06 | 75/0.6471/9.765625e-06 | 76/0.6471/9.765625e-06 | 77/0.6471/4.8828125e-06 | 78/0.6471/4.8828125e-06 | 79/0.6471/4.8828125e-06 | 80/0.6471/4.8828125e-06 | 81/0.6471/4.8828125e-06 | 82/0.6471/4.8828125e-06 | 83/0.6471/2.44140625e-06 | 84/0.6471/2.44140625e-06 | 85/0.6471/2.44140625e-06 | 86/0.6471/2.44140625e-06 | 87/0.6471/2.44140625e-06 | 88/0.6471/2.44140625e-06 | 89/0.6471/1.220703125e-06 | 90/0.6471/1.220703125e-06 | 91/0.6471/1.220703125e-06 | 92/0.6471/1.220703125e-06 | 93/0.6471/1.220703125e-06 | 94/0.6471/1.220703125e-06 | 95/0.6471/6.103515625e-07 | Accuracy: 0.6316\n",
      "Evaluating mutag dataset using graph_order method with a percentile of 40 against class members\n",
      "Epoch/val accuracy/lr: "
     ]
    },
    {
     "name": "stderr",
     "output_type": "stream",
     "text": [
      "/opt/conda/lib/python3.10/site-packages/torch_geometric/deprecation.py:26: UserWarning: 'data.DataLoader' is deprecated, use 'loader.DataLoader' instead\n",
      "  warnings.warn(out)\n"
     ]
    },
    {
     "name": "stdout",
     "output_type": "stream",
     "text": [
      "1/0.7500/0.01 | 2/0.7500/0.01 | 3/0.7500/0.01 | 4/0.7500/0.01 | 5/0.7500/0.01 | 6/0.7500/0.01 | 7/0.7500/0.01 | 8/0.7500/0.005 | 9/0.7500/0.005 | 10/0.7500/0.005 | 11/0.7500/0.005 | 12/0.7500/0.005 | 13/0.7500/0.005 | 14/0.7500/0.0025 | 15/0.7500/0.0025 | 16/0.7500/0.0025 | 17/0.7500/0.0025 | 18/0.7500/0.0025 | 19/0.7500/0.0025 | 20/0.7500/0.00125 | 21/0.7500/0.00125 | 22/0.7500/0.00125 | 23/0.7500/0.00125 | 24/0.7500/0.00125 | 25/0.7500/0.00125 | 26/0.7500/0.000625 | 27/0.7500/0.000625 | 28/0.7500/0.000625 | 29/0.7500/0.000625 | 30/0.7500/0.000625 | 31/0.7500/0.000625 | 32/0.7500/0.0003125 | 33/0.7500/0.0003125 | 34/0.7500/0.0003125 | 35/0.7500/0.0003125 | 36/0.7500/0.0003125 | 37/0.7500/0.0003125 | 38/0.7500/0.00015625 | 39/0.7500/0.00015625 | 40/0.7500/0.00015625 | 41/0.7500/0.00015625 | 42/0.7500/0.00015625 | 43/0.7500/0.00015625 | 44/0.7500/7.8125e-05 | 45/0.7500/7.8125e-05 | 46/0.7500/7.8125e-05 | 47/0.7500/7.8125e-05 | 48/0.7500/7.8125e-05 | 49/0.7500/7.8125e-05 | 50/0.7500/3.90625e-05 | 51/0.7500/3.90625e-05 | 52/0.7500/3.90625e-05 | 53/0.7500/3.90625e-05 | 54/0.7500/3.90625e-05 | 55/0.7500/3.90625e-05 | 56/0.7500/1.953125e-05 | 57/0.7500/1.953125e-05 | 58/0.7500/1.953125e-05 | 59/0.7500/1.953125e-05 | 60/0.7500/1.953125e-05 | 61/0.7500/1.953125e-05 | 62/0.7500/9.765625e-06 | 63/0.7500/9.765625e-06 | 64/0.7500/9.765625e-06 | 65/0.7500/9.765625e-06 | 66/0.7500/9.765625e-06 | 67/0.7500/9.765625e-06 | 68/0.7500/4.8828125e-06 | 69/0.7500/4.8828125e-06 | 70/0.7500/4.8828125e-06 | 71/0.7500/4.8828125e-06 | 72/0.7500/4.8828125e-06 | 73/0.7500/4.8828125e-06 | 74/0.7500/2.44140625e-06 | 75/0.7500/2.44140625e-06 | 76/0.7500/2.44140625e-06 | 77/0.7500/2.44140625e-06 | 78/0.7500/2.44140625e-06 | 79/0.7500/2.44140625e-06 | 80/0.7500/1.220703125e-06 | 81/0.7500/1.220703125e-06 | 82/0.7500/1.220703125e-06 | 83/0.7500/1.220703125e-06 | 84/0.7500/1.220703125e-06 | 85/0.7500/1.220703125e-06 | 86/0.7500/6.103515625e-07 | Accuracy: 0.6518\n",
      "Evaluating mutag dataset using graph_order method with a percentile of 50 against class members\n",
      "Epoch/val accuracy/lr: "
     ]
    },
    {
     "name": "stderr",
     "output_type": "stream",
     "text": [
      "/opt/conda/lib/python3.10/site-packages/torch_geometric/deprecation.py:26: UserWarning: 'data.DataLoader' is deprecated, use 'loader.DataLoader' instead\n",
      "  warnings.warn(out)\n"
     ]
    },
    {
     "name": "stdout",
     "output_type": "stream",
     "text": [
      "1/0.0000/0.01 | 2/0.7368/0.01 | 3/0.7368/0.01 | 4/0.7368/0.01 | 5/0.7368/0.01 | 6/0.7368/0.01 | 7/0.7368/0.01 | 8/0.7368/0.005 | 9/0.7368/0.005 | 10/0.7368/0.005 | 11/0.7368/0.005 | 12/0.7368/0.005 | 13/0.7368/0.005 | 14/0.7368/0.0025 | 15/0.7368/0.0025 | 16/0.7368/0.0025 | 17/0.7368/0.0025 | 18/0.7368/0.0025 | 19/0.7368/0.0025 | 20/0.7368/0.00125 | 21/0.7368/0.00125 | 22/0.7368/0.00125 | 23/0.7368/0.00125 | 24/0.7368/0.00125 | 25/0.7368/0.00125 | 26/0.7368/0.000625 | 27/0.6842/0.000625 | 28/0.6316/0.000625 | 29/0.6316/0.000625 | 30/0.6316/0.000625 | 31/0.6316/0.000625 | 32/0.6316/0.0003125 | 33/0.6316/0.0003125 | 34/0.6316/0.0003125 | 35/0.6316/0.0003125 | 36/0.6316/0.0003125 | 37/0.6316/0.0003125 | 38/0.6316/0.00015625 | 39/0.6316/0.00015625 | 40/0.6316/0.00015625 | 41/0.6316/0.00015625 | 42/0.6316/0.00015625 | 43/0.6316/0.00015625 | 44/0.6316/7.8125e-05 | 45/0.6316/7.8125e-05 | 46/0.6316/7.8125e-05 | 47/0.6316/7.8125e-05 | 48/0.6316/7.8125e-05 | 49/0.6316/7.8125e-05 | 50/0.6316/3.90625e-05 | 51/0.6316/3.90625e-05 | 52/0.6316/3.90625e-05 | 53/0.6316/3.90625e-05 | 54/0.6316/3.90625e-05 | 55/0.6316/3.90625e-05 | 56/0.6316/1.953125e-05 | 57/0.6316/1.953125e-05 | 58/0.6316/1.953125e-05 | 59/0.6316/1.953125e-05 | 60/0.6316/1.953125e-05 | 61/0.6316/1.953125e-05 | 62/0.6316/9.765625e-06 | 63/0.6316/9.765625e-06 | 64/0.6316/9.765625e-06 | 65/0.6316/9.765625e-06 | 66/0.6316/9.765625e-06 | 67/0.6316/9.765625e-06 | 68/0.6316/4.8828125e-06 | 69/0.6316/4.8828125e-06 | 70/0.6316/4.8828125e-06 | 71/0.6316/4.8828125e-06 | 72/0.6316/4.8828125e-06 | 73/0.6316/4.8828125e-06 | 74/0.6316/2.44140625e-06 | 75/0.6316/2.44140625e-06 | 76/0.6316/2.44140625e-06 | 77/0.6316/2.44140625e-06 | 78/0.6316/2.44140625e-06 | 79/0.6316/2.44140625e-06 | 80/0.6316/1.220703125e-06 | 81/0.6316/1.220703125e-06 | 82/0.6316/1.220703125e-06 | 83/0.6316/1.220703125e-06 | 84/0.6316/1.220703125e-06 | 85/0.6316/1.220703125e-06 | 86/0.6316/6.103515625e-07 | Accuracy: 0.6559\n",
      "Evaluating mutag dataset using graph_order method with a percentile of 60 against class members\n",
      "Epoch/val accuracy/lr: "
     ]
    },
    {
     "name": "stderr",
     "output_type": "stream",
     "text": [
      "/opt/conda/lib/python3.10/site-packages/torch_geometric/deprecation.py:26: UserWarning: 'data.DataLoader' is deprecated, use 'loader.DataLoader' instead\n",
      "  warnings.warn(out)\n"
     ]
    },
    {
     "name": "stdout",
     "output_type": "stream",
     "text": [
      "1/0.8261/0.01 | 2/0.8261/0.01 | 3/0.8261/0.01 | 4/0.8261/0.01 | 5/0.8261/0.01 | 6/0.8261/0.01 | 7/0.8261/0.01 | 8/0.8261/0.005 | 9/0.8261/0.005 | 10/0.8261/0.005 | 11/0.8261/0.005 | 12/0.8261/0.005 | 13/0.8261/0.005 | 14/0.8261/0.0025 | 15/0.8261/0.0025 | 16/0.8261/0.0025 | 17/0.8261/0.0025 | 18/0.7826/0.0025 | 19/0.7826/0.0025 | 20/0.7391/0.0025 | 21/0.7391/0.0025 | 22/0.6957/0.0025 | 23/0.6957/0.0025 | 24/0.6957/0.0025 | 25/0.6957/0.0025 | 26/0.6957/0.0025 | 27/0.6957/0.0025 | 28/0.6957/0.0025 | 29/0.6957/0.00125 | 30/0.6957/0.00125 | 31/0.6957/0.00125 | 32/0.6957/0.00125 | 33/0.6957/0.00125 | 34/0.6957/0.00125 | 35/0.6957/0.000625 | 36/0.6957/0.000625 | 37/0.6957/0.000625 | 38/0.6957/0.000625 | 39/0.6957/0.000625 | 40/0.6957/0.000625 | 41/0.6957/0.0003125 | 42/0.7391/0.0003125 | 43/0.7391/0.0003125 | 44/0.7391/0.0003125 | 45/0.7391/0.0003125 | 46/0.7391/0.0003125 | 47/0.7391/0.00015625 | 48/0.7391/0.00015625 | 49/0.7826/0.00015625 | 50/0.7826/0.00015625 | 51/0.7826/0.00015625 | 52/0.7826/0.00015625 | 53/0.7826/7.8125e-05 | 54/0.7826/7.8125e-05 | 55/0.7826/7.8125e-05 | 56/0.7826/7.8125e-05 | 57/0.7826/7.8125e-05 | 58/0.7391/7.8125e-05 | 59/0.7391/3.90625e-05 | 60/0.7391/3.90625e-05 | 61/0.7391/3.90625e-05 | 62/0.7391/3.90625e-05 | 63/0.7391/3.90625e-05 | 64/0.7391/3.90625e-05 | 65/0.7391/1.953125e-05 | 66/0.7391/1.953125e-05 | 67/0.7391/1.953125e-05 | 68/0.7391/1.953125e-05 | 69/0.7391/1.953125e-05 | 70/0.7391/1.953125e-05 | 71/0.7391/9.765625e-06 | 72/0.7391/9.765625e-06 | 73/0.7391/9.765625e-06 | 74/0.7391/9.765625e-06 | 75/0.7391/9.765625e-06 | 76/0.7391/9.765625e-06 | 77/0.7391/4.8828125e-06 | 78/0.7391/4.8828125e-06 | 79/0.7391/4.8828125e-06 | 80/0.7391/4.8828125e-06 | 81/0.7391/4.8828125e-06 | 82/0.7391/4.8828125e-06 | 83/0.7391/2.44140625e-06 | 84/0.7391/2.44140625e-06 | 85/0.7391/2.44140625e-06 | 86/0.7391/2.44140625e-06 | 87/0.7391/2.44140625e-06 | 88/0.7391/2.44140625e-06 | 89/0.7391/1.220703125e-06 | 90/0.7391/1.220703125e-06 | 91/0.7391/1.220703125e-06 | 92/0.7391/1.220703125e-06 | 93/0.7391/1.220703125e-06 | 94/0.7391/1.220703125e-06 | 95/0.7391/6.103515625e-07 | Accuracy: 0.6533\n",
      "Evaluating mutag dataset using graph_order method with a percentile of 70 against class members\n",
      "Epoch/val accuracy/lr: "
     ]
    },
    {
     "name": "stderr",
     "output_type": "stream",
     "text": [
      "/opt/conda/lib/python3.10/site-packages/torch_geometric/deprecation.py:26: UserWarning: 'data.DataLoader' is deprecated, use 'loader.DataLoader' instead\n",
      "  warnings.warn(out)\n"
     ]
    },
    {
     "name": "stdout",
     "output_type": "stream",
     "text": [
      "1/0.6296/0.01 | 2/0.6296/0.01 | 3/0.6296/0.01 | 4/0.6296/0.01 | 5/0.6296/0.01 | 6/0.6296/0.01 | 7/0.6296/0.01 | 8/0.6296/0.005 | 9/0.6296/0.005 | 10/0.6296/0.005 | 11/0.6296/0.005 | 12/0.6296/0.005 | 13/0.6296/0.005 | 14/0.6296/0.0025 | 15/0.6296/0.0025 | 16/0.6296/0.0025 | 17/0.6296/0.0025 | 18/0.6296/0.0025 | 19/0.6296/0.0025 | 20/0.6296/0.00125 | 21/0.6296/0.00125 | 22/0.6296/0.00125 | 23/0.6296/0.00125 | 24/0.6296/0.00125 | 25/0.6296/0.00125 | 26/0.6296/0.000625 | 27/0.6296/0.000625 | 28/0.6296/0.000625 | 29/0.6296/0.000625 | 30/0.6296/0.000625 | 31/0.6296/0.000625 | 32/0.6296/0.0003125 | 33/0.6296/0.0003125 | 34/0.6296/0.0003125 | 35/0.6296/0.0003125 | 36/0.6296/0.0003125 | 37/0.6296/0.0003125 | 38/0.5926/0.00015625 | 39/0.5926/0.00015625 | 40/0.5926/0.00015625 | 41/0.5926/0.00015625 | 42/0.5926/0.00015625 | 43/0.5926/0.00015625 | 44/0.5926/0.00015625 | 45/0.5926/7.8125e-05 | 46/0.5926/7.8125e-05 | 47/0.5926/7.8125e-05 | 48/0.5926/7.8125e-05 | 49/0.5926/7.8125e-05 | 50/0.5926/7.8125e-05 | 51/0.5926/3.90625e-05 | 52/0.5926/3.90625e-05 | 53/0.5926/3.90625e-05 | 54/0.5926/3.90625e-05 | 55/0.5926/3.90625e-05 | 56/0.5926/3.90625e-05 | 57/0.5926/1.953125e-05 | 58/0.5926/1.953125e-05 | 59/0.5926/1.953125e-05 | 60/0.5926/1.953125e-05 | 61/0.5926/1.953125e-05 | 62/0.5926/1.953125e-05 | 63/0.5926/9.765625e-06 | 64/0.5926/9.765625e-06 | 65/0.5926/9.765625e-06 | 66/0.5926/9.765625e-06 | 67/0.5926/9.765625e-06 | 68/0.5926/9.765625e-06 | 69/0.5926/4.8828125e-06 | 70/0.5926/4.8828125e-06 | 71/0.5926/4.8828125e-06 | 72/0.5926/4.8828125e-06 | 73/0.5926/4.8828125e-06 | 74/0.5926/4.8828125e-06 | 75/0.5926/2.44140625e-06 | 76/0.5926/2.44140625e-06 | 77/0.5926/2.44140625e-06 | 78/0.5926/2.44140625e-06 | 79/0.5926/2.44140625e-06 | 80/0.5926/2.44140625e-06 | 81/0.5926/1.220703125e-06 | 82/0.5926/1.220703125e-06 | 83/0.5926/1.220703125e-06 | 84/0.5926/1.220703125e-06 | 85/0.5926/1.220703125e-06 | 86/0.5926/1.220703125e-06 | 87/0.5926/6.103515625e-07 | Accuracy: 0.6364\n",
      "Evaluating mutag dataset using graph_order method with a percentile of 80 against class members\n",
      "Epoch/val accuracy/lr: "
     ]
    },
    {
     "name": "stderr",
     "output_type": "stream",
     "text": [
      "/opt/conda/lib/python3.10/site-packages/torch_geometric/deprecation.py:26: UserWarning: 'data.DataLoader' is deprecated, use 'loader.DataLoader' instead\n",
      "  warnings.warn(out)\n"
     ]
    },
    {
     "name": "stdout",
     "output_type": "stream",
     "text": [
      "1/0.5806/0.01 | 2/0.5806/0.01 | 3/0.5806/0.01 | 4/0.5806/0.01 | 5/0.5806/0.01 | 6/0.5806/0.01 | 7/0.5806/0.01 | 8/0.5806/0.005 | 9/0.5806/0.005 | 10/0.5806/0.005 | 11/0.5806/0.005 | 12/0.5806/0.005 | 13/0.5806/0.005 | 14/0.5484/0.0025 | 15/0.5484/0.0025 | 16/0.5806/0.0025 | 17/0.5806/0.0025 | 18/0.5806/0.0025 | 19/0.5806/0.0025 | 20/0.5806/0.0025 | 21/0.5806/0.00125 | 22/0.5806/0.00125 | 23/0.5806/0.00125 | 24/0.5806/0.00125 | 25/0.5806/0.00125 | 26/0.5806/0.00125 | 27/0.5806/0.000625 | 28/0.5806/0.000625 | 29/0.5806/0.000625 | 30/0.5806/0.000625 | 31/0.5806/0.000625 | 32/0.5806/0.000625 | 33/0.5806/0.0003125 | 34/0.5806/0.0003125 | 35/0.5806/0.0003125 | 36/0.5806/0.0003125 | 37/0.5806/0.0003125 | 38/0.5806/0.0003125 | 39/0.5806/0.00015625 | 40/0.5806/0.00015625 | 41/0.5806/0.00015625 | 42/0.5806/0.00015625 | 43/0.5806/0.00015625 | 44/0.5806/0.00015625 | 45/0.5806/7.8125e-05 | 46/0.5806/7.8125e-05 | 47/0.5806/7.8125e-05 | 48/0.5484/7.8125e-05 | 49/0.5484/7.8125e-05 | 50/0.5484/7.8125e-05 | 51/0.5484/3.90625e-05 | 52/0.5484/3.90625e-05 | 53/0.5161/3.90625e-05 | 54/0.5161/3.90625e-05 | 55/0.5161/3.90625e-05 | 56/0.5161/3.90625e-05 | 57/0.5161/3.90625e-05 | 58/0.5161/3.90625e-05 | 59/0.5161/3.90625e-05 | 60/0.5161/1.953125e-05 | 61/0.5161/1.953125e-05 | 62/0.5161/1.953125e-05 | 63/0.5161/1.953125e-05 | 64/0.5484/1.953125e-05 | 65/0.5484/1.953125e-05 | 66/0.5484/9.765625e-06 | 67/0.5484/9.765625e-06 | 68/0.5484/9.765625e-06 | 69/0.5484/9.765625e-06 | 70/0.5484/9.765625e-06 | 71/0.5484/9.765625e-06 | 72/0.5484/4.8828125e-06 | 73/0.5484/4.8828125e-06 | 74/0.5484/4.8828125e-06 | 75/0.5484/4.8828125e-06 | 76/0.5484/4.8828125e-06 | 77/0.5484/4.8828125e-06 | 78/0.5484/2.44140625e-06 | 79/0.5484/2.44140625e-06 | 80/0.5484/2.44140625e-06 | 81/0.5484/2.44140625e-06 | 82/0.5484/2.44140625e-06 | 83/0.5484/2.44140625e-06 | 84/0.5484/1.220703125e-06 | 85/0.5484/1.220703125e-06 | 86/0.5484/1.220703125e-06 | 87/0.5484/1.220703125e-06 | 88/0.5484/1.220703125e-06 | 89/0.5484/1.220703125e-06 | 90/0.5484/6.103515625e-07 | Accuracy: 0.6757\n",
      "Evaluating mutag dataset using graph_order method with a percentile of 90 against class members\n",
      "Epoch/val accuracy/lr: "
     ]
    },
    {
     "name": "stderr",
     "output_type": "stream",
     "text": [
      "/opt/conda/lib/python3.10/site-packages/torch_geometric/deprecation.py:26: UserWarning: 'data.DataLoader' is deprecated, use 'loader.DataLoader' instead\n",
      "  warnings.warn(out)\n"
     ]
    },
    {
     "name": "stdout",
     "output_type": "stream",
     "text": [
      "1/0.6765/0.01 | 2/0.6765/0.01 | 3/0.6765/0.01 | 4/0.6765/0.01 | 5/0.6765/0.01 | 6/0.6765/0.01 | 7/0.6765/0.01 | 8/0.6765/0.005 | 9/0.6765/0.005 | 10/0.6765/0.005 | 11/0.6765/0.005 | 12/0.6765/0.005 | 13/0.6765/0.005 | 14/0.6765/0.0025 | 15/0.6765/0.0025 | 16/0.6765/0.0025 | 17/0.6765/0.0025 | 18/0.6765/0.0025 | 19/0.6765/0.0025 | 20/0.6765/0.00125 | 21/0.6765/0.00125 | 22/0.6765/0.00125 | 23/0.6765/0.00125 | 24/0.6765/0.00125 | 25/0.6765/0.00125 | 26/0.6765/0.000625 | 27/0.6765/0.000625 | 28/0.6765/0.000625 | 29/0.6765/0.000625 | 30/0.6765/0.000625 | 31/0.6765/0.000625 | 32/0.6471/0.0003125 | 33/0.6471/0.0003125 | 34/0.6471/0.0003125 | 35/0.6176/0.0003125 | 36/0.6176/0.0003125 | 37/0.6176/0.0003125 | 38/0.6176/0.0003125 | 39/0.6176/0.0003125 | 40/0.5882/0.0003125 | 41/0.5882/0.0003125 | 42/0.5882/0.0003125 | 43/0.5882/0.0003125 | 44/0.5882/0.0003125 | 45/0.5882/0.0003125 | 46/0.5882/0.0003125 | 47/0.5882/0.00015625 | 48/0.5588/0.00015625 | 49/0.5588/0.00015625 | 50/0.5588/0.00015625 | 51/0.5588/0.00015625 | 52/0.5882/0.00015625 | 53/0.5882/0.00015625 | 54/0.5882/0.00015625 | 55/0.5882/7.8125e-05 | 56/0.5882/7.8125e-05 | 57/0.5882/7.8125e-05 | 58/0.5882/7.8125e-05 | 59/0.5882/7.8125e-05 | 60/0.5882/7.8125e-05 | 61/0.5882/3.90625e-05 | 62/0.5882/3.90625e-05 | 63/0.5882/3.90625e-05 | 64/0.5882/3.90625e-05 | 65/0.5882/3.90625e-05 | 66/0.5882/3.90625e-05 | 67/0.5882/1.953125e-05 | 68/0.5882/1.953125e-05 | 69/0.5882/1.953125e-05 | 70/0.5882/1.953125e-05 | 71/0.5882/1.953125e-05 | 72/0.5882/1.953125e-05 | 73/0.5882/9.765625e-06 | 74/0.5882/9.765625e-06 | 75/0.5882/9.765625e-06 | 76/0.5882/9.765625e-06 | 77/0.5882/9.765625e-06 | 78/0.5882/9.765625e-06 | 79/0.5882/4.8828125e-06 | 80/0.6176/4.8828125e-06 | 81/0.6176/4.8828125e-06 | 82/0.6176/4.8828125e-06 | 83/0.6176/4.8828125e-06 | 84/0.6176/4.8828125e-06 | 85/0.6176/2.44140625e-06 | 86/0.6176/2.44140625e-06 | 87/0.6176/2.44140625e-06 | 88/0.6176/2.44140625e-06 | 89/0.6176/2.44140625e-06 | 90/0.6176/2.44140625e-06 | 91/0.6176/1.220703125e-06 | 92/0.6176/1.220703125e-06 | 93/0.6176/1.220703125e-06 | 94/0.6176/1.220703125e-06 | 95/0.6176/1.220703125e-06 | 96/0.6176/1.220703125e-06 | 97/0.6176/6.103515625e-07 | Accuracy: 0.6667\n",
      "Evaluating mutag dataset using cos_sim method with a percentile of 40 against class members\n",
      "Epoch/val accuracy/lr: "
     ]
    },
    {
     "name": "stderr",
     "output_type": "stream",
     "text": [
      "/opt/conda/lib/python3.10/site-packages/torch_geometric/deprecation.py:26: UserWarning: 'data.DataLoader' is deprecated, use 'loader.DataLoader' instead\n",
      "  warnings.warn(out)\n"
     ]
    },
    {
     "name": "stdout",
     "output_type": "stream",
     "text": [
      "1/0.0000/0.01 | 2/0.6875/0.01 | 3/0.6875/0.01 | 4/0.6875/0.01 | 5/0.6875/0.01 | 6/0.6875/0.01 | 7/0.6875/0.01 | 8/0.6875/0.005 | 9/0.6875/0.005 | 10/0.6875/0.005 | 11/0.6875/0.005 | 12/0.6875/0.005 | 13/0.6250/0.005 | 14/0.6250/0.0025 | 15/0.6250/0.0025 | 16/0.6250/0.0025 | 17/0.6250/0.0025 | 18/0.6250/0.0025 | 19/0.6250/0.0025 | 20/0.6250/0.00125 | 21/0.5625/0.00125 | 22/0.5625/0.00125 | 23/0.5625/0.00125 | 24/0.5625/0.00125 | 25/0.5625/0.00125 | 26/0.5625/0.000625 | 27/0.5625/0.000625 | 28/0.5625/0.000625 | 29/0.5625/0.000625 | 30/0.5625/0.000625 | 31/0.5625/0.000625 | 32/0.5625/0.0003125 | 33/0.5625/0.0003125 | 34/0.5625/0.0003125 | 35/0.5625/0.0003125 | 36/0.5625/0.0003125 | 37/0.5625/0.0003125 | 38/0.5625/0.00015625 | 39/0.5625/0.00015625 | 40/0.5625/0.00015625 | 41/0.5625/0.00015625 | 42/0.5625/0.00015625 | 43/0.5625/0.00015625 | 44/0.5625/7.8125e-05 | 45/0.5625/7.8125e-05 | 46/0.5625/7.8125e-05 | 47/0.5625/7.8125e-05 | 48/0.5625/7.8125e-05 | 49/0.5625/7.8125e-05 | 50/0.5625/3.90625e-05 | 51/0.5625/3.90625e-05 | 52/0.5625/3.90625e-05 | 53/0.5625/3.90625e-05 | 54/0.5625/3.90625e-05 | 55/0.5625/3.90625e-05 | 56/0.5625/1.953125e-05 | 57/0.5625/1.953125e-05 | 58/0.5625/1.953125e-05 | 59/0.5625/1.953125e-05 | 60/0.5625/1.953125e-05 | 61/0.5625/1.953125e-05 | 62/0.5625/9.765625e-06 | 63/0.5625/9.765625e-06 | 64/0.5625/9.765625e-06 | 65/0.5625/9.765625e-06 | 66/0.5625/9.765625e-06 | 67/0.5625/9.765625e-06 | 68/0.5625/4.8828125e-06 | 69/0.5625/4.8828125e-06 | 70/0.5625/4.8828125e-06 | 71/0.5625/4.8828125e-06 | 72/0.5625/4.8828125e-06 | 73/0.5625/4.8828125e-06 | 74/0.5625/2.44140625e-06 | 75/0.5625/2.44140625e-06 | 76/0.5625/2.44140625e-06 | 77/0.5625/2.44140625e-06 | 78/0.5625/2.44140625e-06 | 79/0.5625/2.44140625e-06 | 80/0.5625/1.220703125e-06 | 81/0.5625/1.220703125e-06 | 82/0.5625/1.220703125e-06 | 83/0.5625/1.220703125e-06 | 84/0.5625/1.220703125e-06 | 85/0.5625/1.220703125e-06 | 86/0.5625/6.103515625e-07 | Accuracy: 0.6429\n",
      "Evaluating mutag dataset using cos_sim method with a percentile of 50 against class members\n",
      "Epoch/val accuracy/lr: "
     ]
    },
    {
     "name": "stderr",
     "output_type": "stream",
     "text": [
      "/opt/conda/lib/python3.10/site-packages/torch_geometric/deprecation.py:26: UserWarning: 'data.DataLoader' is deprecated, use 'loader.DataLoader' instead\n",
      "  warnings.warn(out)\n"
     ]
    },
    {
     "name": "stdout",
     "output_type": "stream",
     "text": [
      "1/0.0000/0.01 | 2/0.6842/0.01 | 3/0.6842/0.01 | 4/0.6842/0.01 | 5/0.6842/0.01 | 6/0.6842/0.01 | 7/0.6842/0.01 | 8/0.6842/0.005 | 9/0.6842/0.005 | 10/0.6842/0.005 | 11/0.6842/0.005 | 12/0.6842/0.005 | 13/0.6842/0.005 | 14/0.6842/0.0025 | 15/0.6842/0.0025 | 16/0.6842/0.0025 | 17/0.6842/0.0025 | 18/0.6842/0.0025 | 19/0.6842/0.0025 | 20/0.6842/0.00125 | 21/0.6842/0.00125 | 22/0.6842/0.00125 | 23/0.6842/0.00125 | 24/0.6842/0.00125 | 25/0.6842/0.00125 | 26/0.6842/0.000625 | 27/0.6842/0.000625 | 28/0.6842/0.000625 | 29/0.6842/0.000625 | 30/0.6842/0.000625 | 31/0.6842/0.000625 | 32/0.6842/0.0003125 | 33/0.6842/0.0003125 | 34/0.6842/0.0003125 | 35/0.6842/0.0003125 | 36/0.6842/0.0003125 | 37/0.6842/0.0003125 | 38/0.6842/0.00015625 | 39/0.6842/0.00015625 | 40/0.6842/0.00015625 | 41/0.6842/0.00015625 | 42/0.6842/0.00015625 | 43/0.6842/0.00015625 | 44/0.6842/7.8125e-05 | 45/0.6842/7.8125e-05 | 46/0.6842/7.8125e-05 | 47/0.6842/7.8125e-05 | 48/0.6842/7.8125e-05 | 49/0.6842/7.8125e-05 | 50/0.6842/3.90625e-05 | 51/0.6842/3.90625e-05 | 52/0.6842/3.90625e-05 | 53/0.6842/3.90625e-05 | 54/0.6842/3.90625e-05 | 55/0.6842/3.90625e-05 | 56/0.6842/1.953125e-05 | 57/0.6842/1.953125e-05 | 58/0.6842/1.953125e-05 | 59/0.6842/1.953125e-05 | 60/0.6842/1.953125e-05 | 61/0.6842/1.953125e-05 | 62/0.6842/9.765625e-06 | 63/0.6842/9.765625e-06 | 64/0.6842/9.765625e-06 | 65/0.6842/9.765625e-06 | 66/0.6842/9.765625e-06 | 67/0.6842/9.765625e-06 | 68/0.6842/4.8828125e-06 | 69/0.6842/4.8828125e-06 | 70/0.6842/4.8828125e-06 | 71/0.6842/4.8828125e-06 | 72/0.6316/4.8828125e-06 | 73/0.6316/4.8828125e-06 | 74/0.6316/2.44140625e-06 | 75/0.6316/2.44140625e-06 | 76/0.6316/2.44140625e-06 | 77/0.6316/2.44140625e-06 | 78/0.6316/2.44140625e-06 | 79/0.6316/2.44140625e-06 | 80/0.6316/1.220703125e-06 | 81/0.6316/1.220703125e-06 | 82/0.6316/1.220703125e-06 | 83/0.6316/1.220703125e-06 | 84/0.6316/1.220703125e-06 | 85/0.6316/1.220703125e-06 | 86/0.6316/6.103515625e-07 | Accuracy: 0.6559\n",
      "Evaluating mutag dataset using cos_sim method with a percentile of 60 against class members\n",
      "Epoch/val accuracy/lr: "
     ]
    },
    {
     "name": "stderr",
     "output_type": "stream",
     "text": [
      "/opt/conda/lib/python3.10/site-packages/torch_geometric/deprecation.py:26: UserWarning: 'data.DataLoader' is deprecated, use 'loader.DataLoader' instead\n",
      "  warnings.warn(out)\n"
     ]
    },
    {
     "name": "stdout",
     "output_type": "stream",
     "text": [
      "1/0.0000/0.01 | 2/0.6522/0.01 | 3/0.6522/0.01 | 4/0.6522/0.01 | 5/0.6522/0.01 | 6/0.6522/0.01 | 7/0.6522/0.01 | 8/0.6522/0.005 | 9/0.6522/0.005 | 10/0.6522/0.005 | 11/0.6522/0.005 | 12/0.6522/0.005 | 13/0.6522/0.005 | 14/0.6522/0.0025 | 15/0.6522/0.0025 | 16/0.6522/0.0025 | 17/0.6522/0.0025 | 18/0.6522/0.0025 | 19/0.6522/0.0025 | 20/0.6522/0.00125 | 21/0.6522/0.00125 | 22/0.6522/0.00125 | 23/0.6522/0.00125 | 24/0.6522/0.00125 | 25/0.6522/0.00125 | 26/0.6522/0.000625 | 27/0.6522/0.000625 | 28/0.6522/0.000625 | 29/0.6522/0.000625 | 30/0.6522/0.000625 | 31/0.6522/0.000625 | 32/0.6522/0.0003125 | 33/0.6522/0.0003125 | 34/0.6522/0.0003125 | 35/0.6522/0.0003125 | 36/0.6087/0.0003125 | 37/0.5652/0.0003125 | 38/0.5652/0.00015625 | 39/0.5652/0.00015625 | 40/0.5652/0.00015625 | 41/0.5652/0.00015625 | 42/0.5652/0.00015625 | 43/0.5652/0.00015625 | 44/0.5652/7.8125e-05 | 45/0.5652/7.8125e-05 | 46/0.5652/7.8125e-05 | 47/0.5652/7.8125e-05 | 48/0.5217/7.8125e-05 | 49/0.5217/7.8125e-05 | 50/0.4783/3.90625e-05 | 51/0.4783/3.90625e-05 | 52/0.4783/3.90625e-05 | 53/0.4783/3.90625e-05 | 54/0.4783/3.90625e-05 | 55/0.4783/3.90625e-05 | 56/0.4783/1.953125e-05 | 57/0.4783/1.953125e-05 | 58/0.4783/1.953125e-05 | 59/0.4783/1.953125e-05 | 60/0.4783/1.953125e-05 | 61/0.4783/1.953125e-05 | 62/0.4783/9.765625e-06 | 63/0.4783/9.765625e-06 | 64/0.4783/9.765625e-06 | 65/0.4783/9.765625e-06 | 66/0.4783/9.765625e-06 | 67/0.4783/9.765625e-06 | 68/0.4783/4.8828125e-06 | 69/0.4783/4.8828125e-06 | 70/0.4783/4.8828125e-06 | 71/0.4783/4.8828125e-06 | 72/0.4783/4.8828125e-06 | 73/0.4783/4.8828125e-06 | 74/0.4783/2.44140625e-06 | 75/0.4783/2.44140625e-06 | 76/0.4783/2.44140625e-06 | 77/0.4783/2.44140625e-06 | 78/0.4783/2.44140625e-06 | 79/0.4783/2.44140625e-06 | 80/0.4783/1.220703125e-06 | 81/0.4783/1.220703125e-06 | 82/0.4783/1.220703125e-06 | 83/0.4783/1.220703125e-06 | 84/0.4783/1.220703125e-06 | 85/0.4783/1.220703125e-06 | 86/0.4783/6.103515625e-07 | Accuracy: 0.6667\n",
      "Evaluating mutag dataset using cos_sim method with a percentile of 70 against class members\n",
      "Epoch/val accuracy/lr: "
     ]
    },
    {
     "name": "stderr",
     "output_type": "stream",
     "text": [
      "/opt/conda/lib/python3.10/site-packages/torch_geometric/deprecation.py:26: UserWarning: 'data.DataLoader' is deprecated, use 'loader.DataLoader' instead\n",
      "  warnings.warn(out)\n"
     ]
    },
    {
     "name": "stdout",
     "output_type": "stream",
     "text": [
      "1/0.0000/0.01 | 2/0.7407/0.01 | 3/0.7407/0.01 | 4/0.7407/0.01 | 5/0.7407/0.01 | 6/0.7407/0.01 | 7/0.7407/0.01 | 8/0.7407/0.005 | 9/0.7407/0.005 | 10/0.7407/0.005 | 11/0.7407/0.005 | 12/0.7407/0.005 | 13/0.7407/0.005 | 14/0.7407/0.0025 | 15/0.7407/0.0025 | 16/0.7407/0.0025 | 17/0.7407/0.0025 | 18/0.7407/0.0025 | 19/0.7407/0.0025 | 20/0.7407/0.00125 | 21/0.7407/0.00125 | 22/0.7407/0.00125 | 23/0.7407/0.00125 | 24/0.7407/0.00125 | 25/0.7407/0.00125 | 26/0.7407/0.000625 | 27/0.7407/0.000625 | 28/0.7407/0.000625 | 29/0.7407/0.000625 | 30/0.7407/0.000625 | 31/0.7407/0.000625 | 32/0.7407/0.0003125 | 33/0.7407/0.0003125 | 34/0.7407/0.0003125 | 35/0.7407/0.0003125 | 36/0.7407/0.0003125 | 37/0.7037/0.0003125 | 38/0.7037/0.00015625 | 39/0.7037/0.00015625 | 40/0.7037/0.00015625 | 41/0.6667/0.00015625 | 42/0.6667/0.00015625 | 43/0.6667/0.00015625 | 44/0.6296/7.8125e-05 | 45/0.6296/7.8125e-05 | 46/0.6296/7.8125e-05 | 47/0.6296/7.8125e-05 | 48/0.6296/7.8125e-05 | 49/0.5926/7.8125e-05 | 50/0.5926/3.90625e-05 | 51/0.5926/3.90625e-05 | 52/0.5926/3.90625e-05 | 53/0.5926/3.90625e-05 | 54/0.5926/3.90625e-05 | 55/0.5556/3.90625e-05 | 56/0.5556/1.953125e-05 | 57/0.5556/1.953125e-05 | 58/0.5556/1.953125e-05 | 59/0.5556/1.953125e-05 | 60/0.5556/1.953125e-05 | 61/0.5556/1.953125e-05 | 62/0.5556/9.765625e-06 | 63/0.5556/9.765625e-06 | 64/0.5185/9.765625e-06 | 65/0.5185/9.765625e-06 | 66/0.5185/9.765625e-06 | 67/0.5185/9.765625e-06 | 68/0.5185/4.8828125e-06 | 69/0.5185/4.8828125e-06 | 70/0.5185/4.8828125e-06 | 71/0.5185/4.8828125e-06 | 72/0.5185/4.8828125e-06 | 73/0.5185/4.8828125e-06 | 74/0.5185/2.44140625e-06 | 75/0.5185/2.44140625e-06 | 76/0.5185/2.44140625e-06 | 77/0.5185/2.44140625e-06 | 78/0.5185/2.44140625e-06 | 79/0.5185/2.44140625e-06 | 80/0.5185/1.220703125e-06 | 81/0.5185/1.220703125e-06 | 82/0.5185/1.220703125e-06 | 83/0.5185/1.220703125e-06 | 84/0.5185/1.220703125e-06 | 85/0.5185/1.220703125e-06 | 86/0.5185/6.103515625e-07 | Accuracy: 0.6727\n",
      "Evaluating mutag dataset using cos_sim method with a percentile of 80 against class members\n",
      "Epoch/val accuracy/lr: "
     ]
    },
    {
     "name": "stderr",
     "output_type": "stream",
     "text": [
      "/opt/conda/lib/python3.10/site-packages/torch_geometric/deprecation.py:26: UserWarning: 'data.DataLoader' is deprecated, use 'loader.DataLoader' instead\n",
      "  warnings.warn(out)\n"
     ]
    },
    {
     "name": "stdout",
     "output_type": "stream",
     "text": [
      "1/0.7097/0.01 | 2/0.7097/0.01 | 3/0.7097/0.01 | 4/0.7097/0.01 | 5/0.7097/0.01 | 6/0.7097/0.01 | 7/0.7097/0.01 | 8/0.7097/0.005 | 9/0.7097/0.005 | 10/0.7097/0.005 | 11/0.7097/0.005 | 12/0.7097/0.005 | 13/0.7097/0.005 | 14/0.7097/0.0025 | 15/0.7097/0.0025 | 16/0.6452/0.0025 | 17/0.6452/0.0025 | 18/0.6452/0.0025 | 19/0.6452/0.0025 | 20/0.7097/0.0025 | 21/0.7097/0.0025 | 22/0.7097/0.0025 | 23/0.7097/0.00125 | 24/0.7097/0.00125 | 25/0.7097/0.00125 | 26/0.7097/0.00125 | 27/0.7097/0.00125 | 28/0.7097/0.00125 | 29/0.7097/0.000625 | 30/0.7097/0.000625 | 31/0.6774/0.000625 | 32/0.7097/0.000625 | 33/0.7097/0.000625 | 34/0.7097/0.000625 | 35/0.7097/0.0003125 | 36/0.7097/0.0003125 | 37/0.7097/0.0003125 | 38/0.7097/0.0003125 | 39/0.7097/0.0003125 | 40/0.6774/0.0003125 | 41/0.6774/0.00015625 | 42/0.7097/0.00015625 | 43/0.7097/0.00015625 | 44/0.7097/0.00015625 | 45/0.7097/0.00015625 | 46/0.7097/0.00015625 | 47/0.7097/7.8125e-05 | 48/0.7097/7.8125e-05 | 49/0.7097/7.8125e-05 | 50/0.7097/7.8125e-05 | 51/0.7097/7.8125e-05 | 52/0.7097/7.8125e-05 | 53/0.6774/3.90625e-05 | 54/0.6774/3.90625e-05 | 55/0.6774/3.90625e-05 | 56/0.6774/3.90625e-05 | 57/0.6774/3.90625e-05 | 58/0.6774/3.90625e-05 | 59/0.6774/1.953125e-05 | 60/0.6452/1.953125e-05 | 61/0.6452/1.953125e-05 | 62/0.6452/1.953125e-05 | 63/0.6452/1.953125e-05 | 64/0.6452/1.953125e-05 | 65/0.6452/9.765625e-06 | 66/0.6452/9.765625e-06 | 67/0.6452/9.765625e-06 | 68/0.6452/9.765625e-06 | 69/0.6452/9.765625e-06 | 70/0.6452/9.765625e-06 | 71/0.6452/4.8828125e-06 | 72/0.6452/4.8828125e-06 | 73/0.6452/4.8828125e-06 | 74/0.6452/4.8828125e-06 | 75/0.6452/4.8828125e-06 | 76/0.6452/4.8828125e-06 | 77/0.6452/2.44140625e-06 | 78/0.6452/2.44140625e-06 | 79/0.6452/2.44140625e-06 | 80/0.6452/2.44140625e-06 | 81/0.6452/2.44140625e-06 | 82/0.6452/2.44140625e-06 | 83/0.6452/1.220703125e-06 | 84/0.6452/1.220703125e-06 | 85/0.6452/1.220703125e-06 | 86/0.6452/1.220703125e-06 | 87/0.6452/1.220703125e-06 | 88/0.6452/1.220703125e-06 | 89/0.6452/6.103515625e-07 | Accuracy: 0.6757\n",
      "Evaluating mutag dataset using cos_sim method with a percentile of 90 against class members\n",
      "Epoch/val accuracy/lr: "
     ]
    },
    {
     "name": "stderr",
     "output_type": "stream",
     "text": [
      "/opt/conda/lib/python3.10/site-packages/torch_geometric/deprecation.py:26: UserWarning: 'data.DataLoader' is deprecated, use 'loader.DataLoader' instead\n",
      "  warnings.warn(out)\n"
     ]
    },
    {
     "name": "stdout",
     "output_type": "stream",
     "text": [
      "1/0.6765/0.01 | 2/0.6765/0.01 | 3/0.6765/0.01 | 4/0.6765/0.01 | 5/0.6765/0.01 | 6/0.6765/0.01 | 7/0.6765/0.01 | 8/0.6765/0.005 | 9/0.6765/0.005 | 10/0.6765/0.005 | 11/0.6765/0.005 | 12/0.6765/0.005 | 13/0.6765/0.005 | 14/0.6765/0.0025 | 15/0.6765/0.0025 | 16/0.6765/0.0025 | 17/0.5588/0.0025 | 18/0.5000/0.0025 | 19/0.4706/0.0025 | 20/0.4412/0.0025 | 21/0.4412/0.0025 | 22/0.4412/0.0025 | 23/0.4412/0.0025 | 24/0.4412/0.0025 | 25/0.4118/0.0025 | 26/0.4118/0.0025 | 27/0.4118/0.0025 | 28/0.3824/0.0025 | 29/0.3824/0.0025 | 30/0.3824/0.0025 | 31/0.3824/0.0025 | 32/0.3824/0.0025 | 33/0.3824/0.0025 | 34/0.3824/0.0025 | 35/0.3824/0.00125 | 36/0.3824/0.00125 | 37/0.3824/0.00125 | 38/0.3824/0.00125 | 39/0.3824/0.00125 | 40/0.3824/0.00125 | 41/0.3824/0.000625 | 42/0.3235/0.000625 | 43/0.3824/0.000625 | 44/0.3824/0.000625 | 45/0.3824/0.000625 | 46/0.3824/0.000625 | 47/0.3824/0.000625 | 48/0.3824/0.000625 | 49/0.4412/0.0003125 | 50/0.4412/0.0003125 | 51/0.4412/0.0003125 | 52/0.4412/0.0003125 | 53/0.4412/0.0003125 | 54/0.4412/0.0003125 | 55/0.4412/0.00015625 | 56/0.4412/0.00015625 | 57/0.4412/0.00015625 | 58/0.4412/0.00015625 | 59/0.4412/0.00015625 | 60/0.4412/0.00015625 | 61/0.4412/7.8125e-05 | 62/0.4412/7.8125e-05 | 63/0.4412/7.8125e-05 | 64/0.4412/7.8125e-05 | 65/0.4412/7.8125e-05 | 66/0.4412/7.8125e-05 | 67/0.4412/3.90625e-05 | 68/0.4412/3.90625e-05 | 69/0.4412/3.90625e-05 | 70/0.4412/3.90625e-05 | 71/0.4412/3.90625e-05 | 72/0.4412/3.90625e-05 | 73/0.4412/1.953125e-05 | 74/0.4412/1.953125e-05 | 75/0.4412/1.953125e-05 | 76/0.4412/1.953125e-05 | 77/0.4412/1.953125e-05 | 78/0.4412/1.953125e-05 | 79/0.4412/9.765625e-06 | 80/0.4412/9.765625e-06 | 81/0.4412/9.765625e-06 | 82/0.4412/9.765625e-06 | 83/0.4412/9.765625e-06 | 84/0.4412/9.765625e-06 | 85/0.4412/4.8828125e-06 | 86/0.4412/4.8828125e-06 | 87/0.4412/4.8828125e-06 | 88/0.4412/4.8828125e-06 | 89/0.4412/4.8828125e-06 | 90/0.4412/4.8828125e-06 | 91/0.4412/2.44140625e-06 | 92/0.4412/2.44140625e-06 | 93/0.4412/2.44140625e-06 | 94/0.4412/2.44140625e-06 | 95/0.4412/2.44140625e-06 | 96/0.4412/2.44140625e-06 | 97/0.4412/1.220703125e-06 | 98/0.4412/1.220703125e-06 | 99/0.4412/1.220703125e-06 | 100/0.4412/1.220703125e-06 | 101/0.4412/1.220703125e-06 | 102/0.4412/1.220703125e-06 | 103/0.4412/6.103515625e-07 | Accuracy: 0.6667\n"
     ]
    }
   ],
   "source": [
    "results_dict = {}\n",
    "for name, dataset in dataset_dict.items():\n",
    "    results_dict[name] = {}\n",
    "    for char_method in char_methods:\n",
    "        results_dict[name][char_method] = {}\n",
    "        for pctl in percentiles:\n",
    "            results_dict[name][char_method][pctl] = {}\n",
    "            for pop_method in ['class']:\n",
    "                print(f'Evaluating {name} dataset using {char_method} method with a percentile of {pctl} against {pop_method} members')\n",
    "                results_dict[name][char_method][pctl][pop_method] = gnn_evaluation(\n",
    "                    \"GIN\", \n",
    "                    ds_name = name, \n",
    "                    dataset = dataset, \n",
    "                    train_indices_dict = train_indices_dict, \n",
    "                    _all_or_class = pop_method, \n",
    "                    method = char_method, \n",
    "                    layers = 4, \n",
    "                    hidden = 64, \n",
    "                    num_classes = num_classes_dict[name]\n",
    "                )\n"
   ]
  },
  {
   "cell_type": "code",
   "execution_count": 17,
   "id": "e0b988b4",
   "metadata": {
    "execution": {
     "iopub.execute_input": "2024-06-17T19:24:25.862688Z",
     "iopub.status.busy": "2024-06-17T19:24:25.862254Z",
     "iopub.status.idle": "2024-06-17T19:24:27.071984Z",
     "shell.execute_reply": "2024-06-17T19:24:27.070937Z"
    },
    "papermill": {
     "duration": 2.288629,
     "end_time": "2024-06-17T19:24:27.074760",
     "exception": false,
     "start_time": "2024-06-17T19:24:24.786131",
     "status": "completed"
    },
    "tags": []
   },
   "outputs": [],
   "source": [
    "import pickle\n",
    "with open('/kaggle/working/results_dict.pkl', 'wb') as f:\n",
    "    pickle.dump(results_dict, f)\n",
    "\n",
    "\n"
   ]
  },
  {
   "cell_type": "code",
   "execution_count": 18,
   "id": "c25898e2",
   "metadata": {
    "execution": {
     "iopub.execute_input": "2024-06-17T19:24:28.966108Z",
     "iopub.status.busy": "2024-06-17T19:24:28.965674Z",
     "iopub.status.idle": "2024-06-17T19:24:29.115160Z",
     "shell.execute_reply": "2024-06-17T19:24:29.113974Z"
    },
    "papermill": {
     "duration": 1.086326,
     "end_time": "2024-06-17T19:24:29.119956",
     "exception": false,
     "start_time": "2024-06-17T19:24:28.033630",
     "status": "completed"
    },
    "tags": []
   },
   "outputs": [
    {
     "name": "stdout",
     "output_type": "stream",
     "text": [
      "{40: {'class': {'train': {'train_loss': [tensor(1.8107, grad_fn=<NllLossBackward0>), tensor(1.7770, grad_fn=<NllLossBackward0>), tensor(1.8008, grad_fn=<NllLossBackward0>), tensor(1.6791, grad_fn=<NllLossBackward0>), tensor(1.6892, grad_fn=<NllLossBackward0>), tensor(1.6432, grad_fn=<NllLossBackward0>), tensor(1.6070, grad_fn=<NllLossBackward0>), tensor(1.6401, grad_fn=<NllLossBackward0>), tensor(1.5047, grad_fn=<NllLossBackward0>), tensor(1.5453, grad_fn=<NllLossBackward0>), tensor(1.5768, grad_fn=<NllLossBackward0>), tensor(1.5200, grad_fn=<NllLossBackward0>), tensor(1.5058, grad_fn=<NllLossBackward0>), tensor(1.5276, grad_fn=<NllLossBackward0>), tensor(1.5500, grad_fn=<NllLossBackward0>), tensor(1.5535, grad_fn=<NllLossBackward0>), tensor(1.4741, grad_fn=<NllLossBackward0>), tensor(1.5361, grad_fn=<NllLossBackward0>), tensor(1.4973, grad_fn=<NllLossBackward0>), tensor(1.4607, grad_fn=<NllLossBackward0>), tensor(1.4425, grad_fn=<NllLossBackward0>), tensor(1.4440, grad_fn=<NllLossBackward0>), tensor(1.4662, grad_fn=<NllLossBackward0>), tensor(1.4247, grad_fn=<NllLossBackward0>), tensor(1.4312, grad_fn=<NllLossBackward0>), tensor(1.3735, grad_fn=<NllLossBackward0>), tensor(1.4408, grad_fn=<NllLossBackward0>), tensor(1.4401, grad_fn=<NllLossBackward0>), tensor(1.4766, grad_fn=<NllLossBackward0>), tensor(1.4568, grad_fn=<NllLossBackward0>), tensor(1.4516, grad_fn=<NllLossBackward0>), tensor(1.3455, grad_fn=<NllLossBackward0>), tensor(1.4395, grad_fn=<NllLossBackward0>), tensor(1.3997, grad_fn=<NllLossBackward0>), tensor(1.3754, grad_fn=<NllLossBackward0>), tensor(1.4693, grad_fn=<NllLossBackward0>), tensor(1.3448, grad_fn=<NllLossBackward0>), tensor(1.3341, grad_fn=<NllLossBackward0>), tensor(1.3639, grad_fn=<NllLossBackward0>), tensor(1.4400, grad_fn=<NllLossBackward0>), tensor(1.4059, grad_fn=<NllLossBackward0>), tensor(1.3420, grad_fn=<NllLossBackward0>), tensor(1.3831, grad_fn=<NllLossBackward0>), tensor(1.3927, grad_fn=<NllLossBackward0>), tensor(1.3666, grad_fn=<NllLossBackward0>), tensor(1.3794, grad_fn=<NllLossBackward0>), tensor(1.3441, grad_fn=<NllLossBackward0>), tensor(1.3276, grad_fn=<NllLossBackward0>), tensor(1.3382, grad_fn=<NllLossBackward0>), tensor(1.3458, grad_fn=<NllLossBackward0>), tensor(1.3568, grad_fn=<NllLossBackward0>), tensor(1.3905, grad_fn=<NllLossBackward0>), tensor(1.3063, grad_fn=<NllLossBackward0>), tensor(1.3721, grad_fn=<NllLossBackward0>), tensor(1.3791, grad_fn=<NllLossBackward0>), tensor(1.4625, grad_fn=<NllLossBackward0>), tensor(1.2969, grad_fn=<NllLossBackward0>), tensor(1.3290, grad_fn=<NllLossBackward0>), tensor(1.3439, grad_fn=<NllLossBackward0>), tensor(1.4061, grad_fn=<NllLossBackward0>), tensor(1.3842, grad_fn=<NllLossBackward0>), tensor(1.3814, grad_fn=<NllLossBackward0>), tensor(1.2874, grad_fn=<NllLossBackward0>), tensor(1.4107, grad_fn=<NllLossBackward0>), tensor(1.3531, grad_fn=<NllLossBackward0>), tensor(1.4021, grad_fn=<NllLossBackward0>), tensor(1.3677, grad_fn=<NllLossBackward0>), tensor(1.3566, grad_fn=<NllLossBackward0>), tensor(1.4085, grad_fn=<NllLossBackward0>), tensor(1.3677, grad_fn=<NllLossBackward0>), tensor(1.4200, grad_fn=<NllLossBackward0>), tensor(1.2892, grad_fn=<NllLossBackward0>), tensor(1.3927, grad_fn=<NllLossBackward0>), tensor(1.3633, grad_fn=<NllLossBackward0>), tensor(1.3623, grad_fn=<NllLossBackward0>), tensor(1.3325, grad_fn=<NllLossBackward0>), tensor(1.3755, grad_fn=<NllLossBackward0>), tensor(1.3410, grad_fn=<NllLossBackward0>), tensor(1.3052, grad_fn=<NllLossBackward0>), tensor(1.4391, grad_fn=<NllLossBackward0>), tensor(1.3344, grad_fn=<NllLossBackward0>), tensor(1.3573, grad_fn=<NllLossBackward0>), tensor(1.3783, grad_fn=<NllLossBackward0>), tensor(1.3805, grad_fn=<NllLossBackward0>), tensor(1.3523, grad_fn=<NllLossBackward0>), tensor(1.3275, grad_fn=<NllLossBackward0>)], 'val_acc': [0.08333333333333333, 0.1875, 0.16666666666666666, 0.14583333333333334, 0.14583333333333334, 0.1875, 0.20833333333333334, 0.1875, 0.25, 0.25, 0.25, 0.2708333333333333, 0.22916666666666666, 0.20833333333333334, 0.22916666666666666, 0.20833333333333334, 0.20833333333333334, 0.22916666666666666, 0.22916666666666666, 0.22916666666666666, 0.22916666666666666, 0.25, 0.25, 0.25, 0.1875, 0.1875, 0.16666666666666666, 0.14583333333333334, 0.16666666666666666, 0.16666666666666666, 0.22916666666666666, 0.20833333333333334, 0.22916666666666666, 0.22916666666666666, 0.22916666666666666, 0.20833333333333334, 0.20833333333333334, 0.20833333333333334, 0.1875, 0.1875, 0.1875, 0.1875, 0.1875, 0.1875, 0.1875, 0.1875, 0.1875, 0.16666666666666666, 0.1875, 0.16666666666666666, 0.16666666666666666, 0.1875, 0.16666666666666666, 0.1875, 0.16666666666666666, 0.16666666666666666, 0.16666666666666666, 0.16666666666666666, 0.16666666666666666, 0.16666666666666666, 0.16666666666666666, 0.16666666666666666, 0.16666666666666666, 0.16666666666666666, 0.16666666666666666, 0.16666666666666666, 0.16666666666666666, 0.16666666666666666, 0.16666666666666666, 0.16666666666666666, 0.16666666666666666, 0.16666666666666666, 0.16666666666666666, 0.16666666666666666, 0.16666666666666666, 0.16666666666666666, 0.16666666666666666, 0.16666666666666666, 0.16666666666666666, 0.16666666666666666, 0.16666666666666666, 0.1875, 0.1875, 0.1875, 0.16666666666666666, 0.16666666666666666]}, 'test': {'acc': 0.28888888888888886, 'confusion': {'tp': 104, 'fp': 256, 'tn': None, 'fn': 256}}}}, 50: {'class': {'train': {'train_loss': [tensor(1.8127, grad_fn=<NllLossBackward0>), tensor(1.7835, grad_fn=<NllLossBackward0>), tensor(1.7556, grad_fn=<NllLossBackward0>), tensor(1.7492, grad_fn=<NllLossBackward0>), tensor(1.7522, grad_fn=<NllLossBackward0>), tensor(1.6576, grad_fn=<NllLossBackward0>), tensor(1.6976, grad_fn=<NllLossBackward0>), tensor(1.6935, grad_fn=<NllLossBackward0>), tensor(1.6404, grad_fn=<NllLossBackward0>), tensor(1.6489, grad_fn=<NllLossBackward0>), tensor(1.6948, grad_fn=<NllLossBackward0>), tensor(1.6314, grad_fn=<NllLossBackward0>), tensor(1.6034, grad_fn=<NllLossBackward0>), tensor(1.6028, grad_fn=<NllLossBackward0>), tensor(1.6039, grad_fn=<NllLossBackward0>), tensor(1.5787, grad_fn=<NllLossBackward0>), tensor(1.6016, grad_fn=<NllLossBackward0>), tensor(1.5737, grad_fn=<NllLossBackward0>), tensor(1.5677, grad_fn=<NllLossBackward0>), tensor(1.5296, grad_fn=<NllLossBackward0>), tensor(1.5187, grad_fn=<NllLossBackward0>), tensor(1.5931, grad_fn=<NllLossBackward0>), tensor(1.4854, grad_fn=<NllLossBackward0>), tensor(1.4826, grad_fn=<NllLossBackward0>), tensor(1.4794, grad_fn=<NllLossBackward0>), tensor(1.4784, grad_fn=<NllLossBackward0>), tensor(1.5019, grad_fn=<NllLossBackward0>), tensor(1.4182, grad_fn=<NllLossBackward0>), tensor(1.4619, grad_fn=<NllLossBackward0>), tensor(1.4849, grad_fn=<NllLossBackward0>), tensor(1.4782, grad_fn=<NllLossBackward0>), tensor(1.4353, grad_fn=<NllLossBackward0>), tensor(1.4767, grad_fn=<NllLossBackward0>), tensor(1.3965, grad_fn=<NllLossBackward0>), tensor(1.4910, grad_fn=<NllLossBackward0>), tensor(1.4188, grad_fn=<NllLossBackward0>), tensor(1.5044, grad_fn=<NllLossBackward0>), tensor(1.4908, grad_fn=<NllLossBackward0>), tensor(1.4911, grad_fn=<NllLossBackward0>), tensor(1.5041, grad_fn=<NllLossBackward0>), tensor(1.4559, grad_fn=<NllLossBackward0>), tensor(1.4999, grad_fn=<NllLossBackward0>), tensor(1.4105, grad_fn=<NllLossBackward0>), tensor(1.4477, grad_fn=<NllLossBackward0>), tensor(1.4429, grad_fn=<NllLossBackward0>), tensor(1.4437, grad_fn=<NllLossBackward0>), tensor(1.4536, grad_fn=<NllLossBackward0>), tensor(1.4394, grad_fn=<NllLossBackward0>), tensor(1.4208, grad_fn=<NllLossBackward0>), tensor(1.4903, grad_fn=<NllLossBackward0>), tensor(1.4768, grad_fn=<NllLossBackward0>), tensor(1.4317, grad_fn=<NllLossBackward0>), tensor(1.3935, grad_fn=<NllLossBackward0>), tensor(1.4048, grad_fn=<NllLossBackward0>), tensor(1.3820, grad_fn=<NllLossBackward0>), tensor(1.4089, grad_fn=<NllLossBackward0>), tensor(1.4144, grad_fn=<NllLossBackward0>), tensor(1.3679, grad_fn=<NllLossBackward0>), tensor(1.4545, grad_fn=<NllLossBackward0>), tensor(1.4465, grad_fn=<NllLossBackward0>), tensor(1.4003, grad_fn=<NllLossBackward0>), tensor(1.3811, grad_fn=<NllLossBackward0>), tensor(1.4128, grad_fn=<NllLossBackward0>), tensor(1.3897, grad_fn=<NllLossBackward0>), tensor(1.3348, grad_fn=<NllLossBackward0>), tensor(1.3928, grad_fn=<NllLossBackward0>), tensor(1.4358, grad_fn=<NllLossBackward0>), tensor(1.4455, grad_fn=<NllLossBackward0>), tensor(1.3736, grad_fn=<NllLossBackward0>), tensor(1.4333, grad_fn=<NllLossBackward0>), tensor(1.4101, grad_fn=<NllLossBackward0>), tensor(1.3938, grad_fn=<NllLossBackward0>), tensor(1.4618, grad_fn=<NllLossBackward0>), tensor(1.4159, grad_fn=<NllLossBackward0>), tensor(1.3962, grad_fn=<NllLossBackward0>), tensor(1.4541, grad_fn=<NllLossBackward0>), tensor(1.4211, grad_fn=<NllLossBackward0>), tensor(1.4856, grad_fn=<NllLossBackward0>), tensor(1.3561, grad_fn=<NllLossBackward0>), tensor(1.3294, grad_fn=<NllLossBackward0>), tensor(1.4459, grad_fn=<NllLossBackward0>), tensor(1.3861, grad_fn=<NllLossBackward0>), tensor(1.4118, grad_fn=<NllLossBackward0>), tensor(1.4672, grad_fn=<NllLossBackward0>), tensor(1.4467, grad_fn=<NllLossBackward0>), tensor(1.4424, grad_fn=<NllLossBackward0>), tensor(1.4406, grad_fn=<NllLossBackward0>), tensor(1.3908, grad_fn=<NllLossBackward0>), tensor(1.4425, grad_fn=<NllLossBackward0>), tensor(1.4091, grad_fn=<NllLossBackward0>), tensor(1.4382, grad_fn=<NllLossBackward0>), tensor(1.4225, grad_fn=<NllLossBackward0>), tensor(1.3992, grad_fn=<NllLossBackward0>)], 'val_acc': [0.11666666666666667, 0.15, 0.15, 0.15, 0.15, 0.15, 0.15, 0.15, 0.16666666666666666, 0.15, 0.11666666666666667, 0.13333333333333333, 0.15, 0.16666666666666666, 0.13333333333333333, 0.2, 0.23333333333333334, 0.2, 0.2, 0.16666666666666666, 0.13333333333333333, 0.13333333333333333, 0.15, 0.16666666666666666, 0.16666666666666666, 0.13333333333333333, 0.11666666666666667, 0.11666666666666667, 0.11666666666666667, 0.11666666666666667, 0.11666666666666667, 0.11666666666666667, 0.08333333333333333, 0.08333333333333333, 0.08333333333333333, 0.1, 0.08333333333333333, 0.06666666666666667, 0.06666666666666667, 0.06666666666666667, 0.06666666666666667, 0.1, 0.11666666666666667, 0.11666666666666667, 0.11666666666666667, 0.13333333333333333, 0.15, 0.15, 0.15, 0.15, 0.15, 0.15, 0.15, 0.15, 0.15, 0.16666666666666666, 0.16666666666666666, 0.18333333333333332, 0.18333333333333332, 0.18333333333333332, 0.18333333333333332, 0.18333333333333332, 0.18333333333333332, 0.18333333333333332, 0.18333333333333332, 0.18333333333333332, 0.18333333333333332, 0.18333333333333332, 0.18333333333333332, 0.18333333333333332, 0.18333333333333332, 0.18333333333333332, 0.18333333333333332, 0.18333333333333332, 0.18333333333333332, 0.18333333333333332, 0.18333333333333332, 0.18333333333333332, 0.18333333333333332, 0.18333333333333332, 0.18333333333333332, 0.18333333333333332, 0.18333333333333332, 0.18333333333333332, 0.18333333333333332, 0.18333333333333332, 0.18333333333333332, 0.18333333333333332, 0.18333333333333332, 0.16666666666666666, 0.18333333333333332, 0.16666666666666666, 0.16666666666666666]}, 'test': {'acc': 0.31, 'confusion': {'tp': 93, 'fp': 207, 'tn': None, 'fn': 207}}}}, 60: {'class': {'train': {'train_loss': [tensor(1.8249, grad_fn=<NllLossBackward0>), tensor(1.7809, grad_fn=<NllLossBackward0>), tensor(1.7688, grad_fn=<NllLossBackward0>), tensor(1.7156, grad_fn=<NllLossBackward0>), tensor(1.6837, grad_fn=<NllLossBackward0>), tensor(1.7443, grad_fn=<NllLossBackward0>), tensor(1.7090, grad_fn=<NllLossBackward0>), tensor(1.6284, grad_fn=<NllLossBackward0>), tensor(1.6573, grad_fn=<NllLossBackward0>), tensor(1.6350, grad_fn=<NllLossBackward0>), tensor(1.5673, grad_fn=<NllLossBackward0>), tensor(1.5500, grad_fn=<NllLossBackward0>), tensor(1.5063, grad_fn=<NllLossBackward0>), tensor(1.5774, grad_fn=<NllLossBackward0>), tensor(1.5359, grad_fn=<NllLossBackward0>), tensor(1.6328, grad_fn=<NllLossBackward0>), tensor(1.5066, grad_fn=<NllLossBackward0>), tensor(1.5178, grad_fn=<NllLossBackward0>), tensor(1.4835, grad_fn=<NllLossBackward0>), tensor(1.5001, grad_fn=<NllLossBackward0>), tensor(1.4490, grad_fn=<NllLossBackward0>), tensor(1.3743, grad_fn=<NllLossBackward0>), tensor(1.5936, grad_fn=<NllLossBackward0>), tensor(1.5019, grad_fn=<NllLossBackward0>), tensor(1.5264, grad_fn=<NllLossBackward0>), tensor(1.4881, grad_fn=<NllLossBackward0>), tensor(1.4397, grad_fn=<NllLossBackward0>), tensor(1.3941, grad_fn=<NllLossBackward0>), tensor(1.4270, grad_fn=<NllLossBackward0>), tensor(1.3343, grad_fn=<NllLossBackward0>), tensor(1.4087, grad_fn=<NllLossBackward0>), tensor(1.3748, grad_fn=<NllLossBackward0>), tensor(1.3752, grad_fn=<NllLossBackward0>), tensor(1.3568, grad_fn=<NllLossBackward0>), tensor(1.3925, grad_fn=<NllLossBackward0>), tensor(1.4067, grad_fn=<NllLossBackward0>), tensor(1.4141, grad_fn=<NllLossBackward0>), tensor(1.4749, grad_fn=<NllLossBackward0>), tensor(1.4296, grad_fn=<NllLossBackward0>), tensor(1.3655, grad_fn=<NllLossBackward0>), tensor(1.3311, grad_fn=<NllLossBackward0>), tensor(1.3373, grad_fn=<NllLossBackward0>), tensor(1.3430, grad_fn=<NllLossBackward0>), tensor(1.3691, grad_fn=<NllLossBackward0>), tensor(1.3041, grad_fn=<NllLossBackward0>), tensor(1.3098, grad_fn=<NllLossBackward0>), tensor(1.3293, grad_fn=<NllLossBackward0>), tensor(1.3760, grad_fn=<NllLossBackward0>), tensor(1.3786, grad_fn=<NllLossBackward0>), tensor(1.2771, grad_fn=<NllLossBackward0>), tensor(1.3400, grad_fn=<NllLossBackward0>), tensor(1.3422, grad_fn=<NllLossBackward0>), tensor(1.2505, grad_fn=<NllLossBackward0>), tensor(1.3245, grad_fn=<NllLossBackward0>), tensor(1.3797, grad_fn=<NllLossBackward0>), tensor(1.4242, grad_fn=<NllLossBackward0>), tensor(1.2968, grad_fn=<NllLossBackward0>), tensor(1.4703, grad_fn=<NllLossBackward0>), tensor(1.2999, grad_fn=<NllLossBackward0>), tensor(1.3786, grad_fn=<NllLossBackward0>), tensor(1.3384, grad_fn=<NllLossBackward0>), tensor(1.4383, grad_fn=<NllLossBackward0>), tensor(1.2799, grad_fn=<NllLossBackward0>), tensor(1.3025, grad_fn=<NllLossBackward0>), tensor(1.3107, grad_fn=<NllLossBackward0>), tensor(1.3185, grad_fn=<NllLossBackward0>), tensor(1.3250, grad_fn=<NllLossBackward0>), tensor(1.3478, grad_fn=<NllLossBackward0>), tensor(1.2443, grad_fn=<NllLossBackward0>), tensor(1.3878, grad_fn=<NllLossBackward0>), tensor(1.3765, grad_fn=<NllLossBackward0>), tensor(1.3440, grad_fn=<NllLossBackward0>), tensor(1.3871, grad_fn=<NllLossBackward0>), tensor(1.2497, grad_fn=<NllLossBackward0>), tensor(1.3133, grad_fn=<NllLossBackward0>), tensor(1.3856, grad_fn=<NllLossBackward0>), tensor(1.3176, grad_fn=<NllLossBackward0>), tensor(1.3246, grad_fn=<NllLossBackward0>), tensor(1.4295, grad_fn=<NllLossBackward0>), tensor(1.3631, grad_fn=<NllLossBackward0>), tensor(1.2988, grad_fn=<NllLossBackward0>), tensor(1.3915, grad_fn=<NllLossBackward0>), tensor(1.2639, grad_fn=<NllLossBackward0>), tensor(1.3852, grad_fn=<NllLossBackward0>), tensor(1.3472, grad_fn=<NllLossBackward0>), tensor(1.3004, grad_fn=<NllLossBackward0>), tensor(1.3110, grad_fn=<NllLossBackward0>), tensor(1.3213, grad_fn=<NllLossBackward0>), tensor(1.2015, grad_fn=<NllLossBackward0>), tensor(1.2368, grad_fn=<NllLossBackward0>), tensor(1.3620, grad_fn=<NllLossBackward0>), tensor(1.3322, grad_fn=<NllLossBackward0>), tensor(1.3262, grad_fn=<NllLossBackward0>), tensor(1.2730, grad_fn=<NllLossBackward0>), tensor(1.3253, grad_fn=<NllLossBackward0>), tensor(1.4016, grad_fn=<NllLossBackward0>)], 'val_acc': [0.19444444444444445, 0.19444444444444445, 0.2361111111111111, 0.2222222222222222, 0.25, 0.2222222222222222, 0.18055555555555555, 0.16666666666666666, 0.16666666666666666, 0.16666666666666666, 0.125, 0.18055555555555555, 0.20833333333333334, 0.19444444444444445, 0.2222222222222222, 0.2222222222222222, 0.2222222222222222, 0.2361111111111111, 0.2361111111111111, 0.2361111111111111, 0.2638888888888889, 0.2638888888888889, 0.2777777777777778, 0.2777777777777778, 0.2638888888888889, 0.2916666666666667, 0.2777777777777778, 0.2916666666666667, 0.3055555555555556, 0.2777777777777778, 0.25, 0.2638888888888889, 0.25, 0.2777777777777778, 0.3055555555555556, 0.3055555555555556, 0.2916666666666667, 0.2916666666666667, 0.2638888888888889, 0.2361111111111111, 0.2638888888888889, 0.2638888888888889, 0.2638888888888889, 0.2638888888888889, 0.25, 0.25, 0.25, 0.25, 0.25, 0.2638888888888889, 0.2777777777777778, 0.2916666666666667, 0.2777777777777778, 0.2777777777777778, 0.2777777777777778, 0.3055555555555556, 0.3055555555555556, 0.3055555555555556, 0.3194444444444444, 0.3055555555555556, 0.3055555555555556, 0.3055555555555556, 0.3055555555555556, 0.3194444444444444, 0.3194444444444444, 0.3055555555555556, 0.3055555555555556, 0.3194444444444444, 0.3194444444444444, 0.3194444444444444, 0.3194444444444444, 0.3194444444444444, 0.3194444444444444, 0.3194444444444444, 0.3194444444444444, 0.3194444444444444, 0.3194444444444444, 0.3194444444444444, 0.3194444444444444, 0.3194444444444444, 0.3472222222222222, 0.3472222222222222, 0.3472222222222222, 0.3472222222222222, 0.3472222222222222, 0.3472222222222222, 0.3611111111111111, 0.3611111111111111, 0.3611111111111111, 0.3611111111111111, 0.3611111111111111, 0.3611111111111111, 0.3611111111111111, 0.3472222222222222, 0.3472222222222222, 0.3333333333333333]}, 'test': {'acc': 0.29583333333333334, 'confusion': {'tp': 71, 'fp': 169, 'tn': None, 'fn': 169}}}}, 70: {'class': {'train': {'train_loss': [tensor(1.7967, grad_fn=<NllLossBackward0>), tensor(1.7661, grad_fn=<NllLossBackward0>), tensor(1.7778, grad_fn=<NllLossBackward0>), tensor(1.7521, grad_fn=<NllLossBackward0>), tensor(1.7277, grad_fn=<NllLossBackward0>), tensor(1.7282, grad_fn=<NllLossBackward0>), tensor(1.7628, grad_fn=<NllLossBackward0>), tensor(1.6932, grad_fn=<NllLossBackward0>), tensor(1.6739, grad_fn=<NllLossBackward0>), tensor(1.6662, grad_fn=<NllLossBackward0>), tensor(1.6566, grad_fn=<NllLossBackward0>), tensor(1.7599, grad_fn=<NllLossBackward0>), tensor(1.5598, grad_fn=<NllLossBackward0>), tensor(1.6204, grad_fn=<NllLossBackward0>), tensor(1.5849, grad_fn=<NllLossBackward0>), tensor(1.5927, grad_fn=<NllLossBackward0>), tensor(1.6628, grad_fn=<NllLossBackward0>), tensor(1.5428, grad_fn=<NllLossBackward0>), tensor(1.5744, grad_fn=<NllLossBackward0>), tensor(1.7054, grad_fn=<NllLossBackward0>), tensor(1.6089, grad_fn=<NllLossBackward0>), tensor(1.5031, grad_fn=<NllLossBackward0>), tensor(1.5204, grad_fn=<NllLossBackward0>), tensor(1.5515, grad_fn=<NllLossBackward0>), tensor(1.6399, grad_fn=<NllLossBackward0>), tensor(1.5283, grad_fn=<NllLossBackward0>), tensor(1.5333, grad_fn=<NllLossBackward0>), tensor(1.6006, grad_fn=<NllLossBackward0>), tensor(1.5476, grad_fn=<NllLossBackward0>), tensor(1.6240, grad_fn=<NllLossBackward0>), tensor(1.5069, grad_fn=<NllLossBackward0>), tensor(1.5166, grad_fn=<NllLossBackward0>), tensor(1.5024, grad_fn=<NllLossBackward0>), tensor(1.5835, grad_fn=<NllLossBackward0>), tensor(1.6372, grad_fn=<NllLossBackward0>), tensor(1.5623, grad_fn=<NllLossBackward0>), tensor(1.5134, grad_fn=<NllLossBackward0>), tensor(1.5450, grad_fn=<NllLossBackward0>), tensor(1.5886, grad_fn=<NllLossBackward0>), tensor(1.5543, grad_fn=<NllLossBackward0>), tensor(1.5430, grad_fn=<NllLossBackward0>), tensor(1.5511, grad_fn=<NllLossBackward0>), tensor(1.4901, grad_fn=<NllLossBackward0>), tensor(1.5896, grad_fn=<NllLossBackward0>), tensor(1.5499, grad_fn=<NllLossBackward0>), tensor(1.5537, grad_fn=<NllLossBackward0>), tensor(1.6147, grad_fn=<NllLossBackward0>), tensor(1.5367, grad_fn=<NllLossBackward0>), tensor(1.6022, grad_fn=<NllLossBackward0>), tensor(1.5242, grad_fn=<NllLossBackward0>), tensor(1.5375, grad_fn=<NllLossBackward0>), tensor(1.5297, grad_fn=<NllLossBackward0>), tensor(1.5552, grad_fn=<NllLossBackward0>), tensor(1.4986, grad_fn=<NllLossBackward0>), tensor(1.5097, grad_fn=<NllLossBackward0>), tensor(1.5092, grad_fn=<NllLossBackward0>), tensor(1.5355, grad_fn=<NllLossBackward0>), tensor(1.5053, grad_fn=<NllLossBackward0>), tensor(1.5250, grad_fn=<NllLossBackward0>), tensor(1.5794, grad_fn=<NllLossBackward0>), tensor(1.5060, grad_fn=<NllLossBackward0>), tensor(1.4717, grad_fn=<NllLossBackward0>), tensor(1.5635, grad_fn=<NllLossBackward0>), tensor(1.5180, grad_fn=<NllLossBackward0>), tensor(1.4946, grad_fn=<NllLossBackward0>), tensor(1.4885, grad_fn=<NllLossBackward0>), tensor(1.5282, grad_fn=<NllLossBackward0>), tensor(1.5796, grad_fn=<NllLossBackward0>), tensor(1.6217, grad_fn=<NllLossBackward0>), tensor(1.5604, grad_fn=<NllLossBackward0>), tensor(1.5671, grad_fn=<NllLossBackward0>), tensor(1.6025, grad_fn=<NllLossBackward0>), tensor(1.4902, grad_fn=<NllLossBackward0>), tensor(1.4494, grad_fn=<NllLossBackward0>), tensor(1.4782, grad_fn=<NllLossBackward0>), tensor(1.5370, grad_fn=<NllLossBackward0>), tensor(1.5948, grad_fn=<NllLossBackward0>), tensor(1.5053, grad_fn=<NllLossBackward0>), tensor(1.5612, grad_fn=<NllLossBackward0>), tensor(1.5288, grad_fn=<NllLossBackward0>), tensor(1.5787, grad_fn=<NllLossBackward0>), tensor(1.5320, grad_fn=<NllLossBackward0>), tensor(1.5582, grad_fn=<NllLossBackward0>), tensor(1.5444, grad_fn=<NllLossBackward0>), tensor(1.5565, grad_fn=<NllLossBackward0>), tensor(1.5137, grad_fn=<NllLossBackward0>)], 'val_acc': [0.08333333333333333, 0.14285714285714285, 0.17857142857142858, 0.20238095238095238, 0.20238095238095238, 0.20238095238095238, 0.19047619047619047, 0.19047619047619047, 0.20238095238095238, 0.17857142857142858, 0.17857142857142858, 0.21428571428571427, 0.19047619047619047, 0.21428571428571427, 0.25, 0.2619047619047619, 0.23809523809523808, 0.21428571428571427, 0.19047619047619047, 0.20238095238095238, 0.19047619047619047, 0.2261904761904762, 0.25, 0.23809523809523808, 0.21428571428571427, 0.17857142857142858, 0.17857142857142858, 0.17857142857142858, 0.17857142857142858, 0.17857142857142858, 0.20238095238095238, 0.2261904761904762, 0.21428571428571427, 0.21428571428571427, 0.21428571428571427, 0.2261904761904762, 0.2261904761904762, 0.2261904761904762, 0.2261904761904762, 0.23809523809523808, 0.23809523809523808, 0.23809523809523808, 0.23809523809523808, 0.23809523809523808, 0.2619047619047619, 0.2857142857142857, 0.2857142857142857, 0.27380952380952384, 0.2857142857142857, 0.2976190476190476, 0.2857142857142857, 0.2976190476190476, 0.2976190476190476, 0.2857142857142857, 0.2976190476190476, 0.30952380952380953, 0.30952380952380953, 0.30952380952380953, 0.2976190476190476, 0.2976190476190476, 0.2976190476190476, 0.32142857142857145, 0.32142857142857145, 0.30952380952380953, 0.30952380952380953, 0.30952380952380953, 0.30952380952380953, 0.30952380952380953, 0.30952380952380953, 0.30952380952380953, 0.30952380952380953, 0.30952380952380953, 0.30952380952380953, 0.30952380952380953, 0.32142857142857145, 0.32142857142857145, 0.30952380952380953, 0.30952380952380953, 0.30952380952380953, 0.30952380952380953, 0.30952380952380953, 0.30952380952380953, 0.30952380952380953, 0.30952380952380953, 0.30952380952380953, 0.2976190476190476]}, 'test': {'acc': 0.3333333333333333, 'confusion': {'tp': 60, 'fp': 120, 'tn': None, 'fn': 120}}}}, 80: {'class': {'train': {'train_loss': [tensor(1.8580, grad_fn=<NllLossBackward0>), tensor(1.7767, grad_fn=<NllLossBackward0>), tensor(1.7304, grad_fn=<NllLossBackward0>), tensor(1.7097, grad_fn=<NllLossBackward0>), tensor(1.7158, grad_fn=<NllLossBackward0>), tensor(1.7262, grad_fn=<NllLossBackward0>), tensor(1.6491, grad_fn=<NllLossBackward0>), tensor(1.8391, grad_fn=<NllLossBackward0>), tensor(1.7344, grad_fn=<NllLossBackward0>), tensor(1.6279, grad_fn=<NllLossBackward0>), tensor(1.8068, grad_fn=<NllLossBackward0>), tensor(1.6655, grad_fn=<NllLossBackward0>), tensor(1.6784, grad_fn=<NllLossBackward0>), tensor(1.6505, grad_fn=<NllLossBackward0>), tensor(1.5773, grad_fn=<NllLossBackward0>), tensor(1.6204, grad_fn=<NllLossBackward0>), tensor(1.6200, grad_fn=<NllLossBackward0>), tensor(1.6387, grad_fn=<NllLossBackward0>), tensor(1.6012, grad_fn=<NllLossBackward0>), tensor(1.6621, grad_fn=<NllLossBackward0>), tensor(1.5656, grad_fn=<NllLossBackward0>), tensor(1.5496, grad_fn=<NllLossBackward0>), tensor(1.5353, grad_fn=<NllLossBackward0>), tensor(1.5307, grad_fn=<NllLossBackward0>), tensor(1.5604, grad_fn=<NllLossBackward0>), tensor(1.6086, grad_fn=<NllLossBackward0>), tensor(1.4947, grad_fn=<NllLossBackward0>), tensor(1.6256, grad_fn=<NllLossBackward0>), tensor(1.5913, grad_fn=<NllLossBackward0>), tensor(1.5572, grad_fn=<NllLossBackward0>), tensor(1.5518, grad_fn=<NllLossBackward0>), tensor(1.5358, grad_fn=<NllLossBackward0>), tensor(1.4443, grad_fn=<NllLossBackward0>), tensor(1.5440, grad_fn=<NllLossBackward0>), tensor(1.5000, grad_fn=<NllLossBackward0>), tensor(1.4991, grad_fn=<NllLossBackward0>), tensor(1.5387, grad_fn=<NllLossBackward0>), tensor(1.4855, grad_fn=<NllLossBackward0>), tensor(1.5428, grad_fn=<NllLossBackward0>), tensor(1.5193, grad_fn=<NllLossBackward0>), tensor(1.4771, grad_fn=<NllLossBackward0>), tensor(1.5485, grad_fn=<NllLossBackward0>), tensor(1.5340, grad_fn=<NllLossBackward0>), tensor(1.5524, grad_fn=<NllLossBackward0>), tensor(1.5839, grad_fn=<NllLossBackward0>), tensor(1.5531, grad_fn=<NllLossBackward0>), tensor(1.4678, grad_fn=<NllLossBackward0>), tensor(1.5114, grad_fn=<NllLossBackward0>), tensor(1.5300, grad_fn=<NllLossBackward0>), tensor(1.5449, grad_fn=<NllLossBackward0>), tensor(1.4736, grad_fn=<NllLossBackward0>), tensor(1.4982, grad_fn=<NllLossBackward0>), tensor(1.4209, grad_fn=<NllLossBackward0>), tensor(1.5096, grad_fn=<NllLossBackward0>), tensor(1.5016, grad_fn=<NllLossBackward0>), tensor(1.5347, grad_fn=<NllLossBackward0>), tensor(1.5734, grad_fn=<NllLossBackward0>), tensor(1.5472, grad_fn=<NllLossBackward0>), tensor(1.4921, grad_fn=<NllLossBackward0>), tensor(1.5505, grad_fn=<NllLossBackward0>), tensor(1.4816, grad_fn=<NllLossBackward0>), tensor(1.4682, grad_fn=<NllLossBackward0>), tensor(1.6001, grad_fn=<NllLossBackward0>), tensor(1.5254, grad_fn=<NllLossBackward0>), tensor(1.5316, grad_fn=<NllLossBackward0>), tensor(1.5093, grad_fn=<NllLossBackward0>), tensor(1.5151, grad_fn=<NllLossBackward0>), tensor(1.5020, grad_fn=<NllLossBackward0>), tensor(1.5123, grad_fn=<NllLossBackward0>), tensor(1.5493, grad_fn=<NllLossBackward0>), tensor(1.5371, grad_fn=<NllLossBackward0>), tensor(1.4950, grad_fn=<NllLossBackward0>), tensor(1.4731, grad_fn=<NllLossBackward0>), tensor(1.5447, grad_fn=<NllLossBackward0>), tensor(1.4864, grad_fn=<NllLossBackward0>), tensor(1.4832, grad_fn=<NllLossBackward0>), tensor(1.4927, grad_fn=<NllLossBackward0>), tensor(1.4721, grad_fn=<NllLossBackward0>), tensor(1.4781, grad_fn=<NllLossBackward0>), tensor(1.5106, grad_fn=<NllLossBackward0>), tensor(1.5264, grad_fn=<NllLossBackward0>), tensor(1.5466, grad_fn=<NllLossBackward0>), tensor(1.5148, grad_fn=<NllLossBackward0>), tensor(1.4880, grad_fn=<NllLossBackward0>), tensor(1.4874, grad_fn=<NllLossBackward0>), tensor(1.4583, grad_fn=<NllLossBackward0>)], 'val_acc': [0.125, 0.125, 0.125, 0.125, 0.13541666666666666, 0.14583333333333334, 0.14583333333333334, 0.14583333333333334, 0.1875, 0.1875, 0.19791666666666666, 0.22916666666666666, 0.23958333333333334, 0.21875, 0.17708333333333334, 0.1875, 0.15625, 0.16666666666666666, 0.19791666666666666, 0.19791666666666666, 0.21875, 0.19791666666666666, 0.21875, 0.22916666666666666, 0.23958333333333334, 0.2604166666666667, 0.25, 0.3125, 0.3333333333333333, 0.34375, 0.3541666666666667, 0.34375, 0.3645833333333333, 0.375, 0.3645833333333333, 0.3645833333333333, 0.3541666666666667, 0.3541666666666667, 0.3645833333333333, 0.375, 0.375, 0.3958333333333333, 0.3854166666666667, 0.4166666666666667, 0.40625, 0.4166666666666667, 0.4166666666666667, 0.4166666666666667, 0.40625, 0.4166666666666667, 0.40625, 0.40625, 0.4166666666666667, 0.40625, 0.4166666666666667, 0.4270833333333333, 0.4375, 0.4375, 0.40625, 0.3958333333333333, 0.40625, 0.4375, 0.4270833333333333, 0.4166666666666667, 0.4166666666666667, 0.40625, 0.40625, 0.40625, 0.4166666666666667, 0.4166666666666667, 0.4166666666666667, 0.40625, 0.4166666666666667, 0.4166666666666667, 0.4166666666666667, 0.4166666666666667, 0.40625, 0.4166666666666667, 0.40625, 0.40625, 0.40625, 0.3958333333333333, 0.40625, 0.3958333333333333, 0.3958333333333333, 0.3958333333333333]}, 'test': {'acc': 0.3, 'confusion': {'tp': 36, 'fp': 84, 'tn': None, 'fn': 84}}}}, 90: {'class': {'train': {'train_loss': [tensor(1.8502, grad_fn=<NllLossBackward0>), tensor(1.8156, grad_fn=<NllLossBackward0>), tensor(1.8289, grad_fn=<NllLossBackward0>), tensor(1.7750, grad_fn=<NllLossBackward0>), tensor(1.6894, grad_fn=<NllLossBackward0>), tensor(1.7118, grad_fn=<NllLossBackward0>), tensor(1.7419, grad_fn=<NllLossBackward0>), tensor(1.6214, grad_fn=<NllLossBackward0>), tensor(1.6651, grad_fn=<NllLossBackward0>), tensor(1.7107, grad_fn=<NllLossBackward0>), tensor(1.6461, grad_fn=<NllLossBackward0>), tensor(1.5932, grad_fn=<NllLossBackward0>), tensor(1.7368, grad_fn=<NllLossBackward0>), tensor(1.5413, grad_fn=<NllLossBackward0>), tensor(1.7101, grad_fn=<NllLossBackward0>), tensor(1.6749, grad_fn=<NllLossBackward0>), tensor(1.6676, grad_fn=<NllLossBackward0>), tensor(1.6455, grad_fn=<NllLossBackward0>), tensor(1.6549, grad_fn=<NllLossBackward0>), tensor(1.6115, grad_fn=<NllLossBackward0>), tensor(1.6081, grad_fn=<NllLossBackward0>), tensor(1.5909, grad_fn=<NllLossBackward0>), tensor(1.6440, grad_fn=<NllLossBackward0>), tensor(1.5200, grad_fn=<NllLossBackward0>), tensor(1.5549, grad_fn=<NllLossBackward0>), tensor(1.5459, grad_fn=<NllLossBackward0>), tensor(1.5785, grad_fn=<NllLossBackward0>), tensor(1.5817, grad_fn=<NllLossBackward0>), tensor(1.6262, grad_fn=<NllLossBackward0>), tensor(1.6036, grad_fn=<NllLossBackward0>), tensor(1.5549, grad_fn=<NllLossBackward0>), tensor(1.6439, grad_fn=<NllLossBackward0>), tensor(1.5294, grad_fn=<NllLossBackward0>), tensor(1.4764, grad_fn=<NllLossBackward0>), tensor(1.5365, grad_fn=<NllLossBackward0>), tensor(1.6053, grad_fn=<NllLossBackward0>), tensor(1.5482, grad_fn=<NllLossBackward0>), tensor(1.6528, grad_fn=<NllLossBackward0>), tensor(1.6004, grad_fn=<NllLossBackward0>), tensor(1.5227, grad_fn=<NllLossBackward0>), tensor(1.5423, grad_fn=<NllLossBackward0>), tensor(1.6138, grad_fn=<NllLossBackward0>), tensor(1.5277, grad_fn=<NllLossBackward0>), tensor(1.5827, grad_fn=<NllLossBackward0>), tensor(1.6276, grad_fn=<NllLossBackward0>), tensor(1.4746, grad_fn=<NllLossBackward0>), tensor(1.5815, grad_fn=<NllLossBackward0>), tensor(1.5394, grad_fn=<NllLossBackward0>), tensor(1.5684, grad_fn=<NllLossBackward0>), tensor(1.5591, grad_fn=<NllLossBackward0>), tensor(1.5417, grad_fn=<NllLossBackward0>), tensor(1.5396, grad_fn=<NllLossBackward0>), tensor(1.5344, grad_fn=<NllLossBackward0>), tensor(1.5146, grad_fn=<NllLossBackward0>), tensor(1.5993, grad_fn=<NllLossBackward0>), tensor(1.5803, grad_fn=<NllLossBackward0>), tensor(1.4197, grad_fn=<NllLossBackward0>), tensor(1.5736, grad_fn=<NllLossBackward0>), tensor(1.5076, grad_fn=<NllLossBackward0>), tensor(1.5647, grad_fn=<NllLossBackward0>), tensor(1.5268, grad_fn=<NllLossBackward0>), tensor(1.5366, grad_fn=<NllLossBackward0>), tensor(1.4916, grad_fn=<NllLossBackward0>), tensor(1.5840, grad_fn=<NllLossBackward0>), tensor(1.5122, grad_fn=<NllLossBackward0>), tensor(1.5423, grad_fn=<NllLossBackward0>), tensor(1.5389, grad_fn=<NllLossBackward0>), tensor(1.5187, grad_fn=<NllLossBackward0>), tensor(1.5665, grad_fn=<NllLossBackward0>), tensor(1.5783, grad_fn=<NllLossBackward0>), tensor(1.6228, grad_fn=<NllLossBackward0>), tensor(1.4884, grad_fn=<NllLossBackward0>), tensor(1.5719, grad_fn=<NllLossBackward0>), tensor(1.5433, grad_fn=<NllLossBackward0>), tensor(1.5687, grad_fn=<NllLossBackward0>), tensor(1.5110, grad_fn=<NllLossBackward0>), tensor(1.5482, grad_fn=<NllLossBackward0>), tensor(1.6126, grad_fn=<NllLossBackward0>), tensor(1.5831, grad_fn=<NllLossBackward0>), tensor(1.5630, grad_fn=<NllLossBackward0>), tensor(1.5271, grad_fn=<NllLossBackward0>), tensor(1.5547, grad_fn=<NllLossBackward0>), tensor(1.5329, grad_fn=<NllLossBackward0>), tensor(1.5432, grad_fn=<NllLossBackward0>), tensor(1.6688, grad_fn=<NllLossBackward0>), tensor(1.5264, grad_fn=<NllLossBackward0>), tensor(1.5653, grad_fn=<NllLossBackward0>)], 'val_acc': [0.1388888888888889, 0.12962962962962962, 0.12962962962962962, 0.1388888888888889, 0.12962962962962962, 0.1388888888888889, 0.14814814814814814, 0.14814814814814814, 0.17592592592592593, 0.1388888888888889, 0.1574074074074074, 0.14814814814814814, 0.14814814814814814, 0.1574074074074074, 0.19444444444444445, 0.2037037037037037, 0.17592592592592593, 0.21296296296296297, 0.21296296296296297, 0.25, 0.25925925925925924, 0.26851851851851855, 0.2777777777777778, 0.25, 0.25925925925925924, 0.2777777777777778, 0.26851851851851855, 0.2777777777777778, 0.26851851851851855, 0.2777777777777778, 0.28703703703703703, 0.2962962962962963, 0.3055555555555556, 0.3055555555555556, 0.2962962962962963, 0.2962962962962963, 0.2962962962962963, 0.2962962962962963, 0.2962962962962963, 0.2962962962962963, 0.2962962962962963, 0.3055555555555556, 0.3055555555555556, 0.2962962962962963, 0.2962962962962963, 0.3055555555555556, 0.28703703703703703, 0.2962962962962963, 0.2962962962962963, 0.3055555555555556, 0.3055555555555556, 0.2962962962962963, 0.2962962962962963, 0.2962962962962963, 0.2962962962962963, 0.2962962962962963, 0.2962962962962963, 0.2962962962962963, 0.2962962962962963, 0.28703703703703703, 0.28703703703703703, 0.28703703703703703, 0.28703703703703703, 0.28703703703703703, 0.28703703703703703, 0.2962962962962963, 0.2962962962962963, 0.2962962962962963, 0.2962962962962963, 0.2962962962962963, 0.2962962962962963, 0.2962962962962963, 0.2962962962962963, 0.2962962962962963, 0.2962962962962963, 0.2962962962962963, 0.2962962962962963, 0.2962962962962963, 0.2962962962962963, 0.2962962962962963, 0.2962962962962963, 0.2962962962962963, 0.2962962962962963, 0.2962962962962963, 0.2962962962962963, 0.2962962962962963, 0.2962962962962963]}, 'test': {'acc': 0.25, 'confusion': {'tp': 15, 'fp': 45, 'tn': None, 'fn': 45}}}}}\n"
     ]
    }
   ],
   "source": [
    "print(results_dict['enzymes']['random'])"
   ]
  },
  {
   "cell_type": "code",
   "execution_count": null,
   "id": "1f6ea4a5",
   "metadata": {
    "papermill": {
     "duration": 1.05777,
     "end_time": "2024-06-17T19:24:31.110564",
     "exception": false,
     "start_time": "2024-06-17T19:24:30.052794",
     "status": "completed"
    },
    "tags": []
   },
   "outputs": [],
   "source": []
  }
 ],
 "metadata": {
  "kaggle": {
   "accelerator": "none",
   "dataSources": [
    {
     "sourceId": 183818701,
     "sourceType": "kernelVersion"
    },
    {
     "sourceId": 183818784,
     "sourceType": "kernelVersion"
    },
    {
     "sourceId": 183818831,
     "sourceType": "kernelVersion"
    },
    {
     "sourceId": 183818866,
     "sourceType": "kernelVersion"
    },
    {
     "sourceId": 183818895,
     "sourceType": "kernelVersion"
    },
    {
     "sourceId": 183818939,
     "sourceType": "kernelVersion"
    }
   ],
   "dockerImageVersionId": 30732,
   "isGpuEnabled": false,
   "isInternetEnabled": true,
   "language": "python",
   "sourceType": "notebook"
  },
  "kernelspec": {
   "display_name": "Python 3",
   "language": "python",
   "name": "python3"
  },
  "language_info": {
   "codemirror_mode": {
    "name": "ipython",
    "version": 3
   },
   "file_extension": ".py",
   "mimetype": "text/x-python",
   "name": "python",
   "nbconvert_exporter": "python",
   "pygments_lexer": "ipython3",
   "version": "3.10.13"
  },
  "papermill": {
   "default_parameters": {},
   "duration": 19907.456052,
   "end_time": "2024-06-17T19:24:36.386836",
   "environment_variables": {},
   "exception": null,
   "input_path": "__notebook__.ipynb",
   "output_path": "__notebook__.ipynb",
   "parameters": {},
   "start_time": "2024-06-17T13:52:48.930784",
   "version": "2.5.0"
  }
 },
 "nbformat": 4,
 "nbformat_minor": 5
}
