{
 "cells": [
  {
   "cell_type": "code",
   "execution_count": 1,
   "id": "3cef8024",
   "metadata": {
    "_cell_guid": "b1076dfc-b9ad-4769-8c92-a6c4dae69d19",
    "_uuid": "8f2839f25d086af736a60e9eeb907d3b93b6e0e5",
    "execution": {
     "iopub.execute_input": "2024-06-02T23:47:53.842761Z",
     "iopub.status.busy": "2024-06-02T23:47:53.842336Z",
     "iopub.status.idle": "2024-06-02T23:47:54.755780Z",
     "shell.execute_reply": "2024-06-02T23:47:54.754090Z"
    },
    "papermill": {
     "duration": 0.92162,
     "end_time": "2024-06-02T23:47:54.758982",
     "exception": false,
     "start_time": "2024-06-02T23:47:53.837362",
     "status": "completed"
    },
    "tags": []
   },
   "outputs": [
    {
     "name": "stdout",
     "output_type": "stream",
     "text": [
      "/kaggle/input/ppa-dataset/__results__.html\n",
      "/kaggle/input/ppa-dataset/graphidx2speciesid.csv\n",
      "/kaggle/input/ppa-dataset/valid.csv\n",
      "/kaggle/input/ppa-dataset/graph_data.hdf5\n",
      "/kaggle/input/ppa-dataset/__notebook__.ipynb\n",
      "/kaggle/input/ppa-dataset/__output__.json\n",
      "/kaggle/input/ppa-dataset/train.csv\n",
      "/kaggle/input/ppa-dataset/test.csv\n",
      "/kaggle/input/ppa-dataset/custom.css\n"
     ]
    }
   ],
   "source": [
    "# This Python 3 environment comes with many helpful analytics libraries installed\n",
    "# It is defined by the kaggle/python Docker image: https://github.com/kaggle/docker-python\n",
    "# For example, here's several helpful packages to load\n",
    "\n",
    "import numpy as np # linear algebra\n",
    "import pandas as pd # data processing, CSV file I/O (e.g. pd.read_csv)\n",
    "\n",
    "# Input data files are available in the read-only \"../input/\" directory\n",
    "# For example, running this (by clicking run or pressing Shift+Enter) will list all files under the input directory\n",
    "\n",
    "import os\n",
    "for dirname, _, filenames in os.walk('/kaggle/input'):\n",
    "    for filename in filenames:\n",
    "        print(os.path.join(dirname, filename))\n",
    "\n",
    "# You can write up to 20GB to the current directory (/kaggle/working/) that gets preserved as output when you create a version using \"Save & Run All\" \n",
    "# You can also write temporary files to /kaggle/temp/, but they won't be saved outside of the current session"
   ]
  },
  {
   "cell_type": "code",
   "execution_count": 2,
   "id": "f3321421",
   "metadata": {
    "execution": {
     "iopub.execute_input": "2024-06-02T23:47:54.767490Z",
     "iopub.status.busy": "2024-06-02T23:47:54.766529Z",
     "iopub.status.idle": "2024-06-02T23:47:56.366218Z",
     "shell.execute_reply": "2024-06-02T23:47:56.365077Z"
    },
    "papermill": {
     "duration": 1.606656,
     "end_time": "2024-06-02T23:47:56.368960",
     "exception": false,
     "start_time": "2024-06-02T23:47:54.762304",
     "status": "completed"
    },
    "tags": []
   },
   "outputs": [
    {
     "name": "stdout",
     "output_type": "stream",
     "text": [
      "/kaggle/input/ppa-dataset/__results__.html\n",
      "/kaggle/input/ppa-dataset/graphidx2speciesid.csv\n",
      "/kaggle/input/ppa-dataset/valid.csv\n",
      "/kaggle/input/ppa-dataset/graph_data.hdf5\n",
      "/kaggle/input/ppa-dataset/__notebook__.ipynb\n",
      "/kaggle/input/ppa-dataset/__output__.json\n",
      "/kaggle/input/ppa-dataset/train.csv\n",
      "/kaggle/input/ppa-dataset/test.csv\n",
      "/kaggle/input/ppa-dataset/custom.css\n"
     ]
    }
   ],
   "source": [
    "import numpy as np # linear algebra\n",
    "import pandas as pd # data processing, CSV file I/O (e.g. pd.read_csv)\n",
    "import dask\n",
    "import shutil\n",
    "import h5py\n",
    "import pickle\n",
    "dask.config.set({'dataframe.query-planning': True})\n",
    "import dask.dataframe as dd# Input data files are available in the read-only \"../input/\" directory\n",
    "# For example, running this (by clicking run or pressing Shift+Enter) will list all files under the input directory\n",
    "import gc\n",
    "import hashlib\n",
    "from concurrent.futures import ProcessPoolExecutor\n",
    "import os\n",
    "from scipy.sparse import csr_matrix\n",
    "for dirname, _, filenames in os.walk('/kaggle/input'):\n",
    "    for filename in filenames:\n",
    "        print(os.path.join(dirname, filename))\n",
    "from tqdm.auto import tqdm"
   ]
  },
  {
   "cell_type": "code",
   "execution_count": 3,
   "id": "1335fa0d",
   "metadata": {
    "execution": {
     "iopub.execute_input": "2024-06-02T23:47:56.376898Z",
     "iopub.status.busy": "2024-06-02T23:47:56.376205Z",
     "iopub.status.idle": "2024-06-03T02:02:29.822890Z",
     "shell.execute_reply": "2024-06-03T02:02:29.820216Z"
    },
    "papermill": {
     "duration": 8073.454625,
     "end_time": "2024-06-03T02:02:29.826576",
     "exception": false,
     "start_time": "2024-06-02T23:47:56.371951",
     "status": "completed"
    },
    "tags": []
   },
   "outputs": [
    {
     "data": {
      "application/vnd.jupyter.widget-view+json": {
       "model_id": "69b24122a16b48bcb60bf909bb0001ce",
       "version_major": 2,
       "version_minor": 0
      },
      "text/plain": [
       "  0%|          | 0/158100 [00:00<?, ?it/s]"
      ]
     },
     "metadata": {},
     "output_type": "display_data"
    }
   ],
   "source": [
    "gc_interval = 50\n",
    "label_hash_dict = {}\n",
    "count = 0\n",
    "with h5py.File('/kaggle/input/ppa-dataset/graph_data.hdf5', 'r') as f:\n",
    "    gc.collect()\n",
    "    num_edge_accum = 0  # Initialize accumulator for edge indices\n",
    "    for graph_name in tqdm(f):\n",
    "        grp = f[graph_name]  # Access the group\n",
    "        \n",
    "        label = grp.attrs['graph_label']\n",
    "        \n",
    "        if label not in label_hash_dict.keys():\n",
    "            label_hash_dict[label] = {}\n",
    "        embedding = grp['embedding']\n",
    "        for _hash, count in embedding:\n",
    "            if _hash not in label_hash_dict[label].keys():\n",
    "                label_hash_dict[label][_hash] = 0\n",
    "            label_hash_dict[label][_hash] += count"
   ]
  },
  {
   "cell_type": "code",
   "execution_count": 4,
   "id": "748f3b0d",
   "metadata": {
    "execution": {
     "iopub.execute_input": "2024-06-03T02:02:29.839954Z",
     "iopub.status.busy": "2024-06-03T02:02:29.839309Z",
     "iopub.status.idle": "2024-06-03T02:02:30.074891Z",
     "shell.execute_reply": "2024-06-03T02:02:30.073340Z"
    },
    "papermill": {
     "duration": 0.247248,
     "end_time": "2024-06-03T02:02:30.078093",
     "exception": false,
     "start_time": "2024-06-03T02:02:29.830845",
     "status": "completed"
    },
    "tags": []
   },
   "outputs": [
    {
     "data": {
      "text/plain": [
       "20"
      ]
     },
     "execution_count": 4,
     "metadata": {},
     "output_type": "execute_result"
    }
   ],
   "source": [
    "gc.collect()"
   ]
  },
  {
   "cell_type": "code",
   "execution_count": 5,
   "id": "e9ffaced",
   "metadata": {
    "execution": {
     "iopub.execute_input": "2024-06-03T02:02:30.089233Z",
     "iopub.status.busy": "2024-06-03T02:02:30.088659Z",
     "iopub.status.idle": "2024-06-03T02:03:21.248830Z",
     "shell.execute_reply": "2024-06-03T02:03:21.247199Z"
    },
    "papermill": {
     "duration": 51.170694,
     "end_time": "2024-06-03T02:03:21.252242",
     "exception": false,
     "start_time": "2024-06-03T02:02:30.081548",
     "status": "completed"
    },
    "tags": []
   },
   "outputs": [],
   "source": [
    "from collections import defaultdict\n",
    "\n",
    "def get_top_hashes(label_hash_dict, top_n=10):\n",
    "    top_hashes = defaultdict(list)\n",
    "    \n",
    "    for label, hash_dict in label_hash_dict.items():\n",
    "        # Sort hash_dict by count in descending order and get the top N entries\n",
    "        sorted_hashes = sorted(hash_dict.items(), key=lambda item: item[1], reverse=True)\n",
    "        top_hashes[label] = sorted_hashes[:top_n]\n",
    "    \n",
    "    return top_hashes\n",
    "\n",
    "# Example usage\n",
    "top_hashes = get_top_hashes(label_hash_dict)"
   ]
  },
  {
   "cell_type": "code",
   "execution_count": 6,
   "id": "faf8a452",
   "metadata": {
    "execution": {
     "iopub.execute_input": "2024-06-03T02:03:21.261779Z",
     "iopub.status.busy": "2024-06-03T02:03:21.261296Z",
     "iopub.status.idle": "2024-06-03T02:03:21.274883Z",
     "shell.execute_reply": "2024-06-03T02:03:21.273295Z"
    },
    "papermill": {
     "duration": 0.021159,
     "end_time": "2024-06-03T02:03:21.277358",
     "exception": false,
     "start_time": "2024-06-03T02:03:21.256199",
     "status": "completed"
    },
    "tags": []
   },
   "outputs": [
    {
     "name": "stdout",
     "output_type": "stream",
     "text": [
      "Dictionary successfully pickled to /kaggle/working/label_hash_dict.pkl\n"
     ]
    }
   ],
   "source": [
    "import pickle\n",
    "\n",
    "pickle_file_path = '/kaggle/working/label_hash_dict.pkl'\n",
    "with open(pickle_file_path, 'wb') as pickle_file:\n",
    "    pickle.dump(top_hashes, pickle_file)\n",
    "\n",
    "print(f\"Dictionary successfully pickled to {pickle_file_path}\")"
   ]
  },
  {
   "cell_type": "code",
   "execution_count": 7,
   "id": "b7218e31",
   "metadata": {
    "execution": {
     "iopub.execute_input": "2024-06-03T02:03:21.286085Z",
     "iopub.status.busy": "2024-06-03T02:03:21.285613Z",
     "iopub.status.idle": "2024-06-03T02:03:21.395327Z",
     "shell.execute_reply": "2024-06-03T02:03:21.393769Z"
    },
    "papermill": {
     "duration": 0.117471,
     "end_time": "2024-06-03T02:03:21.398333",
     "exception": false,
     "start_time": "2024-06-03T02:03:21.280862",
     "status": "completed"
    },
    "tags": []
   },
   "outputs": [
    {
     "data": {
      "text/plain": [
       "0"
      ]
     },
     "execution_count": 7,
     "metadata": {},
     "output_type": "execute_result"
    }
   ],
   "source": [
    "gc.collect()"
   ]
  }
 ],
 "metadata": {
  "kaggle": {
   "accelerator": "none",
   "dataSources": [
    {
     "sourceId": 166523846,
     "sourceType": "kernelVersion"
    }
   ],
   "dockerImageVersionId": 30715,
   "isGpuEnabled": false,
   "isInternetEnabled": true,
   "language": "python",
   "sourceType": "notebook"
  },
  "kernelspec": {
   "display_name": "Python 3",
   "language": "python",
   "name": "python3"
  },
  "language_info": {
   "codemirror_mode": {
    "name": "ipython",
    "version": 3
   },
   "file_extension": ".py",
   "mimetype": "text/x-python",
   "name": "python",
   "nbconvert_exporter": "python",
   "pygments_lexer": "ipython3",
   "version": "3.10.13"
  },
  "papermill": {
   "default_parameters": {},
   "duration": 8133.8374,
   "end_time": "2024-06-03T02:03:24.857950",
   "environment_variables": {},
   "exception": null,
   "input_path": "__notebook__.ipynb",
   "output_path": "__notebook__.ipynb",
   "parameters": {},
   "start_time": "2024-06-02T23:47:51.020550",
   "version": "2.5.0"
  },
  "widgets": {
   "application/vnd.jupyter.widget-state+json": {
    "state": {
     "08f7f42b2889473897f51935ef4e1c1b": {
      "model_module": "@jupyter-widgets/base",
      "model_module_version": "1.2.0",
      "model_name": "LayoutModel",
      "state": {
       "_model_module": "@jupyter-widgets/base",
       "_model_module_version": "1.2.0",
       "_model_name": "LayoutModel",
       "_view_count": null,
       "_view_module": "@jupyter-widgets/base",
       "_view_module_version": "1.2.0",
       "_view_name": "LayoutView",
       "align_content": null,
       "align_items": null,
       "align_self": null,
       "border": null,
       "bottom": null,
       "display": null,
       "flex": null,
       "flex_flow": null,
       "grid_area": null,
       "grid_auto_columns": null,
       "grid_auto_flow": null,
       "grid_auto_rows": null,
       "grid_column": null,
       "grid_gap": null,
       "grid_row": null,
       "grid_template_areas": null,
       "grid_template_columns": null,
       "grid_template_rows": null,
       "height": null,
       "justify_content": null,
       "justify_items": null,
       "left": null,
       "margin": null,
       "max_height": null,
       "max_width": null,
       "min_height": null,
       "min_width": null,
       "object_fit": null,
       "object_position": null,
       "order": null,
       "overflow": null,
       "overflow_x": null,
       "overflow_y": null,
       "padding": null,
       "right": null,
       "top": null,
       "visibility": null,
       "width": null
      }
     },
     "30e79ce5bdbd4069ae3c3c400fca82d4": {
      "model_module": "@jupyter-widgets/controls",
      "model_module_version": "1.5.0",
      "model_name": "DescriptionStyleModel",
      "state": {
       "_model_module": "@jupyter-widgets/controls",
       "_model_module_version": "1.5.0",
       "_model_name": "DescriptionStyleModel",
       "_view_count": null,
       "_view_module": "@jupyter-widgets/base",
       "_view_module_version": "1.2.0",
       "_view_name": "StyleView",
       "description_width": ""
      }
     },
     "31585828428441e28b07d7346ea8a7ef": {
      "model_module": "@jupyter-widgets/controls",
      "model_module_version": "1.5.0",
      "model_name": "ProgressStyleModel",
      "state": {
       "_model_module": "@jupyter-widgets/controls",
       "_model_module_version": "1.5.0",
       "_model_name": "ProgressStyleModel",
       "_view_count": null,
       "_view_module": "@jupyter-widgets/base",
       "_view_module_version": "1.2.0",
       "_view_name": "StyleView",
       "bar_color": null,
       "description_width": ""
      }
     },
     "39d3a6670a0b486cb6463275358e491d": {
      "model_module": "@jupyter-widgets/base",
      "model_module_version": "1.2.0",
      "model_name": "LayoutModel",
      "state": {
       "_model_module": "@jupyter-widgets/base",
       "_model_module_version": "1.2.0",
       "_model_name": "LayoutModel",
       "_view_count": null,
       "_view_module": "@jupyter-widgets/base",
       "_view_module_version": "1.2.0",
       "_view_name": "LayoutView",
       "align_content": null,
       "align_items": null,
       "align_self": null,
       "border": null,
       "bottom": null,
       "display": null,
       "flex": null,
       "flex_flow": null,
       "grid_area": null,
       "grid_auto_columns": null,
       "grid_auto_flow": null,
       "grid_auto_rows": null,
       "grid_column": null,
       "grid_gap": null,
       "grid_row": null,
       "grid_template_areas": null,
       "grid_template_columns": null,
       "grid_template_rows": null,
       "height": null,
       "justify_content": null,
       "justify_items": null,
       "left": null,
       "margin": null,
       "max_height": null,
       "max_width": null,
       "min_height": null,
       "min_width": null,
       "object_fit": null,
       "object_position": null,
       "order": null,
       "overflow": null,
       "overflow_x": null,
       "overflow_y": null,
       "padding": null,
       "right": null,
       "top": null,
       "visibility": null,
       "width": null
      }
     },
     "3b32e9e6e51248f5917b7951f71b72ae": {
      "model_module": "@jupyter-widgets/controls",
      "model_module_version": "1.5.0",
      "model_name": "HTMLModel",
      "state": {
       "_dom_classes": [],
       "_model_module": "@jupyter-widgets/controls",
       "_model_module_version": "1.5.0",
       "_model_name": "HTMLModel",
       "_view_count": null,
       "_view_module": "@jupyter-widgets/controls",
       "_view_module_version": "1.5.0",
       "_view_name": "HTMLView",
       "description": "",
       "description_tooltip": null,
       "layout": "IPY_MODEL_704f9c8365e9453aa0ff753c18c5485e",
       "placeholder": "​",
       "style": "IPY_MODEL_adc47cf29e6240c0a51b3ce1085f72f3",
       "value": "100%"
      }
     },
     "69b24122a16b48bcb60bf909bb0001ce": {
      "model_module": "@jupyter-widgets/controls",
      "model_module_version": "1.5.0",
      "model_name": "HBoxModel",
      "state": {
       "_dom_classes": [],
       "_model_module": "@jupyter-widgets/controls",
       "_model_module_version": "1.5.0",
       "_model_name": "HBoxModel",
       "_view_count": null,
       "_view_module": "@jupyter-widgets/controls",
       "_view_module_version": "1.5.0",
       "_view_name": "HBoxView",
       "box_style": "",
       "children": [
        "IPY_MODEL_3b32e9e6e51248f5917b7951f71b72ae",
        "IPY_MODEL_dc328f9c93c04fa9b86a447bc4ca067b",
        "IPY_MODEL_8c937d901b2948318bf89470297aac30"
       ],
       "layout": "IPY_MODEL_39d3a6670a0b486cb6463275358e491d"
      }
     },
     "704f9c8365e9453aa0ff753c18c5485e": {
      "model_module": "@jupyter-widgets/base",
      "model_module_version": "1.2.0",
      "model_name": "LayoutModel",
      "state": {
       "_model_module": "@jupyter-widgets/base",
       "_model_module_version": "1.2.0",
       "_model_name": "LayoutModel",
       "_view_count": null,
       "_view_module": "@jupyter-widgets/base",
       "_view_module_version": "1.2.0",
       "_view_name": "LayoutView",
       "align_content": null,
       "align_items": null,
       "align_self": null,
       "border": null,
       "bottom": null,
       "display": null,
       "flex": null,
       "flex_flow": null,
       "grid_area": null,
       "grid_auto_columns": null,
       "grid_auto_flow": null,
       "grid_auto_rows": null,
       "grid_column": null,
       "grid_gap": null,
       "grid_row": null,
       "grid_template_areas": null,
       "grid_template_columns": null,
       "grid_template_rows": null,
       "height": null,
       "justify_content": null,
       "justify_items": null,
       "left": null,
       "margin": null,
       "max_height": null,
       "max_width": null,
       "min_height": null,
       "min_width": null,
       "object_fit": null,
       "object_position": null,
       "order": null,
       "overflow": null,
       "overflow_x": null,
       "overflow_y": null,
       "padding": null,
       "right": null,
       "top": null,
       "visibility": null,
       "width": null
      }
     },
     "8c937d901b2948318bf89470297aac30": {
      "model_module": "@jupyter-widgets/controls",
      "model_module_version": "1.5.0",
      "model_name": "HTMLModel",
      "state": {
       "_dom_classes": [],
       "_model_module": "@jupyter-widgets/controls",
       "_model_module_version": "1.5.0",
       "_model_name": "HTMLModel",
       "_view_count": null,
       "_view_module": "@jupyter-widgets/controls",
       "_view_module_version": "1.5.0",
       "_view_name": "HTMLView",
       "description": "",
       "description_tooltip": null,
       "layout": "IPY_MODEL_c51a05bd5cad4965ba554b7bacb04a19",
       "placeholder": "​",
       "style": "IPY_MODEL_30e79ce5bdbd4069ae3c3c400fca82d4",
       "value": " 158100/158100 [2:13:27&lt;00:00, 20.87it/s]"
      }
     },
     "adc47cf29e6240c0a51b3ce1085f72f3": {
      "model_module": "@jupyter-widgets/controls",
      "model_module_version": "1.5.0",
      "model_name": "DescriptionStyleModel",
      "state": {
       "_model_module": "@jupyter-widgets/controls",
       "_model_module_version": "1.5.0",
       "_model_name": "DescriptionStyleModel",
       "_view_count": null,
       "_view_module": "@jupyter-widgets/base",
       "_view_module_version": "1.2.0",
       "_view_name": "StyleView",
       "description_width": ""
      }
     },
     "c51a05bd5cad4965ba554b7bacb04a19": {
      "model_module": "@jupyter-widgets/base",
      "model_module_version": "1.2.0",
      "model_name": "LayoutModel",
      "state": {
       "_model_module": "@jupyter-widgets/base",
       "_model_module_version": "1.2.0",
       "_model_name": "LayoutModel",
       "_view_count": null,
       "_view_module": "@jupyter-widgets/base",
       "_view_module_version": "1.2.0",
       "_view_name": "LayoutView",
       "align_content": null,
       "align_items": null,
       "align_self": null,
       "border": null,
       "bottom": null,
       "display": null,
       "flex": null,
       "flex_flow": null,
       "grid_area": null,
       "grid_auto_columns": null,
       "grid_auto_flow": null,
       "grid_auto_rows": null,
       "grid_column": null,
       "grid_gap": null,
       "grid_row": null,
       "grid_template_areas": null,
       "grid_template_columns": null,
       "grid_template_rows": null,
       "height": null,
       "justify_content": null,
       "justify_items": null,
       "left": null,
       "margin": null,
       "max_height": null,
       "max_width": null,
       "min_height": null,
       "min_width": null,
       "object_fit": null,
       "object_position": null,
       "order": null,
       "overflow": null,
       "overflow_x": null,
       "overflow_y": null,
       "padding": null,
       "right": null,
       "top": null,
       "visibility": null,
       "width": null
      }
     },
     "dc328f9c93c04fa9b86a447bc4ca067b": {
      "model_module": "@jupyter-widgets/controls",
      "model_module_version": "1.5.0",
      "model_name": "FloatProgressModel",
      "state": {
       "_dom_classes": [],
       "_model_module": "@jupyter-widgets/controls",
       "_model_module_version": "1.5.0",
       "_model_name": "FloatProgressModel",
       "_view_count": null,
       "_view_module": "@jupyter-widgets/controls",
       "_view_module_version": "1.5.0",
       "_view_name": "ProgressView",
       "bar_style": "success",
       "description": "",
       "description_tooltip": null,
       "layout": "IPY_MODEL_08f7f42b2889473897f51935ef4e1c1b",
       "max": 158100.0,
       "min": 0.0,
       "orientation": "horizontal",
       "style": "IPY_MODEL_31585828428441e28b07d7346ea8a7ef",
       "value": 158100.0
      }
     }
    },
    "version_major": 2,
    "version_minor": 0
   }
  }
 },
 "nbformat": 4,
 "nbformat_minor": 5
}
