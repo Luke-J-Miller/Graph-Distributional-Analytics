{
 "cells": [
  {
   "cell_type": "code",
   "execution_count": 1,
   "id": "26dc8c35",
   "metadata": {
    "execution": {
     "iopub.execute_input": "2024-06-17T13:53:43.911963Z",
     "iopub.status.busy": "2024-06-17T13:53:43.910732Z",
     "iopub.status.idle": "2024-06-17T13:54:16.525547Z",
     "shell.execute_reply": "2024-06-17T13:54:16.524220Z"
    },
    "papermill": {
     "duration": 32.62768,
     "end_time": "2024-06-17T13:54:16.528382",
     "exception": false,
     "start_time": "2024-06-17T13:53:43.900702",
     "status": "completed"
    },
    "tags": []
   },
   "outputs": [
    {
     "name": "stdout",
     "output_type": "stream",
     "text": [
      "Requirement already satisfied: torch in /opt/conda/lib/python3.10/site-packages (2.1.2+cpu)\r\n",
      "Requirement already satisfied: torchvision in /opt/conda/lib/python3.10/site-packages (0.16.2+cpu)\r\n",
      "Requirement already satisfied: torchaudio in /opt/conda/lib/python3.10/site-packages (2.1.2+cpu)\r\n",
      "Requirement already satisfied: filelock in /opt/conda/lib/python3.10/site-packages (from torch) (3.13.1)\r\n",
      "Requirement already satisfied: typing-extensions in /opt/conda/lib/python3.10/site-packages (from torch) (4.9.0)\r\n",
      "Requirement already satisfied: sympy in /opt/conda/lib/python3.10/site-packages (from torch) (1.12.1)\r\n",
      "Requirement already satisfied: networkx in /opt/conda/lib/python3.10/site-packages (from torch) (3.2.1)\r\n",
      "Requirement already satisfied: jinja2 in /opt/conda/lib/python3.10/site-packages (from torch) (3.1.2)\r\n",
      "Requirement already satisfied: fsspec in /opt/conda/lib/python3.10/site-packages (from torch) (2024.3.1)\r\n",
      "Requirement already satisfied: numpy in /opt/conda/lib/python3.10/site-packages (from torchvision) (1.26.4)\r\n",
      "Requirement already satisfied: requests in /opt/conda/lib/python3.10/site-packages (from torchvision) (2.32.3)\r\n",
      "Requirement already satisfied: pillow!=8.3.*,>=5.3.0 in /opt/conda/lib/python3.10/site-packages (from torchvision) (9.5.0)\r\n",
      "Requirement already satisfied: MarkupSafe>=2.0 in /opt/conda/lib/python3.10/site-packages (from jinja2->torch) (2.1.3)\r\n",
      "Requirement already satisfied: charset-normalizer<4,>=2 in /opt/conda/lib/python3.10/site-packages (from requests->torchvision) (3.3.2)\r\n",
      "Requirement already satisfied: idna<4,>=2.5 in /opt/conda/lib/python3.10/site-packages (from requests->torchvision) (3.6)\r\n",
      "Requirement already satisfied: urllib3<3,>=1.21.1 in /opt/conda/lib/python3.10/site-packages (from requests->torchvision) (1.26.18)\r\n",
      "Requirement already satisfied: certifi>=2017.4.17 in /opt/conda/lib/python3.10/site-packages (from requests->torchvision) (2024.2.2)\r\n",
      "Requirement already satisfied: mpmath<1.4.0,>=1.1.0 in /opt/conda/lib/python3.10/site-packages (from sympy->torch) (1.3.0)\r\n",
      "Requirement already satisfied: torch in /opt/conda/lib/python3.10/site-packages (2.1.2+cpu)\r\n",
      "Collecting torch-geometric\r\n",
      "  Downloading torch_geometric-2.5.3-py3-none-any.whl.metadata (64 kB)\r\n",
      "\u001b[2K     \u001b[90m━━━━━━━━━━━━━━━━━━━━━━━━━━━━━━━━━━━━━━━━\u001b[0m \u001b[32m64.2/64.2 kB\u001b[0m \u001b[31m1.5 MB/s\u001b[0m eta \u001b[36m0:00:00\u001b[0m\r\n",
      "\u001b[?25hRequirement already satisfied: filelock in /opt/conda/lib/python3.10/site-packages (from torch) (3.13.1)\r\n",
      "Requirement already satisfied: typing-extensions in /opt/conda/lib/python3.10/site-packages (from torch) (4.9.0)\r\n",
      "Requirement already satisfied: sympy in /opt/conda/lib/python3.10/site-packages (from torch) (1.12.1)\r\n",
      "Requirement already satisfied: networkx in /opt/conda/lib/python3.10/site-packages (from torch) (3.2.1)\r\n",
      "Requirement already satisfied: jinja2 in /opt/conda/lib/python3.10/site-packages (from torch) (3.1.2)\r\n",
      "Requirement already satisfied: fsspec in /opt/conda/lib/python3.10/site-packages (from torch) (2024.3.1)\r\n",
      "Requirement already satisfied: tqdm in /opt/conda/lib/python3.10/site-packages (from torch-geometric) (4.66.4)\r\n",
      "Requirement already satisfied: numpy in /opt/conda/lib/python3.10/site-packages (from torch-geometric) (1.26.4)\r\n",
      "Requirement already satisfied: scipy in /opt/conda/lib/python3.10/site-packages (from torch-geometric) (1.11.4)\r\n",
      "Requirement already satisfied: aiohttp in /opt/conda/lib/python3.10/site-packages (from torch-geometric) (3.9.1)\r\n",
      "Requirement already satisfied: requests in /opt/conda/lib/python3.10/site-packages (from torch-geometric) (2.32.3)\r\n",
      "Requirement already satisfied: pyparsing in /opt/conda/lib/python3.10/site-packages (from torch-geometric) (3.1.1)\r\n",
      "Requirement already satisfied: scikit-learn in /opt/conda/lib/python3.10/site-packages (from torch-geometric) (1.2.2)\r\n",
      "Requirement already satisfied: psutil>=5.8.0 in /opt/conda/lib/python3.10/site-packages (from torch-geometric) (5.9.3)\r\n",
      "Requirement already satisfied: attrs>=17.3.0 in /opt/conda/lib/python3.10/site-packages (from aiohttp->torch-geometric) (23.2.0)\r\n",
      "Requirement already satisfied: multidict<7.0,>=4.5 in /opt/conda/lib/python3.10/site-packages (from aiohttp->torch-geometric) (6.0.4)\r\n",
      "Requirement already satisfied: yarl<2.0,>=1.0 in /opt/conda/lib/python3.10/site-packages (from aiohttp->torch-geometric) (1.9.3)\r\n",
      "Requirement already satisfied: frozenlist>=1.1.1 in /opt/conda/lib/python3.10/site-packages (from aiohttp->torch-geometric) (1.4.1)\r\n",
      "Requirement already satisfied: aiosignal>=1.1.2 in /opt/conda/lib/python3.10/site-packages (from aiohttp->torch-geometric) (1.3.1)\r\n",
      "Requirement already satisfied: async-timeout<5.0,>=4.0 in /opt/conda/lib/python3.10/site-packages (from aiohttp->torch-geometric) (4.0.3)\r\n",
      "Requirement already satisfied: MarkupSafe>=2.0 in /opt/conda/lib/python3.10/site-packages (from jinja2->torch) (2.1.3)\r\n",
      "Requirement already satisfied: charset-normalizer<4,>=2 in /opt/conda/lib/python3.10/site-packages (from requests->torch-geometric) (3.3.2)\r\n",
      "Requirement already satisfied: idna<4,>=2.5 in /opt/conda/lib/python3.10/site-packages (from requests->torch-geometric) (3.6)\r\n",
      "Requirement already satisfied: urllib3<3,>=1.21.1 in /opt/conda/lib/python3.10/site-packages (from requests->torch-geometric) (1.26.18)\r\n",
      "Requirement already satisfied: certifi>=2017.4.17 in /opt/conda/lib/python3.10/site-packages (from requests->torch-geometric) (2024.2.2)\r\n",
      "Requirement already satisfied: joblib>=1.1.1 in /opt/conda/lib/python3.10/site-packages (from scikit-learn->torch-geometric) (1.4.2)\r\n",
      "Requirement already satisfied: threadpoolctl>=2.0.0 in /opt/conda/lib/python3.10/site-packages (from scikit-learn->torch-geometric) (3.2.0)\r\n",
      "Requirement already satisfied: mpmath<1.4.0,>=1.1.0 in /opt/conda/lib/python3.10/site-packages (from sympy->torch) (1.3.0)\r\n",
      "Downloading torch_geometric-2.5.3-py3-none-any.whl (1.1 MB)\r\n",
      "\u001b[2K   \u001b[90m━━━━━━━━━━━━━━━━━━━━━━━━━━━━━━━━━━━━━━━━\u001b[0m \u001b[32m1.1/1.1 MB\u001b[0m \u001b[31m15.0 MB/s\u001b[0m eta \u001b[36m0:00:00\u001b[0m\r\n",
      "\u001b[?25hInstalling collected packages: torch-geometric\r\n",
      "Successfully installed torch-geometric-2.5.3\r\n"
     ]
    }
   ],
   "source": [
    "if 'first_run' not in globals():\n",
    "    !pip install torch torchvision torchaudio\n",
    "    !pip install torch torch-geometric\n",
    "    first_run = False\n",
    "else:\n",
    "    pass"
   ]
  },
  {
   "cell_type": "code",
   "execution_count": null,
   "id": "1169f440",
   "metadata": {
    "papermill": {
     "duration": 0.009444,
     "end_time": "2024-06-17T13:54:16.547773",
     "exception": false,
     "start_time": "2024-06-17T13:54:16.538329",
     "status": "completed"
    },
    "tags": []
   },
   "outputs": [],
   "source": []
  },
  {
   "cell_type": "code",
   "execution_count": 2,
   "id": "8d975ee6",
   "metadata": {
    "_cell_guid": "b1076dfc-b9ad-4769-8c92-a6c4dae69d19",
    "_uuid": "8f2839f25d086af736a60e9eeb907d3b93b6e0e5",
    "execution": {
     "iopub.execute_input": "2024-06-17T13:54:16.568610Z",
     "iopub.status.busy": "2024-06-17T13:54:16.568214Z",
     "iopub.status.idle": "2024-06-17T13:54:25.216834Z",
     "shell.execute_reply": "2024-06-17T13:54:25.215568Z"
    },
    "papermill": {
     "duration": 8.662486,
     "end_time": "2024-06-17T13:54:25.219650",
     "exception": false,
     "start_time": "2024-06-17T13:54:16.557164",
     "status": "completed"
    },
    "tags": []
   },
   "outputs": [
    {
     "name": "stdout",
     "output_type": "stream",
     "text": [
      "/kaggle/input/enzymes-dga/__results__.html\n",
      "/kaggle/input/enzymes-dga/ENZYMES.pt\n",
      "/kaggle/input/enzymes-dga/__notebook__.ipynb\n",
      "/kaggle/input/enzymes-dga/__output__.json\n",
      "/kaggle/input/enzymes-dga/ENZYMES_train_indices_dict.pkl\n",
      "/kaggle/input/enzymes-dga/custom.css\n",
      "/kaggle/input/nci109-dga/__results__.html\n",
      "/kaggle/input/nci109-dga/__notebook__.ipynb\n",
      "/kaggle/input/nci109-dga/NCI109_train_indices_dict.pkl\n",
      "/kaggle/input/nci109-dga/__output__.json\n",
      "/kaggle/input/nci109-dga/NCI109.pt\n",
      "/kaggle/input/nci109-dga/custom.css\n",
      "/kaggle/input/nci1-dga/NCI1.pt\n",
      "/kaggle/input/nci1-dga/__results__.html\n",
      "/kaggle/input/nci1-dga/NCI1_train_indices_dict.pkl\n",
      "/kaggle/input/nci1-dga/__notebook__.ipynb\n",
      "/kaggle/input/nci1-dga/__output__.json\n",
      "/kaggle/input/nci1-dga/custom.css\n",
      "/kaggle/input/mutag-dga/MUTAG.pt\n",
      "/kaggle/input/mutag-dga/MUTAG_train_indices_dict.pkl\n",
      "/kaggle/input/mutag-dga/__results__.html\n",
      "/kaggle/input/mutag-dga/__notebook__.ipynb\n",
      "/kaggle/input/mutag-dga/__output__.json\n",
      "/kaggle/input/mutag-dga/custom.css\n",
      "/kaggle/input/dd-dga/__results__.html\n",
      "/kaggle/input/dd-dga/DD.pt\n",
      "/kaggle/input/dd-dga/DD_train_indices_dict.pkl\n",
      "/kaggle/input/dd-dga/__notebook__.ipynb\n",
      "/kaggle/input/dd-dga/__output__.json\n",
      "/kaggle/input/dd-dga/custom.css\n",
      "/kaggle/input/proteins-dga/PROTEINS_train_indices_dict.pkl\n",
      "/kaggle/input/proteins-dga/__results__.html\n",
      "/kaggle/input/proteins-dga/PROTEINS.pt\n",
      "/kaggle/input/proteins-dga/__notebook__.ipynb\n",
      "/kaggle/input/proteins-dga/__output__.json\n",
      "/kaggle/input/proteins-dga/custom.css\n"
     ]
    }
   ],
   "source": [
    "# This Python 3 environment comes with many helpful analytics libraries installed\n",
    "# It is defined by the kaggle/python Docker image: https://github.com/kaggle/docker-python\n",
    "# For example, here's several helpful packages to load\n",
    "\n",
    "import numpy as np # linear algebra\n",
    "import pandas as pd # data processing, CSV file I/O (e.g. pd.read_csv)\n",
    "import pickle\n",
    "\n",
    "# Input data files are available in the read-only \"../input/\" directory\n",
    "# For example, running this (by clicking run or pressing Shift+Enter) will list all files under the input directory\n",
    "\n",
    "import os\n",
    "for dirname, _, filenames in os.walk('/kaggle/input'):\n",
    "    for filename in filenames:\n",
    "        print(os.path.join(dirname, filename))\n",
    "        \n",
    "import torch\n",
    "import torch.nn.functional as F\n",
    "import torch_geometric\n",
    "from torch_geometric.nn import GCNConv\n",
    "import hashlib\n",
    "import numpy as np\n",
    "import torch\n",
    "import torch.nn as nn\n",
    "from torch_geometric.transforms import BaseTransform\n",
    "from torch_geometric.nn import GCNConv, global_mean_pool, BatchNorm\n",
    "from torch_geometric.utils import to_scipy_sparse_matrix\n",
    "from torch_geometric.data import Data\n",
    "from torch_geometric.io import fs, read_txt_array\n",
    "import torch_geometric.transforms as T\n",
    "# from torch_geometric.datasets import TUDataset\n",
    "from torch_geometric.data import Data, InMemoryDataset\n",
    "from torch_geometric.data import DataLoader\n",
    "import math\n",
    "from typing import Callable, List, Optional, Tuple, Dict\n",
    "from torch import Tensor\n",
    "import os\n",
    "import requests\n",
    "from torch_geometric.utils import coalesce, cumsum, one_hot, remove_self_loops\n",
    "from sklearn.metrics import confusion_matrix\n",
    "from torch.cuda.amp import GradScaler, autocast\n",
    "import os.path as osp\n",
    "\n",
    "import numpy as np\n",
    "import torch\n",
    "import torch.nn.functional as F\n",
    "import torch_geometric.transforms as T\n",
    "from sklearn.model_selection import KFold\n",
    "from sklearn.model_selection import train_test_split\n",
    "from torch_geometric.data import DataLoader\n",
    "from torch_geometric.datasets import TUDataset\n",
    "from torch_geometric.utils import degree\n",
    "import torch\n",
    "import torch.nn.functional as F\n",
    "from torch.nn import Linear, Sequential, ReLU, BatchNorm1d as BN\n",
    "from torch_geometric.nn import GINConv, global_mean_pool, JumpingKnowledge\n",
    "from torch_geometric.nn import MessagePassing\n",
    "from torch_geometric.nn.inits import reset\n",
    "# You can write up to 20GB to the current directory (/kaggle/working/) that gets preserved as output when you create a version using \"Save & Run All\" \n",
    "# You can also write temporary files to /kaggle/temp/, but they won't be saved outside of the current session"
   ]
  },
  {
   "cell_type": "code",
   "execution_count": 3,
   "id": "6d2f09b3",
   "metadata": {
    "execution": {
     "iopub.execute_input": "2024-06-17T13:54:25.242064Z",
     "iopub.status.busy": "2024-06-17T13:54:25.241471Z",
     "iopub.status.idle": "2024-06-17T13:54:25.255928Z",
     "shell.execute_reply": "2024-06-17T13:54:25.254705Z"
    },
    "papermill": {
     "duration": 0.028674,
     "end_time": "2024-06-17T13:54:25.258478",
     "exception": false,
     "start_time": "2024-06-17T13:54:25.229804",
     "status": "completed"
    },
    "tags": []
   },
   "outputs": [],
   "source": [
    "class IDAddingDataset:\n",
    "    def __init__(self, dataset, attr_func):\n",
    "        self.dataset = dataset\n",
    "        self.attr_func = attr_func\n",
    "        self.indices = np.arange(0, len(dataset.indices()))\n",
    "    \n",
    "    def __getitem__(self, idx):\n",
    "        data = self.dataset[idx].clone()  # Clone the data to avoid modifying the original dataset\n",
    "        data.id = self.indices[idx]\n",
    "        data.num_edges = self.dataset[idx].edge_index.size(1)\n",
    "        data.adj_mat = to_scipy_sparse_matrix(self.dataset[idx].edge_index, num_nodes=self.dataset[idx].num_nodes).toarray().astype(int)\n",
    "        return data\n",
    "    \n",
    "    def __len__(self):\n",
    "        return len(self.dataset)\n",
    "class EmbeddingAddingDataset:\n",
    "    def __init__(self, dataset, embedding_dict):\n",
    "        self.dataset = dataset\n",
    "        self.embedding_dict = embedding_dict\n",
    "    \n",
    "    def __getitem__(self, idx):\n",
    "        data = self.dataset[idx].clone()  # Clone the data to avoid modifying the original dataset\n",
    "        data.embedding = self.embedding_dict[self.dataset[idx].id]\n",
    "        return data\n",
    "    \n",
    "    def __len__(self):\n",
    "        return len(self.dataset)\n",
    "class FinalAddingDataset:\n",
    "    def __init__(self, Embedding_dataset, cos_sims, all_z_scores):\n",
    "        self.dataset = Embedding_dataset\n",
    "        self.cos_sims = cos_sims\n",
    "        self.all_z_scores = all_z_scores\n",
    "        \n",
    "    \n",
    "    def __getitem__(self, idx):\n",
    "        data = self.dataset[idx].clone()  # Clone the data to avoid modifying the original dataset\n",
    "        data.cos_sim = self.cos_sims[self.dataset[idx].id]\n",
    "        data.z_score = self.all_z_scores[self.dataset[idx].id]\n",
    "        return data\n",
    "    \n",
    "    def __len__(self):\n",
    "        return len(self.dataset)"
   ]
  },
  {
   "cell_type": "code",
   "execution_count": 4,
   "id": "6a07f3d5",
   "metadata": {
    "execution": {
     "iopub.execute_input": "2024-06-17T13:54:25.279931Z",
     "iopub.status.busy": "2024-06-17T13:54:25.279549Z",
     "iopub.status.idle": "2024-06-17T13:54:25.286494Z",
     "shell.execute_reply": "2024-06-17T13:54:25.285334Z"
    },
    "papermill": {
     "duration": 0.020591,
     "end_time": "2024-06-17T13:54:25.289023",
     "exception": false,
     "start_time": "2024-06-17T13:54:25.268432",
     "status": "completed"
    },
    "tags": []
   },
   "outputs": [],
   "source": [
    "class TrainDatasetWrapper:\n",
    "    def __init__(self, dataset):\n",
    "        self.dataset = dataset\n",
    "    \n",
    "    def __getitem__(self, idx):\n",
    "        data = self.dataset[idx].clone()  # Clone to avoid modifying the original dataset\n",
    "        return Data(edge_index=data.edge_index, x=data.x, y=data.y.item())  # Return only necessary attributes\n",
    "    \n",
    "    def __len__(self):\n",
    "        return len(self.dataset)"
   ]
  },
  {
   "cell_type": "code",
   "execution_count": 5,
   "id": "644677bb",
   "metadata": {
    "execution": {
     "iopub.execute_input": "2024-06-17T13:54:25.310957Z",
     "iopub.status.busy": "2024-06-17T13:54:25.310562Z",
     "iopub.status.idle": "2024-06-17T13:54:25.317522Z",
     "shell.execute_reply": "2024-06-17T13:54:25.316356Z"
    },
    "papermill": {
     "duration": 0.020972,
     "end_time": "2024-06-17T13:54:25.320157",
     "exception": false,
     "start_time": "2024-06-17T13:54:25.299185",
     "status": "completed"
    },
    "tags": []
   },
   "outputs": [],
   "source": [
    "class SubsetDataset:\n",
    "    def __init__(self, full_dataset, indices):\n",
    "        self.dataset = full_dataset\n",
    "        self.indices = indices\n",
    "\n",
    "    def __getitem__(self, idx):\n",
    "        actual_idx = self.indices[idx]\n",
    "        return self.dataset[actual_idx]\n",
    "\n",
    "    def __len__(self):\n",
    "        return len(self.indices)\n"
   ]
  },
  {
   "cell_type": "code",
   "execution_count": 6,
   "id": "f164d986",
   "metadata": {
    "execution": {
     "iopub.execute_input": "2024-06-17T13:54:25.341717Z",
     "iopub.status.busy": "2024-06-17T13:54:25.341337Z",
     "iopub.status.idle": "2024-06-17T13:54:25.348579Z",
     "shell.execute_reply": "2024-06-17T13:54:25.347364Z"
    },
    "papermill": {
     "duration": 0.02082,
     "end_time": "2024-06-17T13:54:25.351054",
     "exception": false,
     "start_time": "2024-06-17T13:54:25.330234",
     "status": "completed"
    },
    "tags": []
   },
   "outputs": [],
   "source": [
    "class NormalizedDegree(object):\n",
    "    def __init__(self, mean, std):\n",
    "        self.mean = mean\n",
    "        self.std = std\n",
    "\n",
    "    def __call__(self, data):\n",
    "        deg = degree(data.edge_index[0], dtype=torch.float)\n",
    "        deg = (deg - self.mean) / self.std\n",
    "        data.x = deg.view(-1, 1)\n",
    "        return data"
   ]
  },
  {
   "cell_type": "code",
   "execution_count": 7,
   "id": "112decba",
   "metadata": {
    "execution": {
     "iopub.execute_input": "2024-06-17T13:54:25.372425Z",
     "iopub.status.busy": "2024-06-17T13:54:25.372017Z",
     "iopub.status.idle": "2024-06-17T13:54:25.384661Z",
     "shell.execute_reply": "2024-06-17T13:54:25.383647Z"
    },
    "papermill": {
     "duration": 0.026162,
     "end_time": "2024-06-17T13:54:25.387042",
     "exception": false,
     "start_time": "2024-06-17T13:54:25.360880",
     "status": "completed"
    },
    "tags": []
   },
   "outputs": [],
   "source": [
    "class GCN(torch.nn.Module):\n",
    "    def __init__(self, num_features, num_classes):\n",
    "        super(GCN, self).__init__()\n",
    "        self.conv1 = GCNConv(num_features, 16)\n",
    "        self.bn1 = BatchNorm(16)\n",
    "        self.conv2 = GCNConv(16, 32)\n",
    "        self.bn2 = BatchNorm(32)\n",
    "        self.conv3 = GCNConv(32, 64)\n",
    "        self.bn3 = BatchNorm(64)\n",
    "        self.conv4 = GCNConv(64, 128)\n",
    "        self.bn4 = BatchNorm(128)\n",
    "        self.fc1 = torch.nn.Linear(128, 64)\n",
    "        self.fc2 = torch.nn.Linear(64, num_classes)\n",
    "\n",
    "    def forward(self, data):\n",
    "        x, edge_index = data.x, data.edge_index\n",
    "\n",
    "        # Apply the first convolution and batch normalization\n",
    "        x = F.relu(self.bn1(self.conv1(x, edge_index)))\n",
    "        x = F.dropout(x, training=self.training)\n",
    "\n",
    "        # Apply the second convolution and batch normalization\n",
    "        x = F.relu(self.bn2(self.conv2(x, edge_index)))\n",
    "\n",
    "        # Apply the third convolution and batch normalization\n",
    "        x = F.relu(self.bn3(self.conv3(x, edge_index)))\n",
    "\n",
    "        # Apply the fourth convolution and batch normalization\n",
    "        x = F.relu(self.bn4(self.conv4(x, edge_index)))\n",
    "\n",
    "        # Global mean pooling\n",
    "        x = global_mean_pool(x, data.batch)\n",
    "\n",
    "        # MLP for the final output\n",
    "        x = F.relu(self.fc1(x))\n",
    "        x = self.fc2(x)\n",
    "        \n",
    "        return x  # Return logits for use with nn.CrossEntropyLoss"
   ]
  },
  {
   "cell_type": "code",
   "execution_count": 8,
   "id": "9aa035f9",
   "metadata": {
    "execution": {
     "iopub.execute_input": "2024-06-17T13:54:25.408830Z",
     "iopub.status.busy": "2024-06-17T13:54:25.408453Z",
     "iopub.status.idle": "2024-06-17T13:54:25.422006Z",
     "shell.execute_reply": "2024-06-17T13:54:25.420895Z"
    },
    "papermill": {
     "duration": 0.027252,
     "end_time": "2024-06-17T13:54:25.424329",
     "exception": false,
     "start_time": "2024-06-17T13:54:25.397077",
     "status": "completed"
    },
    "tags": []
   },
   "outputs": [],
   "source": [
    "# Taken from https://github.com/rusty1s/pytorch_geometric/blob/master/benchmark/kernel/gin.py.\n",
    "class GIN(torch.nn.Module):\n",
    "    def __init__(self, dataset, num_layers, hidden, num_classes):\n",
    "        super(GIN, self).__init__()\n",
    "        self.conv1 = GINConv(Sequential(\n",
    "            Linear(dataset[0].num_features, hidden),\n",
    "            ReLU(),\n",
    "            Linear(hidden, hidden),\n",
    "            ReLU(),\n",
    "            BN(hidden),\n",
    "        ),\n",
    "            train_eps=True)\n",
    "        self.convs = torch.nn.ModuleList()\n",
    "        for i in range(num_layers - 1):\n",
    "            self.convs.append(\n",
    "                GINConv(Sequential(\n",
    "                    Linear(hidden, hidden),\n",
    "                    ReLU(),\n",
    "                    Linear(hidden, hidden),\n",
    "                    ReLU(),\n",
    "                    BN(hidden),\n",
    "                ),\n",
    "                    train_eps=True))\n",
    "        self.lin1 = Linear(hidden, hidden)\n",
    "        self.lin2 = Linear(hidden, num_classes)\n",
    "\n",
    "    def reset_parameters(self):\n",
    "        self.conv1.reset_parameters()\n",
    "        for conv in self.convs:\n",
    "            conv.reset_parameters()\n",
    "        self.lin1.reset_parameters()\n",
    "        self.lin2.reset_parameters()\n",
    "\n",
    "    def forward(self, data):\n",
    "        x, edge_index, batch = data.x, data.edge_index, data.batch\n",
    "        x = self.conv1(x, edge_index)\n",
    "        for conv in self.convs:\n",
    "            x = conv(x, edge_index)\n",
    "\n",
    "        x = global_mean_pool(x, batch)\n",
    "\n",
    "        x = F.relu(self.lin1(x))\n",
    "        x = F.dropout(x, p=0.5, training=self.training)\n",
    "        x = self.lin2(x)\n",
    "        return F.log_softmax(x, dim=-1)\n",
    "\n",
    "    def __repr__(self):\n",
    "        return self.__class__.__name__"
   ]
  },
  {
   "cell_type": "code",
   "execution_count": 9,
   "id": "58d6f17c",
   "metadata": {
    "execution": {
     "iopub.execute_input": "2024-06-17T13:54:25.445937Z",
     "iopub.status.busy": "2024-06-17T13:54:25.445050Z",
     "iopub.status.idle": "2024-06-17T13:54:25.460392Z",
     "shell.execute_reply": "2024-06-17T13:54:25.459221Z"
    },
    "papermill": {
     "duration": 0.028833,
     "end_time": "2024-06-17T13:54:25.462875",
     "exception": false,
     "start_time": "2024-06-17T13:54:25.434042",
     "status": "completed"
    },
    "tags": []
   },
   "outputs": [],
   "source": [
    "# Taken from https://github.com/rusty1s/pytorch_geometric/blob/master/benchmark/kernel/gin.py.\n",
    "class GINWithJK(torch.nn.Module):\n",
    "    def __init__(self, dataset, num_layers, hidden, num_classes, mode='cat'):\n",
    "        super(GINWithJK, self).__init__()\n",
    "        self.conv1 = GINConv(Sequential(\n",
    "            Linear(dataset[0].num_features, hidden),\n",
    "            ReLU(),\n",
    "            Linear(hidden, hidden),\n",
    "            ReLU(),\n",
    "            BN(hidden),\n",
    "        ),\n",
    "            train_eps=True)\n",
    "        self.convs = torch.nn.ModuleList()\n",
    "        for i in range(num_layers - 1):\n",
    "            self.convs.append(\n",
    "                GINConv(Sequential(\n",
    "                    Linear(hidden, hidden),\n",
    "                    ReLU(),\n",
    "                    Linear(hidden, hidden),\n",
    "                    ReLU(),\n",
    "                    BN(hidden),\n",
    "                ),\n",
    "                    train_eps=True))\n",
    "        self.jump = JumpingKnowledge('cat')\n",
    "        if mode == 'cat':\n",
    "            self.lin1 = Linear(num_layers * hidden, hidden)\n",
    "        else:\n",
    "            self.lin1 = Linear(hidden, hidden)\n",
    "        self.lin2 = Linear(hidden, num_classes)\n",
    "\n",
    "    def reset_parameters(self):\n",
    "        self.conv1.reset_parameters()\n",
    "        for conv in self.convs:\n",
    "            conv.reset_parameters()\n",
    "        self.jump.reset_parameters()\n",
    "        self.lin1.reset_parameters()\n",
    "        self.lin2.reset_parameters()\n",
    "\n",
    "    def forward(self, data):\n",
    "        x, edge_index, batch = data.x, data.edge_index, data.batch\n",
    "        x = self.conv1(x, edge_index)\n",
    "        xs = [x]\n",
    "        for conv in self.convs:\n",
    "            x = conv(x, edge_index)\n",
    "            xs += [x]\n",
    "        x = self.jump(xs)\n",
    "        x = global_mean_pool(x, batch)\n",
    "        x = F.relu(self.lin1(x))\n",
    "        x = F.dropout(x, p=0.5, training=self.training)\n",
    "        x = self.lin2(x)\n",
    "        return F.log_softmax(x, dim=-1)\n",
    "\n",
    "    def __repr__(self):\n",
    "        return self.__class__.__name__\n"
   ]
  },
  {
   "cell_type": "code",
   "execution_count": 10,
   "id": "826ee18a",
   "metadata": {
    "execution": {
     "iopub.execute_input": "2024-06-17T13:54:25.484043Z",
     "iopub.status.busy": "2024-06-17T13:54:25.483634Z",
     "iopub.status.idle": "2024-06-17T13:54:25.493226Z",
     "shell.execute_reply": "2024-06-17T13:54:25.492324Z"
    },
    "papermill": {
     "duration": 0.022935,
     "end_time": "2024-06-17T13:54:25.495597",
     "exception": false,
     "start_time": "2024-06-17T13:54:25.472662",
     "status": "completed"
    },
    "tags": []
   },
   "outputs": [],
   "source": [
    "def split_data(name, data, train_indices_dict, all_or_class = 'class', characterization_method = 'random', percentile = 90):\n",
    "    # Assuming 'data.__len__()' returns the total number of instances in the dataset\n",
    "    all_indices = set(range(data.__len__()))\n",
    "\n",
    "    # Assuming 'train_val' contains the combined set of training and validation indices\n",
    "    train_val = set(train_indices_dict[name][all_or_class][characterization_method][percentile])\n",
    "    # Convert train_val to a numpy array if not already\n",
    "    train_val_indices = np.array(list(train_val))\n",
    "    test_set = all_indices - train_val\n",
    "    test_indices = np.array(list(test_set))\n",
    "    # Randomly select 80% of the indices for training\n",
    "    train_indices = np.random.choice(train_val_indices, size=int(0.8 * len(train_val_indices)), replace=False)\n",
    "\n",
    "    # Convert train_indices back to a set to perform set subtraction\n",
    "    train_set = set(train_indices)\n",
    "\n",
    "    # The remaining 20% will be for validation\n",
    "    val_indices = np.array(list(set(train_val) - train_set))\n",
    "    indices = {\n",
    "    'train': train_indices,  # fill with your training indices\n",
    "    'val': val_indices,    # fill with your validation indices\n",
    "    'test': test_indices    # fill with your testing indices\n",
    "    }\n",
    "    train_dataset = SubsetDataset(data, indices['train'])\n",
    "    val_dataset = SubsetDataset(data, indices['val'])\n",
    "    test_dataset = SubsetDataset(data, indices['test'])\n",
    "    \n",
    "    return train_dataset, test_dataset, val_dataset"
   ]
  },
  {
   "cell_type": "code",
   "execution_count": 11,
   "id": "aea77113",
   "metadata": {
    "execution": {
     "iopub.execute_input": "2024-06-17T13:54:25.517469Z",
     "iopub.status.busy": "2024-06-17T13:54:25.516606Z",
     "iopub.status.idle": "2024-06-17T13:54:25.525155Z",
     "shell.execute_reply": "2024-06-17T13:54:25.524150Z"
    },
    "papermill": {
     "duration": 0.022204,
     "end_time": "2024-06-17T13:54:25.527569",
     "exception": false,
     "start_time": "2024-06-17T13:54:25.505365",
     "status": "completed"
    },
    "tags": []
   },
   "outputs": [],
   "source": [
    "def calculate_global_metrics(all_labels, all_preds):\n",
    "    # Determine the number of unique classes\n",
    "    unique_classes = np.unique(all_labels)\n",
    "    cm = confusion_matrix(all_labels, all_preds)\n",
    "    tp = np.diag(cm).sum()\n",
    "    pop = len(all_preds)  # Total number of predictions\n",
    "    \n",
    "    if len(unique_classes) == 2:\n",
    "        # Binary classification\n",
    "        tn, fp, fn, tp = cm.ravel()\n",
    "    else:\n",
    "        # Multi-class classification\n",
    "        fp = cm.sum(axis=0) - np.diag(cm)  # False positives are summed over columns, exclude true positives\n",
    "        fn = cm.sum(axis=1) - np.diag(cm)  # False negatives are summed over rows, exclude true positives\n",
    "        tn = None  # True negatives are not defined the same way in multi-class scenarios\n",
    "\n",
    "        # Sum FP and FN for overall metrics\n",
    "        fp = fp.sum()\n",
    "        fn = fn.sum()\n",
    "\n",
    "    # Calculate accuracy, handling cases where TN is not used\n",
    "    acc = tp / pop\n",
    "\n",
    "    return acc, tn, fp, fn, tp"
   ]
  },
  {
   "cell_type": "code",
   "execution_count": 12,
   "id": "6e3d253f",
   "metadata": {
    "execution": {
     "iopub.execute_input": "2024-06-17T13:54:25.548818Z",
     "iopub.status.busy": "2024-06-17T13:54:25.548391Z",
     "iopub.status.idle": "2024-06-17T13:54:25.572220Z",
     "shell.execute_reply": "2024-06-17T13:54:25.571119Z"
    },
    "papermill": {
     "duration": 0.037624,
     "end_time": "2024-06-17T13:54:25.574801",
     "exception": false,
     "start_time": "2024-06-17T13:54:25.537177",
     "status": "completed"
    },
    "tags": []
   },
   "outputs": [],
   "source": [
    "def gnn_train(train_loader, model, optimizer, device):\n",
    "    model.train()\n",
    "\n",
    "    for data in train_loader:\n",
    "        data = data.to(device)\n",
    "        optimizer.zero_grad()\n",
    "        output = model(data)\n",
    "        loss = F.nll_loss(output, data.y)\n",
    "        loss.backward()\n",
    "        optimizer.step()\n",
    "        return loss\n",
    "\n",
    "\n",
    "# Get acc. of GNN model.\n",
    "def gnn_test(loader, model, device):\n",
    "    model.eval()\n",
    "    all_preds = []\n",
    "    all_labels = []\n",
    "    correct = 0\n",
    "    for data in loader:\n",
    "        data = data.to(device)\n",
    "        output = model(data)\n",
    "        pred = output.max(dim=1)[1]\n",
    "        correct += pred.eq(data.y).sum().item()\n",
    "        all_preds.extend(pred.cpu().numpy())  # Store predictions\n",
    "        all_labels.extend(data.y.cpu().numpy())\n",
    "    return calculate_global_metrics(all_labels, all_preds)\n",
    "def gnn_evaluation(\n",
    "    gnn, \n",
    "    ds_name, \n",
    "    dataset, \n",
    "    train_indices_dict, \n",
    "    _all_or_class, \n",
    "    method, \n",
    "    layers, \n",
    "    hidden, \n",
    "    num_classes,\n",
    "    max_num_epochs=200, \n",
    "    batch_size=128, \n",
    "    start_lr=0.01, \n",
    "    min_lr = 0.000001, \n",
    "    factor=0.5, \n",
    "    patience=5,\n",
    "    num_repetitions=10, \n",
    "    all_std=True\n",
    "):\n",
    "    # One-hot degree if node labels are not available.\n",
    "    # The following if clause is taken from  https://github.com/rusty1s/pytorch_geometric/blob/master/benchmark/kernel/datasets.py.\n",
    "#     if dataset.data.x is None:\n",
    "#         max_degree = 0\n",
    "#         degs = []\n",
    "#         for data in dataset:\n",
    "#             degs += [degree(data.edge_index[0], dtype=torch.long)]\n",
    "#             max_degree = max(max_degree, degs[-1].max().item())\n",
    "\n",
    "#         if max_degree < 1000:\n",
    "#             dataset.transform = T.OneHotDegree(max_degree)\n",
    "#         else:\n",
    "#             deg = torch.cat(degs, dim=0).to(torch.float)\n",
    "#             mean, std = deg.mean().item(), deg.std().item()\n",
    "#             dataset.transform = NormalizedDegree(mean, std)\n",
    "\n",
    "#     # Set device.\n",
    "    device = torch.device('cuda' if torch.cuda.is_available() else 'cpu')\n",
    "\n",
    "    test_accuracies_all = []\n",
    "    test_accuracies_complete = []\n",
    "\n",
    "    # Test acc. over all folds.\n",
    "    test_accuracies = []\n",
    "\n",
    "\n",
    "    best_val_acc = 0.0\n",
    "    best_test = 0.0\n",
    "\n",
    "    # Split data.\n",
    "    train_dataset, test_dataset, val_dataset = split_data(\n",
    "        ds_name,\n",
    "        dataset, \n",
    "        train_indices_dict, \n",
    "        all_or_class = _all_or_class, \n",
    "        characterization_method = method, \n",
    "        percentile = pctl\n",
    "    )\n",
    "    \n",
    "    # Prepare batching.\n",
    "    train_loader = DataLoader(train_dataset, batch_size=batch_size, shuffle=True)\n",
    "    val_loader = DataLoader(val_dataset, batch_size=batch_size, shuffle=True)\n",
    "    test_loader = DataLoader(test_dataset, batch_size=batch_size, shuffle=True)\n",
    "    if gnn == 'GIN':\n",
    "        model = GIN(dataset, layers, hidden, num_classes).to(device)\n",
    "        model.reset_parameters()\n",
    "    else:\n",
    "        model = GINWithJK(dataset, layers, hidden, num_classes).to(device)\n",
    "        model.reset_parameters()\n",
    "        \n",
    "    optimizer = torch.optim.Adam(model.parameters(), lr=start_lr)\n",
    "    scheduler = torch.optim.lr_scheduler.ReduceLROnPlateau(\n",
    "        optimizer, mode='min',\n",
    "        factor=factor, \n",
    "        patience=patience,\n",
    "        min_lr=0.0000001\n",
    "    )\n",
    "    results_dict = {'train': {'train_loss': [], 'val_acc': []}, 'test': {'acc': -1.0, 'confusion': {}}}\n",
    "    print('Epoch/val accuracy/lr', end = ': ')\n",
    "    for epoch in range(1, max_num_epochs + 1):\n",
    "        lr = scheduler.optimizer.param_groups[0]['lr']\n",
    "        train_loss = gnn_train(train_loader, model, optimizer, device)\n",
    "        val_acc = gnn_test(val_loader, model, device)[0]\n",
    "        results_dict['train']['train_loss'].append(train_loss)\n",
    "        results_dict['train']['val_acc'].append(val_acc)\n",
    "        scheduler.step(val_acc)\n",
    "        print(f'{epoch}/{val_acc:.4f}/{lr}', end = ' | ')\n",
    "        if lr < min_lr:\n",
    "            break\n",
    "\n",
    "    acc, tn, fp, fn, tp = gnn_test(test_loader, model, device)\n",
    "\n",
    "    results_dict['test']['acc'] = acc\n",
    "    results_dict['test']['confusion'] = {'tp': tp, 'fp': fp, 'tn': tn, 'fn': fn}\n",
    "    print(f'Accuracy: {acc:.4f}')\n",
    "    return results_dict\n",
    "        # Break if learning rate is smaller 10**-6.\n",
    "        \n",
    "    \n"
   ]
  },
  {
   "cell_type": "code",
   "execution_count": 13,
   "id": "af381146",
   "metadata": {
    "execution": {
     "iopub.execute_input": "2024-06-17T13:54:25.596897Z",
     "iopub.status.busy": "2024-06-17T13:54:25.596479Z",
     "iopub.status.idle": "2024-06-17T13:54:25.605042Z",
     "shell.execute_reply": "2024-06-17T13:54:25.603886Z"
    },
    "papermill": {
     "duration": 0.022957,
     "end_time": "2024-06-17T13:54:25.607699",
     "exception": false,
     "start_time": "2024-06-17T13:54:25.584742",
     "status": "completed"
    },
    "tags": []
   },
   "outputs": [],
   "source": [
    "# def my_gcn_train(name, data, train_indices_dict, method, _all_or_class, pctl, num_epochs):\n",
    "#     num_features = data[0].num_features\n",
    "#     results_dict = {}\n",
    "#     train_dataset, test_dataset, val_dataset = split_data(\n",
    "#         name,\n",
    "#         data, \n",
    "#         train_indices_dict, \n",
    "#         all_or_class = _all_or_class, \n",
    "#         characterization_method = method, \n",
    "#         percentile = pctl\n",
    "#     )\n",
    "#     device = torch.device('cuda' if torch.cuda.is_available() else 'cpu')\n",
    "#     model = GCN(num_features=num_features, num_classes=6).to(device)\n",
    "#     optimizer = torch.optim.Adam(model.parameters(), lr=0.005)\n",
    "#     scheduler = torch.optim.lr_scheduler.StepLR(optimizer, step_size=10, gamma=0.1)\n",
    "#     train_loader = DataLoader(train_dataset, batch_size=64, shuffle=True, num_workers = 4, pin_memory = True)\n",
    "#     val_loader = DataLoader(val_dataset, batch_size=16, shuffle=False, num_workers = 4, pin_memory = True)\n",
    "#     test_loader = DataLoader(test_dataset, batch_size=16, shuffle=False)\n",
    "\n",
    "#     # Initialize the loss function\n",
    "#     criterion = nn.CrossEntropyLoss()\n",
    "#     # Training loop\n",
    "#     scaler = GradScaler()\n",
    "\n",
    "#     def train():\n",
    "#         model.train()\n",
    "#         total_loss = 0\n",
    "#         for data in train_loader:\n",
    "#             data = data.to(device)\n",
    "#             optimizer.zero_grad()\n",
    "\n",
    "#             with autocast():\n",
    "#                 out = model(data)  # outputs logits\n",
    "#                 loss = criterion(out, data.y)\n",
    "\n",
    "#             scaler.scale(loss).backward()\n",
    "#             scaler.step(optimizer)\n",
    "#             scaler.update()\n",
    "\n",
    "#             total_loss += loss.item()\n",
    "\n",
    "#         return total_loss / len(train_loader)\n",
    "\n",
    "#     def evaluate(loader):\n",
    "#         model.eval()\n",
    "#         correct = 0\n",
    "#         total = 0\n",
    "#         with torch.no_grad():\n",
    "#             for data in loader:\n",
    "#                 data = data.to(device)\n",
    "#                 out = model(data)\n",
    "#                 pred = out.argmax(dim=1)\n",
    "#                 correct += int((pred == data.y).sum())\n",
    "#                 total += data.y.size(0)\n",
    "#         return correct / total\n",
    "#     # Assuming you have a DataLoader for your test data similar to train_loader\n",
    "\n",
    "#     def test():\n",
    "#         model.eval()  # Set the model to evaluation mode\n",
    "#         all_preds = []\n",
    "#         all_labels = []\n",
    "\n",
    "#         with torch.no_grad():  # Inference without gradient calculation\n",
    "#             for data in test_loader:\n",
    "#                 data = data.to(device)\n",
    "#                 out = model(data)  # Forward pass\n",
    "#                 pred = out.argmax(dim=1)  # Get the index of the max log-probability\n",
    "#                 all_preds.extend(pred.cpu().numpy())  # Store predictions\n",
    "#                 all_labels.extend(data.y.cpu().numpy())  # Store actual labels\n",
    "\n",
    "#         # Calculate confusion matrix\n",
    "#         acc, tn, fp, fn, tp = calculate_global_metrics(all_labels, all_preds)\n",
    "#         return acc, tn, fp, fn, tp\n",
    "    \n",
    "#     results_dict = {'train': {'train_loss': [], 'val_acc': []}, 'test': {'acc': -1.0, 'confusion': {}}}\n",
    "#     print(f'Training GCN on {name} for {num_epochs} epochs:')\n",
    "#     print('Epoch/train loss/val accuracy', end = ': ')\n",
    "#     for epoch in range(num_epochs):\n",
    "#         train_loss = train()\n",
    "#         val_accuracy = evaluate(val_loader)\n",
    "#         results_dict['train']['train_loss'].append(train_loss)\n",
    "#         results_dict['train']['val_acc'].append(val_accuracy)\n",
    "#         print(f'{epoch}/{train_loss:.4f}/{val_accuracy:.4f}', end = ' | ')\n",
    "#         scheduler.step()\n",
    "#     acc, tn, fp, fn, tp = test()\n",
    "#     results_dict['test']['acc'] = acc\n",
    "#     results_dict['test']['confusion'] = {'tp': tp, 'fp': fp, 'tn': tn, 'fn': fn}\n",
    "#     print(f'Accuracy: {acc:.4f}')\n",
    "#     return results_dict"
   ]
  },
  {
   "cell_type": "code",
   "execution_count": 14,
   "id": "0fb95881",
   "metadata": {
    "execution": {
     "iopub.execute_input": "2024-06-17T13:54:25.630585Z",
     "iopub.status.busy": "2024-06-17T13:54:25.630128Z",
     "iopub.status.idle": "2024-06-17T13:54:25.636154Z",
     "shell.execute_reply": "2024-06-17T13:54:25.635111Z"
    },
    "papermill": {
     "duration": 0.020357,
     "end_time": "2024-06-17T13:54:25.638592",
     "exception": false,
     "start_time": "2024-06-17T13:54:25.618235",
     "status": "completed"
    },
    "tags": []
   },
   "outputs": [],
   "source": [
    "dataset_list = ['enzymes', 'dd', 'nci1', 'nci109', 'proteins', 'mutag']\n",
    "char_methods = ['random', 'graph_order', 'cos_sim']\n",
    "percentiles = [x for x in range(40, 91, 10)]"
   ]
  },
  {
   "cell_type": "code",
   "execution_count": 15,
   "id": "ecbf200b",
   "metadata": {
    "execution": {
     "iopub.execute_input": "2024-06-17T13:54:25.660440Z",
     "iopub.status.busy": "2024-06-17T13:54:25.659336Z",
     "iopub.status.idle": "2024-06-17T13:54:58.541834Z",
     "shell.execute_reply": "2024-06-17T13:54:58.540748Z"
    },
    "papermill": {
     "duration": 32.896256,
     "end_time": "2024-06-17T13:54:58.544662",
     "exception": false,
     "start_time": "2024-06-17T13:54:25.648406",
     "status": "completed"
    },
    "tags": []
   },
   "outputs": [],
   "source": [
    "if 'dataset_dict' not in globals():\n",
    "    dataset_dict = {}\n",
    "    train_indices_dict = {}\n",
    "    for dataset in dataset_list:\n",
    "        with open(f'/kaggle/input/{dataset}-dga/{dataset.upper()}.pt', 'rb') as file:\n",
    "            dataset_dict[dataset] = TrainDatasetWrapper(torch.load(file))\n",
    "        with open(f'/kaggle/input/{dataset}-dga/{dataset.upper()}_train_indices_dict.pkl', 'rb') as file:\n",
    "            train_indices_dict[dataset] = pickle.load(file)\n",
    "    num_classes_dict = {dataset: 2 if dataset != 'enzymes' else 6 for dataset in dataset_list}"
   ]
  },
  {
   "cell_type": "code",
   "execution_count": 16,
   "id": "4796b5c7",
   "metadata": {
    "execution": {
     "iopub.execute_input": "2024-06-17T13:54:58.566398Z",
     "iopub.status.busy": "2024-06-17T13:54:58.565941Z",
     "iopub.status.idle": "2024-06-17T19:18:07.706220Z",
     "shell.execute_reply": "2024-06-17T19:18:07.704457Z"
    },
    "papermill": {
     "duration": 19389.154666,
     "end_time": "2024-06-17T19:18:07.709310",
     "exception": false,
     "start_time": "2024-06-17T13:54:58.554644",
     "status": "completed"
    },
    "scrolled": true,
    "tags": []
   },
   "outputs": [
    {
     "name": "stdout",
     "output_type": "stream",
     "text": [
      "Evaluating enzymes dataset using random method with a percentile of 40 against class members\n",
      "Epoch/val accuracy/lr: "
     ]
    },
    {
     "name": "stderr",
     "output_type": "stream",
     "text": [
      "/opt/conda/lib/python3.10/site-packages/torch_geometric/deprecation.py:26: UserWarning: 'data.DataLoader' is deprecated, use 'loader.DataLoader' instead\n",
      "  warnings.warn(out)\n"
     ]
    },
    {
     "name": "stdout",
     "output_type": "stream",
     "text": [
      "1/0.1875/0.01 | 2/0.1250/0.01 | 3/0.2292/0.01 | 4/0.1458/0.01 | 5/0.1667/0.01 | 6/0.1667/0.01 | 7/0.0417/0.01 | 8/0.1875/0.01 | 9/0.1875/0.01 | 10/0.1667/0.01 | 11/0.1667/0.01 | 12/0.1667/0.01 | 13/0.1875/0.01 | 14/0.1875/0.005 | 15/0.1667/0.005 | 16/0.1458/0.005 | 17/0.1458/0.005 | 18/0.1458/0.005 | 19/0.1667/0.005 | 20/0.2500/0.0025 | 21/0.2917/0.0025 | 22/0.2917/0.0025 | 23/0.2708/0.0025 | 24/0.2500/0.0025 | 25/0.2292/0.0025 | 26/0.1875/0.00125 | 27/0.1875/0.00125 | 28/0.1875/0.00125 | 29/0.1667/0.00125 | 30/0.1875/0.00125 | 31/0.1875/0.00125 | 32/0.1875/0.000625 | 33/0.2083/0.000625 | 34/0.2083/0.000625 | 35/0.1875/0.000625 | 36/0.1875/0.000625 | 37/0.1875/0.000625 | 38/0.1875/0.0003125 | 39/0.1875/0.0003125 | 40/0.1875/0.0003125 | 41/0.1875/0.0003125 | 42/0.1875/0.0003125 | 43/0.1875/0.0003125 | 44/0.1875/0.00015625 | 45/0.2083/0.00015625 | 46/0.2083/0.00015625 | 47/0.2083/0.00015625 | 48/0.2083/0.00015625 | 49/0.2083/0.00015625 | 50/0.2292/7.8125e-05 | 51/0.2083/7.8125e-05 | 52/0.2292/7.8125e-05 | 53/0.2292/7.8125e-05 | 54/0.2292/7.8125e-05 | 55/0.2500/7.8125e-05 | 56/0.2500/3.90625e-05 | 57/0.2500/3.90625e-05 | 58/0.2500/3.90625e-05 | 59/0.2292/3.90625e-05 | 60/0.2292/3.90625e-05 | 61/0.2292/3.90625e-05 | 62/0.2083/1.953125e-05 | 63/0.2083/1.953125e-05 | 64/0.2083/1.953125e-05 | 65/0.2083/1.953125e-05 | 66/0.2083/1.953125e-05 | 67/0.2083/1.953125e-05 | 68/0.2292/9.765625e-06 | 69/0.2292/9.765625e-06 | 70/0.2292/9.765625e-06 | 71/0.2292/9.765625e-06 | 72/0.2292/9.765625e-06 | 73/0.2083/9.765625e-06 | 74/0.1875/4.8828125e-06 | 75/0.1875/4.8828125e-06 | 76/0.1875/4.8828125e-06 | 77/0.1875/4.8828125e-06 | 78/0.1875/4.8828125e-06 | 79/0.1875/4.8828125e-06 | 80/0.1875/2.44140625e-06 | 81/0.1875/2.44140625e-06 | 82/0.1875/2.44140625e-06 | 83/0.1875/2.44140625e-06 | 84/0.1875/2.44140625e-06 | 85/0.1875/2.44140625e-06 | 86/0.1875/1.220703125e-06 | 87/0.1875/1.220703125e-06 | 88/0.1875/1.220703125e-06 | 89/0.1875/1.220703125e-06 | 90/0.1875/1.220703125e-06 | 91/0.1875/1.220703125e-06 | 92/0.2083/6.103515625e-07 | Accuracy: 0.3139\n",
      "Evaluating enzymes dataset using random method with a percentile of 50 against class members\n",
      "Epoch/val accuracy/lr: "
     ]
    },
    {
     "name": "stderr",
     "output_type": "stream",
     "text": [
      "/opt/conda/lib/python3.10/site-packages/torch_geometric/deprecation.py:26: UserWarning: 'data.DataLoader' is deprecated, use 'loader.DataLoader' instead\n",
      "  warnings.warn(out)\n"
     ]
    },
    {
     "name": "stdout",
     "output_type": "stream",
     "text": [
      "1/0.1500/0.01 | 2/0.0833/0.01 | 3/0.0833/0.01 | 4/0.0833/0.01 | 5/0.0833/0.01 | 6/0.0833/0.01 | 7/0.1000/0.01 | 8/0.1000/0.01 | 9/0.1167/0.005 | 10/0.0833/0.005 | 11/0.1167/0.005 | 12/0.1167/0.005 | 13/0.1667/0.005 | 14/0.1833/0.005 | 15/0.2167/0.0025 | 16/0.2167/0.0025 | 17/0.2167/0.0025 | 18/0.2000/0.0025 | 19/0.2000/0.0025 | 20/0.1833/0.0025 | 21/0.2500/0.00125 | 22/0.2333/0.00125 | 23/0.1833/0.00125 | 24/0.2167/0.00125 | 25/0.2000/0.00125 | 26/0.2000/0.00125 | 27/0.1833/0.000625 | 28/0.2167/0.000625 | 29/0.2167/0.000625 | 30/0.2667/0.000625 | 31/0.2667/0.000625 | 32/0.2667/0.000625 | 33/0.2667/0.0003125 | 34/0.2333/0.0003125 | 35/0.2500/0.0003125 | 36/0.2500/0.0003125 | 37/0.2667/0.0003125 | 38/0.3000/0.0003125 | 39/0.2667/0.00015625 | 40/0.2667/0.00015625 | 41/0.2500/0.00015625 | 42/0.2333/0.00015625 | 43/0.2333/0.00015625 | 44/0.2500/0.00015625 | 45/0.2500/7.8125e-05 | 46/0.2500/7.8125e-05 | 47/0.2500/7.8125e-05 | 48/0.2333/7.8125e-05 | 49/0.2333/7.8125e-05 | 50/0.2333/7.8125e-05 | 51/0.2500/3.90625e-05 | 52/0.2500/3.90625e-05 | 53/0.2500/3.90625e-05 | 54/0.2500/3.90625e-05 | 55/0.2500/3.90625e-05 | 56/0.2500/3.90625e-05 | 57/0.2667/1.953125e-05 | 58/0.2667/1.953125e-05 | 59/0.2667/1.953125e-05 | 60/0.2667/1.953125e-05 | 61/0.2667/1.953125e-05 | 62/0.2667/1.953125e-05 | 63/0.2667/9.765625e-06 | 64/0.2667/9.765625e-06 | 65/0.2667/9.765625e-06 | 66/0.2667/9.765625e-06 | 67/0.2667/9.765625e-06 | 68/0.2667/9.765625e-06 | 69/0.2667/4.8828125e-06 | 70/0.2500/4.8828125e-06 | 71/0.2667/4.8828125e-06 | 72/0.2667/4.8828125e-06 | 73/0.2667/4.8828125e-06 | 74/0.2500/4.8828125e-06 | 75/0.2500/2.44140625e-06 | 76/0.2500/2.44140625e-06 | 77/0.2500/2.44140625e-06 | 78/0.2667/2.44140625e-06 | 79/0.2667/2.44140625e-06 | 80/0.2667/2.44140625e-06 | 81/0.2500/1.220703125e-06 | 82/0.2500/1.220703125e-06 | 83/0.2500/1.220703125e-06 | 84/0.2667/1.220703125e-06 | 85/0.2667/1.220703125e-06 | 86/0.2667/1.220703125e-06 | 87/0.2667/6.103515625e-07 | Accuracy: 0.3133\n",
      "Evaluating enzymes dataset using random method with a percentile of 60 against class members\n",
      "Epoch/val accuracy/lr: "
     ]
    },
    {
     "name": "stderr",
     "output_type": "stream",
     "text": [
      "/opt/conda/lib/python3.10/site-packages/torch_geometric/deprecation.py:26: UserWarning: 'data.DataLoader' is deprecated, use 'loader.DataLoader' instead\n",
      "  warnings.warn(out)\n"
     ]
    },
    {
     "name": "stdout",
     "output_type": "stream",
     "text": [
      "1/0.1806/0.01 | 2/0.1806/0.01 | 3/0.1806/0.01 | 4/0.1806/0.01 | 5/0.2083/0.01 | 6/0.2083/0.01 | 7/0.2083/0.01 | 8/0.2917/0.005 | 9/0.2917/0.005 | 10/0.3056/0.005 | 11/0.3056/0.005 | 12/0.3056/0.005 | 13/0.2778/0.005 | 14/0.3194/0.0025 | 15/0.3333/0.0025 | 16/0.3611/0.0025 | 17/0.3611/0.0025 | 18/0.3611/0.0025 | 19/0.3333/0.0025 | 20/0.3333/0.00125 | 21/0.3194/0.00125 | 22/0.3056/0.00125 | 23/0.3472/0.00125 | 24/0.3889/0.00125 | 25/0.3750/0.00125 | 26/0.3750/0.000625 | 27/0.3889/0.000625 | 28/0.3889/0.000625 | 29/0.4167/0.000625 | 30/0.4167/0.000625 | 31/0.4306/0.000625 | 32/0.4444/0.0003125 | 33/0.4444/0.0003125 | 34/0.4583/0.0003125 | 35/0.4444/0.0003125 | 36/0.4444/0.0003125 | 37/0.4444/0.0003125 | 38/0.4444/0.00015625 | 39/0.4583/0.00015625 | 40/0.4444/0.00015625 | 41/0.4444/0.00015625 | 42/0.4306/0.00015625 | 43/0.4306/0.00015625 | 44/0.4306/7.8125e-05 | 45/0.4444/7.8125e-05 | 46/0.4583/7.8125e-05 | 47/0.4583/7.8125e-05 | 48/0.4583/7.8125e-05 | 49/0.4583/7.8125e-05 | 50/0.4722/3.90625e-05 | 51/0.4861/3.90625e-05 | 52/0.4861/3.90625e-05 | 53/0.4861/3.90625e-05 | 54/0.4861/3.90625e-05 | 55/0.4861/3.90625e-05 | 56/0.4861/1.953125e-05 | 57/0.4861/1.953125e-05 | 58/0.4861/1.953125e-05 | 59/0.5000/1.953125e-05 | 60/0.4861/1.953125e-05 | 61/0.4861/1.953125e-05 | 62/0.4861/9.765625e-06 | 63/0.4861/9.765625e-06 | 64/0.4861/9.765625e-06 | 65/0.5000/9.765625e-06 | 66/0.5000/9.765625e-06 | 67/0.5000/9.765625e-06 | 68/0.5000/4.8828125e-06 | 69/0.5139/4.8828125e-06 | 70/0.5000/4.8828125e-06 | 71/0.5000/4.8828125e-06 | 72/0.5000/4.8828125e-06 | 73/0.5000/4.8828125e-06 | 74/0.5000/2.44140625e-06 | 75/0.5000/2.44140625e-06 | 76/0.5000/2.44140625e-06 | 77/0.5000/2.44140625e-06 | 78/0.5000/2.44140625e-06 | 79/0.5000/2.44140625e-06 | 80/0.4861/1.220703125e-06 | 81/0.4861/1.220703125e-06 | 82/0.5000/1.220703125e-06 | 83/0.5000/1.220703125e-06 | 84/0.5139/1.220703125e-06 | 85/0.5139/1.220703125e-06 | 86/0.5000/6.103515625e-07 | Accuracy: 0.3292\n",
      "Evaluating enzymes dataset using random method with a percentile of 70 against class members\n",
      "Epoch/val accuracy/lr: "
     ]
    },
    {
     "name": "stderr",
     "output_type": "stream",
     "text": [
      "/opt/conda/lib/python3.10/site-packages/torch_geometric/deprecation.py:26: UserWarning: 'data.DataLoader' is deprecated, use 'loader.DataLoader' instead\n",
      "  warnings.warn(out)\n"
     ]
    },
    {
     "name": "stdout",
     "output_type": "stream",
     "text": [
      "1/0.1667/0.01 | 2/0.1905/0.01 | 3/0.1429/0.01 | 4/0.1905/0.01 | 5/0.2024/0.01 | 6/0.1905/0.01 | 7/0.1905/0.01 | 8/0.2143/0.01 | 9/0.1905/0.01 | 10/0.1786/0.005 | 11/0.1786/0.005 | 12/0.1786/0.005 | 13/0.1786/0.005 | 14/0.2024/0.005 | 15/0.2143/0.005 | 16/0.2262/0.0025 | 17/0.2500/0.0025 | 18/0.2738/0.0025 | 19/0.2857/0.0025 | 20/0.2500/0.0025 | 21/0.2262/0.0025 | 22/0.2024/0.00125 | 23/0.2500/0.00125 | 24/0.2024/0.00125 | 25/0.2024/0.00125 | 26/0.2024/0.00125 | 27/0.1786/0.00125 | 28/0.1786/0.000625 | 29/0.2024/0.000625 | 30/0.1905/0.000625 | 31/0.2381/0.000625 | 32/0.2381/0.000625 | 33/0.2381/0.000625 | 34/0.2381/0.0003125 | 35/0.2381/0.0003125 | 36/0.2500/0.0003125 | 37/0.2500/0.0003125 | 38/0.2857/0.0003125 | 39/0.2857/0.0003125 | 40/0.2976/0.00015625 | 41/0.3214/0.00015625 | 42/0.3333/0.00015625 | 43/0.3333/0.00015625 | 44/0.3333/0.00015625 | 45/0.3333/0.00015625 | 46/0.3452/7.8125e-05 | 47/0.3452/7.8125e-05 | 48/0.3333/7.8125e-05 | 49/0.3333/7.8125e-05 | 50/0.3333/7.8125e-05 | 51/0.3333/7.8125e-05 | 52/0.3333/3.90625e-05 | 53/0.3333/3.90625e-05 | 54/0.3333/3.90625e-05 | 55/0.3452/3.90625e-05 | 56/0.3452/3.90625e-05 | 57/0.3452/3.90625e-05 | 58/0.3333/1.953125e-05 | 59/0.3333/1.953125e-05 | 60/0.3333/1.953125e-05 | 61/0.3214/1.953125e-05 | 62/0.3214/1.953125e-05 | 63/0.3333/1.953125e-05 | 64/0.3333/9.765625e-06 | 65/0.3333/9.765625e-06 | 66/0.3333/9.765625e-06 | 67/0.3452/9.765625e-06 | 68/0.3452/9.765625e-06 | 69/0.3452/9.765625e-06 | 70/0.3333/4.8828125e-06 | 71/0.3333/4.8828125e-06 | 72/0.3333/4.8828125e-06 | 73/0.3333/4.8828125e-06 | 74/0.3333/4.8828125e-06 | 75/0.3333/4.8828125e-06 | 76/0.3333/2.44140625e-06 | 77/0.3333/2.44140625e-06 | 78/0.3333/2.44140625e-06 | 79/0.3333/2.44140625e-06 | 80/0.3333/2.44140625e-06 | 81/0.3333/2.44140625e-06 | 82/0.3333/1.220703125e-06 | 83/0.3452/1.220703125e-06 | 84/0.3571/1.220703125e-06 | 85/0.3452/1.220703125e-06 | 86/0.3452/1.220703125e-06 | 87/0.3452/1.220703125e-06 | 88/0.3333/6.103515625e-07 | Accuracy: 0.3333\n",
      "Evaluating enzymes dataset using random method with a percentile of 80 against class members\n",
      "Epoch/val accuracy/lr: "
     ]
    },
    {
     "name": "stderr",
     "output_type": "stream",
     "text": [
      "/opt/conda/lib/python3.10/site-packages/torch_geometric/deprecation.py:26: UserWarning: 'data.DataLoader' is deprecated, use 'loader.DataLoader' instead\n",
      "  warnings.warn(out)\n"
     ]
    },
    {
     "name": "stdout",
     "output_type": "stream",
     "text": [
      "1/0.1354/0.01 | 2/0.1354/0.01 | 3/0.1354/0.01 | 4/0.1354/0.01 | 5/0.1354/0.01 | 6/0.1354/0.01 | 7/0.1354/0.01 | 8/0.1354/0.005 | 9/0.1354/0.005 | 10/0.1354/0.005 | 11/0.1354/0.005 | 12/0.1458/0.005 | 13/0.1667/0.005 | 14/0.1979/0.0025 | 15/0.1979/0.0025 | 16/0.2188/0.0025 | 17/0.2292/0.0025 | 18/0.2604/0.0025 | 19/0.2708/0.0025 | 20/0.2812/0.00125 | 21/0.2812/0.00125 | 22/0.3021/0.00125 | 23/0.2812/0.00125 | 24/0.2917/0.00125 | 25/0.2812/0.00125 | 26/0.2917/0.000625 | 27/0.3125/0.000625 | 28/0.2812/0.000625 | 29/0.2604/0.000625 | 30/0.2812/0.000625 | 31/0.2604/0.000625 | 32/0.2500/0.0003125 | 33/0.2500/0.0003125 | 34/0.2604/0.0003125 | 35/0.2604/0.0003125 | 36/0.2708/0.0003125 | 37/0.2708/0.0003125 | 38/0.2708/0.00015625 | 39/0.2708/0.00015625 | 40/0.2812/0.00015625 | 41/0.2917/0.00015625 | 42/0.2917/0.00015625 | 43/0.2917/0.00015625 | 44/0.2917/7.8125e-05 | 45/0.3021/7.8125e-05 | 46/0.3021/7.8125e-05 | 47/0.3021/7.8125e-05 | 48/0.2812/7.8125e-05 | 49/0.2708/7.8125e-05 | 50/0.2708/3.90625e-05 | 51/0.2708/3.90625e-05 | 52/0.2812/3.90625e-05 | 53/0.2917/3.90625e-05 | 54/0.2708/3.90625e-05 | 55/0.2708/3.90625e-05 | 56/0.2708/1.953125e-05 | 57/0.2708/1.953125e-05 | 58/0.2708/1.953125e-05 | 59/0.2812/1.953125e-05 | 60/0.2708/1.953125e-05 | 61/0.2708/1.953125e-05 | 62/0.2812/9.765625e-06 | 63/0.2812/9.765625e-06 | 64/0.2812/9.765625e-06 | 65/0.2812/9.765625e-06 | 66/0.2917/9.765625e-06 | 67/0.2917/9.765625e-06 | 68/0.2812/4.8828125e-06 | 69/0.2812/4.8828125e-06 | 70/0.2812/4.8828125e-06 | 71/0.2812/4.8828125e-06 | 72/0.2812/4.8828125e-06 | 73/0.2812/4.8828125e-06 | 74/0.2708/2.44140625e-06 | 75/0.2812/2.44140625e-06 | 76/0.2812/2.44140625e-06 | 77/0.2917/2.44140625e-06 | 78/0.2917/2.44140625e-06 | 79/0.2917/2.44140625e-06 | 80/0.2917/1.220703125e-06 | 81/0.2812/1.220703125e-06 | 82/0.2812/1.220703125e-06 | 83/0.2812/1.220703125e-06 | 84/0.2812/1.220703125e-06 | 85/0.2812/1.220703125e-06 | 86/0.2812/6.103515625e-07 | Accuracy: 0.2583\n",
      "Evaluating enzymes dataset using random method with a percentile of 90 against class members\n",
      "Epoch/val accuracy/lr: "
     ]
    },
    {
     "name": "stderr",
     "output_type": "stream",
     "text": [
      "/opt/conda/lib/python3.10/site-packages/torch_geometric/deprecation.py:26: UserWarning: 'data.DataLoader' is deprecated, use 'loader.DataLoader' instead\n",
      "  warnings.warn(out)\n"
     ]
    },
    {
     "name": "stdout",
     "output_type": "stream",
     "text": [
      "1/0.2130/0.01 | 2/0.2130/0.01 | 3/0.2315/0.01 | 4/0.2222/0.01 | 5/0.2130/0.01 | 6/0.2037/0.01 | 7/0.2037/0.01 | 8/0.2130/0.01 | 9/0.1574/0.01 | 10/0.1296/0.01 | 11/0.2130/0.01 | 12/0.2130/0.01 | 13/0.2500/0.01 | 14/0.2500/0.01 | 15/0.2500/0.01 | 16/0.2130/0.01 | 17/0.2315/0.005 | 18/0.2593/0.005 | 19/0.2963/0.005 | 20/0.3056/0.005 | 21/0.3056/0.005 | 22/0.3056/0.005 | 23/0.3241/0.0025 | 24/0.3333/0.0025 | 25/0.3148/0.0025 | 26/0.3241/0.0025 | 27/0.3241/0.0025 | 28/0.3426/0.0025 | 29/0.3704/0.00125 | 30/0.3889/0.00125 | 31/0.3796/0.00125 | 32/0.4074/0.00125 | 33/0.4074/0.00125 | 34/0.3981/0.00125 | 35/0.3981/0.000625 | 36/0.3981/0.000625 | 37/0.4074/0.000625 | 38/0.4167/0.000625 | 39/0.4074/0.000625 | 40/0.3981/0.000625 | 41/0.3981/0.0003125 | 42/0.4074/0.0003125 | 43/0.4259/0.0003125 | 44/0.4167/0.0003125 | 45/0.4167/0.0003125 | 46/0.4167/0.0003125 | 47/0.4167/0.00015625 | 48/0.4074/0.00015625 | 49/0.4074/0.00015625 | 50/0.4167/0.00015625 | 51/0.4167/0.00015625 | 52/0.4167/0.00015625 | 53/0.4167/7.8125e-05 | 54/0.4167/7.8125e-05 | 55/0.4259/7.8125e-05 | 56/0.4259/7.8125e-05 | 57/0.4259/7.8125e-05 | 58/0.4259/7.8125e-05 | 59/0.4167/3.90625e-05 | 60/0.4167/3.90625e-05 | 61/0.4167/3.90625e-05 | 62/0.4259/3.90625e-05 | 63/0.4259/3.90625e-05 | 64/0.4352/3.90625e-05 | 65/0.4352/1.953125e-05 | 66/0.4352/1.953125e-05 | 67/0.4259/1.953125e-05 | 68/0.4259/1.953125e-05 | 69/0.4259/1.953125e-05 | 70/0.4259/1.953125e-05 | 71/0.4259/9.765625e-06 | 72/0.4259/9.765625e-06 | 73/0.4352/9.765625e-06 | 74/0.4352/9.765625e-06 | 75/0.4352/9.765625e-06 | 76/0.4352/9.765625e-06 | 77/0.4352/4.8828125e-06 | 78/0.4352/4.8828125e-06 | 79/0.4352/4.8828125e-06 | 80/0.4352/4.8828125e-06 | 81/0.4352/4.8828125e-06 | 82/0.4352/4.8828125e-06 | 83/0.4352/2.44140625e-06 | 84/0.4352/2.44140625e-06 | 85/0.4352/2.44140625e-06 | 86/0.4352/2.44140625e-06 | 87/0.4352/2.44140625e-06 | 88/0.4352/2.44140625e-06 | 89/0.4352/1.220703125e-06 | 90/0.4352/1.220703125e-06 | 91/0.4352/1.220703125e-06 | 92/0.4352/1.220703125e-06 | 93/0.4352/1.220703125e-06 | 94/0.4352/1.220703125e-06 | 95/0.4352/6.103515625e-07 | Accuracy: 0.3333\n",
      "Evaluating enzymes dataset using graph_order method with a percentile of 40 against class members\n",
      "Epoch/val accuracy/lr: "
     ]
    },
    {
     "name": "stderr",
     "output_type": "stream",
     "text": [
      "/opt/conda/lib/python3.10/site-packages/torch_geometric/deprecation.py:26: UserWarning: 'data.DataLoader' is deprecated, use 'loader.DataLoader' instead\n",
      "  warnings.warn(out)\n"
     ]
    },
    {
     "name": "stdout",
     "output_type": "stream",
     "text": [
      "1/0.3333/0.01 | 2/0.3333/0.01 | 3/0.2500/0.01 | 4/0.2500/0.01 | 5/0.2292/0.01 | 6/0.2500/0.01 | 7/0.2917/0.01 | 8/0.3125/0.01 | 9/0.3333/0.01 | 10/0.3542/0.01 | 11/0.3125/0.01 | 12/0.3125/0.005 | 13/0.3125/0.005 | 14/0.3125/0.005 | 15/0.3542/0.005 | 16/0.3333/0.005 | 17/0.2500/0.005 | 18/0.2292/0.0025 | 19/0.2708/0.0025 | 20/0.2500/0.0025 | 21/0.2500/0.0025 | 22/0.2708/0.0025 | 23/0.2917/0.0025 | 24/0.2917/0.00125 | 25/0.3125/0.00125 | 26/0.2917/0.00125 | 27/0.2708/0.00125 | 28/0.2917/0.00125 | 29/0.2708/0.00125 | 30/0.3125/0.000625 | 31/0.3333/0.000625 | 32/0.3542/0.000625 | 33/0.3542/0.000625 | 34/0.3542/0.000625 | 35/0.3750/0.000625 | 36/0.3750/0.0003125 | 37/0.3750/0.0003125 | 38/0.3542/0.0003125 | 39/0.3542/0.0003125 | 40/0.3542/0.0003125 | 41/0.3750/0.0003125 | 42/0.3750/0.00015625 | 43/0.3958/0.00015625 | 44/0.4167/0.00015625 | 45/0.4167/0.00015625 | 46/0.4167/0.00015625 | 47/0.3958/0.00015625 | 48/0.3958/7.8125e-05 | 49/0.3958/7.8125e-05 | 50/0.3958/7.8125e-05 | 51/0.3958/7.8125e-05 | 52/0.3958/7.8125e-05 | 53/0.3958/7.8125e-05 | 54/0.3750/3.90625e-05 | 55/0.3750/3.90625e-05 | 56/0.3750/3.90625e-05 | 57/0.3750/3.90625e-05 | 58/0.3750/3.90625e-05 | 59/0.3750/3.90625e-05 | 60/0.3542/1.953125e-05 | 61/0.3542/1.953125e-05 | 62/0.3542/1.953125e-05 | 63/0.3542/1.953125e-05 | 64/0.3542/1.953125e-05 | 65/0.3333/1.953125e-05 | 66/0.3333/9.765625e-06 | 67/0.3333/9.765625e-06 | 68/0.3333/9.765625e-06 | 69/0.3333/9.765625e-06 | 70/0.3542/9.765625e-06 | 71/0.3333/9.765625e-06 | 72/0.3542/4.8828125e-06 | 73/0.3333/4.8828125e-06 | 74/0.3333/4.8828125e-06 | 75/0.3542/4.8828125e-06 | 76/0.3542/4.8828125e-06 | 77/0.3542/4.8828125e-06 | 78/0.3542/2.44140625e-06 | 79/0.3542/2.44140625e-06 | 80/0.3542/2.44140625e-06 | 81/0.3542/2.44140625e-06 | 82/0.3542/2.44140625e-06 | 83/0.3542/2.44140625e-06 | 84/0.3542/1.220703125e-06 | 85/0.3542/1.220703125e-06 | 86/0.3542/1.220703125e-06 | 87/0.3542/1.220703125e-06 | 88/0.3542/1.220703125e-06 | 89/0.3542/1.220703125e-06 | 90/0.3542/6.103515625e-07 | Accuracy: 0.2250\n",
      "Evaluating enzymes dataset using graph_order method with a percentile of 50 against class members\n",
      "Epoch/val accuracy/lr: "
     ]
    },
    {
     "name": "stderr",
     "output_type": "stream",
     "text": [
      "/opt/conda/lib/python3.10/site-packages/torch_geometric/deprecation.py:26: UserWarning: 'data.DataLoader' is deprecated, use 'loader.DataLoader' instead\n",
      "  warnings.warn(out)\n"
     ]
    },
    {
     "name": "stdout",
     "output_type": "stream",
     "text": [
      "1/0.1833/0.01 | 2/0.1833/0.01 | 3/0.1667/0.01 | 4/0.1833/0.01 | 5/0.1333/0.01 | 6/0.1500/0.01 | 7/0.1667/0.01 | 8/0.1833/0.01 | 9/0.1833/0.01 | 10/0.1667/0.01 | 11/0.1333/0.01 | 12/0.1333/0.005 | 13/0.1667/0.005 | 14/0.1500/0.005 | 15/0.1333/0.005 | 16/0.1167/0.005 | 17/0.1333/0.005 | 18/0.2000/0.005 | 19/0.2000/0.005 | 20/0.2000/0.005 | 21/0.2167/0.005 | 22/0.2167/0.005 | 23/0.2333/0.0025 | 24/0.2667/0.0025 | 25/0.2500/0.0025 | 26/0.2500/0.0025 | 27/0.2333/0.0025 | 28/0.2333/0.0025 | 29/0.2333/0.00125 | 30/0.2500/0.00125 | 31/0.2833/0.00125 | 32/0.2833/0.00125 | 33/0.2667/0.00125 | 34/0.2833/0.00125 | 35/0.2500/0.000625 | 36/0.2333/0.000625 | 37/0.2833/0.000625 | 38/0.3000/0.000625 | 39/0.3000/0.000625 | 40/0.2833/0.000625 | 41/0.2833/0.0003125 | 42/0.2833/0.0003125 | 43/0.2667/0.0003125 | 44/0.2500/0.0003125 | 45/0.2833/0.0003125 | 46/0.2833/0.0003125 | 47/0.2833/0.00015625 | 48/0.3000/0.00015625 | 49/0.3167/0.00015625 | 50/0.3000/0.00015625 | 51/0.3000/0.00015625 | 52/0.3000/0.00015625 | 53/0.3000/7.8125e-05 | 54/0.3000/7.8125e-05 | 55/0.3000/7.8125e-05 | 56/0.3000/7.8125e-05 | 57/0.3333/7.8125e-05 | 58/0.3333/7.8125e-05 | 59/0.3333/3.90625e-05 | 60/0.3333/3.90625e-05 | 61/0.3333/3.90625e-05 | 62/0.3333/3.90625e-05 | 63/0.3333/3.90625e-05 | 64/0.3333/3.90625e-05 | 65/0.3333/1.953125e-05 | 66/0.3333/1.953125e-05 | 67/0.3333/1.953125e-05 | 68/0.3333/1.953125e-05 | 69/0.3333/1.953125e-05 | 70/0.3333/1.953125e-05 | 71/0.3333/9.765625e-06 | 72/0.3333/9.765625e-06 | 73/0.3333/9.765625e-06 | 74/0.3333/9.765625e-06 | 75/0.3333/9.765625e-06 | 76/0.3333/9.765625e-06 | 77/0.3333/4.8828125e-06 | 78/0.3333/4.8828125e-06 | 79/0.3333/4.8828125e-06 | 80/0.3333/4.8828125e-06 | 81/0.3333/4.8828125e-06 | 82/0.3333/4.8828125e-06 | 83/0.3333/2.44140625e-06 | 84/0.3333/2.44140625e-06 | 85/0.3333/2.44140625e-06 | 86/0.3333/2.44140625e-06 | 87/0.3333/2.44140625e-06 | 88/0.3333/2.44140625e-06 | 89/0.3333/1.220703125e-06 | 90/0.3333/1.220703125e-06 | 91/0.3333/1.220703125e-06 | 92/0.3333/1.220703125e-06 | 93/0.3333/1.220703125e-06 | 94/0.3333/1.220703125e-06 | 95/0.3333/6.103515625e-07 | Accuracy: 0.2567\n",
      "Evaluating enzymes dataset using graph_order method with a percentile of 60 against class members\n",
      "Epoch/val accuracy/lr: "
     ]
    },
    {
     "name": "stderr",
     "output_type": "stream",
     "text": [
      "/opt/conda/lib/python3.10/site-packages/torch_geometric/deprecation.py:26: UserWarning: 'data.DataLoader' is deprecated, use 'loader.DataLoader' instead\n",
      "  warnings.warn(out)\n"
     ]
    },
    {
     "name": "stdout",
     "output_type": "stream",
     "text": [
      "1/0.1667/0.01 | 2/0.2083/0.01 | 3/0.2222/0.01 | 4/0.2083/0.01 | 5/0.2083/0.01 | 6/0.2222/0.01 | 7/0.2361/0.01 | 8/0.2083/0.005 | 9/0.1389/0.005 | 10/0.1389/0.005 | 11/0.1389/0.005 | 12/0.1667/0.005 | 13/0.1528/0.005 | 14/0.1528/0.005 | 15/0.1944/0.005 | 16/0.1806/0.0025 | 17/0.2361/0.0025 | 18/0.1944/0.0025 | 19/0.1667/0.0025 | 20/0.1944/0.0025 | 21/0.2222/0.0025 | 22/0.1944/0.00125 | 23/0.2083/0.00125 | 24/0.2083/0.00125 | 25/0.2222/0.00125 | 26/0.2500/0.00125 | 27/0.2639/0.00125 | 28/0.2639/0.000625 | 29/0.2778/0.000625 | 30/0.2639/0.000625 | 31/0.2639/0.000625 | 32/0.2639/0.000625 | 33/0.2778/0.000625 | 34/0.2917/0.0003125 | 35/0.3056/0.0003125 | 36/0.3056/0.0003125 | 37/0.3056/0.0003125 | 38/0.3056/0.0003125 | 39/0.3056/0.0003125 | 40/0.2917/0.00015625 | 41/0.2917/0.00015625 | 42/0.2917/0.00015625 | 43/0.3056/0.00015625 | 44/0.3056/0.00015625 | 45/0.3056/0.00015625 | 46/0.3056/7.8125e-05 | 47/0.3056/7.8125e-05 | 48/0.3056/7.8125e-05 | 49/0.3056/7.8125e-05 | 50/0.3333/7.8125e-05 | 51/0.3333/7.8125e-05 | 52/0.3333/3.90625e-05 | 53/0.3333/3.90625e-05 | 54/0.3333/3.90625e-05 | 55/0.3333/3.90625e-05 | 56/0.3333/3.90625e-05 | 57/0.3194/3.90625e-05 | 58/0.3194/1.953125e-05 | 59/0.3194/1.953125e-05 | 60/0.3194/1.953125e-05 | 61/0.3194/1.953125e-05 | 62/0.3194/1.953125e-05 | 63/0.3194/1.953125e-05 | 64/0.3194/9.765625e-06 | 65/0.3194/9.765625e-06 | 66/0.3194/9.765625e-06 | 67/0.3194/9.765625e-06 | 68/0.3194/9.765625e-06 | 69/0.3056/9.765625e-06 | 70/0.3056/4.8828125e-06 | 71/0.3056/4.8828125e-06 | 72/0.3056/4.8828125e-06 | 73/0.3056/4.8828125e-06 | 74/0.3056/4.8828125e-06 | 75/0.3056/4.8828125e-06 | 76/0.3056/2.44140625e-06 | 77/0.3056/2.44140625e-06 | 78/0.3056/2.44140625e-06 | 79/0.3056/2.44140625e-06 | 80/0.3056/2.44140625e-06 | 81/0.3056/2.44140625e-06 | 82/0.3056/1.220703125e-06 | 83/0.2917/1.220703125e-06 | 84/0.2917/1.220703125e-06 | 85/0.3056/1.220703125e-06 | 86/0.3056/1.220703125e-06 | 87/0.3056/1.220703125e-06 | 88/0.3056/6.103515625e-07 | Accuracy: 0.2250\n",
      "Evaluating enzymes dataset using graph_order method with a percentile of 70 against class members\n",
      "Epoch/val accuracy/lr: "
     ]
    },
    {
     "name": "stderr",
     "output_type": "stream",
     "text": [
      "/opt/conda/lib/python3.10/site-packages/torch_geometric/deprecation.py:26: UserWarning: 'data.DataLoader' is deprecated, use 'loader.DataLoader' instead\n",
      "  warnings.warn(out)\n"
     ]
    },
    {
     "name": "stdout",
     "output_type": "stream",
     "text": [
      "1/0.1047/0.01 | 2/0.1628/0.01 | 3/0.2558/0.01 | 4/0.3140/0.01 | 5/0.2558/0.01 | 6/0.2209/0.01 | 7/0.1977/0.01 | 8/0.1860/0.005 | 9/0.1860/0.005 | 10/0.1860/0.005 | 11/0.1977/0.005 | 12/0.1744/0.005 | 13/0.1512/0.005 | 14/0.1395/0.0025 | 15/0.1512/0.0025 | 16/0.1395/0.0025 | 17/0.1744/0.0025 | 18/0.1744/0.0025 | 19/0.1628/0.0025 | 20/0.1628/0.00125 | 21/0.1628/0.00125 | 22/0.1744/0.00125 | 23/0.1977/0.00125 | 24/0.2209/0.00125 | 25/0.2442/0.00125 | 26/0.2209/0.000625 | 27/0.2442/0.000625 | 28/0.2442/0.000625 | 29/0.2558/0.000625 | 30/0.2674/0.000625 | 31/0.2791/0.000625 | 32/0.3256/0.0003125 | 33/0.3256/0.0003125 | 34/0.3140/0.0003125 | 35/0.3140/0.0003125 | 36/0.3023/0.0003125 | 37/0.3140/0.0003125 | 38/0.3140/0.00015625 | 39/0.3140/0.00015625 | 40/0.3256/0.00015625 | 41/0.3256/0.00015625 | 42/0.3256/0.00015625 | 43/0.3256/0.00015625 | 44/0.3256/7.8125e-05 | 45/0.3372/7.8125e-05 | 46/0.3372/7.8125e-05 | 47/0.3256/7.8125e-05 | 48/0.3256/7.8125e-05 | 49/0.3372/7.8125e-05 | 50/0.3488/3.90625e-05 | 51/0.3488/3.90625e-05 | 52/0.3488/3.90625e-05 | 53/0.3372/3.90625e-05 | 54/0.3488/3.90625e-05 | 55/0.3488/3.90625e-05 | 56/0.3605/1.953125e-05 | 57/0.3605/1.953125e-05 | 58/0.3605/1.953125e-05 | 59/0.3605/1.953125e-05 | 60/0.3721/1.953125e-05 | 61/0.3605/1.953125e-05 | 62/0.3721/9.765625e-06 | 63/0.3605/9.765625e-06 | 64/0.3488/9.765625e-06 | 65/0.3372/9.765625e-06 | 66/0.3372/9.765625e-06 | 67/0.3372/9.765625e-06 | 68/0.3488/4.8828125e-06 | 69/0.3605/4.8828125e-06 | 70/0.3605/4.8828125e-06 | 71/0.3605/4.8828125e-06 | 72/0.3605/4.8828125e-06 | 73/0.3488/4.8828125e-06 | 74/0.3488/2.44140625e-06 | 75/0.3488/2.44140625e-06 | 76/0.3488/2.44140625e-06 | 77/0.3605/2.44140625e-06 | 78/0.3488/2.44140625e-06 | 79/0.3605/2.44140625e-06 | 80/0.3605/1.220703125e-06 | 81/0.3605/1.220703125e-06 | 82/0.3605/1.220703125e-06 | 83/0.3605/1.220703125e-06 | 84/0.3605/1.220703125e-06 | 85/0.3605/1.220703125e-06 | 86/0.3605/6.103515625e-07 | Accuracy: 0.1839\n",
      "Evaluating enzymes dataset using graph_order method with a percentile of 80 against class members\n",
      "Epoch/val accuracy/lr: "
     ]
    },
    {
     "name": "stderr",
     "output_type": "stream",
     "text": [
      "/opt/conda/lib/python3.10/site-packages/torch_geometric/deprecation.py:26: UserWarning: 'data.DataLoader' is deprecated, use 'loader.DataLoader' instead\n",
      "  warnings.warn(out)\n"
     ]
    },
    {
     "name": "stdout",
     "output_type": "stream",
     "text": [
      "1/0.1354/0.01 | 2/0.2083/0.01 | 3/0.1875/0.01 | 4/0.1771/0.01 | 5/0.1771/0.01 | 6/0.2188/0.01 | 7/0.2083/0.01 | 8/0.2292/0.005 | 9/0.2188/0.005 | 10/0.2188/0.005 | 11/0.2292/0.005 | 12/0.2396/0.005 | 13/0.2500/0.005 | 14/0.2188/0.0025 | 15/0.2292/0.0025 | 16/0.2188/0.0025 | 17/0.2083/0.0025 | 18/0.2083/0.0025 | 19/0.2188/0.0025 | 20/0.2292/0.00125 | 21/0.2292/0.00125 | 22/0.2292/0.00125 | 23/0.2083/0.00125 | 24/0.2188/0.00125 | 25/0.2396/0.00125 | 26/0.2500/0.000625 | 27/0.2500/0.000625 | 28/0.2500/0.000625 | 29/0.3021/0.000625 | 30/0.3021/0.000625 | 31/0.3229/0.000625 | 32/0.3125/0.0003125 | 33/0.3229/0.0003125 | 34/0.3438/0.0003125 | 35/0.3438/0.0003125 | 36/0.3438/0.0003125 | 37/0.3438/0.0003125 | 38/0.3229/0.00015625 | 39/0.3229/0.00015625 | 40/0.3229/0.00015625 | 41/0.3125/0.00015625 | 42/0.3125/0.00015625 | 43/0.3125/0.00015625 | 44/0.3125/7.8125e-05 | 45/0.3229/7.8125e-05 | 46/0.3333/7.8125e-05 | 47/0.3438/7.8125e-05 | 48/0.3438/7.8125e-05 | 49/0.3438/7.8125e-05 | 50/0.3333/3.90625e-05 | 51/0.3333/3.90625e-05 | 52/0.3333/3.90625e-05 | 53/0.3333/3.90625e-05 | 54/0.3229/3.90625e-05 | 55/0.3333/3.90625e-05 | 56/0.3229/1.953125e-05 | 57/0.3229/1.953125e-05 | 58/0.3229/1.953125e-05 | 59/0.3229/1.953125e-05 | 60/0.3229/1.953125e-05 | 61/0.3229/1.953125e-05 | 62/0.3229/9.765625e-06 | 63/0.3125/9.765625e-06 | 64/0.3125/9.765625e-06 | 65/0.3125/9.765625e-06 | 66/0.3125/9.765625e-06 | 67/0.2917/9.765625e-06 | 68/0.2917/4.8828125e-06 | 69/0.2917/4.8828125e-06 | 70/0.2917/4.8828125e-06 | 71/0.2917/4.8828125e-06 | 72/0.2917/4.8828125e-06 | 73/0.2917/4.8828125e-06 | 74/0.2917/2.44140625e-06 | 75/0.2917/2.44140625e-06 | 76/0.2917/2.44140625e-06 | 77/0.2917/2.44140625e-06 | 78/0.2917/2.44140625e-06 | 79/0.2917/2.44140625e-06 | 80/0.2917/1.220703125e-06 | 81/0.2917/1.220703125e-06 | 82/0.3021/1.220703125e-06 | 83/0.2917/1.220703125e-06 | 84/0.2917/1.220703125e-06 | 85/0.2917/1.220703125e-06 | 86/0.2917/6.103515625e-07 | Accuracy: 0.2833\n",
      "Evaluating enzymes dataset using graph_order method with a percentile of 90 against class members\n",
      "Epoch/val accuracy/lr: "
     ]
    },
    {
     "name": "stderr",
     "output_type": "stream",
     "text": [
      "/opt/conda/lib/python3.10/site-packages/torch_geometric/deprecation.py:26: UserWarning: 'data.DataLoader' is deprecated, use 'loader.DataLoader' instead\n",
      "  warnings.warn(out)\n"
     ]
    },
    {
     "name": "stdout",
     "output_type": "stream",
     "text": [
      "1/0.1574/0.01 | 2/0.1296/0.01 | 3/0.1852/0.01 | 4/0.2407/0.01 | 5/0.2315/0.01 | 6/0.2222/0.01 | 7/0.1944/0.01 | 8/0.2222/0.01 | 9/0.2222/0.005 | 10/0.2315/0.005 | 11/0.1944/0.005 | 12/0.2222/0.005 | 13/0.2407/0.005 | 14/0.2593/0.005 | 15/0.2222/0.0025 | 16/0.1944/0.0025 | 17/0.1944/0.0025 | 18/0.2037/0.0025 | 19/0.2130/0.0025 | 20/0.2593/0.0025 | 21/0.2778/0.00125 | 22/0.2778/0.00125 | 23/0.2685/0.00125 | 24/0.2685/0.00125 | 25/0.2778/0.00125 | 26/0.3241/0.00125 | 27/0.3241/0.000625 | 28/0.3333/0.000625 | 29/0.3704/0.000625 | 30/0.4074/0.000625 | 31/0.3981/0.000625 | 32/0.4074/0.000625 | 33/0.4074/0.0003125 | 34/0.4074/0.0003125 | 35/0.3981/0.0003125 | 36/0.4074/0.0003125 | 37/0.4167/0.0003125 | 38/0.3981/0.0003125 | 39/0.3889/0.00015625 | 40/0.3796/0.00015625 | 41/0.3796/0.00015625 | 42/0.3981/0.00015625 | 43/0.3889/0.00015625 | 44/0.3889/0.00015625 | 45/0.3889/7.8125e-05 | 46/0.3889/7.8125e-05 | 47/0.3981/7.8125e-05 | 48/0.3889/7.8125e-05 | 49/0.3796/7.8125e-05 | 50/0.3796/7.8125e-05 | 51/0.3796/3.90625e-05 | 52/0.3796/3.90625e-05 | 53/0.3796/3.90625e-05 | 54/0.3704/3.90625e-05 | 55/0.3796/3.90625e-05 | 56/0.3796/3.90625e-05 | 57/0.3796/1.953125e-05 | 58/0.3796/1.953125e-05 | 59/0.3796/1.953125e-05 | 60/0.3796/1.953125e-05 | 61/0.3704/1.953125e-05 | 62/0.3704/1.953125e-05 | 63/0.3704/9.765625e-06 | 64/0.3704/9.765625e-06 | 65/0.3704/9.765625e-06 | 66/0.3796/9.765625e-06 | 67/0.3796/9.765625e-06 | 68/0.3796/9.765625e-06 | 69/0.3704/4.8828125e-06 | 70/0.3889/4.8828125e-06 | 71/0.3796/4.8828125e-06 | 72/0.3889/4.8828125e-06 | 73/0.3889/4.8828125e-06 | 74/0.3796/4.8828125e-06 | 75/0.3796/2.44140625e-06 | 76/0.3796/2.44140625e-06 | 77/0.3704/2.44140625e-06 | 78/0.3796/2.44140625e-06 | 79/0.3796/2.44140625e-06 | 80/0.3704/2.44140625e-06 | 81/0.3704/1.220703125e-06 | 82/0.3704/1.220703125e-06 | 83/0.3704/1.220703125e-06 | 84/0.3704/1.220703125e-06 | 85/0.3704/1.220703125e-06 | 86/0.3796/1.220703125e-06 | 87/0.3704/6.103515625e-07 | Accuracy: 0.2000\n",
      "Evaluating enzymes dataset using cos_sim method with a percentile of 40 against class members\n",
      "Epoch/val accuracy/lr: "
     ]
    },
    {
     "name": "stderr",
     "output_type": "stream",
     "text": [
      "/opt/conda/lib/python3.10/site-packages/torch_geometric/deprecation.py:26: UserWarning: 'data.DataLoader' is deprecated, use 'loader.DataLoader' instead\n",
      "  warnings.warn(out)\n"
     ]
    },
    {
     "name": "stdout",
     "output_type": "stream",
     "text": [
      "1/0.1875/0.01 | 2/0.1875/0.01 | 3/0.1875/0.01 | 4/0.2500/0.01 | 5/0.2292/0.01 | 6/0.2708/0.01 | 7/0.2500/0.01 | 8/0.2917/0.005 | 9/0.3125/0.005 | 10/0.2708/0.005 | 11/0.2500/0.005 | 12/0.2500/0.005 | 13/0.2500/0.005 | 14/0.2500/0.0025 | 15/0.2292/0.0025 | 16/0.2292/0.0025 | 17/0.2917/0.0025 | 18/0.2917/0.0025 | 19/0.3125/0.0025 | 20/0.3333/0.00125 | 21/0.3542/0.00125 | 22/0.3542/0.00125 | 23/0.3333/0.00125 | 24/0.3542/0.00125 | 25/0.3542/0.00125 | 26/0.3750/0.000625 | 27/0.3750/0.000625 | 28/0.3542/0.000625 | 29/0.3542/0.000625 | 30/0.3542/0.000625 | 31/0.3750/0.000625 | 32/0.3750/0.0003125 | 33/0.3958/0.0003125 | 34/0.3958/0.0003125 | 35/0.3958/0.0003125 | 36/0.3958/0.0003125 | 37/0.3958/0.0003125 | 38/0.3958/0.00015625 | 39/0.3542/0.00015625 | 40/0.3542/0.00015625 | 41/0.3542/0.00015625 | 42/0.3542/0.00015625 | 43/0.3542/0.00015625 | 44/0.3542/7.8125e-05 | 45/0.3333/7.8125e-05 | 46/0.3333/7.8125e-05 | 47/0.3333/7.8125e-05 | 48/0.3542/7.8125e-05 | 49/0.3542/7.8125e-05 | 50/0.3542/3.90625e-05 | 51/0.3333/3.90625e-05 | 52/0.3333/3.90625e-05 | 53/0.3333/3.90625e-05 | 54/0.3333/3.90625e-05 | 55/0.3333/3.90625e-05 | 56/0.3333/1.953125e-05 | 57/0.3333/1.953125e-05 | 58/0.3333/1.953125e-05 | 59/0.3333/1.953125e-05 | 60/0.3333/1.953125e-05 | 61/0.3333/1.953125e-05 | 62/0.3333/9.765625e-06 | 63/0.3125/9.765625e-06 | 64/0.3125/9.765625e-06 | 65/0.3125/9.765625e-06 | 66/0.3125/9.765625e-06 | 67/0.3125/9.765625e-06 | 68/0.3125/4.8828125e-06 | 69/0.3125/4.8828125e-06 | 70/0.3125/4.8828125e-06 | 71/0.3125/4.8828125e-06 | 72/0.3125/4.8828125e-06 | 73/0.3125/4.8828125e-06 | 74/0.3125/2.44140625e-06 | 75/0.3125/2.44140625e-06 | 76/0.3125/2.44140625e-06 | 77/0.3125/2.44140625e-06 | 78/0.3125/2.44140625e-06 | 79/0.3125/2.44140625e-06 | 80/0.3125/1.220703125e-06 | 81/0.3125/1.220703125e-06 | 82/0.3125/1.220703125e-06 | 83/0.3125/1.220703125e-06 | 84/0.3125/1.220703125e-06 | 85/0.3333/1.220703125e-06 | 86/0.3125/6.103515625e-07 | Accuracy: 0.2417\n",
      "Evaluating enzymes dataset using cos_sim method with a percentile of 50 against class members\n",
      "Epoch/val accuracy/lr: "
     ]
    },
    {
     "name": "stderr",
     "output_type": "stream",
     "text": [
      "/opt/conda/lib/python3.10/site-packages/torch_geometric/deprecation.py:26: UserWarning: 'data.DataLoader' is deprecated, use 'loader.DataLoader' instead\n",
      "  warnings.warn(out)\n"
     ]
    },
    {
     "name": "stdout",
     "output_type": "stream",
     "text": [
      "1/0.1833/0.01 | 2/0.1833/0.01 | 3/0.3000/0.01 | 4/0.2333/0.01 | 5/0.2333/0.01 | 6/0.2667/0.01 | 7/0.2833/0.01 | 8/0.2833/0.005 | 9/0.3000/0.005 | 10/0.2833/0.005 | 11/0.3333/0.005 | 12/0.3833/0.005 | 13/0.3000/0.005 | 14/0.3000/0.0025 | 15/0.3500/0.0025 | 16/0.4167/0.0025 | 17/0.4000/0.0025 | 18/0.3667/0.0025 | 19/0.3333/0.0025 | 20/0.3333/0.00125 | 21/0.3333/0.00125 | 22/0.3667/0.00125 | 23/0.3833/0.00125 | 24/0.3833/0.00125 | 25/0.4000/0.00125 | 26/0.4000/0.000625 | 27/0.4167/0.000625 | 28/0.4167/0.000625 | 29/0.4500/0.000625 | 30/0.4167/0.000625 | 31/0.4000/0.000625 | 32/0.4167/0.0003125 | 33/0.4167/0.0003125 | 34/0.4167/0.0003125 | 35/0.4167/0.0003125 | 36/0.3833/0.0003125 | 37/0.3667/0.0003125 | 38/0.3667/0.00015625 | 39/0.3833/0.00015625 | 40/0.4000/0.00015625 | 41/0.4000/0.00015625 | 42/0.3833/0.00015625 | 43/0.4000/0.00015625 | 44/0.4000/7.8125e-05 | 45/0.3833/7.8125e-05 | 46/0.4000/7.8125e-05 | 47/0.4000/7.8125e-05 | 48/0.4000/7.8125e-05 | 49/0.4000/7.8125e-05 | 50/0.4000/3.90625e-05 | 51/0.4000/3.90625e-05 | 52/0.3833/3.90625e-05 | 53/0.3833/3.90625e-05 | 54/0.3833/3.90625e-05 | 55/0.3833/3.90625e-05 | 56/0.3833/1.953125e-05 | 57/0.3833/1.953125e-05 | 58/0.3833/1.953125e-05 | 59/0.3833/1.953125e-05 | 60/0.3833/1.953125e-05 | 61/0.3833/1.953125e-05 | 62/0.4000/9.765625e-06 | 63/0.3833/9.765625e-06 | 64/0.3833/9.765625e-06 | 65/0.4000/9.765625e-06 | 66/0.4000/9.765625e-06 | 67/0.3833/9.765625e-06 | 68/0.3833/4.8828125e-06 | 69/0.3833/4.8828125e-06 | 70/0.3833/4.8828125e-06 | 71/0.3833/4.8828125e-06 | 72/0.3833/4.8828125e-06 | 73/0.3833/4.8828125e-06 | 74/0.4000/2.44140625e-06 | 75/0.3833/2.44140625e-06 | 76/0.3833/2.44140625e-06 | 77/0.3833/2.44140625e-06 | 78/0.3833/2.44140625e-06 | 79/0.3833/2.44140625e-06 | 80/0.4000/1.220703125e-06 | 81/0.4000/1.220703125e-06 | 82/0.3833/1.220703125e-06 | 83/0.4000/1.220703125e-06 | 84/0.4000/1.220703125e-06 | 85/0.4000/1.220703125e-06 | 86/0.4000/6.103515625e-07 | Accuracy: 0.2300\n",
      "Evaluating enzymes dataset using cos_sim method with a percentile of 60 against class members\n",
      "Epoch/val accuracy/lr: "
     ]
    },
    {
     "name": "stderr",
     "output_type": "stream",
     "text": [
      "/opt/conda/lib/python3.10/site-packages/torch_geometric/deprecation.py:26: UserWarning: 'data.DataLoader' is deprecated, use 'loader.DataLoader' instead\n",
      "  warnings.warn(out)\n"
     ]
    },
    {
     "name": "stdout",
     "output_type": "stream",
     "text": [
      "1/0.1528/0.01 | 2/0.1528/0.01 | 3/0.1528/0.01 | 4/0.1528/0.01 | 5/0.1528/0.01 | 6/0.1389/0.01 | 7/0.1528/0.01 | 8/0.1944/0.01 | 9/0.1667/0.01 | 10/0.1944/0.01 | 11/0.1806/0.01 | 12/0.1944/0.01 | 13/0.1667/0.005 | 14/0.1944/0.005 | 15/0.1667/0.005 | 16/0.1806/0.005 | 17/0.2500/0.005 | 18/0.3194/0.005 | 19/0.3333/0.0025 | 20/0.3611/0.0025 | 21/0.3750/0.0025 | 22/0.3611/0.0025 | 23/0.3611/0.0025 | 24/0.3750/0.0025 | 25/0.3611/0.00125 | 26/0.3889/0.00125 | 27/0.3472/0.00125 | 28/0.2778/0.00125 | 29/0.2639/0.00125 | 30/0.2917/0.00125 | 31/0.3056/0.000625 | 32/0.3056/0.000625 | 33/0.2917/0.000625 | 34/0.3056/0.000625 | 35/0.3056/0.000625 | 36/0.3056/0.000625 | 37/0.3194/0.0003125 | 38/0.3056/0.0003125 | 39/0.3194/0.0003125 | 40/0.3472/0.0003125 | 41/0.3472/0.0003125 | 42/0.3611/0.0003125 | 43/0.3889/0.00015625 | 44/0.3889/0.00015625 | 45/0.3889/0.00015625 | 46/0.3889/0.00015625 | 47/0.3889/0.00015625 | 48/0.3889/0.00015625 | 49/0.3889/7.8125e-05 | 50/0.3750/7.8125e-05 | 51/0.3889/7.8125e-05 | 52/0.3889/7.8125e-05 | 53/0.3750/7.8125e-05 | 54/0.3750/7.8125e-05 | 55/0.3889/3.90625e-05 | 56/0.3889/3.90625e-05 | 57/0.3889/3.90625e-05 | 58/0.3750/3.90625e-05 | 59/0.3750/3.90625e-05 | 60/0.3750/3.90625e-05 | 61/0.3889/1.953125e-05 | 62/0.4028/1.953125e-05 | 63/0.4028/1.953125e-05 | 64/0.4028/1.953125e-05 | 65/0.4167/1.953125e-05 | 66/0.4167/1.953125e-05 | 67/0.4167/9.765625e-06 | 68/0.4167/9.765625e-06 | 69/0.4028/9.765625e-06 | 70/0.4028/9.765625e-06 | 71/0.4028/9.765625e-06 | 72/0.4028/9.765625e-06 | 73/0.4028/4.8828125e-06 | 74/0.4028/4.8828125e-06 | 75/0.4028/4.8828125e-06 | 76/0.4167/4.8828125e-06 | 77/0.4028/4.8828125e-06 | 78/0.3889/4.8828125e-06 | 79/0.3889/2.44140625e-06 | 80/0.4028/2.44140625e-06 | 81/0.3889/2.44140625e-06 | 82/0.4028/2.44140625e-06 | 83/0.4028/2.44140625e-06 | 84/0.4028/2.44140625e-06 | 85/0.4028/1.220703125e-06 | 86/0.4028/1.220703125e-06 | 87/0.3889/1.220703125e-06 | 88/0.4167/1.220703125e-06 | 89/0.4028/1.220703125e-06 | 90/0.4028/1.220703125e-06 | 91/0.4028/6.103515625e-07 | Accuracy: 0.2333\n",
      "Evaluating enzymes dataset using cos_sim method with a percentile of 70 against class members\n",
      "Epoch/val accuracy/lr: "
     ]
    },
    {
     "name": "stderr",
     "output_type": "stream",
     "text": [
      "/opt/conda/lib/python3.10/site-packages/torch_geometric/deprecation.py:26: UserWarning: 'data.DataLoader' is deprecated, use 'loader.DataLoader' instead\n",
      "  warnings.warn(out)\n"
     ]
    },
    {
     "name": "stdout",
     "output_type": "stream",
     "text": [
      "1/0.1395/0.01 | 2/0.1744/0.01 | 3/0.1860/0.01 | 4/0.1977/0.01 | 5/0.1977/0.01 | 6/0.1860/0.01 | 7/0.1744/0.01 | 8/0.1860/0.005 | 9/0.2093/0.005 | 10/0.2442/0.005 | 11/0.2442/0.005 | 12/0.2558/0.005 | 13/0.2209/0.005 | 14/0.2442/0.0025 | 15/0.2558/0.0025 | 16/0.2442/0.0025 | 17/0.2558/0.0025 | 18/0.2674/0.0025 | 19/0.2907/0.0025 | 20/0.3140/0.00125 | 21/0.3488/0.00125 | 22/0.3721/0.00125 | 23/0.3721/0.00125 | 24/0.3372/0.00125 | 25/0.3605/0.00125 | 26/0.3488/0.000625 | 27/0.3488/0.000625 | 28/0.3488/0.000625 | 29/0.3372/0.000625 | 30/0.3372/0.000625 | 31/0.3256/0.000625 | 32/0.3372/0.0003125 | 33/0.3372/0.0003125 | 34/0.3372/0.0003125 | 35/0.3488/0.0003125 | 36/0.3605/0.0003125 | 37/0.3721/0.0003125 | 38/0.3721/0.00015625 | 39/0.3721/0.00015625 | 40/0.3721/0.00015625 | 41/0.3721/0.00015625 | 42/0.3721/0.00015625 | 43/0.3721/0.00015625 | 44/0.3721/7.8125e-05 | 45/0.3721/7.8125e-05 | 46/0.3721/7.8125e-05 | 47/0.3721/7.8125e-05 | 48/0.3721/7.8125e-05 | 49/0.3605/7.8125e-05 | 50/0.3837/3.90625e-05 | 51/0.3837/3.90625e-05 | 52/0.3721/3.90625e-05 | 53/0.3721/3.90625e-05 | 54/0.3721/3.90625e-05 | 55/0.3721/3.90625e-05 | 56/0.3721/1.953125e-05 | 57/0.3837/1.953125e-05 | 58/0.3721/1.953125e-05 | 59/0.3721/1.953125e-05 | 60/0.3837/1.953125e-05 | 61/0.3837/1.953125e-05 | 62/0.3953/9.765625e-06 | 63/0.3837/9.765625e-06 | 64/0.3837/9.765625e-06 | 65/0.3837/9.765625e-06 | 66/0.3721/9.765625e-06 | 67/0.3953/9.765625e-06 | 68/0.3837/4.8828125e-06 | 69/0.3721/4.8828125e-06 | 70/0.3721/4.8828125e-06 | 71/0.3721/4.8828125e-06 | 72/0.3721/4.8828125e-06 | 73/0.3605/4.8828125e-06 | 74/0.3837/2.44140625e-06 | 75/0.4070/2.44140625e-06 | 76/0.4070/2.44140625e-06 | 77/0.4070/2.44140625e-06 | 78/0.4070/2.44140625e-06 | 79/0.3837/2.44140625e-06 | 80/0.4070/1.220703125e-06 | 81/0.4070/1.220703125e-06 | 82/0.4070/1.220703125e-06 | 83/0.4070/1.220703125e-06 | 84/0.4070/1.220703125e-06 | 85/0.4070/1.220703125e-06 | 86/0.4070/6.103515625e-07 | Accuracy: 0.2356\n",
      "Evaluating enzymes dataset using cos_sim method with a percentile of 80 against class members\n",
      "Epoch/val accuracy/lr: "
     ]
    },
    {
     "name": "stderr",
     "output_type": "stream",
     "text": [
      "/opt/conda/lib/python3.10/site-packages/torch_geometric/deprecation.py:26: UserWarning: 'data.DataLoader' is deprecated, use 'loader.DataLoader' instead\n",
      "  warnings.warn(out)\n"
     ]
    },
    {
     "name": "stdout",
     "output_type": "stream",
     "text": [
      "1/0.1979/0.01 | 2/0.1979/0.01 | 3/0.1458/0.01 | 4/0.1250/0.01 | 5/0.1354/0.01 | 6/0.1354/0.01 | 7/0.2083/0.01 | 8/0.2292/0.01 | 9/0.1979/0.01 | 10/0.1979/0.01 | 11/0.1979/0.005 | 12/0.2083/0.005 | 13/0.2188/0.005 | 14/0.1979/0.005 | 15/0.1771/0.005 | 16/0.1771/0.005 | 17/0.2083/0.0025 | 18/0.2292/0.0025 | 19/0.2396/0.0025 | 20/0.2396/0.0025 | 21/0.2604/0.0025 | 22/0.2812/0.0025 | 23/0.2812/0.00125 | 24/0.2917/0.00125 | 25/0.2917/0.00125 | 26/0.2917/0.00125 | 27/0.2708/0.00125 | 28/0.2812/0.00125 | 29/0.2812/0.000625 | 30/0.2917/0.000625 | 31/0.2917/0.000625 | 32/0.3125/0.000625 | 33/0.3125/0.000625 | 34/0.3229/0.000625 | 35/0.3333/0.0003125 | 36/0.3333/0.0003125 | 37/0.3438/0.0003125 | 38/0.3333/0.0003125 | 39/0.3438/0.0003125 | 40/0.3542/0.0003125 | 41/0.3438/0.00015625 | 42/0.3438/0.00015625 | 43/0.3438/0.00015625 | 44/0.3542/0.00015625 | 45/0.3646/0.00015625 | 46/0.3750/0.00015625 | 47/0.3438/7.8125e-05 | 48/0.3438/7.8125e-05 | 49/0.3438/7.8125e-05 | 50/0.3438/7.8125e-05 | 51/0.3438/7.8125e-05 | 52/0.3542/7.8125e-05 | 53/0.3542/3.90625e-05 | 54/0.3542/3.90625e-05 | 55/0.3542/3.90625e-05 | 56/0.3438/3.90625e-05 | 57/0.3542/3.90625e-05 | 58/0.3542/3.90625e-05 | 59/0.3542/1.953125e-05 | 60/0.3542/1.953125e-05 | 61/0.3542/1.953125e-05 | 62/0.3542/1.953125e-05 | 63/0.3542/1.953125e-05 | 64/0.3542/1.953125e-05 | 65/0.3542/9.765625e-06 | 66/0.3542/9.765625e-06 | 67/0.3542/9.765625e-06 | 68/0.3542/9.765625e-06 | 69/0.3542/9.765625e-06 | 70/0.3542/9.765625e-06 | 71/0.3542/4.8828125e-06 | 72/0.3542/4.8828125e-06 | 73/0.3542/4.8828125e-06 | 74/0.3542/4.8828125e-06 | 75/0.3542/4.8828125e-06 | 76/0.3646/4.8828125e-06 | 77/0.3646/2.44140625e-06 | 78/0.3646/2.44140625e-06 | 79/0.3646/2.44140625e-06 | 80/0.3646/2.44140625e-06 | 81/0.3646/2.44140625e-06 | 82/0.3646/2.44140625e-06 | 83/0.3646/1.220703125e-06 | 84/0.3646/1.220703125e-06 | 85/0.3646/1.220703125e-06 | 86/0.3646/1.220703125e-06 | 87/0.3646/1.220703125e-06 | 88/0.3646/1.220703125e-06 | 89/0.3646/6.103515625e-07 | Accuracy: 0.3083\n",
      "Evaluating enzymes dataset using cos_sim method with a percentile of 90 against class members\n",
      "Epoch/val accuracy/lr: "
     ]
    },
    {
     "name": "stderr",
     "output_type": "stream",
     "text": [
      "/opt/conda/lib/python3.10/site-packages/torch_geometric/deprecation.py:26: UserWarning: 'data.DataLoader' is deprecated, use 'loader.DataLoader' instead\n",
      "  warnings.warn(out)\n"
     ]
    },
    {
     "name": "stdout",
     "output_type": "stream",
     "text": [
      "1/0.2500/0.01 | 2/0.1296/0.01 | 3/0.1019/0.01 | 4/0.1019/0.01 | 5/0.1019/0.01 | 6/0.1389/0.01 | 7/0.1667/0.01 | 8/0.1852/0.01 | 9/0.1667/0.01 | 10/0.1574/0.005 | 11/0.1667/0.005 | 12/0.1852/0.005 | 13/0.2037/0.005 | 14/0.1944/0.005 | 15/0.1944/0.005 | 16/0.1852/0.0025 | 17/0.2130/0.0025 | 18/0.2407/0.0025 | 19/0.2315/0.0025 | 20/0.2315/0.0025 | 21/0.1944/0.0025 | 22/0.1852/0.00125 | 23/0.1852/0.00125 | 24/0.1944/0.00125 | 25/0.1944/0.00125 | 26/0.2037/0.00125 | 27/0.2130/0.00125 | 28/0.1944/0.000625 | 29/0.2130/0.000625 | 30/0.2222/0.000625 | 31/0.2222/0.000625 | 32/0.2130/0.000625 | 33/0.2222/0.000625 | 34/0.2222/0.0003125 | 35/0.2130/0.0003125 | 36/0.2222/0.0003125 | 37/0.2130/0.0003125 | 38/0.2037/0.0003125 | 39/0.1944/0.0003125 | 40/0.1852/0.00015625 | 41/0.1852/0.00015625 | 42/0.1944/0.00015625 | 43/0.1944/0.00015625 | 44/0.1944/0.00015625 | 45/0.1852/0.00015625 | 46/0.1852/7.8125e-05 | 47/0.1852/7.8125e-05 | 48/0.1852/7.8125e-05 | 49/0.2037/7.8125e-05 | 50/0.1852/7.8125e-05 | 51/0.1944/7.8125e-05 | 52/0.2037/3.90625e-05 | 53/0.2037/3.90625e-05 | 54/0.1944/3.90625e-05 | 55/0.2037/3.90625e-05 | 56/0.2037/3.90625e-05 | 57/0.2130/3.90625e-05 | 58/0.2315/1.953125e-05 | 59/0.2407/1.953125e-05 | 60/0.2407/1.953125e-05 | 61/0.2407/1.953125e-05 | 62/0.2407/1.953125e-05 | 63/0.2407/1.953125e-05 | 64/0.2407/9.765625e-06 | 65/0.2407/9.765625e-06 | 66/0.2315/9.765625e-06 | 67/0.2500/9.765625e-06 | 68/0.2500/9.765625e-06 | 69/0.2500/9.765625e-06 | 70/0.2500/4.8828125e-06 | 71/0.2407/4.8828125e-06 | 72/0.2407/4.8828125e-06 | 73/0.2500/4.8828125e-06 | 74/0.2407/4.8828125e-06 | 75/0.2407/4.8828125e-06 | 76/0.2315/2.44140625e-06 | 77/0.2315/2.44140625e-06 | 78/0.2315/2.44140625e-06 | 79/0.2407/2.44140625e-06 | 80/0.2407/2.44140625e-06 | 81/0.2407/2.44140625e-06 | 82/0.2500/1.220703125e-06 | 83/0.2407/1.220703125e-06 | 84/0.2500/1.220703125e-06 | 85/0.2407/1.220703125e-06 | 86/0.2593/1.220703125e-06 | 87/0.2315/1.220703125e-06 | 88/0.2407/6.103515625e-07 | Accuracy: 0.3333\n",
      "Evaluating dd dataset using random method with a percentile of 40 against class members\n",
      "Epoch/val accuracy/lr: "
     ]
    },
    {
     "name": "stderr",
     "output_type": "stream",
     "text": [
      "/opt/conda/lib/python3.10/site-packages/torch_geometric/deprecation.py:26: UserWarning: 'data.DataLoader' is deprecated, use 'loader.DataLoader' instead\n",
      "  warnings.warn(out)\n"
     ]
    },
    {
     "name": "stdout",
     "output_type": "stream",
     "text": [
      "1/0.0000/0.01 | 2/0.0000/0.01 | 3/0.0211/0.01 | 4/0.0737/0.01 | 5/0.0842/0.01 | 6/0.0211/0.01 | 7/0.0000/0.01 | 8/0.0000/0.005 | 9/0.0000/0.005 | 10/0.0000/0.005 | 11/0.0000/0.005 | 12/0.0105/0.005 | 13/0.0105/0.005 | 14/0.0105/0.0025 | 15/0.0000/0.0025 | 16/0.0000/0.0025 | 17/0.0000/0.0025 | 18/0.0000/0.0025 | 19/0.0000/0.0025 | 20/0.0000/0.00125 | 21/0.0000/0.00125 | 22/0.0000/0.00125 | 23/0.0000/0.00125 | 24/0.0000/0.00125 | 25/0.0000/0.00125 | 26/0.0105/0.000625 | 27/0.0316/0.000625 | 28/0.0316/0.000625 | 29/0.0421/0.000625 | 30/0.0632/0.000625 | 31/0.0737/0.000625 | 32/0.0842/0.0003125 | 33/0.0947/0.0003125 | 34/0.0947/0.0003125 | 35/0.1053/0.0003125 | 36/0.1053/0.0003125 | 37/0.1158/0.0003125 | 38/0.1263/0.00015625 | 39/0.1263/0.00015625 | 40/0.1263/0.00015625 | 41/0.1263/0.00015625 | 42/0.1263/0.00015625 | 43/0.1368/0.00015625 | 44/0.1368/7.8125e-05 | 45/0.1368/7.8125e-05 | 46/0.1368/7.8125e-05 | 47/0.1368/7.8125e-05 | 48/0.1474/7.8125e-05 | 49/0.1684/7.8125e-05 | 50/0.1684/3.90625e-05 | 51/0.1684/3.90625e-05 | 52/0.1684/3.90625e-05 | 53/0.1789/3.90625e-05 | 54/0.1895/3.90625e-05 | 55/0.1895/3.90625e-05 | 56/0.1895/1.953125e-05 | 57/0.1895/1.953125e-05 | 58/0.1895/1.953125e-05 | 59/0.1895/1.953125e-05 | 60/0.1895/1.953125e-05 | 61/0.1895/1.953125e-05 | 62/0.1895/9.765625e-06 | 63/0.1895/9.765625e-06 | 64/0.1895/9.765625e-06 | 65/0.1895/9.765625e-06 | 66/0.1895/9.765625e-06 | 67/0.1895/9.765625e-06 | 68/0.1895/4.8828125e-06 | 69/0.1895/4.8828125e-06 | 70/0.1895/4.8828125e-06 | 71/0.1895/4.8828125e-06 | 72/0.1895/4.8828125e-06 | 73/0.1895/4.8828125e-06 | 74/0.1895/2.44140625e-06 | 75/0.1895/2.44140625e-06 | 76/0.2000/2.44140625e-06 | 77/0.2000/2.44140625e-06 | 78/0.2000/2.44140625e-06 | 79/0.2000/2.44140625e-06 | 80/0.2000/1.220703125e-06 | 81/0.2000/1.220703125e-06 | 82/0.2000/1.220703125e-06 | 83/0.1895/1.220703125e-06 | 84/0.1895/1.220703125e-06 | 85/0.1895/1.220703125e-06 | 86/0.1895/6.103515625e-07 | Accuracy: 0.1938\n",
      "Evaluating dd dataset using random method with a percentile of 50 against class members\n",
      "Epoch/val accuracy/lr: "
     ]
    },
    {
     "name": "stderr",
     "output_type": "stream",
     "text": [
      "/opt/conda/lib/python3.10/site-packages/torch_geometric/deprecation.py:26: UserWarning: 'data.DataLoader' is deprecated, use 'loader.DataLoader' instead\n",
      "  warnings.warn(out)\n"
     ]
    },
    {
     "name": "stdout",
     "output_type": "stream",
     "text": [
      "1/0.0000/0.01 | 2/0.1271/0.01 | 3/0.0085/0.01 | 4/0.0000/0.01 | 5/0.0000/0.01 | 6/0.0000/0.01 | 7/0.0000/0.01 | 8/0.0000/0.005 | 9/0.0000/0.005 | 10/0.0000/0.005 | 11/0.0000/0.005 | 12/0.0000/0.005 | 13/0.0085/0.005 | 14/0.0085/0.0025 | 15/0.0085/0.0025 | 16/0.0085/0.0025 | 17/0.0085/0.0025 | 18/0.0169/0.0025 | 19/0.0254/0.0025 | 20/0.0254/0.00125 | 21/0.0254/0.00125 | 22/0.0339/0.00125 | 23/0.0508/0.00125 | 24/0.1102/0.00125 | 25/0.1356/0.00125 | 26/0.1695/0.000625 | 27/0.2034/0.000625 | 28/0.2288/0.000625 | 29/0.2288/0.000625 | 30/0.2458/0.000625 | 31/0.2542/0.000625 | 32/0.2542/0.0003125 | 33/0.2542/0.0003125 | 34/0.2542/0.0003125 | 35/0.2542/0.0003125 | 36/0.2542/0.0003125 | 37/0.2542/0.0003125 | 38/0.2542/0.00015625 | 39/0.2542/0.00015625 | 40/0.2542/0.00015625 | 41/0.2458/0.00015625 | 42/0.2288/0.00015625 | 43/0.2203/0.00015625 | 44/0.2203/7.8125e-05 | 45/0.2203/7.8125e-05 | 46/0.2119/7.8125e-05 | 47/0.2034/7.8125e-05 | 48/0.2034/7.8125e-05 | 49/0.2034/7.8125e-05 | 50/0.2034/3.90625e-05 | 51/0.1949/3.90625e-05 | 52/0.1949/3.90625e-05 | 53/0.1949/3.90625e-05 | 54/0.1949/3.90625e-05 | 55/0.1949/3.90625e-05 | 56/0.1780/1.953125e-05 | 57/0.1780/1.953125e-05 | 58/0.1780/1.953125e-05 | 59/0.1780/1.953125e-05 | 60/0.1780/1.953125e-05 | 61/0.1780/1.953125e-05 | 62/0.1780/9.765625e-06 | 63/0.1780/9.765625e-06 | 64/0.1780/9.765625e-06 | 65/0.1780/9.765625e-06 | 66/0.1695/9.765625e-06 | 67/0.1695/9.765625e-06 | 68/0.1695/4.8828125e-06 | 69/0.1695/4.8828125e-06 | 70/0.1695/4.8828125e-06 | 71/0.1695/4.8828125e-06 | 72/0.1695/4.8828125e-06 | 73/0.1695/4.8828125e-06 | 74/0.1695/2.44140625e-06 | 75/0.1695/2.44140625e-06 | 76/0.1695/2.44140625e-06 | 77/0.1695/2.44140625e-06 | 78/0.1695/2.44140625e-06 | 79/0.1695/2.44140625e-06 | 80/0.1864/1.220703125e-06 | 81/0.1864/1.220703125e-06 | 82/0.1864/1.220703125e-06 | 83/0.1864/1.220703125e-06 | 84/0.1864/1.220703125e-06 | 85/0.1864/1.220703125e-06 | 86/0.1864/6.103515625e-07 | Accuracy: 0.2445\n",
      "Evaluating dd dataset using random method with a percentile of 60 against class members\n",
      "Epoch/val accuracy/lr: "
     ]
    },
    {
     "name": "stderr",
     "output_type": "stream",
     "text": [
      "/opt/conda/lib/python3.10/site-packages/torch_geometric/deprecation.py:26: UserWarning: 'data.DataLoader' is deprecated, use 'loader.DataLoader' instead\n",
      "  warnings.warn(out)\n"
     ]
    },
    {
     "name": "stdout",
     "output_type": "stream",
     "text": [
      "1/0.1127/0.01 | 2/0.0915/0.01 | 3/0.2958/0.01 | 4/0.0423/0.01 | 5/0.0634/0.01 | 6/0.1479/0.01 | 7/0.2535/0.01 | 8/0.2606/0.01 | 9/0.3732/0.01 | 10/0.3732/0.01 | 11/0.3732/0.005 | 12/0.3732/0.005 | 13/0.3732/0.005 | 14/0.3732/0.005 | 15/0.3732/0.005 | 16/0.3732/0.005 | 17/0.3732/0.0025 | 18/0.3732/0.0025 | 19/0.3732/0.0025 | 20/0.3732/0.0025 | 21/0.3732/0.0025 | 22/0.3732/0.0025 | 23/0.3732/0.00125 | 24/0.3732/0.00125 | 25/0.3732/0.00125 | 26/0.3732/0.00125 | 27/0.3732/0.00125 | 28/0.3732/0.00125 | 29/0.3732/0.000625 | 30/0.3732/0.000625 | 31/0.3662/0.000625 | 32/0.3662/0.000625 | 33/0.3662/0.000625 | 34/0.3662/0.000625 | 35/0.3662/0.0003125 | 36/0.3662/0.0003125 | 37/0.3662/0.0003125 | 38/0.3662/0.0003125 | 39/0.3662/0.0003125 | 40/0.3592/0.0003125 | 41/0.3592/0.00015625 | 42/0.3592/0.00015625 | 43/0.3592/0.00015625 | 44/0.3592/0.00015625 | 45/0.3592/0.00015625 | 46/0.3592/0.00015625 | 47/0.3592/7.8125e-05 | 48/0.3592/7.8125e-05 | 49/0.3521/7.8125e-05 | 50/0.3451/7.8125e-05 | 51/0.3451/7.8125e-05 | 52/0.3310/7.8125e-05 | 53/0.3310/3.90625e-05 | 54/0.3310/3.90625e-05 | 55/0.3310/3.90625e-05 | 56/0.3169/3.90625e-05 | 57/0.3169/3.90625e-05 | 58/0.3169/3.90625e-05 | 59/0.3099/1.953125e-05 | 60/0.2958/1.953125e-05 | 61/0.3028/1.953125e-05 | 62/0.3028/1.953125e-05 | 63/0.3028/1.953125e-05 | 64/0.2958/1.953125e-05 | 65/0.2887/9.765625e-06 | 66/0.2817/9.765625e-06 | 67/0.2817/9.765625e-06 | 68/0.2817/9.765625e-06 | 69/0.2817/9.765625e-06 | 70/0.2817/9.765625e-06 | 71/0.2746/4.8828125e-06 | 72/0.2746/4.8828125e-06 | 73/0.2746/4.8828125e-06 | 74/0.2746/4.8828125e-06 | 75/0.2746/4.8828125e-06 | 76/0.2746/4.8828125e-06 | 77/0.2746/2.44140625e-06 | 78/0.2676/2.44140625e-06 | 79/0.2676/2.44140625e-06 | 80/0.2676/2.44140625e-06 | 81/0.2606/2.44140625e-06 | 82/0.2535/2.44140625e-06 | 83/0.2535/1.220703125e-06 | 84/0.2535/1.220703125e-06 | 85/0.2535/1.220703125e-06 | 86/0.2535/1.220703125e-06 | 87/0.2535/1.220703125e-06 | 88/0.2465/1.220703125e-06 | 89/0.2465/6.103515625e-07 | Accuracy: 0.2352\n",
      "Evaluating dd dataset using random method with a percentile of 70 against class members\n",
      "Epoch/val accuracy/lr: "
     ]
    },
    {
     "name": "stderr",
     "output_type": "stream",
     "text": [
      "/opt/conda/lib/python3.10/site-packages/torch_geometric/deprecation.py:26: UserWarning: 'data.DataLoader' is deprecated, use 'loader.DataLoader' instead\n",
      "  warnings.warn(out)\n"
     ]
    },
    {
     "name": "stdout",
     "output_type": "stream",
     "text": [
      "1/0.0061/0.01 | 2/0.0000/0.01 | 3/0.0000/0.01 | 4/0.0000/0.01 | 5/0.0000/0.01 | 6/0.0000/0.01 | 7/0.0000/0.01 | 8/0.0000/0.01 | 9/0.0000/0.005 | 10/0.0000/0.005 | 11/0.0000/0.005 | 12/0.0000/0.005 | 13/0.0000/0.005 | 14/0.0000/0.005 | 15/0.0000/0.0025 | 16/0.0000/0.0025 | 17/0.0000/0.0025 | 18/0.0000/0.0025 | 19/0.0061/0.0025 | 20/0.0121/0.0025 | 21/0.0242/0.00125 | 22/0.0364/0.00125 | 23/0.0364/0.00125 | 24/0.0364/0.00125 | 25/0.0424/0.00125 | 26/0.0424/0.00125 | 27/0.0606/0.000625 | 28/0.0606/0.000625 | 29/0.0788/0.000625 | 30/0.0788/0.000625 | 31/0.1030/0.000625 | 32/0.1152/0.000625 | 33/0.1212/0.0003125 | 34/0.1455/0.0003125 | 35/0.1515/0.0003125 | 36/0.1576/0.0003125 | 37/0.1576/0.0003125 | 38/0.1636/0.0003125 | 39/0.1636/0.00015625 | 40/0.1636/0.00015625 | 41/0.1636/0.00015625 | 42/0.1697/0.00015625 | 43/0.1697/0.00015625 | 44/0.1697/0.00015625 | 45/0.1697/7.8125e-05 | 46/0.1758/7.8125e-05 | 47/0.1758/7.8125e-05 | 48/0.1758/7.8125e-05 | 49/0.1758/7.8125e-05 | 50/0.1697/7.8125e-05 | 51/0.1879/3.90625e-05 | 52/0.1879/3.90625e-05 | 53/0.1879/3.90625e-05 | 54/0.1879/3.90625e-05 | 55/0.1879/3.90625e-05 | 56/0.1939/3.90625e-05 | 57/0.1939/1.953125e-05 | 58/0.2000/1.953125e-05 | 59/0.2000/1.953125e-05 | 60/0.2000/1.953125e-05 | 61/0.2061/1.953125e-05 | 62/0.2121/1.953125e-05 | 63/0.2121/9.765625e-06 | 64/0.2242/9.765625e-06 | 65/0.2303/9.765625e-06 | 66/0.2303/9.765625e-06 | 67/0.2303/9.765625e-06 | 68/0.2303/9.765625e-06 | 69/0.2303/4.8828125e-06 | 70/0.2303/4.8828125e-06 | 71/0.2303/4.8828125e-06 | 72/0.2303/4.8828125e-06 | 73/0.2303/4.8828125e-06 | 74/0.2303/4.8828125e-06 | 75/0.2303/2.44140625e-06 | 76/0.2303/2.44140625e-06 | 77/0.2303/2.44140625e-06 | 78/0.2303/2.44140625e-06 | 79/0.2303/2.44140625e-06 | 80/0.2303/2.44140625e-06 | 81/0.2303/1.220703125e-06 | 82/0.2303/1.220703125e-06 | 83/0.2303/1.220703125e-06 | 84/0.2303/1.220703125e-06 | 85/0.2303/1.220703125e-06 | 86/0.2303/1.220703125e-06 | 87/0.2303/6.103515625e-07 | Accuracy: 0.2373\n",
      "Evaluating dd dataset using random method with a percentile of 80 against class members\n",
      "Epoch/val accuracy/lr: "
     ]
    },
    {
     "name": "stderr",
     "output_type": "stream",
     "text": [
      "/opt/conda/lib/python3.10/site-packages/torch_geometric/deprecation.py:26: UserWarning: 'data.DataLoader' is deprecated, use 'loader.DataLoader' instead\n",
      "  warnings.warn(out)\n"
     ]
    },
    {
     "name": "stdout",
     "output_type": "stream",
     "text": [
      "1/0.0000/0.01 | 2/0.0053/0.01 | 3/0.2434/0.01 | 4/0.3968/0.01 | 5/0.1958/0.01 | 6/0.0053/0.01 | 7/0.0000/0.01 | 8/0.0000/0.005 | 9/0.0000/0.005 | 10/0.0000/0.005 | 11/0.0000/0.005 | 12/0.0529/0.005 | 13/0.1640/0.005 | 14/0.2169/0.0025 | 15/0.2434/0.0025 | 16/0.2487/0.0025 | 17/0.2646/0.0025 | 18/0.2593/0.0025 | 19/0.2381/0.0025 | 20/0.2275/0.00125 | 21/0.2063/0.00125 | 22/0.1852/0.00125 | 23/0.1746/0.00125 | 24/0.1429/0.00125 | 25/0.1323/0.00125 | 26/0.1323/0.000625 | 27/0.1323/0.000625 | 28/0.1323/0.000625 | 29/0.1323/0.000625 | 30/0.1481/0.000625 | 31/0.1534/0.000625 | 32/0.1587/0.0003125 | 33/0.1587/0.0003125 | 34/0.1587/0.0003125 | 35/0.1640/0.0003125 | 36/0.1746/0.0003125 | 37/0.1746/0.0003125 | 38/0.1799/0.00015625 | 39/0.1852/0.00015625 | 40/0.1905/0.00015625 | 41/0.1958/0.00015625 | 42/0.2011/0.00015625 | 43/0.2011/0.00015625 | 44/0.2011/7.8125e-05 | 45/0.2011/7.8125e-05 | 46/0.2011/7.8125e-05 | 47/0.2063/7.8125e-05 | 48/0.2063/7.8125e-05 | 49/0.2063/7.8125e-05 | 50/0.2169/3.90625e-05 | 51/0.2169/3.90625e-05 | 52/0.2116/3.90625e-05 | 53/0.2116/3.90625e-05 | 54/0.2116/3.90625e-05 | 55/0.2169/3.90625e-05 | 56/0.2169/1.953125e-05 | 57/0.2169/1.953125e-05 | 58/0.2169/1.953125e-05 | 59/0.2116/1.953125e-05 | 60/0.2116/1.953125e-05 | 61/0.2169/1.953125e-05 | 62/0.2169/9.765625e-06 | 63/0.2169/9.765625e-06 | 64/0.2169/9.765625e-06 | 65/0.2169/9.765625e-06 | 66/0.2169/9.765625e-06 | 67/0.2222/9.765625e-06 | 68/0.2222/4.8828125e-06 | 69/0.2222/4.8828125e-06 | 70/0.2222/4.8828125e-06 | 71/0.2222/4.8828125e-06 | 72/0.2222/4.8828125e-06 | 73/0.2222/4.8828125e-06 | 74/0.2222/2.44140625e-06 | 75/0.2222/2.44140625e-06 | 76/0.2222/2.44140625e-06 | 77/0.2222/2.44140625e-06 | 78/0.2222/2.44140625e-06 | 79/0.2222/2.44140625e-06 | 80/0.2222/1.220703125e-06 | 81/0.2222/1.220703125e-06 | 82/0.2222/1.220703125e-06 | 83/0.2222/1.220703125e-06 | 84/0.2222/1.220703125e-06 | 85/0.2222/1.220703125e-06 | 86/0.2222/6.103515625e-07 | Accuracy: 0.2246\n",
      "Evaluating dd dataset using random method with a percentile of 90 against class members\n",
      "Epoch/val accuracy/lr: "
     ]
    },
    {
     "name": "stderr",
     "output_type": "stream",
     "text": [
      "/opt/conda/lib/python3.10/site-packages/torch_geometric/deprecation.py:26: UserWarning: 'data.DataLoader' is deprecated, use 'loader.DataLoader' instead\n",
      "  warnings.warn(out)\n"
     ]
    },
    {
     "name": "stdout",
     "output_type": "stream",
     "text": [
      "1/0.0000/0.01 | 2/0.0000/0.01 | 3/0.0000/0.01 | 4/0.0000/0.01 | 5/0.0000/0.01 | 6/0.0000/0.01 | 7/0.0000/0.01 | 8/0.0094/0.005 | 9/0.2736/0.005 | 10/0.3774/0.005 | 11/0.3774/0.005 | 12/0.3774/0.005 | 13/0.3774/0.005 | 14/0.3774/0.0025 | 15/0.3774/0.0025 | 16/0.3774/0.0025 | 17/0.3774/0.0025 | 18/0.3774/0.0025 | 19/0.3679/0.0025 | 20/0.3679/0.00125 | 21/0.3632/0.00125 | 22/0.3632/0.00125 | 23/0.3632/0.00125 | 24/0.3679/0.00125 | 25/0.3679/0.00125 | 26/0.3585/0.000625 | 27/0.3585/0.000625 | 28/0.3585/0.000625 | 29/0.3491/0.000625 | 30/0.3396/0.000625 | 31/0.3396/0.000625 | 32/0.3396/0.0003125 | 33/0.3396/0.0003125 | 34/0.3396/0.0003125 | 35/0.3396/0.0003125 | 36/0.3396/0.0003125 | 37/0.3396/0.0003125 | 38/0.3349/0.00015625 | 39/0.3302/0.00015625 | 40/0.3255/0.00015625 | 41/0.3255/0.00015625 | 42/0.3255/0.00015625 | 43/0.3208/0.00015625 | 44/0.3208/7.8125e-05 | 45/0.3160/7.8125e-05 | 46/0.3113/7.8125e-05 | 47/0.3113/7.8125e-05 | 48/0.3066/7.8125e-05 | 49/0.3019/7.8125e-05 | 50/0.2972/3.90625e-05 | 51/0.2925/3.90625e-05 | 52/0.2877/3.90625e-05 | 53/0.2877/3.90625e-05 | 54/0.2877/3.90625e-05 | 55/0.2877/3.90625e-05 | 56/0.2877/1.953125e-05 | 57/0.2877/1.953125e-05 | 58/0.2877/1.953125e-05 | 59/0.2736/1.953125e-05 | 60/0.2736/1.953125e-05 | 61/0.2736/1.953125e-05 | 62/0.2736/9.765625e-06 | 63/0.2736/9.765625e-06 | 64/0.2736/9.765625e-06 | 65/0.2689/9.765625e-06 | 66/0.2689/9.765625e-06 | 67/0.2642/9.765625e-06 | 68/0.2642/4.8828125e-06 | 69/0.2642/4.8828125e-06 | 70/0.2547/4.8828125e-06 | 71/0.2547/4.8828125e-06 | 72/0.2547/4.8828125e-06 | 73/0.2547/4.8828125e-06 | 74/0.2594/2.44140625e-06 | 75/0.2500/2.44140625e-06 | 76/0.2500/2.44140625e-06 | 77/0.2406/2.44140625e-06 | 78/0.2406/2.44140625e-06 | 79/0.2406/2.44140625e-06 | 80/0.2406/1.220703125e-06 | 81/0.2453/1.220703125e-06 | 82/0.2453/1.220703125e-06 | 83/0.2453/1.220703125e-06 | 84/0.2453/1.220703125e-06 | 85/0.2453/1.220703125e-06 | 86/0.2453/6.103515625e-07 | Accuracy: 0.2797\n",
      "Evaluating dd dataset using graph_order method with a percentile of 40 against class members\n",
      "Epoch/val accuracy/lr: "
     ]
    },
    {
     "name": "stderr",
     "output_type": "stream",
     "text": [
      "/opt/conda/lib/python3.10/site-packages/torch_geometric/deprecation.py:26: UserWarning: 'data.DataLoader' is deprecated, use 'loader.DataLoader' instead\n",
      "  warnings.warn(out)\n"
     ]
    },
    {
     "name": "stdout",
     "output_type": "stream",
     "text": [
      "1/0.0000/0.01 | 2/0.0105/0.01 | 3/0.0000/0.01 | 4/0.0000/0.01 | 5/0.0000/0.01 | 6/0.0105/0.01 | 7/0.1895/0.01 | 8/0.3474/0.005 | 9/0.3579/0.005 | 10/0.3789/0.005 | 11/0.3789/0.005 | 12/0.3684/0.005 | 13/0.2842/0.005 | 14/0.2947/0.0025 | 15/0.3579/0.0025 | 16/0.3789/0.0025 | 17/0.3789/0.0025 | 18/0.3789/0.0025 | 19/0.3789/0.0025 | 20/0.3895/0.00125 | 21/0.3895/0.00125 | 22/0.3895/0.00125 | 23/0.3789/0.00125 | 24/0.3789/0.00125 | 25/0.3684/0.00125 | 26/0.3684/0.000625 | 27/0.3684/0.000625 | 28/0.3579/0.000625 | 29/0.3368/0.000625 | 30/0.3158/0.000625 | 31/0.2947/0.000625 | 32/0.2737/0.0003125 | 33/0.2737/0.0003125 | 34/0.2526/0.0003125 | 35/0.2421/0.0003125 | 36/0.2316/0.0003125 | 37/0.2316/0.0003125 | 38/0.2316/0.00015625 | 39/0.2316/0.00015625 | 40/0.2421/0.00015625 | 41/0.2316/0.00015625 | 42/0.2316/0.00015625 | 43/0.2211/0.00015625 | 44/0.2105/7.8125e-05 | 45/0.2105/7.8125e-05 | 46/0.2105/7.8125e-05 | 47/0.2105/7.8125e-05 | 48/0.2105/7.8125e-05 | 49/0.2105/7.8125e-05 | 50/0.2105/3.90625e-05 | 51/0.2105/3.90625e-05 | 52/0.2105/3.90625e-05 | 53/0.2105/3.90625e-05 | 54/0.2105/3.90625e-05 | 55/0.2105/3.90625e-05 | 56/0.2105/1.953125e-05 | 57/0.2211/1.953125e-05 | 58/0.2211/1.953125e-05 | 59/0.2105/1.953125e-05 | 60/0.2105/1.953125e-05 | 61/0.2105/1.953125e-05 | 62/0.2105/9.765625e-06 | 63/0.2105/9.765625e-06 | 64/0.2105/9.765625e-06 | 65/0.2105/9.765625e-06 | 66/0.2105/9.765625e-06 | 67/0.2105/9.765625e-06 | 68/0.2105/4.8828125e-06 | 69/0.2105/4.8828125e-06 | 70/0.2105/4.8828125e-06 | 71/0.2105/4.8828125e-06 | 72/0.2211/4.8828125e-06 | 73/0.2211/4.8828125e-06 | 74/0.2211/2.44140625e-06 | 75/0.2211/2.44140625e-06 | 76/0.2211/2.44140625e-06 | 77/0.2211/2.44140625e-06 | 78/0.2211/2.44140625e-06 | 79/0.2211/2.44140625e-06 | 80/0.2211/1.220703125e-06 | 81/0.2211/1.220703125e-06 | 82/0.2211/1.220703125e-06 | 83/0.2421/1.220703125e-06 | 84/0.2421/1.220703125e-06 | 85/0.2421/1.220703125e-06 | 86/0.2421/6.103515625e-07 | Accuracy: 0.1289\n",
      "Evaluating dd dataset using graph_order method with a percentile of 50 against class members\n",
      "Epoch/val accuracy/lr: "
     ]
    },
    {
     "name": "stderr",
     "output_type": "stream",
     "text": [
      "/opt/conda/lib/python3.10/site-packages/torch_geometric/deprecation.py:26: UserWarning: 'data.DataLoader' is deprecated, use 'loader.DataLoader' instead\n",
      "  warnings.warn(out)\n"
     ]
    },
    {
     "name": "stdout",
     "output_type": "stream",
     "text": [
      "1/0.0000/0.01 | 2/0.0000/0.01 | 3/0.0000/0.01 | 4/0.0085/0.01 | 5/0.0000/0.01 | 6/0.0000/0.01 | 7/0.0000/0.01 | 8/0.0000/0.005 | 9/0.0000/0.005 | 10/0.0000/0.005 | 11/0.0000/0.005 | 12/0.0000/0.005 | 13/0.0000/0.005 | 14/0.0000/0.0025 | 15/0.0000/0.0025 | 16/0.0000/0.0025 | 17/0.0000/0.0025 | 18/0.0000/0.0025 | 19/0.0000/0.0025 | 20/0.0000/0.00125 | 21/0.0000/0.00125 | 22/0.0000/0.00125 | 23/0.0000/0.00125 | 24/0.0000/0.00125 | 25/0.0000/0.00125 | 26/0.0000/0.000625 | 27/0.0000/0.000625 | 28/0.0000/0.000625 | 29/0.0000/0.000625 | 30/0.0000/0.000625 | 31/0.0000/0.000625 | 32/0.0085/0.0003125 | 33/0.0085/0.0003125 | 34/0.0085/0.0003125 | 35/0.0085/0.0003125 | 36/0.0085/0.0003125 | 37/0.0085/0.0003125 | 38/0.0085/0.00015625 | 39/0.0169/0.00015625 | 40/0.0169/0.00015625 | 41/0.0169/0.00015625 | 42/0.0169/0.00015625 | 43/0.0254/0.00015625 | 44/0.0339/7.8125e-05 | 45/0.0424/7.8125e-05 | 46/0.0508/7.8125e-05 | 47/0.0508/7.8125e-05 | 48/0.0593/7.8125e-05 | 49/0.0678/7.8125e-05 | 50/0.0678/3.90625e-05 | 51/0.0763/3.90625e-05 | 52/0.1102/3.90625e-05 | 53/0.1102/3.90625e-05 | 54/0.1102/3.90625e-05 | 55/0.1102/3.90625e-05 | 56/0.1102/1.953125e-05 | 57/0.1102/1.953125e-05 | 58/0.1186/1.953125e-05 | 59/0.1186/1.953125e-05 | 60/0.1356/1.953125e-05 | 61/0.1356/1.953125e-05 | 62/0.1356/9.765625e-06 | 63/0.1356/9.765625e-06 | 64/0.1356/9.765625e-06 | 65/0.1356/9.765625e-06 | 66/0.1356/9.765625e-06 | 67/0.1356/9.765625e-06 | 68/0.1441/4.8828125e-06 | 69/0.1441/4.8828125e-06 | 70/0.1525/4.8828125e-06 | 71/0.1610/4.8828125e-06 | 72/0.1610/4.8828125e-06 | 73/0.1695/4.8828125e-06 | 74/0.1780/2.44140625e-06 | 75/0.1780/2.44140625e-06 | 76/0.1780/2.44140625e-06 | 77/0.1780/2.44140625e-06 | 78/0.1864/2.44140625e-06 | 79/0.1864/2.44140625e-06 | 80/0.1864/1.220703125e-06 | 81/0.1864/1.220703125e-06 | 82/0.1864/1.220703125e-06 | 83/0.1864/1.220703125e-06 | 84/0.1864/1.220703125e-06 | 85/0.1864/1.220703125e-06 | 86/0.1864/6.103515625e-07 | Accuracy: 0.1088\n",
      "Evaluating dd dataset using graph_order method with a percentile of 60 against class members\n",
      "Epoch/val accuracy/lr: "
     ]
    },
    {
     "name": "stderr",
     "output_type": "stream",
     "text": [
      "/opt/conda/lib/python3.10/site-packages/torch_geometric/deprecation.py:26: UserWarning: 'data.DataLoader' is deprecated, use 'loader.DataLoader' instead\n",
      "  warnings.warn(out)\n"
     ]
    },
    {
     "name": "stdout",
     "output_type": "stream",
     "text": [
      "1/0.3873/0.01 | 2/0.0000/0.01 | 3/0.0000/0.01 | 4/0.0000/0.01 | 5/0.0000/0.01 | 6/0.0000/0.01 | 7/0.0000/0.01 | 8/0.0000/0.01 | 9/0.0000/0.005 | 10/0.0000/0.005 | 11/0.0000/0.005 | 12/0.0000/0.005 | 13/0.0000/0.005 | 14/0.0282/0.005 | 15/0.0282/0.0025 | 16/0.0493/0.0025 | 17/0.0493/0.0025 | 18/0.0493/0.0025 | 19/0.0704/0.0025 | 20/0.0915/0.0025 | 21/0.1127/0.00125 | 22/0.1479/0.00125 | 23/0.1549/0.00125 | 24/0.1479/0.00125 | 25/0.1479/0.00125 | 26/0.1549/0.00125 | 27/0.1549/0.000625 | 28/0.1549/0.000625 | 29/0.1690/0.000625 | 30/0.1690/0.000625 | 31/0.1690/0.000625 | 32/0.1831/0.000625 | 33/0.1901/0.0003125 | 34/0.1901/0.0003125 | 35/0.1901/0.0003125 | 36/0.1901/0.0003125 | 37/0.1972/0.0003125 | 38/0.2042/0.0003125 | 39/0.1972/0.00015625 | 40/0.2113/0.00015625 | 41/0.2113/0.00015625 | 42/0.2113/0.00015625 | 43/0.2183/0.00015625 | 44/0.2183/0.00015625 | 45/0.2183/7.8125e-05 | 46/0.2183/7.8125e-05 | 47/0.2183/7.8125e-05 | 48/0.2254/7.8125e-05 | 49/0.2324/7.8125e-05 | 50/0.2324/7.8125e-05 | 51/0.2324/3.90625e-05 | 52/0.2324/3.90625e-05 | 53/0.2324/3.90625e-05 | 54/0.2324/3.90625e-05 | 55/0.2324/3.90625e-05 | 56/0.2324/3.90625e-05 | 57/0.2324/1.953125e-05 | 58/0.2324/1.953125e-05 | 59/0.2324/1.953125e-05 | 60/0.2254/1.953125e-05 | 61/0.2254/1.953125e-05 | 62/0.2254/1.953125e-05 | 63/0.2254/9.765625e-06 | 64/0.2183/9.765625e-06 | 65/0.2183/9.765625e-06 | 66/0.2183/9.765625e-06 | 67/0.2183/9.765625e-06 | 68/0.2183/9.765625e-06 | 69/0.2183/4.8828125e-06 | 70/0.2254/4.8828125e-06 | 71/0.2183/4.8828125e-06 | 72/0.2183/4.8828125e-06 | 73/0.2183/4.8828125e-06 | 74/0.2183/4.8828125e-06 | 75/0.2183/2.44140625e-06 | 76/0.2183/2.44140625e-06 | 77/0.2254/2.44140625e-06 | 78/0.2254/2.44140625e-06 | 79/0.2254/2.44140625e-06 | 80/0.2254/2.44140625e-06 | 81/0.2254/1.220703125e-06 | 82/0.2254/1.220703125e-06 | 83/0.2254/1.220703125e-06 | 84/0.2254/1.220703125e-06 | 85/0.2254/1.220703125e-06 | 86/0.2254/1.220703125e-06 | 87/0.2254/6.103515625e-07 | Accuracy: 0.1468\n",
      "Evaluating dd dataset using graph_order method with a percentile of 70 against class members\n",
      "Epoch/val accuracy/lr: "
     ]
    },
    {
     "name": "stderr",
     "output_type": "stream",
     "text": [
      "/opt/conda/lib/python3.10/site-packages/torch_geometric/deprecation.py:26: UserWarning: 'data.DataLoader' is deprecated, use 'loader.DataLoader' instead\n",
      "  warnings.warn(out)\n"
     ]
    },
    {
     "name": "stdout",
     "output_type": "stream",
     "text": [
      "1/0.4545/0.01 | 2/0.0182/0.01 | 3/0.0000/0.01 | 4/0.0000/0.01 | 5/0.0000/0.01 | 6/0.0000/0.01 | 7/0.0000/0.01 | 8/0.0000/0.01 | 9/0.0970/0.01 | 10/0.0667/0.005 | 11/0.0485/0.005 | 12/0.0667/0.005 | 13/0.0485/0.005 | 14/0.0182/0.005 | 15/0.0182/0.005 | 16/0.0182/0.0025 | 17/0.0242/0.0025 | 18/0.0242/0.0025 | 19/0.0424/0.0025 | 20/0.0545/0.0025 | 21/0.0970/0.0025 | 22/0.1212/0.00125 | 23/0.1576/0.00125 | 24/0.2121/0.00125 | 25/0.2606/0.00125 | 26/0.3455/0.00125 | 27/0.3879/0.00125 | 28/0.4061/0.000625 | 29/0.4121/0.000625 | 30/0.4121/0.000625 | 31/0.4000/0.000625 | 32/0.4000/0.000625 | 33/0.3939/0.000625 | 34/0.3818/0.0003125 | 35/0.3636/0.0003125 | 36/0.3394/0.0003125 | 37/0.3273/0.0003125 | 38/0.3091/0.0003125 | 39/0.2909/0.0003125 | 40/0.2667/0.00015625 | 41/0.2606/0.00015625 | 42/0.2485/0.00015625 | 43/0.2424/0.00015625 | 44/0.2424/0.00015625 | 45/0.2424/0.00015625 | 46/0.2424/7.8125e-05 | 47/0.2424/7.8125e-05 | 48/0.2424/7.8125e-05 | 49/0.2303/7.8125e-05 | 50/0.2303/7.8125e-05 | 51/0.2303/7.8125e-05 | 52/0.2242/3.90625e-05 | 53/0.2242/3.90625e-05 | 54/0.2242/3.90625e-05 | 55/0.2242/3.90625e-05 | 56/0.2303/3.90625e-05 | 57/0.2364/3.90625e-05 | 58/0.2303/1.953125e-05 | 59/0.2303/1.953125e-05 | 60/0.2303/1.953125e-05 | 61/0.2364/1.953125e-05 | 62/0.2364/1.953125e-05 | 63/0.2364/1.953125e-05 | 64/0.2364/9.765625e-06 | 65/0.2364/9.765625e-06 | 66/0.2303/9.765625e-06 | 67/0.2424/9.765625e-06 | 68/0.2303/9.765625e-06 | 69/0.2303/9.765625e-06 | 70/0.2364/4.8828125e-06 | 71/0.2424/4.8828125e-06 | 72/0.2424/4.8828125e-06 | 73/0.2424/4.8828125e-06 | 74/0.2485/4.8828125e-06 | 75/0.2485/4.8828125e-06 | 76/0.2485/2.44140625e-06 | 77/0.2485/2.44140625e-06 | 78/0.2485/2.44140625e-06 | 79/0.2485/2.44140625e-06 | 80/0.2485/2.44140625e-06 | 81/0.2485/2.44140625e-06 | 82/0.2485/1.220703125e-06 | 83/0.2606/1.220703125e-06 | 84/0.2667/1.220703125e-06 | 85/0.2667/1.220703125e-06 | 86/0.2667/1.220703125e-06 | 87/0.2667/1.220703125e-06 | 88/0.2667/6.103515625e-07 | Accuracy: 0.1360\n",
      "Evaluating dd dataset using graph_order method with a percentile of 80 against class members\n",
      "Epoch/val accuracy/lr: "
     ]
    },
    {
     "name": "stderr",
     "output_type": "stream",
     "text": [
      "/opt/conda/lib/python3.10/site-packages/torch_geometric/deprecation.py:26: UserWarning: 'data.DataLoader' is deprecated, use 'loader.DataLoader' instead\n",
      "  warnings.warn(out)\n"
     ]
    },
    {
     "name": "stdout",
     "output_type": "stream",
     "text": [
      "1/0.0000/0.01 | 2/0.0000/0.01 | 3/0.0053/0.01 | 4/0.0000/0.01 | 5/0.0000/0.01 | 6/0.0000/0.01 | 7/0.0000/0.01 | 8/0.0053/0.005 | 9/0.0317/0.005 | 10/0.1852/0.005 | 11/0.2593/0.005 | 12/0.3069/0.005 | 13/0.3175/0.005 | 14/0.3386/0.0025 | 15/0.3386/0.0025 | 16/0.3386/0.0025 | 17/0.3386/0.0025 | 18/0.3386/0.0025 | 19/0.3386/0.0025 | 20/0.3333/0.00125 | 21/0.3333/0.00125 | 22/0.3333/0.00125 | 23/0.3333/0.00125 | 24/0.3333/0.00125 | 25/0.3333/0.00125 | 26/0.3333/0.000625 | 27/0.3333/0.000625 | 28/0.3280/0.000625 | 29/0.3280/0.000625 | 30/0.3280/0.000625 | 31/0.3175/0.000625 | 32/0.3069/0.0003125 | 33/0.3016/0.0003125 | 34/0.3016/0.0003125 | 35/0.3016/0.0003125 | 36/0.2910/0.0003125 | 37/0.2804/0.0003125 | 38/0.2804/0.00015625 | 39/0.2751/0.00015625 | 40/0.2751/0.00015625 | 41/0.2751/0.00015625 | 42/0.2751/0.00015625 | 43/0.2698/0.00015625 | 44/0.2698/7.8125e-05 | 45/0.2593/7.8125e-05 | 46/0.2487/7.8125e-05 | 47/0.2434/7.8125e-05 | 48/0.2434/7.8125e-05 | 49/0.2434/7.8125e-05 | 50/0.2434/3.90625e-05 | 51/0.2328/3.90625e-05 | 52/0.2275/3.90625e-05 | 53/0.2275/3.90625e-05 | 54/0.2275/3.90625e-05 | 55/0.2222/3.90625e-05 | 56/0.2222/1.953125e-05 | 57/0.2222/1.953125e-05 | 58/0.2222/1.953125e-05 | 59/0.2222/1.953125e-05 | 60/0.2222/1.953125e-05 | 61/0.2222/1.953125e-05 | 62/0.2275/9.765625e-06 | 63/0.2222/9.765625e-06 | 64/0.2275/9.765625e-06 | 65/0.2275/9.765625e-06 | 66/0.2275/9.765625e-06 | 67/0.2169/9.765625e-06 | 68/0.2169/4.8828125e-06 | 69/0.2169/4.8828125e-06 | 70/0.2169/4.8828125e-06 | 71/0.2169/4.8828125e-06 | 72/0.2116/4.8828125e-06 | 73/0.2063/4.8828125e-06 | 74/0.2063/2.44140625e-06 | 75/0.2063/2.44140625e-06 | 76/0.2063/2.44140625e-06 | 77/0.2063/2.44140625e-06 | 78/0.2063/2.44140625e-06 | 79/0.2063/2.44140625e-06 | 80/0.2063/1.220703125e-06 | 81/0.2063/1.220703125e-06 | 82/0.2063/1.220703125e-06 | 83/0.2063/1.220703125e-06 | 84/0.2063/1.220703125e-06 | 85/0.2063/1.220703125e-06 | 86/0.2063/6.103515625e-07 | Accuracy: 0.1574\n",
      "Evaluating dd dataset using graph_order method with a percentile of 90 against class members\n",
      "Epoch/val accuracy/lr: "
     ]
    },
    {
     "name": "stderr",
     "output_type": "stream",
     "text": [
      "/opt/conda/lib/python3.10/site-packages/torch_geometric/deprecation.py:26: UserWarning: 'data.DataLoader' is deprecated, use 'loader.DataLoader' instead\n",
      "  warnings.warn(out)\n"
     ]
    },
    {
     "name": "stdout",
     "output_type": "stream",
     "text": [
      "1/0.0000/0.01 | 2/0.0000/0.01 | 3/0.0000/0.01 | 4/0.0047/0.01 | 5/0.0469/0.01 | 6/0.0047/0.01 | 7/0.0000/0.01 | 8/0.0000/0.005 | 9/0.0000/0.005 | 10/0.0000/0.005 | 11/0.0235/0.005 | 12/0.3099/0.005 | 13/0.3897/0.005 | 14/0.3991/0.0025 | 15/0.3991/0.0025 | 16/0.3944/0.0025 | 17/0.3991/0.0025 | 18/0.3991/0.0025 | 19/0.3897/0.0025 | 20/0.3850/0.00125 | 21/0.3756/0.00125 | 22/0.3756/0.00125 | 23/0.3662/0.00125 | 24/0.3615/0.00125 | 25/0.3615/0.00125 | 26/0.3615/0.000625 | 27/0.3521/0.000625 | 28/0.3427/0.000625 | 29/0.3286/0.000625 | 30/0.3146/0.000625 | 31/0.3099/0.000625 | 32/0.3099/0.0003125 | 33/0.3005/0.0003125 | 34/0.3005/0.0003125 | 35/0.2958/0.0003125 | 36/0.2817/0.0003125 | 37/0.2770/0.0003125 | 38/0.2770/0.00015625 | 39/0.2723/0.00015625 | 40/0.2629/0.00015625 | 41/0.2629/0.00015625 | 42/0.2582/0.00015625 | 43/0.2535/0.00015625 | 44/0.2535/7.8125e-05 | 45/0.2535/7.8125e-05 | 46/0.2347/7.8125e-05 | 47/0.2347/7.8125e-05 | 48/0.2347/7.8125e-05 | 49/0.2300/7.8125e-05 | 50/0.2300/3.90625e-05 | 51/0.2300/3.90625e-05 | 52/0.2300/3.90625e-05 | 53/0.2300/3.90625e-05 | 54/0.2300/3.90625e-05 | 55/0.2347/3.90625e-05 | 56/0.2394/1.953125e-05 | 57/0.2394/1.953125e-05 | 58/0.2394/1.953125e-05 | 59/0.2441/1.953125e-05 | 60/0.2394/1.953125e-05 | 61/0.2488/1.953125e-05 | 62/0.2488/9.765625e-06 | 63/0.2535/9.765625e-06 | 64/0.2582/9.765625e-06 | 65/0.2629/9.765625e-06 | 66/0.2629/9.765625e-06 | 67/0.2629/9.765625e-06 | 68/0.2629/4.8828125e-06 | 69/0.2582/4.8828125e-06 | 70/0.2582/4.8828125e-06 | 71/0.2582/4.8828125e-06 | 72/0.2582/4.8828125e-06 | 73/0.2535/4.8828125e-06 | 74/0.2582/2.44140625e-06 | 75/0.2535/2.44140625e-06 | 76/0.2535/2.44140625e-06 | 77/0.2535/2.44140625e-06 | 78/0.2535/2.44140625e-06 | 79/0.2535/2.44140625e-06 | 80/0.2535/1.220703125e-06 | 81/0.2488/1.220703125e-06 | 82/0.2488/1.220703125e-06 | 83/0.2488/1.220703125e-06 | 84/0.2488/1.220703125e-06 | 85/0.2488/1.220703125e-06 | 86/0.2488/6.103515625e-07 | Accuracy: 0.1624\n",
      "Evaluating dd dataset using cos_sim method with a percentile of 40 against class members\n",
      "Epoch/val accuracy/lr: "
     ]
    },
    {
     "name": "stderr",
     "output_type": "stream",
     "text": [
      "/opt/conda/lib/python3.10/site-packages/torch_geometric/deprecation.py:26: UserWarning: 'data.DataLoader' is deprecated, use 'loader.DataLoader' instead\n",
      "  warnings.warn(out)\n"
     ]
    },
    {
     "name": "stdout",
     "output_type": "stream",
     "text": [
      "1/0.0211/0.01 | 2/0.0000/0.01 | 3/0.0000/0.01 | 4/0.0000/0.01 | 5/0.0000/0.01 | 6/0.0000/0.01 | 7/0.0000/0.01 | 8/0.0105/0.01 | 9/0.0105/0.005 | 10/0.0211/0.005 | 11/0.0421/0.005 | 12/0.0737/0.005 | 13/0.0632/0.005 | 14/0.0842/0.005 | 15/0.0947/0.0025 | 16/0.0947/0.0025 | 17/0.0737/0.0025 | 18/0.0737/0.0025 | 19/0.1474/0.0025 | 20/0.1789/0.0025 | 21/0.1895/0.00125 | 22/0.2105/0.00125 | 23/0.2000/0.00125 | 24/0.1895/0.00125 | 25/0.1895/0.00125 | 26/0.1579/0.00125 | 27/0.1579/0.000625 | 28/0.1684/0.000625 | 29/0.1684/0.000625 | 30/0.1684/0.000625 | 31/0.1684/0.000625 | 32/0.1684/0.000625 | 33/0.1579/0.0003125 | 34/0.1579/0.0003125 | 35/0.1579/0.0003125 | 36/0.1579/0.0003125 | 37/0.1579/0.0003125 | 38/0.1579/0.0003125 | 39/0.1474/0.00015625 | 40/0.1474/0.00015625 | 41/0.1474/0.00015625 | 42/0.1474/0.00015625 | 43/0.1474/0.00015625 | 44/0.1474/0.00015625 | 45/0.1474/7.8125e-05 | 46/0.1474/7.8125e-05 | 47/0.1474/7.8125e-05 | 48/0.1579/7.8125e-05 | 49/0.1579/7.8125e-05 | 50/0.1579/7.8125e-05 | 51/0.1474/3.90625e-05 | 52/0.1579/3.90625e-05 | 53/0.1579/3.90625e-05 | 54/0.1579/3.90625e-05 | 55/0.1579/3.90625e-05 | 56/0.1579/3.90625e-05 | 57/0.1579/1.953125e-05 | 58/0.1579/1.953125e-05 | 59/0.1579/1.953125e-05 | 60/0.1579/1.953125e-05 | 61/0.1579/1.953125e-05 | 62/0.1579/1.953125e-05 | 63/0.1684/9.765625e-06 | 64/0.1684/9.765625e-06 | 65/0.1684/9.765625e-06 | 66/0.1684/9.765625e-06 | 67/0.1789/9.765625e-06 | 68/0.1789/9.765625e-06 | 69/0.1789/4.8828125e-06 | 70/0.1789/4.8828125e-06 | 71/0.1789/4.8828125e-06 | 72/0.1895/4.8828125e-06 | 73/0.1895/4.8828125e-06 | 74/0.2000/4.8828125e-06 | 75/0.2000/2.44140625e-06 | 76/0.2000/2.44140625e-06 | 77/0.2000/2.44140625e-06 | 78/0.2000/2.44140625e-06 | 79/0.2000/2.44140625e-06 | 80/0.2000/2.44140625e-06 | 81/0.2000/1.220703125e-06 | 82/0.2000/1.220703125e-06 | 83/0.2000/1.220703125e-06 | 84/0.2000/1.220703125e-06 | 85/0.2000/1.220703125e-06 | 86/0.2000/1.220703125e-06 | 87/0.2000/6.103515625e-07 | Accuracy: 0.1246\n",
      "Evaluating dd dataset using cos_sim method with a percentile of 50 against class members\n",
      "Epoch/val accuracy/lr: "
     ]
    },
    {
     "name": "stderr",
     "output_type": "stream",
     "text": [
      "/opt/conda/lib/python3.10/site-packages/torch_geometric/deprecation.py:26: UserWarning: 'data.DataLoader' is deprecated, use 'loader.DataLoader' instead\n",
      "  warnings.warn(out)\n"
     ]
    },
    {
     "name": "stdout",
     "output_type": "stream",
     "text": [
      "1/0.2034/0.01 | 2/0.0763/0.01 | 3/0.0085/0.01 | 4/0.0254/0.01 | 5/0.0085/0.01 | 6/0.0085/0.01 | 7/0.0085/0.01 | 8/0.0085/0.01 | 9/0.0085/0.01 | 10/0.0085/0.005 | 11/0.0169/0.005 | 12/0.0169/0.005 | 13/0.0085/0.005 | 14/0.0169/0.005 | 15/0.0339/0.005 | 16/0.0424/0.0025 | 17/0.0508/0.0025 | 18/0.0593/0.0025 | 19/0.0847/0.0025 | 20/0.1102/0.0025 | 21/0.1271/0.0025 | 22/0.1356/0.00125 | 23/0.1356/0.00125 | 24/0.1271/0.00125 | 25/0.1102/0.00125 | 26/0.0932/0.00125 | 27/0.0678/0.00125 | 28/0.0678/0.000625 | 29/0.0678/0.000625 | 30/0.0678/0.000625 | 31/0.0763/0.000625 | 32/0.0932/0.000625 | 33/0.1102/0.000625 | 34/0.1271/0.0003125 | 35/0.1441/0.0003125 | 36/0.1441/0.0003125 | 37/0.1525/0.0003125 | 38/0.1610/0.0003125 | 39/0.1695/0.0003125 | 40/0.1695/0.00015625 | 41/0.1780/0.00015625 | 42/0.1780/0.00015625 | 43/0.1780/0.00015625 | 44/0.1780/0.00015625 | 45/0.1780/0.00015625 | 46/0.1864/7.8125e-05 | 47/0.1864/7.8125e-05 | 48/0.1949/7.8125e-05 | 49/0.1949/7.8125e-05 | 50/0.2034/7.8125e-05 | 51/0.2034/7.8125e-05 | 52/0.2034/3.90625e-05 | 53/0.2203/3.90625e-05 | 54/0.2203/3.90625e-05 | 55/0.2203/3.90625e-05 | 56/0.2203/3.90625e-05 | 57/0.2203/3.90625e-05 | 58/0.2203/1.953125e-05 | 59/0.2288/1.953125e-05 | 60/0.2288/1.953125e-05 | 61/0.2288/1.953125e-05 | 62/0.2288/1.953125e-05 | 63/0.2288/1.953125e-05 | 64/0.2288/9.765625e-06 | 65/0.2373/9.765625e-06 | 66/0.2373/9.765625e-06 | 67/0.2373/9.765625e-06 | 68/0.2373/9.765625e-06 | 69/0.2373/9.765625e-06 | 70/0.2373/4.8828125e-06 | 71/0.2373/4.8828125e-06 | 72/0.2373/4.8828125e-06 | 73/0.2373/4.8828125e-06 | 74/0.2373/4.8828125e-06 | 75/0.2288/4.8828125e-06 | 76/0.2373/2.44140625e-06 | 77/0.2373/2.44140625e-06 | 78/0.2373/2.44140625e-06 | 79/0.2373/2.44140625e-06 | 80/0.2373/2.44140625e-06 | 81/0.2373/2.44140625e-06 | 82/0.2373/1.220703125e-06 | 83/0.2373/1.220703125e-06 | 84/0.2373/1.220703125e-06 | 85/0.2373/1.220703125e-06 | 86/0.2373/1.220703125e-06 | 87/0.2373/1.220703125e-06 | 88/0.2373/6.103515625e-07 | Accuracy: 0.1735\n",
      "Evaluating dd dataset using cos_sim method with a percentile of 60 against class members\n",
      "Epoch/val accuracy/lr: "
     ]
    },
    {
     "name": "stderr",
     "output_type": "stream",
     "text": [
      "/opt/conda/lib/python3.10/site-packages/torch_geometric/deprecation.py:26: UserWarning: 'data.DataLoader' is deprecated, use 'loader.DataLoader' instead\n",
      "  warnings.warn(out)\n"
     ]
    },
    {
     "name": "stdout",
     "output_type": "stream",
     "text": [
      "1/0.0704/0.01 | 2/0.0000/0.01 | 3/0.0000/0.01 | 4/0.0000/0.01 | 5/0.0000/0.01 | 6/0.0000/0.01 | 7/0.0070/0.01 | 8/0.0070/0.01 | 9/0.0070/0.005 | 10/0.0000/0.005 | 11/0.0000/0.005 | 12/0.0000/0.005 | 13/0.0000/0.005 | 14/0.0000/0.005 | 15/0.0000/0.0025 | 16/0.0000/0.0025 | 17/0.0000/0.0025 | 18/0.0070/0.0025 | 19/0.0070/0.0025 | 20/0.0070/0.0025 | 21/0.0070/0.00125 | 22/0.0070/0.00125 | 23/0.0141/0.00125 | 24/0.0141/0.00125 | 25/0.0141/0.00125 | 26/0.0141/0.00125 | 27/0.0141/0.000625 | 28/0.0211/0.000625 | 29/0.0211/0.000625 | 30/0.0282/0.000625 | 31/0.0282/0.000625 | 32/0.0282/0.000625 | 33/0.0282/0.0003125 | 34/0.0282/0.0003125 | 35/0.0282/0.0003125 | 36/0.0282/0.0003125 | 37/0.0352/0.0003125 | 38/0.0352/0.0003125 | 39/0.0352/0.00015625 | 40/0.0352/0.00015625 | 41/0.0423/0.00015625 | 42/0.0493/0.00015625 | 43/0.0563/0.00015625 | 44/0.0563/0.00015625 | 45/0.0563/7.8125e-05 | 46/0.0634/7.8125e-05 | 47/0.0704/7.8125e-05 | 48/0.0704/7.8125e-05 | 49/0.0704/7.8125e-05 | 50/0.0775/7.8125e-05 | 51/0.0775/3.90625e-05 | 52/0.0915/3.90625e-05 | 53/0.0915/3.90625e-05 | 54/0.0986/3.90625e-05 | 55/0.0986/3.90625e-05 | 56/0.1056/3.90625e-05 | 57/0.1056/1.953125e-05 | 58/0.1127/1.953125e-05 | 59/0.1127/1.953125e-05 | 60/0.1127/1.953125e-05 | 61/0.1197/1.953125e-05 | 62/0.1268/1.953125e-05 | 63/0.1338/9.765625e-06 | 64/0.1408/9.765625e-06 | 65/0.1408/9.765625e-06 | 66/0.1408/9.765625e-06 | 67/0.1479/9.765625e-06 | 68/0.1549/9.765625e-06 | 69/0.1549/4.8828125e-06 | 70/0.1620/4.8828125e-06 | 71/0.1620/4.8828125e-06 | 72/0.1620/4.8828125e-06 | 73/0.1620/4.8828125e-06 | 74/0.1690/4.8828125e-06 | 75/0.1620/2.44140625e-06 | 76/0.1690/2.44140625e-06 | 77/0.1831/2.44140625e-06 | 78/0.1761/2.44140625e-06 | 79/0.1761/2.44140625e-06 | 80/0.1761/2.44140625e-06 | 81/0.1761/1.220703125e-06 | 82/0.1761/1.220703125e-06 | 83/0.1761/1.220703125e-06 | 84/0.1761/1.220703125e-06 | 85/0.1831/1.220703125e-06 | 86/0.1831/1.220703125e-06 | 87/0.1831/6.103515625e-07 | Accuracy: 0.1000\n",
      "Evaluating dd dataset using cos_sim method with a percentile of 70 against class members\n",
      "Epoch/val accuracy/lr: "
     ]
    },
    {
     "name": "stderr",
     "output_type": "stream",
     "text": [
      "/opt/conda/lib/python3.10/site-packages/torch_geometric/deprecation.py:26: UserWarning: 'data.DataLoader' is deprecated, use 'loader.DataLoader' instead\n",
      "  warnings.warn(out)\n"
     ]
    },
    {
     "name": "stdout",
     "output_type": "stream",
     "text": [
      "1/0.0000/0.01 | 2/0.0000/0.01 | 3/0.0000/0.01 | 4/0.0000/0.01 | 5/0.0061/0.01 | 6/0.0061/0.01 | 7/0.0000/0.01 | 8/0.0000/0.005 | 9/0.0000/0.005 | 10/0.0000/0.005 | 11/0.0000/0.005 | 12/0.0000/0.005 | 13/0.0000/0.005 | 14/0.0061/0.0025 | 15/0.0061/0.0025 | 16/0.0000/0.0025 | 17/0.0000/0.0025 | 18/0.0000/0.0025 | 19/0.0000/0.0025 | 20/0.0000/0.00125 | 21/0.0000/0.00125 | 22/0.0061/0.00125 | 23/0.0182/0.00125 | 24/0.0303/0.00125 | 25/0.0364/0.00125 | 26/0.0364/0.000625 | 27/0.0364/0.000625 | 28/0.0364/0.000625 | 29/0.0364/0.000625 | 30/0.0424/0.000625 | 31/0.0485/0.000625 | 32/0.0485/0.0003125 | 33/0.0545/0.0003125 | 34/0.0606/0.0003125 | 35/0.0667/0.0003125 | 36/0.0667/0.0003125 | 37/0.0848/0.0003125 | 38/0.0848/0.00015625 | 39/0.0909/0.00015625 | 40/0.1091/0.00015625 | 41/0.1152/0.00015625 | 42/0.1152/0.00015625 | 43/0.1152/0.00015625 | 44/0.1273/7.8125e-05 | 45/0.1333/7.8125e-05 | 46/0.1394/7.8125e-05 | 47/0.1455/7.8125e-05 | 48/0.1455/7.8125e-05 | 49/0.1697/7.8125e-05 | 50/0.1758/3.90625e-05 | 51/0.1758/3.90625e-05 | 52/0.1758/3.90625e-05 | 53/0.1818/3.90625e-05 | 54/0.1818/3.90625e-05 | 55/0.1879/3.90625e-05 | 56/0.1879/1.953125e-05 | 57/0.1939/1.953125e-05 | 58/0.1939/1.953125e-05 | 59/0.1939/1.953125e-05 | 60/0.1939/1.953125e-05 | 61/0.2000/1.953125e-05 | 62/0.2000/9.765625e-06 | 63/0.2000/9.765625e-06 | 64/0.2061/9.765625e-06 | 65/0.2061/9.765625e-06 | 66/0.2061/9.765625e-06 | 67/0.2121/9.765625e-06 | 68/0.2121/4.8828125e-06 | 69/0.2182/4.8828125e-06 | 70/0.2182/4.8828125e-06 | 71/0.2182/4.8828125e-06 | 72/0.2182/4.8828125e-06 | 73/0.2182/4.8828125e-06 | 74/0.2182/2.44140625e-06 | 75/0.2182/2.44140625e-06 | 76/0.2182/2.44140625e-06 | 77/0.2182/2.44140625e-06 | 78/0.2182/2.44140625e-06 | 79/0.2182/2.44140625e-06 | 80/0.2182/1.220703125e-06 | 81/0.2182/1.220703125e-06 | 82/0.2182/1.220703125e-06 | 83/0.2182/1.220703125e-06 | 84/0.2242/1.220703125e-06 | 85/0.2242/1.220703125e-06 | 86/0.2242/6.103515625e-07 | Accuracy: 0.2125\n",
      "Evaluating dd dataset using cos_sim method with a percentile of 80 against class members\n",
      "Epoch/val accuracy/lr: "
     ]
    },
    {
     "name": "stderr",
     "output_type": "stream",
     "text": [
      "/opt/conda/lib/python3.10/site-packages/torch_geometric/deprecation.py:26: UserWarning: 'data.DataLoader' is deprecated, use 'loader.DataLoader' instead\n",
      "  warnings.warn(out)\n"
     ]
    },
    {
     "name": "stdout",
     "output_type": "stream",
     "text": [
      "1/0.0000/0.01 | 2/0.0000/0.01 | 3/0.0000/0.01 | 4/0.0000/0.01 | 5/0.0000/0.01 | 6/0.0000/0.01 | 7/0.0000/0.01 | 8/0.0000/0.005 | 9/0.0000/0.005 | 10/0.0053/0.005 | 11/0.0159/0.005 | 12/0.1217/0.005 | 13/0.2540/0.005 | 14/0.3175/0.0025 | 15/0.3439/0.0025 | 16/0.3280/0.0025 | 17/0.2857/0.0025 | 18/0.1693/0.0025 | 19/0.1376/0.0025 | 20/0.0688/0.00125 | 21/0.0370/0.00125 | 22/0.0265/0.00125 | 23/0.0212/0.00125 | 24/0.0212/0.00125 | 25/0.0159/0.00125 | 26/0.0106/0.000625 | 27/0.0106/0.000625 | 28/0.0106/0.000625 | 29/0.0053/0.000625 | 30/0.0106/0.000625 | 31/0.0106/0.000625 | 32/0.0106/0.0003125 | 33/0.0106/0.0003125 | 34/0.0159/0.0003125 | 35/0.0159/0.0003125 | 36/0.0159/0.0003125 | 37/0.0159/0.0003125 | 38/0.0159/0.00015625 | 39/0.0159/0.00015625 | 40/0.0265/0.00015625 | 41/0.0317/0.00015625 | 42/0.0370/0.00015625 | 43/0.0476/0.00015625 | 44/0.0529/7.8125e-05 | 45/0.0582/7.8125e-05 | 46/0.0635/7.8125e-05 | 47/0.0635/7.8125e-05 | 48/0.0688/7.8125e-05 | 49/0.0794/7.8125e-05 | 50/0.0794/3.90625e-05 | 51/0.0847/3.90625e-05 | 52/0.0899/3.90625e-05 | 53/0.1005/3.90625e-05 | 54/0.1005/3.90625e-05 | 55/0.1111/3.90625e-05 | 56/0.1164/1.953125e-05 | 57/0.1323/1.953125e-05 | 58/0.1323/1.953125e-05 | 59/0.1376/1.953125e-05 | 60/0.1376/1.953125e-05 | 61/0.1429/1.953125e-05 | 62/0.1587/9.765625e-06 | 63/0.1640/9.765625e-06 | 64/0.1640/9.765625e-06 | 65/0.1693/9.765625e-06 | 66/0.1852/9.765625e-06 | 67/0.1852/9.765625e-06 | 68/0.1905/4.8828125e-06 | 69/0.1958/4.8828125e-06 | 70/0.1958/4.8828125e-06 | 71/0.2063/4.8828125e-06 | 72/0.2063/4.8828125e-06 | 73/0.2063/4.8828125e-06 | 74/0.2063/2.44140625e-06 | 75/0.2063/2.44140625e-06 | 76/0.2063/2.44140625e-06 | 77/0.2116/2.44140625e-06 | 78/0.2116/2.44140625e-06 | 79/0.2116/2.44140625e-06 | 80/0.2116/1.220703125e-06 | 81/0.2169/1.220703125e-06 | 82/0.2222/1.220703125e-06 | 83/0.2275/1.220703125e-06 | 84/0.2328/1.220703125e-06 | 85/0.2328/1.220703125e-06 | 86/0.2381/6.103515625e-07 | Accuracy: 0.1872\n",
      "Evaluating dd dataset using cos_sim method with a percentile of 90 against class members\n",
      "Epoch/val accuracy/lr: "
     ]
    },
    {
     "name": "stderr",
     "output_type": "stream",
     "text": [
      "/opt/conda/lib/python3.10/site-packages/torch_geometric/deprecation.py:26: UserWarning: 'data.DataLoader' is deprecated, use 'loader.DataLoader' instead\n",
      "  warnings.warn(out)\n"
     ]
    },
    {
     "name": "stdout",
     "output_type": "stream",
     "text": [
      "1/0.4366/0.01 | 2/0.3474/0.01 | 3/0.0047/0.01 | 4/0.0047/0.01 | 5/0.0000/0.01 | 6/0.0000/0.01 | 7/0.0047/0.01 | 8/0.0329/0.01 | 9/0.2019/0.01 | 10/0.1502/0.01 | 11/0.0845/0.01 | 12/0.1033/0.005 | 13/0.2207/0.005 | 14/0.2864/0.005 | 15/0.3756/0.005 | 16/0.3897/0.005 | 17/0.4038/0.005 | 18/0.4131/0.0025 | 19/0.4131/0.0025 | 20/0.4085/0.0025 | 21/0.3897/0.0025 | 22/0.3897/0.0025 | 23/0.3521/0.0025 | 24/0.3286/0.00125 | 25/0.2676/0.00125 | 26/0.2019/0.00125 | 27/0.1690/0.00125 | 28/0.1455/0.00125 | 29/0.1174/0.00125 | 30/0.1127/0.000625 | 31/0.0986/0.000625 | 32/0.1033/0.000625 | 33/0.0892/0.000625 | 34/0.0939/0.000625 | 35/0.0939/0.000625 | 36/0.1033/0.0003125 | 37/0.1080/0.0003125 | 38/0.1127/0.0003125 | 39/0.1174/0.0003125 | 40/0.1268/0.0003125 | 41/0.1315/0.0003125 | 42/0.1315/0.00015625 | 43/0.1362/0.00015625 | 44/0.1362/0.00015625 | 45/0.1362/0.00015625 | 46/0.1362/0.00015625 | 47/0.1408/0.00015625 | 48/0.1455/7.8125e-05 | 49/0.1502/7.8125e-05 | 50/0.1596/7.8125e-05 | 51/0.1596/7.8125e-05 | 52/0.1643/7.8125e-05 | 53/0.1643/7.8125e-05 | 54/0.1643/3.90625e-05 | 55/0.1643/3.90625e-05 | 56/0.1690/3.90625e-05 | 57/0.1737/3.90625e-05 | 58/0.1784/3.90625e-05 | 59/0.1831/3.90625e-05 | 60/0.1878/1.953125e-05 | 61/0.1878/1.953125e-05 | 62/0.1925/1.953125e-05 | 63/0.1925/1.953125e-05 | 64/0.2066/1.953125e-05 | 65/0.2066/1.953125e-05 | 66/0.2066/9.765625e-06 | 67/0.2066/9.765625e-06 | 68/0.2113/9.765625e-06 | 69/0.2113/9.765625e-06 | 70/0.2113/9.765625e-06 | 71/0.2113/9.765625e-06 | 72/0.2113/4.8828125e-06 | 73/0.2113/4.8828125e-06 | 74/0.2113/4.8828125e-06 | 75/0.2113/4.8828125e-06 | 76/0.2113/4.8828125e-06 | 77/0.2207/4.8828125e-06 | 78/0.2207/2.44140625e-06 | 79/0.2254/2.44140625e-06 | 80/0.2254/2.44140625e-06 | 81/0.2254/2.44140625e-06 | 82/0.2254/2.44140625e-06 | 83/0.2254/2.44140625e-06 | 84/0.2254/1.220703125e-06 | 85/0.2254/1.220703125e-06 | 86/0.2254/1.220703125e-06 | 87/0.2254/1.220703125e-06 | 88/0.2254/1.220703125e-06 | 89/0.2254/1.220703125e-06 | 90/0.2254/6.103515625e-07 | Accuracy: 0.1795\n",
      "Evaluating nci1 dataset using random method with a percentile of 40 against class members\n",
      "Epoch/val accuracy/lr: "
     ]
    },
    {
     "name": "stderr",
     "output_type": "stream",
     "text": [
      "/opt/conda/lib/python3.10/site-packages/torch_geometric/deprecation.py:26: UserWarning: 'data.DataLoader' is deprecated, use 'loader.DataLoader' instead\n",
      "  warnings.warn(out)\n"
     ]
    },
    {
     "name": "stdout",
     "output_type": "stream",
     "text": [
      "1/0.1489/0.01 | 2/0.4468/0.01 | 3/0.4863/0.01 | 4/0.4863/0.01 | 5/0.4863/0.01 | 6/0.4863/0.01 | 7/0.4863/0.01 | 8/0.4863/0.005 | 9/0.4863/0.005 | 10/0.4863/0.005 | 11/0.4863/0.005 | 12/0.4863/0.005 | 13/0.4863/0.005 | 14/0.4863/0.0025 | 15/0.4863/0.0025 | 16/0.4863/0.0025 | 17/0.4863/0.0025 | 18/0.4863/0.0025 | 19/0.4833/0.0025 | 20/0.4833/0.00125 | 21/0.4833/0.00125 | 22/0.4833/0.00125 | 23/0.4802/0.00125 | 24/0.4742/0.00125 | 25/0.4742/0.00125 | 26/0.4681/0.000625 | 27/0.4681/0.000625 | 28/0.4681/0.000625 | 29/0.4681/0.000625 | 30/0.4620/0.000625 | 31/0.4590/0.000625 | 32/0.4498/0.0003125 | 33/0.4438/0.0003125 | 34/0.4438/0.0003125 | 35/0.4407/0.0003125 | 36/0.4347/0.0003125 | 37/0.4255/0.0003125 | 38/0.4164/0.00015625 | 39/0.4134/0.00015625 | 40/0.4103/0.00015625 | 41/0.4043/0.00015625 | 42/0.3982/0.00015625 | 43/0.3982/0.00015625 | 44/0.3891/7.8125e-05 | 45/0.3891/7.8125e-05 | 46/0.3830/7.8125e-05 | 47/0.3769/7.8125e-05 | 48/0.3799/7.8125e-05 | 49/0.3708/7.8125e-05 | 50/0.3526/3.90625e-05 | 51/0.3465/3.90625e-05 | 52/0.3435/3.90625e-05 | 53/0.3374/3.90625e-05 | 54/0.3374/3.90625e-05 | 55/0.3374/3.90625e-05 | 56/0.3374/1.953125e-05 | 57/0.3343/1.953125e-05 | 58/0.3343/1.953125e-05 | 59/0.3283/1.953125e-05 | 60/0.3252/1.953125e-05 | 61/0.3252/1.953125e-05 | 62/0.3222/9.765625e-06 | 63/0.3222/9.765625e-06 | 64/0.3222/9.765625e-06 | 65/0.3222/9.765625e-06 | 66/0.3252/9.765625e-06 | 67/0.3222/9.765625e-06 | 68/0.3222/4.8828125e-06 | 69/0.3222/4.8828125e-06 | 70/0.3252/4.8828125e-06 | 71/0.3222/4.8828125e-06 | 72/0.3252/4.8828125e-06 | 73/0.3252/4.8828125e-06 | 74/0.3252/2.44140625e-06 | 75/0.3191/2.44140625e-06 | 76/0.3191/2.44140625e-06 | 77/0.3222/2.44140625e-06 | 78/0.3222/2.44140625e-06 | 79/0.3222/2.44140625e-06 | 80/0.3222/1.220703125e-06 | 81/0.3283/1.220703125e-06 | 82/0.3283/1.220703125e-06 | 83/0.3313/1.220703125e-06 | 84/0.3252/1.220703125e-06 | 85/0.3252/1.220703125e-06 | 86/0.3283/6.103515625e-07 | Accuracy: 0.3341\n",
      "Evaluating nci1 dataset using random method with a percentile of 50 against class members\n",
      "Epoch/val accuracy/lr: "
     ]
    },
    {
     "name": "stderr",
     "output_type": "stream",
     "text": [
      "/opt/conda/lib/python3.10/site-packages/torch_geometric/deprecation.py:26: UserWarning: 'data.DataLoader' is deprecated, use 'loader.DataLoader' instead\n",
      "  warnings.warn(out)\n"
     ]
    },
    {
     "name": "stdout",
     "output_type": "stream",
     "text": [
      "1/0.4891/0.01 | 2/0.4915/0.01 | 3/0.4915/0.01 | 4/0.4745/0.01 | 5/0.0024/0.01 | 6/0.0000/0.01 | 7/0.0000/0.01 | 8/0.4915/0.01 | 9/0.4915/0.01 | 10/0.4915/0.01 | 11/0.4891/0.01 | 12/0.4891/0.01 | 13/0.4866/0.005 | 14/0.4842/0.005 | 15/0.4818/0.005 | 16/0.4696/0.005 | 17/0.4307/0.005 | 18/0.3601/0.005 | 19/0.2920/0.0025 | 20/0.2068/0.0025 | 21/0.1849/0.0025 | 22/0.2238/0.0025 | 23/0.2579/0.0025 | 24/0.2968/0.0025 | 25/0.2725/0.00125 | 26/0.2555/0.00125 | 27/0.2360/0.00125 | 28/0.2190/0.00125 | 29/0.1873/0.00125 | 30/0.1655/0.00125 | 31/0.1484/0.000625 | 32/0.1387/0.000625 | 33/0.1265/0.000625 | 34/0.1095/0.000625 | 35/0.1046/0.000625 | 36/0.1022/0.000625 | 37/0.0973/0.0003125 | 38/0.0973/0.0003125 | 39/0.0925/0.0003125 | 40/0.0925/0.0003125 | 41/0.0949/0.0003125 | 42/0.0973/0.0003125 | 43/0.1022/0.00015625 | 44/0.1119/0.00015625 | 45/0.1217/0.00015625 | 46/0.1436/0.00015625 | 47/0.1557/0.00015625 | 48/0.1703/0.00015625 | 49/0.1825/7.8125e-05 | 50/0.1849/7.8125e-05 | 51/0.2044/7.8125e-05 | 52/0.2117/7.8125e-05 | 53/0.2141/7.8125e-05 | 54/0.2214/7.8125e-05 | 55/0.2214/3.90625e-05 | 56/0.2311/3.90625e-05 | 57/0.2409/3.90625e-05 | 58/0.2409/3.90625e-05 | 59/0.2482/3.90625e-05 | 60/0.2555/3.90625e-05 | 61/0.2628/1.953125e-05 | 62/0.2676/1.953125e-05 | 63/0.2798/1.953125e-05 | 64/0.2798/1.953125e-05 | 65/0.2774/1.953125e-05 | 66/0.2774/1.953125e-05 | 67/0.2822/9.765625e-06 | 68/0.2822/9.765625e-06 | 69/0.2798/9.765625e-06 | 70/0.2798/9.765625e-06 | 71/0.2847/9.765625e-06 | 72/0.2871/9.765625e-06 | 73/0.2871/4.8828125e-06 | 74/0.2871/4.8828125e-06 | 75/0.2968/4.8828125e-06 | 76/0.2944/4.8828125e-06 | 77/0.2944/4.8828125e-06 | 78/0.2944/4.8828125e-06 | 79/0.2895/2.44140625e-06 | 80/0.2895/2.44140625e-06 | 81/0.2895/2.44140625e-06 | 82/0.2944/2.44140625e-06 | 83/0.2871/2.44140625e-06 | 84/0.2871/2.44140625e-06 | 85/0.2944/1.220703125e-06 | 86/0.2968/1.220703125e-06 | 87/0.2968/1.220703125e-06 | 88/0.2968/1.220703125e-06 | 89/0.2968/1.220703125e-06 | 90/0.2993/1.220703125e-06 | 91/0.3017/6.103515625e-07 | Accuracy: 0.3085\n",
      "Evaluating nci1 dataset using random method with a percentile of 60 against class members\n",
      "Epoch/val accuracy/lr: "
     ]
    },
    {
     "name": "stderr",
     "output_type": "stream",
     "text": [
      "/opt/conda/lib/python3.10/site-packages/torch_geometric/deprecation.py:26: UserWarning: 'data.DataLoader' is deprecated, use 'loader.DataLoader' instead\n",
      "  warnings.warn(out)\n"
     ]
    },
    {
     "name": "stdout",
     "output_type": "stream",
     "text": [
      "1/0.0000/0.01 | 2/0.0000/0.01 | 3/0.0000/0.01 | 4/0.0000/0.01 | 5/0.2834/0.01 | 6/0.3866/0.01 | 7/0.1032/0.01 | 8/0.0425/0.005 | 9/0.0425/0.005 | 10/0.0364/0.005 | 11/0.0810/0.005 | 12/0.3016/0.005 | 13/0.3765/0.005 | 14/0.3441/0.0025 | 15/0.3381/0.0025 | 16/0.3482/0.0025 | 17/0.3563/0.0025 | 18/0.4049/0.0025 | 19/0.4656/0.0025 | 20/0.4676/0.00125 | 21/0.4717/0.00125 | 22/0.4717/0.00125 | 23/0.4717/0.00125 | 24/0.4656/0.00125 | 25/0.4656/0.00125 | 26/0.4636/0.000625 | 27/0.4575/0.000625 | 28/0.4474/0.000625 | 29/0.4352/0.000625 | 30/0.4332/0.000625 | 31/0.4312/0.000625 | 32/0.4271/0.0003125 | 33/0.4089/0.0003125 | 34/0.4089/0.0003125 | 35/0.3887/0.0003125 | 36/0.3806/0.0003125 | 37/0.3664/0.0003125 | 38/0.3623/0.00015625 | 39/0.3583/0.00015625 | 40/0.3522/0.00015625 | 41/0.3543/0.00015625 | 42/0.3502/0.00015625 | 43/0.3543/0.00015625 | 44/0.3543/7.8125e-05 | 45/0.3583/7.8125e-05 | 46/0.3603/7.8125e-05 | 47/0.3583/7.8125e-05 | 48/0.3522/7.8125e-05 | 49/0.3522/7.8125e-05 | 50/0.3543/3.90625e-05 | 51/0.3563/3.90625e-05 | 52/0.3563/3.90625e-05 | 53/0.3583/3.90625e-05 | 54/0.3563/3.90625e-05 | 55/0.3563/3.90625e-05 | 56/0.3583/1.953125e-05 | 57/0.3563/1.953125e-05 | 58/0.3563/1.953125e-05 | 59/0.3563/1.953125e-05 | 60/0.3522/1.953125e-05 | 61/0.3543/1.953125e-05 | 62/0.3522/9.765625e-06 | 63/0.3502/9.765625e-06 | 64/0.3502/9.765625e-06 | 65/0.3482/9.765625e-06 | 66/0.3421/9.765625e-06 | 67/0.3381/9.765625e-06 | 68/0.3421/4.8828125e-06 | 69/0.3381/4.8828125e-06 | 70/0.3381/4.8828125e-06 | 71/0.3360/4.8828125e-06 | 72/0.3360/4.8828125e-06 | 73/0.3381/4.8828125e-06 | 74/0.3401/2.44140625e-06 | 75/0.3279/2.44140625e-06 | 76/0.3279/2.44140625e-06 | 77/0.3279/2.44140625e-06 | 78/0.3279/2.44140625e-06 | 79/0.3239/2.44140625e-06 | 80/0.3198/1.220703125e-06 | 81/0.3219/1.220703125e-06 | 82/0.3259/1.220703125e-06 | 83/0.3259/1.220703125e-06 | 84/0.3279/1.220703125e-06 | 85/0.3279/1.220703125e-06 | 86/0.3259/6.103515625e-07 | Accuracy: 0.3376\n",
      "Evaluating nci1 dataset using random method with a percentile of 70 against class members\n",
      "Epoch/val accuracy/lr: "
     ]
    },
    {
     "name": "stderr",
     "output_type": "stream",
     "text": [
      "/opt/conda/lib/python3.10/site-packages/torch_geometric/deprecation.py:26: UserWarning: 'data.DataLoader' is deprecated, use 'loader.DataLoader' instead\n",
      "  warnings.warn(out)\n"
     ]
    },
    {
     "name": "stdout",
     "output_type": "stream",
     "text": [
      "1/0.5156/0.01 | 2/0.5156/0.01 | 3/0.5156/0.01 | 4/0.3160/0.01 | 5/0.0000/0.01 | 6/0.4722/0.01 | 7/0.5156/0.01 | 8/0.5156/0.01 | 9/0.5156/0.01 | 10/0.5156/0.01 | 11/0.5156/0.01 | 12/0.5156/0.005 | 13/0.5156/0.005 | 14/0.5139/0.005 | 15/0.5139/0.005 | 16/0.5122/0.005 | 17/0.5087/0.005 | 18/0.5069/0.0025 | 19/0.5052/0.0025 | 20/0.4878/0.0025 | 21/0.4583/0.0025 | 22/0.3802/0.0025 | 23/0.3264/0.0025 | 24/0.2865/0.00125 | 25/0.2552/0.00125 | 26/0.2656/0.00125 | 27/0.2552/0.00125 | 28/0.2517/0.00125 | 29/0.2569/0.00125 | 30/0.2535/0.000625 | 31/0.2361/0.000625 | 32/0.2326/0.000625 | 33/0.2066/0.000625 | 34/0.2031/0.000625 | 35/0.1910/0.000625 | 36/0.1979/0.0003125 | 37/0.2101/0.0003125 | 38/0.2205/0.0003125 | 39/0.2378/0.0003125 | 40/0.2587/0.0003125 | 41/0.2639/0.0003125 | 42/0.2691/0.00015625 | 43/0.2778/0.00015625 | 44/0.2830/0.00015625 | 45/0.2882/0.00015625 | 46/0.2934/0.00015625 | 47/0.3021/0.00015625 | 48/0.3056/7.8125e-05 | 49/0.3073/7.8125e-05 | 50/0.3073/7.8125e-05 | 51/0.3056/7.8125e-05 | 52/0.3090/7.8125e-05 | 53/0.3125/7.8125e-05 | 54/0.3212/3.90625e-05 | 55/0.3212/3.90625e-05 | 56/0.3229/3.90625e-05 | 57/0.3281/3.90625e-05 | 58/0.3351/3.90625e-05 | 59/0.3368/3.90625e-05 | 60/0.3368/1.953125e-05 | 61/0.3438/1.953125e-05 | 62/0.3455/1.953125e-05 | 63/0.3455/1.953125e-05 | 64/0.3490/1.953125e-05 | 65/0.3455/1.953125e-05 | 66/0.3455/9.765625e-06 | 67/0.3438/9.765625e-06 | 68/0.3472/9.765625e-06 | 69/0.3472/9.765625e-06 | 70/0.3490/9.765625e-06 | 71/0.3524/9.765625e-06 | 72/0.3524/4.8828125e-06 | 73/0.3524/4.8828125e-06 | 74/0.3524/4.8828125e-06 | 75/0.3524/4.8828125e-06 | 76/0.3524/4.8828125e-06 | 77/0.3507/4.8828125e-06 | 78/0.3507/2.44140625e-06 | 79/0.3490/2.44140625e-06 | 80/0.3507/2.44140625e-06 | 81/0.3507/2.44140625e-06 | 82/0.3507/2.44140625e-06 | 83/0.3507/2.44140625e-06 | 84/0.3507/1.220703125e-06 | 85/0.3507/1.220703125e-06 | 86/0.3507/1.220703125e-06 | 87/0.3507/1.220703125e-06 | 88/0.3507/1.220703125e-06 | 89/0.3524/1.220703125e-06 | 90/0.3542/6.103515625e-07 | Accuracy: 0.3252\n",
      "Evaluating nci1 dataset using random method with a percentile of 80 against class members\n",
      "Epoch/val accuracy/lr: "
     ]
    },
    {
     "name": "stderr",
     "output_type": "stream",
     "text": [
      "/opt/conda/lib/python3.10/site-packages/torch_geometric/deprecation.py:26: UserWarning: 'data.DataLoader' is deprecated, use 'loader.DataLoader' instead\n",
      "  warnings.warn(out)\n"
     ]
    },
    {
     "name": "stdout",
     "output_type": "stream",
     "text": [
      "1/0.0000/0.01 | 2/0.0000/0.01 | 3/0.5046/0.01 | 4/0.5046/0.01 | 5/0.0000/0.01 | 6/0.0000/0.01 | 7/0.0091/0.01 | 8/0.3480/0.005 | 9/0.4970/0.005 | 10/0.4954/0.005 | 11/0.4894/0.005 | 12/0.4924/0.005 | 13/0.4954/0.005 | 14/0.4909/0.0025 | 15/0.4802/0.0025 | 16/0.4514/0.0025 | 17/0.4088/0.0025 | 18/0.3511/0.0025 | 19/0.2979/0.0025 | 20/0.2614/0.00125 | 21/0.2432/0.00125 | 22/0.2295/0.00125 | 23/0.2219/0.00125 | 24/0.2219/0.00125 | 25/0.2143/0.00125 | 26/0.2143/0.000625 | 27/0.1976/0.000625 | 28/0.1960/0.000625 | 29/0.1824/0.000625 | 30/0.1748/0.000625 | 31/0.1626/0.000625 | 32/0.1474/0.0003125 | 33/0.1444/0.0003125 | 34/0.1398/0.0003125 | 35/0.1353/0.0003125 | 36/0.1322/0.0003125 | 37/0.1337/0.0003125 | 38/0.1368/0.00015625 | 39/0.1413/0.00015625 | 40/0.1474/0.00015625 | 41/0.1626/0.00015625 | 42/0.1702/0.00015625 | 43/0.1763/0.00015625 | 44/0.1945/7.8125e-05 | 45/0.2006/7.8125e-05 | 46/0.2021/7.8125e-05 | 47/0.2052/7.8125e-05 | 48/0.2082/7.8125e-05 | 49/0.2097/7.8125e-05 | 50/0.2173/3.90625e-05 | 51/0.2234/3.90625e-05 | 52/0.2356/3.90625e-05 | 53/0.2401/3.90625e-05 | 54/0.2401/3.90625e-05 | 55/0.2416/3.90625e-05 | 56/0.2477/1.953125e-05 | 57/0.2523/1.953125e-05 | 58/0.2523/1.953125e-05 | 59/0.2553/1.953125e-05 | 60/0.2584/1.953125e-05 | 61/0.2599/1.953125e-05 | 62/0.2614/9.765625e-06 | 63/0.2614/9.765625e-06 | 64/0.2644/9.765625e-06 | 65/0.2644/9.765625e-06 | 66/0.2644/9.765625e-06 | 67/0.2644/9.765625e-06 | 68/0.2644/4.8828125e-06 | 69/0.2675/4.8828125e-06 | 70/0.2675/4.8828125e-06 | 71/0.2705/4.8828125e-06 | 72/0.2720/4.8828125e-06 | 73/0.2766/4.8828125e-06 | 74/0.2827/2.44140625e-06 | 75/0.2857/2.44140625e-06 | 76/0.2888/2.44140625e-06 | 77/0.2888/2.44140625e-06 | 78/0.2888/2.44140625e-06 | 79/0.2903/2.44140625e-06 | 80/0.2872/1.220703125e-06 | 81/0.2903/1.220703125e-06 | 82/0.2903/1.220703125e-06 | 83/0.2903/1.220703125e-06 | 84/0.2918/1.220703125e-06 | 85/0.2948/1.220703125e-06 | 86/0.2948/6.103515625e-07 | Accuracy: 0.2749\n",
      "Evaluating nci1 dataset using random method with a percentile of 90 against class members\n",
      "Epoch/val accuracy/lr: "
     ]
    },
    {
     "name": "stderr",
     "output_type": "stream",
     "text": [
      "/opt/conda/lib/python3.10/site-packages/torch_geometric/deprecation.py:26: UserWarning: 'data.DataLoader' is deprecated, use 'loader.DataLoader' instead\n",
      "  warnings.warn(out)\n"
     ]
    },
    {
     "name": "stdout",
     "output_type": "stream",
     "text": [
      "1/0.0000/0.01 | 2/0.0041/0.01 | 3/0.4338/0.01 | 4/0.4757/0.01 | 5/0.4905/0.01 | 6/0.4514/0.01 | 7/0.0000/0.01 | 8/0.0000/0.005 | 9/0.0000/0.005 | 10/0.0000/0.005 | 11/0.0000/0.005 | 12/0.0000/0.005 | 13/0.0014/0.005 | 14/0.0000/0.0025 | 15/0.0000/0.0025 | 16/0.0000/0.0025 | 17/0.0000/0.0025 | 18/0.0000/0.0025 | 19/0.0000/0.0025 | 20/0.0000/0.00125 | 21/0.0000/0.00125 | 22/0.0014/0.00125 | 23/0.0041/0.00125 | 24/0.0108/0.00125 | 25/0.0216/0.00125 | 26/0.0257/0.000625 | 27/0.0270/0.000625 | 28/0.0284/0.000625 | 29/0.0243/0.000625 | 30/0.0243/0.000625 | 31/0.0216/0.000625 | 32/0.0230/0.0003125 | 33/0.0230/0.0003125 | 34/0.0230/0.0003125 | 35/0.0230/0.0003125 | 36/0.0257/0.0003125 | 37/0.0257/0.0003125 | 38/0.0297/0.00015625 | 39/0.0324/0.00015625 | 40/0.0324/0.00015625 | 41/0.0419/0.00015625 | 42/0.0446/0.00015625 | 43/0.0514/0.00015625 | 44/0.0568/7.8125e-05 | 45/0.0662/7.8125e-05 | 46/0.0797/7.8125e-05 | 47/0.0932/7.8125e-05 | 48/0.1027/7.8125e-05 | 49/0.1108/7.8125e-05 | 50/0.1257/3.90625e-05 | 51/0.1365/3.90625e-05 | 52/0.1527/3.90625e-05 | 53/0.1581/3.90625e-05 | 54/0.1676/3.90625e-05 | 55/0.1770/3.90625e-05 | 56/0.1824/1.953125e-05 | 57/0.1892/1.953125e-05 | 58/0.1959/1.953125e-05 | 59/0.2014/1.953125e-05 | 60/0.2122/1.953125e-05 | 61/0.2162/1.953125e-05 | 62/0.2216/9.765625e-06 | 63/0.2297/9.765625e-06 | 64/0.2365/9.765625e-06 | 65/0.2432/9.765625e-06 | 66/0.2514/9.765625e-06 | 67/0.2527/9.765625e-06 | 68/0.2595/4.8828125e-06 | 69/0.2622/4.8828125e-06 | 70/0.2649/4.8828125e-06 | 71/0.2676/4.8828125e-06 | 72/0.2743/4.8828125e-06 | 73/0.2743/4.8828125e-06 | 74/0.2770/2.44140625e-06 | 75/0.2811/2.44140625e-06 | 76/0.2838/2.44140625e-06 | 77/0.2851/2.44140625e-06 | 78/0.2851/2.44140625e-06 | 79/0.2905/2.44140625e-06 | 80/0.2919/1.220703125e-06 | 81/0.2946/1.220703125e-06 | 82/0.2973/1.220703125e-06 | 83/0.2986/1.220703125e-06 | 84/0.2986/1.220703125e-06 | 85/0.3000/1.220703125e-06 | 86/0.2986/6.103515625e-07 | Accuracy: 0.3674\n",
      "Evaluating nci1 dataset using graph_order method with a percentile of 40 against class members\n",
      "Epoch/val accuracy/lr: "
     ]
    },
    {
     "name": "stderr",
     "output_type": "stream",
     "text": [
      "/opt/conda/lib/python3.10/site-packages/torch_geometric/deprecation.py:26: UserWarning: 'data.DataLoader' is deprecated, use 'loader.DataLoader' instead\n",
      "  warnings.warn(out)\n"
     ]
    },
    {
     "name": "stdout",
     "output_type": "stream",
     "text": [
      "1/0.5380/0.01 | 2/0.4772/0.01 | 3/0.5380/0.01 | 4/0.5380/0.01 | 5/0.5380/0.01 | 6/0.5380/0.01 | 7/0.5380/0.01 | 8/0.5380/0.01 | 9/0.5258/0.005 | 10/0.3161/0.005 | 11/0.0729/0.005 | 12/0.0456/0.005 | 13/0.0821/0.005 | 14/0.1094/0.005 | 15/0.1581/0.005 | 16/0.2827/0.005 | 17/0.2827/0.005 | 18/0.2948/0.005 | 19/0.3131/0.0025 | 20/0.3465/0.0025 | 21/0.3647/0.0025 | 22/0.3708/0.0025 | 23/0.3252/0.0025 | 24/0.2766/0.0025 | 25/0.2553/0.00125 | 26/0.2188/0.00125 | 27/0.1884/0.00125 | 28/0.1581/0.00125 | 29/0.1368/0.00125 | 30/0.1185/0.00125 | 31/0.1094/0.000625 | 32/0.0881/0.000625 | 33/0.0881/0.000625 | 34/0.0881/0.000625 | 35/0.0760/0.000625 | 36/0.0821/0.000625 | 37/0.0912/0.0003125 | 38/0.0973/0.0003125 | 39/0.1003/0.0003125 | 40/0.1094/0.0003125 | 41/0.1125/0.0003125 | 42/0.1185/0.0003125 | 43/0.1307/0.00015625 | 44/0.1611/0.00015625 | 45/0.1945/0.00015625 | 46/0.2128/0.00015625 | 47/0.2371/0.00015625 | 48/0.2553/0.00015625 | 49/0.2644/7.8125e-05 | 50/0.2736/7.8125e-05 | 51/0.2796/7.8125e-05 | 52/0.2948/7.8125e-05 | 53/0.3161/7.8125e-05 | 54/0.3191/7.8125e-05 | 55/0.3191/3.90625e-05 | 56/0.3191/3.90625e-05 | 57/0.3252/3.90625e-05 | 58/0.3283/3.90625e-05 | 59/0.3313/3.90625e-05 | 60/0.3313/3.90625e-05 | 61/0.3313/1.953125e-05 | 62/0.3313/1.953125e-05 | 63/0.3283/1.953125e-05 | 64/0.3222/1.953125e-05 | 65/0.3222/1.953125e-05 | 66/0.3252/1.953125e-05 | 67/0.3283/9.765625e-06 | 68/0.3313/9.765625e-06 | 69/0.3374/9.765625e-06 | 70/0.3343/9.765625e-06 | 71/0.3374/9.765625e-06 | 72/0.3343/9.765625e-06 | 73/0.3313/4.8828125e-06 | 74/0.3343/4.8828125e-06 | 75/0.3374/4.8828125e-06 | 76/0.3343/4.8828125e-06 | 77/0.3374/4.8828125e-06 | 78/0.3343/4.8828125e-06 | 79/0.3343/2.44140625e-06 | 80/0.3343/2.44140625e-06 | 81/0.3343/2.44140625e-06 | 82/0.3343/2.44140625e-06 | 83/0.3374/2.44140625e-06 | 84/0.3374/2.44140625e-06 | 85/0.3374/1.220703125e-06 | 86/0.3374/1.220703125e-06 | 87/0.3374/1.220703125e-06 | 88/0.3374/1.220703125e-06 | 89/0.3374/1.220703125e-06 | 90/0.3374/1.220703125e-06 | 91/0.3374/6.103515625e-07 | Accuracy: 0.2629\n",
      "Evaluating nci1 dataset using graph_order method with a percentile of 50 against class members\n",
      "Epoch/val accuracy/lr: "
     ]
    },
    {
     "name": "stderr",
     "output_type": "stream",
     "text": [
      "/opt/conda/lib/python3.10/site-packages/torch_geometric/deprecation.py:26: UserWarning: 'data.DataLoader' is deprecated, use 'loader.DataLoader' instead\n",
      "  warnings.warn(out)\n"
     ]
    },
    {
     "name": "stdout",
     "output_type": "stream",
     "text": [
      "1/0.4879/0.01 | 2/0.4879/0.01 | 3/0.4879/0.01 | 4/0.4854/0.01 | 5/0.4854/0.01 | 6/0.4879/0.01 | 7/0.4879/0.01 | 8/0.4879/0.01 | 9/0.4879/0.01 | 10/0.4879/0.01 | 11/0.4879/0.005 | 12/0.4782/0.005 | 13/0.4660/0.005 | 14/0.3350/0.005 | 15/0.2209/0.005 | 16/0.1068/0.005 | 17/0.0752/0.005 | 18/0.0777/0.005 | 19/0.1141/0.005 | 20/0.1165/0.005 | 21/0.1044/0.005 | 22/0.0655/0.005 | 23/0.0340/0.005 | 24/0.0194/0.005 | 25/0.0024/0.005 | 26/0.0024/0.005 | 27/0.0000/0.005 | 28/0.0024/0.005 | 29/0.0024/0.005 | 30/0.0049/0.005 | 31/0.0218/0.005 | 32/0.0316/0.005 | 33/0.0437/0.005 | 34/0.0485/0.0025 | 35/0.0485/0.0025 | 36/0.0485/0.0025 | 37/0.0631/0.0025 | 38/0.0947/0.0025 | 39/0.1359/0.0025 | 40/0.1723/0.00125 | 41/0.1966/0.00125 | 42/0.2015/0.00125 | 43/0.2063/0.00125 | 44/0.2136/0.00125 | 45/0.2136/0.00125 | 46/0.2306/0.000625 | 47/0.2403/0.000625 | 48/0.2476/0.000625 | 49/0.2573/0.000625 | 50/0.2694/0.000625 | 51/0.2791/0.000625 | 52/0.2937/0.0003125 | 53/0.3010/0.0003125 | 54/0.3083/0.0003125 | 55/0.3083/0.0003125 | 56/0.3155/0.0003125 | 57/0.3204/0.0003125 | 58/0.3228/0.00015625 | 59/0.3277/0.00015625 | 60/0.3277/0.00015625 | 61/0.3301/0.00015625 | 62/0.3301/0.00015625 | 63/0.3325/0.00015625 | 64/0.3301/7.8125e-05 | 65/0.3277/7.8125e-05 | 66/0.3325/7.8125e-05 | 67/0.3422/7.8125e-05 | 68/0.3471/7.8125e-05 | 69/0.3447/7.8125e-05 | 70/0.3447/3.90625e-05 | 71/0.3471/3.90625e-05 | 72/0.3471/3.90625e-05 | 73/0.3447/3.90625e-05 | 74/0.3471/3.90625e-05 | 75/0.3495/3.90625e-05 | 76/0.3519/1.953125e-05 | 77/0.3519/1.953125e-05 | 78/0.3519/1.953125e-05 | 79/0.3519/1.953125e-05 | 80/0.3495/1.953125e-05 | 81/0.3422/1.953125e-05 | 82/0.3447/9.765625e-06 | 83/0.3447/9.765625e-06 | 84/0.3447/9.765625e-06 | 85/0.3422/9.765625e-06 | 86/0.3447/9.765625e-06 | 87/0.3447/9.765625e-06 | 88/0.3471/4.8828125e-06 | 89/0.3471/4.8828125e-06 | 90/0.3471/4.8828125e-06 | 91/0.3519/4.8828125e-06 | 92/0.3519/4.8828125e-06 | 93/0.3544/4.8828125e-06 | 94/0.3544/2.44140625e-06 | 95/0.3544/2.44140625e-06 | 96/0.3519/2.44140625e-06 | 97/0.3544/2.44140625e-06 | 98/0.3519/2.44140625e-06 | 99/0.3495/2.44140625e-06 | 100/0.3471/1.220703125e-06 | 101/0.3471/1.220703125e-06 | 102/0.3495/1.220703125e-06 | 103/0.3519/1.220703125e-06 | 104/0.3471/1.220703125e-06 | 105/0.3471/1.220703125e-06 | 106/0.3495/6.103515625e-07 | Accuracy: 0.2994\n",
      "Evaluating nci1 dataset using graph_order method with a percentile of 60 against class members\n",
      "Epoch/val accuracy/lr: "
     ]
    },
    {
     "name": "stderr",
     "output_type": "stream",
     "text": [
      "/opt/conda/lib/python3.10/site-packages/torch_geometric/deprecation.py:26: UserWarning: 'data.DataLoader' is deprecated, use 'loader.DataLoader' instead\n",
      "  warnings.warn(out)\n"
     ]
    },
    {
     "name": "stdout",
     "output_type": "stream",
     "text": [
      "1/0.1194/0.01 | 2/0.5061/0.01 | 3/0.5081/0.01 | 4/0.4939/0.01 | 5/0.0020/0.01 | 6/0.0000/0.01 | 7/0.0000/0.01 | 8/0.0000/0.01 | 9/0.4109/0.01 | 10/0.5061/0.01 | 11/0.4757/0.01 | 12/0.3644/0.01 | 13/0.3138/0.005 | 14/0.2854/0.005 | 15/0.3441/0.005 | 16/0.3846/0.005 | 17/0.4049/0.005 | 18/0.4170/0.005 | 19/0.4008/0.0025 | 20/0.3947/0.0025 | 21/0.3806/0.0025 | 22/0.3725/0.0025 | 23/0.3117/0.0025 | 24/0.2389/0.0025 | 25/0.1984/0.00125 | 26/0.1518/0.00125 | 27/0.1235/0.00125 | 28/0.0789/0.00125 | 29/0.0587/0.00125 | 30/0.0425/0.00125 | 31/0.0364/0.000625 | 32/0.0364/0.000625 | 33/0.0344/0.000625 | 34/0.0324/0.000625 | 35/0.0304/0.000625 | 36/0.0243/0.000625 | 37/0.0223/0.0003125 | 38/0.0182/0.0003125 | 39/0.0223/0.0003125 | 40/0.0243/0.0003125 | 41/0.0344/0.0003125 | 42/0.0385/0.0003125 | 43/0.0567/0.00015625 | 44/0.0709/0.00015625 | 45/0.0870/0.00015625 | 46/0.1032/0.00015625 | 47/0.1215/0.00015625 | 48/0.1356/0.00015625 | 49/0.1579/7.8125e-05 | 50/0.1761/7.8125e-05 | 51/0.1964/7.8125e-05 | 52/0.2227/7.8125e-05 | 53/0.2409/7.8125e-05 | 54/0.2470/7.8125e-05 | 55/0.2672/3.90625e-05 | 56/0.2753/3.90625e-05 | 57/0.2895/3.90625e-05 | 58/0.3016/3.90625e-05 | 59/0.3036/3.90625e-05 | 60/0.3077/3.90625e-05 | 61/0.3138/1.953125e-05 | 62/0.3219/1.953125e-05 | 63/0.3279/1.953125e-05 | 64/0.3320/1.953125e-05 | 65/0.3360/1.953125e-05 | 66/0.3381/1.953125e-05 | 67/0.3421/9.765625e-06 | 68/0.3441/9.765625e-06 | 69/0.3462/9.765625e-06 | 70/0.3482/9.765625e-06 | 71/0.3522/9.765625e-06 | 72/0.3563/9.765625e-06 | 73/0.3543/4.8828125e-06 | 74/0.3583/4.8828125e-06 | 75/0.3583/4.8828125e-06 | 76/0.3583/4.8828125e-06 | 77/0.3583/4.8828125e-06 | 78/0.3563/4.8828125e-06 | 79/0.3583/2.44140625e-06 | 80/0.3583/2.44140625e-06 | 81/0.3583/2.44140625e-06 | 82/0.3603/2.44140625e-06 | 83/0.3603/2.44140625e-06 | 84/0.3603/2.44140625e-06 | 85/0.3603/1.220703125e-06 | 86/0.3583/1.220703125e-06 | 87/0.3583/1.220703125e-06 | 88/0.3543/1.220703125e-06 | 89/0.3543/1.220703125e-06 | 90/0.3543/1.220703125e-06 | 91/0.3543/6.103515625e-07 | Accuracy: 0.3335\n",
      "Evaluating nci1 dataset using graph_order method with a percentile of 70 against class members\n",
      "Epoch/val accuracy/lr: "
     ]
    },
    {
     "name": "stderr",
     "output_type": "stream",
     "text": [
      "/opt/conda/lib/python3.10/site-packages/torch_geometric/deprecation.py:26: UserWarning: 'data.DataLoader' is deprecated, use 'loader.DataLoader' instead\n",
      "  warnings.warn(out)\n"
     ]
    },
    {
     "name": "stdout",
     "output_type": "stream",
     "text": [
      "1/0.0000/0.01 | 2/0.2465/0.01 | 3/0.4010/0.01 | 4/0.0000/0.01 | 5/0.0000/0.01 | 6/0.0000/0.01 | 7/0.0000/0.01 | 8/0.0000/0.005 | 9/0.0000/0.005 | 10/0.0000/0.005 | 11/0.0312/0.005 | 12/0.3976/0.005 | 13/0.4531/0.005 | 14/0.4479/0.0025 | 15/0.4427/0.0025 | 16/0.4566/0.0025 | 17/0.4705/0.0025 | 18/0.4757/0.0025 | 19/0.4774/0.0025 | 20/0.4722/0.00125 | 21/0.4583/0.00125 | 22/0.4375/0.00125 | 23/0.4115/0.00125 | 24/0.3611/0.00125 | 25/0.3368/0.00125 | 26/0.3160/0.000625 | 27/0.2760/0.000625 | 28/0.2569/0.000625 | 29/0.2465/0.000625 | 30/0.2309/0.000625 | 31/0.2222/0.000625 | 32/0.2066/0.0003125 | 33/0.1979/0.0003125 | 34/0.1875/0.0003125 | 35/0.1875/0.0003125 | 36/0.1875/0.0003125 | 37/0.1858/0.0003125 | 38/0.1892/0.00015625 | 39/0.1927/0.00015625 | 40/0.1910/0.00015625 | 41/0.1910/0.00015625 | 42/0.1927/0.00015625 | 43/0.1927/0.00015625 | 44/0.1944/7.8125e-05 | 45/0.1944/7.8125e-05 | 46/0.1979/7.8125e-05 | 47/0.2049/7.8125e-05 | 48/0.2170/7.8125e-05 | 49/0.2257/7.8125e-05 | 50/0.2292/3.90625e-05 | 51/0.2431/3.90625e-05 | 52/0.2500/3.90625e-05 | 53/0.2639/3.90625e-05 | 54/0.2743/3.90625e-05 | 55/0.2812/3.90625e-05 | 56/0.2951/1.953125e-05 | 57/0.3021/1.953125e-05 | 58/0.3108/1.953125e-05 | 59/0.3108/1.953125e-05 | 60/0.3125/1.953125e-05 | 61/0.3177/1.953125e-05 | 62/0.3229/9.765625e-06 | 63/0.3351/9.765625e-06 | 64/0.3351/9.765625e-06 | 65/0.3351/9.765625e-06 | 66/0.3368/9.765625e-06 | 67/0.3403/9.765625e-06 | 68/0.3403/4.8828125e-06 | 69/0.3368/4.8828125e-06 | 70/0.3385/4.8828125e-06 | 71/0.3403/4.8828125e-06 | 72/0.3420/4.8828125e-06 | 73/0.3385/4.8828125e-06 | 74/0.3455/2.44140625e-06 | 75/0.3455/2.44140625e-06 | 76/0.3472/2.44140625e-06 | 77/0.3507/2.44140625e-06 | 78/0.3524/2.44140625e-06 | 79/0.3524/2.44140625e-06 | 80/0.3524/1.220703125e-06 | 81/0.3507/1.220703125e-06 | 82/0.3542/1.220703125e-06 | 83/0.3559/1.220703125e-06 | 84/0.3559/1.220703125e-06 | 85/0.3559/1.220703125e-06 | 86/0.3559/6.103515625e-07 | Accuracy: 0.3247\n",
      "Evaluating nci1 dataset using graph_order method with a percentile of 80 against class members\n",
      "Epoch/val accuracy/lr: "
     ]
    },
    {
     "name": "stderr",
     "output_type": "stream",
     "text": [
      "/opt/conda/lib/python3.10/site-packages/torch_geometric/deprecation.py:26: UserWarning: 'data.DataLoader' is deprecated, use 'loader.DataLoader' instead\n",
      "  warnings.warn(out)\n"
     ]
    },
    {
     "name": "stdout",
     "output_type": "stream",
     "text": [
      "1/0.0000/0.01 | 2/0.0000/0.01 | 3/0.0061/0.01 | 4/0.5167/0.01 | 5/0.4468/0.01 | 6/0.4757/0.01 | 7/0.5213/0.01 | 8/0.4696/0.005 | 9/0.2751/0.005 | 10/0.0395/0.005 | 11/0.0152/0.005 | 12/0.0106/0.005 | 13/0.0167/0.005 | 14/0.0866/0.0025 | 15/0.2553/0.0025 | 16/0.4073/0.0025 | 17/0.4574/0.0025 | 18/0.4635/0.0025 | 19/0.4757/0.0025 | 20/0.4726/0.00125 | 21/0.4742/0.00125 | 22/0.4726/0.00125 | 23/0.4514/0.00125 | 24/0.4225/0.00125 | 25/0.3480/0.00125 | 26/0.2644/0.000625 | 27/0.2143/0.000625 | 28/0.1550/0.000625 | 29/0.1185/0.000625 | 30/0.0729/0.000625 | 31/0.0502/0.000625 | 32/0.0426/0.0003125 | 33/0.0350/0.0003125 | 34/0.0334/0.0003125 | 35/0.0258/0.0003125 | 36/0.0243/0.0003125 | 37/0.0182/0.0003125 | 38/0.0182/0.00015625 | 39/0.0182/0.00015625 | 40/0.0182/0.00015625 | 41/0.0213/0.00015625 | 42/0.0228/0.00015625 | 43/0.0243/0.00015625 | 44/0.0243/7.8125e-05 | 45/0.0289/7.8125e-05 | 46/0.0350/7.8125e-05 | 47/0.0395/7.8125e-05 | 48/0.0441/7.8125e-05 | 49/0.0517/7.8125e-05 | 50/0.0593/3.90625e-05 | 51/0.0653/3.90625e-05 | 52/0.0699/3.90625e-05 | 53/0.0790/3.90625e-05 | 54/0.0851/3.90625e-05 | 55/0.1109/3.90625e-05 | 56/0.1201/1.953125e-05 | 57/0.1307/1.953125e-05 | 58/0.1429/1.953125e-05 | 59/0.1748/1.953125e-05 | 60/0.1915/1.953125e-05 | 61/0.2036/1.953125e-05 | 62/0.2249/9.765625e-06 | 63/0.2371/9.765625e-06 | 64/0.2447/9.765625e-06 | 65/0.2508/9.765625e-06 | 66/0.2599/9.765625e-06 | 67/0.2736/9.765625e-06 | 68/0.2766/4.8828125e-06 | 69/0.2827/4.8828125e-06 | 70/0.2872/4.8828125e-06 | 71/0.2888/4.8828125e-06 | 72/0.2918/4.8828125e-06 | 73/0.2948/4.8828125e-06 | 74/0.3040/2.44140625e-06 | 75/0.3040/2.44140625e-06 | 76/0.3024/2.44140625e-06 | 77/0.3055/2.44140625e-06 | 78/0.3085/2.44140625e-06 | 79/0.3146/2.44140625e-06 | 80/0.3146/1.220703125e-06 | 81/0.3191/1.220703125e-06 | 82/0.3191/1.220703125e-06 | 83/0.3222/1.220703125e-06 | 84/0.3222/1.220703125e-06 | 85/0.3237/1.220703125e-06 | 86/0.3283/6.103515625e-07 | Accuracy: 0.2948\n",
      "Evaluating nci1 dataset using graph_order method with a percentile of 90 against class members\n",
      "Epoch/val accuracy/lr: "
     ]
    },
    {
     "name": "stderr",
     "output_type": "stream",
     "text": [
      "/opt/conda/lib/python3.10/site-packages/torch_geometric/deprecation.py:26: UserWarning: 'data.DataLoader' is deprecated, use 'loader.DataLoader' instead\n",
      "  warnings.warn(out)\n"
     ]
    },
    {
     "name": "stdout",
     "output_type": "stream",
     "text": [
      "1/0.5135/0.01 | 2/0.5135/0.01 | 3/0.0000/0.01 | 4/0.0500/0.01 | 5/0.3568/0.01 | 6/0.0095/0.01 | 7/0.0000/0.01 | 8/0.3189/0.01 | 9/0.5054/0.01 | 10/0.5108/0.005 | 11/0.4716/0.005 | 12/0.3257/0.005 | 13/0.3324/0.005 | 14/0.3351/0.005 | 15/0.3000/0.005 | 16/0.2838/0.0025 | 17/0.2324/0.0025 | 18/0.1703/0.0025 | 19/0.1297/0.0025 | 20/0.1149/0.0025 | 21/0.1095/0.0025 | 22/0.1270/0.00125 | 23/0.1527/0.00125 | 24/0.2081/0.00125 | 25/0.2473/0.00125 | 26/0.2784/0.00125 | 27/0.2824/0.00125 | 28/0.2838/0.000625 | 29/0.2932/0.000625 | 30/0.2959/0.000625 | 31/0.2986/0.000625 | 32/0.2946/0.000625 | 33/0.2919/0.000625 | 34/0.2919/0.0003125 | 35/0.2838/0.0003125 | 36/0.2797/0.0003125 | 37/0.2703/0.0003125 | 38/0.2703/0.0003125 | 39/0.2649/0.0003125 | 40/0.2581/0.00015625 | 41/0.2459/0.00015625 | 42/0.2432/0.00015625 | 43/0.2297/0.00015625 | 44/0.2257/0.00015625 | 45/0.2203/0.00015625 | 46/0.2135/7.8125e-05 | 47/0.2095/7.8125e-05 | 48/0.2054/7.8125e-05 | 49/0.2014/7.8125e-05 | 50/0.1905/7.8125e-05 | 51/0.1986/7.8125e-05 | 52/0.2027/3.90625e-05 | 53/0.2095/3.90625e-05 | 54/0.2162/3.90625e-05 | 55/0.2189/3.90625e-05 | 56/0.2243/3.90625e-05 | 57/0.2257/3.90625e-05 | 58/0.2324/1.953125e-05 | 59/0.2405/1.953125e-05 | 60/0.2500/1.953125e-05 | 61/0.2514/1.953125e-05 | 62/0.2581/1.953125e-05 | 63/0.2622/1.953125e-05 | 64/0.2676/9.765625e-06 | 65/0.2730/9.765625e-06 | 66/0.2743/9.765625e-06 | 67/0.2838/9.765625e-06 | 68/0.2865/9.765625e-06 | 69/0.2946/9.765625e-06 | 70/0.3041/4.8828125e-06 | 71/0.3041/4.8828125e-06 | 72/0.3081/4.8828125e-06 | 73/0.3041/4.8828125e-06 | 74/0.3095/4.8828125e-06 | 75/0.3081/4.8828125e-06 | 76/0.3122/2.44140625e-06 | 77/0.3162/2.44140625e-06 | 78/0.3149/2.44140625e-06 | 79/0.3149/2.44140625e-06 | 80/0.3162/2.44140625e-06 | 81/0.3162/2.44140625e-06 | 82/0.3162/1.220703125e-06 | 83/0.3162/1.220703125e-06 | 84/0.3176/1.220703125e-06 | 85/0.3176/1.220703125e-06 | 86/0.3189/1.220703125e-06 | 87/0.3216/1.220703125e-06 | 88/0.3243/6.103515625e-07 | Accuracy: 0.3561\n",
      "Evaluating nci1 dataset using cos_sim method with a percentile of 40 against class members\n",
      "Epoch/val accuracy/lr: "
     ]
    },
    {
     "name": "stderr",
     "output_type": "stream",
     "text": [
      "/opt/conda/lib/python3.10/site-packages/torch_geometric/deprecation.py:26: UserWarning: 'data.DataLoader' is deprecated, use 'loader.DataLoader' instead\n",
      "  warnings.warn(out)\n"
     ]
    },
    {
     "name": "stdout",
     "output_type": "stream",
     "text": [
      "1/0.0000/0.01 | 2/0.0000/0.01 | 3/0.1277/0.01 | 4/0.1033/0.01 | 5/0.0365/0.01 | 6/0.0456/0.01 | 7/0.1672/0.01 | 8/0.3495/0.005 | 9/0.4134/0.005 | 10/0.4286/0.005 | 11/0.4377/0.005 | 12/0.4468/0.005 | 13/0.4498/0.005 | 14/0.4498/0.0025 | 15/0.4498/0.0025 | 16/0.4498/0.0025 | 17/0.4498/0.0025 | 18/0.4498/0.0025 | 19/0.4498/0.0025 | 20/0.4498/0.00125 | 21/0.4498/0.00125 | 22/0.4468/0.00125 | 23/0.4438/0.00125 | 24/0.4407/0.00125 | 25/0.4407/0.00125 | 26/0.4407/0.000625 | 27/0.4407/0.000625 | 28/0.4347/0.000625 | 29/0.4286/0.000625 | 30/0.4255/0.000625 | 31/0.4195/0.000625 | 32/0.4103/0.0003125 | 33/0.4103/0.0003125 | 34/0.4043/0.0003125 | 35/0.3982/0.0003125 | 36/0.3982/0.0003125 | 37/0.3951/0.0003125 | 38/0.3921/0.00015625 | 39/0.3921/0.00015625 | 40/0.3830/0.00015625 | 41/0.3860/0.00015625 | 42/0.3830/0.00015625 | 43/0.3799/0.00015625 | 44/0.3769/7.8125e-05 | 45/0.3769/7.8125e-05 | 46/0.3769/7.8125e-05 | 47/0.3739/7.8125e-05 | 48/0.3739/7.8125e-05 | 49/0.3647/7.8125e-05 | 50/0.3587/3.90625e-05 | 51/0.3495/3.90625e-05 | 52/0.3465/3.90625e-05 | 53/0.3465/3.90625e-05 | 54/0.3465/3.90625e-05 | 55/0.3465/3.90625e-05 | 56/0.3465/1.953125e-05 | 57/0.3435/1.953125e-05 | 58/0.3404/1.953125e-05 | 59/0.3404/1.953125e-05 | 60/0.3374/1.953125e-05 | 61/0.3343/1.953125e-05 | 62/0.3313/9.765625e-06 | 63/0.3313/9.765625e-06 | 64/0.3313/9.765625e-06 | 65/0.3313/9.765625e-06 | 66/0.3283/9.765625e-06 | 67/0.3252/9.765625e-06 | 68/0.3252/4.8828125e-06 | 69/0.3252/4.8828125e-06 | 70/0.3252/4.8828125e-06 | 71/0.3252/4.8828125e-06 | 72/0.3191/4.8828125e-06 | 73/0.3191/4.8828125e-06 | 74/0.3222/2.44140625e-06 | 75/0.3191/2.44140625e-06 | 76/0.3222/2.44140625e-06 | 77/0.3222/2.44140625e-06 | 78/0.3191/2.44140625e-06 | 79/0.3222/2.44140625e-06 | 80/0.3191/1.220703125e-06 | 81/0.3100/1.220703125e-06 | 82/0.3100/1.220703125e-06 | 83/0.3100/1.220703125e-06 | 84/0.3100/1.220703125e-06 | 85/0.3131/1.220703125e-06 | 86/0.3131/6.103515625e-07 | Accuracy: 0.3513\n",
      "Evaluating nci1 dataset using cos_sim method with a percentile of 50 against class members\n",
      "Epoch/val accuracy/lr: "
     ]
    },
    {
     "name": "stderr",
     "output_type": "stream",
     "text": [
      "/opt/conda/lib/python3.10/site-packages/torch_geometric/deprecation.py:26: UserWarning: 'data.DataLoader' is deprecated, use 'loader.DataLoader' instead\n",
      "  warnings.warn(out)\n"
     ]
    },
    {
     "name": "stdout",
     "output_type": "stream",
     "text": [
      "1/0.0000/0.01 | 2/0.0000/0.01 | 3/0.0000/0.01 | 4/0.3544/0.01 | 5/0.5291/0.01 | 6/0.5291/0.01 | 7/0.5291/0.01 | 8/0.5291/0.005 | 9/0.5291/0.005 | 10/0.5291/0.005 | 11/0.5267/0.005 | 12/0.5097/0.005 | 13/0.4053/0.005 | 14/0.3665/0.0025 | 15/0.3592/0.0025 | 16/0.3738/0.0025 | 17/0.3811/0.0025 | 18/0.3762/0.0025 | 19/0.3568/0.0025 | 20/0.3350/0.00125 | 21/0.3131/0.00125 | 22/0.2888/0.00125 | 23/0.2743/0.00125 | 24/0.2500/0.00125 | 25/0.2233/0.00125 | 26/0.1966/0.000625 | 27/0.1626/0.000625 | 28/0.1481/0.000625 | 29/0.1238/0.000625 | 30/0.1092/0.000625 | 31/0.0777/0.000625 | 32/0.0850/0.0003125 | 33/0.0898/0.0003125 | 34/0.0971/0.0003125 | 35/0.0947/0.0003125 | 36/0.0995/0.0003125 | 37/0.1092/0.0003125 | 38/0.1214/0.00015625 | 39/0.1262/0.00015625 | 40/0.1311/0.00015625 | 41/0.1383/0.00015625 | 42/0.1408/0.00015625 | 43/0.1505/0.00015625 | 44/0.1578/7.8125e-05 | 45/0.1626/7.8125e-05 | 46/0.1748/7.8125e-05 | 47/0.1869/7.8125e-05 | 48/0.1917/7.8125e-05 | 49/0.2063/7.8125e-05 | 50/0.2184/3.90625e-05 | 51/0.2257/3.90625e-05 | 52/0.2451/3.90625e-05 | 53/0.2573/3.90625e-05 | 54/0.2646/3.90625e-05 | 55/0.2670/3.90625e-05 | 56/0.2694/1.953125e-05 | 57/0.2718/1.953125e-05 | 58/0.2864/1.953125e-05 | 59/0.2961/1.953125e-05 | 60/0.2985/1.953125e-05 | 61/0.2985/1.953125e-05 | 62/0.3058/9.765625e-06 | 63/0.3107/9.765625e-06 | 64/0.3131/9.765625e-06 | 65/0.3180/9.765625e-06 | 66/0.3180/9.765625e-06 | 67/0.3204/9.765625e-06 | 68/0.3252/4.8828125e-06 | 69/0.3277/4.8828125e-06 | 70/0.3204/4.8828125e-06 | 71/0.3277/4.8828125e-06 | 72/0.3277/4.8828125e-06 | 73/0.3301/4.8828125e-06 | 74/0.3301/2.44140625e-06 | 75/0.3131/2.44140625e-06 | 76/0.3058/2.44140625e-06 | 77/0.3131/2.44140625e-06 | 78/0.3155/2.44140625e-06 | 79/0.3083/2.44140625e-06 | 80/0.3131/1.220703125e-06 | 81/0.3131/1.220703125e-06 | 82/0.3155/1.220703125e-06 | 83/0.3107/1.220703125e-06 | 84/0.3131/1.220703125e-06 | 85/0.3083/1.220703125e-06 | 86/0.3131/6.103515625e-07 | Accuracy: 0.2736\n",
      "Evaluating nci1 dataset using cos_sim method with a percentile of 60 against class members\n",
      "Epoch/val accuracy/lr: "
     ]
    },
    {
     "name": "stderr",
     "output_type": "stream",
     "text": [
      "/opt/conda/lib/python3.10/site-packages/torch_geometric/deprecation.py:26: UserWarning: 'data.DataLoader' is deprecated, use 'loader.DataLoader' instead\n",
      "  warnings.warn(out)\n"
     ]
    },
    {
     "name": "stdout",
     "output_type": "stream",
     "text": [
      "1/0.4858/0.01 | 2/0.4858/0.01 | 3/0.4858/0.01 | 4/0.4858/0.01 | 5/0.4028/0.01 | 6/0.2186/0.01 | 7/0.4696/0.01 | 8/0.4838/0.01 | 9/0.4838/0.01 | 10/0.4838/0.01 | 11/0.4393/0.01 | 12/0.4838/0.01 | 13/0.4838/0.005 | 14/0.4838/0.005 | 15/0.4757/0.005 | 16/0.4737/0.005 | 17/0.4777/0.005 | 18/0.4757/0.005 | 19/0.4696/0.0025 | 20/0.4676/0.0025 | 21/0.4656/0.0025 | 22/0.4615/0.0025 | 23/0.4514/0.0025 | 24/0.4474/0.0025 | 25/0.4352/0.00125 | 26/0.4190/0.00125 | 27/0.4049/0.00125 | 28/0.3968/0.00125 | 29/0.3927/0.00125 | 30/0.3907/0.00125 | 31/0.3725/0.000625 | 32/0.3684/0.000625 | 33/0.3543/0.000625 | 34/0.3502/0.000625 | 35/0.3482/0.000625 | 36/0.3381/0.000625 | 37/0.3219/0.0003125 | 38/0.3138/0.0003125 | 39/0.3077/0.0003125 | 40/0.2996/0.0003125 | 41/0.2874/0.0003125 | 42/0.2753/0.0003125 | 43/0.2733/0.00015625 | 44/0.2632/0.00015625 | 45/0.2632/0.00015625 | 46/0.2652/0.00015625 | 47/0.2571/0.00015625 | 48/0.2490/0.00015625 | 49/0.2490/7.8125e-05 | 50/0.2510/7.8125e-05 | 51/0.2571/7.8125e-05 | 52/0.2591/7.8125e-05 | 53/0.2591/7.8125e-05 | 54/0.2591/7.8125e-05 | 55/0.2692/3.90625e-05 | 56/0.2652/3.90625e-05 | 57/0.2692/3.90625e-05 | 58/0.2733/3.90625e-05 | 59/0.2753/3.90625e-05 | 60/0.2753/3.90625e-05 | 61/0.2773/1.953125e-05 | 62/0.2794/1.953125e-05 | 63/0.2814/1.953125e-05 | 64/0.2834/1.953125e-05 | 65/0.2874/1.953125e-05 | 66/0.2915/1.953125e-05 | 67/0.2955/9.765625e-06 | 68/0.3016/9.765625e-06 | 69/0.3016/9.765625e-06 | 70/0.3117/9.765625e-06 | 71/0.3138/9.765625e-06 | 72/0.3158/9.765625e-06 | 73/0.3158/4.8828125e-06 | 74/0.3198/4.8828125e-06 | 75/0.3158/4.8828125e-06 | 76/0.3198/4.8828125e-06 | 77/0.3239/4.8828125e-06 | 78/0.3239/4.8828125e-06 | 79/0.3259/2.44140625e-06 | 80/0.3259/2.44140625e-06 | 81/0.3279/2.44140625e-06 | 82/0.3300/2.44140625e-06 | 83/0.3300/2.44140625e-06 | 84/0.3300/2.44140625e-06 | 85/0.3300/1.220703125e-06 | 86/0.3320/1.220703125e-06 | 87/0.3300/1.220703125e-06 | 88/0.3320/1.220703125e-06 | 89/0.3320/1.220703125e-06 | 90/0.3320/1.220703125e-06 | 91/0.3320/6.103515625e-07 | Accuracy: 0.3037\n",
      "Evaluating nci1 dataset using cos_sim method with a percentile of 70 against class members\n",
      "Epoch/val accuracy/lr: "
     ]
    },
    {
     "name": "stderr",
     "output_type": "stream",
     "text": [
      "/opt/conda/lib/python3.10/site-packages/torch_geometric/deprecation.py:26: UserWarning: 'data.DataLoader' is deprecated, use 'loader.DataLoader' instead\n",
      "  warnings.warn(out)\n"
     ]
    },
    {
     "name": "stdout",
     "output_type": "stream",
     "text": [
      "1/0.4983/0.01 | 2/0.4983/0.01 | 3/0.4983/0.01 | 4/0.4948/0.01 | 5/0.4809/0.01 | 6/0.4983/0.01 | 7/0.4983/0.01 | 8/0.4983/0.01 | 9/0.4983/0.01 | 10/0.4983/0.01 | 11/0.4965/0.01 | 12/0.4931/0.005 | 13/0.4913/0.005 | 14/0.4913/0.005 | 15/0.4913/0.005 | 16/0.4913/0.005 | 17/0.4913/0.005 | 18/0.4913/0.0025 | 19/0.4913/0.0025 | 20/0.4913/0.0025 | 21/0.4896/0.0025 | 22/0.4757/0.0025 | 23/0.4410/0.0025 | 24/0.3924/0.0025 | 25/0.4045/0.0025 | 26/0.3958/0.0025 | 27/0.4184/0.0025 | 28/0.4549/0.0025 | 29/0.4722/0.0025 | 30/0.4722/0.0025 | 31/0.4635/0.00125 | 32/0.4635/0.00125 | 33/0.4531/0.00125 | 34/0.4358/0.00125 | 35/0.4080/0.00125 | 36/0.3854/0.00125 | 37/0.3299/0.00125 | 38/0.2882/0.00125 | 39/0.2431/0.00125 | 40/0.2101/0.00125 | 41/0.1875/0.00125 | 42/0.1875/0.00125 | 43/0.1892/0.00125 | 44/0.1892/0.00125 | 45/0.1858/0.00125 | 46/0.2118/0.00125 | 47/0.2378/0.00125 | 48/0.2569/0.00125 | 49/0.2812/0.00125 | 50/0.2865/0.00125 | 51/0.2830/0.00125 | 52/0.2847/0.000625 | 53/0.2899/0.000625 | 54/0.2986/0.000625 | 55/0.2986/0.000625 | 56/0.3090/0.000625 | 57/0.3142/0.000625 | 58/0.3177/0.0003125 | 59/0.3177/0.0003125 | 60/0.3194/0.0003125 | 61/0.3229/0.0003125 | 62/0.3229/0.0003125 | 63/0.3229/0.0003125 | 64/0.3264/0.00015625 | 65/0.3264/0.00015625 | 66/0.3229/0.00015625 | 67/0.3299/0.00015625 | 68/0.3299/0.00015625 | 69/0.3333/0.00015625 | 70/0.3368/7.8125e-05 | 71/0.3299/7.8125e-05 | 72/0.3316/7.8125e-05 | 73/0.3333/7.8125e-05 | 74/0.3333/7.8125e-05 | 75/0.3333/7.8125e-05 | 76/0.3351/3.90625e-05 | 77/0.3351/3.90625e-05 | 78/0.3385/3.90625e-05 | 79/0.3351/3.90625e-05 | 80/0.3368/3.90625e-05 | 81/0.3368/3.90625e-05 | 82/0.3351/1.953125e-05 | 83/0.3351/1.953125e-05 | 84/0.3351/1.953125e-05 | 85/0.3351/1.953125e-05 | 86/0.3351/1.953125e-05 | 87/0.3316/1.953125e-05 | 88/0.3351/9.765625e-06 | 89/0.3368/9.765625e-06 | 90/0.3385/9.765625e-06 | 91/0.3385/9.765625e-06 | 92/0.3385/9.765625e-06 | 93/0.3385/9.765625e-06 | 94/0.3333/4.8828125e-06 | 95/0.3281/4.8828125e-06 | 96/0.3299/4.8828125e-06 | 97/0.3299/4.8828125e-06 | 98/0.3299/4.8828125e-06 | 99/0.3247/4.8828125e-06 | 100/0.3281/2.44140625e-06 | 101/0.3299/2.44140625e-06 | 102/0.3281/2.44140625e-06 | 103/0.3333/2.44140625e-06 | 104/0.3316/2.44140625e-06 | 105/0.3316/2.44140625e-06 | 106/0.3299/1.220703125e-06 | 107/0.3316/1.220703125e-06 | 108/0.3333/1.220703125e-06 | 109/0.3333/1.220703125e-06 | 110/0.3316/1.220703125e-06 | 111/0.3351/1.220703125e-06 | 112/0.3351/6.103515625e-07 | Accuracy: 0.3304\n",
      "Evaluating nci1 dataset using cos_sim method with a percentile of 80 against class members\n",
      "Epoch/val accuracy/lr: "
     ]
    },
    {
     "name": "stderr",
     "output_type": "stream",
     "text": [
      "/opt/conda/lib/python3.10/site-packages/torch_geometric/deprecation.py:26: UserWarning: 'data.DataLoader' is deprecated, use 'loader.DataLoader' instead\n",
      "  warnings.warn(out)\n"
     ]
    },
    {
     "name": "stdout",
     "output_type": "stream",
     "text": [
      "1/0.2264/0.01 | 2/0.1459/0.01 | 3/0.4210/0.01 | 4/0.0015/0.01 | 5/0.0015/0.01 | 6/0.4635/0.01 | 7/0.4924/0.01 | 8/0.4787/0.01 | 9/0.1261/0.01 | 10/0.0015/0.01 | 11/0.0015/0.005 | 12/0.0182/0.005 | 13/0.1033/0.005 | 14/0.1839/0.005 | 15/0.2705/0.005 | 16/0.3587/0.005 | 17/0.3480/0.0025 | 18/0.3191/0.0025 | 19/0.2994/0.0025 | 20/0.2584/0.0025 | 21/0.1930/0.0025 | 22/0.1444/0.0025 | 23/0.1140/0.00125 | 24/0.0942/0.00125 | 25/0.0881/0.00125 | 26/0.0669/0.00125 | 27/0.0532/0.00125 | 28/0.0410/0.00125 | 29/0.0426/0.000625 | 30/0.0395/0.000625 | 31/0.0426/0.000625 | 32/0.0410/0.000625 | 33/0.0441/0.000625 | 34/0.0441/0.000625 | 35/0.0502/0.0003125 | 36/0.0517/0.0003125 | 37/0.0623/0.0003125 | 38/0.0638/0.0003125 | 39/0.0638/0.0003125 | 40/0.0638/0.0003125 | 41/0.0729/0.00015625 | 42/0.0775/0.00015625 | 43/0.0790/0.00015625 | 44/0.0866/0.00015625 | 45/0.0942/0.00015625 | 46/0.1003/0.00015625 | 47/0.1216/7.8125e-05 | 48/0.1277/7.8125e-05 | 49/0.1368/7.8125e-05 | 50/0.1398/7.8125e-05 | 51/0.1444/7.8125e-05 | 52/0.1611/7.8125e-05 | 53/0.1778/3.90625e-05 | 54/0.2036/3.90625e-05 | 55/0.2097/3.90625e-05 | 56/0.2280/3.90625e-05 | 57/0.2386/3.90625e-05 | 58/0.2447/3.90625e-05 | 59/0.2492/1.953125e-05 | 60/0.2523/1.953125e-05 | 61/0.2568/1.953125e-05 | 62/0.2614/1.953125e-05 | 63/0.2660/1.953125e-05 | 64/0.2720/1.953125e-05 | 65/0.2736/9.765625e-06 | 66/0.2736/9.765625e-06 | 67/0.2766/9.765625e-06 | 68/0.2812/9.765625e-06 | 69/0.2842/9.765625e-06 | 70/0.2872/9.765625e-06 | 71/0.2857/4.8828125e-06 | 72/0.2948/4.8828125e-06 | 73/0.2948/4.8828125e-06 | 74/0.2964/4.8828125e-06 | 75/0.3040/4.8828125e-06 | 76/0.3024/4.8828125e-06 | 77/0.2994/2.44140625e-06 | 78/0.3009/2.44140625e-06 | 79/0.3009/2.44140625e-06 | 80/0.3024/2.44140625e-06 | 81/0.3009/2.44140625e-06 | 82/0.3040/2.44140625e-06 | 83/0.3116/1.220703125e-06 | 84/0.3116/1.220703125e-06 | 85/0.3176/1.220703125e-06 | 86/0.3161/1.220703125e-06 | 87/0.3207/1.220703125e-06 | 88/0.3207/1.220703125e-06 | 89/0.3191/6.103515625e-07 | Accuracy: 0.2850\n",
      "Evaluating nci1 dataset using cos_sim method with a percentile of 90 against class members\n",
      "Epoch/val accuracy/lr: "
     ]
    },
    {
     "name": "stderr",
     "output_type": "stream",
     "text": [
      "/opt/conda/lib/python3.10/site-packages/torch_geometric/deprecation.py:26: UserWarning: 'data.DataLoader' is deprecated, use 'loader.DataLoader' instead\n",
      "  warnings.warn(out)\n"
     ]
    },
    {
     "name": "stdout",
     "output_type": "stream",
     "text": [
      "1/0.0000/0.01 | 2/0.4446/0.01 | 3/0.5162/0.01 | 4/0.5162/0.01 | 5/0.5162/0.01 | 6/0.5162/0.01 | 7/0.5000/0.01 | 8/0.4784/0.005 | 9/0.5081/0.005 | 10/0.5162/0.005 | 11/0.5162/0.005 | 12/0.5162/0.005 | 13/0.5162/0.005 | 14/0.5162/0.0025 | 15/0.5162/0.0025 | 16/0.5162/0.0025 | 17/0.5162/0.0025 | 18/0.5162/0.0025 | 19/0.5162/0.0025 | 20/0.5162/0.00125 | 21/0.5162/0.00125 | 22/0.5162/0.00125 | 23/0.5162/0.00125 | 24/0.5162/0.00125 | 25/0.5162/0.00125 | 26/0.5162/0.000625 | 27/0.5162/0.000625 | 28/0.5162/0.000625 | 29/0.5162/0.000625 | 30/0.5162/0.000625 | 31/0.5162/0.000625 | 32/0.5162/0.0003125 | 33/0.5135/0.0003125 | 34/0.5135/0.0003125 | 35/0.5135/0.0003125 | 36/0.5135/0.0003125 | 37/0.5108/0.0003125 | 38/0.5041/0.00015625 | 39/0.5000/0.00015625 | 40/0.4892/0.00015625 | 41/0.4811/0.00015625 | 42/0.4730/0.00015625 | 43/0.4568/0.00015625 | 44/0.4459/7.8125e-05 | 45/0.4324/7.8125e-05 | 46/0.4243/7.8125e-05 | 47/0.4135/7.8125e-05 | 48/0.3973/7.8125e-05 | 49/0.3932/7.8125e-05 | 50/0.3838/3.90625e-05 | 51/0.3770/3.90625e-05 | 52/0.3649/3.90625e-05 | 53/0.3541/3.90625e-05 | 54/0.3486/3.90625e-05 | 55/0.3446/3.90625e-05 | 56/0.3405/1.953125e-05 | 57/0.3324/1.953125e-05 | 58/0.3297/1.953125e-05 | 59/0.3284/1.953125e-05 | 60/0.3243/1.953125e-05 | 61/0.3243/1.953125e-05 | 62/0.3216/9.765625e-06 | 63/0.3189/9.765625e-06 | 64/0.3149/9.765625e-06 | 65/0.3135/9.765625e-06 | 66/0.3108/9.765625e-06 | 67/0.3108/9.765625e-06 | 68/0.3108/4.8828125e-06 | 69/0.3081/4.8828125e-06 | 70/0.3081/4.8828125e-06 | 71/0.3095/4.8828125e-06 | 72/0.3081/4.8828125e-06 | 73/0.3054/4.8828125e-06 | 74/0.3041/2.44140625e-06 | 75/0.3041/2.44140625e-06 | 76/0.3041/2.44140625e-06 | 77/0.3041/2.44140625e-06 | 78/0.3041/2.44140625e-06 | 79/0.3027/2.44140625e-06 | 80/0.3041/1.220703125e-06 | 81/0.3014/1.220703125e-06 | 82/0.3014/1.220703125e-06 | 83/0.3014/1.220703125e-06 | 84/0.3000/1.220703125e-06 | 85/0.3000/1.220703125e-06 | 86/0.2986/6.103515625e-07 | Accuracy: 0.3293\n",
      "Evaluating nci109 dataset using random method with a percentile of 40 against class members\n",
      "Epoch/val accuracy/lr: "
     ]
    },
    {
     "name": "stderr",
     "output_type": "stream",
     "text": [
      "/opt/conda/lib/python3.10/site-packages/torch_geometric/deprecation.py:26: UserWarning: 'data.DataLoader' is deprecated, use 'loader.DataLoader' instead\n",
      "  warnings.warn(out)\n"
     ]
    },
    {
     "name": "stdout",
     "output_type": "stream",
     "text": [
      "1/0.4909/0.01 | 2/0.4909/0.01 | 3/0.4909/0.01 | 4/0.4909/0.01 | 5/0.4909/0.01 | 6/0.4909/0.01 | 7/0.4000/0.01 | 8/0.1636/0.01 | 9/0.0758/0.01 | 10/0.1091/0.01 | 11/0.0212/0.01 | 12/0.0333/0.01 | 13/0.0364/0.01 | 14/0.0788/0.01 | 15/0.1273/0.01 | 16/0.3273/0.01 | 17/0.3970/0.01 | 18/0.3970/0.005 | 19/0.3697/0.005 | 20/0.3121/0.005 | 21/0.3061/0.005 | 22/0.3667/0.005 | 23/0.4182/0.005 | 24/0.4182/0.0025 | 25/0.4061/0.0025 | 26/0.3788/0.0025 | 27/0.3333/0.0025 | 28/0.2545/0.0025 | 29/0.2333/0.0025 | 30/0.2364/0.00125 | 31/0.2545/0.00125 | 32/0.2667/0.00125 | 33/0.2727/0.00125 | 34/0.2727/0.00125 | 35/0.2636/0.00125 | 36/0.2606/0.000625 | 37/0.2667/0.000625 | 38/0.2636/0.000625 | 39/0.2606/0.000625 | 40/0.2697/0.000625 | 41/0.2364/0.000625 | 42/0.2455/0.0003125 | 43/0.2424/0.0003125 | 44/0.2515/0.0003125 | 45/0.2515/0.0003125 | 46/0.2515/0.0003125 | 47/0.2455/0.0003125 | 48/0.2455/0.00015625 | 49/0.2576/0.00015625 | 50/0.2636/0.00015625 | 51/0.2727/0.00015625 | 52/0.2818/0.00015625 | 53/0.2879/0.00015625 | 54/0.2939/7.8125e-05 | 55/0.2939/7.8125e-05 | 56/0.2970/7.8125e-05 | 57/0.3061/7.8125e-05 | 58/0.3121/7.8125e-05 | 59/0.3212/7.8125e-05 | 60/0.3212/3.90625e-05 | 61/0.3242/3.90625e-05 | 62/0.3242/3.90625e-05 | 63/0.3242/3.90625e-05 | 64/0.3242/3.90625e-05 | 65/0.3242/3.90625e-05 | 66/0.3242/1.953125e-05 | 67/0.3242/1.953125e-05 | 68/0.3273/1.953125e-05 | 69/0.3242/1.953125e-05 | 70/0.3242/1.953125e-05 | 71/0.3242/1.953125e-05 | 72/0.3242/9.765625e-06 | 73/0.3242/9.765625e-06 | 74/0.3242/9.765625e-06 | 75/0.3242/9.765625e-06 | 76/0.3242/9.765625e-06 | 77/0.3242/9.765625e-06 | 78/0.3242/4.8828125e-06 | 79/0.3273/4.8828125e-06 | 80/0.3242/4.8828125e-06 | 81/0.3303/4.8828125e-06 | 82/0.3303/4.8828125e-06 | 83/0.3273/4.8828125e-06 | 84/0.3242/2.44140625e-06 | 85/0.3242/2.44140625e-06 | 86/0.3242/2.44140625e-06 | 87/0.3242/2.44140625e-06 | 88/0.3242/2.44140625e-06 | 89/0.3242/2.44140625e-06 | 90/0.3242/1.220703125e-06 | 91/0.3212/1.220703125e-06 | 92/0.3212/1.220703125e-06 | 93/0.3182/1.220703125e-06 | 94/0.3182/1.220703125e-06 | 95/0.3182/1.220703125e-06 | 96/0.3212/6.103515625e-07 | Accuracy: 0.3254\n",
      "Evaluating nci109 dataset using random method with a percentile of 50 against class members\n",
      "Epoch/val accuracy/lr: "
     ]
    },
    {
     "name": "stderr",
     "output_type": "stream",
     "text": [
      "/opt/conda/lib/python3.10/site-packages/torch_geometric/deprecation.py:26: UserWarning: 'data.DataLoader' is deprecated, use 'loader.DataLoader' instead\n",
      "  warnings.warn(out)\n"
     ]
    },
    {
     "name": "stdout",
     "output_type": "stream",
     "text": [
      "1/0.5061/0.01 | 2/0.5061/0.01 | 3/0.5061/0.01 | 4/0.5061/0.01 | 5/0.5061/0.01 | 6/0.5061/0.01 | 7/0.5061/0.01 | 8/0.5061/0.005 | 9/0.5061/0.005 | 10/0.5061/0.005 | 11/0.5061/0.005 | 12/0.5061/0.005 | 13/0.5036/0.005 | 14/0.4891/0.005 | 15/0.4455/0.005 | 16/0.3487/0.005 | 17/0.3656/0.005 | 18/0.4625/0.005 | 19/0.4915/0.005 | 20/0.4915/0.005 | 21/0.4964/0.005 | 22/0.4964/0.005 | 23/0.4964/0.0025 | 24/0.4964/0.0025 | 25/0.4964/0.0025 | 26/0.4939/0.0025 | 27/0.4915/0.0025 | 28/0.4915/0.0025 | 29/0.4843/0.00125 | 30/0.4843/0.00125 | 31/0.4794/0.00125 | 32/0.4673/0.00125 | 33/0.4649/0.00125 | 34/0.4625/0.00125 | 35/0.4552/0.000625 | 36/0.4407/0.000625 | 37/0.4334/0.000625 | 38/0.4310/0.000625 | 39/0.4262/0.000625 | 40/0.4237/0.000625 | 41/0.4165/0.0003125 | 42/0.4165/0.0003125 | 43/0.4165/0.0003125 | 44/0.4140/0.0003125 | 45/0.4116/0.0003125 | 46/0.4092/0.0003125 | 47/0.4068/0.00015625 | 48/0.3995/0.00015625 | 49/0.3971/0.00015625 | 50/0.3923/0.00015625 | 51/0.3874/0.00015625 | 52/0.3777/0.00015625 | 53/0.3777/7.8125e-05 | 54/0.3680/7.8125e-05 | 55/0.3656/7.8125e-05 | 56/0.3656/7.8125e-05 | 57/0.3584/7.8125e-05 | 58/0.3535/7.8125e-05 | 59/0.3535/3.90625e-05 | 60/0.3511/3.90625e-05 | 61/0.3487/3.90625e-05 | 62/0.3487/3.90625e-05 | 63/0.3487/3.90625e-05 | 64/0.3487/3.90625e-05 | 65/0.3462/1.953125e-05 | 66/0.3487/1.953125e-05 | 67/0.3462/1.953125e-05 | 68/0.3487/1.953125e-05 | 69/0.3390/1.953125e-05 | 70/0.3438/1.953125e-05 | 71/0.3438/1.953125e-05 | 72/0.3438/1.953125e-05 | 73/0.3390/1.953125e-05 | 74/0.3366/1.953125e-05 | 75/0.3366/1.953125e-05 | 76/0.3341/1.953125e-05 | 77/0.3317/1.953125e-05 | 78/0.3317/1.953125e-05 | 79/0.3293/1.953125e-05 | 80/0.3317/1.953125e-05 | 81/0.3317/1.953125e-05 | 82/0.3317/1.953125e-05 | 83/0.3317/1.953125e-05 | 84/0.3317/1.953125e-05 | 85/0.3317/1.953125e-05 | 86/0.3341/9.765625e-06 | 87/0.3341/9.765625e-06 | 88/0.3341/9.765625e-06 | 89/0.3341/9.765625e-06 | 90/0.3390/9.765625e-06 | 91/0.3341/9.765625e-06 | 92/0.3317/4.8828125e-06 | 93/0.3341/4.8828125e-06 | 94/0.3341/4.8828125e-06 | 95/0.3341/4.8828125e-06 | 96/0.3341/4.8828125e-06 | 97/0.3341/4.8828125e-06 | 98/0.3341/2.44140625e-06 | 99/0.3341/2.44140625e-06 | 100/0.3341/2.44140625e-06 | 101/0.3341/2.44140625e-06 | 102/0.3341/2.44140625e-06 | 103/0.3366/2.44140625e-06 | 104/0.3366/1.220703125e-06 | 105/0.3366/1.220703125e-06 | 106/0.3366/1.220703125e-06 | 107/0.3390/1.220703125e-06 | 108/0.3390/1.220703125e-06 | 109/0.3341/1.220703125e-06 | 110/0.3366/6.103515625e-07 | Accuracy: 0.3154\n",
      "Evaluating nci109 dataset using random method with a percentile of 60 against class members\n",
      "Epoch/val accuracy/lr: "
     ]
    },
    {
     "name": "stderr",
     "output_type": "stream",
     "text": [
      "/opt/conda/lib/python3.10/site-packages/torch_geometric/deprecation.py:26: UserWarning: 'data.DataLoader' is deprecated, use 'loader.DataLoader' instead\n",
      "  warnings.warn(out)\n"
     ]
    },
    {
     "name": "stdout",
     "output_type": "stream",
     "text": [
      "1/0.0000/0.01 | 2/0.0000/0.01 | 3/0.4698/0.01 | 4/0.5323/0.01 | 5/0.5323/0.01 | 6/0.5323/0.01 | 7/0.5302/0.01 | 8/0.5202/0.005 | 9/0.4738/0.005 | 10/0.4355/0.005 | 11/0.4294/0.005 | 12/0.2581/0.005 | 13/0.0020/0.005 | 14/0.0000/0.0025 | 15/0.0000/0.0025 | 16/0.0000/0.0025 | 17/0.0000/0.0025 | 18/0.0000/0.0025 | 19/0.0000/0.0025 | 20/0.0000/0.00125 | 21/0.0020/0.00125 | 22/0.0020/0.00125 | 23/0.0101/0.00125 | 24/0.0101/0.00125 | 25/0.0040/0.00125 | 26/0.0020/0.000625 | 27/0.0020/0.000625 | 28/0.0040/0.000625 | 29/0.0040/0.000625 | 30/0.0040/0.000625 | 31/0.0040/0.000625 | 32/0.0040/0.0003125 | 33/0.0040/0.0003125 | 34/0.0060/0.0003125 | 35/0.0060/0.0003125 | 36/0.0101/0.0003125 | 37/0.0181/0.0003125 | 38/0.0242/0.00015625 | 39/0.0323/0.00015625 | 40/0.0403/0.00015625 | 41/0.0504/0.00015625 | 42/0.0685/0.00015625 | 43/0.0847/0.00015625 | 44/0.0907/7.8125e-05 | 45/0.1028/7.8125e-05 | 46/0.1190/7.8125e-05 | 47/0.1310/7.8125e-05 | 48/0.1411/7.8125e-05 | 49/0.1593/7.8125e-05 | 50/0.1714/3.90625e-05 | 51/0.1815/3.90625e-05 | 52/0.1956/3.90625e-05 | 53/0.1996/3.90625e-05 | 54/0.2117/3.90625e-05 | 55/0.2177/3.90625e-05 | 56/0.2198/1.953125e-05 | 57/0.2258/1.953125e-05 | 58/0.2339/1.953125e-05 | 59/0.2500/1.953125e-05 | 60/0.2540/1.953125e-05 | 61/0.2641/1.953125e-05 | 62/0.2661/9.765625e-06 | 63/0.2742/9.765625e-06 | 64/0.2802/9.765625e-06 | 65/0.2863/9.765625e-06 | 66/0.2903/9.765625e-06 | 67/0.2984/9.765625e-06 | 68/0.3044/4.8828125e-06 | 69/0.3105/4.8828125e-06 | 70/0.3125/4.8828125e-06 | 71/0.3145/4.8828125e-06 | 72/0.3165/4.8828125e-06 | 73/0.3165/4.8828125e-06 | 74/0.3206/2.44140625e-06 | 75/0.3246/2.44140625e-06 | 76/0.3246/2.44140625e-06 | 77/0.3246/2.44140625e-06 | 78/0.3266/2.44140625e-06 | 79/0.3286/2.44140625e-06 | 80/0.3347/1.220703125e-06 | 81/0.3347/1.220703125e-06 | 82/0.3327/1.220703125e-06 | 83/0.3367/1.220703125e-06 | 84/0.3367/1.220703125e-06 | 85/0.3306/1.220703125e-06 | 86/0.3387/6.103515625e-07 | Accuracy: 0.3374\n",
      "Evaluating nci109 dataset using random method with a percentile of 70 against class members\n",
      "Epoch/val accuracy/lr: "
     ]
    },
    {
     "name": "stderr",
     "output_type": "stream",
     "text": [
      "/opt/conda/lib/python3.10/site-packages/torch_geometric/deprecation.py:26: UserWarning: 'data.DataLoader' is deprecated, use 'loader.DataLoader' instead\n",
      "  warnings.warn(out)\n"
     ]
    },
    {
     "name": "stdout",
     "output_type": "stream",
     "text": [
      "1/0.0900/0.01 | 2/0.5242/0.01 | 3/0.5225/0.01 | 4/0.5121/0.01 | 5/0.0381/0.01 | 6/0.0000/0.01 | 7/0.0017/0.01 | 8/0.1903/0.01 | 9/0.5225/0.01 | 10/0.5242/0.01 | 11/0.5242/0.01 | 12/0.5242/0.01 | 13/0.5242/0.005 | 14/0.5242/0.005 | 15/0.5242/0.005 | 16/0.5225/0.005 | 17/0.5208/0.005 | 18/0.5225/0.005 | 19/0.5208/0.0025 | 20/0.5208/0.0025 | 21/0.5208/0.0025 | 22/0.5190/0.0025 | 23/0.5190/0.0025 | 24/0.5190/0.0025 | 25/0.5190/0.00125 | 26/0.5173/0.00125 | 27/0.5190/0.00125 | 28/0.5190/0.00125 | 29/0.5173/0.00125 | 30/0.5156/0.00125 | 31/0.5104/0.000625 | 32/0.5052/0.000625 | 33/0.5035/0.000625 | 34/0.5000/0.000625 | 35/0.5000/0.000625 | 36/0.5000/0.000625 | 37/0.4983/0.0003125 | 38/0.4862/0.0003125 | 39/0.4844/0.0003125 | 40/0.4758/0.0003125 | 41/0.4637/0.0003125 | 42/0.4585/0.0003125 | 43/0.4567/0.00015625 | 44/0.4394/0.00015625 | 45/0.4291/0.00015625 | 46/0.4204/0.00015625 | 47/0.4135/0.00015625 | 48/0.4118/0.00015625 | 49/0.4083/7.8125e-05 | 50/0.3945/7.8125e-05 | 51/0.3875/7.8125e-05 | 52/0.3824/7.8125e-05 | 53/0.3824/7.8125e-05 | 54/0.3789/7.8125e-05 | 55/0.3754/3.90625e-05 | 56/0.3702/3.90625e-05 | 57/0.3702/3.90625e-05 | 58/0.3685/3.90625e-05 | 59/0.3651/3.90625e-05 | 60/0.3651/3.90625e-05 | 61/0.3668/1.953125e-05 | 62/0.3668/1.953125e-05 | 63/0.3685/1.953125e-05 | 64/0.3668/1.953125e-05 | 65/0.3685/1.953125e-05 | 66/0.3685/1.953125e-05 | 67/0.3720/9.765625e-06 | 68/0.3720/9.765625e-06 | 69/0.3702/9.765625e-06 | 70/0.3720/9.765625e-06 | 71/0.3720/9.765625e-06 | 72/0.3702/9.765625e-06 | 73/0.3651/4.8828125e-06 | 74/0.3633/4.8828125e-06 | 75/0.3633/4.8828125e-06 | 76/0.3633/4.8828125e-06 | 77/0.3633/4.8828125e-06 | 78/0.3616/4.8828125e-06 | 79/0.3616/2.44140625e-06 | 80/0.3616/2.44140625e-06 | 81/0.3616/2.44140625e-06 | 82/0.3633/2.44140625e-06 | 83/0.3651/2.44140625e-06 | 84/0.3651/2.44140625e-06 | 85/0.3651/1.220703125e-06 | 86/0.3668/1.220703125e-06 | 87/0.3685/1.220703125e-06 | 88/0.3668/1.220703125e-06 | 89/0.3668/1.220703125e-06 | 90/0.3651/1.220703125e-06 | 91/0.3633/6.103515625e-07 | Accuracy: 0.3261\n",
      "Evaluating nci109 dataset using random method with a percentile of 80 against class members\n",
      "Epoch/val accuracy/lr: "
     ]
    },
    {
     "name": "stderr",
     "output_type": "stream",
     "text": [
      "/opt/conda/lib/python3.10/site-packages/torch_geometric/deprecation.py:26: UserWarning: 'data.DataLoader' is deprecated, use 'loader.DataLoader' instead\n",
      "  warnings.warn(out)\n"
     ]
    },
    {
     "name": "stdout",
     "output_type": "stream",
     "text": [
      "1/0.0000/0.01 | 2/0.4962/0.01 | 3/0.5219/0.01 | 4/0.0000/0.01 | 5/0.0000/0.01 | 6/0.0000/0.01 | 7/0.3737/0.01 | 8/0.4433/0.005 | 9/0.3737/0.005 | 10/0.2345/0.005 | 11/0.1785/0.005 | 12/0.1558/0.005 | 13/0.1846/0.005 | 14/0.1619/0.0025 | 15/0.1573/0.0025 | 16/0.1604/0.0025 | 17/0.1619/0.0025 | 18/0.1649/0.0025 | 19/0.1543/0.0025 | 20/0.1362/0.00125 | 21/0.1286/0.00125 | 22/0.1180/0.00125 | 23/0.1029/0.00125 | 24/0.0953/0.00125 | 25/0.0953/0.00125 | 26/0.0893/0.000625 | 27/0.0893/0.000625 | 28/0.0832/0.000625 | 29/0.0787/0.000625 | 30/0.0787/0.000625 | 31/0.0756/0.000625 | 32/0.0756/0.0003125 | 33/0.0787/0.0003125 | 34/0.0893/0.0003125 | 35/0.0908/0.0003125 | 36/0.0938/0.0003125 | 37/0.1014/0.0003125 | 38/0.1029/0.00015625 | 39/0.1029/0.00015625 | 40/0.1104/0.00015625 | 41/0.1210/0.00015625 | 42/0.1210/0.00015625 | 43/0.1271/0.00015625 | 44/0.1271/7.8125e-05 | 45/0.1271/7.8125e-05 | 46/0.1271/7.8125e-05 | 47/0.1362/7.8125e-05 | 48/0.1392/7.8125e-05 | 49/0.1422/7.8125e-05 | 50/0.1467/3.90625e-05 | 51/0.1483/3.90625e-05 | 52/0.1679/3.90625e-05 | 53/0.1846/3.90625e-05 | 54/0.1952/3.90625e-05 | 55/0.2103/3.90625e-05 | 56/0.2254/1.953125e-05 | 57/0.2451/1.953125e-05 | 58/0.2557/1.953125e-05 | 59/0.2617/1.953125e-05 | 60/0.2678/1.953125e-05 | 61/0.2738/1.953125e-05 | 62/0.2799/9.765625e-06 | 63/0.2814/9.765625e-06 | 64/0.2829/9.765625e-06 | 65/0.2920/9.765625e-06 | 66/0.2920/9.765625e-06 | 67/0.2995/9.765625e-06 | 68/0.2980/4.8828125e-06 | 69/0.3056/4.8828125e-06 | 70/0.3101/4.8828125e-06 | 71/0.3132/4.8828125e-06 | 72/0.3192/4.8828125e-06 | 73/0.3207/4.8828125e-06 | 74/0.3222/2.44140625e-06 | 75/0.3253/2.44140625e-06 | 76/0.3283/2.44140625e-06 | 77/0.3283/2.44140625e-06 | 78/0.3283/2.44140625e-06 | 79/0.3283/2.44140625e-06 | 80/0.3313/1.220703125e-06 | 81/0.3328/1.220703125e-06 | 82/0.3328/1.220703125e-06 | 83/0.3374/1.220703125e-06 | 84/0.3343/1.220703125e-06 | 85/0.3389/1.220703125e-06 | 86/0.3359/6.103515625e-07 | Accuracy: 0.3039\n",
      "Evaluating nci109 dataset using random method with a percentile of 90 against class members\n",
      "Epoch/val accuracy/lr: "
     ]
    },
    {
     "name": "stderr",
     "output_type": "stream",
     "text": [
      "/opt/conda/lib/python3.10/site-packages/torch_geometric/deprecation.py:26: UserWarning: 'data.DataLoader' is deprecated, use 'loader.DataLoader' instead\n",
      "  warnings.warn(out)\n"
     ]
    },
    {
     "name": "stdout",
     "output_type": "stream",
     "text": [
      "1/0.0000/0.01 | 2/0.0000/0.01 | 3/0.5128/0.01 | 4/0.0081/0.01 | 5/0.5074/0.01 | 6/0.5101/0.01 | 7/0.0915/0.01 | 8/0.0417/0.005 | 9/0.0417/0.005 | 10/0.2396/0.005 | 11/0.5020/0.005 | 12/0.5074/0.005 | 13/0.4899/0.005 | 14/0.4791/0.0025 | 15/0.4616/0.0025 | 16/0.4536/0.0025 | 17/0.4522/0.0025 | 18/0.4536/0.0025 | 19/0.4468/0.0025 | 20/0.4172/0.00125 | 21/0.3567/0.00125 | 22/0.3149/0.00125 | 23/0.2598/0.00125 | 24/0.2207/0.00125 | 25/0.1817/0.00125 | 26/0.1682/0.000625 | 27/0.1629/0.000625 | 28/0.1521/0.000625 | 29/0.1480/0.000625 | 30/0.1494/0.000625 | 31/0.1427/0.000625 | 32/0.1454/0.0003125 | 33/0.1521/0.0003125 | 34/0.1629/0.0003125 | 35/0.1723/0.0003125 | 36/0.1723/0.0003125 | 37/0.1777/0.0003125 | 38/0.1817/0.00015625 | 39/0.1844/0.00015625 | 40/0.1857/0.00015625 | 41/0.1871/0.00015625 | 42/0.1898/0.00015625 | 43/0.2059/0.00015625 | 44/0.2113/7.8125e-05 | 45/0.2301/7.8125e-05 | 46/0.2409/7.8125e-05 | 47/0.2530/7.8125e-05 | 48/0.2611/7.8125e-05 | 49/0.2719/7.8125e-05 | 50/0.2813/3.90625e-05 | 51/0.2907/3.90625e-05 | 52/0.3028/3.90625e-05 | 53/0.3055/3.90625e-05 | 54/0.3082/3.90625e-05 | 55/0.3190/3.90625e-05 | 56/0.3244/1.953125e-05 | 57/0.3284/1.953125e-05 | 58/0.3324/1.953125e-05 | 59/0.3378/1.953125e-05 | 60/0.3405/1.953125e-05 | 61/0.3392/1.953125e-05 | 62/0.3378/9.765625e-06 | 63/0.3365/9.765625e-06 | 64/0.3378/9.765625e-06 | 65/0.3365/9.765625e-06 | 66/0.3378/9.765625e-06 | 67/0.3365/9.765625e-06 | 68/0.3351/4.8828125e-06 | 69/0.3311/4.8828125e-06 | 70/0.3338/4.8828125e-06 | 71/0.3351/4.8828125e-06 | 72/0.3351/4.8828125e-06 | 73/0.3351/4.8828125e-06 | 74/0.3351/2.44140625e-06 | 75/0.3378/2.44140625e-06 | 76/0.3405/2.44140625e-06 | 77/0.3432/2.44140625e-06 | 78/0.3432/2.44140625e-06 | 79/0.3459/2.44140625e-06 | 80/0.3459/1.220703125e-06 | 81/0.3445/1.220703125e-06 | 82/0.3459/1.220703125e-06 | 83/0.3472/1.220703125e-06 | 84/0.3432/1.220703125e-06 | 85/0.3432/1.220703125e-06 | 86/0.3419/6.103515625e-07 | Accuracy: 0.3099\n",
      "Evaluating nci109 dataset using graph_order method with a percentile of 40 against class members\n",
      "Epoch/val accuracy/lr: "
     ]
    },
    {
     "name": "stderr",
     "output_type": "stream",
     "text": [
      "/opt/conda/lib/python3.10/site-packages/torch_geometric/deprecation.py:26: UserWarning: 'data.DataLoader' is deprecated, use 'loader.DataLoader' instead\n",
      "  warnings.warn(out)\n"
     ]
    },
    {
     "name": "stdout",
     "output_type": "stream",
     "text": [
      "1/0.0363/0.01 | 2/0.3988/0.01 | 3/0.5196/0.01 | 4/0.5196/0.01 | 5/0.5196/0.01 | 6/0.5196/0.01 | 7/0.5196/0.01 | 8/0.5196/0.005 | 9/0.5196/0.005 | 10/0.5166/0.005 | 11/0.5166/0.005 | 12/0.4894/0.005 | 13/0.4441/0.005 | 14/0.3746/0.0025 | 15/0.2205/0.0025 | 16/0.1208/0.0025 | 17/0.0634/0.0025 | 18/0.0544/0.0025 | 19/0.0483/0.0025 | 20/0.0423/0.00125 | 21/0.0363/0.00125 | 22/0.0302/0.00125 | 23/0.0363/0.00125 | 24/0.0363/0.00125 | 25/0.0423/0.00125 | 26/0.0544/0.00125 | 27/0.0725/0.00125 | 28/0.0846/0.00125 | 29/0.0967/0.000625 | 30/0.1148/0.000625 | 31/0.1208/0.000625 | 32/0.1390/0.000625 | 33/0.1541/0.000625 | 34/0.1631/0.000625 | 35/0.1903/0.0003125 | 36/0.1994/0.0003125 | 37/0.2085/0.0003125 | 38/0.2175/0.0003125 | 39/0.2266/0.0003125 | 40/0.2266/0.0003125 | 41/0.2387/0.00015625 | 42/0.2628/0.00015625 | 43/0.2840/0.00015625 | 44/0.2991/0.00015625 | 45/0.3112/0.00015625 | 46/0.3323/0.00015625 | 47/0.3353/7.8125e-05 | 48/0.3444/7.8125e-05 | 49/0.3474/7.8125e-05 | 50/0.3474/7.8125e-05 | 51/0.3474/7.8125e-05 | 52/0.3474/7.8125e-05 | 53/0.3595/3.90625e-05 | 54/0.3565/3.90625e-05 | 55/0.3565/3.90625e-05 | 56/0.3535/3.90625e-05 | 57/0.3535/3.90625e-05 | 58/0.3535/3.90625e-05 | 59/0.3535/1.953125e-05 | 60/0.3535/1.953125e-05 | 61/0.3535/1.953125e-05 | 62/0.3535/1.953125e-05 | 63/0.3535/1.953125e-05 | 64/0.3565/1.953125e-05 | 65/0.3565/9.765625e-06 | 66/0.3595/9.765625e-06 | 67/0.3595/9.765625e-06 | 68/0.3595/9.765625e-06 | 69/0.3595/9.765625e-06 | 70/0.3595/9.765625e-06 | 71/0.3595/4.8828125e-06 | 72/0.3565/4.8828125e-06 | 73/0.3565/4.8828125e-06 | 74/0.3565/4.8828125e-06 | 75/0.3595/4.8828125e-06 | 76/0.3565/4.8828125e-06 | 77/0.3565/2.44140625e-06 | 78/0.3595/2.44140625e-06 | 79/0.3565/2.44140625e-06 | 80/0.3565/2.44140625e-06 | 81/0.3565/2.44140625e-06 | 82/0.3565/2.44140625e-06 | 83/0.3565/1.220703125e-06 | 84/0.3565/1.220703125e-06 | 85/0.3565/1.220703125e-06 | 86/0.3565/1.220703125e-06 | 87/0.3535/1.220703125e-06 | 88/0.3535/1.220703125e-06 | 89/0.3535/6.103515625e-07 | Accuracy: 0.2917\n",
      "Evaluating nci109 dataset using graph_order method with a percentile of 50 against class members\n",
      "Epoch/val accuracy/lr: "
     ]
    },
    {
     "name": "stderr",
     "output_type": "stream",
     "text": [
      "/opt/conda/lib/python3.10/site-packages/torch_geometric/deprecation.py:26: UserWarning: 'data.DataLoader' is deprecated, use 'loader.DataLoader' instead\n",
      "  warnings.warn(out)\n"
     ]
    },
    {
     "name": "stdout",
     "output_type": "stream",
     "text": [
      "1/0.4915/0.01 | 2/0.4915/0.01 | 3/0.4915/0.01 | 4/0.4915/0.01 | 5/0.3729/0.01 | 6/0.0000/0.01 | 7/0.0000/0.01 | 8/0.0000/0.01 | 9/0.0000/0.01 | 10/0.0000/0.01 | 11/0.0000/0.01 | 12/0.0000/0.01 | 13/0.0000/0.005 | 14/0.0000/0.005 | 15/0.0000/0.005 | 16/0.0000/0.005 | 17/0.0000/0.005 | 18/0.0000/0.005 | 19/0.0000/0.0025 | 20/0.0000/0.0025 | 21/0.0000/0.0025 | 22/0.0000/0.0025 | 23/0.0000/0.0025 | 24/0.0000/0.0025 | 25/0.0000/0.00125 | 26/0.0000/0.00125 | 27/0.0000/0.00125 | 28/0.0000/0.00125 | 29/0.0000/0.00125 | 30/0.0000/0.00125 | 31/0.0000/0.000625 | 32/0.0000/0.000625 | 33/0.0000/0.000625 | 34/0.0000/0.000625 | 35/0.0000/0.000625 | 36/0.0000/0.000625 | 37/0.0000/0.0003125 | 38/0.0000/0.0003125 | 39/0.0000/0.0003125 | 40/0.0000/0.0003125 | 41/0.0000/0.0003125 | 42/0.0000/0.0003125 | 43/0.0000/0.00015625 | 44/0.0073/0.00015625 | 45/0.0073/0.00015625 | 46/0.0218/0.00015625 | 47/0.0242/0.00015625 | 48/0.0291/0.00015625 | 49/0.0339/7.8125e-05 | 50/0.0339/7.8125e-05 | 51/0.0412/7.8125e-05 | 52/0.0533/7.8125e-05 | 53/0.0605/7.8125e-05 | 54/0.0751/7.8125e-05 | 55/0.0847/3.90625e-05 | 56/0.0944/3.90625e-05 | 57/0.1017/3.90625e-05 | 58/0.1235/3.90625e-05 | 59/0.1453/3.90625e-05 | 60/0.1646/3.90625e-05 | 61/0.1840/1.953125e-05 | 62/0.2034/1.953125e-05 | 63/0.2131/1.953125e-05 | 64/0.2324/1.953125e-05 | 65/0.2542/1.953125e-05 | 66/0.2615/1.953125e-05 | 67/0.2712/9.765625e-06 | 68/0.2809/9.765625e-06 | 69/0.2978/9.765625e-06 | 70/0.3027/9.765625e-06 | 71/0.3099/9.765625e-06 | 72/0.3172/9.765625e-06 | 73/0.3245/4.8828125e-06 | 74/0.3269/4.8828125e-06 | 75/0.3293/4.8828125e-06 | 76/0.3245/4.8828125e-06 | 77/0.3245/4.8828125e-06 | 78/0.3269/4.8828125e-06 | 79/0.3269/2.44140625e-06 | 80/0.3366/2.44140625e-06 | 81/0.3341/2.44140625e-06 | 82/0.3414/2.44140625e-06 | 83/0.3414/2.44140625e-06 | 84/0.3414/2.44140625e-06 | 85/0.3438/1.220703125e-06 | 86/0.3438/1.220703125e-06 | 87/0.3438/1.220703125e-06 | 88/0.3462/1.220703125e-06 | 89/0.3487/1.220703125e-06 | 90/0.3487/1.220703125e-06 | 91/0.3511/6.103515625e-07 | Accuracy: 0.3093\n",
      "Evaluating nci109 dataset using graph_order method with a percentile of 60 against class members\n",
      "Epoch/val accuracy/lr: "
     ]
    },
    {
     "name": "stderr",
     "output_type": "stream",
     "text": [
      "/opt/conda/lib/python3.10/site-packages/torch_geometric/deprecation.py:26: UserWarning: 'data.DataLoader' is deprecated, use 'loader.DataLoader' instead\n",
      "  warnings.warn(out)\n"
     ]
    },
    {
     "name": "stdout",
     "output_type": "stream",
     "text": [
      "1/0.0000/0.01 | 2/0.3810/0.01 | 3/0.5040/0.01 | 4/0.0060/0.01 | 5/0.0000/0.01 | 6/0.0000/0.01 | 7/0.4980/0.01 | 8/0.4738/0.005 | 9/0.1331/0.005 | 10/0.0000/0.005 | 11/0.0000/0.005 | 12/0.0000/0.005 | 13/0.0040/0.005 | 14/0.0020/0.0025 | 15/0.0020/0.0025 | 16/0.0040/0.0025 | 17/0.0101/0.0025 | 18/0.0403/0.0025 | 19/0.0544/0.0025 | 20/0.0544/0.00125 | 21/0.0565/0.00125 | 22/0.0766/0.00125 | 23/0.0887/0.00125 | 24/0.0847/0.00125 | 25/0.0726/0.00125 | 26/0.0403/0.000625 | 27/0.0202/0.000625 | 28/0.0141/0.000625 | 29/0.0121/0.000625 | 30/0.0060/0.000625 | 31/0.0040/0.000625 | 32/0.0060/0.0003125 | 33/0.0060/0.0003125 | 34/0.0060/0.0003125 | 35/0.0081/0.0003125 | 36/0.0121/0.0003125 | 37/0.0121/0.0003125 | 38/0.0181/0.00015625 | 39/0.0202/0.00015625 | 40/0.0202/0.00015625 | 41/0.0323/0.00015625 | 42/0.0323/0.00015625 | 43/0.0363/0.00015625 | 44/0.0403/7.8125e-05 | 45/0.0524/7.8125e-05 | 46/0.0544/7.8125e-05 | 47/0.0625/7.8125e-05 | 48/0.0685/7.8125e-05 | 49/0.0806/7.8125e-05 | 50/0.1028/3.90625e-05 | 51/0.1190/3.90625e-05 | 52/0.1290/3.90625e-05 | 53/0.1310/3.90625e-05 | 54/0.1552/3.90625e-05 | 55/0.1653/3.90625e-05 | 56/0.1855/1.953125e-05 | 57/0.2097/1.953125e-05 | 58/0.2319/1.953125e-05 | 59/0.2460/1.953125e-05 | 60/0.2601/1.953125e-05 | 61/0.2702/1.953125e-05 | 62/0.2802/9.765625e-06 | 63/0.2802/9.765625e-06 | 64/0.2883/9.765625e-06 | 65/0.3004/9.765625e-06 | 66/0.3024/9.765625e-06 | 67/0.3065/9.765625e-06 | 68/0.3105/4.8828125e-06 | 69/0.3125/4.8828125e-06 | 70/0.3125/4.8828125e-06 | 71/0.3145/4.8828125e-06 | 72/0.3145/4.8828125e-06 | 73/0.3165/4.8828125e-06 | 74/0.3145/2.44140625e-06 | 75/0.3165/2.44140625e-06 | 76/0.3165/2.44140625e-06 | 77/0.3165/2.44140625e-06 | 78/0.3165/2.44140625e-06 | 79/0.3145/2.44140625e-06 | 80/0.3206/1.220703125e-06 | 81/0.3206/1.220703125e-06 | 82/0.3206/1.220703125e-06 | 83/0.3185/1.220703125e-06 | 84/0.3206/1.220703125e-06 | 85/0.3246/1.220703125e-06 | 86/0.3246/6.103515625e-07 | Accuracy: 0.3406\n",
      "Evaluating nci109 dataset using graph_order method with a percentile of 70 against class members\n",
      "Epoch/val accuracy/lr: "
     ]
    },
    {
     "name": "stderr",
     "output_type": "stream",
     "text": [
      "/opt/conda/lib/python3.10/site-packages/torch_geometric/deprecation.py:26: UserWarning: 'data.DataLoader' is deprecated, use 'loader.DataLoader' instead\n",
      "  warnings.warn(out)\n"
     ]
    },
    {
     "name": "stdout",
     "output_type": "stream",
     "text": [
      "1/0.0000/0.01 | 2/0.4792/0.01 | 3/0.4810/0.01 | 4/0.2734/0.01 | 5/0.0156/0.01 | 6/0.0000/0.01 | 7/0.0000/0.01 | 8/0.0000/0.005 | 9/0.0000/0.005 | 10/0.0000/0.005 | 11/0.0000/0.005 | 12/0.0000/0.005 | 13/0.0000/0.005 | 14/0.0000/0.0025 | 15/0.0000/0.0025 | 16/0.0000/0.0025 | 17/0.0000/0.0025 | 18/0.0000/0.0025 | 19/0.0000/0.0025 | 20/0.0000/0.00125 | 21/0.0000/0.00125 | 22/0.0000/0.00125 | 23/0.0000/0.00125 | 24/0.0000/0.00125 | 25/0.0000/0.00125 | 26/0.0000/0.000625 | 27/0.0000/0.000625 | 28/0.0000/0.000625 | 29/0.0000/0.000625 | 30/0.0000/0.000625 | 31/0.0000/0.000625 | 32/0.0000/0.0003125 | 33/0.0000/0.0003125 | 34/0.0000/0.0003125 | 35/0.0000/0.0003125 | 36/0.0000/0.0003125 | 37/0.0000/0.0003125 | 38/0.0000/0.00015625 | 39/0.0000/0.00015625 | 40/0.0000/0.00015625 | 41/0.0000/0.00015625 | 42/0.0000/0.00015625 | 43/0.0000/0.00015625 | 44/0.0017/7.8125e-05 | 45/0.0121/7.8125e-05 | 46/0.0277/7.8125e-05 | 47/0.0415/7.8125e-05 | 48/0.0519/7.8125e-05 | 49/0.0588/7.8125e-05 | 50/0.0813/3.90625e-05 | 51/0.0900/3.90625e-05 | 52/0.1055/3.90625e-05 | 53/0.1142/3.90625e-05 | 54/0.1280/3.90625e-05 | 55/0.1488/3.90625e-05 | 56/0.1609/1.953125e-05 | 57/0.1713/1.953125e-05 | 58/0.1851/1.953125e-05 | 59/0.1990/1.953125e-05 | 60/0.2076/1.953125e-05 | 61/0.2215/1.953125e-05 | 62/0.2353/9.765625e-06 | 63/0.2491/9.765625e-06 | 64/0.2561/9.765625e-06 | 65/0.2664/9.765625e-06 | 66/0.2699/9.765625e-06 | 67/0.2785/9.765625e-06 | 68/0.2837/4.8828125e-06 | 69/0.2855/4.8828125e-06 | 70/0.2855/4.8828125e-06 | 71/0.2993/4.8828125e-06 | 72/0.3062/4.8828125e-06 | 73/0.3062/4.8828125e-06 | 74/0.3080/2.44140625e-06 | 75/0.3097/2.44140625e-06 | 76/0.3097/2.44140625e-06 | 77/0.3114/2.44140625e-06 | 78/0.3114/2.44140625e-06 | 79/0.3114/2.44140625e-06 | 80/0.3131/1.220703125e-06 | 81/0.3131/1.220703125e-06 | 82/0.3131/1.220703125e-06 | 83/0.3131/1.220703125e-06 | 84/0.3183/1.220703125e-06 | 85/0.3166/1.220703125e-06 | 86/0.3131/6.103515625e-07 | Accuracy: 0.2983\n",
      "Evaluating nci109 dataset using graph_order method with a percentile of 80 against class members\n",
      "Epoch/val accuracy/lr: "
     ]
    },
    {
     "name": "stderr",
     "output_type": "stream",
     "text": [
      "/opt/conda/lib/python3.10/site-packages/torch_geometric/deprecation.py:26: UserWarning: 'data.DataLoader' is deprecated, use 'loader.DataLoader' instead\n",
      "  warnings.warn(out)\n"
     ]
    },
    {
     "name": "stdout",
     "output_type": "stream",
     "text": [
      "1/0.4418/0.01 | 2/0.4675/0.01 | 3/0.0000/0.01 | 4/0.4750/0.01 | 5/0.5068/0.01 | 6/0.5023/0.01 | 7/0.3313/0.01 | 8/0.4962/0.01 | 9/0.5068/0.01 | 10/0.5068/0.005 | 11/0.5068/0.005 | 12/0.5068/0.005 | 13/0.5053/0.005 | 14/0.4977/0.005 | 15/0.4554/0.005 | 16/0.3646/0.0025 | 17/0.2224/0.0025 | 18/0.0832/0.0025 | 19/0.0363/0.0025 | 20/0.0121/0.0025 | 21/0.0061/0.0025 | 22/0.0030/0.00125 | 23/0.0000/0.00125 | 24/0.0000/0.00125 | 25/0.0000/0.00125 | 26/0.0015/0.00125 | 27/0.0000/0.00125 | 28/0.0000/0.000625 | 29/0.0015/0.000625 | 30/0.0015/0.000625 | 31/0.0015/0.000625 | 32/0.0015/0.000625 | 33/0.0030/0.000625 | 34/0.0076/0.0003125 | 35/0.0076/0.0003125 | 36/0.0106/0.0003125 | 37/0.0166/0.0003125 | 38/0.0227/0.0003125 | 39/0.0408/0.0003125 | 40/0.0514/0.00015625 | 41/0.0741/0.00015625 | 42/0.0862/0.00015625 | 43/0.0983/0.00015625 | 44/0.1120/0.00015625 | 45/0.1256/0.00015625 | 46/0.1407/7.8125e-05 | 47/0.1558/7.8125e-05 | 48/0.1725/7.8125e-05 | 49/0.1906/7.8125e-05 | 50/0.2073/7.8125e-05 | 51/0.2194/7.8125e-05 | 52/0.2300/3.90625e-05 | 53/0.2390/3.90625e-05 | 54/0.2421/3.90625e-05 | 55/0.2572/3.90625e-05 | 56/0.2648/3.90625e-05 | 57/0.2663/3.90625e-05 | 58/0.2708/1.953125e-05 | 59/0.2738/1.953125e-05 | 60/0.2784/1.953125e-05 | 61/0.2844/1.953125e-05 | 62/0.2905/1.953125e-05 | 63/0.2950/1.953125e-05 | 64/0.2950/9.765625e-06 | 65/0.3011/9.765625e-06 | 66/0.3011/9.765625e-06 | 67/0.3011/9.765625e-06 | 68/0.3071/9.765625e-06 | 69/0.3132/9.765625e-06 | 70/0.3116/4.8828125e-06 | 71/0.3132/4.8828125e-06 | 72/0.3162/4.8828125e-06 | 73/0.3207/4.8828125e-06 | 74/0.3238/4.8828125e-06 | 75/0.3238/4.8828125e-06 | 76/0.3253/2.44140625e-06 | 77/0.3253/2.44140625e-06 | 78/0.3253/2.44140625e-06 | 79/0.3313/2.44140625e-06 | 80/0.3298/2.44140625e-06 | 81/0.3298/2.44140625e-06 | 82/0.3283/1.220703125e-06 | 83/0.3313/1.220703125e-06 | 84/0.3283/1.220703125e-06 | 85/0.3283/1.220703125e-06 | 86/0.3283/1.220703125e-06 | 87/0.3328/1.220703125e-06 | 88/0.3313/6.103515625e-07 | Accuracy: 0.3143\n",
      "Evaluating nci109 dataset using graph_order method with a percentile of 90 against class members\n",
      "Epoch/val accuracy/lr: "
     ]
    },
    {
     "name": "stderr",
     "output_type": "stream",
     "text": [
      "/opt/conda/lib/python3.10/site-packages/torch_geometric/deprecation.py:26: UserWarning: 'data.DataLoader' is deprecated, use 'loader.DataLoader' instead\n",
      "  warnings.warn(out)\n"
     ]
    },
    {
     "name": "stdout",
     "output_type": "stream",
     "text": [
      "1/0.0000/0.01 | 2/0.0000/0.01 | 3/0.0067/0.01 | 4/0.0565/0.01 | 5/0.5081/0.01 | 6/0.5081/0.01 | 7/0.5081/0.01 | 8/0.5081/0.005 | 9/0.3965/0.005 | 10/0.3360/0.005 | 11/0.4126/0.005 | 12/0.4315/0.005 | 13/0.4462/0.005 | 14/0.4247/0.0025 | 15/0.3884/0.0025 | 16/0.3266/0.0025 | 17/0.2527/0.0025 | 18/0.1909/0.0025 | 19/0.1317/0.0025 | 20/0.1169/0.00125 | 21/0.1022/0.00125 | 22/0.0927/0.00125 | 23/0.0874/0.00125 | 24/0.0860/0.00125 | 25/0.0860/0.00125 | 26/0.0780/0.000625 | 27/0.0645/0.000625 | 28/0.0591/0.000625 | 29/0.0591/0.000625 | 30/0.0524/0.000625 | 31/0.0403/0.000625 | 32/0.0390/0.0003125 | 33/0.0430/0.0003125 | 34/0.0390/0.0003125 | 35/0.0403/0.0003125 | 36/0.0417/0.0003125 | 37/0.0363/0.0003125 | 38/0.0376/0.00015625 | 39/0.0457/0.00015625 | 40/0.0538/0.00015625 | 41/0.0699/0.00015625 | 42/0.0820/0.00015625 | 43/0.0941/0.00015625 | 44/0.1048/7.8125e-05 | 45/0.1183/7.8125e-05 | 46/0.1384/7.8125e-05 | 47/0.1505/7.8125e-05 | 48/0.1774/7.8125e-05 | 49/0.1855/7.8125e-05 | 50/0.1976/3.90625e-05 | 51/0.2056/3.90625e-05 | 52/0.2191/3.90625e-05 | 53/0.2218/3.90625e-05 | 54/0.2272/3.90625e-05 | 55/0.2392/3.90625e-05 | 56/0.2487/1.953125e-05 | 57/0.2540/1.953125e-05 | 58/0.2648/1.953125e-05 | 59/0.2742/1.953125e-05 | 60/0.2796/1.953125e-05 | 61/0.2796/1.953125e-05 | 62/0.2863/9.765625e-06 | 63/0.2917/9.765625e-06 | 64/0.2917/9.765625e-06 | 65/0.2957/9.765625e-06 | 66/0.2984/9.765625e-06 | 67/0.3065/9.765625e-06 | 68/0.3078/4.8828125e-06 | 69/0.3078/4.8828125e-06 | 70/0.3105/4.8828125e-06 | 71/0.3199/4.8828125e-06 | 72/0.3199/4.8828125e-06 | 73/0.3199/4.8828125e-06 | 74/0.3199/2.44140625e-06 | 75/0.3199/2.44140625e-06 | 76/0.3212/2.44140625e-06 | 77/0.3239/2.44140625e-06 | 78/0.3199/2.44140625e-06 | 79/0.3253/2.44140625e-06 | 80/0.3253/1.220703125e-06 | 81/0.3239/1.220703125e-06 | 82/0.3253/1.220703125e-06 | 83/0.3266/1.220703125e-06 | 84/0.3253/1.220703125e-06 | 85/0.3293/1.220703125e-06 | 86/0.3306/6.103515625e-07 | Accuracy: 0.3625\n",
      "Evaluating nci109 dataset using cos_sim method with a percentile of 40 against class members\n",
      "Epoch/val accuracy/lr: "
     ]
    },
    {
     "name": "stderr",
     "output_type": "stream",
     "text": [
      "/opt/conda/lib/python3.10/site-packages/torch_geometric/deprecation.py:26: UserWarning: 'data.DataLoader' is deprecated, use 'loader.DataLoader' instead\n",
      "  warnings.warn(out)\n"
     ]
    },
    {
     "name": "stdout",
     "output_type": "stream",
     "text": [
      "1/0.0000/0.01 | 2/0.4985/0.01 | 3/0.5015/0.01 | 4/0.5015/0.01 | 5/0.5015/0.01 | 6/0.5015/0.01 | 7/0.5015/0.01 | 8/0.5015/0.005 | 9/0.5015/0.005 | 10/0.5015/0.005 | 11/0.4985/0.005 | 12/0.4985/0.005 | 13/0.4864/0.005 | 14/0.4804/0.0025 | 15/0.4743/0.0025 | 16/0.4743/0.0025 | 17/0.4713/0.0025 | 18/0.4713/0.0025 | 19/0.4532/0.0025 | 20/0.4441/0.00125 | 21/0.4199/0.00125 | 22/0.3807/0.00125 | 23/0.3505/0.00125 | 24/0.3414/0.00125 | 25/0.3263/0.00125 | 26/0.3142/0.000625 | 27/0.3021/0.000625 | 28/0.2931/0.000625 | 29/0.2810/0.000625 | 30/0.2598/0.000625 | 31/0.2326/0.000625 | 32/0.2296/0.0003125 | 33/0.2326/0.0003125 | 34/0.2145/0.0003125 | 35/0.2205/0.0003125 | 36/0.2296/0.0003125 | 37/0.2356/0.0003125 | 38/0.2568/0.00015625 | 39/0.2598/0.00015625 | 40/0.2659/0.00015625 | 41/0.2779/0.00015625 | 42/0.2840/0.00015625 | 43/0.2900/0.00015625 | 44/0.2931/7.8125e-05 | 45/0.2991/7.8125e-05 | 46/0.3051/7.8125e-05 | 47/0.3051/7.8125e-05 | 48/0.3112/7.8125e-05 | 49/0.3142/7.8125e-05 | 50/0.3172/3.90625e-05 | 51/0.3233/3.90625e-05 | 52/0.3293/3.90625e-05 | 53/0.3293/3.90625e-05 | 54/0.3353/3.90625e-05 | 55/0.3353/3.90625e-05 | 56/0.3353/1.953125e-05 | 57/0.3293/1.953125e-05 | 58/0.3323/1.953125e-05 | 59/0.3323/1.953125e-05 | 60/0.3323/1.953125e-05 | 61/0.3323/1.953125e-05 | 62/0.3323/9.765625e-06 | 63/0.3384/9.765625e-06 | 64/0.3414/9.765625e-06 | 65/0.3384/9.765625e-06 | 66/0.3414/9.765625e-06 | 67/0.3353/9.765625e-06 | 68/0.3293/4.8828125e-06 | 69/0.3293/4.8828125e-06 | 70/0.3263/4.8828125e-06 | 71/0.3233/4.8828125e-06 | 72/0.3233/4.8828125e-06 | 73/0.3263/4.8828125e-06 | 74/0.3384/2.44140625e-06 | 75/0.3414/2.44140625e-06 | 76/0.3414/2.44140625e-06 | 77/0.3414/2.44140625e-06 | 78/0.3414/2.44140625e-06 | 79/0.3384/2.44140625e-06 | 80/0.3384/1.220703125e-06 | 81/0.3384/1.220703125e-06 | 82/0.3384/1.220703125e-06 | 83/0.3384/1.220703125e-06 | 84/0.3384/1.220703125e-06 | 85/0.3353/1.220703125e-06 | 86/0.3353/6.103515625e-07 | Accuracy: 0.3446\n",
      "Evaluating nci109 dataset using cos_sim method with a percentile of 50 against class members\n",
      "Epoch/val accuracy/lr: "
     ]
    },
    {
     "name": "stderr",
     "output_type": "stream",
     "text": [
      "/opt/conda/lib/python3.10/site-packages/torch_geometric/deprecation.py:26: UserWarning: 'data.DataLoader' is deprecated, use 'loader.DataLoader' instead\n",
      "  warnings.warn(out)\n"
     ]
    },
    {
     "name": "stdout",
     "output_type": "stream",
     "text": [
      "1/0.5230/0.01 | 2/0.5230/0.01 | 3/0.5230/0.01 | 4/0.5230/0.01 | 5/0.5230/0.01 | 6/0.5230/0.01 | 7/0.5230/0.01 | 8/0.5206/0.005 | 9/0.5206/0.005 | 10/0.5206/0.005 | 11/0.5206/0.005 | 12/0.5206/0.005 | 13/0.5206/0.005 | 14/0.5157/0.005 | 15/0.5133/0.005 | 16/0.5109/0.005 | 17/0.5109/0.005 | 18/0.5085/0.005 | 19/0.5085/0.005 | 20/0.4988/0.005 | 21/0.4891/0.005 | 22/0.4867/0.005 | 23/0.4843/0.005 | 24/0.4794/0.005 | 25/0.4600/0.005 | 26/0.4479/0.005 | 27/0.4358/0.005 | 28/0.4334/0.005 | 29/0.4213/0.005 | 30/0.3850/0.005 | 31/0.3245/0.005 | 32/0.3462/0.005 | 33/0.3753/0.005 | 34/0.3947/0.005 | 35/0.4092/0.005 | 36/0.4213/0.005 | 37/0.4189/0.005 | 38/0.4068/0.0025 | 39/0.3608/0.0025 | 40/0.2857/0.0025 | 41/0.2446/0.0025 | 42/0.2373/0.0025 | 43/0.2252/0.0025 | 44/0.2373/0.0025 | 45/0.2446/0.0025 | 46/0.2663/0.0025 | 47/0.2760/0.0025 | 48/0.3123/0.0025 | 49/0.3487/0.0025 | 50/0.3584/0.00125 | 51/0.3535/0.00125 | 52/0.3487/0.00125 | 53/0.3584/0.00125 | 54/0.3656/0.00125 | 55/0.3656/0.00125 | 56/0.3680/0.000625 | 57/0.3656/0.000625 | 58/0.3656/0.000625 | 59/0.3729/0.000625 | 60/0.3729/0.000625 | 61/0.3729/0.000625 | 62/0.3680/0.0003125 | 63/0.3462/0.0003125 | 64/0.3414/0.0003125 | 65/0.3414/0.0003125 | 66/0.3414/0.0003125 | 67/0.3535/0.0003125 | 68/0.3584/0.00015625 | 69/0.3608/0.00015625 | 70/0.3632/0.00015625 | 71/0.3632/0.00015625 | 72/0.3608/0.00015625 | 73/0.3656/0.00015625 | 74/0.3680/7.8125e-05 | 75/0.3705/7.8125e-05 | 76/0.3705/7.8125e-05 | 77/0.3729/7.8125e-05 | 78/0.3729/7.8125e-05 | 79/0.3680/7.8125e-05 | 80/0.3680/3.90625e-05 | 81/0.3705/3.90625e-05 | 82/0.3705/3.90625e-05 | 83/0.3705/3.90625e-05 | 84/0.3705/3.90625e-05 | 85/0.3705/3.90625e-05 | 86/0.3680/1.953125e-05 | 87/0.3705/1.953125e-05 | 88/0.3705/1.953125e-05 | 89/0.3705/1.953125e-05 | 90/0.3705/1.953125e-05 | 91/0.3705/1.953125e-05 | 92/0.3705/9.765625e-06 | 93/0.3705/9.765625e-06 | 94/0.3729/9.765625e-06 | 95/0.3729/9.765625e-06 | 96/0.3729/9.765625e-06 | 97/0.3729/9.765625e-06 | 98/0.3729/4.8828125e-06 | 99/0.3705/4.8828125e-06 | 100/0.3729/4.8828125e-06 | 101/0.3705/4.8828125e-06 | 102/0.3705/4.8828125e-06 | 103/0.3705/4.8828125e-06 | 104/0.3729/2.44140625e-06 | 105/0.3705/2.44140625e-06 | 106/0.3705/2.44140625e-06 | 107/0.3680/2.44140625e-06 | 108/0.3705/2.44140625e-06 | 109/0.3705/2.44140625e-06 | 110/0.3705/1.220703125e-06 | 111/0.3705/1.220703125e-06 | 112/0.3705/1.220703125e-06 | 113/0.3705/1.220703125e-06 | 114/0.3729/1.220703125e-06 | 115/0.3753/1.220703125e-06 | 116/0.3729/6.103515625e-07 | Accuracy: 0.3160\n",
      "Evaluating nci109 dataset using cos_sim method with a percentile of 60 against class members\n",
      "Epoch/val accuracy/lr: "
     ]
    },
    {
     "name": "stderr",
     "output_type": "stream",
     "text": [
      "/opt/conda/lib/python3.10/site-packages/torch_geometric/deprecation.py:26: UserWarning: 'data.DataLoader' is deprecated, use 'loader.DataLoader' instead\n",
      "  warnings.warn(out)\n"
     ]
    },
    {
     "name": "stdout",
     "output_type": "stream",
     "text": [
      "1/0.4919/0.01 | 2/0.4919/0.01 | 3/0.4919/0.01 | 4/0.4919/0.01 | 5/0.4919/0.01 | 6/0.4919/0.01 | 7/0.4919/0.01 | 8/0.4919/0.005 | 9/0.4052/0.005 | 10/0.2339/0.005 | 11/0.0141/0.005 | 12/0.0000/0.005 | 13/0.0262/0.005 | 14/0.1895/0.005 | 15/0.2520/0.005 | 16/0.2641/0.005 | 17/0.3407/0.005 | 18/0.3931/0.005 | 19/0.3911/0.0025 | 20/0.3851/0.0025 | 21/0.3831/0.0025 | 22/0.3508/0.0025 | 23/0.3226/0.0025 | 24/0.2984/0.0025 | 25/0.2722/0.00125 | 26/0.2419/0.00125 | 27/0.2238/0.00125 | 28/0.2117/0.00125 | 29/0.2117/0.00125 | 30/0.2117/0.00125 | 31/0.2077/0.000625 | 32/0.2077/0.000625 | 33/0.2077/0.000625 | 34/0.2056/0.000625 | 35/0.1996/0.000625 | 36/0.1976/0.000625 | 37/0.1935/0.0003125 | 38/0.1935/0.0003125 | 39/0.1915/0.0003125 | 40/0.1915/0.0003125 | 41/0.1915/0.0003125 | 42/0.1935/0.0003125 | 43/0.1956/0.00015625 | 44/0.2016/0.00015625 | 45/0.2016/0.00015625 | 46/0.2036/0.00015625 | 47/0.2056/0.00015625 | 48/0.2137/0.00015625 | 49/0.2258/7.8125e-05 | 50/0.2359/7.8125e-05 | 51/0.2399/7.8125e-05 | 52/0.2480/7.8125e-05 | 53/0.2581/7.8125e-05 | 54/0.2621/7.8125e-05 | 55/0.2681/3.90625e-05 | 56/0.2802/3.90625e-05 | 57/0.2923/3.90625e-05 | 58/0.3004/3.90625e-05 | 59/0.3105/3.90625e-05 | 60/0.3125/3.90625e-05 | 61/0.3185/1.953125e-05 | 62/0.3165/1.953125e-05 | 63/0.3226/1.953125e-05 | 64/0.3266/1.953125e-05 | 65/0.3306/1.953125e-05 | 66/0.3367/1.953125e-05 | 67/0.3367/9.765625e-06 | 68/0.3407/9.765625e-06 | 69/0.3488/9.765625e-06 | 70/0.3548/9.765625e-06 | 71/0.3548/9.765625e-06 | 72/0.3528/9.765625e-06 | 73/0.3528/4.8828125e-06 | 74/0.3528/4.8828125e-06 | 75/0.3508/4.8828125e-06 | 76/0.3528/4.8828125e-06 | 77/0.3528/4.8828125e-06 | 78/0.3508/4.8828125e-06 | 79/0.3528/2.44140625e-06 | 80/0.3569/2.44140625e-06 | 81/0.3569/2.44140625e-06 | 82/0.3569/2.44140625e-06 | 83/0.3569/2.44140625e-06 | 84/0.3569/2.44140625e-06 | 85/0.3569/1.220703125e-06 | 86/0.3569/1.220703125e-06 | 87/0.3569/1.220703125e-06 | 88/0.3569/1.220703125e-06 | 89/0.3569/1.220703125e-06 | 90/0.3569/1.220703125e-06 | 91/0.3569/6.103515625e-07 | Accuracy: 0.3224\n",
      "Evaluating nci109 dataset using cos_sim method with a percentile of 70 against class members\n",
      "Epoch/val accuracy/lr: "
     ]
    },
    {
     "name": "stderr",
     "output_type": "stream",
     "text": [
      "/opt/conda/lib/python3.10/site-packages/torch_geometric/deprecation.py:26: UserWarning: 'data.DataLoader' is deprecated, use 'loader.DataLoader' instead\n",
      "  warnings.warn(out)\n"
     ]
    },
    {
     "name": "stdout",
     "output_type": "stream",
     "text": [
      "1/0.4931/0.01 | 2/0.4931/0.01 | 3/0.4931/0.01 | 4/0.4931/0.01 | 5/0.4931/0.01 | 6/0.4862/0.01 | 7/0.4844/0.01 | 8/0.4758/0.01 | 9/0.4844/0.01 | 10/0.4862/0.01 | 11/0.3201/0.01 | 12/0.0000/0.01 | 13/0.0000/0.01 | 14/0.0000/0.01 | 15/0.0000/0.01 | 16/0.0000/0.01 | 17/0.0796/0.01 | 18/0.4550/0.01 | 19/0.4412/0.005 | 20/0.3633/0.005 | 21/0.2318/0.005 | 22/0.0952/0.005 | 23/0.0640/0.005 | 24/0.0346/0.005 | 25/0.0173/0.0025 | 26/0.0208/0.0025 | 27/0.0588/0.0025 | 28/0.1453/0.0025 | 29/0.2509/0.0025 | 30/0.2751/0.0025 | 31/0.2716/0.00125 | 32/0.2526/0.00125 | 33/0.1851/0.00125 | 34/0.1090/0.00125 | 35/0.0657/0.00125 | 36/0.0346/0.00125 | 37/0.0363/0.000625 | 38/0.0433/0.000625 | 39/0.0640/0.000625 | 40/0.0813/0.000625 | 41/0.0917/0.000625 | 42/0.0986/0.000625 | 43/0.1090/0.0003125 | 44/0.1298/0.0003125 | 45/0.1419/0.0003125 | 46/0.1574/0.0003125 | 47/0.1696/0.0003125 | 48/0.1851/0.0003125 | 49/0.1938/0.00015625 | 50/0.1990/0.00015625 | 51/0.2111/0.00015625 | 52/0.2145/0.00015625 | 53/0.2180/0.00015625 | 54/0.2284/0.00015625 | 55/0.2405/7.8125e-05 | 56/0.2491/7.8125e-05 | 57/0.2526/7.8125e-05 | 58/0.2543/7.8125e-05 | 59/0.2647/7.8125e-05 | 60/0.2664/7.8125e-05 | 61/0.2699/3.90625e-05 | 62/0.2699/3.90625e-05 | 63/0.2734/3.90625e-05 | 64/0.2820/3.90625e-05 | 65/0.2872/3.90625e-05 | 66/0.2958/3.90625e-05 | 67/0.2993/1.953125e-05 | 68/0.3028/1.953125e-05 | 69/0.3062/1.953125e-05 | 70/0.3080/1.953125e-05 | 71/0.3045/1.953125e-05 | 72/0.3045/1.953125e-05 | 73/0.3080/9.765625e-06 | 74/0.3062/9.765625e-06 | 75/0.3062/9.765625e-06 | 76/0.3080/9.765625e-06 | 77/0.3097/9.765625e-06 | 78/0.3080/9.765625e-06 | 79/0.3114/4.8828125e-06 | 80/0.3183/4.8828125e-06 | 81/0.3183/4.8828125e-06 | 82/0.3235/4.8828125e-06 | 83/0.3235/4.8828125e-06 | 84/0.3253/4.8828125e-06 | 85/0.3270/2.44140625e-06 | 86/0.3270/2.44140625e-06 | 87/0.3304/2.44140625e-06 | 88/0.3304/2.44140625e-06 | 89/0.3287/2.44140625e-06 | 90/0.3287/2.44140625e-06 | 91/0.3253/1.220703125e-06 | 92/0.3270/1.220703125e-06 | 93/0.3270/1.220703125e-06 | 94/0.3235/1.220703125e-06 | 95/0.3270/1.220703125e-06 | 96/0.3253/1.220703125e-06 | 97/0.3270/6.103515625e-07 | Accuracy: 0.3137\n",
      "Evaluating nci109 dataset using cos_sim method with a percentile of 80 against class members\n",
      "Epoch/val accuracy/lr: "
     ]
    },
    {
     "name": "stderr",
     "output_type": "stream",
     "text": [
      "/opt/conda/lib/python3.10/site-packages/torch_geometric/deprecation.py:26: UserWarning: 'data.DataLoader' is deprecated, use 'loader.DataLoader' instead\n",
      "  warnings.warn(out)\n"
     ]
    },
    {
     "name": "stdout",
     "output_type": "stream",
     "text": [
      "1/0.0000/0.01 | 2/0.0000/0.01 | 3/0.5129/0.01 | 4/0.5129/0.01 | 5/0.1422/0.01 | 6/0.0000/0.01 | 7/0.0348/0.01 | 8/0.1301/0.005 | 9/0.3570/0.005 | 10/0.4992/0.005 | 11/0.5129/0.005 | 12/0.5098/0.005 | 13/0.4917/0.005 | 14/0.4614/0.0025 | 15/0.2935/0.0025 | 16/0.0862/0.0025 | 17/0.0030/0.0025 | 18/0.0000/0.0025 | 19/0.0000/0.0025 | 20/0.0000/0.00125 | 21/0.0000/0.00125 | 22/0.0000/0.00125 | 23/0.0015/0.00125 | 24/0.0030/0.00125 | 25/0.0136/0.00125 | 26/0.0212/0.000625 | 27/0.0242/0.000625 | 28/0.0318/0.000625 | 29/0.0424/0.000625 | 30/0.0484/0.000625 | 31/0.0530/0.000625 | 32/0.0545/0.0003125 | 33/0.0560/0.0003125 | 34/0.0575/0.0003125 | 35/0.0575/0.0003125 | 36/0.0605/0.0003125 | 37/0.0635/0.0003125 | 38/0.0802/0.00015625 | 39/0.0877/0.00015625 | 40/0.0983/0.00015625 | 41/0.1014/0.00015625 | 42/0.1029/0.00015625 | 43/0.1150/0.00015625 | 44/0.1286/7.8125e-05 | 45/0.1407/7.8125e-05 | 46/0.1513/7.8125e-05 | 47/0.1528/7.8125e-05 | 48/0.1679/7.8125e-05 | 49/0.1770/7.8125e-05 | 50/0.1861/3.90625e-05 | 51/0.1906/3.90625e-05 | 52/0.1997/3.90625e-05 | 53/0.2103/3.90625e-05 | 54/0.2209/3.90625e-05 | 55/0.2405/3.90625e-05 | 56/0.2466/1.953125e-05 | 57/0.2557/1.953125e-05 | 58/0.2708/1.953125e-05 | 59/0.2753/1.953125e-05 | 60/0.2814/1.953125e-05 | 61/0.2890/1.953125e-05 | 62/0.2995/9.765625e-06 | 63/0.3026/9.765625e-06 | 64/0.3132/9.765625e-06 | 65/0.3207/9.765625e-06 | 66/0.3222/9.765625e-06 | 67/0.3268/9.765625e-06 | 68/0.3313/4.8828125e-06 | 69/0.3328/4.8828125e-06 | 70/0.3359/4.8828125e-06 | 71/0.3404/4.8828125e-06 | 72/0.3434/4.8828125e-06 | 73/0.3480/4.8828125e-06 | 74/0.3555/2.44140625e-06 | 75/0.3585/2.44140625e-06 | 76/0.3570/2.44140625e-06 | 77/0.3585/2.44140625e-06 | 78/0.3631/2.44140625e-06 | 79/0.3631/2.44140625e-06 | 80/0.3661/1.220703125e-06 | 81/0.3676/1.220703125e-06 | 82/0.3676/1.220703125e-06 | 83/0.3691/1.220703125e-06 | 84/0.3691/1.220703125e-06 | 85/0.3691/1.220703125e-06 | 86/0.3691/6.103515625e-07 | Accuracy: 0.3022\n",
      "Evaluating nci109 dataset using cos_sim method with a percentile of 90 against class members\n",
      "Epoch/val accuracy/lr: "
     ]
    },
    {
     "name": "stderr",
     "output_type": "stream",
     "text": [
      "/opt/conda/lib/python3.10/site-packages/torch_geometric/deprecation.py:26: UserWarning: 'data.DataLoader' is deprecated, use 'loader.DataLoader' instead\n",
      "  warnings.warn(out)\n"
     ]
    },
    {
     "name": "stdout",
     "output_type": "stream",
     "text": [
      "1/0.5067/0.01 | 2/0.5067/0.01 | 3/0.4261/0.01 | 4/0.5067/0.01 | 5/0.5067/0.01 | 6/0.4825/0.01 | 7/0.1089/0.01 | 8/0.0175/0.01 | 9/0.4866/0.01 | 10/0.5054/0.01 | 11/0.5067/0.01 | 12/0.5067/0.01 | 13/0.5067/0.01 | 14/0.5040/0.01 | 15/0.4906/0.005 | 16/0.4704/0.005 | 17/0.4610/0.005 | 18/0.4503/0.005 | 19/0.4489/0.005 | 20/0.4718/0.005 | 21/0.4798/0.0025 | 22/0.4852/0.0025 | 23/0.4866/0.0025 | 24/0.4839/0.0025 | 25/0.4839/0.0025 | 26/0.4825/0.0025 | 27/0.4731/0.00125 | 28/0.4691/0.00125 | 29/0.4597/0.00125 | 30/0.4462/0.00125 | 31/0.4395/0.00125 | 32/0.4288/0.00125 | 33/0.4126/0.000625 | 34/0.4019/0.000625 | 35/0.3817/0.000625 | 36/0.3683/0.000625 | 37/0.3522/0.000625 | 38/0.3481/0.000625 | 39/0.3414/0.0003125 | 40/0.3387/0.0003125 | 41/0.3347/0.0003125 | 42/0.3293/0.0003125 | 43/0.3293/0.0003125 | 44/0.3333/0.0003125 | 45/0.3212/0.00015625 | 46/0.3199/0.00015625 | 47/0.3199/0.00015625 | 48/0.3212/0.00015625 | 49/0.3212/0.00015625 | 50/0.3145/0.00015625 | 51/0.3145/7.8125e-05 | 52/0.3159/7.8125e-05 | 53/0.3172/7.8125e-05 | 54/0.3159/7.8125e-05 | 55/0.3145/7.8125e-05 | 56/0.3199/7.8125e-05 | 57/0.3199/3.90625e-05 | 58/0.3199/3.90625e-05 | 59/0.3212/3.90625e-05 | 60/0.3226/3.90625e-05 | 61/0.3239/3.90625e-05 | 62/0.3226/3.90625e-05 | 63/0.3253/1.953125e-05 | 64/0.3293/1.953125e-05 | 65/0.3306/1.953125e-05 | 66/0.3293/1.953125e-05 | 67/0.3333/1.953125e-05 | 68/0.3347/1.953125e-05 | 69/0.3347/9.765625e-06 | 70/0.3374/9.765625e-06 | 71/0.3387/9.765625e-06 | 72/0.3387/9.765625e-06 | 73/0.3320/9.765625e-06 | 74/0.3347/9.765625e-06 | 75/0.3306/4.8828125e-06 | 76/0.3360/4.8828125e-06 | 77/0.3347/4.8828125e-06 | 78/0.3374/4.8828125e-06 | 79/0.3360/4.8828125e-06 | 80/0.3374/4.8828125e-06 | 81/0.3374/2.44140625e-06 | 82/0.3374/2.44140625e-06 | 83/0.3374/2.44140625e-06 | 84/0.3374/2.44140625e-06 | 85/0.3374/2.44140625e-06 | 86/0.3360/2.44140625e-06 | 87/0.3387/1.220703125e-06 | 88/0.3374/1.220703125e-06 | 89/0.3401/1.220703125e-06 | 90/0.3401/1.220703125e-06 | 91/0.3414/1.220703125e-06 | 92/0.3414/1.220703125e-06 | 93/0.3401/6.103515625e-07 | Accuracy: 0.3212\n",
      "Evaluating proteins dataset using random method with a percentile of 40 against class members\n",
      "Epoch/val accuracy/lr: "
     ]
    },
    {
     "name": "stderr",
     "output_type": "stream",
     "text": [
      "/opt/conda/lib/python3.10/site-packages/torch_geometric/deprecation.py:26: UserWarning: 'data.DataLoader' is deprecated, use 'loader.DataLoader' instead\n",
      "  warnings.warn(out)\n"
     ]
    },
    {
     "name": "stdout",
     "output_type": "stream",
     "text": [
      "1/0.0000/0.01 | 2/0.0000/0.01 | 3/0.0674/0.01 | 4/0.0225/0.01 | 5/0.0000/0.01 | 6/0.0000/0.01 | 7/0.0000/0.01 | 8/0.0000/0.005 | 9/0.0000/0.005 | 10/0.0000/0.005 | 11/0.0000/0.005 | 12/0.0000/0.005 | 13/0.0000/0.005 | 14/0.0000/0.0025 | 15/0.0000/0.0025 | 16/0.0000/0.0025 | 17/0.0000/0.0025 | 18/0.0449/0.0025 | 19/0.0562/0.0025 | 20/0.0899/0.00125 | 21/0.1461/0.00125 | 22/0.1461/0.00125 | 23/0.1573/0.00125 | 24/0.1573/0.00125 | 25/0.1573/0.00125 | 26/0.1573/0.000625 | 27/0.1685/0.000625 | 28/0.1685/0.000625 | 29/0.1685/0.000625 | 30/0.1685/0.000625 | 31/0.1685/0.000625 | 32/0.1685/0.0003125 | 33/0.1685/0.0003125 | 34/0.1798/0.0003125 | 35/0.1798/0.0003125 | 36/0.1798/0.0003125 | 37/0.1910/0.0003125 | 38/0.1910/0.00015625 | 39/0.1910/0.00015625 | 40/0.1910/0.00015625 | 41/0.1910/0.00015625 | 42/0.1910/0.00015625 | 43/0.1910/0.00015625 | 44/0.1910/7.8125e-05 | 45/0.1910/7.8125e-05 | 46/0.1910/7.8125e-05 | 47/0.1910/7.8125e-05 | 48/0.2022/7.8125e-05 | 49/0.2022/7.8125e-05 | 50/0.2022/3.90625e-05 | 51/0.2022/3.90625e-05 | 52/0.2022/3.90625e-05 | 53/0.2022/3.90625e-05 | 54/0.2022/3.90625e-05 | 55/0.2022/3.90625e-05 | 56/0.2022/1.953125e-05 | 57/0.2022/1.953125e-05 | 58/0.2022/1.953125e-05 | 59/0.2022/1.953125e-05 | 60/0.2022/1.953125e-05 | 61/0.2022/1.953125e-05 | 62/0.2022/9.765625e-06 | 63/0.2022/9.765625e-06 | 64/0.2135/9.765625e-06 | 65/0.2135/9.765625e-06 | 66/0.2135/9.765625e-06 | 67/0.2135/9.765625e-06 | 68/0.2135/4.8828125e-06 | 69/0.2135/4.8828125e-06 | 70/0.2135/4.8828125e-06 | 71/0.2022/4.8828125e-06 | 72/0.2022/4.8828125e-06 | 73/0.2022/4.8828125e-06 | 74/0.2022/2.44140625e-06 | 75/0.2022/2.44140625e-06 | 76/0.2022/2.44140625e-06 | 77/0.2022/2.44140625e-06 | 78/0.2022/2.44140625e-06 | 79/0.2022/2.44140625e-06 | 80/0.2022/1.220703125e-06 | 81/0.2022/1.220703125e-06 | 82/0.2022/1.220703125e-06 | 83/0.2022/1.220703125e-06 | 84/0.2022/1.220703125e-06 | 85/0.2135/1.220703125e-06 | 86/0.2135/6.103515625e-07 | Accuracy: 0.2470\n",
      "Evaluating proteins dataset using random method with a percentile of 50 against class members\n",
      "Epoch/val accuracy/lr: "
     ]
    },
    {
     "name": "stderr",
     "output_type": "stream",
     "text": [
      "/opt/conda/lib/python3.10/site-packages/torch_geometric/deprecation.py:26: UserWarning: 'data.DataLoader' is deprecated, use 'loader.DataLoader' instead\n",
      "  warnings.warn(out)\n"
     ]
    },
    {
     "name": "stdout",
     "output_type": "stream",
     "text": [
      "1/0.0893/0.01 | 2/0.1071/0.01 | 3/0.0268/0.01 | 4/0.0000/0.01 | 5/0.0000/0.01 | 6/0.0000/0.01 | 7/0.0000/0.01 | 8/0.0000/0.01 | 9/0.0000/0.01 | 10/0.0000/0.01 | 11/0.0000/0.005 | 12/0.0000/0.005 | 13/0.0000/0.005 | 14/0.0000/0.005 | 15/0.0000/0.005 | 16/0.0000/0.005 | 17/0.0000/0.0025 | 18/0.0357/0.0025 | 19/0.1339/0.0025 | 20/0.1607/0.0025 | 21/0.1696/0.0025 | 22/0.1696/0.0025 | 23/0.1786/0.00125 | 24/0.1786/0.00125 | 25/0.1786/0.00125 | 26/0.1964/0.00125 | 27/0.2232/0.00125 | 28/0.2232/0.00125 | 29/0.2232/0.000625 | 30/0.2232/0.000625 | 31/0.2232/0.000625 | 32/0.2232/0.000625 | 33/0.2232/0.000625 | 34/0.2143/0.000625 | 35/0.2054/0.0003125 | 36/0.2054/0.0003125 | 37/0.2054/0.0003125 | 38/0.1964/0.0003125 | 39/0.2054/0.0003125 | 40/0.2054/0.0003125 | 41/0.2054/0.00015625 | 42/0.2054/0.00015625 | 43/0.2232/0.00015625 | 44/0.2232/0.00015625 | 45/0.2232/0.00015625 | 46/0.2232/0.00015625 | 47/0.2232/7.8125e-05 | 48/0.2232/7.8125e-05 | 49/0.2232/7.8125e-05 | 50/0.2232/7.8125e-05 | 51/0.2232/7.8125e-05 | 52/0.2232/7.8125e-05 | 53/0.2232/3.90625e-05 | 54/0.2232/3.90625e-05 | 55/0.2232/3.90625e-05 | 56/0.2232/3.90625e-05 | 57/0.2232/3.90625e-05 | 58/0.2232/3.90625e-05 | 59/0.2232/1.953125e-05 | 60/0.2232/1.953125e-05 | 61/0.2232/1.953125e-05 | 62/0.2232/1.953125e-05 | 63/0.2232/1.953125e-05 | 64/0.2232/1.953125e-05 | 65/0.2232/9.765625e-06 | 66/0.2232/9.765625e-06 | 67/0.2232/9.765625e-06 | 68/0.2232/9.765625e-06 | 69/0.2232/9.765625e-06 | 70/0.2321/9.765625e-06 | 71/0.2321/4.8828125e-06 | 72/0.2321/4.8828125e-06 | 73/0.2321/4.8828125e-06 | 74/0.2321/4.8828125e-06 | 75/0.2321/4.8828125e-06 | 76/0.2321/4.8828125e-06 | 77/0.2411/2.44140625e-06 | 78/0.2321/2.44140625e-06 | 79/0.2321/2.44140625e-06 | 80/0.2321/2.44140625e-06 | 81/0.2411/2.44140625e-06 | 82/0.2321/2.44140625e-06 | 83/0.2321/1.220703125e-06 | 84/0.2321/1.220703125e-06 | 85/0.2321/1.220703125e-06 | 86/0.2321/1.220703125e-06 | 87/0.2321/1.220703125e-06 | 88/0.2321/1.220703125e-06 | 89/0.2321/6.103515625e-07 | Accuracy: 0.1885\n",
      "Evaluating proteins dataset using random method with a percentile of 60 against class members\n",
      "Epoch/val accuracy/lr: "
     ]
    },
    {
     "name": "stderr",
     "output_type": "stream",
     "text": [
      "/opt/conda/lib/python3.10/site-packages/torch_geometric/deprecation.py:26: UserWarning: 'data.DataLoader' is deprecated, use 'loader.DataLoader' instead\n",
      "  warnings.warn(out)\n"
     ]
    },
    {
     "name": "stdout",
     "output_type": "stream",
     "text": [
      "1/0.2463/0.01 | 2/0.2687/0.01 | 3/0.1493/0.01 | 4/0.2537/0.01 | 5/0.3507/0.01 | 6/0.3657/0.01 | 7/0.2239/0.01 | 8/0.0373/0.01 | 9/0.0448/0.01 | 10/0.0448/0.01 | 11/0.0448/0.01 | 12/0.1791/0.01 | 13/0.2313/0.01 | 14/0.1791/0.01 | 15/0.1045/0.005 | 16/0.0522/0.005 | 17/0.0224/0.005 | 18/0.0299/0.005 | 19/0.0597/0.005 | 20/0.0746/0.005 | 21/0.1045/0.005 | 22/0.1194/0.005 | 23/0.1418/0.005 | 24/0.1418/0.0025 | 25/0.1493/0.0025 | 26/0.1716/0.0025 | 27/0.1716/0.0025 | 28/0.1716/0.0025 | 29/0.1642/0.0025 | 30/0.1642/0.00125 | 31/0.1716/0.00125 | 32/0.1791/0.00125 | 33/0.1791/0.00125 | 34/0.1791/0.00125 | 35/0.1791/0.00125 | 36/0.1866/0.000625 | 37/0.1866/0.000625 | 38/0.1866/0.000625 | 39/0.1866/0.000625 | 40/0.1716/0.000625 | 41/0.1642/0.000625 | 42/0.1716/0.0003125 | 43/0.1642/0.0003125 | 44/0.1642/0.0003125 | 45/0.1642/0.0003125 | 46/0.1642/0.0003125 | 47/0.1642/0.0003125 | 48/0.1642/0.00015625 | 49/0.1716/0.00015625 | 50/0.1642/0.00015625 | 51/0.1791/0.00015625 | 52/0.1791/0.00015625 | 53/0.1791/0.00015625 | 54/0.1791/7.8125e-05 | 55/0.1866/7.8125e-05 | 56/0.1940/7.8125e-05 | 57/0.1940/7.8125e-05 | 58/0.1940/7.8125e-05 | 59/0.1940/7.8125e-05 | 60/0.2015/3.90625e-05 | 61/0.2015/3.90625e-05 | 62/0.2015/3.90625e-05 | 63/0.2015/3.90625e-05 | 64/0.2015/3.90625e-05 | 65/0.2015/3.90625e-05 | 66/0.2015/1.953125e-05 | 67/0.2015/1.953125e-05 | 68/0.2015/1.953125e-05 | 69/0.2015/1.953125e-05 | 70/0.1940/1.953125e-05 | 71/0.2015/1.953125e-05 | 72/0.2015/9.765625e-06 | 73/0.2015/9.765625e-06 | 74/0.2015/9.765625e-06 | 75/0.2015/9.765625e-06 | 76/0.2015/9.765625e-06 | 77/0.2015/9.765625e-06 | 78/0.2015/4.8828125e-06 | 79/0.2015/4.8828125e-06 | 80/0.2015/4.8828125e-06 | 81/0.2090/4.8828125e-06 | 82/0.2090/4.8828125e-06 | 83/0.2090/4.8828125e-06 | 84/0.2090/2.44140625e-06 | 85/0.2015/2.44140625e-06 | 86/0.2015/2.44140625e-06 | 87/0.2015/2.44140625e-06 | 88/0.2015/2.44140625e-06 | 89/0.2015/2.44140625e-06 | 90/0.2015/1.220703125e-06 | 91/0.2090/1.220703125e-06 | 92/0.2015/1.220703125e-06 | 93/0.2090/1.220703125e-06 | 94/0.2090/1.220703125e-06 | 95/0.2090/1.220703125e-06 | 96/0.2090/6.103515625e-07 | Accuracy: 0.2466\n",
      "Evaluating proteins dataset using random method with a percentile of 70 against class members\n",
      "Epoch/val accuracy/lr: "
     ]
    },
    {
     "name": "stderr",
     "output_type": "stream",
     "text": [
      "/opt/conda/lib/python3.10/site-packages/torch_geometric/deprecation.py:26: UserWarning: 'data.DataLoader' is deprecated, use 'loader.DataLoader' instead\n",
      "  warnings.warn(out)\n"
     ]
    },
    {
     "name": "stdout",
     "output_type": "stream",
     "text": [
      "1/0.1923/0.01 | 2/0.2756/0.01 | 3/0.2628/0.01 | 4/0.1731/0.01 | 5/0.1154/0.01 | 6/0.0000/0.01 | 7/0.0641/0.01 | 8/0.1026/0.01 | 9/0.1026/0.01 | 10/0.1218/0.01 | 11/0.1346/0.01 | 12/0.1282/0.01 | 13/0.0641/0.005 | 14/0.0705/0.005 | 15/0.0513/0.005 | 16/0.0513/0.005 | 17/0.0705/0.005 | 18/0.0897/0.005 | 19/0.1282/0.0025 | 20/0.1410/0.0025 | 21/0.1474/0.0025 | 22/0.1410/0.0025 | 23/0.1346/0.0025 | 24/0.1218/0.0025 | 25/0.1282/0.00125 | 26/0.1218/0.00125 | 27/0.1282/0.00125 | 28/0.1603/0.00125 | 29/0.1667/0.00125 | 30/0.1603/0.00125 | 31/0.1667/0.000625 | 32/0.1731/0.000625 | 33/0.1667/0.000625 | 34/0.1731/0.000625 | 35/0.1731/0.000625 | 36/0.1731/0.000625 | 37/0.1731/0.0003125 | 38/0.1731/0.0003125 | 39/0.1731/0.0003125 | 40/0.1667/0.0003125 | 41/0.1667/0.0003125 | 42/0.1667/0.0003125 | 43/0.1667/0.00015625 | 44/0.1667/0.00015625 | 45/0.1667/0.00015625 | 46/0.1667/0.00015625 | 47/0.1667/0.00015625 | 48/0.1667/0.00015625 | 49/0.1667/7.8125e-05 | 50/0.1667/7.8125e-05 | 51/0.1667/7.8125e-05 | 52/0.1667/7.8125e-05 | 53/0.1731/7.8125e-05 | 54/0.1731/7.8125e-05 | 55/0.1731/3.90625e-05 | 56/0.1731/3.90625e-05 | 57/0.1731/3.90625e-05 | 58/0.1731/3.90625e-05 | 59/0.1731/3.90625e-05 | 60/0.1731/3.90625e-05 | 61/0.1731/1.953125e-05 | 62/0.1731/1.953125e-05 | 63/0.1731/1.953125e-05 | 64/0.1667/1.953125e-05 | 65/0.1667/1.953125e-05 | 66/0.1731/1.953125e-05 | 67/0.1731/9.765625e-06 | 68/0.1731/9.765625e-06 | 69/0.1731/9.765625e-06 | 70/0.1731/9.765625e-06 | 71/0.1731/9.765625e-06 | 72/0.1731/9.765625e-06 | 73/0.1731/4.8828125e-06 | 74/0.1731/4.8828125e-06 | 75/0.1731/4.8828125e-06 | 76/0.1731/4.8828125e-06 | 77/0.1795/4.8828125e-06 | 78/0.1731/4.8828125e-06 | 79/0.1795/2.44140625e-06 | 80/0.1795/2.44140625e-06 | 81/0.1795/2.44140625e-06 | 82/0.1731/2.44140625e-06 | 83/0.1795/2.44140625e-06 | 84/0.1795/2.44140625e-06 | 85/0.1795/1.220703125e-06 | 86/0.1795/1.220703125e-06 | 87/0.1795/1.220703125e-06 | 88/0.1795/1.220703125e-06 | 89/0.1795/1.220703125e-06 | 90/0.1731/1.220703125e-06 | 91/0.1731/6.103515625e-07 | Accuracy: 0.2246\n",
      "Evaluating proteins dataset using random method with a percentile of 80 against class members\n",
      "Epoch/val accuracy/lr: "
     ]
    },
    {
     "name": "stderr",
     "output_type": "stream",
     "text": [
      "/opt/conda/lib/python3.10/site-packages/torch_geometric/deprecation.py:26: UserWarning: 'data.DataLoader' is deprecated, use 'loader.DataLoader' instead\n",
      "  warnings.warn(out)\n"
     ]
    },
    {
     "name": "stdout",
     "output_type": "stream",
     "text": [
      "1/0.1685/0.01 | 2/0.0000/0.01 | 3/0.0000/0.01 | 4/0.0112/0.01 | 5/0.0393/0.01 | 6/0.0000/0.01 | 7/0.0000/0.01 | 8/0.0056/0.01 | 9/0.0674/0.005 | 10/0.1348/0.005 | 11/0.2022/0.005 | 12/0.1798/0.005 | 13/0.1348/0.005 | 14/0.1067/0.005 | 15/0.1011/0.0025 | 16/0.0787/0.0025 | 17/0.0674/0.0025 | 18/0.0674/0.0025 | 19/0.0787/0.0025 | 20/0.0899/0.0025 | 21/0.1011/0.00125 | 22/0.1292/0.00125 | 23/0.1292/0.00125 | 24/0.1461/0.00125 | 25/0.1685/0.00125 | 26/0.1798/0.00125 | 27/0.1966/0.000625 | 28/0.1966/0.000625 | 29/0.2135/0.000625 | 30/0.2191/0.000625 | 31/0.2191/0.000625 | 32/0.2191/0.000625 | 33/0.2247/0.0003125 | 34/0.2191/0.0003125 | 35/0.2247/0.0003125 | 36/0.2191/0.0003125 | 37/0.2303/0.0003125 | 38/0.2303/0.0003125 | 39/0.2303/0.00015625 | 40/0.2303/0.00015625 | 41/0.2303/0.00015625 | 42/0.2303/0.00015625 | 43/0.2303/0.00015625 | 44/0.2303/0.00015625 | 45/0.2303/7.8125e-05 | 46/0.2303/7.8125e-05 | 47/0.2303/7.8125e-05 | 48/0.2303/7.8125e-05 | 49/0.2303/7.8125e-05 | 50/0.2303/7.8125e-05 | 51/0.2303/3.90625e-05 | 52/0.2303/3.90625e-05 | 53/0.2303/3.90625e-05 | 54/0.2303/3.90625e-05 | 55/0.2303/3.90625e-05 | 56/0.2303/3.90625e-05 | 57/0.2303/1.953125e-05 | 58/0.2303/1.953125e-05 | 59/0.2303/1.953125e-05 | 60/0.2303/1.953125e-05 | 61/0.2303/1.953125e-05 | 62/0.2303/1.953125e-05 | 63/0.2303/9.765625e-06 | 64/0.2303/9.765625e-06 | 65/0.2303/9.765625e-06 | 66/0.2360/9.765625e-06 | 67/0.2416/9.765625e-06 | 68/0.2360/9.765625e-06 | 69/0.2360/4.8828125e-06 | 70/0.2416/4.8828125e-06 | 71/0.2416/4.8828125e-06 | 72/0.2360/4.8828125e-06 | 73/0.2303/4.8828125e-06 | 74/0.2303/4.8828125e-06 | 75/0.2360/2.44140625e-06 | 76/0.2303/2.44140625e-06 | 77/0.2360/2.44140625e-06 | 78/0.2416/2.44140625e-06 | 79/0.2416/2.44140625e-06 | 80/0.2416/2.44140625e-06 | 81/0.2416/1.220703125e-06 | 82/0.2416/1.220703125e-06 | 83/0.2416/1.220703125e-06 | 84/0.2416/1.220703125e-06 | 85/0.2416/1.220703125e-06 | 86/0.2416/1.220703125e-06 | 87/0.2416/6.103515625e-07 | Accuracy: 0.2377\n",
      "Evaluating proteins dataset using random method with a percentile of 90 against class members\n",
      "Epoch/val accuracy/lr: "
     ]
    },
    {
     "name": "stderr",
     "output_type": "stream",
     "text": [
      "/opt/conda/lib/python3.10/site-packages/torch_geometric/deprecation.py:26: UserWarning: 'data.DataLoader' is deprecated, use 'loader.DataLoader' instead\n",
      "  warnings.warn(out)\n"
     ]
    },
    {
     "name": "stdout",
     "output_type": "stream",
     "text": [
      "1/0.4677/0.01 | 2/0.0498/0.01 | 3/0.0000/0.01 | 4/0.1940/0.01 | 5/0.2189/0.01 | 6/0.1194/0.01 | 7/0.0597/0.01 | 8/0.0597/0.01 | 9/0.0448/0.01 | 10/0.1343/0.005 | 11/0.1393/0.005 | 12/0.1542/0.005 | 13/0.1443/0.005 | 14/0.1443/0.005 | 15/0.0846/0.005 | 16/0.0647/0.0025 | 17/0.0597/0.0025 | 18/0.0746/0.0025 | 19/0.0796/0.0025 | 20/0.1244/0.0025 | 21/0.1592/0.0025 | 22/0.1891/0.00125 | 23/0.2040/0.00125 | 24/0.2090/0.00125 | 25/0.2189/0.00125 | 26/0.2189/0.00125 | 27/0.2338/0.00125 | 28/0.2537/0.000625 | 29/0.2587/0.000625 | 30/0.2637/0.000625 | 31/0.2786/0.000625 | 32/0.2985/0.000625 | 33/0.2985/0.000625 | 34/0.3035/0.0003125 | 35/0.3035/0.0003125 | 36/0.3035/0.0003125 | 37/0.2985/0.0003125 | 38/0.2985/0.0003125 | 39/0.2985/0.0003125 | 40/0.2985/0.00015625 | 41/0.2985/0.00015625 | 42/0.2985/0.00015625 | 43/0.2985/0.00015625 | 44/0.2985/0.00015625 | 45/0.2985/0.00015625 | 46/0.2985/7.8125e-05 | 47/0.2985/7.8125e-05 | 48/0.2985/7.8125e-05 | 49/0.2985/7.8125e-05 | 50/0.2985/7.8125e-05 | 51/0.2985/7.8125e-05 | 52/0.2935/3.90625e-05 | 53/0.2935/3.90625e-05 | 54/0.2935/3.90625e-05 | 55/0.2886/3.90625e-05 | 56/0.2886/3.90625e-05 | 57/0.2886/3.90625e-05 | 58/0.2886/1.953125e-05 | 59/0.2886/1.953125e-05 | 60/0.2935/1.953125e-05 | 61/0.2985/1.953125e-05 | 62/0.2886/1.953125e-05 | 63/0.2886/1.953125e-05 | 64/0.2886/9.765625e-06 | 65/0.2886/9.765625e-06 | 66/0.2935/9.765625e-06 | 67/0.2985/9.765625e-06 | 68/0.2985/9.765625e-06 | 69/0.2985/9.765625e-06 | 70/0.2985/4.8828125e-06 | 71/0.2985/4.8828125e-06 | 72/0.2985/4.8828125e-06 | 73/0.2985/4.8828125e-06 | 74/0.2985/4.8828125e-06 | 75/0.2985/4.8828125e-06 | 76/0.2985/2.44140625e-06 | 77/0.2935/2.44140625e-06 | 78/0.2935/2.44140625e-06 | 79/0.2935/2.44140625e-06 | 80/0.2886/2.44140625e-06 | 81/0.2935/2.44140625e-06 | 82/0.2935/1.220703125e-06 | 83/0.2985/1.220703125e-06 | 84/0.2985/1.220703125e-06 | 85/0.2935/1.220703125e-06 | 86/0.2985/1.220703125e-06 | 87/0.2985/1.220703125e-06 | 88/0.2985/6.103515625e-07 | Accuracy: 0.1964\n",
      "Evaluating proteins dataset using graph_order method with a percentile of 40 against class members\n",
      "Epoch/val accuracy/lr: "
     ]
    },
    {
     "name": "stderr",
     "output_type": "stream",
     "text": [
      "/opt/conda/lib/python3.10/site-packages/torch_geometric/deprecation.py:26: UserWarning: 'data.DataLoader' is deprecated, use 'loader.DataLoader' instead\n",
      "  warnings.warn(out)\n"
     ]
    },
    {
     "name": "stdout",
     "output_type": "stream",
     "text": [
      "1/0.3333/0.01 | 2/0.0222/0.01 | 3/0.0000/0.01 | 4/0.0000/0.01 | 5/0.0000/0.01 | 6/0.2444/0.01 | 7/0.2778/0.01 | 8/0.2778/0.01 | 9/0.2333/0.01 | 10/0.2111/0.005 | 11/0.2000/0.005 | 12/0.1889/0.005 | 13/0.2000/0.005 | 14/0.2000/0.005 | 15/0.2000/0.005 | 16/0.1778/0.0025 | 17/0.1000/0.0025 | 18/0.1000/0.0025 | 19/0.1111/0.0025 | 20/0.1111/0.0025 | 21/0.1111/0.0025 | 22/0.1111/0.00125 | 23/0.2444/0.00125 | 24/0.2444/0.00125 | 25/0.2444/0.00125 | 26/0.2444/0.00125 | 27/0.2444/0.00125 | 28/0.2444/0.000625 | 29/0.2444/0.000625 | 30/0.2444/0.000625 | 31/0.2444/0.000625 | 32/0.2444/0.000625 | 33/0.2444/0.000625 | 34/0.2556/0.0003125 | 35/0.2556/0.0003125 | 36/0.2556/0.0003125 | 37/0.2556/0.0003125 | 38/0.2556/0.0003125 | 39/0.2556/0.0003125 | 40/0.2556/0.00015625 | 41/0.2556/0.00015625 | 42/0.2556/0.00015625 | 43/0.2556/0.00015625 | 44/0.2556/0.00015625 | 45/0.2556/0.00015625 | 46/0.2556/7.8125e-05 | 47/0.2556/7.8125e-05 | 48/0.2556/7.8125e-05 | 49/0.2556/7.8125e-05 | 50/0.2556/7.8125e-05 | 51/0.2556/7.8125e-05 | 52/0.2556/3.90625e-05 | 53/0.2556/3.90625e-05 | 54/0.2556/3.90625e-05 | 55/0.2556/3.90625e-05 | 56/0.2556/3.90625e-05 | 57/0.2556/3.90625e-05 | 58/0.2556/1.953125e-05 | 59/0.2556/1.953125e-05 | 60/0.2556/1.953125e-05 | 61/0.2556/1.953125e-05 | 62/0.2556/1.953125e-05 | 63/0.2556/1.953125e-05 | 64/0.2556/9.765625e-06 | 65/0.2556/9.765625e-06 | 66/0.2556/9.765625e-06 | 67/0.2556/9.765625e-06 | 68/0.2556/9.765625e-06 | 69/0.2556/9.765625e-06 | 70/0.2556/4.8828125e-06 | 71/0.2556/4.8828125e-06 | 72/0.2556/4.8828125e-06 | 73/0.2556/4.8828125e-06 | 74/0.2556/4.8828125e-06 | 75/0.2556/4.8828125e-06 | 76/0.2556/2.44140625e-06 | 77/0.2556/2.44140625e-06 | 78/0.2556/2.44140625e-06 | 79/0.2556/2.44140625e-06 | 80/0.2556/2.44140625e-06 | 81/0.2556/2.44140625e-06 | 82/0.2556/1.220703125e-06 | 83/0.2556/1.220703125e-06 | 84/0.2556/1.220703125e-06 | 85/0.2556/1.220703125e-06 | 86/0.2556/1.220703125e-06 | 87/0.2556/1.220703125e-06 | 88/0.2556/6.103515625e-07 | Accuracy: 0.1769\n",
      "Evaluating proteins dataset using graph_order method with a percentile of 50 against class members\n",
      "Epoch/val accuracy/lr: "
     ]
    },
    {
     "name": "stderr",
     "output_type": "stream",
     "text": [
      "/opt/conda/lib/python3.10/site-packages/torch_geometric/deprecation.py:26: UserWarning: 'data.DataLoader' is deprecated, use 'loader.DataLoader' instead\n",
      "  warnings.warn(out)\n"
     ]
    },
    {
     "name": "stdout",
     "output_type": "stream",
     "text": [
      "1/0.0000/0.01 | 2/0.0179/0.01 | 3/0.0089/0.01 | 4/0.0000/0.01 | 5/0.1250/0.01 | 6/0.1429/0.01 | 7/0.1250/0.01 | 8/0.1161/0.005 | 9/0.0089/0.005 | 10/0.0089/0.005 | 11/0.0179/0.005 | 12/0.0179/0.005 | 13/0.0179/0.005 | 14/0.0179/0.0025 | 15/0.0268/0.0025 | 16/0.0357/0.0025 | 17/0.0268/0.0025 | 18/0.0268/0.0025 | 19/0.0268/0.0025 | 20/0.0268/0.00125 | 21/0.0268/0.00125 | 22/0.0268/0.00125 | 23/0.0268/0.00125 | 24/0.0268/0.00125 | 25/0.0268/0.00125 | 26/0.0446/0.000625 | 27/0.0446/0.000625 | 28/0.0804/0.000625 | 29/0.1518/0.000625 | 30/0.1786/0.000625 | 31/0.1964/0.000625 | 32/0.2054/0.0003125 | 33/0.2143/0.0003125 | 34/0.2143/0.0003125 | 35/0.2321/0.0003125 | 36/0.2321/0.0003125 | 37/0.2321/0.0003125 | 38/0.2411/0.00015625 | 39/0.2500/0.00015625 | 40/0.2500/0.00015625 | 41/0.2500/0.00015625 | 42/0.2500/0.00015625 | 43/0.2500/0.00015625 | 44/0.2500/7.8125e-05 | 45/0.2589/7.8125e-05 | 46/0.2589/7.8125e-05 | 47/0.2589/7.8125e-05 | 48/0.2589/7.8125e-05 | 49/0.2589/7.8125e-05 | 50/0.2589/3.90625e-05 | 51/0.2589/3.90625e-05 | 52/0.2589/3.90625e-05 | 53/0.2589/3.90625e-05 | 54/0.2589/3.90625e-05 | 55/0.2589/3.90625e-05 | 56/0.2679/1.953125e-05 | 57/0.2589/1.953125e-05 | 58/0.2679/1.953125e-05 | 59/0.2679/1.953125e-05 | 60/0.2679/1.953125e-05 | 61/0.2679/1.953125e-05 | 62/0.2679/9.765625e-06 | 63/0.2679/9.765625e-06 | 64/0.2679/9.765625e-06 | 65/0.2679/9.765625e-06 | 66/0.2679/9.765625e-06 | 67/0.2768/9.765625e-06 | 68/0.2768/4.8828125e-06 | 69/0.2768/4.8828125e-06 | 70/0.2679/4.8828125e-06 | 71/0.2768/4.8828125e-06 | 72/0.2679/4.8828125e-06 | 73/0.2679/4.8828125e-06 | 74/0.2679/2.44140625e-06 | 75/0.2679/2.44140625e-06 | 76/0.2679/2.44140625e-06 | 77/0.2589/2.44140625e-06 | 78/0.2589/2.44140625e-06 | 79/0.2589/2.44140625e-06 | 80/0.2589/1.220703125e-06 | 81/0.2589/1.220703125e-06 | 82/0.2589/1.220703125e-06 | 83/0.2589/1.220703125e-06 | 84/0.2589/1.220703125e-06 | 85/0.2679/1.220703125e-06 | 86/0.2679/6.103515625e-07 | Accuracy: 0.1007\n",
      "Evaluating proteins dataset using graph_order method with a percentile of 60 against class members\n",
      "Epoch/val accuracy/lr: "
     ]
    },
    {
     "name": "stderr",
     "output_type": "stream",
     "text": [
      "/opt/conda/lib/python3.10/site-packages/torch_geometric/deprecation.py:26: UserWarning: 'data.DataLoader' is deprecated, use 'loader.DataLoader' instead\n",
      "  warnings.warn(out)\n"
     ]
    },
    {
     "name": "stdout",
     "output_type": "stream",
     "text": [
      "1/0.1119/0.01 | 2/0.0000/0.01 | 3/0.1119/0.01 | 4/0.2388/0.01 | 5/0.1940/0.01 | 6/0.1642/0.01 | 7/0.2015/0.01 | 8/0.2239/0.01 | 9/0.2388/0.005 | 10/0.2015/0.005 | 11/0.1493/0.005 | 12/0.1343/0.005 | 13/0.0970/0.005 | 14/0.0522/0.005 | 15/0.0149/0.0025 | 16/0.0149/0.0025 | 17/0.0149/0.0025 | 18/0.0149/0.0025 | 19/0.0149/0.0025 | 20/0.0672/0.0025 | 21/0.1194/0.00125 | 22/0.1493/0.00125 | 23/0.1642/0.00125 | 24/0.1791/0.00125 | 25/0.1791/0.00125 | 26/0.1567/0.00125 | 27/0.1493/0.000625 | 28/0.1567/0.000625 | 29/0.1567/0.000625 | 30/0.1493/0.000625 | 31/0.1493/0.000625 | 32/0.1493/0.000625 | 33/0.1567/0.0003125 | 34/0.1642/0.0003125 | 35/0.1642/0.0003125 | 36/0.1791/0.0003125 | 37/0.1791/0.0003125 | 38/0.1866/0.0003125 | 39/0.1940/0.00015625 | 40/0.1940/0.00015625 | 41/0.1940/0.00015625 | 42/0.2015/0.00015625 | 43/0.2090/0.00015625 | 44/0.2164/0.00015625 | 45/0.2164/7.8125e-05 | 46/0.2164/7.8125e-05 | 47/0.2164/7.8125e-05 | 48/0.2239/7.8125e-05 | 49/0.2239/7.8125e-05 | 50/0.2239/7.8125e-05 | 51/0.2239/3.90625e-05 | 52/0.2239/3.90625e-05 | 53/0.2239/3.90625e-05 | 54/0.2239/3.90625e-05 | 55/0.2239/3.90625e-05 | 56/0.2313/3.90625e-05 | 57/0.2313/1.953125e-05 | 58/0.2313/1.953125e-05 | 59/0.2313/1.953125e-05 | 60/0.2239/1.953125e-05 | 61/0.2239/1.953125e-05 | 62/0.2239/1.953125e-05 | 63/0.2239/9.765625e-06 | 64/0.2239/9.765625e-06 | 65/0.2239/9.765625e-06 | 66/0.2239/9.765625e-06 | 67/0.2239/9.765625e-06 | 68/0.2239/9.765625e-06 | 69/0.2239/4.8828125e-06 | 70/0.2239/4.8828125e-06 | 71/0.2313/4.8828125e-06 | 72/0.2313/4.8828125e-06 | 73/0.2463/4.8828125e-06 | 74/0.2388/4.8828125e-06 | 75/0.2388/2.44140625e-06 | 76/0.2388/2.44140625e-06 | 77/0.2239/2.44140625e-06 | 78/0.2313/2.44140625e-06 | 79/0.2313/2.44140625e-06 | 80/0.2388/2.44140625e-06 | 81/0.2388/1.220703125e-06 | 82/0.2388/1.220703125e-06 | 83/0.2388/1.220703125e-06 | 84/0.2388/1.220703125e-06 | 85/0.2388/1.220703125e-06 | 86/0.2388/1.220703125e-06 | 87/0.2388/6.103515625e-07 | Accuracy: 0.1191\n",
      "Evaluating proteins dataset using graph_order method with a percentile of 70 against class members\n",
      "Epoch/val accuracy/lr: "
     ]
    },
    {
     "name": "stderr",
     "output_type": "stream",
     "text": [
      "/opt/conda/lib/python3.10/site-packages/torch_geometric/deprecation.py:26: UserWarning: 'data.DataLoader' is deprecated, use 'loader.DataLoader' instead\n",
      "  warnings.warn(out)\n"
     ]
    },
    {
     "name": "stdout",
     "output_type": "stream",
     "text": [
      "1/0.3694/0.01 | 2/0.1911/0.01 | 3/0.0127/0.01 | 4/0.0892/0.01 | 5/0.0573/0.01 | 6/0.0191/0.01 | 7/0.0000/0.01 | 8/0.1083/0.01 | 9/0.1083/0.01 | 10/0.0892/0.01 | 11/0.0764/0.01 | 12/0.0000/0.01 | 13/0.0064/0.01 | 14/0.0064/0.005 | 15/0.0191/0.005 | 16/0.0255/0.005 | 17/0.0637/0.005 | 18/0.1146/0.005 | 19/0.1274/0.005 | 20/0.1274/0.0025 | 21/0.1274/0.0025 | 22/0.1146/0.0025 | 23/0.1338/0.0025 | 24/0.1338/0.0025 | 25/0.1338/0.0025 | 26/0.1529/0.00125 | 27/0.1592/0.00125 | 28/0.1529/0.00125 | 29/0.1592/0.00125 | 30/0.1656/0.00125 | 31/0.1720/0.00125 | 32/0.1720/0.000625 | 33/0.1720/0.000625 | 34/0.1847/0.000625 | 35/0.1847/0.000625 | 36/0.1911/0.000625 | 37/0.1975/0.000625 | 38/0.2102/0.0003125 | 39/0.2229/0.0003125 | 40/0.2293/0.0003125 | 41/0.2357/0.0003125 | 42/0.2484/0.0003125 | 43/0.2484/0.0003125 | 44/0.2484/0.00015625 | 45/0.2484/0.00015625 | 46/0.2484/0.00015625 | 47/0.2484/0.00015625 | 48/0.2484/0.00015625 | 49/0.2484/0.00015625 | 50/0.2484/7.8125e-05 | 51/0.2484/7.8125e-05 | 52/0.2484/7.8125e-05 | 53/0.2484/7.8125e-05 | 54/0.2484/7.8125e-05 | 55/0.2484/7.8125e-05 | 56/0.2484/3.90625e-05 | 57/0.2484/3.90625e-05 | 58/0.2548/3.90625e-05 | 59/0.2484/3.90625e-05 | 60/0.2484/3.90625e-05 | 61/0.2548/3.90625e-05 | 62/0.2548/1.953125e-05 | 63/0.2548/1.953125e-05 | 64/0.2548/1.953125e-05 | 65/0.2548/1.953125e-05 | 66/0.2548/1.953125e-05 | 67/0.2548/1.953125e-05 | 68/0.2548/9.765625e-06 | 69/0.2548/9.765625e-06 | 70/0.2548/9.765625e-06 | 71/0.2484/9.765625e-06 | 72/0.2484/9.765625e-06 | 73/0.2548/9.765625e-06 | 74/0.2548/4.8828125e-06 | 75/0.2484/4.8828125e-06 | 76/0.2484/4.8828125e-06 | 77/0.2484/4.8828125e-06 | 78/0.2484/4.8828125e-06 | 79/0.2484/4.8828125e-06 | 80/0.2484/2.44140625e-06 | 81/0.2484/2.44140625e-06 | 82/0.2484/2.44140625e-06 | 83/0.2484/2.44140625e-06 | 84/0.2548/2.44140625e-06 | 85/0.2548/2.44140625e-06 | 86/0.2548/1.220703125e-06 | 87/0.2548/1.220703125e-06 | 88/0.2548/1.220703125e-06 | 89/0.2548/1.220703125e-06 | 90/0.2548/1.220703125e-06 | 91/0.2548/1.220703125e-06 | 92/0.2548/6.103515625e-07 | Accuracy: 0.1506\n",
      "Evaluating proteins dataset using graph_order method with a percentile of 80 against class members\n",
      "Epoch/val accuracy/lr: "
     ]
    },
    {
     "name": "stderr",
     "output_type": "stream",
     "text": [
      "/opt/conda/lib/python3.10/site-packages/torch_geometric/deprecation.py:26: UserWarning: 'data.DataLoader' is deprecated, use 'loader.DataLoader' instead\n",
      "  warnings.warn(out)\n"
     ]
    },
    {
     "name": "stdout",
     "output_type": "stream",
     "text": [
      "1/0.0447/0.01 | 2/0.2514/0.01 | 3/0.1564/0.01 | 4/0.0950/0.01 | 5/0.1844/0.01 | 6/0.1508/0.01 | 7/0.0950/0.01 | 8/0.0000/0.005 | 9/0.0000/0.005 | 10/0.0000/0.005 | 11/0.0000/0.005 | 12/0.0168/0.005 | 13/0.0168/0.005 | 14/0.0112/0.005 | 15/0.0112/0.0025 | 16/0.0112/0.0025 | 17/0.0782/0.0025 | 18/0.1006/0.0025 | 19/0.1341/0.0025 | 20/0.1508/0.0025 | 21/0.1564/0.00125 | 22/0.1620/0.00125 | 23/0.1676/0.00125 | 24/0.1732/0.00125 | 25/0.1899/0.00125 | 26/0.1899/0.00125 | 27/0.1955/0.000625 | 28/0.1955/0.000625 | 29/0.2011/0.000625 | 30/0.2011/0.000625 | 31/0.2011/0.000625 | 32/0.2011/0.000625 | 33/0.1955/0.0003125 | 34/0.1955/0.0003125 | 35/0.1955/0.0003125 | 36/0.1955/0.0003125 | 37/0.1955/0.0003125 | 38/0.1955/0.0003125 | 39/0.1955/0.00015625 | 40/0.1955/0.00015625 | 41/0.1955/0.00015625 | 42/0.1955/0.00015625 | 43/0.1955/0.00015625 | 44/0.1955/0.00015625 | 45/0.2067/7.8125e-05 | 46/0.2067/7.8125e-05 | 47/0.2067/7.8125e-05 | 48/0.2123/7.8125e-05 | 49/0.2011/7.8125e-05 | 50/0.2067/7.8125e-05 | 51/0.2067/3.90625e-05 | 52/0.2067/3.90625e-05 | 53/0.2067/3.90625e-05 | 54/0.2067/3.90625e-05 | 55/0.2067/3.90625e-05 | 56/0.2067/3.90625e-05 | 57/0.2067/1.953125e-05 | 58/0.2067/1.953125e-05 | 59/0.2011/1.953125e-05 | 60/0.2067/1.953125e-05 | 61/0.2067/1.953125e-05 | 62/0.2011/1.953125e-05 | 63/0.2123/9.765625e-06 | 64/0.2067/9.765625e-06 | 65/0.2067/9.765625e-06 | 66/0.2011/9.765625e-06 | 67/0.2067/9.765625e-06 | 68/0.2067/9.765625e-06 | 69/0.2067/4.8828125e-06 | 70/0.2123/4.8828125e-06 | 71/0.2123/4.8828125e-06 | 72/0.2123/4.8828125e-06 | 73/0.2123/4.8828125e-06 | 74/0.2123/4.8828125e-06 | 75/0.2067/2.44140625e-06 | 76/0.2067/2.44140625e-06 | 77/0.2067/2.44140625e-06 | 78/0.2067/2.44140625e-06 | 79/0.2123/2.44140625e-06 | 80/0.2123/2.44140625e-06 | 81/0.2067/1.220703125e-06 | 82/0.2067/1.220703125e-06 | 83/0.2067/1.220703125e-06 | 84/0.2067/1.220703125e-06 | 85/0.2067/1.220703125e-06 | 86/0.2067/1.220703125e-06 | 87/0.2123/6.103515625e-07 | Accuracy: 0.1486\n",
      "Evaluating proteins dataset using graph_order method with a percentile of 90 against class members\n",
      "Epoch/val accuracy/lr: "
     ]
    },
    {
     "name": "stderr",
     "output_type": "stream",
     "text": [
      "/opt/conda/lib/python3.10/site-packages/torch_geometric/deprecation.py:26: UserWarning: 'data.DataLoader' is deprecated, use 'loader.DataLoader' instead\n",
      "  warnings.warn(out)\n"
     ]
    },
    {
     "name": "stdout",
     "output_type": "stream",
     "text": [
      "1/0.0000/0.01 | 2/0.0000/0.01 | 3/0.0000/0.01 | 4/0.0000/0.01 | 5/0.0398/0.01 | 6/0.1592/0.01 | 7/0.1542/0.01 | 8/0.1343/0.005 | 9/0.1194/0.005 | 10/0.1095/0.005 | 11/0.0896/0.005 | 12/0.0547/0.005 | 13/0.0398/0.005 | 14/0.0448/0.0025 | 15/0.0498/0.0025 | 16/0.0498/0.0025 | 17/0.0547/0.0025 | 18/0.1095/0.0025 | 19/0.1194/0.0025 | 20/0.1343/0.00125 | 21/0.1542/0.00125 | 22/0.1642/0.00125 | 23/0.1741/0.00125 | 24/0.1841/0.00125 | 25/0.1891/0.00125 | 26/0.1891/0.000625 | 27/0.1891/0.000625 | 28/0.1841/0.000625 | 29/0.1841/0.000625 | 30/0.1791/0.000625 | 31/0.1791/0.000625 | 32/0.1791/0.0003125 | 33/0.1841/0.0003125 | 34/0.1841/0.0003125 | 35/0.1841/0.0003125 | 36/0.1841/0.0003125 | 37/0.1841/0.0003125 | 38/0.1841/0.00015625 | 39/0.1891/0.00015625 | 40/0.1891/0.00015625 | 41/0.1891/0.00015625 | 42/0.1841/0.00015625 | 43/0.1841/0.00015625 | 44/0.1841/7.8125e-05 | 45/0.1841/7.8125e-05 | 46/0.1841/7.8125e-05 | 47/0.1841/7.8125e-05 | 48/0.1841/7.8125e-05 | 49/0.1841/7.8125e-05 | 50/0.1841/3.90625e-05 | 51/0.1841/3.90625e-05 | 52/0.1891/3.90625e-05 | 53/0.1841/3.90625e-05 | 54/0.1841/3.90625e-05 | 55/0.1841/3.90625e-05 | 56/0.1841/1.953125e-05 | 57/0.1841/1.953125e-05 | 58/0.1841/1.953125e-05 | 59/0.1841/1.953125e-05 | 60/0.1841/1.953125e-05 | 61/0.1841/1.953125e-05 | 62/0.1841/9.765625e-06 | 63/0.1891/9.765625e-06 | 64/0.1891/9.765625e-06 | 65/0.1891/9.765625e-06 | 66/0.1891/9.765625e-06 | 67/0.1891/9.765625e-06 | 68/0.1891/4.8828125e-06 | 69/0.1891/4.8828125e-06 | 70/0.1891/4.8828125e-06 | 71/0.1891/4.8828125e-06 | 72/0.1891/4.8828125e-06 | 73/0.1891/4.8828125e-06 | 74/0.1891/2.44140625e-06 | 75/0.1891/2.44140625e-06 | 76/0.1891/2.44140625e-06 | 77/0.1891/2.44140625e-06 | 78/0.1891/2.44140625e-06 | 79/0.1891/2.44140625e-06 | 80/0.1940/1.220703125e-06 | 81/0.1940/1.220703125e-06 | 82/0.1940/1.220703125e-06 | 83/0.1891/1.220703125e-06 | 84/0.1891/1.220703125e-06 | 85/0.1891/1.220703125e-06 | 86/0.1891/6.103515625e-07 | Accuracy: 0.1892\n",
      "Evaluating proteins dataset using cos_sim method with a percentile of 40 against class members\n",
      "Epoch/val accuracy/lr: "
     ]
    },
    {
     "name": "stderr",
     "output_type": "stream",
     "text": [
      "/opt/conda/lib/python3.10/site-packages/torch_geometric/deprecation.py:26: UserWarning: 'data.DataLoader' is deprecated, use 'loader.DataLoader' instead\n",
      "  warnings.warn(out)\n"
     ]
    },
    {
     "name": "stdout",
     "output_type": "stream",
     "text": [
      "1/0.0000/0.01 | 2/0.3333/0.01 | 3/0.2889/0.01 | 4/0.0000/0.01 | 5/0.0000/0.01 | 6/0.2000/0.01 | 7/0.2333/0.01 | 8/0.2333/0.005 | 9/0.2333/0.005 | 10/0.2111/0.005 | 11/0.1889/0.005 | 12/0.1444/0.005 | 13/0.1222/0.005 | 14/0.1111/0.0025 | 15/0.1000/0.0025 | 16/0.1111/0.0025 | 17/0.1111/0.0025 | 18/0.1000/0.0025 | 19/0.1000/0.0025 | 20/0.1222/0.00125 | 21/0.1222/0.00125 | 22/0.1111/0.00125 | 23/0.1111/0.00125 | 24/0.1111/0.00125 | 25/0.1556/0.00125 | 26/0.1556/0.000625 | 27/0.1778/0.000625 | 28/0.1778/0.000625 | 29/0.1889/0.000625 | 30/0.2000/0.000625 | 31/0.1778/0.000625 | 32/0.2000/0.0003125 | 33/0.2000/0.0003125 | 34/0.2000/0.0003125 | 35/0.2111/0.0003125 | 36/0.2111/0.0003125 | 37/0.2222/0.0003125 | 38/0.2111/0.00015625 | 39/0.2222/0.00015625 | 40/0.2222/0.00015625 | 41/0.2222/0.00015625 | 42/0.2222/0.00015625 | 43/0.2222/0.00015625 | 44/0.2333/7.8125e-05 | 45/0.2333/7.8125e-05 | 46/0.2444/7.8125e-05 | 47/0.2444/7.8125e-05 | 48/0.2444/7.8125e-05 | 49/0.2444/7.8125e-05 | 50/0.2444/3.90625e-05 | 51/0.2444/3.90625e-05 | 52/0.2444/3.90625e-05 | 53/0.2444/3.90625e-05 | 54/0.2444/3.90625e-05 | 55/0.2444/3.90625e-05 | 56/0.2444/1.953125e-05 | 57/0.2333/1.953125e-05 | 58/0.2333/1.953125e-05 | 59/0.2333/1.953125e-05 | 60/0.2333/1.953125e-05 | 61/0.2333/1.953125e-05 | 62/0.2333/9.765625e-06 | 63/0.2333/9.765625e-06 | 64/0.2333/9.765625e-06 | 65/0.2333/9.765625e-06 | 66/0.2333/9.765625e-06 | 67/0.2333/9.765625e-06 | 68/0.2333/4.8828125e-06 | 69/0.2333/4.8828125e-06 | 70/0.2333/4.8828125e-06 | 71/0.2333/4.8828125e-06 | 72/0.2333/4.8828125e-06 | 73/0.2333/4.8828125e-06 | 74/0.2333/2.44140625e-06 | 75/0.2333/2.44140625e-06 | 76/0.2333/2.44140625e-06 | 77/0.2333/2.44140625e-06 | 78/0.2333/2.44140625e-06 | 79/0.2333/2.44140625e-06 | 80/0.2444/1.220703125e-06 | 81/0.2333/1.220703125e-06 | 82/0.2444/1.220703125e-06 | 83/0.2333/1.220703125e-06 | 84/0.2333/1.220703125e-06 | 85/0.2333/1.220703125e-06 | 86/0.2333/6.103515625e-07 | Accuracy: 0.2699\n",
      "Evaluating proteins dataset using cos_sim method with a percentile of 50 against class members\n",
      "Epoch/val accuracy/lr: "
     ]
    },
    {
     "name": "stderr",
     "output_type": "stream",
     "text": [
      "/opt/conda/lib/python3.10/site-packages/torch_geometric/deprecation.py:26: UserWarning: 'data.DataLoader' is deprecated, use 'loader.DataLoader' instead\n",
      "  warnings.warn(out)\n"
     ]
    },
    {
     "name": "stdout",
     "output_type": "stream",
     "text": [
      "1/0.1786/0.01 | 2/0.0536/0.01 | 3/0.2143/0.01 | 4/0.1250/0.01 | 5/0.1786/0.01 | 6/0.2143/0.01 | 7/0.1875/0.01 | 8/0.1964/0.01 | 9/0.1964/0.005 | 10/0.1786/0.005 | 11/0.1607/0.005 | 12/0.1607/0.005 | 13/0.1696/0.005 | 14/0.2143/0.005 | 15/0.2143/0.0025 | 16/0.2143/0.0025 | 17/0.2143/0.0025 | 18/0.2143/0.0025 | 19/0.1964/0.0025 | 20/0.1607/0.0025 | 21/0.1696/0.00125 | 22/0.1696/0.00125 | 23/0.1607/0.00125 | 24/0.1518/0.00125 | 25/0.1518/0.00125 | 26/0.1518/0.00125 | 27/0.1607/0.000625 | 28/0.1518/0.000625 | 29/0.1339/0.000625 | 30/0.1518/0.000625 | 31/0.1518/0.000625 | 32/0.1429/0.000625 | 33/0.1518/0.0003125 | 34/0.1518/0.0003125 | 35/0.1518/0.0003125 | 36/0.1964/0.0003125 | 37/0.1964/0.0003125 | 38/0.1875/0.0003125 | 39/0.1964/0.00015625 | 40/0.1964/0.00015625 | 41/0.1964/0.00015625 | 42/0.1964/0.00015625 | 43/0.1964/0.00015625 | 44/0.2143/0.00015625 | 45/0.2143/7.8125e-05 | 46/0.2143/7.8125e-05 | 47/0.2232/7.8125e-05 | 48/0.2143/7.8125e-05 | 49/0.2232/7.8125e-05 | 50/0.2054/7.8125e-05 | 51/0.2143/3.90625e-05 | 52/0.2143/3.90625e-05 | 53/0.2054/3.90625e-05 | 54/0.2232/3.90625e-05 | 55/0.2232/3.90625e-05 | 56/0.2232/3.90625e-05 | 57/0.2232/1.953125e-05 | 58/0.2232/1.953125e-05 | 59/0.2232/1.953125e-05 | 60/0.2232/1.953125e-05 | 61/0.2232/1.953125e-05 | 62/0.2232/1.953125e-05 | 63/0.2232/9.765625e-06 | 64/0.2232/9.765625e-06 | 65/0.2232/9.765625e-06 | 66/0.2232/9.765625e-06 | 67/0.2232/9.765625e-06 | 68/0.2232/9.765625e-06 | 69/0.2232/4.8828125e-06 | 70/0.2321/4.8828125e-06 | 71/0.2232/4.8828125e-06 | 72/0.2321/4.8828125e-06 | 73/0.2411/4.8828125e-06 | 74/0.2411/4.8828125e-06 | 75/0.2500/2.44140625e-06 | 76/0.2500/2.44140625e-06 | 77/0.2500/2.44140625e-06 | 78/0.2500/2.44140625e-06 | 79/0.2500/2.44140625e-06 | 80/0.2500/2.44140625e-06 | 81/0.2411/1.220703125e-06 | 82/0.2411/1.220703125e-06 | 83/0.2500/1.220703125e-06 | 84/0.2500/1.220703125e-06 | 85/0.2500/1.220703125e-06 | 86/0.2500/1.220703125e-06 | 87/0.2500/6.103515625e-07 | Accuracy: 0.2572\n",
      "Evaluating proteins dataset using cos_sim method with a percentile of 60 against class members\n",
      "Epoch/val accuracy/lr: "
     ]
    },
    {
     "name": "stderr",
     "output_type": "stream",
     "text": [
      "/opt/conda/lib/python3.10/site-packages/torch_geometric/deprecation.py:26: UserWarning: 'data.DataLoader' is deprecated, use 'loader.DataLoader' instead\n",
      "  warnings.warn(out)\n"
     ]
    },
    {
     "name": "stdout",
     "output_type": "stream",
     "text": [
      "1/0.4179/0.01 | 2/0.0000/0.01 | 3/0.1343/0.01 | 4/0.0000/0.01 | 5/0.0000/0.01 | 6/0.0000/0.01 | 7/0.0000/0.01 | 8/0.0970/0.01 | 9/0.0970/0.005 | 10/0.0970/0.005 | 11/0.0896/0.005 | 12/0.0672/0.005 | 13/0.0746/0.005 | 14/0.0746/0.005 | 15/0.0597/0.0025 | 16/0.0597/0.0025 | 17/0.0597/0.0025 | 18/0.0672/0.0025 | 19/0.0821/0.0025 | 20/0.1119/0.0025 | 21/0.1119/0.00125 | 22/0.1119/0.00125 | 23/0.1119/0.00125 | 24/0.1194/0.00125 | 25/0.1119/0.00125 | 26/0.0597/0.00125 | 27/0.0597/0.000625 | 28/0.0597/0.000625 | 29/0.0597/0.000625 | 30/0.0597/0.000625 | 31/0.0522/0.000625 | 32/0.0746/0.000625 | 33/0.0970/0.0003125 | 34/0.1045/0.0003125 | 35/0.1194/0.0003125 | 36/0.1269/0.0003125 | 37/0.1791/0.0003125 | 38/0.1791/0.0003125 | 39/0.1791/0.00015625 | 40/0.1791/0.00015625 | 41/0.1791/0.00015625 | 42/0.1791/0.00015625 | 43/0.1866/0.00015625 | 44/0.1866/0.00015625 | 45/0.1940/7.8125e-05 | 46/0.1940/7.8125e-05 | 47/0.1940/7.8125e-05 | 48/0.1940/7.8125e-05 | 49/0.2015/7.8125e-05 | 50/0.2164/7.8125e-05 | 51/0.2090/3.90625e-05 | 52/0.2164/3.90625e-05 | 53/0.2239/3.90625e-05 | 54/0.2239/3.90625e-05 | 55/0.2239/3.90625e-05 | 56/0.2313/3.90625e-05 | 57/0.2313/1.953125e-05 | 58/0.2313/1.953125e-05 | 59/0.2313/1.953125e-05 | 60/0.2313/1.953125e-05 | 61/0.2313/1.953125e-05 | 62/0.2313/1.953125e-05 | 63/0.2313/9.765625e-06 | 64/0.2239/9.765625e-06 | 65/0.2313/9.765625e-06 | 66/0.2313/9.765625e-06 | 67/0.2313/9.765625e-06 | 68/0.2388/9.765625e-06 | 69/0.2388/4.8828125e-06 | 70/0.2313/4.8828125e-06 | 71/0.2313/4.8828125e-06 | 72/0.2313/4.8828125e-06 | 73/0.2388/4.8828125e-06 | 74/0.2388/4.8828125e-06 | 75/0.2388/2.44140625e-06 | 76/0.2388/2.44140625e-06 | 77/0.2388/2.44140625e-06 | 78/0.2388/2.44140625e-06 | 79/0.2388/2.44140625e-06 | 80/0.2388/2.44140625e-06 | 81/0.2388/1.220703125e-06 | 82/0.2463/1.220703125e-06 | 83/0.2463/1.220703125e-06 | 84/0.2463/1.220703125e-06 | 85/0.2463/1.220703125e-06 | 86/0.2463/1.220703125e-06 | 87/0.2463/6.103515625e-07 | Accuracy: 0.2607\n",
      "Evaluating proteins dataset using cos_sim method with a percentile of 70 against class members\n",
      "Epoch/val accuracy/lr: "
     ]
    },
    {
     "name": "stderr",
     "output_type": "stream",
     "text": [
      "/opt/conda/lib/python3.10/site-packages/torch_geometric/deprecation.py:26: UserWarning: 'data.DataLoader' is deprecated, use 'loader.DataLoader' instead\n",
      "  warnings.warn(out)\n"
     ]
    },
    {
     "name": "stdout",
     "output_type": "stream",
     "text": [
      "1/0.0000/0.01 | 2/0.1529/0.01 | 3/0.1210/0.01 | 4/0.1592/0.01 | 5/0.1210/0.01 | 6/0.0000/0.01 | 7/0.0000/0.01 | 8/0.0892/0.005 | 9/0.1401/0.005 | 10/0.1465/0.005 | 11/0.1911/0.005 | 12/0.2102/0.005 | 13/0.1975/0.005 | 14/0.1592/0.0025 | 15/0.1401/0.0025 | 16/0.1401/0.0025 | 17/0.1783/0.0025 | 18/0.1847/0.0025 | 19/0.1847/0.0025 | 20/0.1911/0.00125 | 21/0.1911/0.00125 | 22/0.1911/0.00125 | 23/0.1975/0.00125 | 24/0.1975/0.00125 | 25/0.1975/0.00125 | 26/0.1975/0.000625 | 27/0.1911/0.000625 | 28/0.1911/0.000625 | 29/0.1911/0.000625 | 30/0.1911/0.000625 | 31/0.2038/0.000625 | 32/0.2038/0.0003125 | 33/0.2038/0.0003125 | 34/0.2038/0.0003125 | 35/0.2229/0.0003125 | 36/0.2293/0.0003125 | 37/0.2293/0.0003125 | 38/0.2293/0.00015625 | 39/0.2293/0.00015625 | 40/0.2293/0.00015625 | 41/0.2357/0.00015625 | 42/0.2293/0.00015625 | 43/0.2293/0.00015625 | 44/0.2293/7.8125e-05 | 45/0.2293/7.8125e-05 | 46/0.2293/7.8125e-05 | 47/0.2293/7.8125e-05 | 48/0.2293/7.8125e-05 | 49/0.2293/7.8125e-05 | 50/0.2357/3.90625e-05 | 51/0.2357/3.90625e-05 | 52/0.2293/3.90625e-05 | 53/0.2420/3.90625e-05 | 54/0.2420/3.90625e-05 | 55/0.2420/3.90625e-05 | 56/0.2420/1.953125e-05 | 57/0.2420/1.953125e-05 | 58/0.2420/1.953125e-05 | 59/0.2420/1.953125e-05 | 60/0.2420/1.953125e-05 | 61/0.2484/1.953125e-05 | 62/0.2484/9.765625e-06 | 63/0.2484/9.765625e-06 | 64/0.2548/9.765625e-06 | 65/0.2548/9.765625e-06 | 66/0.2548/9.765625e-06 | 67/0.2548/9.765625e-06 | 68/0.2484/4.8828125e-06 | 69/0.2484/4.8828125e-06 | 70/0.2548/4.8828125e-06 | 71/0.2548/4.8828125e-06 | 72/0.2548/4.8828125e-06 | 73/0.2484/4.8828125e-06 | 74/0.2484/2.44140625e-06 | 75/0.2420/2.44140625e-06 | 76/0.2420/2.44140625e-06 | 77/0.2484/2.44140625e-06 | 78/0.2484/2.44140625e-06 | 79/0.2548/2.44140625e-06 | 80/0.2548/1.220703125e-06 | 81/0.2484/1.220703125e-06 | 82/0.2484/1.220703125e-06 | 83/0.2484/1.220703125e-06 | 84/0.2548/1.220703125e-06 | 85/0.2548/1.220703125e-06 | 86/0.2548/6.103515625e-07 | Accuracy: 0.2349\n",
      "Evaluating proteins dataset using cos_sim method with a percentile of 80 against class members\n",
      "Epoch/val accuracy/lr: "
     ]
    },
    {
     "name": "stderr",
     "output_type": "stream",
     "text": [
      "/opt/conda/lib/python3.10/site-packages/torch_geometric/deprecation.py:26: UserWarning: 'data.DataLoader' is deprecated, use 'loader.DataLoader' instead\n",
      "  warnings.warn(out)\n"
     ]
    },
    {
     "name": "stdout",
     "output_type": "stream",
     "text": [
      "1/0.0000/0.01 | 2/0.1285/0.01 | 3/0.3855/0.01 | 4/0.3128/0.01 | 5/0.0112/0.01 | 6/0.0000/0.01 | 7/0.0056/0.01 | 8/0.0056/0.005 | 9/0.0112/0.005 | 10/0.0279/0.005 | 11/0.0391/0.005 | 12/0.0391/0.005 | 13/0.0335/0.005 | 14/0.0503/0.0025 | 15/0.0503/0.0025 | 16/0.0559/0.0025 | 17/0.0615/0.0025 | 18/0.0838/0.0025 | 19/0.0950/0.0025 | 20/0.1229/0.00125 | 21/0.1341/0.00125 | 22/0.1285/0.00125 | 23/0.1453/0.00125 | 24/0.1453/0.00125 | 25/0.1453/0.00125 | 26/0.1508/0.000625 | 27/0.1508/0.000625 | 28/0.1732/0.000625 | 29/0.2291/0.000625 | 30/0.2458/0.000625 | 31/0.2514/0.000625 | 32/0.2570/0.0003125 | 33/0.2514/0.0003125 | 34/0.2514/0.0003125 | 35/0.2514/0.0003125 | 36/0.2570/0.0003125 | 37/0.2570/0.0003125 | 38/0.2570/0.00015625 | 39/0.2570/0.00015625 | 40/0.2626/0.00015625 | 41/0.2626/0.00015625 | 42/0.2682/0.00015625 | 43/0.2682/0.00015625 | 44/0.2682/7.8125e-05 | 45/0.2626/7.8125e-05 | 46/0.2626/7.8125e-05 | 47/0.2626/7.8125e-05 | 48/0.2570/7.8125e-05 | 49/0.2626/7.8125e-05 | 50/0.2626/3.90625e-05 | 51/0.2626/3.90625e-05 | 52/0.2626/3.90625e-05 | 53/0.2626/3.90625e-05 | 54/0.2626/3.90625e-05 | 55/0.2626/3.90625e-05 | 56/0.2626/1.953125e-05 | 57/0.2626/1.953125e-05 | 58/0.2626/1.953125e-05 | 59/0.2626/1.953125e-05 | 60/0.2626/1.953125e-05 | 61/0.2626/1.953125e-05 | 62/0.2626/9.765625e-06 | 63/0.2626/9.765625e-06 | 64/0.2682/9.765625e-06 | 65/0.2682/9.765625e-06 | 66/0.2737/9.765625e-06 | 67/0.2626/9.765625e-06 | 68/0.2737/4.8828125e-06 | 69/0.2626/4.8828125e-06 | 70/0.2682/4.8828125e-06 | 71/0.2682/4.8828125e-06 | 72/0.2682/4.8828125e-06 | 73/0.2682/4.8828125e-06 | 74/0.2682/2.44140625e-06 | 75/0.2682/2.44140625e-06 | 76/0.2682/2.44140625e-06 | 77/0.2682/2.44140625e-06 | 78/0.2626/2.44140625e-06 | 79/0.2682/2.44140625e-06 | 80/0.2626/1.220703125e-06 | 81/0.2626/1.220703125e-06 | 82/0.2626/1.220703125e-06 | 83/0.2626/1.220703125e-06 | 84/0.2626/1.220703125e-06 | 85/0.2514/1.220703125e-06 | 86/0.2570/6.103515625e-07 | Accuracy: 0.2207\n",
      "Evaluating proteins dataset using cos_sim method with a percentile of 90 against class members\n",
      "Epoch/val accuracy/lr: "
     ]
    },
    {
     "name": "stderr",
     "output_type": "stream",
     "text": [
      "/opt/conda/lib/python3.10/site-packages/torch_geometric/deprecation.py:26: UserWarning: 'data.DataLoader' is deprecated, use 'loader.DataLoader' instead\n",
      "  warnings.warn(out)\n"
     ]
    },
    {
     "name": "stdout",
     "output_type": "stream",
     "text": [
      "1/0.0000/0.01 | 2/0.0000/0.01 | 3/0.0000/0.01 | 4/0.2189/0.01 | 5/0.2687/0.01 | 6/0.3582/0.01 | 7/0.1741/0.01 | 8/0.0896/0.005 | 9/0.0050/0.005 | 10/0.0000/0.005 | 11/0.0000/0.005 | 12/0.0000/0.005 | 13/0.0000/0.005 | 14/0.0000/0.0025 | 15/0.0000/0.0025 | 16/0.0000/0.0025 | 17/0.0050/0.0025 | 18/0.0348/0.0025 | 19/0.0597/0.0025 | 20/0.0796/0.00125 | 21/0.1045/0.00125 | 22/0.1144/0.00125 | 23/0.1343/0.00125 | 24/0.1343/0.00125 | 25/0.1393/0.00125 | 26/0.1493/0.000625 | 27/0.1493/0.000625 | 28/0.1542/0.000625 | 29/0.1542/0.000625 | 30/0.1493/0.000625 | 31/0.1542/0.000625 | 32/0.1542/0.0003125 | 33/0.1542/0.0003125 | 34/0.1642/0.0003125 | 35/0.1692/0.0003125 | 36/0.1841/0.0003125 | 37/0.1841/0.0003125 | 38/0.1891/0.00015625 | 39/0.1891/0.00015625 | 40/0.1891/0.00015625 | 41/0.1940/0.00015625 | 42/0.1940/0.00015625 | 43/0.1990/0.00015625 | 44/0.1990/7.8125e-05 | 45/0.1990/7.8125e-05 | 46/0.1990/7.8125e-05 | 47/0.1990/7.8125e-05 | 48/0.1990/7.8125e-05 | 49/0.2040/7.8125e-05 | 50/0.2040/3.90625e-05 | 51/0.2040/3.90625e-05 | 52/0.2040/3.90625e-05 | 53/0.2040/3.90625e-05 | 54/0.2040/3.90625e-05 | 55/0.2040/3.90625e-05 | 56/0.2040/1.953125e-05 | 57/0.2040/1.953125e-05 | 58/0.2040/1.953125e-05 | 59/0.2090/1.953125e-05 | 60/0.2090/1.953125e-05 | 61/0.2090/1.953125e-05 | 62/0.2040/9.765625e-06 | 63/0.2139/9.765625e-06 | 64/0.2139/9.765625e-06 | 65/0.2189/9.765625e-06 | 66/0.2139/9.765625e-06 | 67/0.2189/9.765625e-06 | 68/0.2139/4.8828125e-06 | 69/0.2189/4.8828125e-06 | 70/0.2189/4.8828125e-06 | 71/0.2239/4.8828125e-06 | 72/0.2239/4.8828125e-06 | 73/0.2139/4.8828125e-06 | 74/0.2189/2.44140625e-06 | 75/0.2189/2.44140625e-06 | 76/0.2189/2.44140625e-06 | 77/0.2189/2.44140625e-06 | 78/0.2239/2.44140625e-06 | 79/0.2189/2.44140625e-06 | 80/0.2189/1.220703125e-06 | 81/0.2139/1.220703125e-06 | 82/0.2189/1.220703125e-06 | 83/0.2139/1.220703125e-06 | 84/0.2189/1.220703125e-06 | 85/0.2239/1.220703125e-06 | 86/0.2189/6.103515625e-07 | Accuracy: 0.2342\n",
      "Evaluating mutag dataset using random method with a percentile of 40 against class members\n",
      "Epoch/val accuracy/lr: "
     ]
    },
    {
     "name": "stderr",
     "output_type": "stream",
     "text": [
      "/opt/conda/lib/python3.10/site-packages/torch_geometric/deprecation.py:26: UserWarning: 'data.DataLoader' is deprecated, use 'loader.DataLoader' instead\n",
      "  warnings.warn(out)\n"
     ]
    },
    {
     "name": "stdout",
     "output_type": "stream",
     "text": [
      "1/0.5333/0.01 | 2/0.5333/0.01 | 3/0.5333/0.01 | 4/0.5333/0.01 | 5/0.5333/0.01 | 6/0.5333/0.01 | 7/0.5333/0.01 | 8/0.5333/0.005 | 9/0.5333/0.005 | 10/0.5333/0.005 | 11/0.4667/0.005 | 12/0.4000/0.005 | 13/0.4000/0.005 | 14/0.4000/0.005 | 15/0.4000/0.005 | 16/0.2667/0.005 | 17/0.2667/0.005 | 18/0.2667/0.005 | 19/0.2667/0.005 | 20/0.2667/0.005 | 21/0.2667/0.005 | 22/0.0000/0.005 | 23/0.2667/0.005 | 24/0.4000/0.005 | 25/0.4000/0.005 | 26/0.4000/0.005 | 27/0.4667/0.005 | 28/0.5333/0.005 | 29/0.5333/0.0025 | 30/0.5333/0.0025 | 31/0.5333/0.0025 | 32/0.5333/0.0025 | 33/0.5333/0.0025 | 34/0.5333/0.0025 | 35/0.5333/0.00125 | 36/0.5333/0.00125 | 37/0.5333/0.00125 | 38/0.5333/0.00125 | 39/0.5333/0.00125 | 40/0.5333/0.00125 | 41/0.5333/0.000625 | 42/0.5333/0.000625 | 43/0.5333/0.000625 | 44/0.5333/0.000625 | 45/0.5333/0.000625 | 46/0.5333/0.000625 | 47/0.5333/0.0003125 | 48/0.5333/0.0003125 | 49/0.5333/0.0003125 | 50/0.5333/0.0003125 | 51/0.5333/0.0003125 | 52/0.5333/0.0003125 | 53/0.5333/0.00015625 | 54/0.5333/0.00015625 | 55/0.5333/0.00015625 | 56/0.5333/0.00015625 | 57/0.5333/0.00015625 | 58/0.4667/0.00015625 | 59/0.4667/7.8125e-05 | 60/0.4667/7.8125e-05 | 61/0.4667/7.8125e-05 | 62/0.4667/7.8125e-05 | 63/0.4667/7.8125e-05 | 64/0.4667/7.8125e-05 | 65/0.4667/3.90625e-05 | 66/0.4667/3.90625e-05 | 67/0.4667/3.90625e-05 | 68/0.4667/3.90625e-05 | 69/0.4667/3.90625e-05 | 70/0.4667/3.90625e-05 | 71/0.4667/1.953125e-05 | 72/0.4667/1.953125e-05 | 73/0.4667/1.953125e-05 | 74/0.4667/1.953125e-05 | 75/0.4667/1.953125e-05 | 76/0.4667/1.953125e-05 | 77/0.4667/9.765625e-06 | 78/0.4667/9.765625e-06 | 79/0.4667/9.765625e-06 | 80/0.4667/9.765625e-06 | 81/0.4667/9.765625e-06 | 82/0.4667/9.765625e-06 | 83/0.4667/4.8828125e-06 | 84/0.4667/4.8828125e-06 | 85/0.4667/4.8828125e-06 | 86/0.4667/4.8828125e-06 | 87/0.4667/4.8828125e-06 | 88/0.4667/4.8828125e-06 | 89/0.4667/2.44140625e-06 | 90/0.4667/2.44140625e-06 | 91/0.4667/2.44140625e-06 | 92/0.4667/2.44140625e-06 | 93/0.4667/2.44140625e-06 | 94/0.4667/2.44140625e-06 | 95/0.4667/1.220703125e-06 | 96/0.4667/1.220703125e-06 | 97/0.4667/1.220703125e-06 | 98/0.4667/1.220703125e-06 | 99/0.4667/1.220703125e-06 | 100/0.4667/1.220703125e-06 | 101/0.4667/6.103515625e-07 | Accuracy: 0.6018\n",
      "Evaluating mutag dataset using random method with a percentile of 50 against class members\n",
      "Epoch/val accuracy/lr: "
     ]
    },
    {
     "name": "stderr",
     "output_type": "stream",
     "text": [
      "/opt/conda/lib/python3.10/site-packages/torch_geometric/deprecation.py:26: UserWarning: 'data.DataLoader' is deprecated, use 'loader.DataLoader' instead\n",
      "  warnings.warn(out)\n"
     ]
    },
    {
     "name": "stdout",
     "output_type": "stream",
     "text": [
      "1/0.5263/0.01 | 2/0.5263/0.01 | 3/0.5263/0.01 | 4/0.5263/0.01 | 5/0.5263/0.01 | 6/0.5263/0.01 | 7/0.5263/0.01 | 8/0.5263/0.005 | 9/0.5263/0.005 | 10/0.5263/0.005 | 11/0.5263/0.005 | 12/0.4737/0.005 | 13/0.4737/0.005 | 14/0.4737/0.005 | 15/0.4737/0.005 | 16/0.4211/0.005 | 17/0.4211/0.005 | 18/0.4211/0.005 | 19/0.4211/0.005 | 20/0.4211/0.005 | 21/0.4737/0.005 | 22/0.4737/0.005 | 23/0.4737/0.0025 | 24/0.4737/0.0025 | 25/0.4737/0.0025 | 26/0.4737/0.0025 | 27/0.4737/0.0025 | 28/0.4737/0.0025 | 29/0.4211/0.00125 | 30/0.4211/0.00125 | 31/0.4211/0.00125 | 32/0.4211/0.00125 | 33/0.4211/0.00125 | 34/0.4211/0.00125 | 35/0.4211/0.000625 | 36/0.4211/0.000625 | 37/0.4211/0.000625 | 38/0.4211/0.000625 | 39/0.4211/0.000625 | 40/0.3684/0.000625 | 41/0.3684/0.000625 | 42/0.3684/0.000625 | 43/0.3684/0.000625 | 44/0.3684/0.000625 | 45/0.3684/0.000625 | 46/0.3684/0.000625 | 47/0.3684/0.0003125 | 48/0.3684/0.0003125 | 49/0.3684/0.0003125 | 50/0.3684/0.0003125 | 51/0.3684/0.0003125 | 52/0.3684/0.0003125 | 53/0.4211/0.00015625 | 54/0.4211/0.00015625 | 55/0.4211/0.00015625 | 56/0.4211/0.00015625 | 57/0.4211/0.00015625 | 58/0.4211/0.00015625 | 59/0.4211/7.8125e-05 | 60/0.4211/7.8125e-05 | 61/0.4737/7.8125e-05 | 62/0.4737/7.8125e-05 | 63/0.4737/7.8125e-05 | 64/0.4737/7.8125e-05 | 65/0.4737/3.90625e-05 | 66/0.4737/3.90625e-05 | 67/0.4737/3.90625e-05 | 68/0.4737/3.90625e-05 | 69/0.4737/3.90625e-05 | 70/0.4737/3.90625e-05 | 71/0.4737/1.953125e-05 | 72/0.4737/1.953125e-05 | 73/0.4737/1.953125e-05 | 74/0.4737/1.953125e-05 | 75/0.4737/1.953125e-05 | 76/0.4737/1.953125e-05 | 77/0.4737/9.765625e-06 | 78/0.4737/9.765625e-06 | 79/0.4737/9.765625e-06 | 80/0.4737/9.765625e-06 | 81/0.4737/9.765625e-06 | 82/0.4737/9.765625e-06 | 83/0.4737/4.8828125e-06 | 84/0.4737/4.8828125e-06 | 85/0.4737/4.8828125e-06 | 86/0.4737/4.8828125e-06 | 87/0.4737/4.8828125e-06 | 88/0.4737/4.8828125e-06 | 89/0.4737/2.44140625e-06 | 90/0.4737/2.44140625e-06 | 91/0.4737/2.44140625e-06 | 92/0.4737/2.44140625e-06 | 93/0.4737/2.44140625e-06 | 94/0.4737/2.44140625e-06 | 95/0.4737/1.220703125e-06 | 96/0.4737/1.220703125e-06 | 97/0.4737/1.220703125e-06 | 98/0.4737/1.220703125e-06 | 99/0.4737/1.220703125e-06 | 100/0.4737/1.220703125e-06 | 101/0.4737/6.103515625e-07 | Accuracy: 0.6064\n",
      "Evaluating mutag dataset using random method with a percentile of 60 against class members\n",
      "Epoch/val accuracy/lr: "
     ]
    },
    {
     "name": "stderr",
     "output_type": "stream",
     "text": [
      "/opt/conda/lib/python3.10/site-packages/torch_geometric/deprecation.py:26: UserWarning: 'data.DataLoader' is deprecated, use 'loader.DataLoader' instead\n",
      "  warnings.warn(out)\n"
     ]
    },
    {
     "name": "stdout",
     "output_type": "stream",
     "text": [
      "1/0.7391/0.01 | 2/0.7391/0.01 | 3/0.7391/0.01 | 4/0.7391/0.01 | 5/0.7391/0.01 | 6/0.7391/0.01 | 7/0.7391/0.01 | 8/0.7391/0.005 | 9/0.7391/0.005 | 10/0.7391/0.005 | 11/0.7391/0.005 | 12/0.7391/0.005 | 13/0.7391/0.005 | 14/0.7391/0.0025 | 15/0.7391/0.0025 | 16/0.7391/0.0025 | 17/0.6957/0.0025 | 18/0.6957/0.0025 | 19/0.6957/0.0025 | 20/0.6957/0.0025 | 21/0.6522/0.0025 | 22/0.6522/0.0025 | 23/0.5652/0.0025 | 24/0.5652/0.0025 | 25/0.5652/0.0025 | 26/0.5652/0.0025 | 27/0.6087/0.0025 | 28/0.6087/0.0025 | 29/0.6522/0.0025 | 30/0.6522/0.00125 | 31/0.6522/0.00125 | 32/0.6087/0.00125 | 33/0.6087/0.00125 | 34/0.6087/0.00125 | 35/0.6087/0.00125 | 36/0.6522/0.000625 | 37/0.6522/0.000625 | 38/0.6522/0.000625 | 39/0.6522/0.000625 | 40/0.6522/0.000625 | 41/0.6957/0.000625 | 42/0.6957/0.0003125 | 43/0.6957/0.0003125 | 44/0.6957/0.0003125 | 45/0.6957/0.0003125 | 46/0.6957/0.0003125 | 47/0.6957/0.0003125 | 48/0.6957/0.00015625 | 49/0.6522/0.00015625 | 50/0.6522/0.00015625 | 51/0.6522/0.00015625 | 52/0.6522/0.00015625 | 53/0.6522/0.00015625 | 54/0.6522/7.8125e-05 | 55/0.6522/7.8125e-05 | 56/0.6522/7.8125e-05 | 57/0.6522/7.8125e-05 | 58/0.6522/7.8125e-05 | 59/0.6522/7.8125e-05 | 60/0.6522/3.90625e-05 | 61/0.6522/3.90625e-05 | 62/0.6522/3.90625e-05 | 63/0.6522/3.90625e-05 | 64/0.6522/3.90625e-05 | 65/0.6522/3.90625e-05 | 66/0.6522/1.953125e-05 | 67/0.6522/1.953125e-05 | 68/0.6522/1.953125e-05 | 69/0.6522/1.953125e-05 | 70/0.6522/1.953125e-05 | 71/0.6522/1.953125e-05 | 72/0.6522/9.765625e-06 | 73/0.6522/9.765625e-06 | 74/0.6522/9.765625e-06 | 75/0.6522/9.765625e-06 | 76/0.6957/9.765625e-06 | 77/0.6957/9.765625e-06 | 78/0.6957/4.8828125e-06 | 79/0.6957/4.8828125e-06 | 80/0.6957/4.8828125e-06 | 81/0.6957/4.8828125e-06 | 82/0.6957/4.8828125e-06 | 83/0.6957/4.8828125e-06 | 84/0.6957/2.44140625e-06 | 85/0.6957/2.44140625e-06 | 86/0.6957/2.44140625e-06 | 87/0.6957/2.44140625e-06 | 88/0.6957/2.44140625e-06 | 89/0.6957/2.44140625e-06 | 90/0.6957/1.220703125e-06 | 91/0.6957/1.220703125e-06 | 92/0.6957/1.220703125e-06 | 93/0.6957/1.220703125e-06 | 94/0.6957/1.220703125e-06 | 95/0.6957/1.220703125e-06 | 96/0.6957/6.103515625e-07 | Accuracy: 0.5000\n",
      "Evaluating mutag dataset using random method with a percentile of 70 against class members\n",
      "Epoch/val accuracy/lr: "
     ]
    },
    {
     "name": "stderr",
     "output_type": "stream",
     "text": [
      "/opt/conda/lib/python3.10/site-packages/torch_geometric/deprecation.py:26: UserWarning: 'data.DataLoader' is deprecated, use 'loader.DataLoader' instead\n",
      "  warnings.warn(out)\n"
     ]
    },
    {
     "name": "stdout",
     "output_type": "stream",
     "text": [
      "1/0.5926/0.01 | 2/0.5926/0.01 | 3/0.5926/0.01 | 4/0.5926/0.01 | 5/0.5926/0.01 | 6/0.5926/0.01 | 7/0.5926/0.01 | 8/0.5926/0.005 | 9/0.5926/0.005 | 10/0.5926/0.005 | 11/0.5926/0.005 | 12/0.5926/0.005 | 13/0.5926/0.005 | 14/0.5926/0.0025 | 15/0.5926/0.0025 | 16/0.5926/0.0025 | 17/0.5926/0.0025 | 18/0.5926/0.0025 | 19/0.5926/0.0025 | 20/0.5926/0.00125 | 21/0.5926/0.00125 | 22/0.5556/0.00125 | 23/0.5556/0.00125 | 24/0.5556/0.00125 | 25/0.5556/0.00125 | 26/0.5556/0.00125 | 27/0.5185/0.00125 | 28/0.5185/0.00125 | 29/0.5185/0.00125 | 30/0.4815/0.00125 | 31/0.4444/0.00125 | 32/0.4815/0.00125 | 33/0.4815/0.00125 | 34/0.4815/0.00125 | 35/0.4444/0.00125 | 36/0.4444/0.00125 | 37/0.4444/0.00125 | 38/0.4444/0.000625 | 39/0.4074/0.000625 | 40/0.4074/0.000625 | 41/0.4074/0.000625 | 42/0.4074/0.000625 | 43/0.4074/0.000625 | 44/0.4074/0.000625 | 45/0.4074/0.000625 | 46/0.4074/0.0003125 | 47/0.4074/0.0003125 | 48/0.4074/0.0003125 | 49/0.4074/0.0003125 | 50/0.4074/0.0003125 | 51/0.4074/0.0003125 | 52/0.4074/0.00015625 | 53/0.4074/0.00015625 | 54/0.4074/0.00015625 | 55/0.4074/0.00015625 | 56/0.4074/0.00015625 | 57/0.4074/0.00015625 | 58/0.4074/7.8125e-05 | 59/0.4074/7.8125e-05 | 60/0.4074/7.8125e-05 | 61/0.4074/7.8125e-05 | 62/0.4074/7.8125e-05 | 63/0.4074/7.8125e-05 | 64/0.4074/3.90625e-05 | 65/0.4074/3.90625e-05 | 66/0.4074/3.90625e-05 | 67/0.4074/3.90625e-05 | 68/0.4074/3.90625e-05 | 69/0.4074/3.90625e-05 | 70/0.4074/1.953125e-05 | 71/0.4074/1.953125e-05 | 72/0.4074/1.953125e-05 | 73/0.4074/1.953125e-05 | 74/0.4074/1.953125e-05 | 75/0.4074/1.953125e-05 | 76/0.4074/9.765625e-06 | 77/0.4074/9.765625e-06 | 78/0.4074/9.765625e-06 | 79/0.4074/9.765625e-06 | 80/0.4074/9.765625e-06 | 81/0.4074/9.765625e-06 | 82/0.4074/4.8828125e-06 | 83/0.4074/4.8828125e-06 | 84/0.4074/4.8828125e-06 | 85/0.4074/4.8828125e-06 | 86/0.4074/4.8828125e-06 | 87/0.4074/4.8828125e-06 | 88/0.4074/2.44140625e-06 | 89/0.4074/2.44140625e-06 | 90/0.4074/2.44140625e-06 | 91/0.4074/2.44140625e-06 | 92/0.4074/2.44140625e-06 | 93/0.4444/2.44140625e-06 | 94/0.4444/1.220703125e-06 | 95/0.4444/1.220703125e-06 | 96/0.4444/1.220703125e-06 | 97/0.4444/1.220703125e-06 | 98/0.4444/1.220703125e-06 | 99/0.4444/1.220703125e-06 | 100/0.4444/6.103515625e-07 | Accuracy: 0.6667\n",
      "Evaluating mutag dataset using random method with a percentile of 80 against class members\n",
      "Epoch/val accuracy/lr: "
     ]
    },
    {
     "name": "stderr",
     "output_type": "stream",
     "text": [
      "/opt/conda/lib/python3.10/site-packages/torch_geometric/deprecation.py:26: UserWarning: 'data.DataLoader' is deprecated, use 'loader.DataLoader' instead\n",
      "  warnings.warn(out)\n"
     ]
    },
    {
     "name": "stdout",
     "output_type": "stream",
     "text": [
      "1/0.6333/0.01 | 2/0.6333/0.01 | 3/0.6333/0.01 | 4/0.6333/0.01 | 5/0.6333/0.01 | 6/0.6333/0.01 | 7/0.6333/0.01 | 8/0.6333/0.005 | 9/0.6333/0.005 | 10/0.6333/0.005 | 11/0.6333/0.005 | 12/0.6333/0.005 | 13/0.6333/0.005 | 14/0.6333/0.0025 | 15/0.6333/0.0025 | 16/0.6333/0.0025 | 17/0.6000/0.0025 | 18/0.6000/0.0025 | 19/0.6000/0.0025 | 20/0.5667/0.0025 | 21/0.5667/0.0025 | 22/0.5333/0.0025 | 23/0.5333/0.0025 | 24/0.5333/0.0025 | 25/0.5333/0.0025 | 26/0.5333/0.0025 | 27/0.5333/0.0025 | 28/0.5333/0.0025 | 29/0.5333/0.00125 | 30/0.5333/0.00125 | 31/0.5333/0.00125 | 32/0.5333/0.00125 | 33/0.5333/0.00125 | 34/0.5333/0.00125 | 35/0.5000/0.000625 | 36/0.4667/0.000625 | 37/0.4667/0.000625 | 38/0.4333/0.000625 | 39/0.4333/0.000625 | 40/0.4333/0.000625 | 41/0.4333/0.000625 | 42/0.4333/0.000625 | 43/0.4333/0.000625 | 44/0.4333/0.000625 | 45/0.4333/0.0003125 | 46/0.4000/0.0003125 | 47/0.4000/0.0003125 | 48/0.4000/0.0003125 | 49/0.4000/0.0003125 | 50/0.4000/0.0003125 | 51/0.4000/0.0003125 | 52/0.3667/0.0003125 | 53/0.3333/0.0003125 | 54/0.3333/0.0003125 | 55/0.3333/0.0003125 | 56/0.3667/0.0003125 | 57/0.3667/0.0003125 | 58/0.3667/0.0003125 | 59/0.4333/0.0003125 | 60/0.4667/0.00015625 | 61/0.4667/0.00015625 | 62/0.4667/0.00015625 | 63/0.4667/0.00015625 | 64/0.4667/0.00015625 | 65/0.4667/0.00015625 | 66/0.4667/7.8125e-05 | 67/0.4667/7.8125e-05 | 68/0.4667/7.8125e-05 | 69/0.4667/7.8125e-05 | 70/0.4667/7.8125e-05 | 71/0.4667/7.8125e-05 | 72/0.4667/3.90625e-05 | 73/0.4667/3.90625e-05 | 74/0.4667/3.90625e-05 | 75/0.4667/3.90625e-05 | 76/0.4667/3.90625e-05 | 77/0.4667/3.90625e-05 | 78/0.4667/1.953125e-05 | 79/0.4667/1.953125e-05 | 80/0.4667/1.953125e-05 | 81/0.4667/1.953125e-05 | 82/0.4667/1.953125e-05 | 83/0.4667/1.953125e-05 | 84/0.4667/9.765625e-06 | 85/0.4667/9.765625e-06 | 86/0.4667/9.765625e-06 | 87/0.4667/9.765625e-06 | 88/0.4667/9.765625e-06 | 89/0.4667/9.765625e-06 | 90/0.4667/4.8828125e-06 | 91/0.4667/4.8828125e-06 | 92/0.4667/4.8828125e-06 | 93/0.4667/4.8828125e-06 | 94/0.4667/4.8828125e-06 | 95/0.4667/4.8828125e-06 | 96/0.4667/2.44140625e-06 | 97/0.4667/2.44140625e-06 | 98/0.4667/2.44140625e-06 | 99/0.4667/2.44140625e-06 | 100/0.4667/2.44140625e-06 | 101/0.4667/2.44140625e-06 | 102/0.4667/1.220703125e-06 | 103/0.4667/1.220703125e-06 | 104/0.4667/1.220703125e-06 | 105/0.4667/1.220703125e-06 | 106/0.4667/1.220703125e-06 | 107/0.4667/1.220703125e-06 | 108/0.4667/6.103515625e-07 | Accuracy: 0.6053\n",
      "Evaluating mutag dataset using random method with a percentile of 90 against class members\n",
      "Epoch/val accuracy/lr: "
     ]
    },
    {
     "name": "stderr",
     "output_type": "stream",
     "text": [
      "/opt/conda/lib/python3.10/site-packages/torch_geometric/deprecation.py:26: UserWarning: 'data.DataLoader' is deprecated, use 'loader.DataLoader' instead\n",
      "  warnings.warn(out)\n"
     ]
    },
    {
     "name": "stdout",
     "output_type": "stream",
     "text": [
      "1/0.7941/0.01 | 2/0.7941/0.01 | 3/0.7941/0.01 | 4/0.7941/0.01 | 5/0.7941/0.01 | 6/0.7941/0.01 | 7/0.7941/0.01 | 8/0.7941/0.005 | 9/0.7941/0.005 | 10/0.7941/0.005 | 11/0.7941/0.005 | 12/0.7941/0.005 | 13/0.7941/0.005 | 14/0.7941/0.0025 | 15/0.7941/0.0025 | 16/0.7941/0.0025 | 17/0.7941/0.0025 | 18/0.7941/0.0025 | 19/0.7941/0.0025 | 20/0.7941/0.00125 | 21/0.7941/0.00125 | 22/0.7647/0.00125 | 23/0.7353/0.00125 | 24/0.7353/0.00125 | 25/0.7353/0.00125 | 26/0.7353/0.00125 | 27/0.7059/0.00125 | 28/0.7059/0.00125 | 29/0.7059/0.00125 | 30/0.7059/0.00125 | 31/0.7059/0.00125 | 32/0.6176/0.00125 | 33/0.5588/0.00125 | 34/0.5294/0.00125 | 35/0.5294/0.00125 | 36/0.5294/0.00125 | 37/0.5294/0.00125 | 38/0.5882/0.00125 | 39/0.5882/0.00125 | 40/0.5588/0.00125 | 41/0.5882/0.000625 | 42/0.6176/0.000625 | 43/0.6471/0.000625 | 44/0.6471/0.000625 | 45/0.6471/0.000625 | 46/0.6471/0.000625 | 47/0.6471/0.0003125 | 48/0.6471/0.0003125 | 49/0.6471/0.0003125 | 50/0.6471/0.0003125 | 51/0.6471/0.0003125 | 52/0.6471/0.0003125 | 53/0.6471/0.00015625 | 54/0.6471/0.00015625 | 55/0.6471/0.00015625 | 56/0.6471/0.00015625 | 57/0.6471/0.00015625 | 58/0.6471/0.00015625 | 59/0.6471/7.8125e-05 | 60/0.6471/7.8125e-05 | 61/0.6471/7.8125e-05 | 62/0.6471/7.8125e-05 | 63/0.6471/7.8125e-05 | 64/0.6471/7.8125e-05 | 65/0.6471/3.90625e-05 | 66/0.6471/3.90625e-05 | 67/0.6471/3.90625e-05 | 68/0.6471/3.90625e-05 | 69/0.6471/3.90625e-05 | 70/0.6471/3.90625e-05 | 71/0.6471/1.953125e-05 | 72/0.6471/1.953125e-05 | 73/0.6471/1.953125e-05 | 74/0.6471/1.953125e-05 | 75/0.6765/1.953125e-05 | 76/0.6765/1.953125e-05 | 77/0.6765/9.765625e-06 | 78/0.6765/9.765625e-06 | 79/0.6765/9.765625e-06 | 80/0.6765/9.765625e-06 | 81/0.6765/9.765625e-06 | 82/0.6765/9.765625e-06 | 83/0.6765/4.8828125e-06 | 84/0.6765/4.8828125e-06 | 85/0.6765/4.8828125e-06 | 86/0.6765/4.8828125e-06 | 87/0.6765/4.8828125e-06 | 88/0.6765/4.8828125e-06 | 89/0.6765/2.44140625e-06 | 90/0.6765/2.44140625e-06 | 91/0.6765/2.44140625e-06 | 92/0.6765/2.44140625e-06 | 93/0.6765/2.44140625e-06 | 94/0.6765/2.44140625e-06 | 95/0.6765/1.220703125e-06 | 96/0.6765/1.220703125e-06 | 97/0.6765/1.220703125e-06 | 98/0.6765/1.220703125e-06 | 99/0.6765/1.220703125e-06 | 100/0.6765/1.220703125e-06 | 101/0.6765/6.103515625e-07 | Accuracy: 0.6316\n",
      "Evaluating mutag dataset using graph_order method with a percentile of 40 against class members\n",
      "Epoch/val accuracy/lr: "
     ]
    },
    {
     "name": "stderr",
     "output_type": "stream",
     "text": [
      "/opt/conda/lib/python3.10/site-packages/torch_geometric/deprecation.py:26: UserWarning: 'data.DataLoader' is deprecated, use 'loader.DataLoader' instead\n",
      "  warnings.warn(out)\n"
     ]
    },
    {
     "name": "stdout",
     "output_type": "stream",
     "text": [
      "1/0.8125/0.01 | 2/0.8125/0.01 | 3/0.8125/0.01 | 4/0.8125/0.01 | 5/0.8125/0.01 | 6/0.8125/0.01 | 7/0.8125/0.01 | 8/0.8125/0.005 | 9/0.8125/0.005 | 10/0.8125/0.005 | 11/0.8125/0.005 | 12/0.8125/0.005 | 13/0.8125/0.005 | 14/0.8125/0.0025 | 15/0.8125/0.0025 | 16/0.8125/0.0025 | 17/0.8125/0.0025 | 18/0.8125/0.0025 | 19/0.8125/0.0025 | 20/0.8125/0.00125 | 21/0.8125/0.00125 | 22/0.8125/0.00125 | 23/0.8125/0.00125 | 24/0.7500/0.00125 | 25/0.7500/0.00125 | 26/0.7500/0.00125 | 27/0.7500/0.00125 | 28/0.7500/0.00125 | 29/0.7500/0.00125 | 30/0.7500/0.00125 | 31/0.7500/0.000625 | 32/0.7500/0.000625 | 33/0.7500/0.000625 | 34/0.7500/0.000625 | 35/0.7500/0.000625 | 36/0.7500/0.000625 | 37/0.7500/0.0003125 | 38/0.7500/0.0003125 | 39/0.7500/0.0003125 | 40/0.7500/0.0003125 | 41/0.7500/0.0003125 | 42/0.7500/0.0003125 | 43/0.7500/0.00015625 | 44/0.7500/0.00015625 | 45/0.7500/0.00015625 | 46/0.7500/0.00015625 | 47/0.7500/0.00015625 | 48/0.7500/0.00015625 | 49/0.7500/7.8125e-05 | 50/0.7500/7.8125e-05 | 51/0.7500/7.8125e-05 | 52/0.7500/7.8125e-05 | 53/0.7500/7.8125e-05 | 54/0.7500/7.8125e-05 | 55/0.7500/3.90625e-05 | 56/0.7500/3.90625e-05 | 57/0.7500/3.90625e-05 | 58/0.7500/3.90625e-05 | 59/0.7500/3.90625e-05 | 60/0.7500/3.90625e-05 | 61/0.7500/1.953125e-05 | 62/0.7500/1.953125e-05 | 63/0.8125/1.953125e-05 | 64/0.8125/1.953125e-05 | 65/0.8125/1.953125e-05 | 66/0.8125/1.953125e-05 | 67/0.8125/9.765625e-06 | 68/0.8125/9.765625e-06 | 69/0.8125/9.765625e-06 | 70/0.8125/9.765625e-06 | 71/0.8125/9.765625e-06 | 72/0.8125/9.765625e-06 | 73/0.8125/4.8828125e-06 | 74/0.8125/4.8828125e-06 | 75/0.8125/4.8828125e-06 | 76/0.8125/4.8828125e-06 | 77/0.8125/4.8828125e-06 | 78/0.8125/4.8828125e-06 | 79/0.8125/2.44140625e-06 | 80/0.8125/2.44140625e-06 | 81/0.8125/2.44140625e-06 | 82/0.8125/2.44140625e-06 | 83/0.8125/2.44140625e-06 | 84/0.8125/2.44140625e-06 | 85/0.8125/1.220703125e-06 | 86/0.8125/1.220703125e-06 | 87/0.8125/1.220703125e-06 | 88/0.8125/1.220703125e-06 | 89/0.8125/1.220703125e-06 | 90/0.8125/1.220703125e-06 | 91/0.8125/6.103515625e-07 | Accuracy: 0.6607\n",
      "Evaluating mutag dataset using graph_order method with a percentile of 50 against class members\n",
      "Epoch/val accuracy/lr: "
     ]
    },
    {
     "name": "stderr",
     "output_type": "stream",
     "text": [
      "/opt/conda/lib/python3.10/site-packages/torch_geometric/deprecation.py:26: UserWarning: 'data.DataLoader' is deprecated, use 'loader.DataLoader' instead\n",
      "  warnings.warn(out)\n"
     ]
    },
    {
     "name": "stdout",
     "output_type": "stream",
     "text": [
      "1/0.5263/0.01 | 2/0.5263/0.01 | 3/0.5263/0.01 | 4/0.5263/0.01 | 5/0.5263/0.01 | 6/0.5263/0.01 | 7/0.5263/0.01 | 8/0.5263/0.005 | 9/0.5263/0.005 | 10/0.5263/0.005 | 11/0.5263/0.005 | 12/0.5263/0.005 | 13/0.5263/0.005 | 14/0.5263/0.0025 | 15/0.5263/0.0025 | 16/0.5263/0.0025 | 17/0.5263/0.0025 | 18/0.5263/0.0025 | 19/0.5263/0.0025 | 20/0.5263/0.00125 | 21/0.5263/0.00125 | 22/0.5263/0.00125 | 23/0.5263/0.00125 | 24/0.5263/0.00125 | 25/0.5263/0.00125 | 26/0.5263/0.000625 | 27/0.5263/0.000625 | 28/0.5263/0.000625 | 29/0.5263/0.000625 | 30/0.5263/0.000625 | 31/0.5263/0.000625 | 32/0.5263/0.0003125 | 33/0.5263/0.0003125 | 34/0.5263/0.0003125 | 35/0.5263/0.0003125 | 36/0.5263/0.0003125 | 37/0.5263/0.0003125 | 38/0.5263/0.00015625 | 39/0.5263/0.00015625 | 40/0.5263/0.00015625 | 41/0.5263/0.00015625 | 42/0.5263/0.00015625 | 43/0.5263/0.00015625 | 44/0.5263/7.8125e-05 | 45/0.5263/7.8125e-05 | 46/0.5263/7.8125e-05 | 47/0.5263/7.8125e-05 | 48/0.5263/7.8125e-05 | 49/0.5263/7.8125e-05 | 50/0.5263/3.90625e-05 | 51/0.5263/3.90625e-05 | 52/0.5263/3.90625e-05 | 53/0.5263/3.90625e-05 | 54/0.5263/3.90625e-05 | 55/0.5263/3.90625e-05 | 56/0.5263/1.953125e-05 | 57/0.5263/1.953125e-05 | 58/0.5263/1.953125e-05 | 59/0.5263/1.953125e-05 | 60/0.5263/1.953125e-05 | 61/0.5263/1.953125e-05 | 62/0.5263/9.765625e-06 | 63/0.5263/9.765625e-06 | 64/0.5263/9.765625e-06 | 65/0.5263/9.765625e-06 | 66/0.5263/9.765625e-06 | 67/0.5263/9.765625e-06 | 68/0.5263/4.8828125e-06 | 69/0.5263/4.8828125e-06 | 70/0.5263/4.8828125e-06 | 71/0.5263/4.8828125e-06 | 72/0.5263/4.8828125e-06 | 73/0.5263/4.8828125e-06 | 74/0.5263/2.44140625e-06 | 75/0.5263/2.44140625e-06 | 76/0.5263/2.44140625e-06 | 77/0.5263/2.44140625e-06 | 78/0.5263/2.44140625e-06 | 79/0.5263/2.44140625e-06 | 80/0.5263/1.220703125e-06 | 81/0.5263/1.220703125e-06 | 82/0.5263/1.220703125e-06 | 83/0.5263/1.220703125e-06 | 84/0.5263/1.220703125e-06 | 85/0.5263/1.220703125e-06 | 86/0.5263/6.103515625e-07 | Accuracy: 0.6559\n",
      "Evaluating mutag dataset using graph_order method with a percentile of 60 against class members\n",
      "Epoch/val accuracy/lr: "
     ]
    },
    {
     "name": "stderr",
     "output_type": "stream",
     "text": [
      "/opt/conda/lib/python3.10/site-packages/torch_geometric/deprecation.py:26: UserWarning: 'data.DataLoader' is deprecated, use 'loader.DataLoader' instead\n",
      "  warnings.warn(out)\n"
     ]
    },
    {
     "name": "stdout",
     "output_type": "stream",
     "text": [
      "1/0.7391/0.01 | 2/0.7391/0.01 | 3/0.7391/0.01 | 4/0.7391/0.01 | 5/0.7391/0.01 | 6/0.7391/0.01 | 7/0.7391/0.01 | 8/0.7391/0.005 | 9/0.7391/0.005 | 10/0.7391/0.005 | 11/0.7391/0.005 | 12/0.7391/0.005 | 13/0.7391/0.005 | 14/0.7391/0.0025 | 15/0.7391/0.0025 | 16/0.7391/0.0025 | 17/0.7391/0.0025 | 18/0.7391/0.0025 | 19/0.7391/0.0025 | 20/0.7391/0.00125 | 21/0.7391/0.00125 | 22/0.7391/0.00125 | 23/0.7391/0.00125 | 24/0.7391/0.00125 | 25/0.7391/0.00125 | 26/0.7391/0.000625 | 27/0.7391/0.000625 | 28/0.7391/0.000625 | 29/0.7391/0.000625 | 30/0.7391/0.000625 | 31/0.7391/0.000625 | 32/0.7391/0.0003125 | 33/0.7391/0.0003125 | 34/0.7391/0.0003125 | 35/0.7391/0.0003125 | 36/0.7391/0.0003125 | 37/0.7391/0.0003125 | 38/0.7391/0.00015625 | 39/0.6957/0.00015625 | 40/0.6522/0.00015625 | 41/0.6522/0.00015625 | 42/0.6522/0.00015625 | 43/0.6522/0.00015625 | 44/0.6522/0.00015625 | 45/0.6522/0.00015625 | 46/0.6522/0.00015625 | 47/0.6522/7.8125e-05 | 48/0.6522/7.8125e-05 | 49/0.6522/7.8125e-05 | 50/0.6522/7.8125e-05 | 51/0.6087/7.8125e-05 | 52/0.6087/7.8125e-05 | 53/0.6087/7.8125e-05 | 54/0.6087/7.8125e-05 | 55/0.6087/7.8125e-05 | 56/0.6087/7.8125e-05 | 57/0.6087/7.8125e-05 | 58/0.6087/3.90625e-05 | 59/0.6087/3.90625e-05 | 60/0.6087/3.90625e-05 | 61/0.6087/3.90625e-05 | 62/0.6087/3.90625e-05 | 63/0.6087/3.90625e-05 | 64/0.6087/1.953125e-05 | 65/0.6087/1.953125e-05 | 66/0.6087/1.953125e-05 | 67/0.6087/1.953125e-05 | 68/0.6087/1.953125e-05 | 69/0.6087/1.953125e-05 | 70/0.6087/9.765625e-06 | 71/0.6087/9.765625e-06 | 72/0.6087/9.765625e-06 | 73/0.6087/9.765625e-06 | 74/0.6087/9.765625e-06 | 75/0.6087/9.765625e-06 | 76/0.6087/4.8828125e-06 | 77/0.6087/4.8828125e-06 | 78/0.6087/4.8828125e-06 | 79/0.6087/4.8828125e-06 | 80/0.6087/4.8828125e-06 | 81/0.6522/4.8828125e-06 | 82/0.6522/2.44140625e-06 | 83/0.6522/2.44140625e-06 | 84/0.6522/2.44140625e-06 | 85/0.6522/2.44140625e-06 | 86/0.6522/2.44140625e-06 | 87/0.6522/2.44140625e-06 | 88/0.6522/1.220703125e-06 | 89/0.6522/1.220703125e-06 | 90/0.6522/1.220703125e-06 | 91/0.6522/1.220703125e-06 | 92/0.6522/1.220703125e-06 | 93/0.6522/1.220703125e-06 | 94/0.6522/6.103515625e-07 | Accuracy: 0.6533\n",
      "Evaluating mutag dataset using graph_order method with a percentile of 70 against class members\n",
      "Epoch/val accuracy/lr: "
     ]
    },
    {
     "name": "stderr",
     "output_type": "stream",
     "text": [
      "/opt/conda/lib/python3.10/site-packages/torch_geometric/deprecation.py:26: UserWarning: 'data.DataLoader' is deprecated, use 'loader.DataLoader' instead\n",
      "  warnings.warn(out)\n"
     ]
    },
    {
     "name": "stdout",
     "output_type": "stream",
     "text": [
      "1/0.5926/0.01 | 2/0.5926/0.01 | 3/0.5926/0.01 | 4/0.5926/0.01 | 5/0.5926/0.01 | 6/0.5926/0.01 | 7/0.5926/0.01 | 8/0.5926/0.005 | 9/0.5926/0.005 | 10/0.5926/0.005 | 11/0.5926/0.005 | 12/0.5926/0.005 | 13/0.5926/0.005 | 14/0.5926/0.0025 | 15/0.5926/0.0025 | 16/0.5926/0.0025 | 17/0.5926/0.0025 | 18/0.5926/0.0025 | 19/0.5926/0.0025 | 20/0.5926/0.00125 | 21/0.5926/0.00125 | 22/0.5556/0.00125 | 23/0.5185/0.00125 | 24/0.5185/0.00125 | 25/0.5185/0.00125 | 26/0.5185/0.00125 | 27/0.5185/0.00125 | 28/0.5185/0.00125 | 29/0.5185/0.00125 | 30/0.5185/0.000625 | 31/0.5185/0.000625 | 32/0.5185/0.000625 | 33/0.5185/0.000625 | 34/0.5185/0.000625 | 35/0.5185/0.000625 | 36/0.5185/0.0003125 | 37/0.5185/0.0003125 | 38/0.5185/0.0003125 | 39/0.5185/0.0003125 | 40/0.5185/0.0003125 | 41/0.5185/0.0003125 | 42/0.5185/0.00015625 | 43/0.5185/0.00015625 | 44/0.5185/0.00015625 | 45/0.5185/0.00015625 | 46/0.5185/0.00015625 | 47/0.5185/0.00015625 | 48/0.5185/7.8125e-05 | 49/0.5185/7.8125e-05 | 50/0.5185/7.8125e-05 | 51/0.5185/7.8125e-05 | 52/0.5185/7.8125e-05 | 53/0.5185/7.8125e-05 | 54/0.5185/3.90625e-05 | 55/0.5185/3.90625e-05 | 56/0.5185/3.90625e-05 | 57/0.5185/3.90625e-05 | 58/0.5185/3.90625e-05 | 59/0.5185/3.90625e-05 | 60/0.5185/1.953125e-05 | 61/0.5185/1.953125e-05 | 62/0.5185/1.953125e-05 | 63/0.5185/1.953125e-05 | 64/0.5185/1.953125e-05 | 65/0.5185/1.953125e-05 | 66/0.5185/9.765625e-06 | 67/0.5185/9.765625e-06 | 68/0.5185/9.765625e-06 | 69/0.5185/9.765625e-06 | 70/0.5185/9.765625e-06 | 71/0.5185/9.765625e-06 | 72/0.5185/4.8828125e-06 | 73/0.5185/4.8828125e-06 | 74/0.5185/4.8828125e-06 | 75/0.5185/4.8828125e-06 | 76/0.5185/4.8828125e-06 | 77/0.5185/4.8828125e-06 | 78/0.5185/2.44140625e-06 | 79/0.5185/2.44140625e-06 | 80/0.5185/2.44140625e-06 | 81/0.5185/2.44140625e-06 | 82/0.5185/2.44140625e-06 | 83/0.5185/2.44140625e-06 | 84/0.5185/1.220703125e-06 | 85/0.5185/1.220703125e-06 | 86/0.5185/1.220703125e-06 | 87/0.5185/1.220703125e-06 | 88/0.5185/1.220703125e-06 | 89/0.5185/1.220703125e-06 | 90/0.5185/6.103515625e-07 | Accuracy: 0.6545\n",
      "Evaluating mutag dataset using graph_order method with a percentile of 80 against class members\n",
      "Epoch/val accuracy/lr: "
     ]
    },
    {
     "name": "stderr",
     "output_type": "stream",
     "text": [
      "/opt/conda/lib/python3.10/site-packages/torch_geometric/deprecation.py:26: UserWarning: 'data.DataLoader' is deprecated, use 'loader.DataLoader' instead\n",
      "  warnings.warn(out)\n"
     ]
    },
    {
     "name": "stdout",
     "output_type": "stream",
     "text": [
      "1/0.7097/0.01 | 2/0.7097/0.01 | 3/0.7097/0.01 | 4/0.7097/0.01 | 5/0.7097/0.01 | 6/0.7097/0.01 | 7/0.7097/0.01 | 8/0.7097/0.005 | 9/0.7097/0.005 | 10/0.7097/0.005 | 11/0.7097/0.005 | 12/0.7097/0.005 | 13/0.7097/0.005 | 14/0.7097/0.0025 | 15/0.7097/0.0025 | 16/0.7097/0.0025 | 17/0.7097/0.0025 | 18/0.7097/0.0025 | 19/0.7097/0.0025 | 20/0.7097/0.00125 | 21/0.7097/0.00125 | 22/0.7097/0.00125 | 23/0.7097/0.00125 | 24/0.7097/0.00125 | 25/0.7097/0.00125 | 26/0.7097/0.000625 | 27/0.6774/0.000625 | 28/0.6774/0.000625 | 29/0.6774/0.000625 | 30/0.6774/0.000625 | 31/0.6774/0.000625 | 32/0.6774/0.000625 | 33/0.6774/0.000625 | 34/0.6774/0.0003125 | 35/0.6774/0.0003125 | 36/0.6774/0.0003125 | 37/0.6774/0.0003125 | 38/0.6774/0.0003125 | 39/0.6774/0.0003125 | 40/0.6774/0.00015625 | 41/0.6774/0.00015625 | 42/0.6774/0.00015625 | 43/0.6774/0.00015625 | 44/0.6452/0.00015625 | 45/0.6452/0.00015625 | 46/0.6452/0.00015625 | 47/0.6129/0.00015625 | 48/0.6129/0.00015625 | 49/0.6129/0.00015625 | 50/0.6129/0.00015625 | 51/0.5806/0.00015625 | 52/0.5806/0.00015625 | 53/0.5806/0.00015625 | 54/0.5484/0.00015625 | 55/0.5484/0.00015625 | 56/0.5806/0.00015625 | 57/0.5806/0.00015625 | 58/0.5806/0.00015625 | 59/0.5484/0.00015625 | 60/0.5484/0.00015625 | 61/0.5484/7.8125e-05 | 62/0.5484/7.8125e-05 | 63/0.5484/7.8125e-05 | 64/0.5484/7.8125e-05 | 65/0.5484/7.8125e-05 | 66/0.5484/7.8125e-05 | 67/0.5484/3.90625e-05 | 68/0.5484/3.90625e-05 | 69/0.5484/3.90625e-05 | 70/0.5484/3.90625e-05 | 71/0.5484/3.90625e-05 | 72/0.5484/3.90625e-05 | 73/0.5484/1.953125e-05 | 74/0.5484/1.953125e-05 | 75/0.5484/1.953125e-05 | 76/0.5484/1.953125e-05 | 77/0.5484/1.953125e-05 | 78/0.5484/1.953125e-05 | 79/0.5484/9.765625e-06 | 80/0.5484/9.765625e-06 | 81/0.5484/9.765625e-06 | 82/0.5484/9.765625e-06 | 83/0.5484/9.765625e-06 | 84/0.5484/9.765625e-06 | 85/0.5484/4.8828125e-06 | 86/0.5484/4.8828125e-06 | 87/0.5484/4.8828125e-06 | 88/0.5484/4.8828125e-06 | 89/0.5484/4.8828125e-06 | 90/0.5484/4.8828125e-06 | 91/0.5484/2.44140625e-06 | 92/0.5484/2.44140625e-06 | 93/0.5484/2.44140625e-06 | 94/0.5484/2.44140625e-06 | 95/0.5484/2.44140625e-06 | 96/0.5484/2.44140625e-06 | 97/0.5484/1.220703125e-06 | 98/0.5484/1.220703125e-06 | 99/0.5484/1.220703125e-06 | 100/0.5484/1.220703125e-06 | 101/0.5484/1.220703125e-06 | 102/0.5484/1.220703125e-06 | 103/0.5484/6.103515625e-07 | Accuracy: 0.6757\n",
      "Evaluating mutag dataset using graph_order method with a percentile of 90 against class members\n",
      "Epoch/val accuracy/lr: "
     ]
    },
    {
     "name": "stderr",
     "output_type": "stream",
     "text": [
      "/opt/conda/lib/python3.10/site-packages/torch_geometric/deprecation.py:26: UserWarning: 'data.DataLoader' is deprecated, use 'loader.DataLoader' instead\n",
      "  warnings.warn(out)\n"
     ]
    },
    {
     "name": "stdout",
     "output_type": "stream",
     "text": [
      "1/0.5882/0.01 | 2/0.7647/0.01 | 3/0.7647/0.01 | 4/0.7647/0.01 | 5/0.7647/0.01 | 6/0.7647/0.01 | 7/0.7647/0.01 | 8/0.7647/0.005 | 9/0.7647/0.005 | 10/0.7647/0.005 | 11/0.7647/0.005 | 12/0.7647/0.005 | 13/0.7647/0.005 | 14/0.7647/0.0025 | 15/0.7647/0.0025 | 16/0.7647/0.0025 | 17/0.7647/0.0025 | 18/0.7647/0.0025 | 19/0.7647/0.0025 | 20/0.7647/0.00125 | 21/0.7647/0.00125 | 22/0.7647/0.00125 | 23/0.7647/0.00125 | 24/0.7647/0.00125 | 25/0.7647/0.00125 | 26/0.7647/0.000625 | 27/0.7647/0.000625 | 28/0.7353/0.000625 | 29/0.7059/0.000625 | 30/0.7059/0.000625 | 31/0.7059/0.000625 | 32/0.7059/0.0003125 | 33/0.7059/0.0003125 | 34/0.7059/0.0003125 | 35/0.7059/0.0003125 | 36/0.7059/0.0003125 | 37/0.7059/0.0003125 | 38/0.7059/0.00015625 | 39/0.7059/0.00015625 | 40/0.7059/0.00015625 | 41/0.7059/0.00015625 | 42/0.7059/0.00015625 | 43/0.6765/0.00015625 | 44/0.6765/7.8125e-05 | 45/0.6765/7.8125e-05 | 46/0.6765/7.8125e-05 | 47/0.6765/7.8125e-05 | 48/0.6765/7.8125e-05 | 49/0.6765/7.8125e-05 | 50/0.6765/3.90625e-05 | 51/0.6765/3.90625e-05 | 52/0.6765/3.90625e-05 | 53/0.6765/3.90625e-05 | 54/0.6765/3.90625e-05 | 55/0.6765/3.90625e-05 | 56/0.6765/1.953125e-05 | 57/0.6765/1.953125e-05 | 58/0.6765/1.953125e-05 | 59/0.6765/1.953125e-05 | 60/0.6765/1.953125e-05 | 61/0.6765/1.953125e-05 | 62/0.6765/9.765625e-06 | 63/0.6765/9.765625e-06 | 64/0.6765/9.765625e-06 | 65/0.6765/9.765625e-06 | 66/0.6765/9.765625e-06 | 67/0.6765/9.765625e-06 | 68/0.6765/4.8828125e-06 | 69/0.6765/4.8828125e-06 | 70/0.6765/4.8828125e-06 | 71/0.6765/4.8828125e-06 | 72/0.6765/4.8828125e-06 | 73/0.6765/4.8828125e-06 | 74/0.6765/2.44140625e-06 | 75/0.6765/2.44140625e-06 | 76/0.6765/2.44140625e-06 | 77/0.6765/2.44140625e-06 | 78/0.6765/2.44140625e-06 | 79/0.6765/2.44140625e-06 | 80/0.6765/1.220703125e-06 | 81/0.6765/1.220703125e-06 | 82/0.6765/1.220703125e-06 | 83/0.6765/1.220703125e-06 | 84/0.6765/1.220703125e-06 | 85/0.6765/1.220703125e-06 | 86/0.6765/6.103515625e-07 | Accuracy: 0.6667\n",
      "Evaluating mutag dataset using cos_sim method with a percentile of 40 against class members\n",
      "Epoch/val accuracy/lr: "
     ]
    },
    {
     "name": "stderr",
     "output_type": "stream",
     "text": [
      "/opt/conda/lib/python3.10/site-packages/torch_geometric/deprecation.py:26: UserWarning: 'data.DataLoader' is deprecated, use 'loader.DataLoader' instead\n",
      "  warnings.warn(out)\n"
     ]
    },
    {
     "name": "stdout",
     "output_type": "stream",
     "text": [
      "1/0.6250/0.01 | 2/0.8750/0.01 | 3/0.8750/0.01 | 4/0.8750/0.01 | 5/0.8750/0.01 | 6/0.8750/0.01 | 7/0.8750/0.01 | 8/0.8750/0.005 | 9/0.8750/0.005 | 10/0.8750/0.005 | 11/0.8750/0.005 | 12/0.8750/0.005 | 13/0.8750/0.005 | 14/0.8750/0.0025 | 15/0.8750/0.0025 | 16/0.8125/0.0025 | 17/0.8125/0.0025 | 18/0.8125/0.0025 | 19/0.8125/0.0025 | 20/0.8125/0.00125 | 21/0.8125/0.00125 | 22/0.8125/0.00125 | 23/0.8125/0.00125 | 24/0.8125/0.00125 | 25/0.8125/0.00125 | 26/0.8125/0.000625 | 27/0.8125/0.000625 | 28/0.8125/0.000625 | 29/0.8125/0.000625 | 30/0.8125/0.000625 | 31/0.7500/0.000625 | 32/0.7500/0.0003125 | 33/0.7500/0.0003125 | 34/0.7500/0.0003125 | 35/0.7500/0.0003125 | 36/0.7500/0.0003125 | 37/0.7500/0.0003125 | 38/0.7500/0.00015625 | 39/0.7500/0.00015625 | 40/0.7500/0.00015625 | 41/0.7500/0.00015625 | 42/0.7500/0.00015625 | 43/0.7500/0.00015625 | 44/0.7500/7.8125e-05 | 45/0.7500/7.8125e-05 | 46/0.7500/7.8125e-05 | 47/0.6875/7.8125e-05 | 48/0.6875/7.8125e-05 | 49/0.6875/7.8125e-05 | 50/0.6875/3.90625e-05 | 51/0.6250/3.90625e-05 | 52/0.6250/3.90625e-05 | 53/0.6250/3.90625e-05 | 54/0.6250/3.90625e-05 | 55/0.6250/3.90625e-05 | 56/0.6250/1.953125e-05 | 57/0.6250/1.953125e-05 | 58/0.6250/1.953125e-05 | 59/0.6250/1.953125e-05 | 60/0.6250/1.953125e-05 | 61/0.6250/1.953125e-05 | 62/0.6250/9.765625e-06 | 63/0.6250/9.765625e-06 | 64/0.6250/9.765625e-06 | 65/0.6250/9.765625e-06 | 66/0.6250/9.765625e-06 | 67/0.6250/9.765625e-06 | 68/0.6250/4.8828125e-06 | 69/0.6250/4.8828125e-06 | 70/0.6250/4.8828125e-06 | 71/0.6250/4.8828125e-06 | 72/0.6250/4.8828125e-06 | 73/0.6250/4.8828125e-06 | 74/0.6250/2.44140625e-06 | 75/0.6250/2.44140625e-06 | 76/0.6250/2.44140625e-06 | 77/0.6250/2.44140625e-06 | 78/0.6250/2.44140625e-06 | 79/0.6250/2.44140625e-06 | 80/0.6250/1.220703125e-06 | 81/0.6250/1.220703125e-06 | 82/0.6250/1.220703125e-06 | 83/0.6250/1.220703125e-06 | 84/0.6250/1.220703125e-06 | 85/0.6250/1.220703125e-06 | 86/0.6250/6.103515625e-07 | Accuracy: 0.6250\n",
      "Evaluating mutag dataset using cos_sim method with a percentile of 50 against class members\n",
      "Epoch/val accuracy/lr: "
     ]
    },
    {
     "name": "stderr",
     "output_type": "stream",
     "text": [
      "/opt/conda/lib/python3.10/site-packages/torch_geometric/deprecation.py:26: UserWarning: 'data.DataLoader' is deprecated, use 'loader.DataLoader' instead\n",
      "  warnings.warn(out)\n"
     ]
    },
    {
     "name": "stdout",
     "output_type": "stream",
     "text": [
      "1/0.6842/0.01 | 2/0.6842/0.01 | 3/0.6842/0.01 | 4/0.6842/0.01 | 5/0.6842/0.01 | 6/0.6842/0.01 | 7/0.6842/0.01 | 8/0.6842/0.005 | 9/0.6842/0.005 | 10/0.6842/0.005 | 11/0.6842/0.005 | 12/0.6842/0.005 | 13/0.6842/0.005 | 14/0.6842/0.0025 | 15/0.6842/0.0025 | 16/0.6842/0.0025 | 17/0.6842/0.0025 | 18/0.6842/0.0025 | 19/0.6842/0.0025 | 20/0.6842/0.00125 | 21/0.6842/0.00125 | 22/0.6842/0.00125 | 23/0.6842/0.00125 | 24/0.6842/0.00125 | 25/0.6316/0.00125 | 26/0.6316/0.00125 | 27/0.6316/0.00125 | 28/0.6316/0.00125 | 29/0.6316/0.00125 | 30/0.6316/0.00125 | 31/0.6316/0.00125 | 32/0.6316/0.000625 | 33/0.6316/0.000625 | 34/0.6316/0.000625 | 35/0.6316/0.000625 | 36/0.6316/0.000625 | 37/0.6316/0.000625 | 38/0.6316/0.0003125 | 39/0.6316/0.0003125 | 40/0.6316/0.0003125 | 41/0.6316/0.0003125 | 42/0.6316/0.0003125 | 43/0.6316/0.0003125 | 44/0.6316/0.00015625 | 45/0.6316/0.00015625 | 46/0.6316/0.00015625 | 47/0.6316/0.00015625 | 48/0.6316/0.00015625 | 49/0.6316/0.00015625 | 50/0.6316/7.8125e-05 | 51/0.6316/7.8125e-05 | 52/0.6316/7.8125e-05 | 53/0.6316/7.8125e-05 | 54/0.6316/7.8125e-05 | 55/0.6316/7.8125e-05 | 56/0.6316/3.90625e-05 | 57/0.6316/3.90625e-05 | 58/0.6316/3.90625e-05 | 59/0.6316/3.90625e-05 | 60/0.6316/3.90625e-05 | 61/0.6316/3.90625e-05 | 62/0.6316/1.953125e-05 | 63/0.6316/1.953125e-05 | 64/0.6316/1.953125e-05 | 65/0.6316/1.953125e-05 | 66/0.6316/1.953125e-05 | 67/0.6316/1.953125e-05 | 68/0.6316/9.765625e-06 | 69/0.6316/9.765625e-06 | 70/0.6316/9.765625e-06 | 71/0.6316/9.765625e-06 | 72/0.6316/9.765625e-06 | 73/0.6316/9.765625e-06 | 74/0.6316/4.8828125e-06 | 75/0.6316/4.8828125e-06 | 76/0.6316/4.8828125e-06 | 77/0.6316/4.8828125e-06 | 78/0.6316/4.8828125e-06 | 79/0.6316/4.8828125e-06 | 80/0.6316/2.44140625e-06 | 81/0.6316/2.44140625e-06 | 82/0.6316/2.44140625e-06 | 83/0.6316/2.44140625e-06 | 84/0.6316/2.44140625e-06 | 85/0.6316/2.44140625e-06 | 86/0.6316/1.220703125e-06 | 87/0.6316/1.220703125e-06 | 88/0.6316/1.220703125e-06 | 89/0.6316/1.220703125e-06 | 90/0.6316/1.220703125e-06 | 91/0.6316/1.220703125e-06 | 92/0.6316/6.103515625e-07 | Accuracy: 0.6667\n",
      "Evaluating mutag dataset using cos_sim method with a percentile of 60 against class members\n",
      "Epoch/val accuracy/lr: "
     ]
    },
    {
     "name": "stderr",
     "output_type": "stream",
     "text": [
      "/opt/conda/lib/python3.10/site-packages/torch_geometric/deprecation.py:26: UserWarning: 'data.DataLoader' is deprecated, use 'loader.DataLoader' instead\n",
      "  warnings.warn(out)\n"
     ]
    },
    {
     "name": "stdout",
     "output_type": "stream",
     "text": [
      "1/0.8261/0.01 | 2/0.8261/0.01 | 3/0.8261/0.01 | 4/0.8261/0.01 | 5/0.8261/0.01 | 6/0.8261/0.01 | 7/0.8261/0.01 | 8/0.8261/0.005 | 9/0.8261/0.005 | 10/0.8261/0.005 | 11/0.8261/0.005 | 12/0.8261/0.005 | 13/0.8261/0.005 | 14/0.8261/0.0025 | 15/0.8261/0.0025 | 16/0.8261/0.0025 | 17/0.8261/0.0025 | 18/0.8261/0.0025 | 19/0.8261/0.0025 | 20/0.8261/0.00125 | 21/0.8261/0.00125 | 22/0.8261/0.00125 | 23/0.8261/0.00125 | 24/0.8261/0.00125 | 25/0.8261/0.00125 | 26/0.8261/0.000625 | 27/0.8261/0.000625 | 28/0.8261/0.000625 | 29/0.8261/0.000625 | 30/0.8261/0.000625 | 31/0.8261/0.000625 | 32/0.8261/0.0003125 | 33/0.8261/0.0003125 | 34/0.7826/0.0003125 | 35/0.7826/0.0003125 | 36/0.7826/0.0003125 | 37/0.7826/0.0003125 | 38/0.7391/0.0003125 | 39/0.7391/0.0003125 | 40/0.6957/0.0003125 | 41/0.6957/0.0003125 | 42/0.6957/0.0003125 | 43/0.6957/0.0003125 | 44/0.6957/0.0003125 | 45/0.6957/0.0003125 | 46/0.6957/0.0003125 | 47/0.6957/0.00015625 | 48/0.6957/0.00015625 | 49/0.6957/0.00015625 | 50/0.6957/0.00015625 | 51/0.6957/0.00015625 | 52/0.6957/0.00015625 | 53/0.6957/7.8125e-05 | 54/0.6957/7.8125e-05 | 55/0.6957/7.8125e-05 | 56/0.6522/7.8125e-05 | 57/0.6522/7.8125e-05 | 58/0.6522/7.8125e-05 | 59/0.6522/7.8125e-05 | 60/0.6522/7.8125e-05 | 61/0.6522/7.8125e-05 | 62/0.6522/7.8125e-05 | 63/0.6522/3.90625e-05 | 64/0.6522/3.90625e-05 | 65/0.6522/3.90625e-05 | 66/0.6522/3.90625e-05 | 67/0.6522/3.90625e-05 | 68/0.6522/3.90625e-05 | 69/0.6522/1.953125e-05 | 70/0.6522/1.953125e-05 | 71/0.6522/1.953125e-05 | 72/0.6522/1.953125e-05 | 73/0.6522/1.953125e-05 | 74/0.6522/1.953125e-05 | 75/0.6522/9.765625e-06 | 76/0.6522/9.765625e-06 | 77/0.6522/9.765625e-06 | 78/0.6522/9.765625e-06 | 79/0.6522/9.765625e-06 | 80/0.6522/9.765625e-06 | 81/0.6522/4.8828125e-06 | 82/0.6522/4.8828125e-06 | 83/0.6522/4.8828125e-06 | 84/0.6522/4.8828125e-06 | 85/0.6522/4.8828125e-06 | 86/0.6522/4.8828125e-06 | 87/0.6522/2.44140625e-06 | 88/0.6522/2.44140625e-06 | 89/0.6522/2.44140625e-06 | 90/0.6522/2.44140625e-06 | 91/0.6522/2.44140625e-06 | 92/0.6522/2.44140625e-06 | 93/0.6522/1.220703125e-06 | 94/0.6522/1.220703125e-06 | 95/0.6522/1.220703125e-06 | 96/0.6522/1.220703125e-06 | 97/0.6522/1.220703125e-06 | 98/0.6522/1.220703125e-06 | 99/0.6522/6.103515625e-07 | Accuracy: 0.6667\n",
      "Evaluating mutag dataset using cos_sim method with a percentile of 70 against class members\n",
      "Epoch/val accuracy/lr: "
     ]
    },
    {
     "name": "stderr",
     "output_type": "stream",
     "text": [
      "/opt/conda/lib/python3.10/site-packages/torch_geometric/deprecation.py:26: UserWarning: 'data.DataLoader' is deprecated, use 'loader.DataLoader' instead\n",
      "  warnings.warn(out)\n"
     ]
    },
    {
     "name": "stdout",
     "output_type": "stream",
     "text": [
      "1/0.5926/0.01 | 2/0.5926/0.01 | 3/0.5926/0.01 | 4/0.5926/0.01 | 5/0.5926/0.01 | 6/0.5926/0.01 | 7/0.5926/0.01 | 8/0.5926/0.005 | 9/0.5926/0.005 | 10/0.5926/0.005 | 11/0.5926/0.005 | 12/0.5926/0.005 | 13/0.5926/0.005 | 14/0.5926/0.0025 | 15/0.5926/0.0025 | 16/0.5926/0.0025 | 17/0.5926/0.0025 | 18/0.5926/0.0025 | 19/0.5926/0.0025 | 20/0.5556/0.00125 | 21/0.5185/0.00125 | 22/0.4815/0.00125 | 23/0.4815/0.00125 | 24/0.4815/0.00125 | 25/0.4815/0.00125 | 26/0.4815/0.00125 | 27/0.4815/0.00125 | 28/0.4815/0.00125 | 29/0.4815/0.000625 | 30/0.4815/0.000625 | 31/0.4815/0.000625 | 32/0.4815/0.000625 | 33/0.4815/0.000625 | 34/0.4815/0.000625 | 35/0.4815/0.0003125 | 36/0.4815/0.0003125 | 37/0.4815/0.0003125 | 38/0.4815/0.0003125 | 39/0.4815/0.0003125 | 40/0.4815/0.0003125 | 41/0.4815/0.00015625 | 42/0.4815/0.00015625 | 43/0.4815/0.00015625 | 44/0.4815/0.00015625 | 45/0.4815/0.00015625 | 46/0.4815/0.00015625 | 47/0.4815/7.8125e-05 | 48/0.5185/7.8125e-05 | 49/0.5185/7.8125e-05 | 50/0.5556/7.8125e-05 | 51/0.5556/7.8125e-05 | 52/0.5556/7.8125e-05 | 53/0.5556/3.90625e-05 | 54/0.5556/3.90625e-05 | 55/0.5556/3.90625e-05 | 56/0.5556/3.90625e-05 | 57/0.5556/3.90625e-05 | 58/0.5556/3.90625e-05 | 59/0.5556/1.953125e-05 | 60/0.5556/1.953125e-05 | 61/0.5556/1.953125e-05 | 62/0.5556/1.953125e-05 | 63/0.5556/1.953125e-05 | 64/0.5556/1.953125e-05 | 65/0.5556/9.765625e-06 | 66/0.5556/9.765625e-06 | 67/0.5556/9.765625e-06 | 68/0.5556/9.765625e-06 | 69/0.5556/9.765625e-06 | 70/0.5556/9.765625e-06 | 71/0.5556/4.8828125e-06 | 72/0.5556/4.8828125e-06 | 73/0.5556/4.8828125e-06 | 74/0.5556/4.8828125e-06 | 75/0.5556/4.8828125e-06 | 76/0.5556/4.8828125e-06 | 77/0.5556/2.44140625e-06 | 78/0.5556/2.44140625e-06 | 79/0.5556/2.44140625e-06 | 80/0.5556/2.44140625e-06 | 81/0.5556/2.44140625e-06 | 82/0.5556/2.44140625e-06 | 83/0.5556/1.220703125e-06 | 84/0.5556/1.220703125e-06 | 85/0.5556/1.220703125e-06 | 86/0.5556/1.220703125e-06 | 87/0.5556/1.220703125e-06 | 88/0.5556/1.220703125e-06 | 89/0.5556/6.103515625e-07 | Accuracy: 0.6727\n",
      "Evaluating mutag dataset using cos_sim method with a percentile of 80 against class members\n",
      "Epoch/val accuracy/lr: "
     ]
    },
    {
     "name": "stderr",
     "output_type": "stream",
     "text": [
      "/opt/conda/lib/python3.10/site-packages/torch_geometric/deprecation.py:26: UserWarning: 'data.DataLoader' is deprecated, use 'loader.DataLoader' instead\n",
      "  warnings.warn(out)\n"
     ]
    },
    {
     "name": "stdout",
     "output_type": "stream",
     "text": [
      "1/0.6452/0.01 | 2/0.6452/0.01 | 3/0.6452/0.01 | 4/0.6452/0.01 | 5/0.6452/0.01 | 6/0.6452/0.01 | 7/0.6452/0.01 | 8/0.6452/0.005 | 9/0.6452/0.005 | 10/0.6452/0.005 | 11/0.6452/0.005 | 12/0.6452/0.005 | 13/0.6452/0.005 | 14/0.6452/0.0025 | 15/0.6452/0.0025 | 16/0.6452/0.0025 | 17/0.6452/0.0025 | 18/0.6452/0.0025 | 19/0.6452/0.0025 | 20/0.6452/0.00125 | 21/0.6452/0.00125 | 22/0.6452/0.00125 | 23/0.6452/0.00125 | 24/0.6452/0.00125 | 25/0.6452/0.00125 | 26/0.6452/0.000625 | 27/0.6452/0.000625 | 28/0.6452/0.000625 | 29/0.6452/0.000625 | 30/0.6452/0.000625 | 31/0.6452/0.000625 | 32/0.6452/0.0003125 | 33/0.6452/0.0003125 | 34/0.6452/0.0003125 | 35/0.6129/0.0003125 | 36/0.6129/0.0003125 | 37/0.6129/0.0003125 | 38/0.6129/0.0003125 | 39/0.6129/0.0003125 | 40/0.6129/0.0003125 | 41/0.6129/0.0003125 | 42/0.6129/0.00015625 | 43/0.6129/0.00015625 | 44/0.6129/0.00015625 | 45/0.6129/0.00015625 | 46/0.5806/0.00015625 | 47/0.5806/0.00015625 | 48/0.5806/0.00015625 | 49/0.5806/0.00015625 | 50/0.5806/0.00015625 | 51/0.5806/0.00015625 | 52/0.5806/0.00015625 | 53/0.5806/7.8125e-05 | 54/0.5806/7.8125e-05 | 55/0.5806/7.8125e-05 | 56/0.5806/7.8125e-05 | 57/0.5806/7.8125e-05 | 58/0.5484/7.8125e-05 | 59/0.5484/7.8125e-05 | 60/0.5484/7.8125e-05 | 61/0.5484/7.8125e-05 | 62/0.5484/7.8125e-05 | 63/0.5484/7.8125e-05 | 64/0.5484/7.8125e-05 | 65/0.5484/3.90625e-05 | 66/0.5484/3.90625e-05 | 67/0.5484/3.90625e-05 | 68/0.5484/3.90625e-05 | 69/0.5484/3.90625e-05 | 70/0.5484/3.90625e-05 | 71/0.5484/1.953125e-05 | 72/0.5484/1.953125e-05 | 73/0.5484/1.953125e-05 | 74/0.5484/1.953125e-05 | 75/0.5484/1.953125e-05 | 76/0.5484/1.953125e-05 | 77/0.5484/9.765625e-06 | 78/0.5484/9.765625e-06 | 79/0.5484/9.765625e-06 | 80/0.5484/9.765625e-06 | 81/0.5484/9.765625e-06 | 82/0.5484/9.765625e-06 | 83/0.5484/4.8828125e-06 | 84/0.5484/4.8828125e-06 | 85/0.5484/4.8828125e-06 | 86/0.5484/4.8828125e-06 | 87/0.5484/4.8828125e-06 | 88/0.5484/4.8828125e-06 | 89/0.5484/2.44140625e-06 | 90/0.5484/2.44140625e-06 | 91/0.5484/2.44140625e-06 | 92/0.5484/2.44140625e-06 | 93/0.5484/2.44140625e-06 | 94/0.5484/2.44140625e-06 | 95/0.5484/1.220703125e-06 | 96/0.5484/1.220703125e-06 | 97/0.5484/1.220703125e-06 | 98/0.5484/1.220703125e-06 | 99/0.5484/1.220703125e-06 | 100/0.5484/1.220703125e-06 | 101/0.5484/6.103515625e-07 | Accuracy: 0.6757\n",
      "Evaluating mutag dataset using cos_sim method with a percentile of 90 against class members\n",
      "Epoch/val accuracy/lr: "
     ]
    },
    {
     "name": "stderr",
     "output_type": "stream",
     "text": [
      "/opt/conda/lib/python3.10/site-packages/torch_geometric/deprecation.py:26: UserWarning: 'data.DataLoader' is deprecated, use 'loader.DataLoader' instead\n",
      "  warnings.warn(out)\n"
     ]
    },
    {
     "name": "stdout",
     "output_type": "stream",
     "text": [
      "1/0.5000/0.01 | 2/0.6176/0.01 | 3/0.6176/0.01 | 4/0.6176/0.01 | 5/0.6176/0.01 | 6/0.6176/0.01 | 7/0.6176/0.01 | 8/0.6176/0.005 | 9/0.6176/0.005 | 10/0.6176/0.005 | 11/0.6176/0.005 | 12/0.6176/0.005 | 13/0.6176/0.005 | 14/0.6176/0.0025 | 15/0.6176/0.0025 | 16/0.6176/0.0025 | 17/0.6176/0.0025 | 18/0.6176/0.0025 | 19/0.6176/0.0025 | 20/0.5882/0.00125 | 21/0.5882/0.00125 | 22/0.5882/0.00125 | 23/0.5882/0.00125 | 24/0.5882/0.00125 | 25/0.5882/0.00125 | 26/0.5882/0.000625 | 27/0.5882/0.000625 | 28/0.5882/0.000625 | 29/0.5882/0.000625 | 30/0.5882/0.000625 | 31/0.5882/0.000625 | 32/0.5588/0.0003125 | 33/0.5588/0.0003125 | 34/0.5588/0.0003125 | 35/0.5588/0.0003125 | 36/0.5588/0.0003125 | 37/0.5588/0.0003125 | 38/0.5588/0.00015625 | 39/0.5588/0.00015625 | 40/0.5588/0.00015625 | 41/0.5588/0.00015625 | 42/0.5588/0.00015625 | 43/0.5588/0.00015625 | 44/0.5588/7.8125e-05 | 45/0.5588/7.8125e-05 | 46/0.5588/7.8125e-05 | 47/0.5588/7.8125e-05 | 48/0.5588/7.8125e-05 | 49/0.5588/7.8125e-05 | 50/0.5588/3.90625e-05 | 51/0.5588/3.90625e-05 | 52/0.5588/3.90625e-05 | 53/0.5588/3.90625e-05 | 54/0.5588/3.90625e-05 | 55/0.5588/3.90625e-05 | 56/0.5588/1.953125e-05 | 57/0.5588/1.953125e-05 | 58/0.5588/1.953125e-05 | 59/0.5588/1.953125e-05 | 60/0.5588/1.953125e-05 | 61/0.5588/1.953125e-05 | 62/0.5588/9.765625e-06 | 63/0.5588/9.765625e-06 | 64/0.5588/9.765625e-06 | 65/0.5588/9.765625e-06 | 66/0.5588/9.765625e-06 | 67/0.5588/9.765625e-06 | 68/0.5588/4.8828125e-06 | 69/0.5588/4.8828125e-06 | 70/0.5588/4.8828125e-06 | 71/0.5588/4.8828125e-06 | 72/0.5588/4.8828125e-06 | 73/0.5588/4.8828125e-06 | 74/0.5588/2.44140625e-06 | 75/0.5588/2.44140625e-06 | 76/0.5588/2.44140625e-06 | 77/0.5588/2.44140625e-06 | 78/0.5588/2.44140625e-06 | 79/0.5588/2.44140625e-06 | 80/0.5588/1.220703125e-06 | 81/0.5588/1.220703125e-06 | 82/0.5588/1.220703125e-06 | 83/0.5588/1.220703125e-06 | 84/0.5588/1.220703125e-06 | 85/0.5588/1.220703125e-06 | 86/0.5588/6.103515625e-07 | Accuracy: 0.6667\n"
     ]
    }
   ],
   "source": [
    "results_dict = {}\n",
    "for name, dataset in dataset_dict.items():\n",
    "    results_dict[name] = {}\n",
    "    for char_method in char_methods:\n",
    "        results_dict[name][char_method] = {}\n",
    "        for pctl in percentiles:\n",
    "            results_dict[name][char_method][pctl] = {}\n",
    "            for pop_method in ['class']:\n",
    "                print(f'Evaluating {name} dataset using {char_method} method with a percentile of {pctl} against {pop_method} members')\n",
    "                results_dict[name][char_method][pctl][pop_method] = gnn_evaluation(\n",
    "                    \"GINWithJK\", \n",
    "                    ds_name = name, \n",
    "                    dataset = dataset, \n",
    "                    train_indices_dict = train_indices_dict, \n",
    "                    _all_or_class = pop_method, \n",
    "                    method = char_method, \n",
    "                    layers = 4, \n",
    "                    hidden = 64, \n",
    "                    num_classes = num_classes_dict[name]\n",
    "                )\n"
   ]
  },
  {
   "cell_type": "code",
   "execution_count": 17,
   "id": "2df8c0e4",
   "metadata": {
    "execution": {
     "iopub.execute_input": "2024-06-17T19:18:09.671240Z",
     "iopub.status.busy": "2024-06-17T19:18:09.670828Z",
     "iopub.status.idle": "2024-06-17T19:18:10.545752Z",
     "shell.execute_reply": "2024-06-17T19:18:10.544363Z"
    },
    "papermill": {
     "duration": 1.927159,
     "end_time": "2024-06-17T19:18:10.548757",
     "exception": false,
     "start_time": "2024-06-17T19:18:08.621598",
     "status": "completed"
    },
    "tags": []
   },
   "outputs": [],
   "source": [
    "import pickle\n",
    "with open('/kaggle/working/results_dict.pkl', 'wb') as f:\n",
    "    pickle.dump(results_dict, f)\n",
    "\n",
    "\n"
   ]
  },
  {
   "cell_type": "code",
   "execution_count": 18,
   "id": "797531b2",
   "metadata": {
    "execution": {
     "iopub.execute_input": "2024-06-17T19:18:12.377108Z",
     "iopub.status.busy": "2024-06-17T19:18:12.376723Z",
     "iopub.status.idle": "2024-06-17T19:18:12.516522Z",
     "shell.execute_reply": "2024-06-17T19:18:12.515455Z"
    },
    "papermill": {
     "duration": 1.052127,
     "end_time": "2024-06-17T19:18:12.520145",
     "exception": false,
     "start_time": "2024-06-17T19:18:11.468018",
     "status": "completed"
    },
    "tags": []
   },
   "outputs": [
    {
     "name": "stdout",
     "output_type": "stream",
     "text": [
      "{40: {'class': {'train': {'train_loss': [tensor(1.7936, grad_fn=<NllLossBackward0>), tensor(1.7514, grad_fn=<NllLossBackward0>), tensor(1.7013, grad_fn=<NllLossBackward0>), tensor(1.7302, grad_fn=<NllLossBackward0>), tensor(1.6403, grad_fn=<NllLossBackward0>), tensor(1.6120, grad_fn=<NllLossBackward0>), tensor(1.4928, grad_fn=<NllLossBackward0>), tensor(1.4221, grad_fn=<NllLossBackward0>), tensor(1.3995, grad_fn=<NllLossBackward0>), tensor(1.4481, grad_fn=<NllLossBackward0>), tensor(1.3965, grad_fn=<NllLossBackward0>), tensor(1.3594, grad_fn=<NllLossBackward0>), tensor(1.5096, grad_fn=<NllLossBackward0>), tensor(1.4973, grad_fn=<NllLossBackward0>), tensor(1.4107, grad_fn=<NllLossBackward0>), tensor(1.3675, grad_fn=<NllLossBackward0>), tensor(1.3443, grad_fn=<NllLossBackward0>), tensor(1.4042, grad_fn=<NllLossBackward0>), tensor(1.2820, grad_fn=<NllLossBackward0>), tensor(1.2817, grad_fn=<NllLossBackward0>), tensor(1.3477, grad_fn=<NllLossBackward0>), tensor(1.2210, grad_fn=<NllLossBackward0>), tensor(1.2395, grad_fn=<NllLossBackward0>), tensor(1.2691, grad_fn=<NllLossBackward0>), tensor(1.3199, grad_fn=<NllLossBackward0>), tensor(1.2365, grad_fn=<NllLossBackward0>), tensor(1.1591, grad_fn=<NllLossBackward0>), tensor(1.2224, grad_fn=<NllLossBackward0>), tensor(1.1430, grad_fn=<NllLossBackward0>), tensor(1.1752, grad_fn=<NllLossBackward0>), tensor(1.1149, grad_fn=<NllLossBackward0>), tensor(1.1538, grad_fn=<NllLossBackward0>), tensor(1.1356, grad_fn=<NllLossBackward0>), tensor(1.1306, grad_fn=<NllLossBackward0>), tensor(1.1506, grad_fn=<NllLossBackward0>), tensor(1.2618, grad_fn=<NllLossBackward0>), tensor(1.1705, grad_fn=<NllLossBackward0>), tensor(1.0302, grad_fn=<NllLossBackward0>), tensor(1.1120, grad_fn=<NllLossBackward0>), tensor(1.0942, grad_fn=<NllLossBackward0>), tensor(1.0829, grad_fn=<NllLossBackward0>), tensor(1.1689, grad_fn=<NllLossBackward0>), tensor(1.0314, grad_fn=<NllLossBackward0>), tensor(1.0515, grad_fn=<NllLossBackward0>), tensor(1.1347, grad_fn=<NllLossBackward0>), tensor(1.1655, grad_fn=<NllLossBackward0>), tensor(1.1060, grad_fn=<NllLossBackward0>), tensor(1.1092, grad_fn=<NllLossBackward0>), tensor(1.0724, grad_fn=<NllLossBackward0>), tensor(0.9943, grad_fn=<NllLossBackward0>), tensor(0.9957, grad_fn=<NllLossBackward0>), tensor(1.0708, grad_fn=<NllLossBackward0>), tensor(1.1002, grad_fn=<NllLossBackward0>), tensor(1.0967, grad_fn=<NllLossBackward0>), tensor(0.9715, grad_fn=<NllLossBackward0>), tensor(1.0623, grad_fn=<NllLossBackward0>), tensor(1.0888, grad_fn=<NllLossBackward0>), tensor(1.1126, grad_fn=<NllLossBackward0>), tensor(1.1110, grad_fn=<NllLossBackward0>), tensor(1.0251, grad_fn=<NllLossBackward0>), tensor(1.0659, grad_fn=<NllLossBackward0>), tensor(1.1160, grad_fn=<NllLossBackward0>), tensor(1.1020, grad_fn=<NllLossBackward0>), tensor(1.0704, grad_fn=<NllLossBackward0>), tensor(0.9994, grad_fn=<NllLossBackward0>), tensor(1.0039, grad_fn=<NllLossBackward0>), tensor(1.0629, grad_fn=<NllLossBackward0>), tensor(0.9889, grad_fn=<NllLossBackward0>), tensor(1.0072, grad_fn=<NllLossBackward0>), tensor(1.0843, grad_fn=<NllLossBackward0>), tensor(1.0433, grad_fn=<NllLossBackward0>), tensor(1.0606, grad_fn=<NllLossBackward0>), tensor(1.0652, grad_fn=<NllLossBackward0>), tensor(1.0446, grad_fn=<NllLossBackward0>), tensor(1.0609, grad_fn=<NllLossBackward0>), tensor(1.0802, grad_fn=<NllLossBackward0>), tensor(1.0892, grad_fn=<NllLossBackward0>), tensor(1.0276, grad_fn=<NllLossBackward0>), tensor(1.0249, grad_fn=<NllLossBackward0>), tensor(1.0590, grad_fn=<NllLossBackward0>), tensor(1.0838, grad_fn=<NllLossBackward0>), tensor(1.1056, grad_fn=<NllLossBackward0>), tensor(1.1193, grad_fn=<NllLossBackward0>), tensor(1.0899, grad_fn=<NllLossBackward0>), tensor(1.0761, grad_fn=<NllLossBackward0>), tensor(1.1245, grad_fn=<NllLossBackward0>), tensor(1.0337, grad_fn=<NllLossBackward0>), tensor(1.1837, grad_fn=<NllLossBackward0>), tensor(1.0610, grad_fn=<NllLossBackward0>), tensor(0.9793, grad_fn=<NllLossBackward0>), tensor(1.0269, grad_fn=<NllLossBackward0>), tensor(1.0388, grad_fn=<NllLossBackward0>)], 'val_acc': [0.1875, 0.125, 0.22916666666666666, 0.14583333333333334, 0.16666666666666666, 0.16666666666666666, 0.041666666666666664, 0.1875, 0.1875, 0.16666666666666666, 0.16666666666666666, 0.16666666666666666, 0.1875, 0.1875, 0.16666666666666666, 0.14583333333333334, 0.14583333333333334, 0.14583333333333334, 0.16666666666666666, 0.25, 0.2916666666666667, 0.2916666666666667, 0.2708333333333333, 0.25, 0.22916666666666666, 0.1875, 0.1875, 0.1875, 0.16666666666666666, 0.1875, 0.1875, 0.1875, 0.20833333333333334, 0.20833333333333334, 0.1875, 0.1875, 0.1875, 0.1875, 0.1875, 0.1875, 0.1875, 0.1875, 0.1875, 0.1875, 0.20833333333333334, 0.20833333333333334, 0.20833333333333334, 0.20833333333333334, 0.20833333333333334, 0.22916666666666666, 0.20833333333333334, 0.22916666666666666, 0.22916666666666666, 0.22916666666666666, 0.25, 0.25, 0.25, 0.25, 0.22916666666666666, 0.22916666666666666, 0.22916666666666666, 0.20833333333333334, 0.20833333333333334, 0.20833333333333334, 0.20833333333333334, 0.20833333333333334, 0.20833333333333334, 0.22916666666666666, 0.22916666666666666, 0.22916666666666666, 0.22916666666666666, 0.22916666666666666, 0.20833333333333334, 0.1875, 0.1875, 0.1875, 0.1875, 0.1875, 0.1875, 0.1875, 0.1875, 0.1875, 0.1875, 0.1875, 0.1875, 0.1875, 0.1875, 0.1875, 0.1875, 0.1875, 0.1875, 0.20833333333333334]}, 'test': {'acc': 0.3138888888888889, 'confusion': {'tp': 113, 'fp': 247, 'tn': None, 'fn': 247}}}}, 50: {'class': {'train': {'train_loss': [tensor(1.7881, grad_fn=<NllLossBackward0>), tensor(1.7783, grad_fn=<NllLossBackward0>), tensor(1.7909, grad_fn=<NllLossBackward0>), tensor(1.7118, grad_fn=<NllLossBackward0>), tensor(1.7008, grad_fn=<NllLossBackward0>), tensor(1.6686, grad_fn=<NllLossBackward0>), tensor(1.6247, grad_fn=<NllLossBackward0>), tensor(1.6901, grad_fn=<NllLossBackward0>), tensor(1.7251, grad_fn=<NllLossBackward0>), tensor(1.6140, grad_fn=<NllLossBackward0>), tensor(1.6342, grad_fn=<NllLossBackward0>), tensor(1.6305, grad_fn=<NllLossBackward0>), tensor(1.6637, grad_fn=<NllLossBackward0>), tensor(1.6897, grad_fn=<NllLossBackward0>), tensor(1.5598, grad_fn=<NllLossBackward0>), tensor(1.6692, grad_fn=<NllLossBackward0>), tensor(1.6458, grad_fn=<NllLossBackward0>), tensor(1.5898, grad_fn=<NllLossBackward0>), tensor(1.5735, grad_fn=<NllLossBackward0>), tensor(1.6068, grad_fn=<NllLossBackward0>), tensor(1.4891, grad_fn=<NllLossBackward0>), tensor(1.5483, grad_fn=<NllLossBackward0>), tensor(1.5333, grad_fn=<NllLossBackward0>), tensor(1.5978, grad_fn=<NllLossBackward0>), tensor(1.5236, grad_fn=<NllLossBackward0>), tensor(1.5052, grad_fn=<NllLossBackward0>), tensor(1.4501, grad_fn=<NllLossBackward0>), tensor(1.5571, grad_fn=<NllLossBackward0>), tensor(1.5523, grad_fn=<NllLossBackward0>), tensor(1.4994, grad_fn=<NllLossBackward0>), tensor(1.3957, grad_fn=<NllLossBackward0>), tensor(1.4818, grad_fn=<NllLossBackward0>), tensor(1.4953, grad_fn=<NllLossBackward0>), tensor(1.5315, grad_fn=<NllLossBackward0>), tensor(1.4554, grad_fn=<NllLossBackward0>), tensor(1.5082, grad_fn=<NllLossBackward0>), tensor(1.5254, grad_fn=<NllLossBackward0>), tensor(1.4612, grad_fn=<NllLossBackward0>), tensor(1.4326, grad_fn=<NllLossBackward0>), tensor(1.4475, grad_fn=<NllLossBackward0>), tensor(1.4778, grad_fn=<NllLossBackward0>), tensor(1.4646, grad_fn=<NllLossBackward0>), tensor(1.4616, grad_fn=<NllLossBackward0>), tensor(1.3970, grad_fn=<NllLossBackward0>), tensor(1.5216, grad_fn=<NllLossBackward0>), tensor(1.3587, grad_fn=<NllLossBackward0>), tensor(1.4999, grad_fn=<NllLossBackward0>), tensor(1.4836, grad_fn=<NllLossBackward0>), tensor(1.4281, grad_fn=<NllLossBackward0>), tensor(1.4678, grad_fn=<NllLossBackward0>), tensor(1.4413, grad_fn=<NllLossBackward0>), tensor(1.4720, grad_fn=<NllLossBackward0>), tensor(1.4648, grad_fn=<NllLossBackward0>), tensor(1.4447, grad_fn=<NllLossBackward0>), tensor(1.5348, grad_fn=<NllLossBackward0>), tensor(1.4348, grad_fn=<NllLossBackward0>), tensor(1.5500, grad_fn=<NllLossBackward0>), tensor(1.3910, grad_fn=<NllLossBackward0>), tensor(1.3706, grad_fn=<NllLossBackward0>), tensor(1.4418, grad_fn=<NllLossBackward0>), tensor(1.4580, grad_fn=<NllLossBackward0>), tensor(1.4751, grad_fn=<NllLossBackward0>), tensor(1.4600, grad_fn=<NllLossBackward0>), tensor(1.4362, grad_fn=<NllLossBackward0>), tensor(1.4872, grad_fn=<NllLossBackward0>), tensor(1.4336, grad_fn=<NllLossBackward0>), tensor(1.4859, grad_fn=<NllLossBackward0>), tensor(1.4247, grad_fn=<NllLossBackward0>), tensor(1.4506, grad_fn=<NllLossBackward0>), tensor(1.4452, grad_fn=<NllLossBackward0>), tensor(1.4502, grad_fn=<NllLossBackward0>), tensor(1.4445, grad_fn=<NllLossBackward0>), tensor(1.4136, grad_fn=<NllLossBackward0>), tensor(1.3855, grad_fn=<NllLossBackward0>), tensor(1.4135, grad_fn=<NllLossBackward0>), tensor(1.4516, grad_fn=<NllLossBackward0>), tensor(1.4840, grad_fn=<NllLossBackward0>), tensor(1.4009, grad_fn=<NllLossBackward0>), tensor(1.4622, grad_fn=<NllLossBackward0>), tensor(1.4839, grad_fn=<NllLossBackward0>), tensor(1.4199, grad_fn=<NllLossBackward0>), tensor(1.4237, grad_fn=<NllLossBackward0>), tensor(1.4684, grad_fn=<NllLossBackward0>), tensor(1.3984, grad_fn=<NllLossBackward0>), tensor(1.4520, grad_fn=<NllLossBackward0>), tensor(1.4066, grad_fn=<NllLossBackward0>), tensor(1.4767, grad_fn=<NllLossBackward0>)], 'val_acc': [0.15, 0.08333333333333333, 0.08333333333333333, 0.08333333333333333, 0.08333333333333333, 0.08333333333333333, 0.1, 0.1, 0.11666666666666667, 0.08333333333333333, 0.11666666666666667, 0.11666666666666667, 0.16666666666666666, 0.18333333333333332, 0.21666666666666667, 0.21666666666666667, 0.21666666666666667, 0.2, 0.2, 0.18333333333333332, 0.25, 0.23333333333333334, 0.18333333333333332, 0.21666666666666667, 0.2, 0.2, 0.18333333333333332, 0.21666666666666667, 0.21666666666666667, 0.26666666666666666, 0.26666666666666666, 0.26666666666666666, 0.26666666666666666, 0.23333333333333334, 0.25, 0.25, 0.26666666666666666, 0.3, 0.26666666666666666, 0.26666666666666666, 0.25, 0.23333333333333334, 0.23333333333333334, 0.25, 0.25, 0.25, 0.25, 0.23333333333333334, 0.23333333333333334, 0.23333333333333334, 0.25, 0.25, 0.25, 0.25, 0.25, 0.25, 0.26666666666666666, 0.26666666666666666, 0.26666666666666666, 0.26666666666666666, 0.26666666666666666, 0.26666666666666666, 0.26666666666666666, 0.26666666666666666, 0.26666666666666666, 0.26666666666666666, 0.26666666666666666, 0.26666666666666666, 0.26666666666666666, 0.25, 0.26666666666666666, 0.26666666666666666, 0.26666666666666666, 0.25, 0.25, 0.25, 0.25, 0.26666666666666666, 0.26666666666666666, 0.26666666666666666, 0.25, 0.25, 0.25, 0.26666666666666666, 0.26666666666666666, 0.26666666666666666, 0.26666666666666666]}, 'test': {'acc': 0.31333333333333335, 'confusion': {'tp': 94, 'fp': 206, 'tn': None, 'fn': 206}}}}, 60: {'class': {'train': {'train_loss': [tensor(1.8286, grad_fn=<NllLossBackward0>), tensor(1.7691, grad_fn=<NllLossBackward0>), tensor(1.7648, grad_fn=<NllLossBackward0>), tensor(1.7640, grad_fn=<NllLossBackward0>), tensor(1.7311, grad_fn=<NllLossBackward0>), tensor(1.7469, grad_fn=<NllLossBackward0>), tensor(1.7512, grad_fn=<NllLossBackward0>), tensor(1.7384, grad_fn=<NllLossBackward0>), tensor(1.6920, grad_fn=<NllLossBackward0>), tensor(1.7814, grad_fn=<NllLossBackward0>), tensor(1.5925, grad_fn=<NllLossBackward0>), tensor(1.5755, grad_fn=<NllLossBackward0>), tensor(1.5809, grad_fn=<NllLossBackward0>), tensor(1.5611, grad_fn=<NllLossBackward0>), tensor(1.5298, grad_fn=<NllLossBackward0>), tensor(1.5097, grad_fn=<NllLossBackward0>), tensor(1.5435, grad_fn=<NllLossBackward0>), tensor(1.5888, grad_fn=<NllLossBackward0>), tensor(1.5474, grad_fn=<NllLossBackward0>), tensor(1.5127, grad_fn=<NllLossBackward0>), tensor(1.4051, grad_fn=<NllLossBackward0>), tensor(1.4040, grad_fn=<NllLossBackward0>), tensor(1.4709, grad_fn=<NllLossBackward0>), tensor(1.4569, grad_fn=<NllLossBackward0>), tensor(1.4548, grad_fn=<NllLossBackward0>), tensor(1.4358, grad_fn=<NllLossBackward0>), tensor(1.3078, grad_fn=<NllLossBackward0>), tensor(1.4177, grad_fn=<NllLossBackward0>), tensor(1.4018, grad_fn=<NllLossBackward0>), tensor(1.4362, grad_fn=<NllLossBackward0>), tensor(1.4515, grad_fn=<NllLossBackward0>), tensor(1.4451, grad_fn=<NllLossBackward0>), tensor(1.4242, grad_fn=<NllLossBackward0>), tensor(1.4486, grad_fn=<NllLossBackward0>), tensor(1.3950, grad_fn=<NllLossBackward0>), tensor(1.3383, grad_fn=<NllLossBackward0>), tensor(1.3608, grad_fn=<NllLossBackward0>), tensor(1.4075, grad_fn=<NllLossBackward0>), tensor(1.4719, grad_fn=<NllLossBackward0>), tensor(1.5962, grad_fn=<NllLossBackward0>), tensor(1.4880, grad_fn=<NllLossBackward0>), tensor(1.4335, grad_fn=<NllLossBackward0>), tensor(1.4081, grad_fn=<NllLossBackward0>), tensor(1.4788, grad_fn=<NllLossBackward0>), tensor(1.4325, grad_fn=<NllLossBackward0>), tensor(1.3518, grad_fn=<NllLossBackward0>), tensor(1.4227, grad_fn=<NllLossBackward0>), tensor(1.3837, grad_fn=<NllLossBackward0>), tensor(1.4218, grad_fn=<NllLossBackward0>), tensor(1.4394, grad_fn=<NllLossBackward0>), tensor(1.3977, grad_fn=<NllLossBackward0>), tensor(1.3874, grad_fn=<NllLossBackward0>), tensor(1.5152, grad_fn=<NllLossBackward0>), tensor(1.4815, grad_fn=<NllLossBackward0>), tensor(1.3906, grad_fn=<NllLossBackward0>), tensor(1.3193, grad_fn=<NllLossBackward0>), tensor(1.4327, grad_fn=<NllLossBackward0>), tensor(1.4195, grad_fn=<NllLossBackward0>), tensor(1.4075, grad_fn=<NllLossBackward0>), tensor(1.3760, grad_fn=<NllLossBackward0>), tensor(1.4152, grad_fn=<NllLossBackward0>), tensor(1.3358, grad_fn=<NllLossBackward0>), tensor(1.4294, grad_fn=<NllLossBackward0>), tensor(1.3023, grad_fn=<NllLossBackward0>), tensor(1.3893, grad_fn=<NllLossBackward0>), tensor(1.5291, grad_fn=<NllLossBackward0>), tensor(1.3569, grad_fn=<NllLossBackward0>), tensor(1.3944, grad_fn=<NllLossBackward0>), tensor(1.3747, grad_fn=<NllLossBackward0>), tensor(1.4082, grad_fn=<NllLossBackward0>), tensor(1.3615, grad_fn=<NllLossBackward0>), tensor(1.5662, grad_fn=<NllLossBackward0>), tensor(1.4022, grad_fn=<NllLossBackward0>), tensor(1.3492, grad_fn=<NllLossBackward0>), tensor(1.3052, grad_fn=<NllLossBackward0>), tensor(1.3961, grad_fn=<NllLossBackward0>), tensor(1.3630, grad_fn=<NllLossBackward0>), tensor(1.4894, grad_fn=<NllLossBackward0>), tensor(1.4442, grad_fn=<NllLossBackward0>), tensor(1.3509, grad_fn=<NllLossBackward0>), tensor(1.3180, grad_fn=<NllLossBackward0>), tensor(1.3274, grad_fn=<NllLossBackward0>), tensor(1.4308, grad_fn=<NllLossBackward0>), tensor(1.4501, grad_fn=<NllLossBackward0>), tensor(1.3909, grad_fn=<NllLossBackward0>), tensor(1.4064, grad_fn=<NllLossBackward0>)], 'val_acc': [0.18055555555555555, 0.18055555555555555, 0.18055555555555555, 0.18055555555555555, 0.20833333333333334, 0.20833333333333334, 0.20833333333333334, 0.2916666666666667, 0.2916666666666667, 0.3055555555555556, 0.3055555555555556, 0.3055555555555556, 0.2777777777777778, 0.3194444444444444, 0.3333333333333333, 0.3611111111111111, 0.3611111111111111, 0.3611111111111111, 0.3333333333333333, 0.3333333333333333, 0.3194444444444444, 0.3055555555555556, 0.3472222222222222, 0.3888888888888889, 0.375, 0.375, 0.3888888888888889, 0.3888888888888889, 0.4166666666666667, 0.4166666666666667, 0.4305555555555556, 0.4444444444444444, 0.4444444444444444, 0.4583333333333333, 0.4444444444444444, 0.4444444444444444, 0.4444444444444444, 0.4444444444444444, 0.4583333333333333, 0.4444444444444444, 0.4444444444444444, 0.4305555555555556, 0.4305555555555556, 0.4305555555555556, 0.4444444444444444, 0.4583333333333333, 0.4583333333333333, 0.4583333333333333, 0.4583333333333333, 0.4722222222222222, 0.4861111111111111, 0.4861111111111111, 0.4861111111111111, 0.4861111111111111, 0.4861111111111111, 0.4861111111111111, 0.4861111111111111, 0.4861111111111111, 0.5, 0.4861111111111111, 0.4861111111111111, 0.4861111111111111, 0.4861111111111111, 0.4861111111111111, 0.5, 0.5, 0.5, 0.5, 0.5138888888888888, 0.5, 0.5, 0.5, 0.5, 0.5, 0.5, 0.5, 0.5, 0.5, 0.5, 0.4861111111111111, 0.4861111111111111, 0.5, 0.5, 0.5138888888888888, 0.5138888888888888, 0.5]}, 'test': {'acc': 0.32916666666666666, 'confusion': {'tp': 79, 'fp': 161, 'tn': None, 'fn': 161}}}}, 70: {'class': {'train': {'train_loss': [tensor(1.8079, grad_fn=<NllLossBackward0>), tensor(1.7644, grad_fn=<NllLossBackward0>), tensor(1.8611, grad_fn=<NllLossBackward0>), tensor(1.8410, grad_fn=<NllLossBackward0>), tensor(1.6590, grad_fn=<NllLossBackward0>), tensor(1.7286, grad_fn=<NllLossBackward0>), tensor(1.7536, grad_fn=<NllLossBackward0>), tensor(1.7469, grad_fn=<NllLossBackward0>), tensor(1.4989, grad_fn=<NllLossBackward0>), tensor(1.6441, grad_fn=<NllLossBackward0>), tensor(1.5956, grad_fn=<NllLossBackward0>), tensor(1.6621, grad_fn=<NllLossBackward0>), tensor(1.5901, grad_fn=<NllLossBackward0>), tensor(1.5812, grad_fn=<NllLossBackward0>), tensor(1.5825, grad_fn=<NllLossBackward0>), tensor(1.6000, grad_fn=<NllLossBackward0>), tensor(1.6279, grad_fn=<NllLossBackward0>), tensor(1.6290, grad_fn=<NllLossBackward0>), tensor(1.5923, grad_fn=<NllLossBackward0>), tensor(1.5258, grad_fn=<NllLossBackward0>), tensor(1.5394, grad_fn=<NllLossBackward0>), tensor(1.5538, grad_fn=<NllLossBackward0>), tensor(1.4973, grad_fn=<NllLossBackward0>), tensor(1.5675, grad_fn=<NllLossBackward0>), tensor(1.5275, grad_fn=<NllLossBackward0>), tensor(1.5679, grad_fn=<NllLossBackward0>), tensor(1.5197, grad_fn=<NllLossBackward0>), tensor(1.5213, grad_fn=<NllLossBackward0>), tensor(1.6337, grad_fn=<NllLossBackward0>), tensor(1.4558, grad_fn=<NllLossBackward0>), tensor(1.5605, grad_fn=<NllLossBackward0>), tensor(1.4237, grad_fn=<NllLossBackward0>), tensor(1.5354, grad_fn=<NllLossBackward0>), tensor(1.4653, grad_fn=<NllLossBackward0>), tensor(1.5045, grad_fn=<NllLossBackward0>), tensor(1.4965, grad_fn=<NllLossBackward0>), tensor(1.3952, grad_fn=<NllLossBackward0>), tensor(1.4551, grad_fn=<NllLossBackward0>), tensor(1.3757, grad_fn=<NllLossBackward0>), tensor(1.4346, grad_fn=<NllLossBackward0>), tensor(1.4401, grad_fn=<NllLossBackward0>), tensor(1.4661, grad_fn=<NllLossBackward0>), tensor(1.4478, grad_fn=<NllLossBackward0>), tensor(1.3824, grad_fn=<NllLossBackward0>), tensor(1.4529, grad_fn=<NllLossBackward0>), tensor(1.4277, grad_fn=<NllLossBackward0>), tensor(1.4189, grad_fn=<NllLossBackward0>), tensor(1.3880, grad_fn=<NllLossBackward0>), tensor(1.4051, grad_fn=<NllLossBackward0>), tensor(1.4865, grad_fn=<NllLossBackward0>), tensor(1.4220, grad_fn=<NllLossBackward0>), tensor(1.5286, grad_fn=<NllLossBackward0>), tensor(1.4408, grad_fn=<NllLossBackward0>), tensor(1.5014, grad_fn=<NllLossBackward0>), tensor(1.5342, grad_fn=<NllLossBackward0>), tensor(1.5046, grad_fn=<NllLossBackward0>), tensor(1.4664, grad_fn=<NllLossBackward0>), tensor(1.3549, grad_fn=<NllLossBackward0>), tensor(1.4041, grad_fn=<NllLossBackward0>), tensor(1.4865, grad_fn=<NllLossBackward0>), tensor(1.5227, grad_fn=<NllLossBackward0>), tensor(1.3882, grad_fn=<NllLossBackward0>), tensor(1.3803, grad_fn=<NllLossBackward0>), tensor(1.3830, grad_fn=<NllLossBackward0>), tensor(1.4261, grad_fn=<NllLossBackward0>), tensor(1.4041, grad_fn=<NllLossBackward0>), tensor(1.4753, grad_fn=<NllLossBackward0>), tensor(1.4976, grad_fn=<NllLossBackward0>), tensor(1.4086, grad_fn=<NllLossBackward0>), tensor(1.4284, grad_fn=<NllLossBackward0>), tensor(1.4709, grad_fn=<NllLossBackward0>), tensor(1.4276, grad_fn=<NllLossBackward0>), tensor(1.3702, grad_fn=<NllLossBackward0>), tensor(1.4713, grad_fn=<NllLossBackward0>), tensor(1.3942, grad_fn=<NllLossBackward0>), tensor(1.4844, grad_fn=<NllLossBackward0>), tensor(1.4678, grad_fn=<NllLossBackward0>), tensor(1.3244, grad_fn=<NllLossBackward0>), tensor(1.3603, grad_fn=<NllLossBackward0>), tensor(1.4669, grad_fn=<NllLossBackward0>), tensor(1.4525, grad_fn=<NllLossBackward0>), tensor(1.3840, grad_fn=<NllLossBackward0>), tensor(1.4148, grad_fn=<NllLossBackward0>), tensor(1.4488, grad_fn=<NllLossBackward0>), tensor(1.4127, grad_fn=<NllLossBackward0>), tensor(1.4929, grad_fn=<NllLossBackward0>), tensor(1.5194, grad_fn=<NllLossBackward0>), tensor(1.3848, grad_fn=<NllLossBackward0>)], 'val_acc': [0.16666666666666666, 0.19047619047619047, 0.14285714285714285, 0.19047619047619047, 0.20238095238095238, 0.19047619047619047, 0.19047619047619047, 0.21428571428571427, 0.19047619047619047, 0.17857142857142858, 0.17857142857142858, 0.17857142857142858, 0.17857142857142858, 0.20238095238095238, 0.21428571428571427, 0.2261904761904762, 0.25, 0.27380952380952384, 0.2857142857142857, 0.25, 0.2261904761904762, 0.20238095238095238, 0.25, 0.20238095238095238, 0.20238095238095238, 0.20238095238095238, 0.17857142857142858, 0.17857142857142858, 0.20238095238095238, 0.19047619047619047, 0.23809523809523808, 0.23809523809523808, 0.23809523809523808, 0.23809523809523808, 0.23809523809523808, 0.25, 0.25, 0.2857142857142857, 0.2857142857142857, 0.2976190476190476, 0.32142857142857145, 0.3333333333333333, 0.3333333333333333, 0.3333333333333333, 0.3333333333333333, 0.34523809523809523, 0.34523809523809523, 0.3333333333333333, 0.3333333333333333, 0.3333333333333333, 0.3333333333333333, 0.3333333333333333, 0.3333333333333333, 0.3333333333333333, 0.34523809523809523, 0.34523809523809523, 0.34523809523809523, 0.3333333333333333, 0.3333333333333333, 0.3333333333333333, 0.32142857142857145, 0.32142857142857145, 0.3333333333333333, 0.3333333333333333, 0.3333333333333333, 0.3333333333333333, 0.34523809523809523, 0.34523809523809523, 0.34523809523809523, 0.3333333333333333, 0.3333333333333333, 0.3333333333333333, 0.3333333333333333, 0.3333333333333333, 0.3333333333333333, 0.3333333333333333, 0.3333333333333333, 0.3333333333333333, 0.3333333333333333, 0.3333333333333333, 0.3333333333333333, 0.3333333333333333, 0.34523809523809523, 0.35714285714285715, 0.34523809523809523, 0.34523809523809523, 0.34523809523809523, 0.3333333333333333]}, 'test': {'acc': 0.3333333333333333, 'confusion': {'tp': 60, 'fp': 120, 'tn': None, 'fn': 120}}}}, 80: {'class': {'train': {'train_loss': [tensor(1.8137, grad_fn=<NllLossBackward0>), tensor(1.8085, grad_fn=<NllLossBackward0>), tensor(1.7125, grad_fn=<NllLossBackward0>), tensor(1.6951, grad_fn=<NllLossBackward0>), tensor(1.7934, grad_fn=<NllLossBackward0>), tensor(1.7326, grad_fn=<NllLossBackward0>), tensor(1.8052, grad_fn=<NllLossBackward0>), tensor(1.6302, grad_fn=<NllLossBackward0>), tensor(1.6802, grad_fn=<NllLossBackward0>), tensor(1.7143, grad_fn=<NllLossBackward0>), tensor(1.6568, grad_fn=<NllLossBackward0>), tensor(1.5832, grad_fn=<NllLossBackward0>), tensor(1.5054, grad_fn=<NllLossBackward0>), tensor(1.6648, grad_fn=<NllLossBackward0>), tensor(1.5797, grad_fn=<NllLossBackward0>), tensor(1.6076, grad_fn=<NllLossBackward0>), tensor(1.6780, grad_fn=<NllLossBackward0>), tensor(1.5752, grad_fn=<NllLossBackward0>), tensor(1.5024, grad_fn=<NllLossBackward0>), tensor(1.5326, grad_fn=<NllLossBackward0>), tensor(1.5682, grad_fn=<NllLossBackward0>), tensor(1.5152, grad_fn=<NllLossBackward0>), tensor(1.5227, grad_fn=<NllLossBackward0>), tensor(1.5287, grad_fn=<NllLossBackward0>), tensor(1.5118, grad_fn=<NllLossBackward0>), tensor(1.5193, grad_fn=<NllLossBackward0>), tensor(1.4634, grad_fn=<NllLossBackward0>), tensor(1.4762, grad_fn=<NllLossBackward0>), tensor(1.4385, grad_fn=<NllLossBackward0>), tensor(1.5494, grad_fn=<NllLossBackward0>), tensor(1.5683, grad_fn=<NllLossBackward0>), tensor(1.4939, grad_fn=<NllLossBackward0>), tensor(1.5042, grad_fn=<NllLossBackward0>), tensor(1.4965, grad_fn=<NllLossBackward0>), tensor(1.5151, grad_fn=<NllLossBackward0>), tensor(1.4886, grad_fn=<NllLossBackward0>), tensor(1.4623, grad_fn=<NllLossBackward0>), tensor(1.4247, grad_fn=<NllLossBackward0>), tensor(1.5457, grad_fn=<NllLossBackward0>), tensor(1.4373, grad_fn=<NllLossBackward0>), tensor(1.5120, grad_fn=<NllLossBackward0>), tensor(1.5169, grad_fn=<NllLossBackward0>), tensor(1.4583, grad_fn=<NllLossBackward0>), tensor(1.4601, grad_fn=<NllLossBackward0>), tensor(1.5336, grad_fn=<NllLossBackward0>), tensor(1.5116, grad_fn=<NllLossBackward0>), tensor(1.5123, grad_fn=<NllLossBackward0>), tensor(1.4906, grad_fn=<NllLossBackward0>), tensor(1.4389, grad_fn=<NllLossBackward0>), tensor(1.5070, grad_fn=<NllLossBackward0>), tensor(1.4263, grad_fn=<NllLossBackward0>), tensor(1.5893, grad_fn=<NllLossBackward0>), tensor(1.4975, grad_fn=<NllLossBackward0>), tensor(1.4469, grad_fn=<NllLossBackward0>), tensor(1.5233, grad_fn=<NllLossBackward0>), tensor(1.4950, grad_fn=<NllLossBackward0>), tensor(1.4394, grad_fn=<NllLossBackward0>), tensor(1.5030, grad_fn=<NllLossBackward0>), tensor(1.4539, grad_fn=<NllLossBackward0>), tensor(1.4782, grad_fn=<NllLossBackward0>), tensor(1.4201, grad_fn=<NllLossBackward0>), tensor(1.4634, grad_fn=<NllLossBackward0>), tensor(1.4707, grad_fn=<NllLossBackward0>), tensor(1.4682, grad_fn=<NllLossBackward0>), tensor(1.5558, grad_fn=<NllLossBackward0>), tensor(1.5599, grad_fn=<NllLossBackward0>), tensor(1.4573, grad_fn=<NllLossBackward0>), tensor(1.5584, grad_fn=<NllLossBackward0>), tensor(1.3827, grad_fn=<NllLossBackward0>), tensor(1.5083, grad_fn=<NllLossBackward0>), tensor(1.4325, grad_fn=<NllLossBackward0>), tensor(1.5059, grad_fn=<NllLossBackward0>), tensor(1.4890, grad_fn=<NllLossBackward0>), tensor(1.4743, grad_fn=<NllLossBackward0>), tensor(1.3737, grad_fn=<NllLossBackward0>), tensor(1.5977, grad_fn=<NllLossBackward0>), tensor(1.4635, grad_fn=<NllLossBackward0>), tensor(1.4630, grad_fn=<NllLossBackward0>), tensor(1.5192, grad_fn=<NllLossBackward0>), tensor(1.5419, grad_fn=<NllLossBackward0>), tensor(1.5086, grad_fn=<NllLossBackward0>), tensor(1.4708, grad_fn=<NllLossBackward0>), tensor(1.4267, grad_fn=<NllLossBackward0>), tensor(1.5558, grad_fn=<NllLossBackward0>), tensor(1.4362, grad_fn=<NllLossBackward0>), tensor(1.4642, grad_fn=<NllLossBackward0>)], 'val_acc': [0.13541666666666666, 0.13541666666666666, 0.13541666666666666, 0.13541666666666666, 0.13541666666666666, 0.13541666666666666, 0.13541666666666666, 0.13541666666666666, 0.13541666666666666, 0.13541666666666666, 0.13541666666666666, 0.14583333333333334, 0.16666666666666666, 0.19791666666666666, 0.19791666666666666, 0.21875, 0.22916666666666666, 0.2604166666666667, 0.2708333333333333, 0.28125, 0.28125, 0.3020833333333333, 0.28125, 0.2916666666666667, 0.28125, 0.2916666666666667, 0.3125, 0.28125, 0.2604166666666667, 0.28125, 0.2604166666666667, 0.25, 0.25, 0.2604166666666667, 0.2604166666666667, 0.2708333333333333, 0.2708333333333333, 0.2708333333333333, 0.2708333333333333, 0.28125, 0.2916666666666667, 0.2916666666666667, 0.2916666666666667, 0.2916666666666667, 0.3020833333333333, 0.3020833333333333, 0.3020833333333333, 0.28125, 0.2708333333333333, 0.2708333333333333, 0.2708333333333333, 0.28125, 0.2916666666666667, 0.2708333333333333, 0.2708333333333333, 0.2708333333333333, 0.2708333333333333, 0.2708333333333333, 0.28125, 0.2708333333333333, 0.2708333333333333, 0.28125, 0.28125, 0.28125, 0.28125, 0.2916666666666667, 0.2916666666666667, 0.28125, 0.28125, 0.28125, 0.28125, 0.28125, 0.28125, 0.2708333333333333, 0.28125, 0.28125, 0.2916666666666667, 0.2916666666666667, 0.2916666666666667, 0.2916666666666667, 0.28125, 0.28125, 0.28125, 0.28125, 0.28125, 0.28125]}, 'test': {'acc': 0.25833333333333336, 'confusion': {'tp': 31, 'fp': 89, 'tn': None, 'fn': 89}}}}, 90: {'class': {'train': {'train_loss': [tensor(1.8921, grad_fn=<NllLossBackward0>), tensor(1.7914, grad_fn=<NllLossBackward0>), tensor(1.7826, grad_fn=<NllLossBackward0>), tensor(1.7332, grad_fn=<NllLossBackward0>), tensor(1.7715, grad_fn=<NllLossBackward0>), tensor(1.7183, grad_fn=<NllLossBackward0>), tensor(1.6649, grad_fn=<NllLossBackward0>), tensor(1.7823, grad_fn=<NllLossBackward0>), tensor(1.6892, grad_fn=<NllLossBackward0>), tensor(1.6614, grad_fn=<NllLossBackward0>), tensor(1.6063, grad_fn=<NllLossBackward0>), tensor(1.6892, grad_fn=<NllLossBackward0>), tensor(1.6708, grad_fn=<NllLossBackward0>), tensor(1.5841, grad_fn=<NllLossBackward0>), tensor(1.6296, grad_fn=<NllLossBackward0>), tensor(1.6067, grad_fn=<NllLossBackward0>), tensor(1.6848, grad_fn=<NllLossBackward0>), tensor(1.6790, grad_fn=<NllLossBackward0>), tensor(1.7062, grad_fn=<NllLossBackward0>), tensor(1.6601, grad_fn=<NllLossBackward0>), tensor(1.5886, grad_fn=<NllLossBackward0>), tensor(1.6172, grad_fn=<NllLossBackward0>), tensor(1.6048, grad_fn=<NllLossBackward0>), tensor(1.5178, grad_fn=<NllLossBackward0>), tensor(1.4548, grad_fn=<NllLossBackward0>), tensor(1.5586, grad_fn=<NllLossBackward0>), tensor(1.5012, grad_fn=<NllLossBackward0>), tensor(1.4997, grad_fn=<NllLossBackward0>), tensor(1.5718, grad_fn=<NllLossBackward0>), tensor(1.4846, grad_fn=<NllLossBackward0>), tensor(1.5221, grad_fn=<NllLossBackward0>), tensor(1.5076, grad_fn=<NllLossBackward0>), tensor(1.5125, grad_fn=<NllLossBackward0>), tensor(1.4467, grad_fn=<NllLossBackward0>), tensor(1.5515, grad_fn=<NllLossBackward0>), tensor(1.4829, grad_fn=<NllLossBackward0>), tensor(1.5053, grad_fn=<NllLossBackward0>), tensor(1.5205, grad_fn=<NllLossBackward0>), tensor(1.4866, grad_fn=<NllLossBackward0>), tensor(1.4716, grad_fn=<NllLossBackward0>), tensor(1.5084, grad_fn=<NllLossBackward0>), tensor(1.4804, grad_fn=<NllLossBackward0>), tensor(1.5040, grad_fn=<NllLossBackward0>), tensor(1.5553, grad_fn=<NllLossBackward0>), tensor(1.5151, grad_fn=<NllLossBackward0>), tensor(1.4537, grad_fn=<NllLossBackward0>), tensor(1.3970, grad_fn=<NllLossBackward0>), tensor(1.5399, grad_fn=<NllLossBackward0>), tensor(1.3848, grad_fn=<NllLossBackward0>), tensor(1.4694, grad_fn=<NllLossBackward0>), tensor(1.4609, grad_fn=<NllLossBackward0>), tensor(1.4574, grad_fn=<NllLossBackward0>), tensor(1.4845, grad_fn=<NllLossBackward0>), tensor(1.5183, grad_fn=<NllLossBackward0>), tensor(1.5338, grad_fn=<NllLossBackward0>), tensor(1.4914, grad_fn=<NllLossBackward0>), tensor(1.4233, grad_fn=<NllLossBackward0>), tensor(1.4630, grad_fn=<NllLossBackward0>), tensor(1.4294, grad_fn=<NllLossBackward0>), tensor(1.3802, grad_fn=<NllLossBackward0>), tensor(1.4212, grad_fn=<NllLossBackward0>), tensor(1.4978, grad_fn=<NllLossBackward0>), tensor(1.5000, grad_fn=<NllLossBackward0>), tensor(1.4526, grad_fn=<NllLossBackward0>), tensor(1.3733, grad_fn=<NllLossBackward0>), tensor(1.5334, grad_fn=<NllLossBackward0>), tensor(1.3890, grad_fn=<NllLossBackward0>), tensor(1.5535, grad_fn=<NllLossBackward0>), tensor(1.4518, grad_fn=<NllLossBackward0>), tensor(1.5079, grad_fn=<NllLossBackward0>), tensor(1.5349, grad_fn=<NllLossBackward0>), tensor(1.4276, grad_fn=<NllLossBackward0>), tensor(1.5318, grad_fn=<NllLossBackward0>), tensor(1.4861, grad_fn=<NllLossBackward0>), tensor(1.4269, grad_fn=<NllLossBackward0>), tensor(1.4569, grad_fn=<NllLossBackward0>), tensor(1.5035, grad_fn=<NllLossBackward0>), tensor(1.5362, grad_fn=<NllLossBackward0>), tensor(1.4552, grad_fn=<NllLossBackward0>), tensor(1.4375, grad_fn=<NllLossBackward0>), tensor(1.4570, grad_fn=<NllLossBackward0>), tensor(1.4011, grad_fn=<NllLossBackward0>), tensor(1.4529, grad_fn=<NllLossBackward0>), tensor(1.4878, grad_fn=<NllLossBackward0>), tensor(1.5142, grad_fn=<NllLossBackward0>), tensor(1.4801, grad_fn=<NllLossBackward0>), tensor(1.4136, grad_fn=<NllLossBackward0>), tensor(1.4917, grad_fn=<NllLossBackward0>), tensor(1.4472, grad_fn=<NllLossBackward0>), tensor(1.4412, grad_fn=<NllLossBackward0>), tensor(1.4412, grad_fn=<NllLossBackward0>), tensor(1.4811, grad_fn=<NllLossBackward0>), tensor(1.4910, grad_fn=<NllLossBackward0>), tensor(1.4297, grad_fn=<NllLossBackward0>), tensor(1.4193, grad_fn=<NllLossBackward0>)], 'val_acc': [0.21296296296296297, 0.21296296296296297, 0.23148148148148148, 0.2222222222222222, 0.21296296296296297, 0.2037037037037037, 0.2037037037037037, 0.21296296296296297, 0.1574074074074074, 0.12962962962962962, 0.21296296296296297, 0.21296296296296297, 0.25, 0.25, 0.25, 0.21296296296296297, 0.23148148148148148, 0.25925925925925924, 0.2962962962962963, 0.3055555555555556, 0.3055555555555556, 0.3055555555555556, 0.32407407407407407, 0.3333333333333333, 0.3148148148148148, 0.32407407407407407, 0.32407407407407407, 0.3425925925925926, 0.37037037037037035, 0.3888888888888889, 0.37962962962962965, 0.4074074074074074, 0.4074074074074074, 0.39814814814814814, 0.39814814814814814, 0.39814814814814814, 0.4074074074074074, 0.4166666666666667, 0.4074074074074074, 0.39814814814814814, 0.39814814814814814, 0.4074074074074074, 0.42592592592592593, 0.4166666666666667, 0.4166666666666667, 0.4166666666666667, 0.4166666666666667, 0.4074074074074074, 0.4074074074074074, 0.4166666666666667, 0.4166666666666667, 0.4166666666666667, 0.4166666666666667, 0.4166666666666667, 0.42592592592592593, 0.42592592592592593, 0.42592592592592593, 0.42592592592592593, 0.4166666666666667, 0.4166666666666667, 0.4166666666666667, 0.42592592592592593, 0.42592592592592593, 0.4351851851851852, 0.4351851851851852, 0.4351851851851852, 0.42592592592592593, 0.42592592592592593, 0.42592592592592593, 0.42592592592592593, 0.42592592592592593, 0.42592592592592593, 0.4351851851851852, 0.4351851851851852, 0.4351851851851852, 0.4351851851851852, 0.4351851851851852, 0.4351851851851852, 0.4351851851851852, 0.4351851851851852, 0.4351851851851852, 0.4351851851851852, 0.4351851851851852, 0.4351851851851852, 0.4351851851851852, 0.4351851851851852, 0.4351851851851852, 0.4351851851851852, 0.4351851851851852, 0.4351851851851852, 0.4351851851851852, 0.4351851851851852, 0.4351851851851852, 0.4351851851851852, 0.4351851851851852]}, 'test': {'acc': 0.3333333333333333, 'confusion': {'tp': 20, 'fp': 40, 'tn': None, 'fn': 40}}}}}\n"
     ]
    }
   ],
   "source": [
    "print(results_dict['enzymes']['random'])"
   ]
  },
  {
   "cell_type": "code",
   "execution_count": null,
   "id": "c74e7842",
   "metadata": {
    "papermill": {
     "duration": 0.911084,
     "end_time": "2024-06-17T19:18:14.349028",
     "exception": false,
     "start_time": "2024-06-17T19:18:13.437944",
     "status": "completed"
    },
    "tags": []
   },
   "outputs": [],
   "source": []
  }
 ],
 "metadata": {
  "kaggle": {
   "accelerator": "none",
   "dataSources": [
    {
     "sourceId": 183818701,
     "sourceType": "kernelVersion"
    },
    {
     "sourceId": 183818784,
     "sourceType": "kernelVersion"
    },
    {
     "sourceId": 183818831,
     "sourceType": "kernelVersion"
    },
    {
     "sourceId": 183818866,
     "sourceType": "kernelVersion"
    },
    {
     "sourceId": 183818895,
     "sourceType": "kernelVersion"
    },
    {
     "sourceId": 183818939,
     "sourceType": "kernelVersion"
    }
   ],
   "dockerImageVersionId": 30732,
   "isGpuEnabled": false,
   "isInternetEnabled": true,
   "language": "python",
   "sourceType": "notebook"
  },
  "kernelspec": {
   "display_name": "Python 3",
   "language": "python",
   "name": "python3"
  },
  "language_info": {
   "codemirror_mode": {
    "name": "ipython",
    "version": 3
   },
   "file_extension": ".py",
   "mimetype": "text/x-python",
   "name": "python",
   "nbconvert_exporter": "python",
   "pygments_lexer": "ipython3",
   "version": "3.10.13"
  },
  "papermill": {
   "default_parameters": {},
   "duration": 19479.167046,
   "end_time": "2024-06-17T19:18:20.133131",
   "environment_variables": {},
   "exception": null,
   "input_path": "__notebook__.ipynb",
   "output_path": "__notebook__.ipynb",
   "parameters": {},
   "start_time": "2024-06-17T13:53:40.966085",
   "version": "2.5.0"
  }
 },
 "nbformat": 4,
 "nbformat_minor": 5
}
