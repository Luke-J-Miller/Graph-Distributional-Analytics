{
 "cells": [
  {
   "cell_type": "code",
   "execution_count": 1,
   "id": "895d0bd0",
   "metadata": {
    "execution": {
     "iopub.execute_input": "2024-06-17T15:24:27.982250Z",
     "iopub.status.busy": "2024-06-17T15:24:27.981833Z",
     "iopub.status.idle": "2024-06-17T15:24:55.195546Z",
     "shell.execute_reply": "2024-06-17T15:24:55.194151Z"
    },
    "papermill": {
     "duration": 27.223833,
     "end_time": "2024-06-17T15:24:55.198130",
     "exception": false,
     "start_time": "2024-06-17T15:24:27.974297",
     "status": "completed"
    },
    "tags": []
   },
   "outputs": [
    {
     "name": "stdout",
     "output_type": "stream",
     "text": [
      "Requirement already satisfied: torch in /opt/conda/lib/python3.10/site-packages (2.1.2+cpu)\r\n",
      "Requirement already satisfied: torchvision in /opt/conda/lib/python3.10/site-packages (0.16.2+cpu)\r\n",
      "Requirement already satisfied: torchaudio in /opt/conda/lib/python3.10/site-packages (2.1.2+cpu)\r\n",
      "Requirement already satisfied: filelock in /opt/conda/lib/python3.10/site-packages (from torch) (3.13.1)\r\n",
      "Requirement already satisfied: typing-extensions in /opt/conda/lib/python3.10/site-packages (from torch) (4.9.0)\r\n",
      "Requirement already satisfied: sympy in /opt/conda/lib/python3.10/site-packages (from torch) (1.12.1)\r\n",
      "Requirement already satisfied: networkx in /opt/conda/lib/python3.10/site-packages (from torch) (3.2.1)\r\n",
      "Requirement already satisfied: jinja2 in /opt/conda/lib/python3.10/site-packages (from torch) (3.1.2)\r\n",
      "Requirement already satisfied: fsspec in /opt/conda/lib/python3.10/site-packages (from torch) (2024.3.1)\r\n",
      "Requirement already satisfied: numpy in /opt/conda/lib/python3.10/site-packages (from torchvision) (1.26.4)\r\n",
      "Requirement already satisfied: requests in /opt/conda/lib/python3.10/site-packages (from torchvision) (2.32.3)\r\n",
      "Requirement already satisfied: pillow!=8.3.*,>=5.3.0 in /opt/conda/lib/python3.10/site-packages (from torchvision) (9.5.0)\r\n",
      "Requirement already satisfied: MarkupSafe>=2.0 in /opt/conda/lib/python3.10/site-packages (from jinja2->torch) (2.1.3)\r\n",
      "Requirement already satisfied: charset-normalizer<4,>=2 in /opt/conda/lib/python3.10/site-packages (from requests->torchvision) (3.3.2)\r\n",
      "Requirement already satisfied: idna<4,>=2.5 in /opt/conda/lib/python3.10/site-packages (from requests->torchvision) (3.6)\r\n",
      "Requirement already satisfied: urllib3<3,>=1.21.1 in /opt/conda/lib/python3.10/site-packages (from requests->torchvision) (1.26.18)\r\n",
      "Requirement already satisfied: certifi>=2017.4.17 in /opt/conda/lib/python3.10/site-packages (from requests->torchvision) (2024.2.2)\r\n",
      "Requirement already satisfied: mpmath<1.4.0,>=1.1.0 in /opt/conda/lib/python3.10/site-packages (from sympy->torch) (1.3.0)\r\n",
      "Requirement already satisfied: torch in /opt/conda/lib/python3.10/site-packages (2.1.2+cpu)\r\n",
      "Collecting torch-geometric\r\n",
      "  Downloading torch_geometric-2.5.3-py3-none-any.whl.metadata (64 kB)\r\n",
      "\u001b[2K     \u001b[90m━━━━━━━━━━━━━━━━━━━━━━━━━━━━━━━━━━━━━━━━\u001b[0m \u001b[32m64.2/64.2 kB\u001b[0m \u001b[31m1.5 MB/s\u001b[0m eta \u001b[36m0:00:00\u001b[0m\r\n",
      "\u001b[?25hRequirement already satisfied: filelock in /opt/conda/lib/python3.10/site-packages (from torch) (3.13.1)\r\n",
      "Requirement already satisfied: typing-extensions in /opt/conda/lib/python3.10/site-packages (from torch) (4.9.0)\r\n",
      "Requirement already satisfied: sympy in /opt/conda/lib/python3.10/site-packages (from torch) (1.12.1)\r\n",
      "Requirement already satisfied: networkx in /opt/conda/lib/python3.10/site-packages (from torch) (3.2.1)\r\n",
      "Requirement already satisfied: jinja2 in /opt/conda/lib/python3.10/site-packages (from torch) (3.1.2)\r\n",
      "Requirement already satisfied: fsspec in /opt/conda/lib/python3.10/site-packages (from torch) (2024.3.1)\r\n",
      "Requirement already satisfied: tqdm in /opt/conda/lib/python3.10/site-packages (from torch-geometric) (4.66.4)\r\n",
      "Requirement already satisfied: numpy in /opt/conda/lib/python3.10/site-packages (from torch-geometric) (1.26.4)\r\n",
      "Requirement already satisfied: scipy in /opt/conda/lib/python3.10/site-packages (from torch-geometric) (1.11.4)\r\n",
      "Requirement already satisfied: aiohttp in /opt/conda/lib/python3.10/site-packages (from torch-geometric) (3.9.1)\r\n",
      "Requirement already satisfied: requests in /opt/conda/lib/python3.10/site-packages (from torch-geometric) (2.32.3)\r\n",
      "Requirement already satisfied: pyparsing in /opt/conda/lib/python3.10/site-packages (from torch-geometric) (3.1.1)\r\n",
      "Requirement already satisfied: scikit-learn in /opt/conda/lib/python3.10/site-packages (from torch-geometric) (1.2.2)\r\n",
      "Requirement already satisfied: psutil>=5.8.0 in /opt/conda/lib/python3.10/site-packages (from torch-geometric) (5.9.3)\r\n",
      "Requirement already satisfied: attrs>=17.3.0 in /opt/conda/lib/python3.10/site-packages (from aiohttp->torch-geometric) (23.2.0)\r\n",
      "Requirement already satisfied: multidict<7.0,>=4.5 in /opt/conda/lib/python3.10/site-packages (from aiohttp->torch-geometric) (6.0.4)\r\n",
      "Requirement already satisfied: yarl<2.0,>=1.0 in /opt/conda/lib/python3.10/site-packages (from aiohttp->torch-geometric) (1.9.3)\r\n",
      "Requirement already satisfied: frozenlist>=1.1.1 in /opt/conda/lib/python3.10/site-packages (from aiohttp->torch-geometric) (1.4.1)\r\n",
      "Requirement already satisfied: aiosignal>=1.1.2 in /opt/conda/lib/python3.10/site-packages (from aiohttp->torch-geometric) (1.3.1)\r\n",
      "Requirement already satisfied: async-timeout<5.0,>=4.0 in /opt/conda/lib/python3.10/site-packages (from aiohttp->torch-geometric) (4.0.3)\r\n",
      "Requirement already satisfied: MarkupSafe>=2.0 in /opt/conda/lib/python3.10/site-packages (from jinja2->torch) (2.1.3)\r\n",
      "Requirement already satisfied: charset-normalizer<4,>=2 in /opt/conda/lib/python3.10/site-packages (from requests->torch-geometric) (3.3.2)\r\n",
      "Requirement already satisfied: idna<4,>=2.5 in /opt/conda/lib/python3.10/site-packages (from requests->torch-geometric) (3.6)\r\n",
      "Requirement already satisfied: urllib3<3,>=1.21.1 in /opt/conda/lib/python3.10/site-packages (from requests->torch-geometric) (1.26.18)\r\n",
      "Requirement already satisfied: certifi>=2017.4.17 in /opt/conda/lib/python3.10/site-packages (from requests->torch-geometric) (2024.2.2)\r\n",
      "Requirement already satisfied: joblib>=1.1.1 in /opt/conda/lib/python3.10/site-packages (from scikit-learn->torch-geometric) (1.4.2)\r\n",
      "Requirement already satisfied: threadpoolctl>=2.0.0 in /opt/conda/lib/python3.10/site-packages (from scikit-learn->torch-geometric) (3.2.0)\r\n",
      "Requirement already satisfied: mpmath<1.4.0,>=1.1.0 in /opt/conda/lib/python3.10/site-packages (from sympy->torch) (1.3.0)\r\n",
      "Downloading torch_geometric-2.5.3-py3-none-any.whl (1.1 MB)\r\n",
      "\u001b[2K   \u001b[90m━━━━━━━━━━━━━━━━━━━━━━━━━━━━━━━━━━━━━━━━\u001b[0m \u001b[32m1.1/1.1 MB\u001b[0m \u001b[31m14.0 MB/s\u001b[0m eta \u001b[36m0:00:00\u001b[0m\r\n",
      "\u001b[?25hInstalling collected packages: torch-geometric\r\n",
      "Successfully installed torch-geometric-2.5.3\r\n"
     ]
    }
   ],
   "source": [
    "if 'first_run' not in globals():\n",
    "    !pip install torch torchvision torchaudio\n",
    "    !pip install torch torch-geometric\n",
    "    first_run = False\n",
    "else:\n",
    "    pass"
   ]
  },
  {
   "cell_type": "code",
   "execution_count": 2,
   "id": "34debc94",
   "metadata": {
    "_cell_guid": "b1076dfc-b9ad-4769-8c92-a6c4dae69d19",
    "_uuid": "8f2839f25d086af736a60e9eeb907d3b93b6e0e5",
    "execution": {
     "iopub.execute_input": "2024-06-17T15:24:55.215027Z",
     "iopub.status.busy": "2024-06-17T15:24:55.214567Z",
     "iopub.status.idle": "2024-06-17T15:25:03.899714Z",
     "shell.execute_reply": "2024-06-17T15:25:03.898597Z"
    },
    "papermill": {
     "duration": 8.69721,
     "end_time": "2024-06-17T15:25:03.902451",
     "exception": false,
     "start_time": "2024-06-17T15:24:55.205241",
     "status": "completed"
    },
    "tags": []
   },
   "outputs": [
    {
     "name": "stdout",
     "output_type": "stream",
     "text": [
      "/kaggle/input/nci109-dga/__results__.html\n",
      "/kaggle/input/nci109-dga/__notebook__.ipynb\n",
      "/kaggle/input/nci109-dga/NCI109_train_indices_dict.pkl\n",
      "/kaggle/input/nci109-dga/__output__.json\n",
      "/kaggle/input/nci109-dga/NCI109.pt\n",
      "/kaggle/input/nci109-dga/custom.css\n",
      "/kaggle/input/dd-dga/__results__.html\n",
      "/kaggle/input/dd-dga/DD.pt\n",
      "/kaggle/input/dd-dga/DD_train_indices_dict.pkl\n",
      "/kaggle/input/dd-dga/__notebook__.ipynb\n",
      "/kaggle/input/dd-dga/__output__.json\n",
      "/kaggle/input/dd-dga/custom.css\n",
      "/kaggle/input/nci1-dga/NCI1.pt\n",
      "/kaggle/input/nci1-dga/__results__.html\n",
      "/kaggle/input/nci1-dga/NCI1_train_indices_dict.pkl\n",
      "/kaggle/input/nci1-dga/__notebook__.ipynb\n",
      "/kaggle/input/nci1-dga/__output__.json\n",
      "/kaggle/input/nci1-dga/custom.css\n",
      "/kaggle/input/enzymes-dga/__results__.html\n",
      "/kaggle/input/enzymes-dga/ENZYMES.pt\n",
      "/kaggle/input/enzymes-dga/__notebook__.ipynb\n",
      "/kaggle/input/enzymes-dga/__output__.json\n",
      "/kaggle/input/enzymes-dga/ENZYMES_train_indices_dict.pkl\n",
      "/kaggle/input/enzymes-dga/custom.css\n",
      "/kaggle/input/proteins-dga/PROTEINS_train_indices_dict.pkl\n",
      "/kaggle/input/proteins-dga/__results__.html\n",
      "/kaggle/input/proteins-dga/PROTEINS.pt\n",
      "/kaggle/input/proteins-dga/__notebook__.ipynb\n",
      "/kaggle/input/proteins-dga/__output__.json\n",
      "/kaggle/input/proteins-dga/custom.css\n",
      "/kaggle/input/mutag-dga/MUTAG.pt\n",
      "/kaggle/input/mutag-dga/MUTAG_train_indices_dict.pkl\n",
      "/kaggle/input/mutag-dga/__results__.html\n",
      "/kaggle/input/mutag-dga/__notebook__.ipynb\n",
      "/kaggle/input/mutag-dga/__output__.json\n",
      "/kaggle/input/mutag-dga/custom.css\n"
     ]
    }
   ],
   "source": [
    "# This Python 3 environment comes with many helpful analytics libraries installed\n",
    "# It is defined by the kaggle/python Docker image: https://github.com/kaggle/docker-python\n",
    "# For example, here's several helpful packages to load\n",
    "\n",
    "import numpy as np # linear algebra\n",
    "import pandas as pd # data processing, CSV file I/O (e.g. pd.read_csv)\n",
    "import pickle\n",
    "\n",
    "# Input data files are available in the read-only \"../input/\" directory\n",
    "# For example, running this (by clicking run or pressing Shift+Enter) will list all files under the input directory\n",
    "\n",
    "import os\n",
    "for dirname, _, filenames in os.walk('/kaggle/input'):\n",
    "    for filename in filenames:\n",
    "        print(os.path.join(dirname, filename))\n",
    "        \n",
    "import torch\n",
    "import torch.nn.functional as F\n",
    "import torch_geometric\n",
    "from torch_geometric.nn import GCNConv\n",
    "import hashlib\n",
    "import numpy as np\n",
    "import torch\n",
    "import torch.nn as nn\n",
    "from torch_geometric.transforms import BaseTransform\n",
    "from torch_geometric.nn import GCNConv, global_mean_pool, BatchNorm\n",
    "from torch_geometric.utils import to_scipy_sparse_matrix\n",
    "from torch_geometric.data import Data\n",
    "from torch_geometric.io import fs, read_txt_array\n",
    "import torch_geometric.transforms as T\n",
    "# from torch_geometric.datasets import TUDataset\n",
    "from torch_geometric.data import Data, InMemoryDataset\n",
    "from torch_geometric.data import DataLoader\n",
    "import math\n",
    "from typing import Callable, List, Optional, Tuple, Dict\n",
    "from torch import Tensor\n",
    "import os\n",
    "import requests\n",
    "from torch_geometric.utils import coalesce, cumsum, one_hot, remove_self_loops\n",
    "from sklearn.metrics import confusion_matrix\n",
    "from torch.cuda.amp import GradScaler, autocast\n",
    "import os.path as osp\n",
    "\n",
    "import numpy as np\n",
    "import torch\n",
    "import torch.nn.functional as F\n",
    "import torch_geometric.transforms as T\n",
    "from sklearn.model_selection import KFold\n",
    "from sklearn.model_selection import train_test_split\n",
    "from torch_geometric.data import DataLoader\n",
    "from torch_geometric.datasets import TUDataset\n",
    "from torch_geometric.utils import degree\n",
    "import torch\n",
    "import torch.nn.functional as F\n",
    "from torch.nn import Linear, Sequential, ReLU, BatchNorm1d as BN\n",
    "from torch_geometric.nn import GINConv, global_mean_pool, JumpingKnowledge\n",
    "from torch_geometric.nn import MessagePassing\n",
    "from torch_geometric.nn.inits import reset\n",
    "# You can write up to 20GB to the current directory (/kaggle/working/) that gets preserved as output when you create a version using \"Save & Run All\" \n",
    "# You can also write temporary files to /kaggle/temp/, but they won't be saved outside of the current session"
   ]
  },
  {
   "cell_type": "code",
   "execution_count": 3,
   "id": "87479d96",
   "metadata": {
    "execution": {
     "iopub.execute_input": "2024-06-17T15:25:03.918290Z",
     "iopub.status.busy": "2024-06-17T15:25:03.917716Z",
     "iopub.status.idle": "2024-06-17T15:25:03.929893Z",
     "shell.execute_reply": "2024-06-17T15:25:03.928458Z"
    },
    "papermill": {
     "duration": 0.022667,
     "end_time": "2024-06-17T15:25:03.932232",
     "exception": false,
     "start_time": "2024-06-17T15:25:03.909565",
     "status": "completed"
    },
    "tags": []
   },
   "outputs": [],
   "source": [
    "class IDAddingDataset:\n",
    "    def __init__(self, dataset, attr_func):\n",
    "        self.dataset = dataset\n",
    "        self.attr_func = attr_func\n",
    "        self.indices = np.arange(0, len(dataset.indices()))\n",
    "    \n",
    "    def __getitem__(self, idx):\n",
    "        data = self.dataset[idx].clone()  # Clone the data to avoid modifying the original dataset\n",
    "        data.id = self.indices[idx]\n",
    "        data.num_edges = self.dataset[idx].edge_index.size(1)\n",
    "        data.adj_mat = to_scipy_sparse_matrix(self.dataset[idx].edge_index, num_nodes=self.dataset[idx].num_nodes).toarray().astype(int)\n",
    "        return data\n",
    "    \n",
    "    def __len__(self):\n",
    "        return len(self.dataset)\n",
    "class EmbeddingAddingDataset:\n",
    "    def __init__(self, dataset, embedding_dict):\n",
    "        self.dataset = dataset\n",
    "        self.embedding_dict = embedding_dict\n",
    "    \n",
    "    def __getitem__(self, idx):\n",
    "        data = self.dataset[idx].clone()  # Clone the data to avoid modifying the original dataset\n",
    "        data.embedding = self.embedding_dict[self.dataset[idx].id]\n",
    "        return data\n",
    "    \n",
    "    def __len__(self):\n",
    "        return len(self.dataset)\n",
    "class FinalAddingDataset:\n",
    "    def __init__(self, Embedding_dataset, cos_sims, all_z_scores):\n",
    "        self.dataset = Embedding_dataset\n",
    "        self.cos_sims = cos_sims\n",
    "        self.all_z_scores = all_z_scores\n",
    "        \n",
    "    \n",
    "    def __getitem__(self, idx):\n",
    "        data = self.dataset[idx].clone()  # Clone the data to avoid modifying the original dataset\n",
    "        data.cos_sim = self.cos_sims[self.dataset[idx].id]\n",
    "        data.z_score = self.all_z_scores[self.dataset[idx].id]\n",
    "        return data\n",
    "    \n",
    "    def __len__(self):\n",
    "        return len(self.dataset)"
   ]
  },
  {
   "cell_type": "code",
   "execution_count": 4,
   "id": "13f2fb68",
   "metadata": {
    "execution": {
     "iopub.execute_input": "2024-06-17T15:25:03.947953Z",
     "iopub.status.busy": "2024-06-17T15:25:03.947515Z",
     "iopub.status.idle": "2024-06-17T15:25:03.954017Z",
     "shell.execute_reply": "2024-06-17T15:25:03.952733Z"
    },
    "papermill": {
     "duration": 0.017068,
     "end_time": "2024-06-17T15:25:03.956302",
     "exception": false,
     "start_time": "2024-06-17T15:25:03.939234",
     "status": "completed"
    },
    "tags": []
   },
   "outputs": [],
   "source": [
    "class TrainDatasetWrapper:\n",
    "    def __init__(self, dataset):\n",
    "        self.dataset = dataset\n",
    "    \n",
    "    def __getitem__(self, idx):\n",
    "        data = self.dataset[idx].clone()  # Clone to avoid modifying the original dataset\n",
    "        return Data(edge_index=data.edge_index, x=data.x, y=data.y.item())  # Return only necessary attributes\n",
    "    \n",
    "    def __len__(self):\n",
    "        return len(self.dataset)"
   ]
  },
  {
   "cell_type": "code",
   "execution_count": 5,
   "id": "7a3778ba",
   "metadata": {
    "execution": {
     "iopub.execute_input": "2024-06-17T15:25:03.971827Z",
     "iopub.status.busy": "2024-06-17T15:25:03.971423Z",
     "iopub.status.idle": "2024-06-17T15:25:03.977554Z",
     "shell.execute_reply": "2024-06-17T15:25:03.976478Z"
    },
    "papermill": {
     "duration": 0.016791,
     "end_time": "2024-06-17T15:25:03.979975",
     "exception": false,
     "start_time": "2024-06-17T15:25:03.963184",
     "status": "completed"
    },
    "tags": []
   },
   "outputs": [],
   "source": [
    "class SubsetDataset:\n",
    "    def __init__(self, full_dataset, indices):\n",
    "        self.dataset = full_dataset\n",
    "        self.indices = indices\n",
    "\n",
    "    def __getitem__(self, idx):\n",
    "        actual_idx = self.indices[idx]\n",
    "        return self.dataset[actual_idx]\n",
    "\n",
    "    def __len__(self):\n",
    "        return len(self.indices)\n"
   ]
  },
  {
   "cell_type": "code",
   "execution_count": 6,
   "id": "69a37479",
   "metadata": {
    "execution": {
     "iopub.execute_input": "2024-06-17T15:25:03.996476Z",
     "iopub.status.busy": "2024-06-17T15:25:03.995286Z",
     "iopub.status.idle": "2024-06-17T15:25:04.002577Z",
     "shell.execute_reply": "2024-06-17T15:25:04.001183Z"
    },
    "papermill": {
     "duration": 0.018313,
     "end_time": "2024-06-17T15:25:04.005253",
     "exception": false,
     "start_time": "2024-06-17T15:25:03.986940",
     "status": "completed"
    },
    "tags": []
   },
   "outputs": [],
   "source": [
    "class NormalizedDegree(object):\n",
    "    def __init__(self, mean, std):\n",
    "        self.mean = mean\n",
    "        self.std = std\n",
    "\n",
    "    def __call__(self, data):\n",
    "        deg = degree(data.edge_index[0], dtype=torch.float)\n",
    "        deg = (deg - self.mean) / self.std\n",
    "        data.x = deg.view(-1, 1)\n",
    "        return data"
   ]
  },
  {
   "cell_type": "code",
   "execution_count": 7,
   "id": "7a54371c",
   "metadata": {
    "execution": {
     "iopub.execute_input": "2024-06-17T15:25:04.021052Z",
     "iopub.status.busy": "2024-06-17T15:25:04.020646Z",
     "iopub.status.idle": "2024-06-17T15:25:04.030875Z",
     "shell.execute_reply": "2024-06-17T15:25:04.029561Z"
    },
    "papermill": {
     "duration": 0.020852,
     "end_time": "2024-06-17T15:25:04.033206",
     "exception": false,
     "start_time": "2024-06-17T15:25:04.012354",
     "status": "completed"
    },
    "tags": []
   },
   "outputs": [],
   "source": [
    "class GCN(torch.nn.Module):\n",
    "    def __init__(self, num_features, num_classes):\n",
    "        super(GCN, self).__init__()\n",
    "        self.conv1 = GCNConv(num_features, 16)\n",
    "        self.bn1 = BatchNorm(16)\n",
    "        self.conv2 = GCNConv(16, 32)\n",
    "        self.bn2 = BatchNorm(32)\n",
    "        self.conv3 = GCNConv(32, 64)\n",
    "        self.bn3 = BatchNorm(64)\n",
    "        self.conv4 = GCNConv(64, 128)\n",
    "        self.bn4 = BatchNorm(128)\n",
    "        self.fc1 = torch.nn.Linear(128, 64)\n",
    "        self.fc2 = torch.nn.Linear(64, num_classes)\n",
    "\n",
    "    def forward(self, data):\n",
    "        x, edge_index = data.x, data.edge_index\n",
    "\n",
    "        # Apply the first convolution and batch normalization\n",
    "        x = F.relu(self.bn1(self.conv1(x, edge_index)))\n",
    "        x = F.dropout(x, training=self.training)\n",
    "\n",
    "        # Apply the second convolution and batch normalization\n",
    "        x = F.relu(self.bn2(self.conv2(x, edge_index)))\n",
    "\n",
    "        # Apply the third convolution and batch normalization\n",
    "        x = F.relu(self.bn3(self.conv3(x, edge_index)))\n",
    "\n",
    "        # Apply the fourth convolution and batch normalization\n",
    "        x = F.relu(self.bn4(self.conv4(x, edge_index)))\n",
    "\n",
    "        # Global mean pooling\n",
    "        x = global_mean_pool(x, data.batch)\n",
    "\n",
    "        # MLP for the final output\n",
    "        x = F.relu(self.fc1(x))\n",
    "        x = self.fc2(x)\n",
    "        \n",
    "        return x  # Return logits for use with nn.CrossEntropyLoss"
   ]
  },
  {
   "cell_type": "code",
   "execution_count": 8,
   "id": "1049f536",
   "metadata": {
    "execution": {
     "iopub.execute_input": "2024-06-17T15:25:04.052740Z",
     "iopub.status.busy": "2024-06-17T15:25:04.052016Z",
     "iopub.status.idle": "2024-06-17T15:25:04.064646Z",
     "shell.execute_reply": "2024-06-17T15:25:04.063115Z"
    },
    "papermill": {
     "duration": 0.026496,
     "end_time": "2024-06-17T15:25:04.067399",
     "exception": false,
     "start_time": "2024-06-17T15:25:04.040903",
     "status": "completed"
    },
    "tags": []
   },
   "outputs": [],
   "source": [
    "# Taken from https://github.com/rusty1s/pytorch_geometric/blob/master/benchmark/kernel/gin.py.\n",
    "class GIN(torch.nn.Module):\n",
    "    def __init__(self, dataset, num_layers, hidden):\n",
    "        super(GIN, self).__init__()\n",
    "        self.conv1 = GINConv(Sequential(\n",
    "            Linear(dataset.num_features, hidden),\n",
    "            ReLU(),\n",
    "            Linear(hidden, hidden),\n",
    "            ReLU(),\n",
    "            BN(hidden),\n",
    "        ),\n",
    "            train_eps=True)\n",
    "        self.convs = torch.nn.ModuleList()\n",
    "        for i in range(num_layers - 1):\n",
    "            self.convs.append(\n",
    "                GINConv(Sequential(\n",
    "                    Linear(hidden, hidden),\n",
    "                    ReLU(),\n",
    "                    Linear(hidden, hidden),\n",
    "                    ReLU(),\n",
    "                    BN(hidden),\n",
    "                ),\n",
    "                    train_eps=True))\n",
    "        self.lin1 = Linear(hidden, hidden)\n",
    "        self.lin2 = Linear(hidden, dataset.num_classes)\n",
    "\n",
    "    def reset_parameters(self):\n",
    "        self.conv1.reset_parameters()\n",
    "        for conv in self.convs:\n",
    "            conv.reset_parameters()\n",
    "        self.lin1.reset_parameters()\n",
    "        self.lin2.reset_parameters()\n",
    "\n",
    "    def forward(self, data):\n",
    "        x, edge_index, batch = data.x, data.edge_index, data.batch\n",
    "        x = self.conv1(x, edge_index)\n",
    "        for conv in self.convs:\n",
    "            x = conv(x, edge_index)\n",
    "\n",
    "        x = global_mean_pool(x, batch)\n",
    "\n",
    "        x = F.relu(self.lin1(x))\n",
    "        x = F.dropout(x, p=0.5, training=self.training)\n",
    "        x = self.lin2(x)\n",
    "        return F.log_softmax(x, dim=-1)\n",
    "\n",
    "    def __repr__(self):\n",
    "        return self.__class__.__name__"
   ]
  },
  {
   "cell_type": "code",
   "execution_count": 9,
   "id": "ea37c6eb",
   "metadata": {
    "execution": {
     "iopub.execute_input": "2024-06-17T15:25:04.088200Z",
     "iopub.status.busy": "2024-06-17T15:25:04.087617Z",
     "iopub.status.idle": "2024-06-17T15:25:04.103421Z",
     "shell.execute_reply": "2024-06-17T15:25:04.101923Z"
    },
    "papermill": {
     "duration": 0.030202,
     "end_time": "2024-06-17T15:25:04.106072",
     "exception": false,
     "start_time": "2024-06-17T15:25:04.075870",
     "status": "completed"
    },
    "tags": []
   },
   "outputs": [],
   "source": [
    "# Taken from https://github.com/rusty1s/pytorch_geometric/blob/master/benchmark/kernel/gin.py.\n",
    "class GINWithJK(torch.nn.Module):\n",
    "    def __init__(self, dataset, num_layers, hidden, mode='cat'):\n",
    "        super(GINWithJK, self).__init__()\n",
    "        self.conv1 = GINConv(Sequential(\n",
    "            Linear(dataset.num_features, hidden),\n",
    "            ReLU(),\n",
    "            Linear(hidden, hidden),\n",
    "            ReLU(),\n",
    "            BN(hidden),\n",
    "        ),\n",
    "            train_eps=True)\n",
    "        self.convs = torch.nn.ModuleList()\n",
    "        for i in range(num_layers - 1):\n",
    "            self.convs.append(\n",
    "                GINConv(Sequential(\n",
    "                    Linear(hidden, hidden),\n",
    "                    ReLU(),\n",
    "                    Linear(hidden, hidden),\n",
    "                    ReLU(),\n",
    "                    BN(hidden),\n",
    "                ),\n",
    "                    train_eps=True))\n",
    "        self.jump = JumpingKnowledge(mode)\n",
    "        if mode == 'cat':\n",
    "            self.lin1 = Linear(num_layers * hidden, hidden)\n",
    "        else:\n",
    "            self.lin1 = Linear(hidden, hidden)\n",
    "        self.lin2 = Linear(hidden, dataset.num_classes)\n",
    "\n",
    "    def reset_parameters(self):\n",
    "        self.conv1.reset_parameters()\n",
    "        for conv in self.convs:\n",
    "            conv.reset_parameters()\n",
    "        self.jump.reset_parameters()\n",
    "        self.lin1.reset_parameters()\n",
    "        self.lin2.reset_parameters()\n",
    "\n",
    "    def forward(self, data):\n",
    "        x, edge_index, batch = data.x, data.edge_index, data.batch\n",
    "        x = self.conv1(x, edge_index)\n",
    "        xs = [x]\n",
    "        for conv in self.convs:\n",
    "            x = conv(x, edge_index)\n",
    "            xs += [x]\n",
    "        x = self.jump(xs)\n",
    "        x = global_mean_pool(x, batch)\n",
    "        x = F.relu(self.lin1(x))\n",
    "        x = F.dropout(x, p=0.5, training=self.training)\n",
    "        x = self.lin2(x)\n",
    "        return F.log_softmax(x, dim=-1)\n",
    "\n",
    "    def __repr__(self):\n",
    "        return self.__class__.__name__\n"
   ]
  },
  {
   "cell_type": "code",
   "execution_count": 10,
   "id": "8600982a",
   "metadata": {
    "execution": {
     "iopub.execute_input": "2024-06-17T15:25:04.125361Z",
     "iopub.status.busy": "2024-06-17T15:25:04.124947Z",
     "iopub.status.idle": "2024-06-17T15:25:04.133681Z",
     "shell.execute_reply": "2024-06-17T15:25:04.132547Z"
    },
    "papermill": {
     "duration": 0.022735,
     "end_time": "2024-06-17T15:25:04.136141",
     "exception": false,
     "start_time": "2024-06-17T15:25:04.113406",
     "status": "completed"
    },
    "tags": []
   },
   "outputs": [],
   "source": [
    "def split_data(name, data, train_indices_dict, all_or_class = 'class', characterization_method = 'random', percentile = 90):\n",
    "    # Assuming 'data.__len__()' returns the total number of instances in the dataset\n",
    "    all_indices = set(range(data.__len__()))\n",
    "\n",
    "    # Assuming 'train_val' contains the combined set of training and validation indices\n",
    "    train_val = set(train_indices_dict[name][all_or_class][characterization_method][percentile])\n",
    "    # Convert train_val to a numpy array if not already\n",
    "    train_val_indices = np.array(list(train_val))\n",
    "    test_set = all_indices - train_val\n",
    "    test_indices = np.array(list(test_set))\n",
    "    # Randomly select 80% of the indices for training\n",
    "    train_indices = np.random.choice(train_val_indices, size=int(0.8 * len(train_val_indices)), replace=False)\n",
    "\n",
    "    # Convert train_indices back to a set to perform set subtraction\n",
    "    train_set = set(train_indices)\n",
    "\n",
    "    # The remaining 20% will be for validation\n",
    "    val_indices = np.array(list(set(train_val) - train_set))\n",
    "    indices = {\n",
    "    'train': train_indices,  # fill with your training indices\n",
    "    'val': val_indices,    # fill with your validation indices\n",
    "    'test': test_indices    # fill with your testing indices\n",
    "    }\n",
    "    train_dataset = SubsetDataset(data, indices['train'])\n",
    "    val_dataset = SubsetDataset(data, indices['val'])\n",
    "    test_dataset = SubsetDataset(data, indices['test'])\n",
    "    \n",
    "    return train_dataset, test_dataset, val_dataset"
   ]
  },
  {
   "cell_type": "code",
   "execution_count": 11,
   "id": "77e4ddf8",
   "metadata": {
    "execution": {
     "iopub.execute_input": "2024-06-17T15:25:04.152464Z",
     "iopub.status.busy": "2024-06-17T15:25:04.151243Z",
     "iopub.status.idle": "2024-06-17T15:25:04.159474Z",
     "shell.execute_reply": "2024-06-17T15:25:04.158273Z"
    },
    "papermill": {
     "duration": 0.018912,
     "end_time": "2024-06-17T15:25:04.161996",
     "exception": false,
     "start_time": "2024-06-17T15:25:04.143084",
     "status": "completed"
    },
    "tags": []
   },
   "outputs": [],
   "source": [
    "def calculate_global_metrics(all_labels, all_preds):\n",
    "    # Determine the number of unique classes\n",
    "    unique_classes = np.unique(all_labels)\n",
    "    cm = confusion_matrix(all_labels, all_preds)\n",
    "    tp = np.diag(cm).sum()\n",
    "    pop = len(all_preds)  # Total number of predictions\n",
    "    \n",
    "    if len(unique_classes) == 2:\n",
    "        # Binary classification\n",
    "        tn, fp, fn, tp = cm.ravel()\n",
    "    else:\n",
    "        # Multi-class classification\n",
    "        fp = cm.sum(axis=0) - np.diag(cm)  # False positives are summed over columns, exclude true positives\n",
    "        fn = cm.sum(axis=1) - np.diag(cm)  # False negatives are summed over rows, exclude true positives\n",
    "        tn = None  # True negatives are not defined the same way in multi-class scenarios\n",
    "\n",
    "        # Sum FP and FN for overall metrics\n",
    "        fp = fp.sum()\n",
    "        fn = fn.sum()\n",
    "\n",
    "    # Calculate accuracy, handling cases where TN is not used\n",
    "    acc = tp / pop\n",
    "\n",
    "    return acc, tn, fp, fn, tp"
   ]
  },
  {
   "cell_type": "code",
   "execution_count": 12,
   "id": "49dadcc1",
   "metadata": {
    "execution": {
     "iopub.execute_input": "2024-06-17T15:25:04.178270Z",
     "iopub.status.busy": "2024-06-17T15:25:04.177168Z",
     "iopub.status.idle": "2024-06-17T15:25:04.191902Z",
     "shell.execute_reply": "2024-06-17T15:25:04.190740Z"
    },
    "papermill": {
     "duration": 0.025419,
     "end_time": "2024-06-17T15:25:04.194343",
     "exception": false,
     "start_time": "2024-06-17T15:25:04.168924",
     "status": "completed"
    },
    "tags": []
   },
   "outputs": [],
   "source": [
    "def gnn_train(train_loader, model, optimizer, device):\n",
    "    model.train()\n",
    "\n",
    "    for data in train_loader:\n",
    "        data = data.to(device)\n",
    "        optimizer.zero_grad()\n",
    "        output = model(data)\n",
    "        loss = F.nll_loss(output, data.y)\n",
    "        loss.backward()\n",
    "        optimizer.step()\n",
    "\n",
    "\n",
    "# Get acc. of GNN model.\n",
    "def gnn_test(loader, model, device):\n",
    "    model.eval()\n",
    "\n",
    "    correct = 0\n",
    "    for data in loader:\n",
    "        data = data.to(device)\n",
    "        output = model(data)\n",
    "        pred = output.max(dim=1)[1]\n",
    "        correct += pred.eq(data.y).sum().item()\n",
    "    return calculate_global_metrics(all_labels, all_preds)\n",
    "def gnn_evaluation(\n",
    "    gnn, \n",
    "    ds_name, \n",
    "    dataset, \n",
    "    train_indices_dict, \n",
    "    _all_or_class, \n",
    "    method, \n",
    "    layers, \n",
    "    hidden, \n",
    "    max_num_epochs=200, \n",
    "    batch_size=128, \n",
    "    start_lr=0.01, \n",
    "    min_lr = 0.000001, \n",
    "    factor=0.5, \n",
    "    patience=5,\n",
    "    num_repetitions=10, \n",
    "    all_std=True\n",
    "):\n",
    "    # One-hot degree if node labels are not available.\n",
    "    # The following if clause is taken from  https://github.com/rusty1s/pytorch_geometric/blob/master/benchmark/kernel/datasets.py.\n",
    "#     if dataset.data.x is None:\n",
    "#         max_degree = 0\n",
    "#         degs = []\n",
    "#         for data in dataset:\n",
    "#             degs += [degree(data.edge_index[0], dtype=torch.long)]\n",
    "#             max_degree = max(max_degree, degs[-1].max().item())\n",
    "\n",
    "#         if max_degree < 1000:\n",
    "#             dataset.transform = T.OneHotDegree(max_degree)\n",
    "#         else:\n",
    "#             deg = torch.cat(degs, dim=0).to(torch.float)\n",
    "#             mean, std = deg.mean().item(), deg.std().item()\n",
    "#             dataset.transform = NormalizedDegree(mean, std)\n",
    "\n",
    "#     # Set device.\n",
    "    device = torch.device('cuda' if torch.cuda.is_available() else 'cpu')\n",
    "\n",
    "    test_accuracies_all = []\n",
    "    test_accuracies_complete = []\n",
    "\n",
    "    # Test acc. over all folds.\n",
    "    test_accuracies = []\n",
    "\n",
    "\n",
    "    best_val_acc = 0.0\n",
    "    best_test = 0.0\n",
    "\n",
    "    # Split data.\n",
    "    train_dataset, test_dataset, val_dataset = split_data(\n",
    "        ds_name,\n",
    "        dataset, \n",
    "        train_indices_dict, \n",
    "        all_or_class = _all_or_class, \n",
    "        characterization_method = method, \n",
    "        percentile = pctl\n",
    "    )\n",
    "\n",
    "    # Prepare batching.\n",
    "    train_loader = DataLoader(train_dataset, batch_size=batch_size, shuffle=True)\n",
    "    val_loader = DataLoader(val_dataset, batch_size=batch_size, shuffle=True)\n",
    "    test_loader = DataLoader(test_dataset, batch_size=batch_size, shuffle=True)\n",
    "\n",
    "    model = gnn(dataset, l, h).to(device)\n",
    "    model.reset_parameters()\n",
    "\n",
    "    optimizer = torch.optim.Adam(model.parameters(), lr=start_lr)\n",
    "    scheduler = torch.optim.lr_scheduler.ReduceLROnPlateau(\n",
    "        optimizer, mode='min',\n",
    "        factor=factor, \n",
    "        patience=patience,\n",
    "        min_lr=0.0000001\n",
    "    )\n",
    "    for epoch in range(1, max_num_epochs + 1):\n",
    "        lr = scheduler.optimizer.param_groups[0]['lr']\n",
    "        gnn_train(train_loader, model, optimizer, device)\n",
    "        val_acc = gnn_test(val_loader, model, device)\n",
    "        scheduler.step(val_acc)\n",
    "        if lr < min_lr:\n",
    "            break\n",
    "\n",
    "    results = test(test_loader, model, device)\n",
    "    return results\n",
    "        # Break if learning rate is smaller 10**-6.\n",
    "        \n",
    "    \n",
    "    test_accuracies.append(best_test)"
   ]
  },
  {
   "cell_type": "code",
   "execution_count": 13,
   "id": "ed89b9f5",
   "metadata": {
    "execution": {
     "iopub.execute_input": "2024-06-17T15:25:04.209805Z",
     "iopub.status.busy": "2024-06-17T15:25:04.209413Z",
     "iopub.status.idle": "2024-06-17T15:25:04.228387Z",
     "shell.execute_reply": "2024-06-17T15:25:04.227111Z"
    },
    "papermill": {
     "duration": 0.029668,
     "end_time": "2024-06-17T15:25:04.230830",
     "exception": false,
     "start_time": "2024-06-17T15:25:04.201162",
     "status": "completed"
    },
    "tags": []
   },
   "outputs": [],
   "source": [
    "def my_gcn_train(name, data, train_indices_dict, method, _all_or_class, pctl, num_epochs):\n",
    "    num_features = data[0].num_features\n",
    "    results_dict = {}\n",
    "    train_dataset, test_dataset, val_dataset = split_data(\n",
    "        name,\n",
    "        data, \n",
    "        train_indices_dict, \n",
    "        all_or_class = _all_or_class, \n",
    "        characterization_method = method, \n",
    "        percentile = pctl\n",
    "    )\n",
    "    min_lr=0.0000001\n",
    "    device = torch.device('cuda' if torch.cuda.is_available() else 'cpu')\n",
    "    model = GCN(num_features=num_features, num_classes=6).to(device)\n",
    "    optimizer = torch.optim.Adam(model.parameters(), lr=0.02)\n",
    "    scheduler = torch.optim.lr_scheduler.ReduceLROnPlateau(\n",
    "        optimizer, mode='min',\n",
    "        factor=0.5, \n",
    "        patience=5,\n",
    "        min_lr=0.0000001\n",
    "    )\n",
    "    train_loader = DataLoader(train_dataset, batch_size=64, shuffle=True, num_workers = 4, pin_memory = True)\n",
    "    val_loader = DataLoader(val_dataset, batch_size=16, shuffle=False, num_workers = 4, pin_memory = True)\n",
    "    test_loader = DataLoader(test_dataset, batch_size=16, shuffle=False)\n",
    "\n",
    "    # Initialize the loss function\n",
    "    criterion = nn.CrossEntropyLoss()\n",
    "    # Training loop\n",
    "    scaler = GradScaler()\n",
    "\n",
    "    def train():\n",
    "        model.train()\n",
    "        total_loss = 0\n",
    "        for data in train_loader:\n",
    "            data = data.to(device)\n",
    "            optimizer.zero_grad()\n",
    "\n",
    "            with autocast():\n",
    "                out = model(data)  # outputs logits\n",
    "                loss = criterion(out, data.y)\n",
    "\n",
    "            scaler.scale(loss).backward()\n",
    "            scaler.step(optimizer)\n",
    "            scaler.update()\n",
    "\n",
    "            total_loss += loss.item()\n",
    "\n",
    "        return total_loss / len(train_loader)\n",
    "\n",
    "    def evaluate(loader):\n",
    "        model.eval()\n",
    "        correct = 0\n",
    "        total = 0\n",
    "        with torch.no_grad():\n",
    "            for data in loader:\n",
    "                data = data.to(device)\n",
    "                out = model(data)\n",
    "                pred = out.argmax(dim=1)\n",
    "                correct += int((pred == data.y).sum())\n",
    "                total += data.y.size(0)\n",
    "        return correct / total\n",
    "    # Assuming you have a DataLoader for your test data similar to train_loader\n",
    "\n",
    "    def test():\n",
    "        model.eval()  # Set the model to evaluation mode\n",
    "        all_preds = []\n",
    "        all_labels = []\n",
    "\n",
    "        with torch.no_grad():  # Inference without gradient calculation\n",
    "            for data in test_loader:\n",
    "                data = data.to(device)\n",
    "                out = model(data)  # Forward pass\n",
    "                pred = out.argmax(dim=1)  # Get the index of the max log-probability\n",
    "                all_preds.extend(pred.cpu().numpy())  # Store predictions\n",
    "                all_labels.extend(data.y.cpu().numpy())  # Store actual labels\n",
    "\n",
    "        # Calculate confusion matrix\n",
    "        acc, tn, fp, fn, tp = calculate_global_metrics(all_labels, all_preds)\n",
    "        return acc, tn, fp, fn, tp\n",
    "    \n",
    "    results_dict = {'train': {'train_loss': [], 'val_acc': []}, 'test': {'acc': -1.0, 'confusion': {}}}\n",
    "    print(f'Training GCN on {name} for {num_epochs} epochs:')\n",
    "    print('Epoch/train loss/val accuracy', end = ': ')\n",
    "    min_lr = .00001\n",
    "    for epoch in range(1, num_epochs+1):\n",
    "        lr = scheduler.optimizer.param_groups[0]['lr']\n",
    "        train_loss = train()\n",
    "        val_accuracy = evaluate(val_loader)\n",
    "        results_dict['train']['train_loss'].append(train_loss)\n",
    "        results_dict['train']['val_acc'].append(val_accuracy)\n",
    "        print(f'{epoch}/{val_accuracy:.4f}/{lr}', end = ' | ')\n",
    "        scheduler.step(val_accuracy)\n",
    "        if lr < min_lr:\n",
    "            break\n",
    "    acc, tn, fp, fn, tp = test()\n",
    "    results_dict['test']['acc'] = acc\n",
    "    results_dict['test']['confusion'] = {'tp': tp, 'fp': fp, 'tn': tn, 'fn': fn}\n",
    "    print(f'Accuracy: {acc:.4f}')\n",
    "    return results_dict"
   ]
  },
  {
   "cell_type": "code",
   "execution_count": 14,
   "id": "96a5c646",
   "metadata": {
    "execution": {
     "iopub.execute_input": "2024-06-17T15:25:04.246455Z",
     "iopub.status.busy": "2024-06-17T15:25:04.246003Z",
     "iopub.status.idle": "2024-06-17T15:25:04.252170Z",
     "shell.execute_reply": "2024-06-17T15:25:04.250796Z"
    },
    "papermill": {
     "duration": 0.016731,
     "end_time": "2024-06-17T15:25:04.254491",
     "exception": false,
     "start_time": "2024-06-17T15:25:04.237760",
     "status": "completed"
    },
    "tags": []
   },
   "outputs": [],
   "source": [
    "dataset_list = ['enzymes', 'dd', 'nci1', 'nci109', 'proteins', 'mutag']\n",
    "char_methods = ['random', 'graph_order', 'cos_sim']\n",
    "percentiles = [x for x in range(40, 91, 10)]"
   ]
  },
  {
   "cell_type": "code",
   "execution_count": 15,
   "id": "94c48098",
   "metadata": {
    "execution": {
     "iopub.execute_input": "2024-06-17T15:25:04.269948Z",
     "iopub.status.busy": "2024-06-17T15:25:04.269552Z",
     "iopub.status.idle": "2024-06-17T15:25:23.771298Z",
     "shell.execute_reply": "2024-06-17T15:25:23.769921Z"
    },
    "papermill": {
     "duration": 19.512576,
     "end_time": "2024-06-17T15:25:23.774106",
     "exception": false,
     "start_time": "2024-06-17T15:25:04.261530",
     "status": "completed"
    },
    "tags": []
   },
   "outputs": [],
   "source": [
    "if 'dataset_dict' not in globals():\n",
    "    dataset_dict = {}\n",
    "    train_indices_dict = {}\n",
    "    for dataset in dataset_list:\n",
    "        with open(f'/kaggle/input/{dataset}-dga/{dataset.upper()}.pt', 'rb') as file:\n",
    "            dataset_dict[dataset] = TrainDatasetWrapper(torch.load(file))\n",
    "        with open(f'/kaggle/input/{dataset}-dga/{dataset.upper()}_train_indices_dict.pkl', 'rb') as file:\n",
    "            train_indices_dict[dataset] = pickle.load(file)\n",
    "    num_classes_dict = {dataset: 2 if dataset != 'enzymes' else 6 for dataset in dataset_list}"
   ]
  },
  {
   "cell_type": "code",
   "execution_count": 16,
   "id": "5a6db31a",
   "metadata": {
    "execution": {
     "iopub.execute_input": "2024-06-17T15:25:23.790614Z",
     "iopub.status.busy": "2024-06-17T15:25:23.789718Z",
     "iopub.status.idle": "2024-06-17T22:14:08.803149Z",
     "shell.execute_reply": "2024-06-17T22:14:08.801761Z"
    },
    "papermill": {
     "duration": 24525.024288,
     "end_time": "2024-06-17T22:14:08.805546",
     "exception": false,
     "start_time": "2024-06-17T15:25:23.781258",
     "status": "completed"
    },
    "scrolled": true,
    "tags": []
   },
   "outputs": [
    {
     "name": "stdout",
     "output_type": "stream",
     "text": [
      "Evaluating enzymes dataset using random method with a percentile of 40 against class members\n",
      "Training GCN on enzymes for 200 epochs:\n",
      "Epoch/train loss/val accuracy: "
     ]
    },
    {
     "name": "stderr",
     "output_type": "stream",
     "text": [
      "/opt/conda/lib/python3.10/site-packages/torch_geometric/deprecation.py:26: UserWarning: 'data.DataLoader' is deprecated, use 'loader.DataLoader' instead\n",
      "  warnings.warn(out)\n",
      "/opt/conda/lib/python3.10/site-packages/torch/cuda/amp/grad_scaler.py:125: UserWarning: torch.cuda.amp.GradScaler is enabled, but CUDA is not available.  Disabling.\n",
      "  warnings.warn(\n",
      "/opt/conda/lib/python3.10/site-packages/torch/amp/autocast_mode.py:250: UserWarning: User provided device_type of 'cuda', but CUDA is not available. Disabling\n",
      "  warnings.warn(\n"
     ]
    },
    {
     "name": "stdout",
     "output_type": "stream",
     "text": [
      "1/0.1458/0.02 | 2/0.1458/0.02 | 3/0.1458/0.02 | 4/0.1250/0.02 | 5/0.1667/0.02 | 6/0.2292/0.02 | 7/0.2292/0.02 | 8/0.2292/0.02 | 9/0.1458/0.02 | 10/0.1667/0.02 | 11/0.1458/0.01 | 12/0.1667/0.01 | 13/0.1667/0.01 | 14/0.1667/0.01 | 15/0.2083/0.01 | 16/0.1875/0.01 | 17/0.1875/0.005 | 18/0.1458/0.005 | 19/0.1667/0.005 | 20/0.1667/0.005 | 21/0.1667/0.005 | 22/0.2083/0.005 | 23/0.2083/0.0025 | 24/0.2083/0.0025 | 25/0.1458/0.0025 | 26/0.1458/0.0025 | 27/0.1458/0.0025 | 28/0.1875/0.0025 | 29/0.2083/0.00125 | 30/0.2083/0.00125 | 31/0.2083/0.00125 | 32/0.2083/0.00125 | 33/0.2083/0.00125 | 34/0.2083/0.00125 | 35/0.2083/0.000625 | 36/0.2083/0.000625 | 37/0.1875/0.000625 | 38/0.1875/0.000625 | 39/0.1875/0.000625 | 40/0.1875/0.000625 | 41/0.1875/0.0003125 | 42/0.1875/0.0003125 | 43/0.1875/0.0003125 | 44/0.1875/0.0003125 | 45/0.1875/0.0003125 | 46/0.1875/0.0003125 | 47/0.1875/0.00015625 | 48/0.1875/0.00015625 | 49/0.2083/0.00015625 | 50/0.1875/0.00015625 | 51/0.1875/0.00015625 | 52/0.1875/0.00015625 | 53/0.1875/7.8125e-05 | 54/0.1667/7.8125e-05 | 55/0.1667/7.8125e-05 | 56/0.1875/7.8125e-05 | 57/0.1667/7.8125e-05 | 58/0.1875/7.8125e-05 | 59/0.1667/3.90625e-05 | 60/0.1875/3.90625e-05 | 61/0.2083/3.90625e-05 | 62/0.1875/3.90625e-05 | 63/0.1875/3.90625e-05 | 64/0.1667/3.90625e-05 | 65/0.1875/1.953125e-05 | 66/0.1667/1.953125e-05 | 67/0.1667/1.953125e-05 | 68/0.1667/1.953125e-05 | 69/0.1875/1.953125e-05 | 70/0.1875/1.953125e-05 | 71/0.1875/9.765625e-06 | Accuracy: 0.2889\n",
      "Evaluating enzymes dataset using random method with a percentile of 50 against class members\n",
      "Training GCN on enzymes for 200 epochs:\n",
      "Epoch/train loss/val accuracy: "
     ]
    },
    {
     "name": "stderr",
     "output_type": "stream",
     "text": [
      "/opt/conda/lib/python3.10/site-packages/torch_geometric/deprecation.py:26: UserWarning: 'data.DataLoader' is deprecated, use 'loader.DataLoader' instead\n",
      "  warnings.warn(out)\n",
      "/opt/conda/lib/python3.10/site-packages/torch/cuda/amp/grad_scaler.py:125: UserWarning: torch.cuda.amp.GradScaler is enabled, but CUDA is not available.  Disabling.\n",
      "  warnings.warn(\n",
      "/opt/conda/lib/python3.10/site-packages/torch/amp/autocast_mode.py:250: UserWarning: User provided device_type of 'cuda', but CUDA is not available. Disabling\n",
      "  warnings.warn(\n"
     ]
    },
    {
     "name": "stdout",
     "output_type": "stream",
     "text": [
      "1/0.1500/0.02 | 2/0.1500/0.02 | 3/0.1500/0.02 | 4/0.1333/0.02 | 5/0.2167/0.02 | 6/0.1667/0.02 | 7/0.1500/0.02 | 8/0.2667/0.02 | 9/0.2000/0.02 | 10/0.2167/0.02 | 11/0.2000/0.01 | 12/0.1500/0.01 | 13/0.1333/0.01 | 14/0.1667/0.01 | 15/0.1500/0.01 | 16/0.1667/0.01 | 17/0.1833/0.005 | 18/0.1833/0.005 | 19/0.1833/0.005 | 20/0.2167/0.005 | 21/0.1833/0.005 | 22/0.2000/0.005 | 23/0.1833/0.0025 | 24/0.2167/0.0025 | 25/0.2500/0.0025 | 26/0.2333/0.0025 | 27/0.2167/0.0025 | 28/0.2167/0.0025 | 29/0.2333/0.00125 | 30/0.2333/0.00125 | 31/0.2333/0.00125 | 32/0.2333/0.00125 | 33/0.2333/0.00125 | 34/0.2167/0.00125 | 35/0.2167/0.000625 | 36/0.2167/0.000625 | 37/0.2167/0.000625 | 38/0.2167/0.000625 | 39/0.2167/0.000625 | 40/0.2167/0.000625 | 41/0.2167/0.0003125 | 42/0.2167/0.0003125 | 43/0.2167/0.0003125 | 44/0.2167/0.0003125 | 45/0.2333/0.0003125 | 46/0.2167/0.0003125 | 47/0.2167/0.00015625 | 48/0.2167/0.00015625 | 49/0.2167/0.00015625 | 50/0.2167/0.00015625 | 51/0.2167/0.00015625 | 52/0.2167/0.00015625 | 53/0.2167/7.8125e-05 | 54/0.2167/7.8125e-05 | 55/0.2167/7.8125e-05 | 56/0.2167/7.8125e-05 | 57/0.2167/7.8125e-05 | 58/0.2167/7.8125e-05 | 59/0.2167/3.90625e-05 | 60/0.2167/3.90625e-05 | 61/0.2167/3.90625e-05 | 62/0.2167/3.90625e-05 | 63/0.2167/3.90625e-05 | 64/0.2167/3.90625e-05 | 65/0.2333/1.953125e-05 | 66/0.2333/1.953125e-05 | 67/0.2333/1.953125e-05 | 68/0.2333/1.953125e-05 | 69/0.2333/1.953125e-05 | 70/0.2167/1.953125e-05 | 71/0.2167/9.765625e-06 | Accuracy: 0.2900\n",
      "Evaluating enzymes dataset using random method with a percentile of 60 against class members\n",
      "Training GCN on enzymes for 200 epochs:\n",
      "Epoch/train loss/val accuracy: "
     ]
    },
    {
     "name": "stderr",
     "output_type": "stream",
     "text": [
      "/opt/conda/lib/python3.10/site-packages/torch_geometric/deprecation.py:26: UserWarning: 'data.DataLoader' is deprecated, use 'loader.DataLoader' instead\n",
      "  warnings.warn(out)\n",
      "/opt/conda/lib/python3.10/site-packages/torch/cuda/amp/grad_scaler.py:125: UserWarning: torch.cuda.amp.GradScaler is enabled, but CUDA is not available.  Disabling.\n",
      "  warnings.warn(\n",
      "/opt/conda/lib/python3.10/site-packages/torch/amp/autocast_mode.py:250: UserWarning: User provided device_type of 'cuda', but CUDA is not available. Disabling\n",
      "  warnings.warn(\n"
     ]
    },
    {
     "name": "stdout",
     "output_type": "stream",
     "text": [
      "1/0.1944/0.02 | 2/0.1667/0.02 | 3/0.2222/0.02 | 4/0.1528/0.02 | 5/0.1806/0.02 | 6/0.1806/0.02 | 7/0.2500/0.02 | 8/0.1806/0.02 | 9/0.2500/0.02 | 10/0.3472/0.02 | 11/0.2778/0.01 | 12/0.3056/0.01 | 13/0.2639/0.01 | 14/0.2500/0.01 | 15/0.2917/0.01 | 16/0.3056/0.01 | 17/0.3056/0.005 | 18/0.3333/0.005 | 19/0.3333/0.005 | 20/0.3333/0.005 | 21/0.3333/0.005 | 22/0.3333/0.005 | 23/0.3194/0.0025 | 24/0.3750/0.0025 | 25/0.3472/0.0025 | 26/0.3750/0.0025 | 27/0.3750/0.0025 | 28/0.3611/0.0025 | 29/0.3611/0.00125 | 30/0.3611/0.00125 | 31/0.3611/0.00125 | 32/0.3750/0.00125 | 33/0.3750/0.00125 | 34/0.3889/0.00125 | 35/0.3889/0.000625 | 36/0.4028/0.000625 | 37/0.3889/0.000625 | 38/0.3750/0.000625 | 39/0.3611/0.000625 | 40/0.3611/0.000625 | 41/0.3611/0.0003125 | 42/0.3611/0.0003125 | 43/0.3611/0.0003125 | 44/0.3750/0.0003125 | 45/0.3472/0.0003125 | 46/0.3750/0.0003125 | 47/0.3750/0.00015625 | 48/0.3611/0.00015625 | 49/0.3611/0.00015625 | 50/0.3611/0.00015625 | 51/0.3611/0.00015625 | 52/0.3611/0.00015625 | 53/0.3750/7.8125e-05 | 54/0.3472/7.8125e-05 | 55/0.3611/7.8125e-05 | 56/0.3472/7.8125e-05 | 57/0.3611/7.8125e-05 | 58/0.3750/7.8125e-05 | 59/0.3750/3.90625e-05 | 60/0.3750/3.90625e-05 | 61/0.3889/3.90625e-05 | 62/0.3750/3.90625e-05 | 63/0.3750/3.90625e-05 | 64/0.3611/3.90625e-05 | 65/0.3611/1.953125e-05 | 66/0.3750/1.953125e-05 | 67/0.3611/1.953125e-05 | 68/0.3611/1.953125e-05 | 69/0.3611/1.953125e-05 | 70/0.3611/1.953125e-05 | 71/0.3750/9.765625e-06 | Accuracy: 0.3625\n",
      "Evaluating enzymes dataset using random method with a percentile of 70 against class members\n",
      "Training GCN on enzymes for 200 epochs:\n",
      "Epoch/train loss/val accuracy: "
     ]
    },
    {
     "name": "stderr",
     "output_type": "stream",
     "text": [
      "/opt/conda/lib/python3.10/site-packages/torch_geometric/deprecation.py:26: UserWarning: 'data.DataLoader' is deprecated, use 'loader.DataLoader' instead\n",
      "  warnings.warn(out)\n",
      "/opt/conda/lib/python3.10/site-packages/torch/cuda/amp/grad_scaler.py:125: UserWarning: torch.cuda.amp.GradScaler is enabled, but CUDA is not available.  Disabling.\n",
      "  warnings.warn(\n",
      "/opt/conda/lib/python3.10/site-packages/torch/amp/autocast_mode.py:250: UserWarning: User provided device_type of 'cuda', but CUDA is not available. Disabling\n",
      "  warnings.warn(\n"
     ]
    },
    {
     "name": "stdout",
     "output_type": "stream",
     "text": [
      "1/0.1667/0.02 | 2/0.2619/0.02 | 3/0.1429/0.02 | 4/0.1667/0.02 | 5/0.2024/0.02 | 6/0.2976/0.02 | 7/0.1786/0.02 | 8/0.2143/0.02 | 9/0.2619/0.02 | 10/0.2619/0.01 | 11/0.2381/0.01 | 12/0.2381/0.01 | 13/0.2500/0.01 | 14/0.2024/0.01 | 15/0.2143/0.01 | 16/0.2857/0.005 | 17/0.2619/0.005 | 18/0.2738/0.005 | 19/0.2738/0.005 | 20/0.2619/0.005 | 21/0.2738/0.005 | 22/0.2500/0.0025 | 23/0.2262/0.0025 | 24/0.2976/0.0025 | 25/0.3095/0.0025 | 26/0.3095/0.0025 | 27/0.3452/0.0025 | 28/0.3214/0.00125 | 29/0.3095/0.00125 | 30/0.2738/0.00125 | 31/0.2857/0.00125 | 32/0.2857/0.00125 | 33/0.3571/0.00125 | 34/0.3452/0.000625 | 35/0.3333/0.000625 | 36/0.3333/0.000625 | 37/0.3333/0.000625 | 38/0.3333/0.000625 | 39/0.3333/0.000625 | 40/0.3452/0.0003125 | 41/0.3214/0.0003125 | 42/0.3095/0.0003125 | 43/0.3095/0.0003125 | 44/0.2976/0.0003125 | 45/0.2976/0.0003125 | 46/0.3095/0.00015625 | 47/0.3095/0.00015625 | 48/0.3095/0.00015625 | 49/0.3214/0.00015625 | 50/0.3095/0.00015625 | 51/0.3333/0.00015625 | 52/0.3333/7.8125e-05 | 53/0.3214/7.8125e-05 | 54/0.3333/7.8125e-05 | 55/0.3333/7.8125e-05 | 56/0.3333/7.8125e-05 | 57/0.3333/7.8125e-05 | 58/0.3333/3.90625e-05 | 59/0.3333/3.90625e-05 | 60/0.3333/3.90625e-05 | 61/0.3095/3.90625e-05 | 62/0.3333/3.90625e-05 | 63/0.3333/3.90625e-05 | 64/0.3333/1.953125e-05 | 65/0.3333/1.953125e-05 | 66/0.3333/1.953125e-05 | 67/0.3333/1.953125e-05 | 68/0.3333/1.953125e-05 | 69/0.3333/1.953125e-05 | 70/0.3333/9.765625e-06 | Accuracy: 0.3556\n",
      "Evaluating enzymes dataset using random method with a percentile of 80 against class members\n",
      "Training GCN on enzymes for 200 epochs:\n",
      "Epoch/train loss/val accuracy: "
     ]
    },
    {
     "name": "stderr",
     "output_type": "stream",
     "text": [
      "/opt/conda/lib/python3.10/site-packages/torch_geometric/deprecation.py:26: UserWarning: 'data.DataLoader' is deprecated, use 'loader.DataLoader' instead\n",
      "  warnings.warn(out)\n",
      "/opt/conda/lib/python3.10/site-packages/torch/cuda/amp/grad_scaler.py:125: UserWarning: torch.cuda.amp.GradScaler is enabled, but CUDA is not available.  Disabling.\n",
      "  warnings.warn(\n",
      "/opt/conda/lib/python3.10/site-packages/torch/amp/autocast_mode.py:250: UserWarning: User provided device_type of 'cuda', but CUDA is not available. Disabling\n",
      "  warnings.warn(\n"
     ]
    },
    {
     "name": "stdout",
     "output_type": "stream",
     "text": [
      "1/0.1667/0.02 | 2/0.1146/0.02 | 3/0.1667/0.02 | 4/0.2396/0.02 | 5/0.2396/0.02 | 6/0.2188/0.02 | 7/0.3021/0.02 | 8/0.2604/0.02 | 9/0.3333/0.01 | 10/0.3021/0.01 | 11/0.2917/0.01 | 12/0.2917/0.01 | 13/0.3854/0.01 | 14/0.3542/0.01 | 15/0.3125/0.005 | 16/0.2917/0.005 | 17/0.3229/0.005 | 18/0.3333/0.005 | 19/0.3438/0.005 | 20/0.3333/0.005 | 21/0.3438/0.0025 | 22/0.3438/0.0025 | 23/0.3646/0.0025 | 24/0.3646/0.0025 | 25/0.3646/0.0025 | 26/0.3542/0.0025 | 27/0.3542/0.00125 | 28/0.3542/0.00125 | 29/0.3646/0.00125 | 30/0.3750/0.00125 | 31/0.3646/0.00125 | 32/0.3542/0.00125 | 33/0.3646/0.000625 | 34/0.3646/0.000625 | 35/0.3438/0.000625 | 36/0.3542/0.000625 | 37/0.3438/0.000625 | 38/0.3438/0.000625 | 39/0.3438/0.0003125 | 40/0.3333/0.0003125 | 41/0.3333/0.0003125 | 42/0.3229/0.0003125 | 43/0.3229/0.0003125 | 44/0.3333/0.0003125 | 45/0.3333/0.00015625 | 46/0.3333/0.00015625 | 47/0.3333/0.00015625 | 48/0.3333/0.00015625 | 49/0.3333/0.00015625 | 50/0.3333/0.00015625 | 51/0.3333/7.8125e-05 | 52/0.3229/7.8125e-05 | 53/0.3229/7.8125e-05 | 54/0.3438/7.8125e-05 | 55/0.3333/7.8125e-05 | 56/0.3229/7.8125e-05 | 57/0.3333/3.90625e-05 | 58/0.3333/3.90625e-05 | 59/0.3333/3.90625e-05 | 60/0.3333/3.90625e-05 | 61/0.3229/3.90625e-05 | 62/0.3229/3.90625e-05 | 63/0.3229/1.953125e-05 | 64/0.3229/1.953125e-05 | 65/0.3333/1.953125e-05 | 66/0.3333/1.953125e-05 | 67/0.3333/1.953125e-05 | 68/0.3333/1.953125e-05 | 69/0.3333/9.765625e-06 | Accuracy: 0.3167\n",
      "Evaluating enzymes dataset using random method with a percentile of 90 against class members\n",
      "Training GCN on enzymes for 200 epochs:\n",
      "Epoch/train loss/val accuracy: "
     ]
    },
    {
     "name": "stderr",
     "output_type": "stream",
     "text": [
      "/opt/conda/lib/python3.10/site-packages/torch_geometric/deprecation.py:26: UserWarning: 'data.DataLoader' is deprecated, use 'loader.DataLoader' instead\n",
      "  warnings.warn(out)\n",
      "/opt/conda/lib/python3.10/site-packages/torch/cuda/amp/grad_scaler.py:125: UserWarning: torch.cuda.amp.GradScaler is enabled, but CUDA is not available.  Disabling.\n",
      "  warnings.warn(\n",
      "/opt/conda/lib/python3.10/site-packages/torch/amp/autocast_mode.py:250: UserWarning: User provided device_type of 'cuda', but CUDA is not available. Disabling\n",
      "  warnings.warn(\n"
     ]
    },
    {
     "name": "stdout",
     "output_type": "stream",
     "text": [
      "1/0.1574/0.02 | 2/0.1667/0.02 | 3/0.1759/0.02 | 4/0.2222/0.02 | 5/0.2685/0.02 | 6/0.2130/0.02 | 7/0.2407/0.02 | 8/0.2778/0.01 | 9/0.2500/0.01 | 10/0.3056/0.01 | 11/0.3333/0.01 | 12/0.3241/0.01 | 13/0.3333/0.01 | 14/0.3519/0.005 | 15/0.3704/0.005 | 16/0.3981/0.005 | 17/0.4352/0.005 | 18/0.3796/0.005 | 19/0.3981/0.005 | 20/0.4167/0.0025 | 21/0.4352/0.0025 | 22/0.4167/0.0025 | 23/0.4167/0.0025 | 24/0.4074/0.0025 | 25/0.4074/0.0025 | 26/0.4352/0.00125 | 27/0.4167/0.00125 | 28/0.4074/0.00125 | 29/0.3889/0.00125 | 30/0.3796/0.00125 | 31/0.3889/0.00125 | 32/0.3796/0.000625 | 33/0.3889/0.000625 | 34/0.3889/0.000625 | 35/0.3889/0.000625 | 36/0.3889/0.000625 | 37/0.3796/0.000625 | 38/0.3889/0.0003125 | 39/0.3889/0.0003125 | 40/0.3796/0.0003125 | 41/0.3796/0.0003125 | 42/0.3981/0.0003125 | 43/0.3981/0.0003125 | 44/0.3981/0.00015625 | 45/0.3889/0.00015625 | 46/0.3889/0.00015625 | 47/0.3889/0.00015625 | 48/0.3796/0.00015625 | 49/0.3889/0.00015625 | 50/0.3981/7.8125e-05 | 51/0.3889/7.8125e-05 | 52/0.3889/7.8125e-05 | 53/0.3981/7.8125e-05 | 54/0.3981/7.8125e-05 | 55/0.3796/7.8125e-05 | 56/0.3889/3.90625e-05 | 57/0.3981/3.90625e-05 | 58/0.3796/3.90625e-05 | 59/0.3981/3.90625e-05 | 60/0.3889/3.90625e-05 | 61/0.3889/3.90625e-05 | 62/0.3889/1.953125e-05 | 63/0.3981/1.953125e-05 | 64/0.3889/1.953125e-05 | 65/0.3889/1.953125e-05 | 66/0.3796/1.953125e-05 | 67/0.3796/1.953125e-05 | 68/0.3889/9.765625e-06 | Accuracy: 0.4667\n",
      "Evaluating enzymes dataset using graph_order method with a percentile of 40 against class members\n",
      "Training GCN on enzymes for 200 epochs:\n",
      "Epoch/train loss/val accuracy: "
     ]
    },
    {
     "name": "stderr",
     "output_type": "stream",
     "text": [
      "/opt/conda/lib/python3.10/site-packages/torch_geometric/deprecation.py:26: UserWarning: 'data.DataLoader' is deprecated, use 'loader.DataLoader' instead\n",
      "  warnings.warn(out)\n",
      "/opt/conda/lib/python3.10/site-packages/torch/cuda/amp/grad_scaler.py:125: UserWarning: torch.cuda.amp.GradScaler is enabled, but CUDA is not available.  Disabling.\n",
      "  warnings.warn(\n",
      "/opt/conda/lib/python3.10/site-packages/torch/amp/autocast_mode.py:250: UserWarning: User provided device_type of 'cuda', but CUDA is not available. Disabling\n",
      "  warnings.warn(\n"
     ]
    },
    {
     "name": "stdout",
     "output_type": "stream",
     "text": [
      "1/0.1458/0.02 | 2/0.1458/0.02 | 3/0.1875/0.02 | 4/0.1458/0.02 | 5/0.1875/0.02 | 6/0.2292/0.02 | 7/0.2083/0.02 | 8/0.1667/0.01 | 9/0.2292/0.01 | 10/0.2292/0.01 | 11/0.2917/0.01 | 12/0.2708/0.01 | 13/0.2083/0.01 | 14/0.2708/0.005 | 15/0.2917/0.005 | 16/0.2917/0.005 | 17/0.3125/0.005 | 18/0.3125/0.005 | 19/0.3542/0.005 | 20/0.3750/0.0025 | 21/0.3750/0.0025 | 22/0.3542/0.0025 | 23/0.3542/0.0025 | 24/0.3542/0.0025 | 25/0.3542/0.0025 | 26/0.3542/0.00125 | 27/0.3542/0.00125 | 28/0.3542/0.00125 | 29/0.3542/0.00125 | 30/0.3542/0.00125 | 31/0.3750/0.00125 | 32/0.3750/0.000625 | 33/0.3750/0.000625 | 34/0.3750/0.000625 | 35/0.3750/0.000625 | 36/0.3750/0.000625 | 37/0.3750/0.000625 | 38/0.3750/0.0003125 | 39/0.3750/0.0003125 | 40/0.3750/0.0003125 | 41/0.3750/0.0003125 | 42/0.3750/0.0003125 | 43/0.3750/0.0003125 | 44/0.3750/0.00015625 | 45/0.3750/0.00015625 | 46/0.3750/0.00015625 | 47/0.3750/0.00015625 | 48/0.3750/0.00015625 | 49/0.3750/0.00015625 | 50/0.3750/7.8125e-05 | 51/0.3750/7.8125e-05 | 52/0.3750/7.8125e-05 | 53/0.3750/7.8125e-05 | 54/0.3750/7.8125e-05 | 55/0.3750/7.8125e-05 | 56/0.3750/3.90625e-05 | 57/0.3750/3.90625e-05 | 58/0.3750/3.90625e-05 | 59/0.3750/3.90625e-05 | 60/0.3750/3.90625e-05 | 61/0.3750/3.90625e-05 | 62/0.3750/1.953125e-05 | 63/0.3750/1.953125e-05 | 64/0.3750/1.953125e-05 | 65/0.3750/1.953125e-05 | 66/0.3750/1.953125e-05 | 67/0.3750/1.953125e-05 | 68/0.3750/9.765625e-06 | Accuracy: 0.2333\n",
      "Evaluating enzymes dataset using graph_order method with a percentile of 50 against class members\n",
      "Training GCN on enzymes for 200 epochs:\n",
      "Epoch/train loss/val accuracy: "
     ]
    },
    {
     "name": "stderr",
     "output_type": "stream",
     "text": [
      "/opt/conda/lib/python3.10/site-packages/torch_geometric/deprecation.py:26: UserWarning: 'data.DataLoader' is deprecated, use 'loader.DataLoader' instead\n",
      "  warnings.warn(out)\n",
      "/opt/conda/lib/python3.10/site-packages/torch/cuda/amp/grad_scaler.py:125: UserWarning: torch.cuda.amp.GradScaler is enabled, but CUDA is not available.  Disabling.\n",
      "  warnings.warn(\n",
      "/opt/conda/lib/python3.10/site-packages/torch/amp/autocast_mode.py:250: UserWarning: User provided device_type of 'cuda', but CUDA is not available. Disabling\n",
      "  warnings.warn(\n"
     ]
    },
    {
     "name": "stdout",
     "output_type": "stream",
     "text": [
      "1/0.2333/0.02 | 2/0.1833/0.02 | 3/0.1833/0.02 | 4/0.1500/0.02 | 5/0.1500/0.02 | 6/0.1333/0.02 | 7/0.2167/0.02 | 8/0.3000/0.02 | 9/0.3500/0.02 | 10/0.3667/0.02 | 11/0.3667/0.02 | 12/0.3833/0.02 | 13/0.4000/0.01 | 14/0.4000/0.01 | 15/0.3833/0.01 | 16/0.4167/0.01 | 17/0.3833/0.01 | 18/0.4333/0.01 | 19/0.4167/0.005 | 20/0.4167/0.005 | 21/0.4333/0.005 | 22/0.4333/0.005 | 23/0.4000/0.005 | 24/0.4333/0.005 | 25/0.4333/0.0025 | 26/0.4167/0.0025 | 27/0.4000/0.0025 | 28/0.4167/0.0025 | 29/0.4167/0.0025 | 30/0.4167/0.0025 | 31/0.4000/0.00125 | 32/0.4000/0.00125 | 33/0.4167/0.00125 | 34/0.4333/0.00125 | 35/0.4333/0.00125 | 36/0.4167/0.00125 | 37/0.4167/0.000625 | 38/0.4167/0.000625 | 39/0.4167/0.000625 | 40/0.4333/0.000625 | 41/0.4167/0.000625 | 42/0.4333/0.000625 | 43/0.4167/0.0003125 | 44/0.4167/0.0003125 | 45/0.4167/0.0003125 | 46/0.4167/0.0003125 | 47/0.4167/0.0003125 | 48/0.4167/0.0003125 | 49/0.4167/0.00015625 | 50/0.4167/0.00015625 | 51/0.4167/0.00015625 | 52/0.4000/0.00015625 | 53/0.4167/0.00015625 | 54/0.4000/0.00015625 | 55/0.4000/7.8125e-05 | 56/0.4000/7.8125e-05 | 57/0.4167/7.8125e-05 | 58/0.4167/7.8125e-05 | 59/0.4167/7.8125e-05 | 60/0.4000/7.8125e-05 | 61/0.4167/3.90625e-05 | 62/0.4167/3.90625e-05 | 63/0.4167/3.90625e-05 | 64/0.4167/3.90625e-05 | 65/0.4167/3.90625e-05 | 66/0.4167/3.90625e-05 | 67/0.4167/1.953125e-05 | 68/0.4167/1.953125e-05 | 69/0.4167/1.953125e-05 | 70/0.4167/1.953125e-05 | 71/0.4167/1.953125e-05 | 72/0.4167/1.953125e-05 | 73/0.4167/9.765625e-06 | Accuracy: 0.2933\n",
      "Evaluating enzymes dataset using graph_order method with a percentile of 60 against class members\n",
      "Training GCN on enzymes for 200 epochs:\n",
      "Epoch/train loss/val accuracy: "
     ]
    },
    {
     "name": "stderr",
     "output_type": "stream",
     "text": [
      "/opt/conda/lib/python3.10/site-packages/torch_geometric/deprecation.py:26: UserWarning: 'data.DataLoader' is deprecated, use 'loader.DataLoader' instead\n",
      "  warnings.warn(out)\n",
      "/opt/conda/lib/python3.10/site-packages/torch/cuda/amp/grad_scaler.py:125: UserWarning: torch.cuda.amp.GradScaler is enabled, but CUDA is not available.  Disabling.\n",
      "  warnings.warn(\n",
      "/opt/conda/lib/python3.10/site-packages/torch/amp/autocast_mode.py:250: UserWarning: User provided device_type of 'cuda', but CUDA is not available. Disabling\n",
      "  warnings.warn(\n"
     ]
    },
    {
     "name": "stdout",
     "output_type": "stream",
     "text": [
      "1/0.1389/0.02 | 2/0.1389/0.02 | 3/0.1806/0.02 | 4/0.2083/0.02 | 5/0.2500/0.02 | 6/0.3333/0.02 | 7/0.4167/0.02 | 8/0.4028/0.01 | 9/0.3472/0.01 | 10/0.3194/0.01 | 11/0.3472/0.01 | 12/0.3611/0.01 | 13/0.3472/0.01 | 14/0.3333/0.005 | 15/0.3194/0.005 | 16/0.3750/0.005 | 17/0.4028/0.005 | 18/0.4444/0.005 | 19/0.4583/0.005 | 20/0.4167/0.0025 | 21/0.3750/0.0025 | 22/0.4028/0.0025 | 23/0.4167/0.0025 | 24/0.4028/0.0025 | 25/0.4167/0.0025 | 26/0.3889/0.00125 | 27/0.4028/0.00125 | 28/0.4028/0.00125 | 29/0.4444/0.00125 | 30/0.4306/0.00125 | 31/0.4167/0.00125 | 32/0.4028/0.000625 | 33/0.4306/0.000625 | 34/0.4167/0.000625 | 35/0.4167/0.000625 | 36/0.4028/0.000625 | 37/0.3889/0.000625 | 38/0.4028/0.0003125 | 39/0.4028/0.0003125 | 40/0.3889/0.0003125 | 41/0.3889/0.0003125 | 42/0.3889/0.0003125 | 43/0.3889/0.0003125 | 44/0.3750/0.00015625 | 45/0.3750/0.00015625 | 46/0.3889/0.00015625 | 47/0.4028/0.00015625 | 48/0.4028/0.00015625 | 49/0.4167/0.00015625 | 50/0.4167/7.8125e-05 | 51/0.4167/7.8125e-05 | 52/0.4167/7.8125e-05 | 53/0.4028/7.8125e-05 | 54/0.4167/7.8125e-05 | 55/0.4167/7.8125e-05 | 56/0.4167/3.90625e-05 | 57/0.3889/3.90625e-05 | 58/0.3889/3.90625e-05 | 59/0.3889/3.90625e-05 | 60/0.3889/3.90625e-05 | 61/0.3889/3.90625e-05 | 62/0.4028/1.953125e-05 | 63/0.3750/1.953125e-05 | 64/0.3750/1.953125e-05 | 65/0.3889/1.953125e-05 | 66/0.4028/1.953125e-05 | 67/0.4028/1.953125e-05 | 68/0.4028/9.765625e-06 | Accuracy: 0.3250\n",
      "Evaluating enzymes dataset using graph_order method with a percentile of 70 against class members\n",
      "Training GCN on enzymes for 200 epochs:\n",
      "Epoch/train loss/val accuracy: "
     ]
    },
    {
     "name": "stderr",
     "output_type": "stream",
     "text": [
      "/opt/conda/lib/python3.10/site-packages/torch_geometric/deprecation.py:26: UserWarning: 'data.DataLoader' is deprecated, use 'loader.DataLoader' instead\n",
      "  warnings.warn(out)\n",
      "/opt/conda/lib/python3.10/site-packages/torch/cuda/amp/grad_scaler.py:125: UserWarning: torch.cuda.amp.GradScaler is enabled, but CUDA is not available.  Disabling.\n",
      "  warnings.warn(\n",
      "/opt/conda/lib/python3.10/site-packages/torch/amp/autocast_mode.py:250: UserWarning: User provided device_type of 'cuda', but CUDA is not available. Disabling\n",
      "  warnings.warn(\n"
     ]
    },
    {
     "name": "stdout",
     "output_type": "stream",
     "text": [
      "1/0.1860/0.02 | 2/0.1279/0.02 | 3/0.1279/0.02 | 4/0.1512/0.02 | 5/0.2326/0.02 | 6/0.2558/0.02 | 7/0.2907/0.02 | 8/0.3023/0.02 | 9/0.3023/0.01 | 10/0.3605/0.01 | 11/0.3605/0.01 | 12/0.3372/0.01 | 13/0.3256/0.01 | 14/0.3140/0.01 | 15/0.3372/0.005 | 16/0.3256/0.005 | 17/0.3488/0.005 | 18/0.3488/0.005 | 19/0.3488/0.005 | 20/0.3721/0.005 | 21/0.3721/0.0025 | 22/0.3721/0.0025 | 23/0.3837/0.0025 | 24/0.3837/0.0025 | 25/0.3953/0.0025 | 26/0.3721/0.0025 | 27/0.3605/0.00125 | 28/0.3837/0.00125 | 29/0.3837/0.00125 | 30/0.3721/0.00125 | 31/0.3605/0.00125 | 32/0.3953/0.00125 | 33/0.4070/0.000625 | 34/0.3837/0.000625 | 35/0.3837/0.000625 | 36/0.3953/0.000625 | 37/0.3837/0.000625 | 38/0.3837/0.000625 | 39/0.3953/0.0003125 | 40/0.3837/0.0003125 | 41/0.3953/0.0003125 | 42/0.3721/0.0003125 | 43/0.3953/0.0003125 | 44/0.3953/0.0003125 | 45/0.4070/0.00015625 | 46/0.3953/0.00015625 | 47/0.3953/0.00015625 | 48/0.3837/0.00015625 | 49/0.3837/0.00015625 | 50/0.3837/0.00015625 | 51/0.3837/7.8125e-05 | 52/0.3953/7.8125e-05 | 53/0.3953/7.8125e-05 | 54/0.3837/7.8125e-05 | 55/0.3721/7.8125e-05 | 56/0.3721/7.8125e-05 | 57/0.3837/3.90625e-05 | 58/0.3837/3.90625e-05 | 59/0.3837/3.90625e-05 | 60/0.3837/3.90625e-05 | 61/0.3953/3.90625e-05 | 62/0.3837/3.90625e-05 | 63/0.3837/1.953125e-05 | 64/0.3837/1.953125e-05 | 65/0.3837/1.953125e-05 | 66/0.3837/1.953125e-05 | 67/0.3837/1.953125e-05 | 68/0.3837/1.953125e-05 | 69/0.3837/9.765625e-06 | Accuracy: 0.1897\n",
      "Evaluating enzymes dataset using graph_order method with a percentile of 80 against class members\n",
      "Training GCN on enzymes for 200 epochs:\n",
      "Epoch/train loss/val accuracy: "
     ]
    },
    {
     "name": "stderr",
     "output_type": "stream",
     "text": [
      "/opt/conda/lib/python3.10/site-packages/torch_geometric/deprecation.py:26: UserWarning: 'data.DataLoader' is deprecated, use 'loader.DataLoader' instead\n",
      "  warnings.warn(out)\n",
      "/opt/conda/lib/python3.10/site-packages/torch/cuda/amp/grad_scaler.py:125: UserWarning: torch.cuda.amp.GradScaler is enabled, but CUDA is not available.  Disabling.\n",
      "  warnings.warn(\n",
      "/opt/conda/lib/python3.10/site-packages/torch/amp/autocast_mode.py:250: UserWarning: User provided device_type of 'cuda', but CUDA is not available. Disabling\n",
      "  warnings.warn(\n"
     ]
    },
    {
     "name": "stdout",
     "output_type": "stream",
     "text": [
      "1/0.1667/0.02 | 2/0.1667/0.02 | 3/0.2188/0.02 | 4/0.2604/0.02 | 5/0.2396/0.02 | 6/0.2812/0.02 | 7/0.3125/0.02 | 8/0.3021/0.01 | 9/0.2812/0.01 | 10/0.2917/0.01 | 11/0.2917/0.01 | 12/0.3229/0.01 | 13/0.3125/0.01 | 14/0.3229/0.005 | 15/0.3021/0.005 | 16/0.3542/0.005 | 17/0.3229/0.005 | 18/0.3333/0.005 | 19/0.3646/0.005 | 20/0.3542/0.0025 | 21/0.3333/0.0025 | 22/0.3542/0.0025 | 23/0.3125/0.0025 | 24/0.3021/0.0025 | 25/0.3021/0.0025 | 26/0.3021/0.00125 | 27/0.3125/0.00125 | 28/0.3125/0.00125 | 29/0.3229/0.00125 | 30/0.3125/0.00125 | 31/0.3542/0.00125 | 32/0.3646/0.000625 | 33/0.3542/0.000625 | 34/0.3438/0.000625 | 35/0.3438/0.000625 | 36/0.3438/0.000625 | 37/0.3438/0.000625 | 38/0.3333/0.0003125 | 39/0.3333/0.0003125 | 40/0.3333/0.0003125 | 41/0.3333/0.0003125 | 42/0.3333/0.0003125 | 43/0.3438/0.0003125 | 44/0.3438/0.00015625 | 45/0.3333/0.00015625 | 46/0.3438/0.00015625 | 47/0.3333/0.00015625 | 48/0.3333/0.00015625 | 49/0.3333/0.00015625 | 50/0.3333/7.8125e-05 | 51/0.3333/7.8125e-05 | 52/0.3333/7.8125e-05 | 53/0.3333/7.8125e-05 | 54/0.3333/7.8125e-05 | 55/0.3333/7.8125e-05 | 56/0.3333/3.90625e-05 | 57/0.3333/3.90625e-05 | 58/0.3333/3.90625e-05 | 59/0.3333/3.90625e-05 | 60/0.3333/3.90625e-05 | 61/0.3333/3.90625e-05 | 62/0.3438/1.953125e-05 | 63/0.3333/1.953125e-05 | 64/0.3333/1.953125e-05 | 65/0.3333/1.953125e-05 | 66/0.3333/1.953125e-05 | 67/0.3542/1.953125e-05 | 68/0.3438/9.765625e-06 | Accuracy: 0.2917\n",
      "Evaluating enzymes dataset using graph_order method with a percentile of 90 against class members\n",
      "Training GCN on enzymes for 200 epochs:\n",
      "Epoch/train loss/val accuracy: "
     ]
    },
    {
     "name": "stderr",
     "output_type": "stream",
     "text": [
      "/opt/conda/lib/python3.10/site-packages/torch_geometric/deprecation.py:26: UserWarning: 'data.DataLoader' is deprecated, use 'loader.DataLoader' instead\n",
      "  warnings.warn(out)\n",
      "/opt/conda/lib/python3.10/site-packages/torch/cuda/amp/grad_scaler.py:125: UserWarning: torch.cuda.amp.GradScaler is enabled, but CUDA is not available.  Disabling.\n",
      "  warnings.warn(\n",
      "/opt/conda/lib/python3.10/site-packages/torch/amp/autocast_mode.py:250: UserWarning: User provided device_type of 'cuda', but CUDA is not available. Disabling\n",
      "  warnings.warn(\n"
     ]
    },
    {
     "name": "stdout",
     "output_type": "stream",
     "text": [
      "1/0.2037/0.02 | 2/0.1852/0.02 | 3/0.2407/0.02 | 4/0.2685/0.02 | 5/0.2407/0.02 | 6/0.2407/0.02 | 7/0.3148/0.02 | 8/0.3333/0.02 | 9/0.3519/0.01 | 10/0.3426/0.01 | 11/0.2963/0.01 | 12/0.3333/0.01 | 13/0.4259/0.01 | 14/0.3889/0.01 | 15/0.3981/0.005 | 16/0.3704/0.005 | 17/0.4352/0.005 | 18/0.4259/0.005 | 19/0.3889/0.005 | 20/0.4074/0.005 | 21/0.4352/0.0025 | 22/0.4444/0.0025 | 23/0.4630/0.0025 | 24/0.4630/0.0025 | 25/0.4630/0.0025 | 26/0.4815/0.0025 | 27/0.5093/0.00125 | 28/0.4722/0.00125 | 29/0.4815/0.00125 | 30/0.4815/0.00125 | 31/0.4537/0.00125 | 32/0.4352/0.00125 | 33/0.4444/0.000625 | 34/0.4352/0.000625 | 35/0.4444/0.000625 | 36/0.4630/0.000625 | 37/0.4444/0.000625 | 38/0.4444/0.000625 | 39/0.4352/0.0003125 | 40/0.4444/0.0003125 | 41/0.4444/0.0003125 | 42/0.4444/0.0003125 | 43/0.4444/0.0003125 | 44/0.4352/0.0003125 | 45/0.4352/0.00015625 | 46/0.4444/0.00015625 | 47/0.4444/0.00015625 | 48/0.4444/0.00015625 | 49/0.4352/0.00015625 | 50/0.4352/0.00015625 | 51/0.4444/7.8125e-05 | 52/0.4444/7.8125e-05 | 53/0.4444/7.8125e-05 | 54/0.4352/7.8125e-05 | 55/0.4444/7.8125e-05 | 56/0.4444/7.8125e-05 | 57/0.4444/3.90625e-05 | 58/0.4444/3.90625e-05 | 59/0.4444/3.90625e-05 | 60/0.4352/3.90625e-05 | 61/0.4444/3.90625e-05 | 62/0.4444/3.90625e-05 | 63/0.4444/1.953125e-05 | 64/0.4444/1.953125e-05 | 65/0.4444/1.953125e-05 | 66/0.4444/1.953125e-05 | 67/0.4444/1.953125e-05 | 68/0.4444/1.953125e-05 | 69/0.4444/9.765625e-06 | Accuracy: 0.2667\n",
      "Evaluating enzymes dataset using cos_sim method with a percentile of 40 against class members\n",
      "Training GCN on enzymes for 200 epochs:\n",
      "Epoch/train loss/val accuracy: "
     ]
    },
    {
     "name": "stderr",
     "output_type": "stream",
     "text": [
      "/opt/conda/lib/python3.10/site-packages/torch_geometric/deprecation.py:26: UserWarning: 'data.DataLoader' is deprecated, use 'loader.DataLoader' instead\n",
      "  warnings.warn(out)\n",
      "/opt/conda/lib/python3.10/site-packages/torch/cuda/amp/grad_scaler.py:125: UserWarning: torch.cuda.amp.GradScaler is enabled, but CUDA is not available.  Disabling.\n",
      "  warnings.warn(\n",
      "/opt/conda/lib/python3.10/site-packages/torch/amp/autocast_mode.py:250: UserWarning: User provided device_type of 'cuda', but CUDA is not available. Disabling\n",
      "  warnings.warn(\n"
     ]
    },
    {
     "name": "stdout",
     "output_type": "stream",
     "text": [
      "1/0.1667/0.02 | 2/0.2083/0.02 | 3/0.1875/0.02 | 4/0.2292/0.02 | 5/0.2917/0.02 | 6/0.3542/0.02 | 7/0.3542/0.02 | 8/0.3958/0.01 | 9/0.3333/0.01 | 10/0.3958/0.01 | 11/0.4375/0.01 | 12/0.3958/0.01 | 13/0.3125/0.01 | 14/0.3125/0.005 | 15/0.3333/0.005 | 16/0.3750/0.005 | 17/0.3542/0.005 | 18/0.3542/0.005 | 19/0.3750/0.005 | 20/0.3750/0.0025 | 21/0.4375/0.0025 | 22/0.4375/0.0025 | 23/0.4375/0.0025 | 24/0.4167/0.0025 | 25/0.4375/0.0025 | 26/0.4167/0.00125 | 27/0.4167/0.00125 | 28/0.4167/0.00125 | 29/0.4375/0.00125 | 30/0.4375/0.00125 | 31/0.4167/0.00125 | 32/0.4167/0.000625 | 33/0.4375/0.000625 | 34/0.4583/0.000625 | 35/0.4583/0.000625 | 36/0.4792/0.000625 | 37/0.4792/0.000625 | 38/0.4792/0.0003125 | 39/0.5000/0.0003125 | 40/0.5000/0.0003125 | 41/0.4792/0.0003125 | 42/0.5000/0.0003125 | 43/0.5000/0.0003125 | 44/0.5000/0.00015625 | 45/0.5000/0.00015625 | 46/0.5000/0.00015625 | 47/0.5000/0.00015625 | 48/0.5000/0.00015625 | 49/0.5000/0.00015625 | 50/0.5000/7.8125e-05 | 51/0.5000/7.8125e-05 | 52/0.5000/7.8125e-05 | 53/0.5000/7.8125e-05 | 54/0.5000/7.8125e-05 | 55/0.5000/7.8125e-05 | 56/0.5000/3.90625e-05 | 57/0.5000/3.90625e-05 | 58/0.5000/3.90625e-05 | 59/0.5000/3.90625e-05 | 60/0.5000/3.90625e-05 | 61/0.5000/3.90625e-05 | 62/0.5000/1.953125e-05 | 63/0.5000/1.953125e-05 | 64/0.5000/1.953125e-05 | 65/0.5000/1.953125e-05 | 66/0.5000/1.953125e-05 | 67/0.5000/1.953125e-05 | 68/0.4792/9.765625e-06 | Accuracy: 0.2778\n",
      "Evaluating enzymes dataset using cos_sim method with a percentile of 50 against class members\n",
      "Training GCN on enzymes for 200 epochs:\n",
      "Epoch/train loss/val accuracy: "
     ]
    },
    {
     "name": "stderr",
     "output_type": "stream",
     "text": [
      "/opt/conda/lib/python3.10/site-packages/torch_geometric/deprecation.py:26: UserWarning: 'data.DataLoader' is deprecated, use 'loader.DataLoader' instead\n",
      "  warnings.warn(out)\n",
      "/opt/conda/lib/python3.10/site-packages/torch/cuda/amp/grad_scaler.py:125: UserWarning: torch.cuda.amp.GradScaler is enabled, but CUDA is not available.  Disabling.\n",
      "  warnings.warn(\n",
      "/opt/conda/lib/python3.10/site-packages/torch/amp/autocast_mode.py:250: UserWarning: User provided device_type of 'cuda', but CUDA is not available. Disabling\n",
      "  warnings.warn(\n"
     ]
    },
    {
     "name": "stdout",
     "output_type": "stream",
     "text": [
      "1/0.2000/0.02 | 2/0.1833/0.02 | 3/0.2667/0.02 | 4/0.2833/0.02 | 5/0.2500/0.02 | 6/0.2500/0.02 | 7/0.2667/0.02 | 8/0.2833/0.02 | 9/0.2667/0.01 | 10/0.2500/0.01 | 11/0.2167/0.01 | 12/0.2667/0.01 | 13/0.2333/0.01 | 14/0.2500/0.01 | 15/0.2833/0.005 | 16/0.3167/0.005 | 17/0.3000/0.005 | 18/0.3000/0.005 | 19/0.2833/0.005 | 20/0.3167/0.005 | 21/0.2833/0.0025 | 22/0.2667/0.0025 | 23/0.3167/0.0025 | 24/0.3500/0.0025 | 25/0.3500/0.0025 | 26/0.3000/0.0025 | 27/0.3167/0.00125 | 28/0.3333/0.00125 | 29/0.3333/0.00125 | 30/0.3333/0.00125 | 31/0.3167/0.00125 | 32/0.3000/0.00125 | 33/0.3333/0.000625 | 34/0.3333/0.000625 | 35/0.3167/0.000625 | 36/0.3167/0.000625 | 37/0.3167/0.000625 | 38/0.3167/0.000625 | 39/0.3167/0.0003125 | 40/0.3167/0.0003125 | 41/0.3333/0.0003125 | 42/0.3333/0.0003125 | 43/0.3167/0.0003125 | 44/0.3167/0.0003125 | 45/0.3333/0.00015625 | 46/0.3333/0.00015625 | 47/0.3333/0.00015625 | 48/0.3333/0.00015625 | 49/0.3333/0.00015625 | 50/0.3333/0.00015625 | 51/0.3333/7.8125e-05 | 52/0.3333/7.8125e-05 | 53/0.3333/7.8125e-05 | 54/0.3333/7.8125e-05 | 55/0.3333/7.8125e-05 | 56/0.3333/7.8125e-05 | 57/0.3333/3.90625e-05 | 58/0.3333/3.90625e-05 | 59/0.3333/3.90625e-05 | 60/0.3333/3.90625e-05 | 61/0.3333/3.90625e-05 | 62/0.3333/3.90625e-05 | 63/0.3333/1.953125e-05 | 64/0.3333/1.953125e-05 | 65/0.3333/1.953125e-05 | 66/0.3333/1.953125e-05 | 67/0.3333/1.953125e-05 | 68/0.3333/1.953125e-05 | 69/0.3333/9.765625e-06 | Accuracy: 0.2900\n",
      "Evaluating enzymes dataset using cos_sim method with a percentile of 60 against class members\n",
      "Training GCN on enzymes for 200 epochs:\n",
      "Epoch/train loss/val accuracy: "
     ]
    },
    {
     "name": "stderr",
     "output_type": "stream",
     "text": [
      "/opt/conda/lib/python3.10/site-packages/torch_geometric/deprecation.py:26: UserWarning: 'data.DataLoader' is deprecated, use 'loader.DataLoader' instead\n",
      "  warnings.warn(out)\n",
      "/opt/conda/lib/python3.10/site-packages/torch/cuda/amp/grad_scaler.py:125: UserWarning: torch.cuda.amp.GradScaler is enabled, but CUDA is not available.  Disabling.\n",
      "  warnings.warn(\n",
      "/opt/conda/lib/python3.10/site-packages/torch/amp/autocast_mode.py:250: UserWarning: User provided device_type of 'cuda', but CUDA is not available. Disabling\n",
      "  warnings.warn(\n"
     ]
    },
    {
     "name": "stdout",
     "output_type": "stream",
     "text": [
      "1/0.1944/0.02 | 2/0.1528/0.02 | 3/0.1389/0.02 | 4/0.2778/0.02 | 5/0.2778/0.02 | 6/0.2083/0.02 | 7/0.2917/0.02 | 8/0.3750/0.02 | 9/0.2639/0.02 | 10/0.2917/0.01 | 11/0.3611/0.01 | 12/0.3194/0.01 | 13/0.2917/0.01 | 14/0.2500/0.01 | 15/0.3056/0.01 | 16/0.2639/0.005 | 17/0.2361/0.005 | 18/0.2917/0.005 | 19/0.2917/0.005 | 20/0.3056/0.005 | 21/0.2917/0.005 | 22/0.3056/0.0025 | 23/0.3056/0.0025 | 24/0.2778/0.0025 | 25/0.3056/0.0025 | 26/0.3056/0.0025 | 27/0.2917/0.0025 | 28/0.3056/0.00125 | 29/0.3056/0.00125 | 30/0.2917/0.00125 | 31/0.3056/0.00125 | 32/0.3056/0.00125 | 33/0.3056/0.00125 | 34/0.3194/0.000625 | 35/0.3056/0.000625 | 36/0.3056/0.000625 | 37/0.3056/0.000625 | 38/0.3056/0.000625 | 39/0.3194/0.000625 | 40/0.3194/0.0003125 | 41/0.3194/0.0003125 | 42/0.3194/0.0003125 | 43/0.3194/0.0003125 | 44/0.3194/0.0003125 | 45/0.3194/0.0003125 | 46/0.3056/0.00015625 | 47/0.3194/0.00015625 | 48/0.3194/0.00015625 | 49/0.3194/0.00015625 | 50/0.3194/0.00015625 | 51/0.3056/0.00015625 | 52/0.3194/7.8125e-05 | 53/0.3194/7.8125e-05 | 54/0.3194/7.8125e-05 | 55/0.3194/7.8125e-05 | 56/0.3194/7.8125e-05 | 57/0.3194/7.8125e-05 | 58/0.3194/3.90625e-05 | 59/0.3194/3.90625e-05 | 60/0.3194/3.90625e-05 | 61/0.3194/3.90625e-05 | 62/0.3194/3.90625e-05 | 63/0.3194/3.90625e-05 | 64/0.3194/1.953125e-05 | 65/0.3194/1.953125e-05 | 66/0.3194/1.953125e-05 | 67/0.3194/1.953125e-05 | 68/0.3194/1.953125e-05 | 69/0.3194/1.953125e-05 | 70/0.3194/9.765625e-06 | Accuracy: 0.3292\n",
      "Evaluating enzymes dataset using cos_sim method with a percentile of 70 against class members\n",
      "Training GCN on enzymes for 200 epochs:\n",
      "Epoch/train loss/val accuracy: "
     ]
    },
    {
     "name": "stderr",
     "output_type": "stream",
     "text": [
      "/opt/conda/lib/python3.10/site-packages/torch_geometric/deprecation.py:26: UserWarning: 'data.DataLoader' is deprecated, use 'loader.DataLoader' instead\n",
      "  warnings.warn(out)\n",
      "/opt/conda/lib/python3.10/site-packages/torch/cuda/amp/grad_scaler.py:125: UserWarning: torch.cuda.amp.GradScaler is enabled, but CUDA is not available.  Disabling.\n",
      "  warnings.warn(\n",
      "/opt/conda/lib/python3.10/site-packages/torch/amp/autocast_mode.py:250: UserWarning: User provided device_type of 'cuda', but CUDA is not available. Disabling\n",
      "  warnings.warn(\n"
     ]
    },
    {
     "name": "stdout",
     "output_type": "stream",
     "text": [
      "1/0.1628/0.02 | 2/0.2209/0.02 | 3/0.1163/0.02 | 4/0.1744/0.02 | 5/0.1860/0.02 | 6/0.1744/0.02 | 7/0.2093/0.02 | 8/0.2907/0.02 | 9/0.2558/0.02 | 10/0.2558/0.01 | 11/0.2558/0.01 | 12/0.2442/0.01 | 13/0.2209/0.01 | 14/0.2558/0.01 | 15/0.2442/0.01 | 16/0.2558/0.005 | 17/0.2558/0.005 | 18/0.2674/0.005 | 19/0.3023/0.005 | 20/0.2907/0.005 | 21/0.3256/0.005 | 22/0.3140/0.0025 | 23/0.3023/0.0025 | 24/0.2791/0.0025 | 25/0.2558/0.0025 | 26/0.2674/0.0025 | 27/0.2558/0.0025 | 28/0.2674/0.00125 | 29/0.2791/0.00125 | 30/0.2674/0.00125 | 31/0.2907/0.00125 | 32/0.2674/0.00125 | 33/0.2907/0.00125 | 34/0.3023/0.000625 | 35/0.3023/0.000625 | 36/0.2907/0.000625 | 37/0.2674/0.000625 | 38/0.2674/0.000625 | 39/0.2791/0.000625 | 40/0.2791/0.0003125 | 41/0.2791/0.0003125 | 42/0.2791/0.0003125 | 43/0.2674/0.0003125 | 44/0.2674/0.0003125 | 45/0.2674/0.0003125 | 46/0.2674/0.00015625 | 47/0.2674/0.00015625 | 48/0.2674/0.00015625 | 49/0.2791/0.00015625 | 50/0.2907/0.00015625 | 51/0.2907/0.00015625 | 52/0.2674/7.8125e-05 | 53/0.2791/7.8125e-05 | 54/0.2791/7.8125e-05 | 55/0.2674/7.8125e-05 | 56/0.2674/7.8125e-05 | 57/0.2791/7.8125e-05 | 58/0.2674/3.90625e-05 | 59/0.2674/3.90625e-05 | 60/0.2674/3.90625e-05 | 61/0.2674/3.90625e-05 | 62/0.2674/3.90625e-05 | 63/0.2674/3.90625e-05 | 64/0.2674/1.953125e-05 | 65/0.2674/1.953125e-05 | 66/0.2674/1.953125e-05 | 67/0.2674/1.953125e-05 | 68/0.2674/1.953125e-05 | 69/0.2674/1.953125e-05 | 70/0.2674/9.765625e-06 | Accuracy: 0.3391\n",
      "Evaluating enzymes dataset using cos_sim method with a percentile of 80 against class members\n",
      "Training GCN on enzymes for 200 epochs:\n",
      "Epoch/train loss/val accuracy: "
     ]
    },
    {
     "name": "stderr",
     "output_type": "stream",
     "text": [
      "/opt/conda/lib/python3.10/site-packages/torch_geometric/deprecation.py:26: UserWarning: 'data.DataLoader' is deprecated, use 'loader.DataLoader' instead\n",
      "  warnings.warn(out)\n",
      "/opt/conda/lib/python3.10/site-packages/torch/cuda/amp/grad_scaler.py:125: UserWarning: torch.cuda.amp.GradScaler is enabled, but CUDA is not available.  Disabling.\n",
      "  warnings.warn(\n",
      "/opt/conda/lib/python3.10/site-packages/torch/amp/autocast_mode.py:250: UserWarning: User provided device_type of 'cuda', but CUDA is not available. Disabling\n",
      "  warnings.warn(\n"
     ]
    },
    {
     "name": "stdout",
     "output_type": "stream",
     "text": [
      "1/0.1458/0.02 | 2/0.1250/0.02 | 3/0.1250/0.02 | 4/0.1458/0.02 | 5/0.1562/0.02 | 6/0.1875/0.02 | 7/0.2188/0.02 | 8/0.2500/0.02 | 9/0.2917/0.01 | 10/0.2812/0.01 | 11/0.2500/0.01 | 12/0.3021/0.01 | 13/0.3333/0.01 | 14/0.3125/0.01 | 15/0.3229/0.005 | 16/0.3438/0.005 | 17/0.3229/0.005 | 18/0.3229/0.005 | 19/0.3021/0.005 | 20/0.3125/0.005 | 21/0.2917/0.0025 | 22/0.3125/0.0025 | 23/0.3229/0.0025 | 24/0.3125/0.0025 | 25/0.3125/0.0025 | 26/0.3125/0.0025 | 27/0.3229/0.00125 | 28/0.3229/0.00125 | 29/0.3125/0.00125 | 30/0.3125/0.00125 | 31/0.3125/0.00125 | 32/0.3125/0.00125 | 33/0.3125/0.000625 | 34/0.3125/0.000625 | 35/0.3125/0.000625 | 36/0.3125/0.000625 | 37/0.3125/0.000625 | 38/0.3125/0.000625 | 39/0.3125/0.0003125 | 40/0.3125/0.0003125 | 41/0.3229/0.0003125 | 42/0.3229/0.0003125 | 43/0.3229/0.0003125 | 44/0.3229/0.0003125 | 45/0.3229/0.00015625 | 46/0.3229/0.00015625 | 47/0.3229/0.00015625 | 48/0.3229/0.00015625 | 49/0.3229/0.00015625 | 50/0.3229/0.00015625 | 51/0.3229/7.8125e-05 | 52/0.3229/7.8125e-05 | 53/0.3229/7.8125e-05 | 54/0.3229/7.8125e-05 | 55/0.3229/7.8125e-05 | 56/0.3229/7.8125e-05 | 57/0.3229/3.90625e-05 | 58/0.3229/3.90625e-05 | 59/0.3229/3.90625e-05 | 60/0.3229/3.90625e-05 | 61/0.3229/3.90625e-05 | 62/0.3229/3.90625e-05 | 63/0.3125/1.953125e-05 | 64/0.3125/1.953125e-05 | 65/0.3229/1.953125e-05 | 66/0.3229/1.953125e-05 | 67/0.3125/1.953125e-05 | 68/0.3229/1.953125e-05 | 69/0.3229/9.765625e-06 | Accuracy: 0.2833\n",
      "Evaluating enzymes dataset using cos_sim method with a percentile of 90 against class members\n",
      "Training GCN on enzymes for 200 epochs:\n",
      "Epoch/train loss/val accuracy: "
     ]
    },
    {
     "name": "stderr",
     "output_type": "stream",
     "text": [
      "/opt/conda/lib/python3.10/site-packages/torch_geometric/deprecation.py:26: UserWarning: 'data.DataLoader' is deprecated, use 'loader.DataLoader' instead\n",
      "  warnings.warn(out)\n",
      "/opt/conda/lib/python3.10/site-packages/torch/cuda/amp/grad_scaler.py:125: UserWarning: torch.cuda.amp.GradScaler is enabled, but CUDA is not available.  Disabling.\n",
      "  warnings.warn(\n",
      "/opt/conda/lib/python3.10/site-packages/torch/amp/autocast_mode.py:250: UserWarning: User provided device_type of 'cuda', but CUDA is not available. Disabling\n",
      "  warnings.warn(\n"
     ]
    },
    {
     "name": "stdout",
     "output_type": "stream",
     "text": [
      "1/0.1852/0.02 | 2/0.1944/0.02 | 3/0.2778/0.02 | 4/0.2500/0.02 | 5/0.3148/0.02 | 6/0.2870/0.02 | 7/0.3519/0.02 | 8/0.3796/0.01 | 9/0.3056/0.01 | 10/0.3704/0.01 | 11/0.3889/0.01 | 12/0.3889/0.01 | 13/0.3796/0.01 | 14/0.3611/0.005 | 15/0.3796/0.005 | 16/0.4352/0.005 | 17/0.3981/0.005 | 18/0.3704/0.005 | 19/0.4259/0.005 | 20/0.4259/0.0025 | 21/0.4074/0.0025 | 22/0.4259/0.0025 | 23/0.4074/0.0025 | 24/0.4259/0.0025 | 25/0.3889/0.0025 | 26/0.4074/0.00125 | 27/0.4444/0.00125 | 28/0.4352/0.00125 | 29/0.4167/0.00125 | 30/0.4074/0.00125 | 31/0.4259/0.00125 | 32/0.4167/0.000625 | 33/0.4259/0.000625 | 34/0.4167/0.000625 | 35/0.4259/0.000625 | 36/0.4352/0.000625 | 37/0.4167/0.000625 | 38/0.4352/0.0003125 | 39/0.4167/0.0003125 | 40/0.4167/0.0003125 | 41/0.4167/0.0003125 | 42/0.4259/0.0003125 | 43/0.4074/0.0003125 | 44/0.4074/0.00015625 | 45/0.4259/0.00015625 | 46/0.4074/0.00015625 | 47/0.4167/0.00015625 | 48/0.4167/0.00015625 | 49/0.4167/0.00015625 | 50/0.4167/7.8125e-05 | 51/0.4259/7.8125e-05 | 52/0.4167/7.8125e-05 | 53/0.4259/7.8125e-05 | 54/0.4167/7.8125e-05 | 55/0.4167/7.8125e-05 | 56/0.4167/3.90625e-05 | 57/0.4259/3.90625e-05 | 58/0.4259/3.90625e-05 | 59/0.4259/3.90625e-05 | 60/0.4167/3.90625e-05 | 61/0.4167/3.90625e-05 | 62/0.4259/1.953125e-05 | 63/0.4167/1.953125e-05 | 64/0.4167/1.953125e-05 | 65/0.4167/1.953125e-05 | 66/0.4167/1.953125e-05 | 67/0.4167/1.953125e-05 | 68/0.4167/9.765625e-06 | Accuracy: 0.3833\n",
      "Evaluating dd dataset using random method with a percentile of 40 against class members\n",
      "Training GCN on dd for 200 epochs:\n",
      "Epoch/train loss/val accuracy: "
     ]
    },
    {
     "name": "stderr",
     "output_type": "stream",
     "text": [
      "/opt/conda/lib/python3.10/site-packages/torch_geometric/deprecation.py:26: UserWarning: 'data.DataLoader' is deprecated, use 'loader.DataLoader' instead\n",
      "  warnings.warn(out)\n",
      "/opt/conda/lib/python3.10/site-packages/torch/cuda/amp/grad_scaler.py:125: UserWarning: torch.cuda.amp.GradScaler is enabled, but CUDA is not available.  Disabling.\n",
      "  warnings.warn(\n",
      "/opt/conda/lib/python3.10/site-packages/torch/amp/autocast_mode.py:250: UserWarning: User provided device_type of 'cuda', but CUDA is not available. Disabling\n",
      "  warnings.warn(\n"
     ]
    },
    {
     "name": "stdout",
     "output_type": "stream",
     "text": [
      "1/0.5579/0.02 | 2/0.5579/0.02 | 3/0.5579/0.02 | 4/0.5579/0.02 | 5/0.5579/0.02 | 6/0.5579/0.02 | 7/0.5579/0.02 | 8/0.5579/0.01 | 9/0.5579/0.01 | 10/0.5579/0.01 | 11/0.5789/0.01 | 12/0.5789/0.01 | 13/0.5895/0.01 | 14/0.6105/0.005 | 15/0.6316/0.005 | 16/0.6421/0.005 | 17/0.6737/0.005 | 18/0.6737/0.005 | 19/0.6526/0.005 | 20/0.6632/0.0025 | 21/0.6526/0.0025 | 22/0.6632/0.0025 | 23/0.6737/0.0025 | 24/0.6842/0.0025 | 25/0.6842/0.0025 | 26/0.6842/0.00125 | 27/0.6842/0.00125 | 28/0.6737/0.00125 | 29/0.6737/0.00125 | 30/0.6737/0.00125 | 31/0.6737/0.00125 | 32/0.6632/0.000625 | 33/0.6632/0.000625 | 34/0.6632/0.000625 | 35/0.6842/0.000625 | 36/0.6947/0.000625 | 37/0.6947/0.000625 | 38/0.6842/0.0003125 | 39/0.6842/0.0003125 | 40/0.6842/0.0003125 | 41/0.6842/0.0003125 | 42/0.6842/0.0003125 | 43/0.6842/0.0003125 | 44/0.6842/0.00015625 | 45/0.6842/0.00015625 | 46/0.6842/0.00015625 | 47/0.6737/0.00015625 | 48/0.6842/0.00015625 | 49/0.6842/0.00015625 | 50/0.6842/7.8125e-05 | 51/0.6842/7.8125e-05 | 52/0.6842/7.8125e-05 | 53/0.6842/7.8125e-05 | 54/0.6842/7.8125e-05 | 55/0.6947/7.8125e-05 | 56/0.6947/3.90625e-05 | 57/0.6947/3.90625e-05 | 58/0.6947/3.90625e-05 | 59/0.6947/3.90625e-05 | 60/0.6947/3.90625e-05 | 61/0.6947/3.90625e-05 | 62/0.6947/1.953125e-05 | 63/0.6947/1.953125e-05 | 64/0.6947/1.953125e-05 | 65/0.6947/1.953125e-05 | 66/0.6947/1.953125e-05 | 67/0.6947/1.953125e-05 | 68/0.6947/9.765625e-06 | Accuracy: 0.1584\n",
      "Evaluating dd dataset using random method with a percentile of 50 against class members\n",
      "Training GCN on dd for 200 epochs:\n",
      "Epoch/train loss/val accuracy: "
     ]
    },
    {
     "name": "stderr",
     "output_type": "stream",
     "text": [
      "/opt/conda/lib/python3.10/site-packages/torch_geometric/deprecation.py:26: UserWarning: 'data.DataLoader' is deprecated, use 'loader.DataLoader' instead\n",
      "  warnings.warn(out)\n",
      "/opt/conda/lib/python3.10/site-packages/torch/cuda/amp/grad_scaler.py:125: UserWarning: torch.cuda.amp.GradScaler is enabled, but CUDA is not available.  Disabling.\n",
      "  warnings.warn(\n",
      "/opt/conda/lib/python3.10/site-packages/torch/amp/autocast_mode.py:250: UserWarning: User provided device_type of 'cuda', but CUDA is not available. Disabling\n",
      "  warnings.warn(\n"
     ]
    },
    {
     "name": "stdout",
     "output_type": "stream",
     "text": [
      "1/0.3729/0.02 | 2/0.6271/0.02 | 3/0.7034/0.02 | 4/0.6356/0.02 | 5/0.7203/0.02 | 6/0.6949/0.02 | 7/0.7034/0.02 | 8/0.7288/0.01 | 9/0.7542/0.01 | 10/0.7627/0.01 | 11/0.7542/0.01 | 12/0.7627/0.01 | 13/0.7458/0.01 | 14/0.7627/0.005 | 15/0.7288/0.005 | 16/0.7288/0.005 | 17/0.7373/0.005 | 18/0.7203/0.005 | 19/0.7373/0.005 | 20/0.7373/0.0025 | 21/0.7712/0.0025 | 22/0.7542/0.0025 | 23/0.7542/0.0025 | 24/0.7542/0.0025 | 25/0.7458/0.0025 | 26/0.7712/0.00125 | 27/0.7712/0.00125 | 28/0.7797/0.00125 | 29/0.7627/0.00125 | 30/0.7712/0.00125 | 31/0.7627/0.00125 | 32/0.7712/0.000625 | 33/0.7797/0.000625 | 34/0.7797/0.000625 | 35/0.7797/0.000625 | 36/0.7712/0.000625 | 37/0.7627/0.000625 | 38/0.7627/0.0003125 | 39/0.7797/0.0003125 | 40/0.7797/0.0003125 | 41/0.7797/0.0003125 | 42/0.7712/0.0003125 | 43/0.7712/0.0003125 | 44/0.7627/0.00015625 | 45/0.7627/0.00015625 | 46/0.7627/0.00015625 | 47/0.7627/0.00015625 | 48/0.7627/0.00015625 | 49/0.7712/0.00015625 | 50/0.7881/7.8125e-05 | 51/0.7797/7.8125e-05 | 52/0.7712/7.8125e-05 | 53/0.7712/7.8125e-05 | 54/0.7712/7.8125e-05 | 55/0.7712/7.8125e-05 | 56/0.7712/3.90625e-05 | 57/0.7712/3.90625e-05 | 58/0.7627/3.90625e-05 | 59/0.7712/3.90625e-05 | 60/0.7627/3.90625e-05 | 61/0.7627/3.90625e-05 | 62/0.7627/1.953125e-05 | 63/0.7712/1.953125e-05 | 64/0.7712/1.953125e-05 | 65/0.7712/1.953125e-05 | 66/0.7627/1.953125e-05 | 67/0.7712/1.953125e-05 | 68/0.7712/9.765625e-06 | Accuracy: 0.1681\n",
      "Evaluating dd dataset using random method with a percentile of 60 against class members\n",
      "Training GCN on dd for 200 epochs:\n",
      "Epoch/train loss/val accuracy: "
     ]
    },
    {
     "name": "stderr",
     "output_type": "stream",
     "text": [
      "/opt/conda/lib/python3.10/site-packages/torch_geometric/deprecation.py:26: UserWarning: 'data.DataLoader' is deprecated, use 'loader.DataLoader' instead\n",
      "  warnings.warn(out)\n",
      "/opt/conda/lib/python3.10/site-packages/torch/cuda/amp/grad_scaler.py:125: UserWarning: torch.cuda.amp.GradScaler is enabled, but CUDA is not available.  Disabling.\n",
      "  warnings.warn(\n",
      "/opt/conda/lib/python3.10/site-packages/torch/amp/autocast_mode.py:250: UserWarning: User provided device_type of 'cuda', but CUDA is not available. Disabling\n",
      "  warnings.warn(\n"
     ]
    },
    {
     "name": "stdout",
     "output_type": "stream",
     "text": [
      "1/0.5986/0.02 | 2/0.4718/0.02 | 3/0.6831/0.02 | 4/0.6620/0.02 | 5/0.6761/0.02 | 6/0.7183/0.02 | 7/0.5775/0.02 | 8/0.6761/0.02 | 9/0.5563/0.01 | 10/0.6056/0.01 | 11/0.5915/0.01 | 12/0.7465/0.01 | 13/0.6972/0.01 | 14/0.7324/0.01 | 15/0.7042/0.005 | 16/0.7394/0.005 | 17/0.7465/0.005 | 18/0.7676/0.005 | 19/0.7394/0.005 | 20/0.7324/0.005 | 21/0.7254/0.0025 | 22/0.7254/0.0025 | 23/0.7535/0.0025 | 24/0.7324/0.0025 | 25/0.7254/0.0025 | 26/0.7465/0.0025 | 27/0.7606/0.00125 | 28/0.7394/0.00125 | 29/0.7394/0.00125 | 30/0.7394/0.00125 | 31/0.7254/0.00125 | 32/0.7254/0.00125 | 33/0.7254/0.000625 | 34/0.7183/0.000625 | 35/0.7183/0.000625 | 36/0.7183/0.000625 | 37/0.7183/0.000625 | 38/0.7254/0.000625 | 39/0.7254/0.0003125 | 40/0.7254/0.0003125 | 41/0.7254/0.0003125 | 42/0.7254/0.0003125 | 43/0.7254/0.0003125 | 44/0.7254/0.0003125 | 45/0.7254/0.00015625 | 46/0.7254/0.00015625 | 47/0.7254/0.00015625 | 48/0.7254/0.00015625 | 49/0.7254/0.00015625 | 50/0.7254/0.00015625 | 51/0.7254/7.8125e-05 | 52/0.7324/7.8125e-05 | 53/0.7254/7.8125e-05 | 54/0.7254/7.8125e-05 | 55/0.7254/7.8125e-05 | 56/0.7254/7.8125e-05 | 57/0.7254/3.90625e-05 | 58/0.7254/3.90625e-05 | 59/0.7254/3.90625e-05 | 60/0.7254/3.90625e-05 | 61/0.7254/3.90625e-05 | 62/0.7254/3.90625e-05 | 63/0.7254/1.953125e-05 | 64/0.7254/1.953125e-05 | 65/0.7254/1.953125e-05 | 66/0.7254/1.953125e-05 | 67/0.7254/1.953125e-05 | 68/0.7254/1.953125e-05 | 69/0.7254/9.765625e-06 | Accuracy: 0.1695\n",
      "Evaluating dd dataset using random method with a percentile of 70 against class members\n",
      "Training GCN on dd for 200 epochs:\n",
      "Epoch/train loss/val accuracy: "
     ]
    },
    {
     "name": "stderr",
     "output_type": "stream",
     "text": [
      "/opt/conda/lib/python3.10/site-packages/torch_geometric/deprecation.py:26: UserWarning: 'data.DataLoader' is deprecated, use 'loader.DataLoader' instead\n",
      "  warnings.warn(out)\n",
      "/opt/conda/lib/python3.10/site-packages/torch/cuda/amp/grad_scaler.py:125: UserWarning: torch.cuda.amp.GradScaler is enabled, but CUDA is not available.  Disabling.\n",
      "  warnings.warn(\n",
      "/opt/conda/lib/python3.10/site-packages/torch/amp/autocast_mode.py:250: UserWarning: User provided device_type of 'cuda', but CUDA is not available. Disabling\n",
      "  warnings.warn(\n"
     ]
    },
    {
     "name": "stdout",
     "output_type": "stream",
     "text": [
      "1/0.5939/0.02 | 2/0.5939/0.02 | 3/0.5939/0.02 | 4/0.6000/0.02 | 5/0.7091/0.02 | 6/0.4061/0.02 | 7/0.7576/0.02 | 8/0.6727/0.02 | 9/0.5273/0.02 | 10/0.7515/0.02 | 11/0.6606/0.02 | 12/0.6848/0.02 | 13/0.7515/0.01 | 14/0.6848/0.01 | 15/0.7697/0.01 | 16/0.7697/0.01 | 17/0.7758/0.01 | 18/0.7333/0.01 | 19/0.7394/0.005 | 20/0.7576/0.005 | 21/0.7455/0.005 | 22/0.7576/0.005 | 23/0.8000/0.005 | 24/0.7697/0.005 | 25/0.7333/0.0025 | 26/0.7576/0.0025 | 27/0.7818/0.0025 | 28/0.7697/0.0025 | 29/0.7515/0.0025 | 30/0.7212/0.0025 | 31/0.7394/0.00125 | 32/0.7394/0.00125 | 33/0.7455/0.00125 | 34/0.7515/0.00125 | 35/0.7455/0.00125 | 36/0.7636/0.00125 | 37/0.7576/0.000625 | 38/0.7576/0.000625 | 39/0.7576/0.000625 | 40/0.7455/0.000625 | 41/0.7636/0.000625 | 42/0.7576/0.000625 | 43/0.7636/0.0003125 | 44/0.7576/0.0003125 | 45/0.7697/0.0003125 | 46/0.7576/0.0003125 | 47/0.7636/0.0003125 | 48/0.7576/0.0003125 | 49/0.7697/0.00015625 | 50/0.7576/0.00015625 | 51/0.7636/0.00015625 | 52/0.7636/0.00015625 | 53/0.7576/0.00015625 | 54/0.7636/0.00015625 | 55/0.7576/7.8125e-05 | 56/0.7515/7.8125e-05 | 57/0.7636/7.8125e-05 | 58/0.7636/7.8125e-05 | 59/0.7576/7.8125e-05 | 60/0.7576/7.8125e-05 | 61/0.7636/3.90625e-05 | 62/0.7636/3.90625e-05 | 63/0.7636/3.90625e-05 | 64/0.7636/3.90625e-05 | 65/0.7636/3.90625e-05 | 66/0.7636/3.90625e-05 | 67/0.7636/1.953125e-05 | 68/0.7636/1.953125e-05 | 69/0.7636/1.953125e-05 | 70/0.7636/1.953125e-05 | 71/0.7576/1.953125e-05 | 72/0.7636/1.953125e-05 | 73/0.7636/9.765625e-06 | Accuracy: 0.1384\n",
      "Evaluating dd dataset using random method with a percentile of 80 against class members\n",
      "Training GCN on dd for 200 epochs:\n",
      "Epoch/train loss/val accuracy: "
     ]
    },
    {
     "name": "stderr",
     "output_type": "stream",
     "text": [
      "/opt/conda/lib/python3.10/site-packages/torch_geometric/deprecation.py:26: UserWarning: 'data.DataLoader' is deprecated, use 'loader.DataLoader' instead\n",
      "  warnings.warn(out)\n",
      "/opt/conda/lib/python3.10/site-packages/torch/cuda/amp/grad_scaler.py:125: UserWarning: torch.cuda.amp.GradScaler is enabled, but CUDA is not available.  Disabling.\n",
      "  warnings.warn(\n",
      "/opt/conda/lib/python3.10/site-packages/torch/amp/autocast_mode.py:250: UserWarning: User provided device_type of 'cuda', but CUDA is not available. Disabling\n",
      "  warnings.warn(\n"
     ]
    },
    {
     "name": "stdout",
     "output_type": "stream",
     "text": [
      "1/0.6085/0.02 | 2/0.6032/0.02 | 3/0.6085/0.02 | 4/0.6614/0.02 | 5/0.6667/0.02 | 6/0.4127/0.02 | 7/0.3915/0.02 | 8/0.6984/0.02 | 9/0.6349/0.02 | 10/0.6561/0.02 | 11/0.6455/0.02 | 12/0.6984/0.02 | 13/0.7143/0.02 | 14/0.7302/0.01 | 15/0.7249/0.01 | 16/0.7249/0.01 | 17/0.7090/0.01 | 18/0.7249/0.01 | 19/0.7037/0.01 | 20/0.7302/0.005 | 21/0.7196/0.005 | 22/0.7143/0.005 | 23/0.7143/0.005 | 24/0.6984/0.005 | 25/0.7249/0.005 | 26/0.7090/0.0025 | 27/0.7037/0.0025 | 28/0.7196/0.0025 | 29/0.7196/0.0025 | 30/0.7037/0.0025 | 31/0.7143/0.0025 | 32/0.7143/0.00125 | 33/0.7143/0.00125 | 34/0.7196/0.00125 | 35/0.7143/0.00125 | 36/0.7090/0.00125 | 37/0.6984/0.00125 | 38/0.7090/0.000625 | 39/0.7302/0.000625 | 40/0.7249/0.000625 | 41/0.7249/0.000625 | 42/0.7249/0.000625 | 43/0.7196/0.000625 | 44/0.7249/0.0003125 | 45/0.7196/0.0003125 | 46/0.7196/0.0003125 | 47/0.7196/0.0003125 | 48/0.7143/0.0003125 | 49/0.7249/0.0003125 | 50/0.7143/0.00015625 | 51/0.7090/0.00015625 | 52/0.7249/0.00015625 | 53/0.7196/0.00015625 | 54/0.7196/0.00015625 | 55/0.7143/0.00015625 | 56/0.7249/7.8125e-05 | 57/0.7249/7.8125e-05 | 58/0.7196/7.8125e-05 | 59/0.7249/7.8125e-05 | 60/0.7249/7.8125e-05 | 61/0.7249/7.8125e-05 | 62/0.7196/3.90625e-05 | 63/0.7196/3.90625e-05 | 64/0.7196/3.90625e-05 | 65/0.7249/3.90625e-05 | 66/0.7196/3.90625e-05 | 67/0.7143/3.90625e-05 | 68/0.7196/1.953125e-05 | 69/0.7143/1.953125e-05 | 70/0.7196/1.953125e-05 | 71/0.7196/1.953125e-05 | 72/0.7249/1.953125e-05 | 73/0.7196/1.953125e-05 | 74/0.7196/9.765625e-06 | Accuracy: 0.1949\n",
      "Evaluating dd dataset using random method with a percentile of 90 against class members\n",
      "Training GCN on dd for 200 epochs:\n",
      "Epoch/train loss/val accuracy: "
     ]
    },
    {
     "name": "stderr",
     "output_type": "stream",
     "text": [
      "/opt/conda/lib/python3.10/site-packages/torch_geometric/deprecation.py:26: UserWarning: 'data.DataLoader' is deprecated, use 'loader.DataLoader' instead\n",
      "  warnings.warn(out)\n",
      "/opt/conda/lib/python3.10/site-packages/torch/cuda/amp/grad_scaler.py:125: UserWarning: torch.cuda.amp.GradScaler is enabled, but CUDA is not available.  Disabling.\n",
      "  warnings.warn(\n",
      "/opt/conda/lib/python3.10/site-packages/torch/amp/autocast_mode.py:250: UserWarning: User provided device_type of 'cuda', but CUDA is not available. Disabling\n",
      "  warnings.warn(\n"
     ]
    },
    {
     "name": "stdout",
     "output_type": "stream",
     "text": [
      "1/0.5943/0.02 | 2/0.6462/0.02 | 3/0.6321/0.02 | 4/0.6462/0.02 | 5/0.5094/0.02 | 6/0.6981/0.02 | 7/0.7170/0.02 | 8/0.6840/0.02 | 9/0.6792/0.02 | 10/0.6509/0.02 | 11/0.7264/0.02 | 12/0.7217/0.01 | 13/0.6887/0.01 | 14/0.7217/0.01 | 15/0.6981/0.01 | 16/0.7123/0.01 | 17/0.6934/0.01 | 18/0.7170/0.005 | 19/0.7123/0.005 | 20/0.7311/0.005 | 21/0.7170/0.005 | 22/0.7170/0.005 | 23/0.7123/0.005 | 24/0.7217/0.0025 | 25/0.7264/0.0025 | 26/0.7217/0.0025 | 27/0.7217/0.0025 | 28/0.7123/0.0025 | 29/0.7217/0.0025 | 30/0.7217/0.00125 | 31/0.7217/0.00125 | 32/0.7170/0.00125 | 33/0.7217/0.00125 | 34/0.7217/0.00125 | 35/0.7311/0.00125 | 36/0.7311/0.000625 | 37/0.7311/0.000625 | 38/0.7311/0.000625 | 39/0.7311/0.000625 | 40/0.7311/0.000625 | 41/0.7311/0.000625 | 42/0.7311/0.0003125 | 43/0.7311/0.0003125 | 44/0.7264/0.0003125 | 45/0.7264/0.0003125 | 46/0.7264/0.0003125 | 47/0.7264/0.0003125 | 48/0.7264/0.00015625 | 49/0.7264/0.00015625 | 50/0.7264/0.00015625 | 51/0.7264/0.00015625 | 52/0.7311/0.00015625 | 53/0.7264/0.00015625 | 54/0.7264/7.8125e-05 | 55/0.7311/7.8125e-05 | 56/0.7264/7.8125e-05 | 57/0.7264/7.8125e-05 | 58/0.7264/7.8125e-05 | 59/0.7311/7.8125e-05 | 60/0.7311/3.90625e-05 | 61/0.7311/3.90625e-05 | 62/0.7264/3.90625e-05 | 63/0.7264/3.90625e-05 | 64/0.7311/3.90625e-05 | 65/0.7264/3.90625e-05 | 66/0.7311/1.953125e-05 | 67/0.7264/1.953125e-05 | 68/0.7264/1.953125e-05 | 69/0.7264/1.953125e-05 | 70/0.7264/1.953125e-05 | 71/0.7311/1.953125e-05 | 72/0.7264/9.765625e-06 | Accuracy: 0.1864\n",
      "Evaluating dd dataset using graph_order method with a percentile of 40 against class members\n",
      "Training GCN on dd for 200 epochs:\n",
      "Epoch/train loss/val accuracy: "
     ]
    },
    {
     "name": "stderr",
     "output_type": "stream",
     "text": [
      "/opt/conda/lib/python3.10/site-packages/torch_geometric/deprecation.py:26: UserWarning: 'data.DataLoader' is deprecated, use 'loader.DataLoader' instead\n",
      "  warnings.warn(out)\n",
      "/opt/conda/lib/python3.10/site-packages/torch/cuda/amp/grad_scaler.py:125: UserWarning: torch.cuda.amp.GradScaler is enabled, but CUDA is not available.  Disabling.\n",
      "  warnings.warn(\n",
      "/opt/conda/lib/python3.10/site-packages/torch/amp/autocast_mode.py:250: UserWarning: User provided device_type of 'cuda', but CUDA is not available. Disabling\n",
      "  warnings.warn(\n"
     ]
    },
    {
     "name": "stdout",
     "output_type": "stream",
     "text": [
      "1/0.6211/0.02 | 2/0.3684/0.02 | 3/0.5684/0.02 | 4/0.4526/0.02 | 5/0.4842/0.02 | 6/0.4211/0.02 | 7/0.4737/0.02 | 8/0.6526/0.02 | 9/0.6947/0.01 | 10/0.7158/0.01 | 11/0.7368/0.01 | 12/0.7263/0.01 | 13/0.7263/0.01 | 14/0.6737/0.01 | 15/0.7158/0.005 | 16/0.7368/0.005 | 17/0.7368/0.005 | 18/0.7158/0.005 | 19/0.7368/0.005 | 20/0.7579/0.005 | 21/0.7579/0.0025 | 22/0.7474/0.0025 | 23/0.7474/0.0025 | 24/0.7579/0.0025 | 25/0.7579/0.0025 | 26/0.7579/0.0025 | 27/0.7789/0.00125 | 28/0.7895/0.00125 | 29/0.7895/0.00125 | 30/0.7895/0.00125 | 31/0.7789/0.00125 | 32/0.7789/0.00125 | 33/0.7789/0.000625 | 34/0.7579/0.000625 | 35/0.7684/0.000625 | 36/0.7789/0.000625 | 37/0.7789/0.000625 | 38/0.7684/0.000625 | 39/0.7789/0.0003125 | 40/0.7684/0.0003125 | 41/0.7684/0.0003125 | 42/0.7684/0.0003125 | 43/0.7684/0.0003125 | 44/0.7684/0.0003125 | 45/0.7579/0.00015625 | 46/0.7684/0.00015625 | 47/0.7684/0.00015625 | 48/0.7684/0.00015625 | 49/0.7684/0.00015625 | 50/0.7579/0.00015625 | 51/0.7684/7.8125e-05 | 52/0.7684/7.8125e-05 | 53/0.7684/7.8125e-05 | 54/0.7684/7.8125e-05 | 55/0.7684/7.8125e-05 | 56/0.7684/7.8125e-05 | 57/0.7684/3.90625e-05 | 58/0.7684/3.90625e-05 | 59/0.7684/3.90625e-05 | 60/0.7684/3.90625e-05 | 61/0.7684/3.90625e-05 | 62/0.7684/3.90625e-05 | 63/0.7684/1.953125e-05 | 64/0.7684/1.953125e-05 | 65/0.7684/1.953125e-05 | 66/0.7684/1.953125e-05 | 67/0.7579/1.953125e-05 | 68/0.7684/1.953125e-05 | 69/0.7684/9.765625e-06 | Accuracy: 0.0864\n",
      "Evaluating dd dataset using graph_order method with a percentile of 50 against class members\n",
      "Training GCN on dd for 200 epochs:\n",
      "Epoch/train loss/val accuracy: "
     ]
    },
    {
     "name": "stderr",
     "output_type": "stream",
     "text": [
      "/opt/conda/lib/python3.10/site-packages/torch_geometric/deprecation.py:26: UserWarning: 'data.DataLoader' is deprecated, use 'loader.DataLoader' instead\n",
      "  warnings.warn(out)\n",
      "/opt/conda/lib/python3.10/site-packages/torch/cuda/amp/grad_scaler.py:125: UserWarning: torch.cuda.amp.GradScaler is enabled, but CUDA is not available.  Disabling.\n",
      "  warnings.warn(\n",
      "/opt/conda/lib/python3.10/site-packages/torch/amp/autocast_mode.py:250: UserWarning: User provided device_type of 'cuda', but CUDA is not available. Disabling\n",
      "  warnings.warn(\n"
     ]
    },
    {
     "name": "stdout",
     "output_type": "stream",
     "text": [
      "1/0.5085/0.02 | 2/0.5085/0.02 | 3/0.5085/0.02 | 4/0.5339/0.02 | 5/0.5508/0.02 | 6/0.5424/0.02 | 7/0.6695/0.02 | 8/0.6271/0.01 | 9/0.6441/0.01 | 10/0.6525/0.01 | 11/0.6610/0.01 | 12/0.6356/0.01 | 13/0.6017/0.01 | 14/0.6271/0.005 | 15/0.6525/0.005 | 16/0.6695/0.005 | 17/0.6695/0.005 | 18/0.6102/0.005 | 19/0.6102/0.005 | 20/0.6186/0.0025 | 21/0.6271/0.0025 | 22/0.6271/0.0025 | 23/0.6356/0.0025 | 24/0.6186/0.0025 | 25/0.6186/0.0025 | 26/0.6186/0.00125 | 27/0.6102/0.00125 | 28/0.6186/0.00125 | 29/0.6102/0.00125 | 30/0.6271/0.00125 | 31/0.6186/0.00125 | 32/0.6186/0.000625 | 33/0.6186/0.000625 | 34/0.6017/0.000625 | 35/0.6102/0.000625 | 36/0.6271/0.000625 | 37/0.6271/0.000625 | 38/0.6356/0.0003125 | 39/0.6271/0.0003125 | 40/0.6186/0.0003125 | 41/0.6186/0.0003125 | 42/0.6186/0.0003125 | 43/0.6271/0.0003125 | 44/0.6271/0.00015625 | 45/0.6271/0.00015625 | 46/0.6271/0.00015625 | 47/0.6271/0.00015625 | 48/0.6271/0.00015625 | 49/0.6271/0.00015625 | 50/0.6102/7.8125e-05 | 51/0.6102/7.8125e-05 | 52/0.6186/7.8125e-05 | 53/0.6102/7.8125e-05 | 54/0.6271/7.8125e-05 | 55/0.6271/7.8125e-05 | 56/0.6271/3.90625e-05 | 57/0.6271/3.90625e-05 | 58/0.6271/3.90625e-05 | 59/0.6271/3.90625e-05 | 60/0.6271/3.90625e-05 | 61/0.6271/3.90625e-05 | 62/0.6271/1.953125e-05 | 63/0.6271/1.953125e-05 | 64/0.6271/1.953125e-05 | 65/0.6271/1.953125e-05 | 66/0.6271/1.953125e-05 | 67/0.6271/1.953125e-05 | 68/0.6271/9.765625e-06 | Accuracy: 0.1020\n",
      "Evaluating dd dataset using graph_order method with a percentile of 60 against class members\n",
      "Training GCN on dd for 200 epochs:\n",
      "Epoch/train loss/val accuracy: "
     ]
    },
    {
     "name": "stderr",
     "output_type": "stream",
     "text": [
      "/opt/conda/lib/python3.10/site-packages/torch_geometric/deprecation.py:26: UserWarning: 'data.DataLoader' is deprecated, use 'loader.DataLoader' instead\n",
      "  warnings.warn(out)\n",
      "/opt/conda/lib/python3.10/site-packages/torch/cuda/amp/grad_scaler.py:125: UserWarning: torch.cuda.amp.GradScaler is enabled, but CUDA is not available.  Disabling.\n",
      "  warnings.warn(\n",
      "/opt/conda/lib/python3.10/site-packages/torch/amp/autocast_mode.py:250: UserWarning: User provided device_type of 'cuda', but CUDA is not available. Disabling\n",
      "  warnings.warn(\n"
     ]
    },
    {
     "name": "stdout",
     "output_type": "stream",
     "text": [
      "1/0.5986/0.02 | 2/0.4296/0.02 | 3/0.4296/0.02 | 4/0.7254/0.02 | 5/0.7183/0.02 | 6/0.5493/0.02 | 7/0.5915/0.02 | 8/0.7746/0.02 | 9/0.7958/0.01 | 10/0.7817/0.01 | 11/0.7324/0.01 | 12/0.6972/0.01 | 13/0.7042/0.01 | 14/0.7113/0.01 | 15/0.7113/0.005 | 16/0.7113/0.005 | 17/0.7183/0.005 | 18/0.7254/0.005 | 19/0.7394/0.005 | 20/0.7746/0.005 | 21/0.7676/0.0025 | 22/0.7606/0.0025 | 23/0.7676/0.0025 | 24/0.7465/0.0025 | 25/0.7254/0.0025 | 26/0.7465/0.0025 | 27/0.7324/0.00125 | 28/0.7465/0.00125 | 29/0.7394/0.00125 | 30/0.7254/0.00125 | 31/0.7254/0.00125 | 32/0.7113/0.00125 | 33/0.7113/0.000625 | 34/0.7254/0.000625 | 35/0.7254/0.000625 | 36/0.7254/0.000625 | 37/0.7254/0.000625 | 38/0.7254/0.000625 | 39/0.7183/0.0003125 | 40/0.7254/0.0003125 | 41/0.7254/0.0003125 | 42/0.7254/0.0003125 | 43/0.7254/0.0003125 | 44/0.7254/0.0003125 | 45/0.7254/0.00015625 | 46/0.7254/0.00015625 | 47/0.7254/0.00015625 | 48/0.7324/0.00015625 | 49/0.7254/0.00015625 | 50/0.7254/0.00015625 | 51/0.7254/7.8125e-05 | 52/0.7254/7.8125e-05 | 53/0.7254/7.8125e-05 | 54/0.7324/7.8125e-05 | 55/0.7324/7.8125e-05 | 56/0.7254/7.8125e-05 | 57/0.7254/3.90625e-05 | 58/0.7254/3.90625e-05 | 59/0.7254/3.90625e-05 | 60/0.7324/3.90625e-05 | 61/0.7254/3.90625e-05 | 62/0.7254/3.90625e-05 | 63/0.7254/1.953125e-05 | 64/0.7254/1.953125e-05 | 65/0.7254/1.953125e-05 | 66/0.7254/1.953125e-05 | 67/0.7254/1.953125e-05 | 68/0.7254/1.953125e-05 | 69/0.7254/9.765625e-06 | Accuracy: 0.0511\n",
      "Evaluating dd dataset using graph_order method with a percentile of 70 against class members\n",
      "Training GCN on dd for 200 epochs:\n",
      "Epoch/train loss/val accuracy: "
     ]
    },
    {
     "name": "stderr",
     "output_type": "stream",
     "text": [
      "/opt/conda/lib/python3.10/site-packages/torch_geometric/deprecation.py:26: UserWarning: 'data.DataLoader' is deprecated, use 'loader.DataLoader' instead\n",
      "  warnings.warn(out)\n",
      "/opt/conda/lib/python3.10/site-packages/torch/cuda/amp/grad_scaler.py:125: UserWarning: torch.cuda.amp.GradScaler is enabled, but CUDA is not available.  Disabling.\n",
      "  warnings.warn(\n",
      "/opt/conda/lib/python3.10/site-packages/torch/amp/autocast_mode.py:250: UserWarning: User provided device_type of 'cuda', but CUDA is not available. Disabling\n",
      "  warnings.warn(\n"
     ]
    },
    {
     "name": "stdout",
     "output_type": "stream",
     "text": [
      "1/0.5636/0.02 | 2/0.6364/0.02 | 3/0.6061/0.02 | 4/0.6121/0.02 | 5/0.7879/0.02 | 6/0.6000/0.02 | 7/0.6545/0.02 | 8/0.6061/0.01 | 9/0.6485/0.01 | 10/0.7212/0.01 | 11/0.7394/0.01 | 12/0.7879/0.01 | 13/0.7333/0.01 | 14/0.7818/0.005 | 15/0.8000/0.005 | 16/0.8121/0.005 | 17/0.8061/0.005 | 18/0.8061/0.005 | 19/0.7879/0.005 | 20/0.8000/0.0025 | 21/0.8000/0.0025 | 22/0.8000/0.0025 | 23/0.8000/0.0025 | 24/0.7879/0.0025 | 25/0.7697/0.0025 | 26/0.7879/0.00125 | 27/0.8000/0.00125 | 28/0.7879/0.00125 | 29/0.7758/0.00125 | 30/0.7758/0.00125 | 31/0.7939/0.00125 | 32/0.7879/0.000625 | 33/0.7939/0.000625 | 34/0.7939/0.000625 | 35/0.7939/0.000625 | 36/0.7939/0.000625 | 37/0.7939/0.000625 | 38/0.7939/0.0003125 | 39/0.7939/0.0003125 | 40/0.7939/0.0003125 | 41/0.7939/0.0003125 | 42/0.8000/0.0003125 | 43/0.8061/0.0003125 | 44/0.8061/0.00015625 | 45/0.8000/0.00015625 | 46/0.8121/0.00015625 | 47/0.8061/0.00015625 | 48/0.8000/0.00015625 | 49/0.7939/0.00015625 | 50/0.8000/7.8125e-05 | 51/0.8000/7.8125e-05 | 52/0.8000/7.8125e-05 | 53/0.8061/7.8125e-05 | 54/0.8000/7.8125e-05 | 55/0.8000/7.8125e-05 | 56/0.8000/3.90625e-05 | 57/0.8000/3.90625e-05 | 58/0.8000/3.90625e-05 | 59/0.8000/3.90625e-05 | 60/0.8000/3.90625e-05 | 61/0.8061/3.90625e-05 | 62/0.8000/1.953125e-05 | 63/0.8000/1.953125e-05 | 64/0.8061/1.953125e-05 | 65/0.8061/1.953125e-05 | 66/0.8000/1.953125e-05 | 67/0.8000/1.953125e-05 | 68/0.8061/9.765625e-06 | Accuracy: 0.1303\n",
      "Evaluating dd dataset using graph_order method with a percentile of 80 against class members\n",
      "Training GCN on dd for 200 epochs:\n",
      "Epoch/train loss/val accuracy: "
     ]
    },
    {
     "name": "stderr",
     "output_type": "stream",
     "text": [
      "/opt/conda/lib/python3.10/site-packages/torch_geometric/deprecation.py:26: UserWarning: 'data.DataLoader' is deprecated, use 'loader.DataLoader' instead\n",
      "  warnings.warn(out)\n",
      "/opt/conda/lib/python3.10/site-packages/torch/cuda/amp/grad_scaler.py:125: UserWarning: torch.cuda.amp.GradScaler is enabled, but CUDA is not available.  Disabling.\n",
      "  warnings.warn(\n",
      "/opt/conda/lib/python3.10/site-packages/torch/amp/autocast_mode.py:250: UserWarning: User provided device_type of 'cuda', but CUDA is not available. Disabling\n",
      "  warnings.warn(\n"
     ]
    },
    {
     "name": "stdout",
     "output_type": "stream",
     "text": [
      "1/0.6296/0.02 | 2/0.6296/0.02 | 3/0.6508/0.02 | 4/0.7090/0.02 | 5/0.6296/0.02 | 6/0.6508/0.02 | 7/0.6667/0.02 | 8/0.7090/0.01 | 9/0.6931/0.01 | 10/0.7143/0.01 | 11/0.7302/0.01 | 12/0.7090/0.01 | 13/0.6561/0.01 | 14/0.7302/0.005 | 15/0.7196/0.005 | 16/0.7143/0.005 | 17/0.6825/0.005 | 18/0.7090/0.005 | 19/0.6825/0.005 | 20/0.7143/0.0025 | 21/0.6984/0.0025 | 22/0.7090/0.0025 | 23/0.7143/0.0025 | 24/0.7249/0.0025 | 25/0.7302/0.0025 | 26/0.7196/0.00125 | 27/0.7143/0.00125 | 28/0.7143/0.00125 | 29/0.7143/0.00125 | 30/0.7143/0.00125 | 31/0.7196/0.00125 | 32/0.7249/0.000625 | 33/0.7196/0.000625 | 34/0.7196/0.000625 | 35/0.7196/0.000625 | 36/0.7196/0.000625 | 37/0.7249/0.000625 | 38/0.7302/0.0003125 | 39/0.7302/0.0003125 | 40/0.7302/0.0003125 | 41/0.7302/0.0003125 | 42/0.7302/0.0003125 | 43/0.7249/0.0003125 | 44/0.7249/0.00015625 | 45/0.7196/0.00015625 | 46/0.7249/0.00015625 | 47/0.7302/0.00015625 | 48/0.7143/0.00015625 | 49/0.7302/0.00015625 | 50/0.7302/7.8125e-05 | 51/0.7302/7.8125e-05 | 52/0.7302/7.8125e-05 | 53/0.7302/7.8125e-05 | 54/0.7249/7.8125e-05 | 55/0.7249/7.8125e-05 | 56/0.7302/3.90625e-05 | 57/0.7302/3.90625e-05 | 58/0.7302/3.90625e-05 | 59/0.7302/3.90625e-05 | 60/0.7249/3.90625e-05 | 61/0.7302/3.90625e-05 | 62/0.7196/1.953125e-05 | 63/0.7196/1.953125e-05 | 64/0.7249/1.953125e-05 | 65/0.7302/1.953125e-05 | 66/0.7302/1.953125e-05 | 67/0.7302/1.953125e-05 | 68/0.7302/9.765625e-06 | Accuracy: 0.0638\n",
      "Evaluating dd dataset using graph_order method with a percentile of 90 against class members\n",
      "Training GCN on dd for 200 epochs:\n",
      "Epoch/train loss/val accuracy: "
     ]
    },
    {
     "name": "stderr",
     "output_type": "stream",
     "text": [
      "/opt/conda/lib/python3.10/site-packages/torch_geometric/deprecation.py:26: UserWarning: 'data.DataLoader' is deprecated, use 'loader.DataLoader' instead\n",
      "  warnings.warn(out)\n",
      "/opt/conda/lib/python3.10/site-packages/torch/cuda/amp/grad_scaler.py:125: UserWarning: torch.cuda.amp.GradScaler is enabled, but CUDA is not available.  Disabling.\n",
      "  warnings.warn(\n",
      "/opt/conda/lib/python3.10/site-packages/torch/amp/autocast_mode.py:250: UserWarning: User provided device_type of 'cuda', but CUDA is not available. Disabling\n",
      "  warnings.warn(\n"
     ]
    },
    {
     "name": "stdout",
     "output_type": "stream",
     "text": [
      "1/0.5915/0.02 | 2/0.5915/0.02 | 3/0.6432/0.02 | 4/0.6995/0.02 | 5/0.6338/0.02 | 6/0.7465/0.02 | 7/0.6948/0.02 | 8/0.7418/0.01 | 9/0.7559/0.01 | 10/0.7136/0.01 | 11/0.7183/0.01 | 12/0.6526/0.01 | 13/0.7183/0.01 | 14/0.7042/0.005 | 15/0.6854/0.005 | 16/0.6995/0.005 | 17/0.7089/0.005 | 18/0.7324/0.005 | 19/0.7277/0.005 | 20/0.7230/0.0025 | 21/0.7230/0.0025 | 22/0.7371/0.0025 | 23/0.7277/0.0025 | 24/0.7183/0.0025 | 25/0.7136/0.0025 | 26/0.6948/0.00125 | 27/0.7136/0.00125 | 28/0.7230/0.00125 | 29/0.7230/0.00125 | 30/0.7089/0.00125 | 31/0.7136/0.00125 | 32/0.7136/0.000625 | 33/0.7089/0.000625 | 34/0.7183/0.000625 | 35/0.7183/0.000625 | 36/0.7183/0.000625 | 37/0.7183/0.000625 | 38/0.7183/0.0003125 | 39/0.7183/0.0003125 | 40/0.7230/0.0003125 | 41/0.7230/0.0003125 | 42/0.7136/0.0003125 | 43/0.7183/0.0003125 | 44/0.7136/0.00015625 | 45/0.7136/0.00015625 | 46/0.7183/0.00015625 | 47/0.7183/0.00015625 | 48/0.7136/0.00015625 | 49/0.7136/0.00015625 | 50/0.7230/7.8125e-05 | 51/0.7230/7.8125e-05 | 52/0.7183/7.8125e-05 | 53/0.7136/7.8125e-05 | 54/0.7136/7.8125e-05 | 55/0.7183/7.8125e-05 | 56/0.7183/3.90625e-05 | 57/0.7230/3.90625e-05 | 58/0.7183/3.90625e-05 | 59/0.7183/3.90625e-05 | 60/0.7230/3.90625e-05 | 61/0.7230/3.90625e-05 | 62/0.7183/1.953125e-05 | 63/0.7183/1.953125e-05 | 64/0.7183/1.953125e-05 | 65/0.7136/1.953125e-05 | 66/0.7183/1.953125e-05 | 67/0.7183/1.953125e-05 | 68/0.7183/9.765625e-06 | Accuracy: 0.1282\n",
      "Evaluating dd dataset using cos_sim method with a percentile of 40 against class members\n",
      "Training GCN on dd for 200 epochs:\n",
      "Epoch/train loss/val accuracy: "
     ]
    },
    {
     "name": "stderr",
     "output_type": "stream",
     "text": [
      "/opt/conda/lib/python3.10/site-packages/torch_geometric/deprecation.py:26: UserWarning: 'data.DataLoader' is deprecated, use 'loader.DataLoader' instead\n",
      "  warnings.warn(out)\n",
      "/opt/conda/lib/python3.10/site-packages/torch/cuda/amp/grad_scaler.py:125: UserWarning: torch.cuda.amp.GradScaler is enabled, but CUDA is not available.  Disabling.\n",
      "  warnings.warn(\n",
      "/opt/conda/lib/python3.10/site-packages/torch/amp/autocast_mode.py:250: UserWarning: User provided device_type of 'cuda', but CUDA is not available. Disabling\n",
      "  warnings.warn(\n"
     ]
    },
    {
     "name": "stdout",
     "output_type": "stream",
     "text": [
      "1/0.6316/0.02 | 2/0.6316/0.02 | 3/0.6421/0.02 | 4/0.6421/0.02 | 5/0.7368/0.02 | 6/0.6316/0.02 | 7/0.5474/0.02 | 8/0.4526/0.02 | 9/0.7263/0.02 | 10/0.4211/0.02 | 11/0.4737/0.02 | 12/0.4000/0.02 | 13/0.4316/0.02 | 14/0.7158/0.02 | 15/0.6526/0.02 | 16/0.6632/0.02 | 17/0.7263/0.02 | 18/0.6947/0.02 | 19/0.7684/0.01 | 20/0.7474/0.01 | 21/0.7789/0.01 | 22/0.7789/0.01 | 23/0.7368/0.01 | 24/0.8000/0.01 | 25/0.7895/0.005 | 26/0.7895/0.005 | 27/0.8000/0.005 | 28/0.8211/0.005 | 29/0.7789/0.005 | 30/0.7684/0.005 | 31/0.7579/0.0025 | 32/0.7579/0.0025 | 33/0.8000/0.0025 | 34/0.8000/0.0025 | 35/0.7895/0.0025 | 36/0.7789/0.0025 | 37/0.7684/0.00125 | 38/0.7789/0.00125 | 39/0.8000/0.00125 | 40/0.7789/0.00125 | 41/0.7684/0.00125 | 42/0.7684/0.00125 | 43/0.7579/0.000625 | 44/0.7579/0.000625 | 45/0.7579/0.000625 | 46/0.7789/0.000625 | 47/0.8000/0.000625 | 48/0.7895/0.000625 | 49/0.7895/0.0003125 | 50/0.7895/0.0003125 | 51/0.7895/0.0003125 | 52/0.7895/0.0003125 | 53/0.7895/0.0003125 | 54/0.7895/0.0003125 | 55/0.7895/0.00015625 | 56/0.7895/0.00015625 | 57/0.7895/0.00015625 | 58/0.8000/0.00015625 | 59/0.7895/0.00015625 | 60/0.7895/0.00015625 | 61/0.7895/7.8125e-05 | 62/0.7895/7.8125e-05 | 63/0.7895/7.8125e-05 | 64/0.7895/7.8125e-05 | 65/0.7895/7.8125e-05 | 66/0.7895/7.8125e-05 | 67/0.7895/3.90625e-05 | 68/0.7895/3.90625e-05 | 69/0.7895/3.90625e-05 | 70/0.7895/3.90625e-05 | 71/0.7895/3.90625e-05 | 72/0.7895/3.90625e-05 | 73/0.7895/1.953125e-05 | 74/0.7895/1.953125e-05 | 75/0.7895/1.953125e-05 | 76/0.7895/1.953125e-05 | 77/0.7895/1.953125e-05 | 78/0.7895/1.953125e-05 | 79/0.7895/9.765625e-06 | Accuracy: 0.1501\n",
      "Evaluating dd dataset using cos_sim method with a percentile of 50 against class members\n",
      "Training GCN on dd for 200 epochs:\n",
      "Epoch/train loss/val accuracy: "
     ]
    },
    {
     "name": "stderr",
     "output_type": "stream",
     "text": [
      "/opt/conda/lib/python3.10/site-packages/torch_geometric/deprecation.py:26: UserWarning: 'data.DataLoader' is deprecated, use 'loader.DataLoader' instead\n",
      "  warnings.warn(out)\n",
      "/opt/conda/lib/python3.10/site-packages/torch/cuda/amp/grad_scaler.py:125: UserWarning: torch.cuda.amp.GradScaler is enabled, but CUDA is not available.  Disabling.\n",
      "  warnings.warn(\n",
      "/opt/conda/lib/python3.10/site-packages/torch/amp/autocast_mode.py:250: UserWarning: User provided device_type of 'cuda', but CUDA is not available. Disabling\n",
      "  warnings.warn(\n"
     ]
    },
    {
     "name": "stdout",
     "output_type": "stream",
     "text": [
      "1/0.5085/0.02 | 2/0.4407/0.02 | 3/0.5932/0.02 | 4/0.5169/0.02 | 5/0.6525/0.02 | 6/0.6186/0.02 | 7/0.6525/0.02 | 8/0.5254/0.02 | 9/0.5085/0.01 | 10/0.5000/0.01 | 11/0.5678/0.01 | 12/0.5424/0.01 | 13/0.6610/0.01 | 14/0.6780/0.01 | 15/0.6186/0.005 | 16/0.6610/0.005 | 17/0.6695/0.005 | 18/0.6441/0.005 | 19/0.6186/0.005 | 20/0.5763/0.005 | 21/0.5763/0.0025 | 22/0.6017/0.0025 | 23/0.6102/0.0025 | 24/0.6780/0.0025 | 25/0.6525/0.0025 | 26/0.5847/0.0025 | 27/0.5932/0.00125 | 28/0.6186/0.00125 | 29/0.6525/0.00125 | 30/0.6441/0.00125 | 31/0.6356/0.00125 | 32/0.6271/0.00125 | 33/0.6356/0.000625 | 34/0.6186/0.000625 | 35/0.6186/0.000625 | 36/0.6017/0.000625 | 37/0.6271/0.000625 | 38/0.6525/0.000625 | 39/0.6695/0.0003125 | 40/0.6271/0.0003125 | 41/0.6271/0.0003125 | 42/0.6271/0.0003125 | 43/0.6186/0.0003125 | 44/0.6186/0.0003125 | 45/0.6271/0.00015625 | 46/0.6271/0.00015625 | 47/0.6102/0.00015625 | 48/0.6102/0.00015625 | 49/0.6102/0.00015625 | 50/0.6271/0.00015625 | 51/0.6441/7.8125e-05 | 52/0.6186/7.8125e-05 | 53/0.6186/7.8125e-05 | 54/0.6186/7.8125e-05 | 55/0.6271/7.8125e-05 | 56/0.6271/7.8125e-05 | 57/0.6186/3.90625e-05 | 58/0.6271/3.90625e-05 | 59/0.6186/3.90625e-05 | 60/0.6271/3.90625e-05 | 61/0.6186/3.90625e-05 | 62/0.6356/3.90625e-05 | 63/0.6186/1.953125e-05 | 64/0.6186/1.953125e-05 | 65/0.6186/1.953125e-05 | 66/0.6441/1.953125e-05 | 67/0.6356/1.953125e-05 | 68/0.6186/1.953125e-05 | 69/0.6186/9.765625e-06 | Accuracy: 0.1616\n",
      "Evaluating dd dataset using cos_sim method with a percentile of 60 against class members\n",
      "Training GCN on dd for 200 epochs:\n",
      "Epoch/train loss/val accuracy: "
     ]
    },
    {
     "name": "stderr",
     "output_type": "stream",
     "text": [
      "/opt/conda/lib/python3.10/site-packages/torch_geometric/deprecation.py:26: UserWarning: 'data.DataLoader' is deprecated, use 'loader.DataLoader' instead\n",
      "  warnings.warn(out)\n",
      "/opt/conda/lib/python3.10/site-packages/torch/cuda/amp/grad_scaler.py:125: UserWarning: torch.cuda.amp.GradScaler is enabled, but CUDA is not available.  Disabling.\n",
      "  warnings.warn(\n",
      "/opt/conda/lib/python3.10/site-packages/torch/amp/autocast_mode.py:250: UserWarning: User provided device_type of 'cuda', but CUDA is not available. Disabling\n",
      "  warnings.warn(\n"
     ]
    },
    {
     "name": "stdout",
     "output_type": "stream",
     "text": [
      "1/0.5775/0.02 | 2/0.5775/0.02 | 3/0.5845/0.02 | 4/0.6690/0.02 | 5/0.7042/0.02 | 6/0.7465/0.02 | 7/0.7254/0.02 | 8/0.7113/0.01 | 9/0.7254/0.01 | 10/0.6479/0.01 | 11/0.7113/0.01 | 12/0.7465/0.01 | 13/0.7394/0.01 | 14/0.7254/0.005 | 15/0.7394/0.005 | 16/0.7254/0.005 | 17/0.7394/0.005 | 18/0.7465/0.005 | 19/0.7042/0.005 | 20/0.7324/0.0025 | 21/0.7535/0.0025 | 22/0.7535/0.0025 | 23/0.7535/0.0025 | 24/0.7394/0.0025 | 25/0.7254/0.0025 | 26/0.7254/0.00125 | 27/0.7113/0.00125 | 28/0.7183/0.00125 | 29/0.7324/0.00125 | 30/0.7254/0.00125 | 31/0.7394/0.00125 | 32/0.7254/0.000625 | 33/0.7324/0.000625 | 34/0.7324/0.000625 | 35/0.7324/0.000625 | 36/0.7394/0.000625 | 37/0.7465/0.000625 | 38/0.7324/0.0003125 | 39/0.7324/0.0003125 | 40/0.7324/0.0003125 | 41/0.7465/0.0003125 | 42/0.7465/0.0003125 | 43/0.7394/0.0003125 | 44/0.7465/0.00015625 | 45/0.7465/0.00015625 | 46/0.7324/0.00015625 | 47/0.7465/0.00015625 | 48/0.7465/0.00015625 | 49/0.7394/0.00015625 | 50/0.7394/7.8125e-05 | 51/0.7465/7.8125e-05 | 52/0.7465/7.8125e-05 | 53/0.7465/7.8125e-05 | 54/0.7465/7.8125e-05 | 55/0.7465/7.8125e-05 | 56/0.7465/3.90625e-05 | 57/0.7465/3.90625e-05 | 58/0.7465/3.90625e-05 | 59/0.7394/3.90625e-05 | 60/0.7465/3.90625e-05 | 61/0.7465/3.90625e-05 | 62/0.7465/1.953125e-05 | 63/0.7465/1.953125e-05 | 64/0.7394/1.953125e-05 | 65/0.7394/1.953125e-05 | 66/0.7324/1.953125e-05 | 67/0.7465/1.953125e-05 | 68/0.7465/9.765625e-06 | Accuracy: 0.1489\n",
      "Evaluating dd dataset using cos_sim method with a percentile of 70 against class members\n",
      "Training GCN on dd for 200 epochs:\n",
      "Epoch/train loss/val accuracy: "
     ]
    },
    {
     "name": "stderr",
     "output_type": "stream",
     "text": [
      "/opt/conda/lib/python3.10/site-packages/torch_geometric/deprecation.py:26: UserWarning: 'data.DataLoader' is deprecated, use 'loader.DataLoader' instead\n",
      "  warnings.warn(out)\n",
      "/opt/conda/lib/python3.10/site-packages/torch/cuda/amp/grad_scaler.py:125: UserWarning: torch.cuda.amp.GradScaler is enabled, but CUDA is not available.  Disabling.\n",
      "  warnings.warn(\n",
      "/opt/conda/lib/python3.10/site-packages/torch/amp/autocast_mode.py:250: UserWarning: User provided device_type of 'cuda', but CUDA is not available. Disabling\n",
      "  warnings.warn(\n"
     ]
    },
    {
     "name": "stdout",
     "output_type": "stream",
     "text": [
      "1/0.5091/0.02 | 2/0.5394/0.02 | 3/0.5758/0.02 | 4/0.6121/0.02 | 5/0.6303/0.02 | 6/0.6000/0.02 | 7/0.6061/0.02 | 8/0.6848/0.01 | 9/0.6848/0.01 | 10/0.6485/0.01 | 11/0.6848/0.01 | 12/0.6485/0.01 | 13/0.6788/0.01 | 14/0.6848/0.005 | 15/0.6909/0.005 | 16/0.6788/0.005 | 17/0.6000/0.005 | 18/0.7030/0.005 | 19/0.7030/0.005 | 20/0.6909/0.0025 | 21/0.6848/0.0025 | 22/0.6788/0.0025 | 23/0.6909/0.0025 | 24/0.6606/0.0025 | 25/0.6545/0.0025 | 26/0.6667/0.00125 | 27/0.6667/0.00125 | 28/0.6606/0.00125 | 29/0.6727/0.00125 | 30/0.6727/0.00125 | 31/0.6606/0.00125 | 32/0.6424/0.000625 | 33/0.6545/0.000625 | 34/0.6545/0.000625 | 35/0.6848/0.000625 | 36/0.6788/0.000625 | 37/0.6727/0.000625 | 38/0.6667/0.0003125 | 39/0.6667/0.0003125 | 40/0.6848/0.0003125 | 41/0.6606/0.0003125 | 42/0.6970/0.0003125 | 43/0.6606/0.0003125 | 44/0.6788/0.00015625 | 45/0.6970/0.00015625 | 46/0.6909/0.00015625 | 47/0.6909/0.00015625 | 48/0.6970/0.00015625 | 49/0.6970/0.00015625 | 50/0.6909/7.8125e-05 | 51/0.6909/7.8125e-05 | 52/0.6909/7.8125e-05 | 53/0.6970/7.8125e-05 | 54/0.6970/7.8125e-05 | 55/0.6909/7.8125e-05 | 56/0.6909/3.90625e-05 | 57/0.6970/3.90625e-05 | 58/0.6970/3.90625e-05 | 59/0.6727/3.90625e-05 | 60/0.6909/3.90625e-05 | 61/0.6970/3.90625e-05 | 62/0.6970/1.953125e-05 | 63/0.6970/1.953125e-05 | 64/0.6970/1.953125e-05 | 65/0.6909/1.953125e-05 | 66/0.6970/1.953125e-05 | 67/0.6909/1.953125e-05 | 68/0.6909/9.765625e-06 | Accuracy: 0.0680\n",
      "Evaluating dd dataset using cos_sim method with a percentile of 80 against class members\n",
      "Training GCN on dd for 200 epochs:\n",
      "Epoch/train loss/val accuracy: "
     ]
    },
    {
     "name": "stderr",
     "output_type": "stream",
     "text": [
      "/opt/conda/lib/python3.10/site-packages/torch_geometric/deprecation.py:26: UserWarning: 'data.DataLoader' is deprecated, use 'loader.DataLoader' instead\n",
      "  warnings.warn(out)\n",
      "/opt/conda/lib/python3.10/site-packages/torch/cuda/amp/grad_scaler.py:125: UserWarning: torch.cuda.amp.GradScaler is enabled, but CUDA is not available.  Disabling.\n",
      "  warnings.warn(\n",
      "/opt/conda/lib/python3.10/site-packages/torch/amp/autocast_mode.py:250: UserWarning: User provided device_type of 'cuda', but CUDA is not available. Disabling\n",
      "  warnings.warn(\n"
     ]
    },
    {
     "name": "stdout",
     "output_type": "stream",
     "text": [
      "1/0.5714/0.02 | 2/0.5714/0.02 | 3/0.6032/0.02 | 4/0.6455/0.02 | 5/0.6984/0.02 | 6/0.7302/0.02 | 7/0.6825/0.02 | 8/0.7249/0.01 | 9/0.7566/0.01 | 10/0.7090/0.01 | 11/0.7725/0.01 | 12/0.6984/0.01 | 13/0.6984/0.01 | 14/0.7513/0.005 | 15/0.7407/0.005 | 16/0.7513/0.005 | 17/0.7619/0.005 | 18/0.7672/0.005 | 19/0.7778/0.005 | 20/0.7778/0.0025 | 21/0.7725/0.0025 | 22/0.7778/0.0025 | 23/0.7672/0.0025 | 24/0.7778/0.0025 | 25/0.7619/0.0025 | 26/0.7778/0.00125 | 27/0.7460/0.00125 | 28/0.7778/0.00125 | 29/0.7619/0.00125 | 30/0.7619/0.00125 | 31/0.7778/0.00125 | 32/0.7672/0.000625 | 33/0.7831/0.000625 | 34/0.7725/0.000625 | 35/0.7778/0.000625 | 36/0.7778/0.000625 | 37/0.7831/0.000625 | 38/0.7831/0.0003125 | 39/0.7778/0.0003125 | 40/0.7778/0.0003125 | 41/0.7884/0.0003125 | 42/0.7831/0.0003125 | 43/0.7884/0.0003125 | 44/0.7831/0.00015625 | 45/0.7831/0.00015625 | 46/0.7831/0.00015625 | 47/0.7831/0.00015625 | 48/0.7884/0.00015625 | 49/0.7884/0.00015625 | 50/0.7884/7.8125e-05 | 51/0.7884/7.8125e-05 | 52/0.7831/7.8125e-05 | 53/0.7831/7.8125e-05 | 54/0.7831/7.8125e-05 | 55/0.7937/7.8125e-05 | 56/0.7831/3.90625e-05 | 57/0.7831/3.90625e-05 | 58/0.7831/3.90625e-05 | 59/0.7831/3.90625e-05 | 60/0.7937/3.90625e-05 | 61/0.7937/3.90625e-05 | 62/0.7831/1.953125e-05 | 63/0.7937/1.953125e-05 | 64/0.7884/1.953125e-05 | 65/0.7831/1.953125e-05 | 66/0.7989/1.953125e-05 | 67/0.7989/1.953125e-05 | 68/0.7831/9.765625e-06 | Accuracy: 0.1660\n",
      "Evaluating dd dataset using cos_sim method with a percentile of 90 against class members\n",
      "Training GCN on dd for 200 epochs:\n",
      "Epoch/train loss/val accuracy: "
     ]
    },
    {
     "name": "stderr",
     "output_type": "stream",
     "text": [
      "/opt/conda/lib/python3.10/site-packages/torch_geometric/deprecation.py:26: UserWarning: 'data.DataLoader' is deprecated, use 'loader.DataLoader' instead\n",
      "  warnings.warn(out)\n",
      "/opt/conda/lib/python3.10/site-packages/torch/cuda/amp/grad_scaler.py:125: UserWarning: torch.cuda.amp.GradScaler is enabled, but CUDA is not available.  Disabling.\n",
      "  warnings.warn(\n",
      "/opt/conda/lib/python3.10/site-packages/torch/amp/autocast_mode.py:250: UserWarning: User provided device_type of 'cuda', but CUDA is not available. Disabling\n",
      "  warnings.warn(\n"
     ]
    },
    {
     "name": "stdout",
     "output_type": "stream",
     "text": [
      "1/0.5587/0.02 | 2/0.5587/0.02 | 3/0.5915/0.02 | 4/0.4695/0.02 | 5/0.6714/0.02 | 6/0.6338/0.02 | 7/0.6150/0.02 | 8/0.6244/0.02 | 9/0.6995/0.02 | 10/0.7042/0.02 | 11/0.7183/0.01 | 12/0.6995/0.01 | 13/0.6714/0.01 | 14/0.6854/0.01 | 15/0.6479/0.01 | 16/0.6948/0.01 | 17/0.6761/0.005 | 18/0.7089/0.005 | 19/0.6901/0.005 | 20/0.6808/0.005 | 21/0.6761/0.005 | 22/0.6901/0.005 | 23/0.6854/0.0025 | 24/0.6948/0.0025 | 25/0.6948/0.0025 | 26/0.6761/0.0025 | 27/0.6761/0.0025 | 28/0.6808/0.0025 | 29/0.6854/0.00125 | 30/0.6808/0.00125 | 31/0.6901/0.00125 | 32/0.6761/0.00125 | 33/0.6808/0.00125 | 34/0.6761/0.00125 | 35/0.6854/0.000625 | 36/0.6714/0.000625 | 37/0.6761/0.000625 | 38/0.6761/0.000625 | 39/0.6854/0.000625 | 40/0.6854/0.000625 | 41/0.6854/0.0003125 | 42/0.6808/0.0003125 | 43/0.6808/0.0003125 | 44/0.6808/0.0003125 | 45/0.6761/0.0003125 | 46/0.6808/0.0003125 | 47/0.6854/0.00015625 | 48/0.6854/0.00015625 | 49/0.6854/0.00015625 | 50/0.6761/0.00015625 | 51/0.6808/0.00015625 | 52/0.6854/0.00015625 | 53/0.6854/7.8125e-05 | 54/0.6854/7.8125e-05 | 55/0.6761/7.8125e-05 | 56/0.6808/7.8125e-05 | 57/0.6808/7.8125e-05 | 58/0.6854/7.8125e-05 | 59/0.6808/3.90625e-05 | 60/0.6854/3.90625e-05 | 61/0.6854/3.90625e-05 | 62/0.6808/3.90625e-05 | 63/0.6808/3.90625e-05 | 64/0.6808/3.90625e-05 | 65/0.6854/1.953125e-05 | 66/0.6854/1.953125e-05 | 67/0.6808/1.953125e-05 | 68/0.6854/1.953125e-05 | 69/0.6854/1.953125e-05 | 70/0.6808/1.953125e-05 | 71/0.6854/9.765625e-06 | Accuracy: 0.1282\n",
      "Evaluating nci1 dataset using random method with a percentile of 40 against class members\n",
      "Training GCN on nci1 for 200 epochs:\n",
      "Epoch/train loss/val accuracy: "
     ]
    },
    {
     "name": "stderr",
     "output_type": "stream",
     "text": [
      "/opt/conda/lib/python3.10/site-packages/torch_geometric/deprecation.py:26: UserWarning: 'data.DataLoader' is deprecated, use 'loader.DataLoader' instead\n",
      "  warnings.warn(out)\n",
      "/opt/conda/lib/python3.10/site-packages/torch/cuda/amp/grad_scaler.py:125: UserWarning: torch.cuda.amp.GradScaler is enabled, but CUDA is not available.  Disabling.\n",
      "  warnings.warn(\n",
      "/opt/conda/lib/python3.10/site-packages/torch/amp/autocast_mode.py:250: UserWarning: User provided device_type of 'cuda', but CUDA is not available. Disabling\n",
      "  warnings.warn(\n"
     ]
    },
    {
     "name": "stdout",
     "output_type": "stream",
     "text": [
      "1/0.5289/0.02 | 2/0.5745/0.02 | 3/0.6140/0.02 | 4/0.6353/0.02 | 5/0.5380/0.02 | 6/0.6231/0.02 | 7/0.6535/0.02 | 8/0.6626/0.01 | 9/0.6474/0.01 | 10/0.6687/0.01 | 11/0.6535/0.01 | 12/0.6505/0.01 | 13/0.6809/0.01 | 14/0.6991/0.005 | 15/0.6900/0.005 | 16/0.6687/0.005 | 17/0.6778/0.005 | 18/0.6839/0.005 | 19/0.6869/0.005 | 20/0.6778/0.0025 | 21/0.6687/0.0025 | 22/0.6687/0.0025 | 23/0.6839/0.0025 | 24/0.6778/0.0025 | 25/0.6778/0.0025 | 26/0.6809/0.00125 | 27/0.6839/0.00125 | 28/0.6869/0.00125 | 29/0.6809/0.00125 | 30/0.6809/0.00125 | 31/0.6778/0.00125 | 32/0.6839/0.000625 | 33/0.6960/0.000625 | 34/0.6930/0.000625 | 35/0.6960/0.000625 | 36/0.6991/0.000625 | 37/0.7082/0.000625 | 38/0.7021/0.0003125 | 39/0.7052/0.0003125 | 40/0.6991/0.0003125 | 41/0.6900/0.0003125 | 42/0.7021/0.0003125 | 43/0.6960/0.0003125 | 44/0.6960/0.00015625 | 45/0.6869/0.00015625 | 46/0.7021/0.00015625 | 47/0.6991/0.00015625 | 48/0.6991/0.00015625 | 49/0.7021/0.00015625 | 50/0.7052/7.8125e-05 | 51/0.7052/7.8125e-05 | 52/0.7021/7.8125e-05 | 53/0.6930/7.8125e-05 | 54/0.7052/7.8125e-05 | 55/0.6991/7.8125e-05 | 56/0.6991/3.90625e-05 | 57/0.6960/3.90625e-05 | 58/0.7021/3.90625e-05 | 59/0.7021/3.90625e-05 | 60/0.7021/3.90625e-05 | 61/0.7052/3.90625e-05 | 62/0.7052/1.953125e-05 | 63/0.7052/1.953125e-05 | 64/0.7052/1.953125e-05 | 65/0.7082/1.953125e-05 | 66/0.7052/1.953125e-05 | 67/0.7021/1.953125e-05 | 68/0.6991/9.765625e-06 | Accuracy: 0.3593\n",
      "Evaluating nci1 dataset using random method with a percentile of 50 against class members\n",
      "Training GCN on nci1 for 200 epochs:\n",
      "Epoch/train loss/val accuracy: "
     ]
    },
    {
     "name": "stderr",
     "output_type": "stream",
     "text": [
      "/opt/conda/lib/python3.10/site-packages/torch_geometric/deprecation.py:26: UserWarning: 'data.DataLoader' is deprecated, use 'loader.DataLoader' instead\n",
      "  warnings.warn(out)\n",
      "/opt/conda/lib/python3.10/site-packages/torch/cuda/amp/grad_scaler.py:125: UserWarning: torch.cuda.amp.GradScaler is enabled, but CUDA is not available.  Disabling.\n",
      "  warnings.warn(\n",
      "/opt/conda/lib/python3.10/site-packages/torch/amp/autocast_mode.py:250: UserWarning: User provided device_type of 'cuda', but CUDA is not available. Disabling\n",
      "  warnings.warn(\n"
     ]
    },
    {
     "name": "stdout",
     "output_type": "stream",
     "text": [
      "1/0.5109/0.02 | 2/0.4842/0.02 | 3/0.6156/0.02 | 4/0.5815/0.02 | 5/0.6788/0.02 | 6/0.5523/0.02 | 7/0.6107/0.02 | 8/0.6934/0.02 | 9/0.6010/0.01 | 10/0.6910/0.01 | 11/0.6861/0.01 | 12/0.6667/0.01 | 13/0.7202/0.01 | 14/0.6618/0.01 | 15/0.6496/0.005 | 16/0.6740/0.005 | 17/0.7056/0.005 | 18/0.7056/0.005 | 19/0.6618/0.005 | 20/0.6959/0.005 | 21/0.6813/0.0025 | 22/0.6569/0.0025 | 23/0.6837/0.0025 | 24/0.6740/0.0025 | 25/0.7032/0.0025 | 26/0.6910/0.0025 | 27/0.6788/0.00125 | 28/0.6837/0.00125 | 29/0.6764/0.00125 | 30/0.6788/0.00125 | 31/0.6813/0.00125 | 32/0.6861/0.00125 | 33/0.6764/0.000625 | 34/0.6764/0.000625 | 35/0.6861/0.000625 | 36/0.6740/0.000625 | 37/0.6910/0.000625 | 38/0.6788/0.000625 | 39/0.6788/0.0003125 | 40/0.6910/0.0003125 | 41/0.6861/0.0003125 | 42/0.6934/0.0003125 | 43/0.6886/0.0003125 | 44/0.6837/0.0003125 | 45/0.6886/0.00015625 | 46/0.6813/0.00015625 | 47/0.6910/0.00015625 | 48/0.6910/0.00015625 | 49/0.6837/0.00015625 | 50/0.6910/0.00015625 | 51/0.6837/7.8125e-05 | 52/0.6886/7.8125e-05 | 53/0.7007/7.8125e-05 | 54/0.6934/7.8125e-05 | 55/0.6788/7.8125e-05 | 56/0.6886/7.8125e-05 | 57/0.6837/3.90625e-05 | 58/0.6959/3.90625e-05 | 59/0.6764/3.90625e-05 | 60/0.6886/3.90625e-05 | 61/0.6837/3.90625e-05 | 62/0.6910/3.90625e-05 | 63/0.6813/1.953125e-05 | 64/0.6910/1.953125e-05 | 65/0.6861/1.953125e-05 | 66/0.6910/1.953125e-05 | 67/0.6959/1.953125e-05 | 68/0.6886/1.953125e-05 | 69/0.6861/9.765625e-06 | Accuracy: 0.3815\n",
      "Evaluating nci1 dataset using random method with a percentile of 60 against class members\n",
      "Training GCN on nci1 for 200 epochs:\n",
      "Epoch/train loss/val accuracy: "
     ]
    },
    {
     "name": "stderr",
     "output_type": "stream",
     "text": [
      "/opt/conda/lib/python3.10/site-packages/torch_geometric/deprecation.py:26: UserWarning: 'data.DataLoader' is deprecated, use 'loader.DataLoader' instead\n",
      "  warnings.warn(out)\n",
      "/opt/conda/lib/python3.10/site-packages/torch/cuda/amp/grad_scaler.py:125: UserWarning: torch.cuda.amp.GradScaler is enabled, but CUDA is not available.  Disabling.\n",
      "  warnings.warn(\n",
      "/opt/conda/lib/python3.10/site-packages/torch/amp/autocast_mode.py:250: UserWarning: User provided device_type of 'cuda', but CUDA is not available. Disabling\n",
      "  warnings.warn(\n"
     ]
    },
    {
     "name": "stdout",
     "output_type": "stream",
     "text": [
      "1/0.5769/0.02 | 2/0.4939/0.02 | 3/0.5324/0.02 | 4/0.5000/0.02 | 5/0.5182/0.02 | 6/0.6134/0.02 | 7/0.6316/0.02 | 8/0.5749/0.02 | 9/0.6255/0.01 | 10/0.6235/0.01 | 11/0.6478/0.01 | 12/0.6437/0.01 | 13/0.6498/0.01 | 14/0.6215/0.01 | 15/0.6559/0.005 | 16/0.6296/0.005 | 17/0.6417/0.005 | 18/0.6538/0.005 | 19/0.6437/0.005 | 20/0.6538/0.005 | 21/0.6437/0.0025 | 22/0.6336/0.0025 | 23/0.6417/0.0025 | 24/0.6457/0.0025 | 25/0.6336/0.0025 | 26/0.6336/0.0025 | 27/0.6599/0.00125 | 28/0.6579/0.00125 | 29/0.6741/0.00125 | 30/0.6599/0.00125 | 31/0.6417/0.00125 | 32/0.6538/0.00125 | 33/0.6700/0.000625 | 34/0.6700/0.000625 | 35/0.6619/0.000625 | 36/0.6741/0.000625 | 37/0.6660/0.000625 | 38/0.6761/0.000625 | 39/0.6660/0.0003125 | 40/0.6619/0.0003125 | 41/0.6721/0.0003125 | 42/0.6721/0.0003125 | 43/0.6660/0.0003125 | 44/0.6680/0.0003125 | 45/0.6741/0.00015625 | 46/0.6640/0.00015625 | 47/0.6680/0.00015625 | 48/0.6640/0.00015625 | 49/0.6680/0.00015625 | 50/0.6721/0.00015625 | 51/0.6640/7.8125e-05 | 52/0.6721/7.8125e-05 | 53/0.6741/7.8125e-05 | 54/0.6619/7.8125e-05 | 55/0.6660/7.8125e-05 | 56/0.6640/7.8125e-05 | 57/0.6700/3.90625e-05 | 58/0.6680/3.90625e-05 | 59/0.6761/3.90625e-05 | 60/0.6700/3.90625e-05 | 61/0.6680/3.90625e-05 | 62/0.6660/3.90625e-05 | 63/0.6741/1.953125e-05 | 64/0.6680/1.953125e-05 | 65/0.6700/1.953125e-05 | 66/0.6741/1.953125e-05 | 67/0.6680/1.953125e-05 | 68/0.6680/1.953125e-05 | 69/0.6721/9.765625e-06 | Accuracy: 0.3637\n",
      "Evaluating nci1 dataset using random method with a percentile of 70 against class members\n",
      "Training GCN on nci1 for 200 epochs:\n",
      "Epoch/train loss/val accuracy: "
     ]
    },
    {
     "name": "stderr",
     "output_type": "stream",
     "text": [
      "/opt/conda/lib/python3.10/site-packages/torch_geometric/deprecation.py:26: UserWarning: 'data.DataLoader' is deprecated, use 'loader.DataLoader' instead\n",
      "  warnings.warn(out)\n",
      "/opt/conda/lib/python3.10/site-packages/torch/cuda/amp/grad_scaler.py:125: UserWarning: torch.cuda.amp.GradScaler is enabled, but CUDA is not available.  Disabling.\n",
      "  warnings.warn(\n",
      "/opt/conda/lib/python3.10/site-packages/torch/amp/autocast_mode.py:250: UserWarning: User provided device_type of 'cuda', but CUDA is not available. Disabling\n",
      "  warnings.warn(\n"
     ]
    },
    {
     "name": "stdout",
     "output_type": "stream",
     "text": [
      "1/0.6215/0.02 | 2/0.6528/0.02 | 3/0.6892/0.02 | 4/0.7014/0.02 | 5/0.6667/0.02 | 6/0.6719/0.02 | 7/0.6875/0.02 | 8/0.6719/0.01 | 9/0.6979/0.01 | 10/0.7014/0.01 | 11/0.6597/0.01 | 12/0.6962/0.01 | 13/0.6840/0.01 | 14/0.7153/0.005 | 15/0.6997/0.005 | 16/0.7135/0.005 | 17/0.6910/0.005 | 18/0.7014/0.005 | 19/0.7083/0.005 | 20/0.7135/0.0025 | 21/0.7205/0.0025 | 22/0.7118/0.0025 | 23/0.7222/0.0025 | 24/0.7205/0.0025 | 25/0.7188/0.0025 | 26/0.7188/0.00125 | 27/0.7170/0.00125 | 28/0.7205/0.00125 | 29/0.7205/0.00125 | 30/0.7188/0.00125 | 31/0.7170/0.00125 | 32/0.7205/0.000625 | 33/0.7188/0.000625 | 34/0.7153/0.000625 | 35/0.7222/0.000625 | 36/0.7188/0.000625 | 37/0.7257/0.000625 | 38/0.7205/0.0003125 | 39/0.7135/0.0003125 | 40/0.7188/0.0003125 | 41/0.7205/0.0003125 | 42/0.7222/0.0003125 | 43/0.7170/0.0003125 | 44/0.7188/0.00015625 | 45/0.7240/0.00015625 | 46/0.7188/0.00015625 | 47/0.7188/0.00015625 | 48/0.7222/0.00015625 | 49/0.7205/0.00015625 | 50/0.7153/7.8125e-05 | 51/0.7205/7.8125e-05 | 52/0.7222/7.8125e-05 | 53/0.7205/7.8125e-05 | 54/0.7205/7.8125e-05 | 55/0.7188/7.8125e-05 | 56/0.7188/3.90625e-05 | 57/0.7188/3.90625e-05 | 58/0.7205/3.90625e-05 | 59/0.7188/3.90625e-05 | 60/0.7222/3.90625e-05 | 61/0.7170/3.90625e-05 | 62/0.7205/1.953125e-05 | 63/0.7188/1.953125e-05 | 64/0.7205/1.953125e-05 | 65/0.7135/1.953125e-05 | 66/0.7188/1.953125e-05 | 67/0.7205/1.953125e-05 | 68/0.7222/9.765625e-06 | Accuracy: 0.3496\n",
      "Evaluating nci1 dataset using random method with a percentile of 80 against class members\n",
      "Training GCN on nci1 for 200 epochs:\n",
      "Epoch/train loss/val accuracy: "
     ]
    },
    {
     "name": "stderr",
     "output_type": "stream",
     "text": [
      "/opt/conda/lib/python3.10/site-packages/torch_geometric/deprecation.py:26: UserWarning: 'data.DataLoader' is deprecated, use 'loader.DataLoader' instead\n",
      "  warnings.warn(out)\n",
      "/opt/conda/lib/python3.10/site-packages/torch/cuda/amp/grad_scaler.py:125: UserWarning: torch.cuda.amp.GradScaler is enabled, but CUDA is not available.  Disabling.\n",
      "  warnings.warn(\n",
      "/opt/conda/lib/python3.10/site-packages/torch/amp/autocast_mode.py:250: UserWarning: User provided device_type of 'cuda', but CUDA is not available. Disabling\n",
      "  warnings.warn(\n"
     ]
    },
    {
     "name": "stdout",
     "output_type": "stream",
     "text": [
      "1/0.5608/0.02 | 2/0.6444/0.02 | 3/0.5593/0.02 | 4/0.5653/0.02 | 5/0.5988/0.02 | 6/0.6565/0.02 | 7/0.6778/0.02 | 8/0.6687/0.02 | 9/0.6748/0.02 | 10/0.6733/0.01 | 11/0.6930/0.01 | 12/0.7067/0.01 | 13/0.6778/0.01 | 14/0.6945/0.01 | 15/0.6991/0.01 | 16/0.7143/0.005 | 17/0.7021/0.005 | 18/0.6854/0.005 | 19/0.7128/0.005 | 20/0.6991/0.005 | 21/0.7097/0.005 | 22/0.7204/0.0025 | 23/0.7128/0.0025 | 24/0.7082/0.0025 | 25/0.7082/0.0025 | 26/0.7158/0.0025 | 27/0.7204/0.0025 | 28/0.7204/0.00125 | 29/0.7158/0.00125 | 30/0.7295/0.00125 | 31/0.7036/0.00125 | 32/0.7295/0.00125 | 33/0.7249/0.00125 | 34/0.7188/0.000625 | 35/0.7204/0.000625 | 36/0.7340/0.000625 | 37/0.7280/0.000625 | 38/0.7295/0.000625 | 39/0.7234/0.000625 | 40/0.7280/0.0003125 | 41/0.7280/0.0003125 | 42/0.7280/0.0003125 | 43/0.7295/0.0003125 | 44/0.7249/0.0003125 | 45/0.7310/0.0003125 | 46/0.7295/0.00015625 | 47/0.7219/0.00015625 | 48/0.7295/0.00015625 | 49/0.7264/0.00015625 | 50/0.7249/0.00015625 | 51/0.7325/0.00015625 | 52/0.7310/7.8125e-05 | 53/0.7280/7.8125e-05 | 54/0.7204/7.8125e-05 | 55/0.7325/7.8125e-05 | 56/0.7356/7.8125e-05 | 57/0.7340/7.8125e-05 | 58/0.7264/3.90625e-05 | 59/0.7264/3.90625e-05 | 60/0.7264/3.90625e-05 | 61/0.7325/3.90625e-05 | 62/0.7264/3.90625e-05 | 63/0.7234/3.90625e-05 | 64/0.7325/1.953125e-05 | 65/0.7295/1.953125e-05 | 66/0.7264/1.953125e-05 | 67/0.7340/1.953125e-05 | 68/0.7204/1.953125e-05 | 69/0.7249/1.953125e-05 | 70/0.7204/9.765625e-06 | Accuracy: 0.3577\n",
      "Evaluating nci1 dataset using random method with a percentile of 90 against class members\n",
      "Training GCN on nci1 for 200 epochs:\n",
      "Epoch/train loss/val accuracy: "
     ]
    },
    {
     "name": "stderr",
     "output_type": "stream",
     "text": [
      "/opt/conda/lib/python3.10/site-packages/torch_geometric/deprecation.py:26: UserWarning: 'data.DataLoader' is deprecated, use 'loader.DataLoader' instead\n",
      "  warnings.warn(out)\n",
      "/opt/conda/lib/python3.10/site-packages/torch/cuda/amp/grad_scaler.py:125: UserWarning: torch.cuda.amp.GradScaler is enabled, but CUDA is not available.  Disabling.\n",
      "  warnings.warn(\n",
      "/opt/conda/lib/python3.10/site-packages/torch/amp/autocast_mode.py:250: UserWarning: User provided device_type of 'cuda', but CUDA is not available. Disabling\n",
      "  warnings.warn(\n"
     ]
    },
    {
     "name": "stdout",
     "output_type": "stream",
     "text": [
      "1/0.5676/0.02 | 2/0.6203/0.02 | 3/0.6568/0.02 | 4/0.6770/0.02 | 5/0.5811/0.02 | 6/0.6716/0.02 | 7/0.5014/0.02 | 8/0.5838/0.02 | 9/0.6014/0.02 | 10/0.7027/0.02 | 11/0.6730/0.02 | 12/0.6635/0.02 | 13/0.6581/0.02 | 14/0.6973/0.01 | 15/0.6986/0.01 | 16/0.6932/0.01 | 17/0.6892/0.01 | 18/0.7095/0.01 | 19/0.6689/0.01 | 20/0.7068/0.005 | 21/0.7027/0.005 | 22/0.7095/0.005 | 23/0.7081/0.005 | 24/0.7135/0.005 | 25/0.7054/0.005 | 26/0.7162/0.0025 | 27/0.7216/0.0025 | 28/0.7054/0.0025 | 29/0.7135/0.0025 | 30/0.7135/0.0025 | 31/0.7176/0.0025 | 32/0.7297/0.00125 | 33/0.7189/0.00125 | 34/0.7230/0.00125 | 35/0.7162/0.00125 | 36/0.7216/0.00125 | 37/0.7203/0.00125 | 38/0.7203/0.000625 | 39/0.7230/0.000625 | 40/0.7162/0.000625 | 41/0.7203/0.000625 | 42/0.7243/0.000625 | 43/0.7149/0.000625 | 44/0.7176/0.0003125 | 45/0.7189/0.0003125 | 46/0.7203/0.0003125 | 47/0.7216/0.0003125 | 48/0.7216/0.0003125 | 49/0.7203/0.0003125 | 50/0.7122/0.00015625 | 51/0.7216/0.00015625 | 52/0.7149/0.00015625 | 53/0.7176/0.00015625 | 54/0.7216/0.00015625 | 55/0.7176/0.00015625 | 56/0.7176/7.8125e-05 | 57/0.7216/7.8125e-05 | 58/0.7257/7.8125e-05 | 59/0.7203/7.8125e-05 | 60/0.7257/7.8125e-05 | 61/0.7203/7.8125e-05 | 62/0.7135/3.90625e-05 | 63/0.7216/3.90625e-05 | 64/0.7189/3.90625e-05 | 65/0.7270/3.90625e-05 | 66/0.7257/3.90625e-05 | 67/0.7216/3.90625e-05 | 68/0.7243/1.953125e-05 | 69/0.7270/1.953125e-05 | 70/0.7257/1.953125e-05 | 71/0.7243/1.953125e-05 | 72/0.7216/1.953125e-05 | 73/0.7230/1.953125e-05 | 74/0.7230/9.765625e-06 | Accuracy: 0.4185\n",
      "Evaluating nci1 dataset using graph_order method with a percentile of 40 against class members\n",
      "Training GCN on nci1 for 200 epochs:\n",
      "Epoch/train loss/val accuracy: "
     ]
    },
    {
     "name": "stderr",
     "output_type": "stream",
     "text": [
      "/opt/conda/lib/python3.10/site-packages/torch_geometric/deprecation.py:26: UserWarning: 'data.DataLoader' is deprecated, use 'loader.DataLoader' instead\n",
      "  warnings.warn(out)\n",
      "/opt/conda/lib/python3.10/site-packages/torch/cuda/amp/grad_scaler.py:125: UserWarning: torch.cuda.amp.GradScaler is enabled, but CUDA is not available.  Disabling.\n",
      "  warnings.warn(\n",
      "/opt/conda/lib/python3.10/site-packages/torch/amp/autocast_mode.py:250: UserWarning: User provided device_type of 'cuda', but CUDA is not available. Disabling\n",
      "  warnings.warn(\n"
     ]
    },
    {
     "name": "stdout",
     "output_type": "stream",
     "text": [
      "1/0.4863/0.02 | 2/0.5289/0.02 | 3/0.6201/0.02 | 4/0.6049/0.02 | 5/0.6809/0.02 | 6/0.6140/0.02 | 7/0.6018/0.02 | 8/0.6018/0.01 | 9/0.6687/0.01 | 10/0.5866/0.01 | 11/0.6596/0.01 | 12/0.6778/0.01 | 13/0.5988/0.01 | 14/0.6748/0.005 | 15/0.6778/0.005 | 16/0.6748/0.005 | 17/0.6930/0.005 | 18/0.6809/0.005 | 19/0.6809/0.005 | 20/0.6900/0.0025 | 21/0.6991/0.0025 | 22/0.7052/0.0025 | 23/0.6900/0.0025 | 24/0.7021/0.0025 | 25/0.7021/0.0025 | 26/0.7082/0.00125 | 27/0.6748/0.00125 | 28/0.6900/0.00125 | 29/0.6930/0.00125 | 30/0.7143/0.00125 | 31/0.6960/0.00125 | 32/0.7052/0.000625 | 33/0.7021/0.000625 | 34/0.7112/0.000625 | 35/0.7052/0.000625 | 36/0.6960/0.000625 | 37/0.6900/0.000625 | 38/0.6960/0.0003125 | 39/0.7021/0.0003125 | 40/0.7021/0.0003125 | 41/0.7112/0.0003125 | 42/0.7021/0.0003125 | 43/0.6960/0.0003125 | 44/0.6991/0.00015625 | 45/0.7052/0.00015625 | 46/0.7082/0.00015625 | 47/0.7112/0.00015625 | 48/0.6960/0.00015625 | 49/0.7021/0.00015625 | 50/0.7082/7.8125e-05 | 51/0.7052/7.8125e-05 | 52/0.7052/7.8125e-05 | 53/0.7052/7.8125e-05 | 54/0.7112/7.8125e-05 | 55/0.7112/7.8125e-05 | 56/0.7082/3.90625e-05 | 57/0.7112/3.90625e-05 | 58/0.7143/3.90625e-05 | 59/0.7143/3.90625e-05 | 60/0.7052/3.90625e-05 | 61/0.7112/3.90625e-05 | 62/0.7052/1.953125e-05 | 63/0.7052/1.953125e-05 | 64/0.7052/1.953125e-05 | 65/0.7143/1.953125e-05 | 66/0.7052/1.953125e-05 | 67/0.7143/1.953125e-05 | 68/0.7082/9.765625e-06 | Accuracy: 0.3562\n",
      "Evaluating nci1 dataset using graph_order method with a percentile of 50 against class members\n",
      "Training GCN on nci1 for 200 epochs:\n",
      "Epoch/train loss/val accuracy: "
     ]
    },
    {
     "name": "stderr",
     "output_type": "stream",
     "text": [
      "/opt/conda/lib/python3.10/site-packages/torch_geometric/deprecation.py:26: UserWarning: 'data.DataLoader' is deprecated, use 'loader.DataLoader' instead\n",
      "  warnings.warn(out)\n",
      "/opt/conda/lib/python3.10/site-packages/torch/cuda/amp/grad_scaler.py:125: UserWarning: torch.cuda.amp.GradScaler is enabled, but CUDA is not available.  Disabling.\n",
      "  warnings.warn(\n",
      "/opt/conda/lib/python3.10/site-packages/torch/amp/autocast_mode.py:250: UserWarning: User provided device_type of 'cuda', but CUDA is not available. Disabling\n",
      "  warnings.warn(\n"
     ]
    },
    {
     "name": "stdout",
     "output_type": "stream",
     "text": [
      "1/0.5218/0.02 | 2/0.6553/0.02 | 3/0.5655/0.02 | 4/0.6650/0.02 | 5/0.6068/0.02 | 6/0.5340/0.02 | 7/0.6796/0.02 | 8/0.7063/0.01 | 9/0.6141/0.01 | 10/0.6117/0.01 | 11/0.6650/0.01 | 12/0.6820/0.01 | 13/0.7039/0.01 | 14/0.6869/0.005 | 15/0.6748/0.005 | 16/0.6869/0.005 | 17/0.6723/0.005 | 18/0.6917/0.005 | 19/0.6893/0.005 | 20/0.7112/0.0025 | 21/0.7039/0.0025 | 22/0.7039/0.0025 | 23/0.6893/0.0025 | 24/0.6917/0.0025 | 25/0.6966/0.0025 | 26/0.7112/0.00125 | 27/0.7063/0.00125 | 28/0.7282/0.00125 | 29/0.7209/0.00125 | 30/0.6942/0.00125 | 31/0.7160/0.00125 | 32/0.7136/0.000625 | 33/0.7160/0.000625 | 34/0.7063/0.000625 | 35/0.7112/0.000625 | 36/0.7209/0.000625 | 37/0.7136/0.000625 | 38/0.7257/0.0003125 | 39/0.7136/0.0003125 | 40/0.7184/0.0003125 | 41/0.7160/0.0003125 | 42/0.7209/0.0003125 | 43/0.7209/0.0003125 | 44/0.7136/0.00015625 | 45/0.7209/0.00015625 | 46/0.7184/0.00015625 | 47/0.7209/0.00015625 | 48/0.7233/0.00015625 | 49/0.7160/0.00015625 | 50/0.7160/7.8125e-05 | 51/0.7160/7.8125e-05 | 52/0.7184/7.8125e-05 | 53/0.7257/7.8125e-05 | 54/0.7184/7.8125e-05 | 55/0.7160/7.8125e-05 | 56/0.7160/3.90625e-05 | 57/0.7160/3.90625e-05 | 58/0.7209/3.90625e-05 | 59/0.7160/3.90625e-05 | 60/0.7233/3.90625e-05 | 61/0.7184/3.90625e-05 | 62/0.7184/1.953125e-05 | 63/0.7209/1.953125e-05 | 64/0.7233/1.953125e-05 | 65/0.7160/1.953125e-05 | 66/0.7209/1.953125e-05 | 67/0.7184/1.953125e-05 | 68/0.7184/9.765625e-06 | Accuracy: 0.3174\n",
      "Evaluating nci1 dataset using graph_order method with a percentile of 60 against class members\n",
      "Training GCN on nci1 for 200 epochs:\n",
      "Epoch/train loss/val accuracy: "
     ]
    },
    {
     "name": "stderr",
     "output_type": "stream",
     "text": [
      "/opt/conda/lib/python3.10/site-packages/torch_geometric/deprecation.py:26: UserWarning: 'data.DataLoader' is deprecated, use 'loader.DataLoader' instead\n",
      "  warnings.warn(out)\n",
      "/opt/conda/lib/python3.10/site-packages/torch/cuda/amp/grad_scaler.py:125: UserWarning: torch.cuda.amp.GradScaler is enabled, but CUDA is not available.  Disabling.\n",
      "  warnings.warn(\n",
      "/opt/conda/lib/python3.10/site-packages/torch/amp/autocast_mode.py:250: UserWarning: User provided device_type of 'cuda', but CUDA is not available. Disabling\n",
      "  warnings.warn(\n"
     ]
    },
    {
     "name": "stdout",
     "output_type": "stream",
     "text": [
      "1/0.4939/0.02 | 2/0.5992/0.02 | 3/0.5749/0.02 | 4/0.6275/0.02 | 5/0.5304/0.02 | 6/0.5405/0.02 | 7/0.6741/0.02 | 8/0.6113/0.01 | 9/0.6862/0.01 | 10/0.6417/0.01 | 11/0.6781/0.01 | 12/0.5911/0.01 | 13/0.6093/0.01 | 14/0.6457/0.005 | 15/0.7065/0.005 | 16/0.6640/0.005 | 17/0.7045/0.005 | 18/0.6923/0.005 | 19/0.7045/0.005 | 20/0.6842/0.0025 | 21/0.7024/0.0025 | 22/0.6802/0.0025 | 23/0.6680/0.0025 | 24/0.7045/0.0025 | 25/0.6721/0.0025 | 26/0.6721/0.00125 | 27/0.6984/0.00125 | 28/0.6903/0.00125 | 29/0.6943/0.00125 | 30/0.6700/0.00125 | 31/0.6883/0.00125 | 32/0.7065/0.000625 | 33/0.6923/0.000625 | 34/0.6883/0.000625 | 35/0.6923/0.000625 | 36/0.7024/0.000625 | 37/0.7004/0.000625 | 38/0.6862/0.0003125 | 39/0.6984/0.0003125 | 40/0.6984/0.0003125 | 41/0.6903/0.0003125 | 42/0.6943/0.0003125 | 43/0.7045/0.0003125 | 44/0.7065/0.00015625 | 45/0.6943/0.00015625 | 46/0.6943/0.00015625 | 47/0.6964/0.00015625 | 48/0.7126/0.00015625 | 49/0.6964/0.00015625 | 50/0.6964/7.8125e-05 | 51/0.6943/7.8125e-05 | 52/0.6984/7.8125e-05 | 53/0.6923/7.8125e-05 | 54/0.7004/7.8125e-05 | 55/0.7045/7.8125e-05 | 56/0.6984/3.90625e-05 | 57/0.7045/3.90625e-05 | 58/0.6964/3.90625e-05 | 59/0.7065/3.90625e-05 | 60/0.6984/3.90625e-05 | 61/0.7045/3.90625e-05 | 62/0.6964/1.953125e-05 | 63/0.6923/1.953125e-05 | 64/0.7085/1.953125e-05 | 65/0.6984/1.953125e-05 | 66/0.7085/1.953125e-05 | 67/0.7024/1.953125e-05 | 68/0.6984/9.765625e-06 | Accuracy: 0.3524\n",
      "Evaluating nci1 dataset using graph_order method with a percentile of 70 against class members\n",
      "Training GCN on nci1 for 200 epochs:\n",
      "Epoch/train loss/val accuracy: "
     ]
    },
    {
     "name": "stderr",
     "output_type": "stream",
     "text": [
      "/opt/conda/lib/python3.10/site-packages/torch_geometric/deprecation.py:26: UserWarning: 'data.DataLoader' is deprecated, use 'loader.DataLoader' instead\n",
      "  warnings.warn(out)\n",
      "/opt/conda/lib/python3.10/site-packages/torch/cuda/amp/grad_scaler.py:125: UserWarning: torch.cuda.amp.GradScaler is enabled, but CUDA is not available.  Disabling.\n",
      "  warnings.warn(\n",
      "/opt/conda/lib/python3.10/site-packages/torch/amp/autocast_mode.py:250: UserWarning: User provided device_type of 'cuda', but CUDA is not available. Disabling\n",
      "  warnings.warn(\n"
     ]
    },
    {
     "name": "stdout",
     "output_type": "stream",
     "text": [
      "1/0.5816/0.02 | 2/0.5712/0.02 | 3/0.4670/0.02 | 4/0.6528/0.02 | 5/0.4844/0.02 | 6/0.6354/0.02 | 7/0.5469/0.02 | 8/0.6684/0.02 | 9/0.7031/0.02 | 10/0.6736/0.01 | 11/0.6753/0.01 | 12/0.6892/0.01 | 13/0.6562/0.01 | 14/0.6892/0.01 | 15/0.6632/0.01 | 16/0.7118/0.005 | 17/0.7101/0.005 | 18/0.6962/0.005 | 19/0.6927/0.005 | 20/0.7031/0.005 | 21/0.7083/0.005 | 22/0.7101/0.0025 | 23/0.7031/0.0025 | 24/0.7135/0.0025 | 25/0.7135/0.0025 | 26/0.7014/0.0025 | 27/0.7101/0.0025 | 28/0.7153/0.00125 | 29/0.7205/0.00125 | 30/0.7257/0.00125 | 31/0.7188/0.00125 | 32/0.7222/0.00125 | 33/0.7188/0.00125 | 34/0.7118/0.000625 | 35/0.7205/0.000625 | 36/0.7205/0.000625 | 37/0.7309/0.000625 | 38/0.7205/0.000625 | 39/0.7222/0.000625 | 40/0.7274/0.0003125 | 41/0.7274/0.0003125 | 42/0.7274/0.0003125 | 43/0.7292/0.0003125 | 44/0.7292/0.0003125 | 45/0.7361/0.0003125 | 46/0.7326/0.00015625 | 47/0.7309/0.00015625 | 48/0.7309/0.00015625 | 49/0.7292/0.00015625 | 50/0.7292/0.00015625 | 51/0.7257/0.00015625 | 52/0.7326/7.8125e-05 | 53/0.7274/7.8125e-05 | 54/0.7274/7.8125e-05 | 55/0.7309/7.8125e-05 | 56/0.7309/7.8125e-05 | 57/0.7240/7.8125e-05 | 58/0.7222/3.90625e-05 | 59/0.7188/3.90625e-05 | 60/0.7257/3.90625e-05 | 61/0.7326/3.90625e-05 | 62/0.7361/3.90625e-05 | 63/0.7240/3.90625e-05 | 64/0.7378/1.953125e-05 | 65/0.7361/1.953125e-05 | 66/0.7309/1.953125e-05 | 67/0.7222/1.953125e-05 | 68/0.7309/1.953125e-05 | 69/0.7344/1.953125e-05 | 70/0.7292/9.765625e-06 | Accuracy: 0.3799\n",
      "Evaluating nci1 dataset using graph_order method with a percentile of 80 against class members\n",
      "Training GCN on nci1 for 200 epochs:\n",
      "Epoch/train loss/val accuracy: "
     ]
    },
    {
     "name": "stderr",
     "output_type": "stream",
     "text": [
      "/opt/conda/lib/python3.10/site-packages/torch_geometric/deprecation.py:26: UserWarning: 'data.DataLoader' is deprecated, use 'loader.DataLoader' instead\n",
      "  warnings.warn(out)\n",
      "/opt/conda/lib/python3.10/site-packages/torch/cuda/amp/grad_scaler.py:125: UserWarning: torch.cuda.amp.GradScaler is enabled, but CUDA is not available.  Disabling.\n",
      "  warnings.warn(\n",
      "/opt/conda/lib/python3.10/site-packages/torch/amp/autocast_mode.py:250: UserWarning: User provided device_type of 'cuda', but CUDA is not available. Disabling\n",
      "  warnings.warn(\n"
     ]
    },
    {
     "name": "stdout",
     "output_type": "stream",
     "text": [
      "1/0.5638/0.02 | 2/0.5243/0.02 | 3/0.5198/0.02 | 4/0.6413/0.02 | 5/0.6398/0.02 | 6/0.6505/0.02 | 7/0.6565/0.02 | 8/0.6033/0.02 | 9/0.5836/0.02 | 10/0.6641/0.01 | 11/0.6626/0.01 | 12/0.6717/0.01 | 13/0.6581/0.01 | 14/0.6672/0.01 | 15/0.6717/0.01 | 16/0.6793/0.005 | 17/0.6854/0.005 | 18/0.6717/0.005 | 19/0.6748/0.005 | 20/0.6657/0.005 | 21/0.6930/0.005 | 22/0.6915/0.0025 | 23/0.6960/0.0025 | 24/0.6915/0.0025 | 25/0.6991/0.0025 | 26/0.6991/0.0025 | 27/0.6869/0.0025 | 28/0.6839/0.00125 | 29/0.6824/0.00125 | 30/0.6930/0.00125 | 31/0.6960/0.00125 | 32/0.7082/0.00125 | 33/0.7006/0.00125 | 34/0.6976/0.000625 | 35/0.6945/0.000625 | 36/0.6945/0.000625 | 37/0.6869/0.000625 | 38/0.7021/0.000625 | 39/0.6991/0.000625 | 40/0.7036/0.0003125 | 41/0.6991/0.0003125 | 42/0.7036/0.0003125 | 43/0.7006/0.0003125 | 44/0.6930/0.0003125 | 45/0.7036/0.0003125 | 46/0.6960/0.00015625 | 47/0.6976/0.00015625 | 48/0.6960/0.00015625 | 49/0.6991/0.00015625 | 50/0.6991/0.00015625 | 51/0.7006/0.00015625 | 52/0.7036/7.8125e-05 | 53/0.7067/7.8125e-05 | 54/0.7112/7.8125e-05 | 55/0.7021/7.8125e-05 | 56/0.6976/7.8125e-05 | 57/0.6976/7.8125e-05 | 58/0.6960/3.90625e-05 | 59/0.6976/3.90625e-05 | 60/0.6976/3.90625e-05 | 61/0.7112/3.90625e-05 | 62/0.6976/3.90625e-05 | 63/0.7006/3.90625e-05 | 64/0.7036/1.953125e-05 | 65/0.7082/1.953125e-05 | 66/0.6991/1.953125e-05 | 67/0.6976/1.953125e-05 | 68/0.7036/1.953125e-05 | 69/0.7082/1.953125e-05 | 70/0.7082/9.765625e-06 | Accuracy: 0.3216\n",
      "Evaluating nci1 dataset using graph_order method with a percentile of 90 against class members\n",
      "Training GCN on nci1 for 200 epochs:\n",
      "Epoch/train loss/val accuracy: "
     ]
    },
    {
     "name": "stderr",
     "output_type": "stream",
     "text": [
      "/opt/conda/lib/python3.10/site-packages/torch_geometric/deprecation.py:26: UserWarning: 'data.DataLoader' is deprecated, use 'loader.DataLoader' instead\n",
      "  warnings.warn(out)\n",
      "/opt/conda/lib/python3.10/site-packages/torch/cuda/amp/grad_scaler.py:125: UserWarning: torch.cuda.amp.GradScaler is enabled, but CUDA is not available.  Disabling.\n",
      "  warnings.warn(\n",
      "/opt/conda/lib/python3.10/site-packages/torch/amp/autocast_mode.py:250: UserWarning: User provided device_type of 'cuda', but CUDA is not available. Disabling\n",
      "  warnings.warn(\n"
     ]
    },
    {
     "name": "stdout",
     "output_type": "stream",
     "text": [
      "1/0.5662/0.02 | 2/0.6635/0.02 | 3/0.6324/0.02 | 4/0.6419/0.02 | 5/0.6514/0.02 | 6/0.6216/0.02 | 7/0.6851/0.02 | 8/0.6662/0.01 | 9/0.7000/0.01 | 10/0.6932/0.01 | 11/0.6892/0.01 | 12/0.7068/0.01 | 13/0.6716/0.01 | 14/0.7135/0.005 | 15/0.6946/0.005 | 16/0.6959/0.005 | 17/0.7108/0.005 | 18/0.7041/0.005 | 19/0.7257/0.005 | 20/0.7203/0.0025 | 21/0.7149/0.0025 | 22/0.7203/0.0025 | 23/0.6986/0.0025 | 24/0.7270/0.0025 | 25/0.7257/0.0025 | 26/0.7257/0.00125 | 27/0.7230/0.00125 | 28/0.7297/0.00125 | 29/0.7203/0.00125 | 30/0.7149/0.00125 | 31/0.7270/0.00125 | 32/0.7257/0.000625 | 33/0.7230/0.000625 | 34/0.7284/0.000625 | 35/0.7243/0.000625 | 36/0.7270/0.000625 | 37/0.7216/0.000625 | 38/0.7189/0.0003125 | 39/0.7243/0.0003125 | 40/0.7324/0.0003125 | 41/0.7311/0.0003125 | 42/0.7311/0.0003125 | 43/0.7311/0.0003125 | 44/0.7338/0.00015625 | 45/0.7203/0.00015625 | 46/0.7270/0.00015625 | 47/0.7243/0.00015625 | 48/0.7311/0.00015625 | 49/0.7270/0.00015625 | 50/0.7338/7.8125e-05 | 51/0.7297/7.8125e-05 | 52/0.7162/7.8125e-05 | 53/0.7230/7.8125e-05 | 54/0.7311/7.8125e-05 | 55/0.7216/7.8125e-05 | 56/0.7230/3.90625e-05 | 57/0.7378/3.90625e-05 | 58/0.7378/3.90625e-05 | 59/0.7311/3.90625e-05 | 60/0.7351/3.90625e-05 | 61/0.7324/3.90625e-05 | 62/0.7284/1.953125e-05 | 63/0.7189/1.953125e-05 | 64/0.7189/1.953125e-05 | 65/0.7351/1.953125e-05 | 66/0.7162/1.953125e-05 | 67/0.7230/1.953125e-05 | 68/0.7243/9.765625e-06 | Accuracy: 0.3878\n",
      "Evaluating nci1 dataset using cos_sim method with a percentile of 40 against class members\n",
      "Training GCN on nci1 for 200 epochs:\n",
      "Epoch/train loss/val accuracy: "
     ]
    },
    {
     "name": "stderr",
     "output_type": "stream",
     "text": [
      "/opt/conda/lib/python3.10/site-packages/torch_geometric/deprecation.py:26: UserWarning: 'data.DataLoader' is deprecated, use 'loader.DataLoader' instead\n",
      "  warnings.warn(out)\n",
      "/opt/conda/lib/python3.10/site-packages/torch/cuda/amp/grad_scaler.py:125: UserWarning: torch.cuda.amp.GradScaler is enabled, but CUDA is not available.  Disabling.\n",
      "  warnings.warn(\n",
      "/opt/conda/lib/python3.10/site-packages/torch/amp/autocast_mode.py:250: UserWarning: User provided device_type of 'cuda', but CUDA is not available. Disabling\n",
      "  warnings.warn(\n"
     ]
    },
    {
     "name": "stdout",
     "output_type": "stream",
     "text": [
      "1/0.4833/0.02 | 2/0.5866/0.02 | 3/0.5502/0.02 | 4/0.6444/0.02 | 5/0.6444/0.02 | 6/0.6565/0.02 | 7/0.5471/0.02 | 8/0.6535/0.01 | 9/0.6353/0.01 | 10/0.6261/0.01 | 11/0.6444/0.01 | 12/0.6748/0.01 | 13/0.6900/0.01 | 14/0.6839/0.005 | 15/0.7082/0.005 | 16/0.6444/0.005 | 17/0.7143/0.005 | 18/0.7082/0.005 | 19/0.7052/0.005 | 20/0.7052/0.0025 | 21/0.7082/0.0025 | 22/0.7204/0.0025 | 23/0.6930/0.0025 | 24/0.7112/0.0025 | 25/0.7052/0.0025 | 26/0.7173/0.00125 | 27/0.6991/0.00125 | 28/0.7082/0.00125 | 29/0.7082/0.00125 | 30/0.7052/0.00125 | 31/0.7021/0.00125 | 32/0.6900/0.000625 | 33/0.7173/0.000625 | 34/0.7173/0.000625 | 35/0.7052/0.000625 | 36/0.6930/0.000625 | 37/0.7143/0.000625 | 38/0.7052/0.0003125 | 39/0.7112/0.0003125 | 40/0.7234/0.0003125 | 41/0.7082/0.0003125 | 42/0.7021/0.0003125 | 43/0.7204/0.0003125 | 44/0.7173/0.00015625 | 45/0.7112/0.00015625 | 46/0.7052/0.00015625 | 47/0.7173/0.00015625 | 48/0.7204/0.00015625 | 49/0.7082/0.00015625 | 50/0.7204/7.8125e-05 | 51/0.7173/7.8125e-05 | 52/0.7082/7.8125e-05 | 53/0.7143/7.8125e-05 | 54/0.7021/7.8125e-05 | 55/0.7204/7.8125e-05 | 56/0.7264/3.90625e-05 | 57/0.7204/3.90625e-05 | 58/0.7173/3.90625e-05 | 59/0.7143/3.90625e-05 | 60/0.7082/3.90625e-05 | 61/0.7204/3.90625e-05 | 62/0.7052/1.953125e-05 | 63/0.7204/1.953125e-05 | 64/0.7234/1.953125e-05 | 65/0.7143/1.953125e-05 | 66/0.7234/1.953125e-05 | 67/0.7082/1.953125e-05 | 68/0.7021/9.765625e-06 | Accuracy: 0.3692\n",
      "Evaluating nci1 dataset using cos_sim method with a percentile of 50 against class members\n",
      "Training GCN on nci1 for 200 epochs:\n",
      "Epoch/train loss/val accuracy: "
     ]
    },
    {
     "name": "stderr",
     "output_type": "stream",
     "text": [
      "/opt/conda/lib/python3.10/site-packages/torch_geometric/deprecation.py:26: UserWarning: 'data.DataLoader' is deprecated, use 'loader.DataLoader' instead\n",
      "  warnings.warn(out)\n",
      "/opt/conda/lib/python3.10/site-packages/torch/cuda/amp/grad_scaler.py:125: UserWarning: torch.cuda.amp.GradScaler is enabled, but CUDA is not available.  Disabling.\n",
      "  warnings.warn(\n",
      "/opt/conda/lib/python3.10/site-packages/torch/amp/autocast_mode.py:250: UserWarning: User provided device_type of 'cuda', but CUDA is not available. Disabling\n",
      "  warnings.warn(\n"
     ]
    },
    {
     "name": "stdout",
     "output_type": "stream",
     "text": [
      "1/0.4660/0.02 | 2/0.5146/0.02 | 3/0.5461/0.02 | 4/0.5655/0.02 | 5/0.5364/0.02 | 6/0.6044/0.02 | 7/0.5947/0.02 | 8/0.6432/0.01 | 9/0.6383/0.01 | 10/0.6529/0.01 | 11/0.6626/0.01 | 12/0.6602/0.01 | 13/0.6068/0.01 | 14/0.6529/0.005 | 15/0.6383/0.005 | 16/0.6505/0.005 | 17/0.6238/0.005 | 18/0.6626/0.005 | 19/0.6383/0.005 | 20/0.6650/0.0025 | 21/0.6505/0.0025 | 22/0.6529/0.0025 | 23/0.6748/0.0025 | 24/0.6675/0.0025 | 25/0.6408/0.0025 | 26/0.6505/0.00125 | 27/0.6553/0.00125 | 28/0.6505/0.00125 | 29/0.6553/0.00125 | 30/0.6529/0.00125 | 31/0.6578/0.00125 | 32/0.6626/0.000625 | 33/0.6650/0.000625 | 34/0.6602/0.000625 | 35/0.6699/0.000625 | 36/0.6650/0.000625 | 37/0.6626/0.000625 | 38/0.6505/0.0003125 | 39/0.6553/0.0003125 | 40/0.6602/0.0003125 | 41/0.6578/0.0003125 | 42/0.6505/0.0003125 | 43/0.6553/0.0003125 | 44/0.6529/0.00015625 | 45/0.6553/0.00015625 | 46/0.6481/0.00015625 | 47/0.6505/0.00015625 | 48/0.6529/0.00015625 | 49/0.6553/0.00015625 | 50/0.6578/7.8125e-05 | 51/0.6505/7.8125e-05 | 52/0.6529/7.8125e-05 | 53/0.6505/7.8125e-05 | 54/0.6529/7.8125e-05 | 55/0.6553/7.8125e-05 | 56/0.6529/3.90625e-05 | 57/0.6553/3.90625e-05 | 58/0.6553/3.90625e-05 | 59/0.6529/3.90625e-05 | 60/0.6553/3.90625e-05 | 61/0.6505/3.90625e-05 | 62/0.6505/1.953125e-05 | 63/0.6505/1.953125e-05 | 64/0.6505/1.953125e-05 | 65/0.6505/1.953125e-05 | 66/0.6553/1.953125e-05 | 67/0.6529/1.953125e-05 | 68/0.6505/9.765625e-06 | Accuracy: 0.3778\n",
      "Evaluating nci1 dataset using cos_sim method with a percentile of 60 against class members\n",
      "Training GCN on nci1 for 200 epochs:\n",
      "Epoch/train loss/val accuracy: "
     ]
    },
    {
     "name": "stderr",
     "output_type": "stream",
     "text": [
      "/opt/conda/lib/python3.10/site-packages/torch_geometric/deprecation.py:26: UserWarning: 'data.DataLoader' is deprecated, use 'loader.DataLoader' instead\n",
      "  warnings.warn(out)\n",
      "/opt/conda/lib/python3.10/site-packages/torch/cuda/amp/grad_scaler.py:125: UserWarning: torch.cuda.amp.GradScaler is enabled, but CUDA is not available.  Disabling.\n",
      "  warnings.warn(\n",
      "/opt/conda/lib/python3.10/site-packages/torch/amp/autocast_mode.py:250: UserWarning: User provided device_type of 'cuda', but CUDA is not available. Disabling\n",
      "  warnings.warn(\n"
     ]
    },
    {
     "name": "stdout",
     "output_type": "stream",
     "text": [
      "1/0.5607/0.02 | 2/0.5526/0.02 | 3/0.6235/0.02 | 4/0.5182/0.02 | 5/0.6215/0.02 | 6/0.6053/0.02 | 7/0.6457/0.02 | 8/0.5749/0.02 | 9/0.6478/0.02 | 10/0.5972/0.02 | 11/0.6781/0.01 | 12/0.6518/0.01 | 13/0.6316/0.01 | 14/0.6275/0.01 | 15/0.6660/0.01 | 16/0.6538/0.01 | 17/0.6518/0.005 | 18/0.6781/0.005 | 19/0.6741/0.005 | 20/0.6761/0.005 | 21/0.6862/0.005 | 22/0.6559/0.005 | 23/0.6680/0.0025 | 24/0.6822/0.0025 | 25/0.6802/0.0025 | 26/0.6883/0.0025 | 27/0.6802/0.0025 | 28/0.6761/0.0025 | 29/0.6822/0.00125 | 30/0.6781/0.00125 | 31/0.6842/0.00125 | 32/0.6802/0.00125 | 33/0.6781/0.00125 | 34/0.6761/0.00125 | 35/0.6781/0.000625 | 36/0.6822/0.000625 | 37/0.6781/0.000625 | 38/0.6822/0.000625 | 39/0.6802/0.000625 | 40/0.6721/0.000625 | 41/0.6842/0.0003125 | 42/0.6741/0.0003125 | 43/0.6862/0.0003125 | 44/0.6802/0.0003125 | 45/0.6862/0.0003125 | 46/0.6781/0.0003125 | 47/0.6761/0.00015625 | 48/0.6761/0.00015625 | 49/0.6822/0.00015625 | 50/0.6822/0.00015625 | 51/0.6761/0.00015625 | 52/0.6781/0.00015625 | 53/0.6781/7.8125e-05 | 54/0.6781/7.8125e-05 | 55/0.6802/7.8125e-05 | 56/0.6761/7.8125e-05 | 57/0.6761/7.8125e-05 | 58/0.6781/7.8125e-05 | 59/0.6781/3.90625e-05 | 60/0.6781/3.90625e-05 | 61/0.6761/3.90625e-05 | 62/0.6822/3.90625e-05 | 63/0.6781/3.90625e-05 | 64/0.6741/3.90625e-05 | 65/0.6781/1.953125e-05 | 66/0.6781/1.953125e-05 | 67/0.6802/1.953125e-05 | 68/0.6741/1.953125e-05 | 69/0.6802/1.953125e-05 | 70/0.6741/1.953125e-05 | 71/0.6802/9.765625e-06 | Accuracy: 0.3323\n",
      "Evaluating nci1 dataset using cos_sim method with a percentile of 70 against class members\n",
      "Training GCN on nci1 for 200 epochs:\n",
      "Epoch/train loss/val accuracy: "
     ]
    },
    {
     "name": "stderr",
     "output_type": "stream",
     "text": [
      "/opt/conda/lib/python3.10/site-packages/torch_geometric/deprecation.py:26: UserWarning: 'data.DataLoader' is deprecated, use 'loader.DataLoader' instead\n",
      "  warnings.warn(out)\n",
      "/opt/conda/lib/python3.10/site-packages/torch/cuda/amp/grad_scaler.py:125: UserWarning: torch.cuda.amp.GradScaler is enabled, but CUDA is not available.  Disabling.\n",
      "  warnings.warn(\n",
      "/opt/conda/lib/python3.10/site-packages/torch/amp/autocast_mode.py:250: UserWarning: User provided device_type of 'cuda', but CUDA is not available. Disabling\n",
      "  warnings.warn(\n"
     ]
    },
    {
     "name": "stdout",
     "output_type": "stream",
     "text": [
      "1/0.5104/0.02 | 2/0.5122/0.02 | 3/0.5556/0.02 | 4/0.6910/0.02 | 5/0.6562/0.02 | 6/0.6753/0.02 | 7/0.7135/0.02 | 8/0.7031/0.01 | 9/0.6944/0.01 | 10/0.7118/0.01 | 11/0.7292/0.01 | 12/0.7066/0.01 | 13/0.7378/0.01 | 14/0.7622/0.005 | 15/0.7274/0.005 | 16/0.7361/0.005 | 17/0.7014/0.005 | 18/0.7274/0.005 | 19/0.7205/0.005 | 20/0.7361/0.0025 | 21/0.7413/0.0025 | 22/0.7378/0.0025 | 23/0.7396/0.0025 | 24/0.7378/0.0025 | 25/0.7396/0.0025 | 26/0.7257/0.00125 | 27/0.7292/0.00125 | 28/0.7396/0.00125 | 29/0.7361/0.00125 | 30/0.7535/0.00125 | 31/0.7274/0.00125 | 32/0.7622/0.000625 | 33/0.7222/0.000625 | 34/0.7431/0.000625 | 35/0.7292/0.000625 | 36/0.7361/0.000625 | 37/0.7292/0.000625 | 38/0.7396/0.0003125 | 39/0.7309/0.0003125 | 40/0.7378/0.0003125 | 41/0.7500/0.0003125 | 42/0.7413/0.0003125 | 43/0.7465/0.0003125 | 44/0.7413/0.00015625 | 45/0.7378/0.00015625 | 46/0.7378/0.00015625 | 47/0.7431/0.00015625 | 48/0.7448/0.00015625 | 49/0.7448/0.00015625 | 50/0.7465/7.8125e-05 | 51/0.7413/7.8125e-05 | 52/0.7448/7.8125e-05 | 53/0.7431/7.8125e-05 | 54/0.7413/7.8125e-05 | 55/0.7361/7.8125e-05 | 56/0.7378/3.90625e-05 | 57/0.7448/3.90625e-05 | 58/0.7413/3.90625e-05 | 59/0.7431/3.90625e-05 | 60/0.7448/3.90625e-05 | 61/0.7465/3.90625e-05 | 62/0.7396/1.953125e-05 | 63/0.7396/1.953125e-05 | 64/0.7396/1.953125e-05 | 65/0.7413/1.953125e-05 | 66/0.7413/1.953125e-05 | 67/0.7500/1.953125e-05 | 68/0.7413/9.765625e-06 | Accuracy: 0.3028\n",
      "Evaluating nci1 dataset using cos_sim method with a percentile of 80 against class members\n",
      "Training GCN on nci1 for 200 epochs:\n",
      "Epoch/train loss/val accuracy: "
     ]
    },
    {
     "name": "stderr",
     "output_type": "stream",
     "text": [
      "/opt/conda/lib/python3.10/site-packages/torch_geometric/deprecation.py:26: UserWarning: 'data.DataLoader' is deprecated, use 'loader.DataLoader' instead\n",
      "  warnings.warn(out)\n",
      "/opt/conda/lib/python3.10/site-packages/torch/cuda/amp/grad_scaler.py:125: UserWarning: torch.cuda.amp.GradScaler is enabled, but CUDA is not available.  Disabling.\n",
      "  warnings.warn(\n",
      "/opt/conda/lib/python3.10/site-packages/torch/amp/autocast_mode.py:250: UserWarning: User provided device_type of 'cuda', but CUDA is not available. Disabling\n",
      "  warnings.warn(\n"
     ]
    },
    {
     "name": "stdout",
     "output_type": "stream",
     "text": [
      "1/0.5638/0.02 | 2/0.6109/0.02 | 3/0.6398/0.02 | 4/0.6383/0.02 | 5/0.5942/0.02 | 6/0.5912/0.02 | 7/0.6353/0.02 | 8/0.6778/0.01 | 9/0.6702/0.01 | 10/0.6277/0.01 | 11/0.6535/0.01 | 12/0.6809/0.01 | 13/0.6611/0.01 | 14/0.6763/0.005 | 15/0.6717/0.005 | 16/0.6748/0.005 | 17/0.6641/0.005 | 18/0.6733/0.005 | 19/0.6763/0.005 | 20/0.6763/0.0025 | 21/0.6763/0.0025 | 22/0.6839/0.0025 | 23/0.6930/0.0025 | 24/0.6778/0.0025 | 25/0.7036/0.0025 | 26/0.6945/0.00125 | 27/0.6809/0.00125 | 28/0.6960/0.00125 | 29/0.6960/0.00125 | 30/0.6960/0.00125 | 31/0.6945/0.00125 | 32/0.6915/0.000625 | 33/0.6930/0.000625 | 34/0.6900/0.000625 | 35/0.6960/0.000625 | 36/0.6945/0.000625 | 37/0.7036/0.000625 | 38/0.7006/0.0003125 | 39/0.7082/0.0003125 | 40/0.6930/0.0003125 | 41/0.7067/0.0003125 | 42/0.7067/0.0003125 | 43/0.7021/0.0003125 | 44/0.6991/0.00015625 | 45/0.7036/0.00015625 | 46/0.7067/0.00015625 | 47/0.7036/0.00015625 | 48/0.7052/0.00015625 | 49/0.7006/0.00015625 | 50/0.6900/7.8125e-05 | 51/0.7036/7.8125e-05 | 52/0.7052/7.8125e-05 | 53/0.7021/7.8125e-05 | 54/0.7021/7.8125e-05 | 55/0.7006/7.8125e-05 | 56/0.6945/3.90625e-05 | 57/0.7036/3.90625e-05 | 58/0.6930/3.90625e-05 | 59/0.7021/3.90625e-05 | 60/0.6930/3.90625e-05 | 61/0.7082/3.90625e-05 | 62/0.6991/1.953125e-05 | 63/0.7021/1.953125e-05 | 64/0.7006/1.953125e-05 | 65/0.7052/1.953125e-05 | 66/0.7036/1.953125e-05 | 67/0.7052/1.953125e-05 | 68/0.7006/9.765625e-06 | Accuracy: 0.3459\n",
      "Evaluating nci1 dataset using cos_sim method with a percentile of 90 against class members\n",
      "Training GCN on nci1 for 200 epochs:\n",
      "Epoch/train loss/val accuracy: "
     ]
    },
    {
     "name": "stderr",
     "output_type": "stream",
     "text": [
      "/opt/conda/lib/python3.10/site-packages/torch_geometric/deprecation.py:26: UserWarning: 'data.DataLoader' is deprecated, use 'loader.DataLoader' instead\n",
      "  warnings.warn(out)\n",
      "/opt/conda/lib/python3.10/site-packages/torch/cuda/amp/grad_scaler.py:125: UserWarning: torch.cuda.amp.GradScaler is enabled, but CUDA is not available.  Disabling.\n",
      "  warnings.warn(\n",
      "/opt/conda/lib/python3.10/site-packages/torch/amp/autocast_mode.py:250: UserWarning: User provided device_type of 'cuda', but CUDA is not available. Disabling\n",
      "  warnings.warn(\n"
     ]
    },
    {
     "name": "stdout",
     "output_type": "stream",
     "text": [
      "1/0.5959/0.02 | 2/0.5568/0.02 | 3/0.5608/0.02 | 4/0.5230/0.02 | 5/0.6405/0.02 | 6/0.6122/0.02 | 7/0.6541/0.02 | 8/0.6459/0.02 | 9/0.6243/0.02 | 10/0.6135/0.02 | 11/0.6230/0.01 | 12/0.6527/0.01 | 13/0.6635/0.01 | 14/0.6405/0.01 | 15/0.6541/0.01 | 16/0.6514/0.01 | 17/0.6703/0.005 | 18/0.6730/0.005 | 19/0.6595/0.005 | 20/0.6676/0.005 | 21/0.6824/0.005 | 22/0.6676/0.005 | 23/0.6689/0.0025 | 24/0.6716/0.0025 | 25/0.6662/0.0025 | 26/0.6905/0.0025 | 27/0.6797/0.0025 | 28/0.6905/0.0025 | 29/0.6811/0.00125 | 30/0.6851/0.00125 | 31/0.6892/0.00125 | 32/0.6851/0.00125 | 33/0.6824/0.00125 | 34/0.6838/0.00125 | 35/0.6905/0.000625 | 36/0.6851/0.000625 | 37/0.6851/0.000625 | 38/0.6838/0.000625 | 39/0.6784/0.000625 | 40/0.6865/0.000625 | 41/0.6838/0.0003125 | 42/0.6851/0.0003125 | 43/0.6865/0.0003125 | 44/0.6851/0.0003125 | 45/0.6838/0.0003125 | 46/0.6784/0.0003125 | 47/0.6865/0.00015625 | 48/0.6865/0.00015625 | 49/0.6824/0.00015625 | 50/0.6811/0.00015625 | 51/0.6838/0.00015625 | 52/0.6851/0.00015625 | 53/0.6838/7.8125e-05 | 54/0.6892/7.8125e-05 | 55/0.6838/7.8125e-05 | 56/0.6878/7.8125e-05 | 57/0.6878/7.8125e-05 | 58/0.6905/7.8125e-05 | 59/0.6865/3.90625e-05 | 60/0.6851/3.90625e-05 | 61/0.6824/3.90625e-05 | 62/0.6878/3.90625e-05 | 63/0.6878/3.90625e-05 | 64/0.6932/3.90625e-05 | 65/0.6865/1.953125e-05 | 66/0.6905/1.953125e-05 | 67/0.6824/1.953125e-05 | 68/0.6919/1.953125e-05 | 69/0.6892/1.953125e-05 | 70/0.6851/1.953125e-05 | 71/0.6878/9.765625e-06 | Accuracy: 0.3780\n",
      "Evaluating nci109 dataset using random method with a percentile of 40 against class members\n",
      "Training GCN on nci109 for 200 epochs:\n",
      "Epoch/train loss/val accuracy: "
     ]
    },
    {
     "name": "stderr",
     "output_type": "stream",
     "text": [
      "/opt/conda/lib/python3.10/site-packages/torch_geometric/deprecation.py:26: UserWarning: 'data.DataLoader' is deprecated, use 'loader.DataLoader' instead\n",
      "  warnings.warn(out)\n",
      "/opt/conda/lib/python3.10/site-packages/torch/cuda/amp/grad_scaler.py:125: UserWarning: torch.cuda.amp.GradScaler is enabled, but CUDA is not available.  Disabling.\n",
      "  warnings.warn(\n",
      "/opt/conda/lib/python3.10/site-packages/torch/amp/autocast_mode.py:250: UserWarning: User provided device_type of 'cuda', but CUDA is not available. Disabling\n",
      "  warnings.warn(\n"
     ]
    },
    {
     "name": "stdout",
     "output_type": "stream",
     "text": [
      "1/0.4636/0.02 | 2/0.5788/0.02 | 3/0.5061/0.02 | 4/0.6212/0.02 | 5/0.6152/0.02 | 6/0.5818/0.02 | 7/0.5394/0.02 | 8/0.5152/0.01 | 9/0.5424/0.01 | 10/0.5788/0.01 | 11/0.6121/0.01 | 12/0.6485/0.01 | 13/0.6455/0.01 | 14/0.5848/0.005 | 15/0.6848/0.005 | 16/0.6576/0.005 | 17/0.6788/0.005 | 18/0.6970/0.005 | 19/0.6727/0.005 | 20/0.6667/0.0025 | 21/0.6576/0.0025 | 22/0.6606/0.0025 | 23/0.6636/0.0025 | 24/0.6758/0.0025 | 25/0.6576/0.0025 | 26/0.6818/0.00125 | 27/0.6909/0.00125 | 28/0.6939/0.00125 | 29/0.6848/0.00125 | 30/0.6909/0.00125 | 31/0.6909/0.00125 | 32/0.6939/0.000625 | 33/0.6909/0.000625 | 34/0.6848/0.000625 | 35/0.7000/0.000625 | 36/0.7000/0.000625 | 37/0.6939/0.000625 | 38/0.6727/0.0003125 | 39/0.6818/0.0003125 | 40/0.6818/0.0003125 | 41/0.6818/0.0003125 | 42/0.6848/0.0003125 | 43/0.7000/0.0003125 | 44/0.6788/0.00015625 | 45/0.6818/0.00015625 | 46/0.6909/0.00015625 | 47/0.6788/0.00015625 | 48/0.6879/0.00015625 | 49/0.7000/0.00015625 | 50/0.6879/7.8125e-05 | 51/0.6909/7.8125e-05 | 52/0.6848/7.8125e-05 | 53/0.6879/7.8125e-05 | 54/0.6848/7.8125e-05 | 55/0.7000/7.8125e-05 | 56/0.6939/3.90625e-05 | 57/0.6970/3.90625e-05 | 58/0.6848/3.90625e-05 | 59/0.6879/3.90625e-05 | 60/0.6848/3.90625e-05 | 61/0.6909/3.90625e-05 | 62/0.6879/1.953125e-05 | 63/0.7000/1.953125e-05 | 64/0.6818/1.953125e-05 | 65/0.6909/1.953125e-05 | 66/0.6848/1.953125e-05 | 67/0.6848/1.953125e-05 | 68/0.6970/9.765625e-06 | Accuracy: 0.3686\n",
      "Evaluating nci109 dataset using random method with a percentile of 50 against class members\n",
      "Training GCN on nci109 for 200 epochs:\n",
      "Epoch/train loss/val accuracy: "
     ]
    },
    {
     "name": "stderr",
     "output_type": "stream",
     "text": [
      "/opt/conda/lib/python3.10/site-packages/torch_geometric/deprecation.py:26: UserWarning: 'data.DataLoader' is deprecated, use 'loader.DataLoader' instead\n",
      "  warnings.warn(out)\n",
      "/opt/conda/lib/python3.10/site-packages/torch/cuda/amp/grad_scaler.py:125: UserWarning: torch.cuda.amp.GradScaler is enabled, but CUDA is not available.  Disabling.\n",
      "  warnings.warn(\n",
      "/opt/conda/lib/python3.10/site-packages/torch/amp/autocast_mode.py:250: UserWarning: User provided device_type of 'cuda', but CUDA is not available. Disabling\n",
      "  warnings.warn(\n"
     ]
    },
    {
     "name": "stdout",
     "output_type": "stream",
     "text": [
      "1/0.5182/0.02 | 2/0.5884/0.02 | 3/0.5569/0.02 | 4/0.6005/0.02 | 5/0.6416/0.02 | 6/0.5956/0.02 | 7/0.6731/0.02 | 8/0.6150/0.01 | 9/0.6683/0.01 | 10/0.6562/0.01 | 11/0.6562/0.01 | 12/0.6804/0.01 | 13/0.6441/0.01 | 14/0.6586/0.005 | 15/0.6586/0.005 | 16/0.6828/0.005 | 17/0.6465/0.005 | 18/0.6755/0.005 | 19/0.6659/0.005 | 20/0.6659/0.0025 | 21/0.6755/0.0025 | 22/0.6562/0.0025 | 23/0.6731/0.0025 | 24/0.6707/0.0025 | 25/0.6586/0.0025 | 26/0.6610/0.00125 | 27/0.6659/0.00125 | 28/0.6683/0.00125 | 29/0.6731/0.00125 | 30/0.6707/0.00125 | 31/0.6780/0.00125 | 32/0.6828/0.000625 | 33/0.6780/0.000625 | 34/0.6780/0.000625 | 35/0.6780/0.000625 | 36/0.6828/0.000625 | 37/0.6828/0.000625 | 38/0.6828/0.0003125 | 39/0.6731/0.0003125 | 40/0.6852/0.0003125 | 41/0.6780/0.0003125 | 42/0.6707/0.0003125 | 43/0.6755/0.0003125 | 44/0.6804/0.00015625 | 45/0.6804/0.00015625 | 46/0.6804/0.00015625 | 47/0.6755/0.00015625 | 48/0.6804/0.00015625 | 49/0.6780/0.00015625 | 50/0.6755/7.8125e-05 | 51/0.6828/7.8125e-05 | 52/0.6755/7.8125e-05 | 53/0.6780/7.8125e-05 | 54/0.6804/7.8125e-05 | 55/0.6707/7.8125e-05 | 56/0.6755/3.90625e-05 | 57/0.6755/3.90625e-05 | 58/0.6877/3.90625e-05 | 59/0.6780/3.90625e-05 | 60/0.6828/3.90625e-05 | 61/0.6852/3.90625e-05 | 62/0.6828/1.953125e-05 | 63/0.6804/1.953125e-05 | 64/0.6755/1.953125e-05 | 65/0.6804/1.953125e-05 | 66/0.6755/1.953125e-05 | 67/0.6707/1.953125e-05 | 68/0.6780/9.765625e-06 | Accuracy: 0.3876\n",
      "Evaluating nci109 dataset using random method with a percentile of 60 against class members\n",
      "Training GCN on nci109 for 200 epochs:\n",
      "Epoch/train loss/val accuracy: "
     ]
    },
    {
     "name": "stderr",
     "output_type": "stream",
     "text": [
      "/opt/conda/lib/python3.10/site-packages/torch_geometric/deprecation.py:26: UserWarning: 'data.DataLoader' is deprecated, use 'loader.DataLoader' instead\n",
      "  warnings.warn(out)\n",
      "/opt/conda/lib/python3.10/site-packages/torch/cuda/amp/grad_scaler.py:125: UserWarning: torch.cuda.amp.GradScaler is enabled, but CUDA is not available.  Disabling.\n",
      "  warnings.warn(\n",
      "/opt/conda/lib/python3.10/site-packages/torch/amp/autocast_mode.py:250: UserWarning: User provided device_type of 'cuda', but CUDA is not available. Disabling\n",
      "  warnings.warn(\n"
     ]
    },
    {
     "name": "stdout",
     "output_type": "stream",
     "text": [
      "1/0.5262/0.02 | 2/0.6048/0.02 | 3/0.6028/0.02 | 4/0.5706/0.02 | 5/0.6552/0.02 | 6/0.6371/0.02 | 7/0.6714/0.02 | 8/0.6532/0.01 | 9/0.6391/0.01 | 10/0.6714/0.01 | 11/0.6613/0.01 | 12/0.6613/0.01 | 13/0.6573/0.01 | 14/0.6714/0.005 | 15/0.6774/0.005 | 16/0.6774/0.005 | 17/0.6895/0.005 | 18/0.6895/0.005 | 19/0.6754/0.005 | 20/0.6815/0.0025 | 21/0.6734/0.0025 | 22/0.6754/0.0025 | 23/0.6694/0.0025 | 24/0.6774/0.0025 | 25/0.6653/0.0025 | 26/0.6895/0.00125 | 27/0.6774/0.00125 | 28/0.6815/0.00125 | 29/0.6794/0.00125 | 30/0.6996/0.00125 | 31/0.6875/0.00125 | 32/0.6895/0.000625 | 33/0.6835/0.000625 | 34/0.6915/0.000625 | 35/0.6915/0.000625 | 36/0.6815/0.000625 | 37/0.6895/0.000625 | 38/0.6815/0.0003125 | 39/0.6996/0.0003125 | 40/0.6935/0.0003125 | 41/0.7016/0.0003125 | 42/0.6956/0.0003125 | 43/0.6956/0.0003125 | 44/0.6895/0.00015625 | 45/0.6915/0.00015625 | 46/0.6996/0.00015625 | 47/0.6935/0.00015625 | 48/0.6915/0.00015625 | 49/0.6714/0.00015625 | 50/0.6734/7.8125e-05 | 51/0.6915/7.8125e-05 | 52/0.6875/7.8125e-05 | 53/0.6754/7.8125e-05 | 54/0.6935/7.8125e-05 | 55/0.6935/7.8125e-05 | 56/0.6935/3.90625e-05 | 57/0.6935/3.90625e-05 | 58/0.6875/3.90625e-05 | 59/0.6915/3.90625e-05 | 60/0.6956/3.90625e-05 | 61/0.6915/3.90625e-05 | 62/0.6915/1.953125e-05 | 63/0.6935/1.953125e-05 | 64/0.6815/1.953125e-05 | 65/0.6915/1.953125e-05 | 66/0.6915/1.953125e-05 | 67/0.6956/1.953125e-05 | 68/0.6895/9.765625e-06 | Accuracy: 0.3810\n",
      "Evaluating nci109 dataset using random method with a percentile of 70 against class members\n",
      "Training GCN on nci109 for 200 epochs:\n",
      "Epoch/train loss/val accuracy: "
     ]
    },
    {
     "name": "stderr",
     "output_type": "stream",
     "text": [
      "/opt/conda/lib/python3.10/site-packages/torch_geometric/deprecation.py:26: UserWarning: 'data.DataLoader' is deprecated, use 'loader.DataLoader' instead\n",
      "  warnings.warn(out)\n",
      "/opt/conda/lib/python3.10/site-packages/torch/cuda/amp/grad_scaler.py:125: UserWarning: torch.cuda.amp.GradScaler is enabled, but CUDA is not available.  Disabling.\n",
      "  warnings.warn(\n",
      "/opt/conda/lib/python3.10/site-packages/torch/amp/autocast_mode.py:250: UserWarning: User provided device_type of 'cuda', but CUDA is not available. Disabling\n",
      "  warnings.warn(\n"
     ]
    },
    {
     "name": "stdout",
     "output_type": "stream",
     "text": [
      "1/0.6505/0.02 | 2/0.5882/0.02 | 3/0.6453/0.02 | 4/0.6696/0.02 | 5/0.6609/0.02 | 6/0.6522/0.02 | 7/0.6592/0.02 | 8/0.6851/0.02 | 9/0.6972/0.01 | 10/0.7024/0.01 | 11/0.7042/0.01 | 12/0.7093/0.01 | 13/0.7024/0.01 | 14/0.6990/0.01 | 15/0.7093/0.005 | 16/0.7024/0.005 | 17/0.7145/0.005 | 18/0.6990/0.005 | 19/0.7059/0.005 | 20/0.7163/0.005 | 21/0.7232/0.0025 | 22/0.7145/0.0025 | 23/0.7180/0.0025 | 24/0.7163/0.0025 | 25/0.7163/0.0025 | 26/0.7059/0.0025 | 27/0.7145/0.00125 | 28/0.7111/0.00125 | 29/0.7197/0.00125 | 30/0.7232/0.00125 | 31/0.7232/0.00125 | 32/0.7232/0.00125 | 33/0.7093/0.000625 | 34/0.7163/0.000625 | 35/0.7180/0.000625 | 36/0.7232/0.000625 | 37/0.7215/0.000625 | 38/0.7249/0.000625 | 39/0.7301/0.0003125 | 40/0.7163/0.0003125 | 41/0.7266/0.0003125 | 42/0.7266/0.0003125 | 43/0.7266/0.0003125 | 44/0.7197/0.0003125 | 45/0.7197/0.00015625 | 46/0.7249/0.00015625 | 47/0.7249/0.00015625 | 48/0.7215/0.00015625 | 49/0.7180/0.00015625 | 50/0.7180/0.00015625 | 51/0.7249/7.8125e-05 | 52/0.7128/7.8125e-05 | 53/0.7197/7.8125e-05 | 54/0.7284/7.8125e-05 | 55/0.7232/7.8125e-05 | 56/0.7284/7.8125e-05 | 57/0.7232/3.90625e-05 | 58/0.7249/3.90625e-05 | 59/0.7284/3.90625e-05 | 60/0.7232/3.90625e-05 | 61/0.7284/3.90625e-05 | 62/0.7232/3.90625e-05 | 63/0.7301/1.953125e-05 | 64/0.7215/1.953125e-05 | 65/0.7284/1.953125e-05 | 66/0.7249/1.953125e-05 | 67/0.7197/1.953125e-05 | 68/0.7284/1.953125e-05 | 69/0.7215/9.765625e-06 | Accuracy: 0.3414\n",
      "Evaluating nci109 dataset using random method with a percentile of 80 against class members\n",
      "Training GCN on nci109 for 200 epochs:\n",
      "Epoch/train loss/val accuracy: "
     ]
    },
    {
     "name": "stderr",
     "output_type": "stream",
     "text": [
      "/opt/conda/lib/python3.10/site-packages/torch_geometric/deprecation.py:26: UserWarning: 'data.DataLoader' is deprecated, use 'loader.DataLoader' instead\n",
      "  warnings.warn(out)\n",
      "/opt/conda/lib/python3.10/site-packages/torch/cuda/amp/grad_scaler.py:125: UserWarning: torch.cuda.amp.GradScaler is enabled, but CUDA is not available.  Disabling.\n",
      "  warnings.warn(\n",
      "/opt/conda/lib/python3.10/site-packages/torch/amp/autocast_mode.py:250: UserWarning: User provided device_type of 'cuda', but CUDA is not available. Disabling\n",
      "  warnings.warn(\n"
     ]
    },
    {
     "name": "stdout",
     "output_type": "stream",
     "text": [
      "1/0.6142/0.02 | 2/0.6218/0.02 | 3/0.6445/0.02 | 4/0.6293/0.02 | 5/0.6536/0.02 | 6/0.5885/0.02 | 7/0.6430/0.02 | 8/0.5250/0.02 | 9/0.6233/0.02 | 10/0.6793/0.02 | 11/0.6823/0.02 | 12/0.6823/0.02 | 13/0.6399/0.02 | 14/0.6884/0.02 | 15/0.6778/0.01 | 16/0.6929/0.01 | 17/0.6868/0.01 | 18/0.6914/0.01 | 19/0.6959/0.01 | 20/0.6793/0.01 | 21/0.7110/0.005 | 22/0.6989/0.005 | 23/0.7126/0.005 | 24/0.7065/0.005 | 25/0.6944/0.005 | 26/0.7110/0.005 | 27/0.7080/0.0025 | 28/0.6944/0.0025 | 29/0.6944/0.0025 | 30/0.6974/0.0025 | 31/0.7050/0.0025 | 32/0.7110/0.0025 | 33/0.7035/0.00125 | 34/0.6959/0.00125 | 35/0.6944/0.00125 | 36/0.7005/0.00125 | 37/0.7020/0.00125 | 38/0.6974/0.00125 | 39/0.6989/0.000625 | 40/0.7005/0.000625 | 41/0.6959/0.000625 | 42/0.6974/0.000625 | 43/0.7005/0.000625 | 44/0.7020/0.000625 | 45/0.6959/0.0003125 | 46/0.7020/0.0003125 | 47/0.7035/0.0003125 | 48/0.7035/0.0003125 | 49/0.7035/0.0003125 | 50/0.7050/0.0003125 | 51/0.7005/0.00015625 | 52/0.6989/0.00015625 | 53/0.7020/0.00015625 | 54/0.7065/0.00015625 | 55/0.7065/0.00015625 | 56/0.6944/0.00015625 | 57/0.7050/7.8125e-05 | 58/0.7020/7.8125e-05 | 59/0.7020/7.8125e-05 | 60/0.7050/7.8125e-05 | 61/0.6989/7.8125e-05 | 62/0.7050/7.8125e-05 | 63/0.7020/3.90625e-05 | 64/0.7020/3.90625e-05 | 65/0.7020/3.90625e-05 | 66/0.7050/3.90625e-05 | 67/0.7020/3.90625e-05 | 68/0.7035/3.90625e-05 | 69/0.7035/1.953125e-05 | 70/0.7020/1.953125e-05 | 71/0.7050/1.953125e-05 | 72/0.7020/1.953125e-05 | 73/0.7050/1.953125e-05 | 74/0.7020/1.953125e-05 | 75/0.7020/9.765625e-06 | Accuracy: 0.3305\n",
      "Evaluating nci109 dataset using random method with a percentile of 90 against class members\n",
      "Training GCN on nci109 for 200 epochs:\n",
      "Epoch/train loss/val accuracy: "
     ]
    },
    {
     "name": "stderr",
     "output_type": "stream",
     "text": [
      "/opt/conda/lib/python3.10/site-packages/torch_geometric/deprecation.py:26: UserWarning: 'data.DataLoader' is deprecated, use 'loader.DataLoader' instead\n",
      "  warnings.warn(out)\n",
      "/opt/conda/lib/python3.10/site-packages/torch/cuda/amp/grad_scaler.py:125: UserWarning: torch.cuda.amp.GradScaler is enabled, but CUDA is not available.  Disabling.\n",
      "  warnings.warn(\n",
      "/opt/conda/lib/python3.10/site-packages/torch/amp/autocast_mode.py:250: UserWarning: User provided device_type of 'cuda', but CUDA is not available. Disabling\n",
      "  warnings.warn(\n"
     ]
    },
    {
     "name": "stdout",
     "output_type": "stream",
     "text": [
      "1/0.6366/0.02 | 2/0.6541/0.02 | 3/0.6393/0.02 | 4/0.4899/0.02 | 5/0.4993/0.02 | 6/0.4899/0.02 | 7/0.6608/0.02 | 8/0.6662/0.02 | 9/0.6904/0.02 | 10/0.6164/0.02 | 11/0.6729/0.01 | 12/0.6783/0.01 | 13/0.6649/0.01 | 14/0.6474/0.01 | 15/0.6756/0.01 | 16/0.6878/0.01 | 17/0.6864/0.005 | 18/0.7026/0.005 | 19/0.6904/0.005 | 20/0.6931/0.005 | 21/0.6931/0.005 | 22/0.6770/0.005 | 23/0.6945/0.0025 | 24/0.6891/0.0025 | 25/0.6810/0.0025 | 26/0.6837/0.0025 | 27/0.6931/0.0025 | 28/0.6891/0.0025 | 29/0.6972/0.00125 | 30/0.6945/0.00125 | 31/0.6945/0.00125 | 32/0.6931/0.00125 | 33/0.6904/0.00125 | 34/0.6972/0.00125 | 35/0.6931/0.000625 | 36/0.6999/0.000625 | 37/0.7012/0.000625 | 38/0.6985/0.000625 | 39/0.7079/0.000625 | 40/0.6985/0.000625 | 41/0.6918/0.0003125 | 42/0.6931/0.0003125 | 43/0.6972/0.0003125 | 44/0.6972/0.0003125 | 45/0.7039/0.0003125 | 46/0.6985/0.0003125 | 47/0.6999/0.00015625 | 48/0.6958/0.00015625 | 49/0.7052/0.00015625 | 50/0.7026/0.00015625 | 51/0.7012/0.00015625 | 52/0.6985/0.00015625 | 53/0.6972/7.8125e-05 | 54/0.6945/7.8125e-05 | 55/0.7026/7.8125e-05 | 56/0.7012/7.8125e-05 | 57/0.6999/7.8125e-05 | 58/0.7012/7.8125e-05 | 59/0.6972/3.90625e-05 | 60/0.6945/3.90625e-05 | 61/0.7026/3.90625e-05 | 62/0.7026/3.90625e-05 | 63/0.6985/3.90625e-05 | 64/0.7012/3.90625e-05 | 65/0.6972/1.953125e-05 | 66/0.6999/1.953125e-05 | 67/0.6945/1.953125e-05 | 68/0.7026/1.953125e-05 | 69/0.6972/1.953125e-05 | 70/0.6985/1.953125e-05 | 71/0.7026/9.765625e-06 | Accuracy: 0.3317\n",
      "Evaluating nci109 dataset using graph_order method with a percentile of 40 against class members\n",
      "Training GCN on nci109 for 200 epochs:\n",
      "Epoch/train loss/val accuracy: "
     ]
    },
    {
     "name": "stderr",
     "output_type": "stream",
     "text": [
      "/opt/conda/lib/python3.10/site-packages/torch_geometric/deprecation.py:26: UserWarning: 'data.DataLoader' is deprecated, use 'loader.DataLoader' instead\n",
      "  warnings.warn(out)\n",
      "/opt/conda/lib/python3.10/site-packages/torch/cuda/amp/grad_scaler.py:125: UserWarning: torch.cuda.amp.GradScaler is enabled, but CUDA is not available.  Disabling.\n",
      "  warnings.warn(\n",
      "/opt/conda/lib/python3.10/site-packages/torch/amp/autocast_mode.py:250: UserWarning: User provided device_type of 'cuda', but CUDA is not available. Disabling\n",
      "  warnings.warn(\n"
     ]
    },
    {
     "name": "stdout",
     "output_type": "stream",
     "text": [
      "1/0.5347/0.02 | 2/0.5438/0.02 | 3/0.5831/0.02 | 4/0.5680/0.02 | 5/0.5952/0.02 | 6/0.5801/0.02 | 7/0.5982/0.02 | 8/0.5468/0.01 | 9/0.5891/0.01 | 10/0.6042/0.01 | 11/0.6133/0.01 | 12/0.6193/0.01 | 13/0.6193/0.01 | 14/0.6405/0.005 | 15/0.6284/0.005 | 16/0.6133/0.005 | 17/0.6254/0.005 | 18/0.6647/0.005 | 19/0.6163/0.005 | 20/0.6495/0.0025 | 21/0.6526/0.0025 | 22/0.6677/0.0025 | 23/0.6526/0.0025 | 24/0.6526/0.0025 | 25/0.6284/0.0025 | 26/0.6556/0.00125 | 27/0.6647/0.00125 | 28/0.6586/0.00125 | 29/0.6556/0.00125 | 30/0.6465/0.00125 | 31/0.6586/0.00125 | 32/0.6556/0.000625 | 33/0.6677/0.000625 | 34/0.6677/0.000625 | 35/0.6616/0.000625 | 36/0.6707/0.000625 | 37/0.6647/0.000625 | 38/0.6495/0.0003125 | 39/0.6556/0.0003125 | 40/0.6556/0.0003125 | 41/0.6586/0.0003125 | 42/0.6616/0.0003125 | 43/0.6556/0.0003125 | 44/0.6647/0.00015625 | 45/0.6647/0.00015625 | 46/0.6586/0.00015625 | 47/0.6586/0.00015625 | 48/0.6586/0.00015625 | 49/0.6586/0.00015625 | 50/0.6526/7.8125e-05 | 51/0.6647/7.8125e-05 | 52/0.6586/7.8125e-05 | 53/0.6556/7.8125e-05 | 54/0.6556/7.8125e-05 | 55/0.6556/7.8125e-05 | 56/0.6586/3.90625e-05 | 57/0.6647/3.90625e-05 | 58/0.6647/3.90625e-05 | 59/0.6677/3.90625e-05 | 60/0.6556/3.90625e-05 | 61/0.6586/3.90625e-05 | 62/0.6616/1.953125e-05 | 63/0.6616/1.953125e-05 | 64/0.6647/1.953125e-05 | 65/0.6647/1.953125e-05 | 66/0.6586/1.953125e-05 | 67/0.6616/1.953125e-05 | 68/0.6526/9.765625e-06 | Accuracy: 0.3523\n",
      "Evaluating nci109 dataset using graph_order method with a percentile of 50 against class members\n",
      "Training GCN on nci109 for 200 epochs:\n",
      "Epoch/train loss/val accuracy: "
     ]
    },
    {
     "name": "stderr",
     "output_type": "stream",
     "text": [
      "/opt/conda/lib/python3.10/site-packages/torch_geometric/deprecation.py:26: UserWarning: 'data.DataLoader' is deprecated, use 'loader.DataLoader' instead\n",
      "  warnings.warn(out)\n",
      "/opt/conda/lib/python3.10/site-packages/torch/cuda/amp/grad_scaler.py:125: UserWarning: torch.cuda.amp.GradScaler is enabled, but CUDA is not available.  Disabling.\n",
      "  warnings.warn(\n",
      "/opt/conda/lib/python3.10/site-packages/torch/amp/autocast_mode.py:250: UserWarning: User provided device_type of 'cuda', but CUDA is not available. Disabling\n",
      "  warnings.warn(\n"
     ]
    },
    {
     "name": "stdout",
     "output_type": "stream",
     "text": [
      "1/0.5303/0.02 | 2/0.5303/0.02 | 3/0.5617/0.02 | 4/0.5787/0.02 | 5/0.5835/0.02 | 6/0.5666/0.02 | 7/0.6077/0.02 | 8/0.6344/0.01 | 9/0.6126/0.01 | 10/0.6634/0.01 | 11/0.6634/0.01 | 12/0.6344/0.01 | 13/0.6683/0.01 | 14/0.6852/0.005 | 15/0.6344/0.005 | 16/0.6780/0.005 | 17/0.6344/0.005 | 18/0.6683/0.005 | 19/0.6513/0.005 | 20/0.6901/0.0025 | 21/0.6852/0.0025 | 22/0.6852/0.0025 | 23/0.6659/0.0025 | 24/0.6877/0.0025 | 25/0.6828/0.0025 | 26/0.6755/0.00125 | 27/0.6755/0.00125 | 28/0.6755/0.00125 | 29/0.6634/0.00125 | 30/0.6828/0.00125 | 31/0.6731/0.00125 | 32/0.6852/0.000625 | 33/0.6780/0.000625 | 34/0.6755/0.000625 | 35/0.6804/0.000625 | 36/0.6731/0.000625 | 37/0.6877/0.000625 | 38/0.6707/0.0003125 | 39/0.6780/0.0003125 | 40/0.6731/0.0003125 | 41/0.6731/0.0003125 | 42/0.6755/0.0003125 | 43/0.6780/0.0003125 | 44/0.6707/0.00015625 | 45/0.6707/0.00015625 | 46/0.6683/0.00015625 | 47/0.6707/0.00015625 | 48/0.6755/0.00015625 | 49/0.6731/0.00015625 | 50/0.6731/7.8125e-05 | 51/0.6731/7.8125e-05 | 52/0.6707/7.8125e-05 | 53/0.6683/7.8125e-05 | 54/0.6707/7.8125e-05 | 55/0.6755/7.8125e-05 | 56/0.6707/3.90625e-05 | 57/0.6755/3.90625e-05 | 58/0.6731/3.90625e-05 | 59/0.6780/3.90625e-05 | 60/0.6755/3.90625e-05 | 61/0.6683/3.90625e-05 | 62/0.6780/1.953125e-05 | 63/0.6731/1.953125e-05 | 64/0.6707/1.953125e-05 | 65/0.6731/1.953125e-05 | 66/0.6755/1.953125e-05 | 67/0.6707/1.953125e-05 | 68/0.6731/9.765625e-06 | Accuracy: 0.3364\n",
      "Evaluating nci109 dataset using graph_order method with a percentile of 60 against class members\n",
      "Training GCN on nci109 for 200 epochs:\n",
      "Epoch/train loss/val accuracy: "
     ]
    },
    {
     "name": "stderr",
     "output_type": "stream",
     "text": [
      "/opt/conda/lib/python3.10/site-packages/torch_geometric/deprecation.py:26: UserWarning: 'data.DataLoader' is deprecated, use 'loader.DataLoader' instead\n",
      "  warnings.warn(out)\n",
      "/opt/conda/lib/python3.10/site-packages/torch/cuda/amp/grad_scaler.py:125: UserWarning: torch.cuda.amp.GradScaler is enabled, but CUDA is not available.  Disabling.\n",
      "  warnings.warn(\n",
      "/opt/conda/lib/python3.10/site-packages/torch/amp/autocast_mode.py:250: UserWarning: User provided device_type of 'cuda', but CUDA is not available. Disabling\n",
      "  warnings.warn(\n"
     ]
    },
    {
     "name": "stdout",
     "output_type": "stream",
     "text": [
      "1/0.6069/0.02 | 2/0.5685/0.02 | 3/0.6613/0.02 | 4/0.4798/0.02 | 5/0.6835/0.02 | 6/0.6391/0.02 | 7/0.6815/0.02 | 8/0.6835/0.02 | 9/0.6835/0.02 | 10/0.6069/0.02 | 11/0.7137/0.01 | 12/0.6956/0.01 | 13/0.6714/0.01 | 14/0.6935/0.01 | 15/0.6935/0.01 | 16/0.7097/0.01 | 17/0.7016/0.005 | 18/0.7097/0.005 | 19/0.7117/0.005 | 20/0.7036/0.005 | 21/0.7198/0.005 | 22/0.6976/0.005 | 23/0.7177/0.0025 | 24/0.6976/0.0025 | 25/0.7117/0.0025 | 26/0.7097/0.0025 | 27/0.7198/0.0025 | 28/0.7036/0.0025 | 29/0.7036/0.00125 | 30/0.7016/0.00125 | 31/0.7117/0.00125 | 32/0.7177/0.00125 | 33/0.7157/0.00125 | 34/0.7198/0.00125 | 35/0.7117/0.000625 | 36/0.7117/0.000625 | 37/0.7137/0.000625 | 38/0.7218/0.000625 | 39/0.7117/0.000625 | 40/0.7218/0.000625 | 41/0.7157/0.0003125 | 42/0.7198/0.0003125 | 43/0.7218/0.0003125 | 44/0.7198/0.0003125 | 45/0.7218/0.0003125 | 46/0.7177/0.0003125 | 47/0.7157/0.00015625 | 48/0.7157/0.00015625 | 49/0.7177/0.00015625 | 50/0.7077/0.00015625 | 51/0.7157/0.00015625 | 52/0.7198/0.00015625 | 53/0.7157/7.8125e-05 | 54/0.7137/7.8125e-05 | 55/0.7137/7.8125e-05 | 56/0.7157/7.8125e-05 | 57/0.7137/7.8125e-05 | 58/0.7177/7.8125e-05 | 59/0.7137/3.90625e-05 | 60/0.7218/3.90625e-05 | 61/0.7117/3.90625e-05 | 62/0.7137/3.90625e-05 | 63/0.7198/3.90625e-05 | 64/0.7198/3.90625e-05 | 65/0.7198/1.953125e-05 | 66/0.7097/1.953125e-05 | 67/0.7056/1.953125e-05 | 68/0.7218/1.953125e-05 | 69/0.7218/1.953125e-05 | 70/0.7198/1.953125e-05 | 71/0.7218/9.765625e-06 | Accuracy: 0.3830\n",
      "Evaluating nci109 dataset using graph_order method with a percentile of 70 against class members\n",
      "Training GCN on nci109 for 200 epochs:\n",
      "Epoch/train loss/val accuracy: "
     ]
    },
    {
     "name": "stderr",
     "output_type": "stream",
     "text": [
      "/opt/conda/lib/python3.10/site-packages/torch_geometric/deprecation.py:26: UserWarning: 'data.DataLoader' is deprecated, use 'loader.DataLoader' instead\n",
      "  warnings.warn(out)\n",
      "/opt/conda/lib/python3.10/site-packages/torch/cuda/amp/grad_scaler.py:125: UserWarning: torch.cuda.amp.GradScaler is enabled, but CUDA is not available.  Disabling.\n",
      "  warnings.warn(\n",
      "/opt/conda/lib/python3.10/site-packages/torch/amp/autocast_mode.py:250: UserWarning: User provided device_type of 'cuda', but CUDA is not available. Disabling\n",
      "  warnings.warn(\n"
     ]
    },
    {
     "name": "stdout",
     "output_type": "stream",
     "text": [
      "1/0.5294/0.02 | 2/0.6211/0.02 | 3/0.6384/0.02 | 4/0.6298/0.02 | 5/0.5052/0.02 | 6/0.5623/0.02 | 7/0.5900/0.02 | 8/0.6315/0.02 | 9/0.6142/0.02 | 10/0.6419/0.02 | 11/0.6696/0.02 | 12/0.6592/0.01 | 13/0.6661/0.01 | 14/0.6661/0.01 | 15/0.6765/0.01 | 16/0.6817/0.01 | 17/0.6903/0.01 | 18/0.6834/0.005 | 19/0.6799/0.005 | 20/0.6851/0.005 | 21/0.6574/0.005 | 22/0.6886/0.005 | 23/0.6938/0.005 | 24/0.6869/0.0025 | 25/0.6972/0.0025 | 26/0.6886/0.0025 | 27/0.6834/0.0025 | 28/0.7007/0.0025 | 29/0.6869/0.0025 | 30/0.6955/0.00125 | 31/0.6955/0.00125 | 32/0.6990/0.00125 | 33/0.6903/0.00125 | 34/0.7007/0.00125 | 35/0.6869/0.00125 | 36/0.6886/0.000625 | 37/0.6972/0.000625 | 38/0.6955/0.000625 | 39/0.6920/0.000625 | 40/0.6955/0.000625 | 41/0.6938/0.000625 | 42/0.7042/0.0003125 | 43/0.6972/0.0003125 | 44/0.6955/0.0003125 | 45/0.6938/0.0003125 | 46/0.6886/0.0003125 | 47/0.6920/0.0003125 | 48/0.6972/0.00015625 | 49/0.6972/0.00015625 | 50/0.6955/0.00015625 | 51/0.6903/0.00015625 | 52/0.6886/0.00015625 | 53/0.6955/0.00015625 | 54/0.6955/7.8125e-05 | 55/0.6955/7.8125e-05 | 56/0.6938/7.8125e-05 | 57/0.6972/7.8125e-05 | 58/0.6990/7.8125e-05 | 59/0.6920/7.8125e-05 | 60/0.6903/3.90625e-05 | 61/0.6955/3.90625e-05 | 62/0.7007/3.90625e-05 | 63/0.6920/3.90625e-05 | 64/0.6920/3.90625e-05 | 65/0.6955/3.90625e-05 | 66/0.7007/1.953125e-05 | 67/0.6955/1.953125e-05 | 68/0.6990/1.953125e-05 | 69/0.6938/1.953125e-05 | 70/0.6955/1.953125e-05 | 71/0.6955/1.953125e-05 | 72/0.6938/9.765625e-06 | Accuracy: 0.3444\n",
      "Evaluating nci109 dataset using graph_order method with a percentile of 80 against class members\n",
      "Training GCN on nci109 for 200 epochs:\n",
      "Epoch/train loss/val accuracy: "
     ]
    },
    {
     "name": "stderr",
     "output_type": "stream",
     "text": [
      "/opt/conda/lib/python3.10/site-packages/torch_geometric/deprecation.py:26: UserWarning: 'data.DataLoader' is deprecated, use 'loader.DataLoader' instead\n",
      "  warnings.warn(out)\n",
      "/opt/conda/lib/python3.10/site-packages/torch/cuda/amp/grad_scaler.py:125: UserWarning: torch.cuda.amp.GradScaler is enabled, but CUDA is not available.  Disabling.\n",
      "  warnings.warn(\n",
      "/opt/conda/lib/python3.10/site-packages/torch/amp/autocast_mode.py:250: UserWarning: User provided device_type of 'cuda', but CUDA is not available. Disabling\n",
      "  warnings.warn(\n"
     ]
    },
    {
     "name": "stdout",
     "output_type": "stream",
     "text": [
      "1/0.5598/0.02 | 2/0.6097/0.02 | 3/0.5552/0.02 | 4/0.6278/0.02 | 5/0.6324/0.02 | 6/0.6188/0.02 | 7/0.6278/0.02 | 8/0.6278/0.02 | 9/0.6309/0.02 | 10/0.6309/0.01 | 11/0.6460/0.01 | 12/0.6293/0.01 | 13/0.6717/0.01 | 14/0.6747/0.01 | 15/0.6641/0.01 | 16/0.6626/0.005 | 17/0.6823/0.005 | 18/0.6899/0.005 | 19/0.6717/0.005 | 20/0.6914/0.005 | 21/0.6793/0.005 | 22/0.6747/0.0025 | 23/0.6914/0.0025 | 24/0.6823/0.0025 | 25/0.6884/0.0025 | 26/0.7005/0.0025 | 27/0.6823/0.0025 | 28/0.7005/0.00125 | 29/0.7095/0.00125 | 30/0.7005/0.00125 | 31/0.6929/0.00125 | 32/0.6944/0.00125 | 33/0.6838/0.00125 | 34/0.6899/0.000625 | 35/0.6823/0.000625 | 36/0.6974/0.000625 | 37/0.7035/0.000625 | 38/0.6974/0.000625 | 39/0.7020/0.000625 | 40/0.7005/0.0003125 | 41/0.6929/0.0003125 | 42/0.6929/0.0003125 | 43/0.6959/0.0003125 | 44/0.6959/0.0003125 | 45/0.6974/0.0003125 | 46/0.6944/0.00015625 | 47/0.6989/0.00015625 | 48/0.6944/0.00015625 | 49/0.6929/0.00015625 | 50/0.6914/0.00015625 | 51/0.6959/0.00015625 | 52/0.6914/7.8125e-05 | 53/0.6899/7.8125e-05 | 54/0.6959/7.8125e-05 | 55/0.6989/7.8125e-05 | 56/0.6974/7.8125e-05 | 57/0.6989/7.8125e-05 | 58/0.6974/3.90625e-05 | 59/0.6929/3.90625e-05 | 60/0.6944/3.90625e-05 | 61/0.6929/3.90625e-05 | 62/0.6974/3.90625e-05 | 63/0.6929/3.90625e-05 | 64/0.6944/1.953125e-05 | 65/0.6929/1.953125e-05 | 66/0.6884/1.953125e-05 | 67/0.6944/1.953125e-05 | 68/0.6929/1.953125e-05 | 69/0.6914/1.953125e-05 | 70/0.6959/9.765625e-06 | Accuracy: 0.3714\n",
      "Evaluating nci109 dataset using graph_order method with a percentile of 90 against class members\n",
      "Training GCN on nci109 for 200 epochs:\n",
      "Epoch/train loss/val accuracy: "
     ]
    },
    {
     "name": "stderr",
     "output_type": "stream",
     "text": [
      "/opt/conda/lib/python3.10/site-packages/torch_geometric/deprecation.py:26: UserWarning: 'data.DataLoader' is deprecated, use 'loader.DataLoader' instead\n",
      "  warnings.warn(out)\n",
      "/opt/conda/lib/python3.10/site-packages/torch/cuda/amp/grad_scaler.py:125: UserWarning: torch.cuda.amp.GradScaler is enabled, but CUDA is not available.  Disabling.\n",
      "  warnings.warn(\n",
      "/opt/conda/lib/python3.10/site-packages/torch/amp/autocast_mode.py:250: UserWarning: User provided device_type of 'cuda', but CUDA is not available. Disabling\n",
      "  warnings.warn(\n"
     ]
    },
    {
     "name": "stdout",
     "output_type": "stream",
     "text": [
      "1/0.6169/0.02 | 2/0.6613/0.02 | 3/0.6371/0.02 | 4/0.5000/0.02 | 5/0.6398/0.02 | 6/0.5820/0.02 | 7/0.5457/0.02 | 8/0.6142/0.02 | 9/0.5645/0.02 | 10/0.6613/0.02 | 11/0.6734/0.01 | 12/0.7016/0.01 | 13/0.6841/0.01 | 14/0.6868/0.01 | 15/0.7030/0.01 | 16/0.6949/0.01 | 17/0.6989/0.005 | 18/0.6909/0.005 | 19/0.7056/0.005 | 20/0.6882/0.005 | 21/0.6586/0.005 | 22/0.7030/0.005 | 23/0.6989/0.0025 | 24/0.6976/0.0025 | 25/0.6935/0.0025 | 26/0.7016/0.0025 | 27/0.7016/0.0025 | 28/0.7030/0.0025 | 29/0.6989/0.00125 | 30/0.7083/0.00125 | 31/0.7177/0.00125 | 32/0.7151/0.00125 | 33/0.7097/0.00125 | 34/0.7177/0.00125 | 35/0.7151/0.000625 | 36/0.7110/0.000625 | 37/0.7083/0.000625 | 38/0.7097/0.000625 | 39/0.7164/0.000625 | 40/0.7097/0.000625 | 41/0.7177/0.0003125 | 42/0.7124/0.0003125 | 43/0.7124/0.0003125 | 44/0.7137/0.0003125 | 45/0.7083/0.0003125 | 46/0.7110/0.0003125 | 47/0.7177/0.00015625 | 48/0.7097/0.00015625 | 49/0.7110/0.00015625 | 50/0.7097/0.00015625 | 51/0.7164/0.00015625 | 52/0.7110/0.00015625 | 53/0.7110/7.8125e-05 | 54/0.7124/7.8125e-05 | 55/0.7083/7.8125e-05 | 56/0.7124/7.8125e-05 | 57/0.7097/7.8125e-05 | 58/0.7083/7.8125e-05 | 59/0.7137/3.90625e-05 | 60/0.7164/3.90625e-05 | 61/0.7070/3.90625e-05 | 62/0.7083/3.90625e-05 | 63/0.7097/3.90625e-05 | 64/0.7083/3.90625e-05 | 65/0.7110/1.953125e-05 | 66/0.7124/1.953125e-05 | 67/0.7151/1.953125e-05 | 68/0.7124/1.953125e-05 | 69/0.7137/1.953125e-05 | 70/0.7124/1.953125e-05 | 71/0.7110/9.765625e-06 | Accuracy: 0.3674\n",
      "Evaluating nci109 dataset using cos_sim method with a percentile of 40 against class members\n",
      "Training GCN on nci109 for 200 epochs:\n",
      "Epoch/train loss/val accuracy: "
     ]
    },
    {
     "name": "stderr",
     "output_type": "stream",
     "text": [
      "/opt/conda/lib/python3.10/site-packages/torch_geometric/deprecation.py:26: UserWarning: 'data.DataLoader' is deprecated, use 'loader.DataLoader' instead\n",
      "  warnings.warn(out)\n",
      "/opt/conda/lib/python3.10/site-packages/torch/cuda/amp/grad_scaler.py:125: UserWarning: torch.cuda.amp.GradScaler is enabled, but CUDA is not available.  Disabling.\n",
      "  warnings.warn(\n",
      "/opt/conda/lib/python3.10/site-packages/torch/amp/autocast_mode.py:250: UserWarning: User provided device_type of 'cuda', but CUDA is not available. Disabling\n",
      "  warnings.warn(\n"
     ]
    },
    {
     "name": "stdout",
     "output_type": "stream",
     "text": [
      "1/0.5196/0.02 | 2/0.5801/0.02 | 3/0.6284/0.02 | 4/0.6224/0.02 | 5/0.5710/0.02 | 6/0.5831/0.02 | 7/0.5770/0.02 | 8/0.6495/0.01 | 9/0.6284/0.01 | 10/0.6344/0.01 | 11/0.7039/0.01 | 12/0.6344/0.01 | 13/0.6647/0.01 | 14/0.6888/0.005 | 15/0.7130/0.005 | 16/0.6828/0.005 | 17/0.6798/0.005 | 18/0.7039/0.005 | 19/0.7009/0.005 | 20/0.7039/0.0025 | 21/0.7160/0.0025 | 22/0.7039/0.0025 | 23/0.7160/0.0025 | 24/0.7372/0.0025 | 25/0.7221/0.0025 | 26/0.7221/0.00125 | 27/0.7372/0.00125 | 28/0.7130/0.00125 | 29/0.7190/0.00125 | 30/0.7130/0.00125 | 31/0.7100/0.00125 | 32/0.7251/0.000625 | 33/0.7100/0.000625 | 34/0.7190/0.000625 | 35/0.7160/0.000625 | 36/0.7130/0.000625 | 37/0.7039/0.000625 | 38/0.7100/0.0003125 | 39/0.7100/0.0003125 | 40/0.7069/0.0003125 | 41/0.7039/0.0003125 | 42/0.7190/0.0003125 | 43/0.7160/0.0003125 | 44/0.7069/0.00015625 | 45/0.7100/0.00015625 | 46/0.7100/0.00015625 | 47/0.7100/0.00015625 | 48/0.7100/0.00015625 | 49/0.7100/0.00015625 | 50/0.7069/7.8125e-05 | 51/0.7069/7.8125e-05 | 52/0.7069/7.8125e-05 | 53/0.7039/7.8125e-05 | 54/0.7069/7.8125e-05 | 55/0.7069/7.8125e-05 | 56/0.7069/3.90625e-05 | 57/0.7100/3.90625e-05 | 58/0.7130/3.90625e-05 | 59/0.7100/3.90625e-05 | 60/0.7130/3.90625e-05 | 61/0.7039/3.90625e-05 | 62/0.7100/1.953125e-05 | 63/0.7039/1.953125e-05 | 64/0.7130/1.953125e-05 | 65/0.7100/1.953125e-05 | 66/0.7069/1.953125e-05 | 67/0.7069/1.953125e-05 | 68/0.7100/9.765625e-06 | Accuracy: 0.3762\n",
      "Evaluating nci109 dataset using cos_sim method with a percentile of 50 against class members\n",
      "Training GCN on nci109 for 200 epochs:\n",
      "Epoch/train loss/val accuracy: "
     ]
    },
    {
     "name": "stderr",
     "output_type": "stream",
     "text": [
      "/opt/conda/lib/python3.10/site-packages/torch_geometric/deprecation.py:26: UserWarning: 'data.DataLoader' is deprecated, use 'loader.DataLoader' instead\n",
      "  warnings.warn(out)\n",
      "/opt/conda/lib/python3.10/site-packages/torch/cuda/amp/grad_scaler.py:125: UserWarning: torch.cuda.amp.GradScaler is enabled, but CUDA is not available.  Disabling.\n",
      "  warnings.warn(\n",
      "/opt/conda/lib/python3.10/site-packages/torch/amp/autocast_mode.py:250: UserWarning: User provided device_type of 'cuda', but CUDA is not available. Disabling\n",
      "  warnings.warn(\n"
     ]
    },
    {
     "name": "stdout",
     "output_type": "stream",
     "text": [
      "1/0.4988/0.02 | 2/0.5545/0.02 | 3/0.6441/0.02 | 4/0.6029/0.02 | 5/0.6271/0.02 | 6/0.6562/0.02 | 7/0.5617/0.02 | 8/0.6416/0.01 | 9/0.6053/0.01 | 10/0.6416/0.01 | 11/0.6441/0.01 | 12/0.6368/0.01 | 13/0.6683/0.01 | 14/0.6465/0.005 | 15/0.6271/0.005 | 16/0.6683/0.005 | 17/0.6683/0.005 | 18/0.6441/0.005 | 19/0.6683/0.005 | 20/0.6441/0.0025 | 21/0.6707/0.0025 | 22/0.6562/0.0025 | 23/0.6707/0.0025 | 24/0.6683/0.0025 | 25/0.6780/0.0025 | 26/0.6683/0.00125 | 27/0.6755/0.00125 | 28/0.6780/0.00125 | 29/0.6731/0.00125 | 30/0.6683/0.00125 | 31/0.6780/0.00125 | 32/0.6707/0.000625 | 33/0.6683/0.000625 | 34/0.6780/0.000625 | 35/0.6731/0.000625 | 36/0.6804/0.000625 | 37/0.6755/0.000625 | 38/0.6731/0.0003125 | 39/0.6755/0.0003125 | 40/0.6780/0.0003125 | 41/0.6804/0.0003125 | 42/0.6804/0.0003125 | 43/0.6755/0.0003125 | 44/0.6755/0.00015625 | 45/0.6780/0.00015625 | 46/0.6731/0.00015625 | 47/0.6683/0.00015625 | 48/0.6755/0.00015625 | 49/0.6780/0.00015625 | 50/0.6731/7.8125e-05 | 51/0.6707/7.8125e-05 | 52/0.6755/7.8125e-05 | 53/0.6755/7.8125e-05 | 54/0.6659/7.8125e-05 | 55/0.6780/7.8125e-05 | 56/0.6731/3.90625e-05 | 57/0.6707/3.90625e-05 | 58/0.6780/3.90625e-05 | 59/0.6707/3.90625e-05 | 60/0.6707/3.90625e-05 | 61/0.6780/3.90625e-05 | 62/0.6707/1.953125e-05 | 63/0.6731/1.953125e-05 | 64/0.6707/1.953125e-05 | 65/0.6731/1.953125e-05 | 66/0.6755/1.953125e-05 | 67/0.6731/1.953125e-05 | 68/0.6731/9.765625e-06 | Accuracy: 0.4154\n",
      "Evaluating nci109 dataset using cos_sim method with a percentile of 60 against class members\n",
      "Training GCN on nci109 for 200 epochs:\n",
      "Epoch/train loss/val accuracy: "
     ]
    },
    {
     "name": "stderr",
     "output_type": "stream",
     "text": [
      "/opt/conda/lib/python3.10/site-packages/torch_geometric/deprecation.py:26: UserWarning: 'data.DataLoader' is deprecated, use 'loader.DataLoader' instead\n",
      "  warnings.warn(out)\n",
      "/opt/conda/lib/python3.10/site-packages/torch/cuda/amp/grad_scaler.py:125: UserWarning: torch.cuda.amp.GradScaler is enabled, but CUDA is not available.  Disabling.\n",
      "  warnings.warn(\n",
      "/opt/conda/lib/python3.10/site-packages/torch/amp/autocast_mode.py:250: UserWarning: User provided device_type of 'cuda', but CUDA is not available. Disabling\n",
      "  warnings.warn(\n"
     ]
    },
    {
     "name": "stdout",
     "output_type": "stream",
     "text": [
      "1/0.4778/0.02 | 2/0.6351/0.02 | 3/0.6190/0.02 | 4/0.6573/0.02 | 5/0.6512/0.02 | 6/0.6794/0.02 | 7/0.6512/0.02 | 8/0.6976/0.01 | 9/0.6714/0.01 | 10/0.6774/0.01 | 11/0.6794/0.01 | 12/0.7056/0.01 | 13/0.6996/0.01 | 14/0.7097/0.005 | 15/0.6956/0.005 | 16/0.7077/0.005 | 17/0.7077/0.005 | 18/0.7036/0.005 | 19/0.7016/0.005 | 20/0.7097/0.0025 | 21/0.7077/0.0025 | 22/0.7117/0.0025 | 23/0.7117/0.0025 | 24/0.7218/0.0025 | 25/0.7177/0.0025 | 26/0.7137/0.00125 | 27/0.7117/0.00125 | 28/0.7157/0.00125 | 29/0.7097/0.00125 | 30/0.7077/0.00125 | 31/0.7177/0.00125 | 32/0.7157/0.000625 | 33/0.7117/0.000625 | 34/0.7177/0.000625 | 35/0.7137/0.000625 | 36/0.7238/0.000625 | 37/0.7137/0.000625 | 38/0.7198/0.0003125 | 39/0.7117/0.0003125 | 40/0.7238/0.0003125 | 41/0.7117/0.0003125 | 42/0.7137/0.0003125 | 43/0.7157/0.0003125 | 44/0.7137/0.00015625 | 45/0.7177/0.00015625 | 46/0.7157/0.00015625 | 47/0.7117/0.00015625 | 48/0.7056/0.00015625 | 49/0.7198/0.00015625 | 50/0.7137/7.8125e-05 | 51/0.7258/7.8125e-05 | 52/0.7137/7.8125e-05 | 53/0.7117/7.8125e-05 | 54/0.7157/7.8125e-05 | 55/0.7157/7.8125e-05 | 56/0.7177/3.90625e-05 | 57/0.7077/3.90625e-05 | 58/0.7198/3.90625e-05 | 59/0.7177/3.90625e-05 | 60/0.7198/3.90625e-05 | 61/0.7056/3.90625e-05 | 62/0.7137/1.953125e-05 | 63/0.7177/1.953125e-05 | 64/0.7157/1.953125e-05 | 65/0.7117/1.953125e-05 | 66/0.7198/1.953125e-05 | 67/0.7198/1.953125e-05 | 68/0.7157/9.765625e-06 | Accuracy: 0.3436\n",
      "Evaluating nci109 dataset using cos_sim method with a percentile of 70 against class members\n",
      "Training GCN on nci109 for 200 epochs:\n",
      "Epoch/train loss/val accuracy: "
     ]
    },
    {
     "name": "stderr",
     "output_type": "stream",
     "text": [
      "/opt/conda/lib/python3.10/site-packages/torch_geometric/deprecation.py:26: UserWarning: 'data.DataLoader' is deprecated, use 'loader.DataLoader' instead\n",
      "  warnings.warn(out)\n",
      "/opt/conda/lib/python3.10/site-packages/torch/cuda/amp/grad_scaler.py:125: UserWarning: torch.cuda.amp.GradScaler is enabled, but CUDA is not available.  Disabling.\n",
      "  warnings.warn(\n",
      "/opt/conda/lib/python3.10/site-packages/torch/amp/autocast_mode.py:250: UserWarning: User provided device_type of 'cuda', but CUDA is not available. Disabling\n",
      "  warnings.warn(\n"
     ]
    },
    {
     "name": "stdout",
     "output_type": "stream",
     "text": [
      "1/0.5311/0.02 | 2/0.6073/0.02 | 3/0.6246/0.02 | 4/0.5986/0.02 | 5/0.6349/0.02 | 6/0.6194/0.02 | 7/0.5779/0.02 | 8/0.6453/0.01 | 9/0.6401/0.01 | 10/0.6522/0.01 | 11/0.6315/0.01 | 12/0.6522/0.01 | 13/0.6696/0.01 | 14/0.6332/0.005 | 15/0.6522/0.005 | 16/0.6592/0.005 | 17/0.6540/0.005 | 18/0.6574/0.005 | 19/0.6574/0.005 | 20/0.6713/0.0025 | 21/0.6609/0.0025 | 22/0.6574/0.0025 | 23/0.6678/0.0025 | 24/0.6765/0.0025 | 25/0.6730/0.0025 | 26/0.6609/0.00125 | 27/0.6765/0.00125 | 28/0.6730/0.00125 | 29/0.6678/0.00125 | 30/0.6678/0.00125 | 31/0.6592/0.00125 | 32/0.6644/0.000625 | 33/0.6713/0.000625 | 34/0.6696/0.000625 | 35/0.6730/0.000625 | 36/0.6609/0.000625 | 37/0.6626/0.000625 | 38/0.6661/0.0003125 | 39/0.6626/0.0003125 | 40/0.6626/0.0003125 | 41/0.6626/0.0003125 | 42/0.6644/0.0003125 | 43/0.6644/0.0003125 | 44/0.6696/0.00015625 | 45/0.6747/0.00015625 | 46/0.6626/0.00015625 | 47/0.6644/0.00015625 | 48/0.6765/0.00015625 | 49/0.6696/0.00015625 | 50/0.6644/7.8125e-05 | 51/0.6765/7.8125e-05 | 52/0.6782/7.8125e-05 | 53/0.6644/7.8125e-05 | 54/0.6644/7.8125e-05 | 55/0.6782/7.8125e-05 | 56/0.6713/3.90625e-05 | 57/0.6644/3.90625e-05 | 58/0.6678/3.90625e-05 | 59/0.6747/3.90625e-05 | 60/0.6678/3.90625e-05 | 61/0.6678/3.90625e-05 | 62/0.6713/1.953125e-05 | 63/0.6696/1.953125e-05 | 64/0.6730/1.953125e-05 | 65/0.6644/1.953125e-05 | 66/0.6678/1.953125e-05 | 67/0.6782/1.953125e-05 | 68/0.6747/9.765625e-06 | Accuracy: 0.3735\n",
      "Evaluating nci109 dataset using cos_sim method with a percentile of 80 against class members\n",
      "Training GCN on nci109 for 200 epochs:\n",
      "Epoch/train loss/val accuracy: "
     ]
    },
    {
     "name": "stderr",
     "output_type": "stream",
     "text": [
      "/opt/conda/lib/python3.10/site-packages/torch_geometric/deprecation.py:26: UserWarning: 'data.DataLoader' is deprecated, use 'loader.DataLoader' instead\n",
      "  warnings.warn(out)\n",
      "/opt/conda/lib/python3.10/site-packages/torch/cuda/amp/grad_scaler.py:125: UserWarning: torch.cuda.amp.GradScaler is enabled, but CUDA is not available.  Disabling.\n",
      "  warnings.warn(\n",
      "/opt/conda/lib/python3.10/site-packages/torch/amp/autocast_mode.py:250: UserWarning: User provided device_type of 'cuda', but CUDA is not available. Disabling\n",
      "  warnings.warn(\n"
     ]
    },
    {
     "name": "stdout",
     "output_type": "stream",
     "text": [
      "1/0.6067/0.02 | 2/0.5552/0.02 | 3/0.5779/0.02 | 4/0.6460/0.02 | 5/0.6641/0.02 | 6/0.6278/0.02 | 7/0.6445/0.02 | 8/0.6112/0.02 | 9/0.6445/0.01 | 10/0.6536/0.01 | 11/0.6536/0.01 | 12/0.6611/0.01 | 13/0.6687/0.01 | 14/0.6475/0.01 | 15/0.6641/0.005 | 16/0.6551/0.005 | 17/0.6762/0.005 | 18/0.6717/0.005 | 19/0.6566/0.005 | 20/0.6536/0.005 | 21/0.6657/0.0025 | 22/0.6808/0.0025 | 23/0.6884/0.0025 | 24/0.6899/0.0025 | 25/0.6959/0.0025 | 26/0.6793/0.0025 | 27/0.6899/0.00125 | 28/0.6914/0.00125 | 29/0.6793/0.00125 | 30/0.6929/0.00125 | 31/0.6899/0.00125 | 32/0.6974/0.00125 | 33/0.6974/0.000625 | 34/0.6974/0.000625 | 35/0.6929/0.000625 | 36/0.7035/0.000625 | 37/0.7065/0.000625 | 38/0.7020/0.000625 | 39/0.7080/0.0003125 | 40/0.6959/0.0003125 | 41/0.7035/0.0003125 | 42/0.6914/0.0003125 | 43/0.6974/0.0003125 | 44/0.7050/0.0003125 | 45/0.7050/0.00015625 | 46/0.7050/0.00015625 | 47/0.7065/0.00015625 | 48/0.7035/0.00015625 | 49/0.6959/0.00015625 | 50/0.6989/0.00015625 | 51/0.7080/7.8125e-05 | 52/0.6959/7.8125e-05 | 53/0.7050/7.8125e-05 | 54/0.7005/7.8125e-05 | 55/0.7005/7.8125e-05 | 56/0.7005/7.8125e-05 | 57/0.6944/3.90625e-05 | 58/0.7050/3.90625e-05 | 59/0.7005/3.90625e-05 | 60/0.7065/3.90625e-05 | 61/0.7020/3.90625e-05 | 62/0.7050/3.90625e-05 | 63/0.7005/1.953125e-05 | 64/0.7020/1.953125e-05 | 65/0.7080/1.953125e-05 | 66/0.7050/1.953125e-05 | 67/0.7020/1.953125e-05 | 68/0.7020/1.953125e-05 | 69/0.6944/9.765625e-06 | Accuracy: 0.3786\n",
      "Evaluating nci109 dataset using cos_sim method with a percentile of 90 against class members\n",
      "Training GCN on nci109 for 200 epochs:\n",
      "Epoch/train loss/val accuracy: "
     ]
    },
    {
     "name": "stderr",
     "output_type": "stream",
     "text": [
      "/opt/conda/lib/python3.10/site-packages/torch_geometric/deprecation.py:26: UserWarning: 'data.DataLoader' is deprecated, use 'loader.DataLoader' instead\n",
      "  warnings.warn(out)\n",
      "/opt/conda/lib/python3.10/site-packages/torch/cuda/amp/grad_scaler.py:125: UserWarning: torch.cuda.amp.GradScaler is enabled, but CUDA is not available.  Disabling.\n",
      "  warnings.warn(\n",
      "/opt/conda/lib/python3.10/site-packages/torch/amp/autocast_mode.py:250: UserWarning: User provided device_type of 'cuda', but CUDA is not available. Disabling\n",
      "  warnings.warn(\n"
     ]
    },
    {
     "name": "stdout",
     "output_type": "stream",
     "text": [
      "1/0.5995/0.02 | 2/0.5444/0.02 | 3/0.6183/0.02 | 4/0.5766/0.02 | 5/0.6317/0.02 | 6/0.6438/0.02 | 7/0.6169/0.02 | 8/0.5981/0.02 | 9/0.6371/0.01 | 10/0.6371/0.01 | 11/0.6559/0.01 | 12/0.6505/0.01 | 13/0.6599/0.01 | 14/0.6546/0.01 | 15/0.6586/0.005 | 16/0.6546/0.005 | 17/0.6694/0.005 | 18/0.6573/0.005 | 19/0.6519/0.005 | 20/0.6532/0.005 | 21/0.6640/0.0025 | 22/0.6640/0.0025 | 23/0.6559/0.0025 | 24/0.6774/0.0025 | 25/0.6747/0.0025 | 26/0.6734/0.0025 | 27/0.6653/0.00125 | 28/0.6694/0.00125 | 29/0.6653/0.00125 | 30/0.6720/0.00125 | 31/0.6720/0.00125 | 32/0.6680/0.00125 | 33/0.6788/0.000625 | 34/0.6828/0.000625 | 35/0.6761/0.000625 | 36/0.6680/0.000625 | 37/0.6801/0.000625 | 38/0.6761/0.000625 | 39/0.6734/0.0003125 | 40/0.6761/0.0003125 | 41/0.6734/0.0003125 | 42/0.6667/0.0003125 | 43/0.6761/0.0003125 | 44/0.6747/0.0003125 | 45/0.6694/0.00015625 | 46/0.6815/0.00015625 | 47/0.6747/0.00015625 | 48/0.6747/0.00015625 | 49/0.6774/0.00015625 | 50/0.6761/0.00015625 | 51/0.6774/7.8125e-05 | 52/0.6774/7.8125e-05 | 53/0.6774/7.8125e-05 | 54/0.6801/7.8125e-05 | 55/0.6707/7.8125e-05 | 56/0.6720/7.8125e-05 | 57/0.6761/3.90625e-05 | 58/0.6734/3.90625e-05 | 59/0.6747/3.90625e-05 | 60/0.6720/3.90625e-05 | 61/0.6774/3.90625e-05 | 62/0.6788/3.90625e-05 | 63/0.6667/1.953125e-05 | 64/0.6815/1.953125e-05 | 65/0.6761/1.953125e-05 | 66/0.6761/1.953125e-05 | 67/0.6734/1.953125e-05 | 68/0.6774/1.953125e-05 | 69/0.6734/9.765625e-06 | Accuracy: 0.3771\n",
      "Evaluating proteins dataset using random method with a percentile of 40 against class members\n",
      "Training GCN on proteins for 200 epochs:\n",
      "Epoch/train loss/val accuracy: "
     ]
    },
    {
     "name": "stderr",
     "output_type": "stream",
     "text": [
      "/opt/conda/lib/python3.10/site-packages/torch_geometric/deprecation.py:26: UserWarning: 'data.DataLoader' is deprecated, use 'loader.DataLoader' instead\n",
      "  warnings.warn(out)\n",
      "/opt/conda/lib/python3.10/site-packages/torch/cuda/amp/grad_scaler.py:125: UserWarning: torch.cuda.amp.GradScaler is enabled, but CUDA is not available.  Disabling.\n",
      "  warnings.warn(\n",
      "/opt/conda/lib/python3.10/site-packages/torch/amp/autocast_mode.py:250: UserWarning: User provided device_type of 'cuda', but CUDA is not available. Disabling\n",
      "  warnings.warn(\n"
     ]
    },
    {
     "name": "stdout",
     "output_type": "stream",
     "text": [
      "1/0.5843/0.02 | 2/0.5843/0.02 | 3/0.5843/0.02 | 4/0.6180/0.02 | 5/0.5730/0.02 | 6/0.6292/0.02 | 7/0.6067/0.02 | 8/0.6067/0.02 | 9/0.6629/0.02 | 10/0.6404/0.02 | 11/0.6292/0.02 | 12/0.6292/0.01 | 13/0.6629/0.01 | 14/0.6629/0.01 | 15/0.6742/0.01 | 16/0.6742/0.01 | 17/0.6742/0.01 | 18/0.6629/0.005 | 19/0.6742/0.005 | 20/0.6742/0.005 | 21/0.6742/0.005 | 22/0.6742/0.005 | 23/0.6742/0.005 | 24/0.6404/0.0025 | 25/0.6517/0.0025 | 26/0.6742/0.0025 | 27/0.6629/0.0025 | 28/0.6742/0.0025 | 29/0.6629/0.0025 | 30/0.6629/0.00125 | 31/0.6629/0.00125 | 32/0.6742/0.00125 | 33/0.6742/0.00125 | 34/0.6629/0.00125 | 35/0.6629/0.00125 | 36/0.6629/0.000625 | 37/0.6629/0.000625 | 38/0.6742/0.000625 | 39/0.6742/0.000625 | 40/0.6742/0.000625 | 41/0.6966/0.000625 | 42/0.6966/0.0003125 | 43/0.6966/0.0003125 | 44/0.6854/0.0003125 | 45/0.6854/0.0003125 | 46/0.6742/0.0003125 | 47/0.6742/0.0003125 | 48/0.6854/0.00015625 | 49/0.6742/0.00015625 | 50/0.6854/0.00015625 | 51/0.6854/0.00015625 | 52/0.6854/0.00015625 | 53/0.6854/0.00015625 | 54/0.6854/7.8125e-05 | 55/0.6854/7.8125e-05 | 56/0.6854/7.8125e-05 | 57/0.6854/7.8125e-05 | 58/0.6854/7.8125e-05 | 59/0.6854/7.8125e-05 | 60/0.6854/3.90625e-05 | 61/0.6854/3.90625e-05 | 62/0.6854/3.90625e-05 | 63/0.6854/3.90625e-05 | 64/0.6854/3.90625e-05 | 65/0.6854/3.90625e-05 | 66/0.6966/1.953125e-05 | 67/0.6966/1.953125e-05 | 68/0.6854/1.953125e-05 | 69/0.6854/1.953125e-05 | 70/0.6854/1.953125e-05 | 71/0.6854/1.953125e-05 | 72/0.6854/9.765625e-06 | Accuracy: 0.2485\n",
      "Evaluating proteins dataset using random method with a percentile of 50 against class members\n",
      "Training GCN on proteins for 200 epochs:\n",
      "Epoch/train loss/val accuracy: "
     ]
    },
    {
     "name": "stderr",
     "output_type": "stream",
     "text": [
      "/opt/conda/lib/python3.10/site-packages/torch_geometric/deprecation.py:26: UserWarning: 'data.DataLoader' is deprecated, use 'loader.DataLoader' instead\n",
      "  warnings.warn(out)\n",
      "/opt/conda/lib/python3.10/site-packages/torch/cuda/amp/grad_scaler.py:125: UserWarning: torch.cuda.amp.GradScaler is enabled, but CUDA is not available.  Disabling.\n",
      "  warnings.warn(\n",
      "/opt/conda/lib/python3.10/site-packages/torch/amp/autocast_mode.py:250: UserWarning: User provided device_type of 'cuda', but CUDA is not available. Disabling\n",
      "  warnings.warn(\n"
     ]
    },
    {
     "name": "stdout",
     "output_type": "stream",
     "text": [
      "1/0.6875/0.02 | 2/0.6071/0.02 | 3/0.6786/0.02 | 4/0.6786/0.02 | 5/0.6964/0.02 | 6/0.6964/0.02 | 7/0.6875/0.02 | 8/0.6964/0.02 | 9/0.7321/0.01 | 10/0.7054/0.01 | 11/0.7500/0.01 | 12/0.7054/0.01 | 13/0.7321/0.01 | 14/0.7232/0.01 | 15/0.7500/0.005 | 16/0.7411/0.005 | 17/0.7321/0.005 | 18/0.7321/0.005 | 19/0.7321/0.005 | 20/0.7321/0.005 | 21/0.7411/0.0025 | 22/0.7500/0.0025 | 23/0.7500/0.0025 | 24/0.7321/0.0025 | 25/0.7500/0.0025 | 26/0.7500/0.0025 | 27/0.7500/0.00125 | 28/0.7500/0.00125 | 29/0.7411/0.00125 | 30/0.7411/0.00125 | 31/0.7411/0.00125 | 32/0.7411/0.00125 | 33/0.7411/0.000625 | 34/0.7411/0.000625 | 35/0.7411/0.000625 | 36/0.7411/0.000625 | 37/0.7411/0.000625 | 38/0.7411/0.000625 | 39/0.7411/0.0003125 | 40/0.7411/0.0003125 | 41/0.7411/0.0003125 | 42/0.7411/0.0003125 | 43/0.7411/0.0003125 | 44/0.7321/0.0003125 | 45/0.7411/0.00015625 | 46/0.7411/0.00015625 | 47/0.7411/0.00015625 | 48/0.7411/0.00015625 | 49/0.7411/0.00015625 | 50/0.7411/0.00015625 | 51/0.7411/7.8125e-05 | 52/0.7411/7.8125e-05 | 53/0.7411/7.8125e-05 | 54/0.7411/7.8125e-05 | 55/0.7411/7.8125e-05 | 56/0.7411/7.8125e-05 | 57/0.7411/3.90625e-05 | 58/0.7411/3.90625e-05 | 59/0.7411/3.90625e-05 | 60/0.7411/3.90625e-05 | 61/0.7411/3.90625e-05 | 62/0.7411/3.90625e-05 | 63/0.7411/1.953125e-05 | 64/0.7411/1.953125e-05 | 65/0.7411/1.953125e-05 | 66/0.7411/1.953125e-05 | 67/0.7411/1.953125e-05 | 68/0.7411/1.953125e-05 | 69/0.7411/9.765625e-06 | Accuracy: 0.2280\n",
      "Evaluating proteins dataset using random method with a percentile of 60 against class members\n",
      "Training GCN on proteins for 200 epochs:\n",
      "Epoch/train loss/val accuracy: "
     ]
    },
    {
     "name": "stderr",
     "output_type": "stream",
     "text": [
      "/opt/conda/lib/python3.10/site-packages/torch_geometric/deprecation.py:26: UserWarning: 'data.DataLoader' is deprecated, use 'loader.DataLoader' instead\n",
      "  warnings.warn(out)\n",
      "/opt/conda/lib/python3.10/site-packages/torch/cuda/amp/grad_scaler.py:125: UserWarning: torch.cuda.amp.GradScaler is enabled, but CUDA is not available.  Disabling.\n",
      "  warnings.warn(\n",
      "/opt/conda/lib/python3.10/site-packages/torch/amp/autocast_mode.py:250: UserWarning: User provided device_type of 'cuda', but CUDA is not available. Disabling\n",
      "  warnings.warn(\n"
     ]
    },
    {
     "name": "stdout",
     "output_type": "stream",
     "text": [
      "1/0.5821/0.02 | 2/0.7612/0.02 | 3/0.7612/0.02 | 4/0.7910/0.02 | 5/0.7463/0.02 | 6/0.7463/0.02 | 7/0.7761/0.02 | 8/0.7388/0.01 | 9/0.7313/0.01 | 10/0.7388/0.01 | 11/0.7463/0.01 | 12/0.7388/0.01 | 13/0.7537/0.01 | 14/0.7836/0.005 | 15/0.7612/0.005 | 16/0.7687/0.005 | 17/0.7687/0.005 | 18/0.7537/0.005 | 19/0.7537/0.005 | 20/0.7537/0.0025 | 21/0.7537/0.0025 | 22/0.7537/0.0025 | 23/0.7687/0.0025 | 24/0.7537/0.0025 | 25/0.7612/0.0025 | 26/0.7687/0.00125 | 27/0.7687/0.00125 | 28/0.7761/0.00125 | 29/0.7761/0.00125 | 30/0.7761/0.00125 | 31/0.7687/0.00125 | 32/0.7761/0.000625 | 33/0.7612/0.000625 | 34/0.7761/0.000625 | 35/0.7612/0.000625 | 36/0.7537/0.000625 | 37/0.7612/0.000625 | 38/0.7537/0.0003125 | 39/0.7463/0.0003125 | 40/0.7761/0.0003125 | 41/0.7687/0.0003125 | 42/0.7761/0.0003125 | 43/0.7761/0.0003125 | 44/0.7612/0.00015625 | 45/0.7761/0.00015625 | 46/0.7761/0.00015625 | 47/0.7761/0.00015625 | 48/0.7612/0.00015625 | 49/0.7612/0.00015625 | 50/0.7761/7.8125e-05 | 51/0.7612/7.8125e-05 | 52/0.7612/7.8125e-05 | 53/0.7612/7.8125e-05 | 54/0.7761/7.8125e-05 | 55/0.7687/7.8125e-05 | 56/0.7687/3.90625e-05 | 57/0.7761/3.90625e-05 | 58/0.7761/3.90625e-05 | 59/0.7612/3.90625e-05 | 60/0.7761/3.90625e-05 | 61/0.7612/3.90625e-05 | 62/0.7612/1.953125e-05 | 63/0.7612/1.953125e-05 | 64/0.7612/1.953125e-05 | 65/0.7761/1.953125e-05 | 66/0.7761/1.953125e-05 | 67/0.7687/1.953125e-05 | 68/0.7761/9.765625e-06 | Accuracy: 0.2646\n",
      "Evaluating proteins dataset using random method with a percentile of 70 against class members\n",
      "Training GCN on proteins for 200 epochs:\n",
      "Epoch/train loss/val accuracy: "
     ]
    },
    {
     "name": "stderr",
     "output_type": "stream",
     "text": [
      "/opt/conda/lib/python3.10/site-packages/torch_geometric/deprecation.py:26: UserWarning: 'data.DataLoader' is deprecated, use 'loader.DataLoader' instead\n",
      "  warnings.warn(out)\n",
      "/opt/conda/lib/python3.10/site-packages/torch/cuda/amp/grad_scaler.py:125: UserWarning: torch.cuda.amp.GradScaler is enabled, but CUDA is not available.  Disabling.\n",
      "  warnings.warn(\n",
      "/opt/conda/lib/python3.10/site-packages/torch/amp/autocast_mode.py:250: UserWarning: User provided device_type of 'cuda', but CUDA is not available. Disabling\n",
      "  warnings.warn(\n"
     ]
    },
    {
     "name": "stdout",
     "output_type": "stream",
     "text": [
      "1/0.6346/0.02 | 2/0.6923/0.02 | 3/0.7436/0.02 | 4/0.7500/0.02 | 5/0.7308/0.02 | 6/0.6923/0.02 | 7/0.7692/0.02 | 8/0.7436/0.01 | 9/0.7372/0.01 | 10/0.7436/0.01 | 11/0.7692/0.01 | 12/0.7500/0.01 | 13/0.7500/0.01 | 14/0.7628/0.005 | 15/0.7436/0.005 | 16/0.7756/0.005 | 17/0.7821/0.005 | 18/0.7756/0.005 | 19/0.7821/0.005 | 20/0.7372/0.0025 | 21/0.7885/0.0025 | 22/0.7756/0.0025 | 23/0.7692/0.0025 | 24/0.7756/0.0025 | 25/0.7756/0.0025 | 26/0.7821/0.00125 | 27/0.7692/0.00125 | 28/0.7756/0.00125 | 29/0.7692/0.00125 | 30/0.7756/0.00125 | 31/0.7756/0.00125 | 32/0.7821/0.000625 | 33/0.7756/0.000625 | 34/0.7821/0.000625 | 35/0.7692/0.000625 | 36/0.7756/0.000625 | 37/0.7821/0.000625 | 38/0.7756/0.0003125 | 39/0.7885/0.0003125 | 40/0.7821/0.0003125 | 41/0.7756/0.0003125 | 42/0.7821/0.0003125 | 43/0.7821/0.0003125 | 44/0.7821/0.00015625 | 45/0.7885/0.00015625 | 46/0.7885/0.00015625 | 47/0.7821/0.00015625 | 48/0.7756/0.00015625 | 49/0.7821/0.00015625 | 50/0.7756/7.8125e-05 | 51/0.7756/7.8125e-05 | 52/0.7885/7.8125e-05 | 53/0.7821/7.8125e-05 | 54/0.7821/7.8125e-05 | 55/0.7821/7.8125e-05 | 56/0.7885/3.90625e-05 | 57/0.7821/3.90625e-05 | 58/0.7885/3.90625e-05 | 59/0.7885/3.90625e-05 | 60/0.7821/3.90625e-05 | 61/0.7885/3.90625e-05 | 62/0.7821/1.953125e-05 | 63/0.7885/1.953125e-05 | 64/0.7885/1.953125e-05 | 65/0.7885/1.953125e-05 | 66/0.7885/1.953125e-05 | 67/0.7821/1.953125e-05 | 68/0.7885/9.765625e-06 | Accuracy: 0.2425\n",
      "Evaluating proteins dataset using random method with a percentile of 80 against class members\n",
      "Training GCN on proteins for 200 epochs:\n",
      "Epoch/train loss/val accuracy: "
     ]
    },
    {
     "name": "stderr",
     "output_type": "stream",
     "text": [
      "/opt/conda/lib/python3.10/site-packages/torch_geometric/deprecation.py:26: UserWarning: 'data.DataLoader' is deprecated, use 'loader.DataLoader' instead\n",
      "  warnings.warn(out)\n",
      "/opt/conda/lib/python3.10/site-packages/torch/cuda/amp/grad_scaler.py:125: UserWarning: torch.cuda.amp.GradScaler is enabled, but CUDA is not available.  Disabling.\n",
      "  warnings.warn(\n",
      "/opt/conda/lib/python3.10/site-packages/torch/amp/autocast_mode.py:250: UserWarning: User provided device_type of 'cuda', but CUDA is not available. Disabling\n",
      "  warnings.warn(\n"
     ]
    },
    {
     "name": "stdout",
     "output_type": "stream",
     "text": [
      "1/0.3483/0.02 | 2/0.5955/0.02 | 3/0.6404/0.02 | 4/0.6517/0.02 | 5/0.7191/0.02 | 6/0.5674/0.02 | 7/0.5955/0.02 | 8/0.7416/0.01 | 9/0.7303/0.01 | 10/0.7079/0.01 | 11/0.7135/0.01 | 12/0.7303/0.01 | 13/0.7416/0.01 | 14/0.7528/0.005 | 15/0.7079/0.005 | 16/0.7416/0.005 | 17/0.7360/0.005 | 18/0.7303/0.005 | 19/0.7303/0.005 | 20/0.7416/0.0025 | 21/0.7360/0.0025 | 22/0.7416/0.0025 | 23/0.7416/0.0025 | 24/0.7416/0.0025 | 25/0.7303/0.0025 | 26/0.7303/0.00125 | 27/0.7191/0.00125 | 28/0.7247/0.00125 | 29/0.7135/0.00125 | 30/0.7303/0.00125 | 31/0.7135/0.00125 | 32/0.7191/0.000625 | 33/0.7191/0.000625 | 34/0.7247/0.000625 | 35/0.7247/0.000625 | 36/0.7191/0.000625 | 37/0.7303/0.000625 | 38/0.7303/0.0003125 | 39/0.7360/0.0003125 | 40/0.7360/0.0003125 | 41/0.7191/0.0003125 | 42/0.7247/0.0003125 | 43/0.7303/0.0003125 | 44/0.7303/0.00015625 | 45/0.7303/0.00015625 | 46/0.7303/0.00015625 | 47/0.7360/0.00015625 | 48/0.7247/0.00015625 | 49/0.7247/0.00015625 | 50/0.7303/7.8125e-05 | 51/0.7191/7.8125e-05 | 52/0.7247/7.8125e-05 | 53/0.7303/7.8125e-05 | 54/0.7360/7.8125e-05 | 55/0.7303/7.8125e-05 | 56/0.7360/3.90625e-05 | 57/0.7247/3.90625e-05 | 58/0.7360/3.90625e-05 | 59/0.7247/3.90625e-05 | 60/0.7303/3.90625e-05 | 61/0.7303/3.90625e-05 | 62/0.7303/1.953125e-05 | 63/0.7247/1.953125e-05 | 64/0.7247/1.953125e-05 | 65/0.7360/1.953125e-05 | 66/0.7247/1.953125e-05 | 67/0.7360/1.953125e-05 | 68/0.7360/9.765625e-06 | Accuracy: 0.2511\n",
      "Evaluating proteins dataset using random method with a percentile of 90 against class members\n",
      "Training GCN on proteins for 200 epochs:\n",
      "Epoch/train loss/val accuracy: "
     ]
    },
    {
     "name": "stderr",
     "output_type": "stream",
     "text": [
      "/opt/conda/lib/python3.10/site-packages/torch_geometric/deprecation.py:26: UserWarning: 'data.DataLoader' is deprecated, use 'loader.DataLoader' instead\n",
      "  warnings.warn(out)\n",
      "/opt/conda/lib/python3.10/site-packages/torch/cuda/amp/grad_scaler.py:125: UserWarning: torch.cuda.amp.GradScaler is enabled, but CUDA is not available.  Disabling.\n",
      "  warnings.warn(\n",
      "/opt/conda/lib/python3.10/site-packages/torch/amp/autocast_mode.py:250: UserWarning: User provided device_type of 'cuda', but CUDA is not available. Disabling\n",
      "  warnings.warn(\n"
     ]
    },
    {
     "name": "stdout",
     "output_type": "stream",
     "text": [
      "1/0.4627/0.02 | 2/0.6567/0.02 | 3/0.6219/0.02 | 4/0.6517/0.02 | 5/0.6866/0.02 | 6/0.6915/0.02 | 7/0.6070/0.02 | 8/0.6816/0.01 | 9/0.6766/0.01 | 10/0.7015/0.01 | 11/0.6866/0.01 | 12/0.7065/0.01 | 13/0.6667/0.01 | 14/0.6866/0.005 | 15/0.6965/0.005 | 16/0.6766/0.005 | 17/0.6915/0.005 | 18/0.7363/0.005 | 19/0.6816/0.005 | 20/0.7065/0.0025 | 21/0.6965/0.0025 | 22/0.7065/0.0025 | 23/0.6965/0.0025 | 24/0.6965/0.0025 | 25/0.6965/0.0025 | 26/0.7114/0.00125 | 27/0.7015/0.00125 | 28/0.7214/0.00125 | 29/0.7015/0.00125 | 30/0.7065/0.00125 | 31/0.7015/0.00125 | 32/0.7065/0.000625 | 33/0.7114/0.000625 | 34/0.7214/0.000625 | 35/0.7065/0.000625 | 36/0.6915/0.000625 | 37/0.6915/0.000625 | 38/0.6965/0.0003125 | 39/0.6965/0.0003125 | 40/0.7015/0.0003125 | 41/0.6965/0.0003125 | 42/0.7065/0.0003125 | 43/0.7015/0.0003125 | 44/0.7214/0.00015625 | 45/0.7065/0.00015625 | 46/0.7065/0.00015625 | 47/0.7015/0.00015625 | 48/0.7015/0.00015625 | 49/0.7065/0.00015625 | 50/0.7015/7.8125e-05 | 51/0.7114/7.8125e-05 | 52/0.7065/7.8125e-05 | 53/0.6965/7.8125e-05 | 54/0.7015/7.8125e-05 | 55/0.7015/7.8125e-05 | 56/0.7015/3.90625e-05 | 57/0.7065/3.90625e-05 | 58/0.7015/3.90625e-05 | 59/0.7065/3.90625e-05 | 60/0.6915/3.90625e-05 | 61/0.7015/3.90625e-05 | 62/0.7065/1.953125e-05 | 63/0.7065/1.953125e-05 | 64/0.7065/1.953125e-05 | 65/0.7015/1.953125e-05 | 66/0.7015/1.953125e-05 | 67/0.7065/1.953125e-05 | 68/0.7015/9.765625e-06 | Accuracy: 0.1875\n",
      "Evaluating proteins dataset using graph_order method with a percentile of 40 against class members\n",
      "Training GCN on proteins for 200 epochs:\n",
      "Epoch/train loss/val accuracy: "
     ]
    },
    {
     "name": "stderr",
     "output_type": "stream",
     "text": [
      "/opt/conda/lib/python3.10/site-packages/torch_geometric/deprecation.py:26: UserWarning: 'data.DataLoader' is deprecated, use 'loader.DataLoader' instead\n",
      "  warnings.warn(out)\n",
      "/opt/conda/lib/python3.10/site-packages/torch/cuda/amp/grad_scaler.py:125: UserWarning: torch.cuda.amp.GradScaler is enabled, but CUDA is not available.  Disabling.\n",
      "  warnings.warn(\n",
      "/opt/conda/lib/python3.10/site-packages/torch/amp/autocast_mode.py:250: UserWarning: User provided device_type of 'cuda', but CUDA is not available. Disabling\n",
      "  warnings.warn(\n"
     ]
    },
    {
     "name": "stdout",
     "output_type": "stream",
     "text": [
      "1/0.5778/0.02 | 2/0.7111/0.02 | 3/0.5111/0.02 | 4/0.5111/0.02 | 5/0.6333/0.02 | 6/0.6222/0.02 | 7/0.7222/0.02 | 8/0.6889/0.02 | 9/0.7333/0.02 | 10/0.7222/0.01 | 11/0.7222/0.01 | 12/0.7444/0.01 | 13/0.7222/0.01 | 14/0.7000/0.01 | 15/0.7111/0.01 | 16/0.7333/0.005 | 17/0.7222/0.005 | 18/0.7222/0.005 | 19/0.7111/0.005 | 20/0.7111/0.005 | 21/0.7111/0.005 | 22/0.7222/0.0025 | 23/0.7333/0.0025 | 24/0.7444/0.0025 | 25/0.7778/0.0025 | 26/0.7444/0.0025 | 27/0.7444/0.0025 | 28/0.7556/0.00125 | 29/0.7556/0.00125 | 30/0.7556/0.00125 | 31/0.7556/0.00125 | 32/0.7556/0.00125 | 33/0.7222/0.00125 | 34/0.7556/0.000625 | 35/0.7556/0.000625 | 36/0.7556/0.000625 | 37/0.7444/0.000625 | 38/0.7444/0.000625 | 39/0.7556/0.000625 | 40/0.7556/0.0003125 | 41/0.7556/0.0003125 | 42/0.7556/0.0003125 | 43/0.7556/0.0003125 | 44/0.7556/0.0003125 | 45/0.7556/0.0003125 | 46/0.7556/0.00015625 | 47/0.7556/0.00015625 | 48/0.7556/0.00015625 | 49/0.7556/0.00015625 | 50/0.7556/0.00015625 | 51/0.7556/0.00015625 | 52/0.7556/7.8125e-05 | 53/0.7556/7.8125e-05 | 54/0.7556/7.8125e-05 | 55/0.7556/7.8125e-05 | 56/0.7556/7.8125e-05 | 57/0.7556/7.8125e-05 | 58/0.7556/3.90625e-05 | 59/0.7556/3.90625e-05 | 60/0.7556/3.90625e-05 | 61/0.7556/3.90625e-05 | 62/0.7556/3.90625e-05 | 63/0.7556/3.90625e-05 | 64/0.7556/1.953125e-05 | 65/0.7556/1.953125e-05 | 66/0.7556/1.953125e-05 | 67/0.7556/1.953125e-05 | 68/0.7556/1.953125e-05 | 69/0.7556/1.953125e-05 | 70/0.7556/9.765625e-06 | Accuracy: 0.1274\n",
      "Evaluating proteins dataset using graph_order method with a percentile of 50 against class members\n",
      "Training GCN on proteins for 200 epochs:\n",
      "Epoch/train loss/val accuracy: "
     ]
    },
    {
     "name": "stderr",
     "output_type": "stream",
     "text": [
      "/opt/conda/lib/python3.10/site-packages/torch_geometric/deprecation.py:26: UserWarning: 'data.DataLoader' is deprecated, use 'loader.DataLoader' instead\n",
      "  warnings.warn(out)\n",
      "/opt/conda/lib/python3.10/site-packages/torch/cuda/amp/grad_scaler.py:125: UserWarning: torch.cuda.amp.GradScaler is enabled, but CUDA is not available.  Disabling.\n",
      "  warnings.warn(\n",
      "/opt/conda/lib/python3.10/site-packages/torch/amp/autocast_mode.py:250: UserWarning: User provided device_type of 'cuda', but CUDA is not available. Disabling\n",
      "  warnings.warn(\n"
     ]
    },
    {
     "name": "stdout",
     "output_type": "stream",
     "text": [
      "1/0.6518/0.02 | 2/0.5804/0.02 | 3/0.6696/0.02 | 4/0.6518/0.02 | 5/0.7679/0.02 | 6/0.7857/0.02 | 7/0.6607/0.02 | 8/0.7768/0.02 | 9/0.7500/0.01 | 10/0.8304/0.01 | 11/0.7857/0.01 | 12/0.8304/0.01 | 13/0.8125/0.01 | 14/0.8393/0.01 | 15/0.8393/0.005 | 16/0.8036/0.005 | 17/0.8214/0.005 | 18/0.8036/0.005 | 19/0.8214/0.005 | 20/0.8214/0.005 | 21/0.8214/0.0025 | 22/0.8036/0.0025 | 23/0.8214/0.0025 | 24/0.8214/0.0025 | 25/0.8393/0.0025 | 26/0.8125/0.0025 | 27/0.8214/0.00125 | 28/0.8304/0.00125 | 29/0.8304/0.00125 | 30/0.8304/0.00125 | 31/0.8304/0.00125 | 32/0.8304/0.00125 | 33/0.8304/0.000625 | 34/0.8304/0.000625 | 35/0.8304/0.000625 | 36/0.8214/0.000625 | 37/0.8214/0.000625 | 38/0.8214/0.000625 | 39/0.8214/0.0003125 | 40/0.8214/0.0003125 | 41/0.8214/0.0003125 | 42/0.8214/0.0003125 | 43/0.8214/0.0003125 | 44/0.8214/0.0003125 | 45/0.8214/0.00015625 | 46/0.8304/0.00015625 | 47/0.8214/0.00015625 | 48/0.8304/0.00015625 | 49/0.8304/0.00015625 | 50/0.8304/0.00015625 | 51/0.8304/7.8125e-05 | 52/0.8304/7.8125e-05 | 53/0.8304/7.8125e-05 | 54/0.8304/7.8125e-05 | 55/0.8304/7.8125e-05 | 56/0.8304/7.8125e-05 | 57/0.8304/3.90625e-05 | 58/0.8214/3.90625e-05 | 59/0.8304/3.90625e-05 | 60/0.8304/3.90625e-05 | 61/0.8304/3.90625e-05 | 62/0.8304/3.90625e-05 | 63/0.8304/1.953125e-05 | 64/0.8304/1.953125e-05 | 65/0.8304/1.953125e-05 | 66/0.8304/1.953125e-05 | 67/0.8304/1.953125e-05 | 68/0.8304/1.953125e-05 | 69/0.8304/9.765625e-06 | Accuracy: 0.1133\n",
      "Evaluating proteins dataset using graph_order method with a percentile of 60 against class members\n",
      "Training GCN on proteins for 200 epochs:\n",
      "Epoch/train loss/val accuracy: "
     ]
    },
    {
     "name": "stderr",
     "output_type": "stream",
     "text": [
      "/opt/conda/lib/python3.10/site-packages/torch_geometric/deprecation.py:26: UserWarning: 'data.DataLoader' is deprecated, use 'loader.DataLoader' instead\n",
      "  warnings.warn(out)\n",
      "/opt/conda/lib/python3.10/site-packages/torch/cuda/amp/grad_scaler.py:125: UserWarning: torch.cuda.amp.GradScaler is enabled, but CUDA is not available.  Disabling.\n",
      "  warnings.warn(\n",
      "/opt/conda/lib/python3.10/site-packages/torch/amp/autocast_mode.py:250: UserWarning: User provided device_type of 'cuda', but CUDA is not available. Disabling\n",
      "  warnings.warn(\n"
     ]
    },
    {
     "name": "stdout",
     "output_type": "stream",
     "text": [
      "1/0.4328/0.02 | 2/0.6642/0.02 | 3/0.5672/0.02 | 4/0.6567/0.02 | 5/0.6642/0.02 | 6/0.6940/0.02 | 7/0.7090/0.02 | 8/0.7239/0.01 | 9/0.7090/0.01 | 10/0.7239/0.01 | 11/0.7463/0.01 | 12/0.7164/0.01 | 13/0.7463/0.01 | 14/0.7612/0.005 | 15/0.7313/0.005 | 16/0.7687/0.005 | 17/0.7687/0.005 | 18/0.7463/0.005 | 19/0.7388/0.005 | 20/0.7239/0.0025 | 21/0.7388/0.0025 | 22/0.7388/0.0025 | 23/0.7388/0.0025 | 24/0.7388/0.0025 | 25/0.7388/0.0025 | 26/0.7612/0.00125 | 27/0.7537/0.00125 | 28/0.7388/0.00125 | 29/0.7313/0.00125 | 30/0.7537/0.00125 | 31/0.7388/0.00125 | 32/0.7463/0.000625 | 33/0.7537/0.000625 | 34/0.7537/0.000625 | 35/0.7537/0.000625 | 36/0.7612/0.000625 | 37/0.7612/0.000625 | 38/0.7537/0.0003125 | 39/0.7463/0.0003125 | 40/0.7537/0.0003125 | 41/0.7537/0.0003125 | 42/0.7537/0.0003125 | 43/0.7463/0.0003125 | 44/0.7388/0.00015625 | 45/0.7463/0.00015625 | 46/0.7463/0.00015625 | 47/0.7388/0.00015625 | 48/0.7388/0.00015625 | 49/0.7313/0.00015625 | 50/0.7463/7.8125e-05 | 51/0.7463/7.8125e-05 | 52/0.7388/7.8125e-05 | 53/0.7388/7.8125e-05 | 54/0.7463/7.8125e-05 | 55/0.7313/7.8125e-05 | 56/0.7463/3.90625e-05 | 57/0.7537/3.90625e-05 | 58/0.7388/3.90625e-05 | 59/0.7388/3.90625e-05 | 60/0.7463/3.90625e-05 | 61/0.7388/3.90625e-05 | 62/0.7463/1.953125e-05 | 63/0.7388/1.953125e-05 | 64/0.7463/1.953125e-05 | 65/0.7313/1.953125e-05 | 66/0.7537/1.953125e-05 | 67/0.7463/1.953125e-05 | 68/0.7463/9.765625e-06 | Accuracy: 0.1281\n",
      "Evaluating proteins dataset using graph_order method with a percentile of 70 against class members\n",
      "Training GCN on proteins for 200 epochs:\n",
      "Epoch/train loss/val accuracy: "
     ]
    },
    {
     "name": "stderr",
     "output_type": "stream",
     "text": [
      "/opt/conda/lib/python3.10/site-packages/torch_geometric/deprecation.py:26: UserWarning: 'data.DataLoader' is deprecated, use 'loader.DataLoader' instead\n",
      "  warnings.warn(out)\n",
      "/opt/conda/lib/python3.10/site-packages/torch/cuda/amp/grad_scaler.py:125: UserWarning: torch.cuda.amp.GradScaler is enabled, but CUDA is not available.  Disabling.\n",
      "  warnings.warn(\n",
      "/opt/conda/lib/python3.10/site-packages/torch/amp/autocast_mode.py:250: UserWarning: User provided device_type of 'cuda', but CUDA is not available. Disabling\n",
      "  warnings.warn(\n"
     ]
    },
    {
     "name": "stdout",
     "output_type": "stream",
     "text": [
      "1/0.6178/0.02 | 2/0.6242/0.02 | 3/0.6178/0.02 | 4/0.6815/0.02 | 5/0.5159/0.02 | 6/0.4841/0.02 | 7/0.5223/0.02 | 8/0.6815/0.02 | 9/0.7325/0.02 | 10/0.7452/0.02 | 11/0.7389/0.02 | 12/0.7580/0.02 | 13/0.7643/0.01 | 14/0.7580/0.01 | 15/0.7389/0.01 | 16/0.7707/0.01 | 17/0.7707/0.01 | 18/0.7452/0.01 | 19/0.7643/0.005 | 20/0.7707/0.005 | 21/0.7834/0.005 | 22/0.7643/0.005 | 23/0.7771/0.005 | 24/0.7707/0.005 | 25/0.7707/0.0025 | 26/0.7643/0.0025 | 27/0.7643/0.0025 | 28/0.7580/0.0025 | 29/0.7580/0.0025 | 30/0.7580/0.0025 | 31/0.7643/0.00125 | 32/0.7771/0.00125 | 33/0.7771/0.00125 | 34/0.7643/0.00125 | 35/0.7707/0.00125 | 36/0.7707/0.00125 | 37/0.7707/0.000625 | 38/0.7707/0.000625 | 39/0.7707/0.000625 | 40/0.7707/0.000625 | 41/0.7643/0.000625 | 42/0.7771/0.000625 | 43/0.7771/0.0003125 | 44/0.7707/0.0003125 | 45/0.7771/0.0003125 | 46/0.7707/0.0003125 | 47/0.7707/0.0003125 | 48/0.7643/0.0003125 | 49/0.7643/0.00015625 | 50/0.7643/0.00015625 | 51/0.7643/0.00015625 | 52/0.7707/0.00015625 | 53/0.7707/0.00015625 | 54/0.7643/0.00015625 | 55/0.7580/7.8125e-05 | 56/0.7707/7.8125e-05 | 57/0.7707/7.8125e-05 | 58/0.7707/7.8125e-05 | 59/0.7707/7.8125e-05 | 60/0.7771/7.8125e-05 | 61/0.7580/3.90625e-05 | 62/0.7707/3.90625e-05 | 63/0.7580/3.90625e-05 | 64/0.7643/3.90625e-05 | 65/0.7643/3.90625e-05 | 66/0.7643/3.90625e-05 | 67/0.7707/1.953125e-05 | 68/0.7707/1.953125e-05 | 69/0.7580/1.953125e-05 | 70/0.7516/1.953125e-05 | 71/0.7643/1.953125e-05 | 72/0.7643/1.953125e-05 | 73/0.7643/9.765625e-06 | Accuracy: 0.1265\n",
      "Evaluating proteins dataset using graph_order method with a percentile of 80 against class members\n",
      "Training GCN on proteins for 200 epochs:\n",
      "Epoch/train loss/val accuracy: "
     ]
    },
    {
     "name": "stderr",
     "output_type": "stream",
     "text": [
      "/opt/conda/lib/python3.10/site-packages/torch_geometric/deprecation.py:26: UserWarning: 'data.DataLoader' is deprecated, use 'loader.DataLoader' instead\n",
      "  warnings.warn(out)\n",
      "/opt/conda/lib/python3.10/site-packages/torch/cuda/amp/grad_scaler.py:125: UserWarning: torch.cuda.amp.GradScaler is enabled, but CUDA is not available.  Disabling.\n",
      "  warnings.warn(\n",
      "/opt/conda/lib/python3.10/site-packages/torch/amp/autocast_mode.py:250: UserWarning: User provided device_type of 'cuda', but CUDA is not available. Disabling\n",
      "  warnings.warn(\n"
     ]
    },
    {
     "name": "stdout",
     "output_type": "stream",
     "text": [
      "1/0.5866/0.02 | 2/0.6983/0.02 | 3/0.6313/0.02 | 4/0.6816/0.02 | 5/0.6927/0.02 | 6/0.6313/0.02 | 7/0.7374/0.02 | 8/0.6592/0.01 | 9/0.7095/0.01 | 10/0.6872/0.01 | 11/0.7263/0.01 | 12/0.7430/0.01 | 13/0.7263/0.01 | 14/0.7207/0.005 | 15/0.7207/0.005 | 16/0.7542/0.005 | 17/0.6927/0.005 | 18/0.7263/0.005 | 19/0.6983/0.005 | 20/0.6983/0.0025 | 21/0.7039/0.0025 | 22/0.6872/0.0025 | 23/0.7318/0.0025 | 24/0.7263/0.0025 | 25/0.7207/0.0025 | 26/0.7486/0.00125 | 27/0.7486/0.00125 | 28/0.7151/0.00125 | 29/0.7095/0.00125 | 30/0.7095/0.00125 | 31/0.7486/0.00125 | 32/0.7263/0.000625 | 33/0.6927/0.000625 | 34/0.7151/0.000625 | 35/0.6927/0.000625 | 36/0.6927/0.000625 | 37/0.7039/0.000625 | 38/0.6927/0.0003125 | 39/0.6983/0.0003125 | 40/0.6872/0.0003125 | 41/0.6872/0.0003125 | 42/0.6760/0.0003125 | 43/0.6816/0.0003125 | 44/0.6927/0.00015625 | 45/0.6927/0.00015625 | 46/0.7151/0.00015625 | 47/0.6927/0.00015625 | 48/0.6927/0.00015625 | 49/0.7039/0.00015625 | 50/0.6927/7.8125e-05 | 51/0.6983/7.8125e-05 | 52/0.6872/7.8125e-05 | 53/0.6872/7.8125e-05 | 54/0.7039/7.8125e-05 | 55/0.6927/7.8125e-05 | 56/0.6872/3.90625e-05 | 57/0.6927/3.90625e-05 | 58/0.6927/3.90625e-05 | 59/0.6872/3.90625e-05 | 60/0.6927/3.90625e-05 | 61/0.6816/3.90625e-05 | 62/0.7095/1.953125e-05 | 63/0.6927/1.953125e-05 | 64/0.6927/1.953125e-05 | 65/0.6983/1.953125e-05 | 66/0.6927/1.953125e-05 | 67/0.6927/1.953125e-05 | 68/0.7207/9.765625e-06 | Accuracy: 0.1351\n",
      "Evaluating proteins dataset using graph_order method with a percentile of 90 against class members\n",
      "Training GCN on proteins for 200 epochs:\n",
      "Epoch/train loss/val accuracy: "
     ]
    },
    {
     "name": "stderr",
     "output_type": "stream",
     "text": [
      "/opt/conda/lib/python3.10/site-packages/torch_geometric/deprecation.py:26: UserWarning: 'data.DataLoader' is deprecated, use 'loader.DataLoader' instead\n",
      "  warnings.warn(out)\n",
      "/opt/conda/lib/python3.10/site-packages/torch/cuda/amp/grad_scaler.py:125: UserWarning: torch.cuda.amp.GradScaler is enabled, but CUDA is not available.  Disabling.\n",
      "  warnings.warn(\n",
      "/opt/conda/lib/python3.10/site-packages/torch/amp/autocast_mode.py:250: UserWarning: User provided device_type of 'cuda', but CUDA is not available. Disabling\n",
      "  warnings.warn(\n"
     ]
    },
    {
     "name": "stdout",
     "output_type": "stream",
     "text": [
      "1/0.6468/0.02 | 2/0.6418/0.02 | 3/0.6766/0.02 | 4/0.7214/0.02 | 5/0.7463/0.02 | 6/0.7114/0.02 | 7/0.7612/0.02 | 8/0.7214/0.02 | 9/0.7512/0.01 | 10/0.7164/0.01 | 11/0.7313/0.01 | 12/0.7413/0.01 | 13/0.7363/0.01 | 14/0.7413/0.01 | 15/0.7264/0.005 | 16/0.7512/0.005 | 17/0.7313/0.005 | 18/0.7463/0.005 | 19/0.7264/0.005 | 20/0.7413/0.005 | 21/0.7264/0.0025 | 22/0.7463/0.0025 | 23/0.7413/0.0025 | 24/0.7363/0.0025 | 25/0.7363/0.0025 | 26/0.7264/0.0025 | 27/0.7363/0.00125 | 28/0.7313/0.00125 | 29/0.7313/0.00125 | 30/0.7313/0.00125 | 31/0.7313/0.00125 | 32/0.7313/0.00125 | 33/0.7313/0.000625 | 34/0.7313/0.000625 | 35/0.7413/0.000625 | 36/0.7363/0.000625 | 37/0.7313/0.000625 | 38/0.7363/0.000625 | 39/0.7413/0.0003125 | 40/0.7363/0.0003125 | 41/0.7363/0.0003125 | 42/0.7313/0.0003125 | 43/0.7413/0.0003125 | 44/0.7363/0.0003125 | 45/0.7363/0.00015625 | 46/0.7363/0.00015625 | 47/0.7413/0.00015625 | 48/0.7363/0.00015625 | 49/0.7413/0.00015625 | 50/0.7363/0.00015625 | 51/0.7363/7.8125e-05 | 52/0.7363/7.8125e-05 | 53/0.7363/7.8125e-05 | 54/0.7363/7.8125e-05 | 55/0.7363/7.8125e-05 | 56/0.7363/7.8125e-05 | 57/0.7363/3.90625e-05 | 58/0.7363/3.90625e-05 | 59/0.7413/3.90625e-05 | 60/0.7363/3.90625e-05 | 61/0.7363/3.90625e-05 | 62/0.7363/3.90625e-05 | 63/0.7363/1.953125e-05 | 64/0.7413/1.953125e-05 | 65/0.7413/1.953125e-05 | 66/0.7363/1.953125e-05 | 67/0.7363/1.953125e-05 | 68/0.7413/1.953125e-05 | 69/0.7363/9.765625e-06 | Accuracy: 0.1441\n",
      "Evaluating proteins dataset using cos_sim method with a percentile of 40 against class members\n",
      "Training GCN on proteins for 200 epochs:\n",
      "Epoch/train loss/val accuracy: "
     ]
    },
    {
     "name": "stderr",
     "output_type": "stream",
     "text": [
      "/opt/conda/lib/python3.10/site-packages/torch_geometric/deprecation.py:26: UserWarning: 'data.DataLoader' is deprecated, use 'loader.DataLoader' instead\n",
      "  warnings.warn(out)\n",
      "/opt/conda/lib/python3.10/site-packages/torch/cuda/amp/grad_scaler.py:125: UserWarning: torch.cuda.amp.GradScaler is enabled, but CUDA is not available.  Disabling.\n",
      "  warnings.warn(\n",
      "/opt/conda/lib/python3.10/site-packages/torch/amp/autocast_mode.py:250: UserWarning: User provided device_type of 'cuda', but CUDA is not available. Disabling\n",
      "  warnings.warn(\n"
     ]
    },
    {
     "name": "stdout",
     "output_type": "stream",
     "text": [
      "1/0.6444/0.02 | 2/0.6444/0.02 | 3/0.7111/0.02 | 4/0.7444/0.02 | 5/0.7000/0.02 | 6/0.7667/0.02 | 7/0.7556/0.02 | 8/0.7111/0.01 | 9/0.7333/0.01 | 10/0.7222/0.01 | 11/0.7333/0.01 | 12/0.7333/0.01 | 13/0.7444/0.01 | 14/0.7333/0.005 | 15/0.7778/0.005 | 16/0.7444/0.005 | 17/0.7667/0.005 | 18/0.7444/0.005 | 19/0.7444/0.005 | 20/0.7444/0.0025 | 21/0.7444/0.0025 | 22/0.7222/0.0025 | 23/0.7222/0.0025 | 24/0.7444/0.0025 | 25/0.7444/0.0025 | 26/0.7444/0.00125 | 27/0.7333/0.00125 | 28/0.7444/0.00125 | 29/0.7556/0.00125 | 30/0.7556/0.00125 | 31/0.7333/0.00125 | 32/0.7444/0.000625 | 33/0.7333/0.000625 | 34/0.7333/0.000625 | 35/0.7333/0.000625 | 36/0.7222/0.000625 | 37/0.7333/0.000625 | 38/0.7444/0.0003125 | 39/0.7444/0.0003125 | 40/0.7444/0.0003125 | 41/0.7444/0.0003125 | 42/0.7444/0.0003125 | 43/0.7444/0.0003125 | 44/0.7444/0.00015625 | 45/0.7444/0.00015625 | 46/0.7444/0.00015625 | 47/0.7333/0.00015625 | 48/0.7333/0.00015625 | 49/0.7333/0.00015625 | 50/0.7333/7.8125e-05 | 51/0.7333/7.8125e-05 | 52/0.7444/7.8125e-05 | 53/0.7444/7.8125e-05 | 54/0.7333/7.8125e-05 | 55/0.7444/7.8125e-05 | 56/0.7444/3.90625e-05 | 57/0.7444/3.90625e-05 | 58/0.7333/3.90625e-05 | 59/0.7444/3.90625e-05 | 60/0.7444/3.90625e-05 | 61/0.7444/3.90625e-05 | 62/0.7333/1.953125e-05 | 63/0.7333/1.953125e-05 | 64/0.7444/1.953125e-05 | 65/0.7444/1.953125e-05 | 66/0.7333/1.953125e-05 | 67/0.7333/1.953125e-05 | 68/0.7444/9.765625e-06 | Accuracy: 0.2414\n",
      "Evaluating proteins dataset using cos_sim method with a percentile of 50 against class members\n",
      "Training GCN on proteins for 200 epochs:\n",
      "Epoch/train loss/val accuracy: "
     ]
    },
    {
     "name": "stderr",
     "output_type": "stream",
     "text": [
      "/opt/conda/lib/python3.10/site-packages/torch_geometric/deprecation.py:26: UserWarning: 'data.DataLoader' is deprecated, use 'loader.DataLoader' instead\n",
      "  warnings.warn(out)\n",
      "/opt/conda/lib/python3.10/site-packages/torch/cuda/amp/grad_scaler.py:125: UserWarning: torch.cuda.amp.GradScaler is enabled, but CUDA is not available.  Disabling.\n",
      "  warnings.warn(\n",
      "/opt/conda/lib/python3.10/site-packages/torch/amp/autocast_mode.py:250: UserWarning: User provided device_type of 'cuda', but CUDA is not available. Disabling\n",
      "  warnings.warn(\n"
     ]
    },
    {
     "name": "stdout",
     "output_type": "stream",
     "text": [
      "1/0.5625/0.02 | 2/0.6250/0.02 | 3/0.6607/0.02 | 4/0.6518/0.02 | 5/0.6429/0.02 | 6/0.6875/0.02 | 7/0.6875/0.02 | 8/0.6518/0.01 | 9/0.6964/0.01 | 10/0.6875/0.01 | 11/0.6875/0.01 | 12/0.6964/0.01 | 13/0.6964/0.01 | 14/0.6964/0.005 | 15/0.6964/0.005 | 16/0.6964/0.005 | 17/0.7054/0.005 | 18/0.6964/0.005 | 19/0.6786/0.005 | 20/0.6786/0.0025 | 21/0.6964/0.0025 | 22/0.6964/0.0025 | 23/0.6964/0.0025 | 24/0.6964/0.0025 | 25/0.6964/0.0025 | 26/0.6964/0.00125 | 27/0.6786/0.00125 | 28/0.6786/0.00125 | 29/0.6875/0.00125 | 30/0.6786/0.00125 | 31/0.6786/0.00125 | 32/0.6696/0.000625 | 33/0.6875/0.000625 | 34/0.6964/0.000625 | 35/0.6875/0.000625 | 36/0.6964/0.000625 | 37/0.6964/0.000625 | 38/0.6964/0.0003125 | 39/0.6964/0.0003125 | 40/0.6964/0.0003125 | 41/0.6964/0.0003125 | 42/0.6786/0.0003125 | 43/0.6786/0.0003125 | 44/0.6875/0.00015625 | 45/0.6875/0.00015625 | 46/0.6875/0.00015625 | 47/0.6875/0.00015625 | 48/0.6964/0.00015625 | 49/0.6875/0.00015625 | 50/0.6875/7.8125e-05 | 51/0.6875/7.8125e-05 | 52/0.6875/7.8125e-05 | 53/0.6875/7.8125e-05 | 54/0.6875/7.8125e-05 | 55/0.6964/7.8125e-05 | 56/0.6964/3.90625e-05 | 57/0.6964/3.90625e-05 | 58/0.6964/3.90625e-05 | 59/0.6964/3.90625e-05 | 60/0.6964/3.90625e-05 | 61/0.6964/3.90625e-05 | 62/0.6875/1.953125e-05 | 63/0.6964/1.953125e-05 | 64/0.6875/1.953125e-05 | 65/0.6875/1.953125e-05 | 66/0.6964/1.953125e-05 | 67/0.6875/1.953125e-05 | 68/0.6964/9.765625e-06 | Accuracy: 0.2464\n",
      "Evaluating proteins dataset using cos_sim method with a percentile of 60 against class members\n",
      "Training GCN on proteins for 200 epochs:\n",
      "Epoch/train loss/val accuracy: "
     ]
    },
    {
     "name": "stderr",
     "output_type": "stream",
     "text": [
      "/opt/conda/lib/python3.10/site-packages/torch_geometric/deprecation.py:26: UserWarning: 'data.DataLoader' is deprecated, use 'loader.DataLoader' instead\n",
      "  warnings.warn(out)\n",
      "/opt/conda/lib/python3.10/site-packages/torch/cuda/amp/grad_scaler.py:125: UserWarning: torch.cuda.amp.GradScaler is enabled, but CUDA is not available.  Disabling.\n",
      "  warnings.warn(\n",
      "/opt/conda/lib/python3.10/site-packages/torch/amp/autocast_mode.py:250: UserWarning: User provided device_type of 'cuda', but CUDA is not available. Disabling\n",
      "  warnings.warn(\n"
     ]
    },
    {
     "name": "stdout",
     "output_type": "stream",
     "text": [
      "1/0.4627/0.02 | 2/0.6045/0.02 | 3/0.6567/0.02 | 4/0.6343/0.02 | 5/0.6716/0.02 | 6/0.5821/0.02 | 7/0.7015/0.02 | 8/0.6791/0.01 | 9/0.7015/0.01 | 10/0.7015/0.01 | 11/0.7090/0.01 | 12/0.7164/0.01 | 13/0.7687/0.01 | 14/0.7239/0.005 | 15/0.7313/0.005 | 16/0.6940/0.005 | 17/0.7388/0.005 | 18/0.7313/0.005 | 19/0.6940/0.005 | 20/0.7463/0.0025 | 21/0.7313/0.0025 | 22/0.7537/0.0025 | 23/0.7463/0.0025 | 24/0.7313/0.0025 | 25/0.7090/0.0025 | 26/0.7463/0.00125 | 27/0.7388/0.00125 | 28/0.7463/0.00125 | 29/0.7537/0.00125 | 30/0.7537/0.00125 | 31/0.7463/0.00125 | 32/0.7537/0.000625 | 33/0.7537/0.000625 | 34/0.7463/0.000625 | 35/0.7537/0.000625 | 36/0.7537/0.000625 | 37/0.7537/0.000625 | 38/0.7463/0.0003125 | 39/0.7463/0.0003125 | 40/0.7537/0.0003125 | 41/0.7463/0.0003125 | 42/0.7463/0.0003125 | 43/0.7463/0.0003125 | 44/0.7388/0.00015625 | 45/0.7388/0.00015625 | 46/0.7388/0.00015625 | 47/0.7463/0.00015625 | 48/0.7388/0.00015625 | 49/0.7537/0.00015625 | 50/0.7388/7.8125e-05 | 51/0.7313/7.8125e-05 | 52/0.7463/7.8125e-05 | 53/0.7388/7.8125e-05 | 54/0.7537/7.8125e-05 | 55/0.7388/7.8125e-05 | 56/0.7612/3.90625e-05 | 57/0.7537/3.90625e-05 | 58/0.7388/3.90625e-05 | 59/0.7612/3.90625e-05 | 60/0.7612/3.90625e-05 | 61/0.7537/3.90625e-05 | 62/0.7537/1.953125e-05 | 63/0.7537/1.953125e-05 | 64/0.7537/1.953125e-05 | 65/0.7537/1.953125e-05 | 66/0.7463/1.953125e-05 | 67/0.7537/1.953125e-05 | 68/0.7388/9.765625e-06 | Accuracy: 0.2022\n",
      "Evaluating proteins dataset using cos_sim method with a percentile of 70 against class members\n",
      "Training GCN on proteins for 200 epochs:\n",
      "Epoch/train loss/val accuracy: "
     ]
    },
    {
     "name": "stderr",
     "output_type": "stream",
     "text": [
      "/opt/conda/lib/python3.10/site-packages/torch_geometric/deprecation.py:26: UserWarning: 'data.DataLoader' is deprecated, use 'loader.DataLoader' instead\n",
      "  warnings.warn(out)\n",
      "/opt/conda/lib/python3.10/site-packages/torch/cuda/amp/grad_scaler.py:125: UserWarning: torch.cuda.amp.GradScaler is enabled, but CUDA is not available.  Disabling.\n",
      "  warnings.warn(\n",
      "/opt/conda/lib/python3.10/site-packages/torch/amp/autocast_mode.py:250: UserWarning: User provided device_type of 'cuda', but CUDA is not available. Disabling\n",
      "  warnings.warn(\n"
     ]
    },
    {
     "name": "stdout",
     "output_type": "stream",
     "text": [
      "1/0.5541/0.02 | 2/0.6752/0.02 | 3/0.5860/0.02 | 4/0.5924/0.02 | 5/0.7197/0.02 | 6/0.7070/0.02 | 7/0.7516/0.02 | 8/0.7580/0.01 | 9/0.7452/0.01 | 10/0.7771/0.01 | 11/0.7516/0.01 | 12/0.7707/0.01 | 13/0.7771/0.01 | 14/0.7898/0.005 | 15/0.7898/0.005 | 16/0.7771/0.005 | 17/0.7707/0.005 | 18/0.7834/0.005 | 19/0.7771/0.005 | 20/0.7771/0.0025 | 21/0.7707/0.0025 | 22/0.7834/0.0025 | 23/0.7707/0.0025 | 24/0.7707/0.0025 | 25/0.7771/0.0025 | 26/0.7771/0.00125 | 27/0.7707/0.00125 | 28/0.7771/0.00125 | 29/0.7643/0.00125 | 30/0.7771/0.00125 | 31/0.7771/0.00125 | 32/0.7771/0.000625 | 33/0.7707/0.000625 | 34/0.7580/0.000625 | 35/0.7643/0.000625 | 36/0.7643/0.000625 | 37/0.7898/0.000625 | 38/0.7898/0.0003125 | 39/0.7771/0.0003125 | 40/0.7707/0.0003125 | 41/0.7643/0.0003125 | 42/0.7707/0.0003125 | 43/0.7580/0.0003125 | 44/0.7707/0.00015625 | 45/0.7707/0.00015625 | 46/0.7707/0.00015625 | 47/0.7707/0.00015625 | 48/0.7707/0.00015625 | 49/0.7707/0.00015625 | 50/0.7707/7.8125e-05 | 51/0.7643/7.8125e-05 | 52/0.7771/7.8125e-05 | 53/0.7707/7.8125e-05 | 54/0.7707/7.8125e-05 | 55/0.7707/7.8125e-05 | 56/0.7707/3.90625e-05 | 57/0.7707/3.90625e-05 | 58/0.7643/3.90625e-05 | 59/0.7707/3.90625e-05 | 60/0.7707/3.90625e-05 | 61/0.7771/3.90625e-05 | 62/0.7643/1.953125e-05 | 63/0.7707/1.953125e-05 | 64/0.7771/1.953125e-05 | 65/0.7771/1.953125e-05 | 66/0.7707/1.953125e-05 | 67/0.7771/1.953125e-05 | 68/0.7771/9.765625e-06 | Accuracy: 0.2139\n",
      "Evaluating proteins dataset using cos_sim method with a percentile of 80 against class members\n",
      "Training GCN on proteins for 200 epochs:\n",
      "Epoch/train loss/val accuracy: "
     ]
    },
    {
     "name": "stderr",
     "output_type": "stream",
     "text": [
      "/opt/conda/lib/python3.10/site-packages/torch_geometric/deprecation.py:26: UserWarning: 'data.DataLoader' is deprecated, use 'loader.DataLoader' instead\n",
      "  warnings.warn(out)\n",
      "/opt/conda/lib/python3.10/site-packages/torch/cuda/amp/grad_scaler.py:125: UserWarning: torch.cuda.amp.GradScaler is enabled, but CUDA is not available.  Disabling.\n",
      "  warnings.warn(\n",
      "/opt/conda/lib/python3.10/site-packages/torch/amp/autocast_mode.py:250: UserWarning: User provided device_type of 'cuda', but CUDA is not available. Disabling\n",
      "  warnings.warn(\n"
     ]
    },
    {
     "name": "stdout",
     "output_type": "stream",
     "text": [
      "1/0.5922/0.02 | 2/0.5754/0.02 | 3/0.6927/0.02 | 4/0.6760/0.02 | 5/0.6983/0.02 | 6/0.6089/0.02 | 7/0.6425/0.02 | 8/0.7039/0.02 | 9/0.7095/0.01 | 10/0.6927/0.01 | 11/0.7039/0.01 | 12/0.7151/0.01 | 13/0.7039/0.01 | 14/0.6983/0.01 | 15/0.6927/0.005 | 16/0.7039/0.005 | 17/0.6983/0.005 | 18/0.7095/0.005 | 19/0.6927/0.005 | 20/0.6816/0.005 | 21/0.6872/0.0025 | 22/0.7039/0.0025 | 23/0.6983/0.0025 | 24/0.7039/0.0025 | 25/0.7039/0.0025 | 26/0.6983/0.0025 | 27/0.6983/0.00125 | 28/0.7095/0.00125 | 29/0.7039/0.00125 | 30/0.7039/0.00125 | 31/0.7095/0.00125 | 32/0.7095/0.00125 | 33/0.7095/0.000625 | 34/0.7095/0.000625 | 35/0.7151/0.000625 | 36/0.7095/0.000625 | 37/0.7095/0.000625 | 38/0.7095/0.000625 | 39/0.7151/0.0003125 | 40/0.7151/0.0003125 | 41/0.7207/0.0003125 | 42/0.7151/0.0003125 | 43/0.7039/0.0003125 | 44/0.7095/0.0003125 | 45/0.7095/0.00015625 | 46/0.7095/0.00015625 | 47/0.7151/0.00015625 | 48/0.7151/0.00015625 | 49/0.7039/0.00015625 | 50/0.7151/0.00015625 | 51/0.7095/7.8125e-05 | 52/0.7039/7.8125e-05 | 53/0.7151/7.8125e-05 | 54/0.7151/7.8125e-05 | 55/0.7151/7.8125e-05 | 56/0.7151/7.8125e-05 | 57/0.7151/3.90625e-05 | 58/0.7151/3.90625e-05 | 59/0.7095/3.90625e-05 | 60/0.7095/3.90625e-05 | 61/0.7039/3.90625e-05 | 62/0.7095/3.90625e-05 | 63/0.7151/1.953125e-05 | 64/0.7095/1.953125e-05 | 65/0.7151/1.953125e-05 | 66/0.7095/1.953125e-05 | 67/0.7151/1.953125e-05 | 68/0.7151/1.953125e-05 | 69/0.7039/9.765625e-06 | Accuracy: 0.2387\n",
      "Evaluating proteins dataset using cos_sim method with a percentile of 90 against class members\n",
      "Training GCN on proteins for 200 epochs:\n",
      "Epoch/train loss/val accuracy: "
     ]
    },
    {
     "name": "stderr",
     "output_type": "stream",
     "text": [
      "/opt/conda/lib/python3.10/site-packages/torch_geometric/deprecation.py:26: UserWarning: 'data.DataLoader' is deprecated, use 'loader.DataLoader' instead\n",
      "  warnings.warn(out)\n",
      "/opt/conda/lib/python3.10/site-packages/torch/cuda/amp/grad_scaler.py:125: UserWarning: torch.cuda.amp.GradScaler is enabled, but CUDA is not available.  Disabling.\n",
      "  warnings.warn(\n",
      "/opt/conda/lib/python3.10/site-packages/torch/amp/autocast_mode.py:250: UserWarning: User provided device_type of 'cuda', but CUDA is not available. Disabling\n",
      "  warnings.warn(\n"
     ]
    },
    {
     "name": "stdout",
     "output_type": "stream",
     "text": [
      "1/0.6418/0.02 | 2/0.6567/0.02 | 3/0.6716/0.02 | 4/0.6716/0.02 | 5/0.6766/0.02 | 6/0.6965/0.02 | 7/0.6915/0.02 | 8/0.7313/0.01 | 9/0.6816/0.01 | 10/0.7114/0.01 | 11/0.7264/0.01 | 12/0.7313/0.01 | 13/0.7363/0.01 | 14/0.7313/0.005 | 15/0.7164/0.005 | 16/0.7264/0.005 | 17/0.7264/0.005 | 18/0.7164/0.005 | 19/0.7313/0.005 | 20/0.7114/0.0025 | 21/0.7114/0.0025 | 22/0.7164/0.0025 | 23/0.7264/0.0025 | 24/0.7164/0.0025 | 25/0.7264/0.0025 | 26/0.7214/0.00125 | 27/0.7214/0.00125 | 28/0.7214/0.00125 | 29/0.7164/0.00125 | 30/0.7164/0.00125 | 31/0.7164/0.00125 | 32/0.7264/0.000625 | 33/0.7214/0.000625 | 34/0.7164/0.000625 | 35/0.7214/0.000625 | 36/0.7164/0.000625 | 37/0.7164/0.000625 | 38/0.7164/0.0003125 | 39/0.7264/0.0003125 | 40/0.7264/0.0003125 | 41/0.7214/0.0003125 | 42/0.7264/0.0003125 | 43/0.7164/0.0003125 | 44/0.7114/0.00015625 | 45/0.7164/0.00015625 | 46/0.7114/0.00015625 | 47/0.7214/0.00015625 | 48/0.7164/0.00015625 | 49/0.7164/0.00015625 | 50/0.7214/7.8125e-05 | 51/0.7214/7.8125e-05 | 52/0.7114/7.8125e-05 | 53/0.7114/7.8125e-05 | 54/0.7164/7.8125e-05 | 55/0.7114/7.8125e-05 | 56/0.7114/3.90625e-05 | 57/0.7114/3.90625e-05 | 58/0.7114/3.90625e-05 | 59/0.7114/3.90625e-05 | 60/0.7164/3.90625e-05 | 61/0.7164/3.90625e-05 | 62/0.7164/1.953125e-05 | 63/0.7164/1.953125e-05 | 64/0.7164/1.953125e-05 | 65/0.7164/1.953125e-05 | 66/0.7164/1.953125e-05 | 67/0.7164/1.953125e-05 | 68/0.7164/9.765625e-06 | Accuracy: 0.2072\n",
      "Evaluating mutag dataset using random method with a percentile of 40 against class members\n",
      "Training GCN on mutag for 200 epochs:\n",
      "Epoch/train loss/val accuracy: "
     ]
    },
    {
     "name": "stderr",
     "output_type": "stream",
     "text": [
      "/opt/conda/lib/python3.10/site-packages/torch_geometric/deprecation.py:26: UserWarning: 'data.DataLoader' is deprecated, use 'loader.DataLoader' instead\n",
      "  warnings.warn(out)\n",
      "/opt/conda/lib/python3.10/site-packages/torch/cuda/amp/grad_scaler.py:125: UserWarning: torch.cuda.amp.GradScaler is enabled, but CUDA is not available.  Disabling.\n",
      "  warnings.warn(\n",
      "/opt/conda/lib/python3.10/site-packages/torch/amp/autocast_mode.py:250: UserWarning: User provided device_type of 'cuda', but CUDA is not available. Disabling\n",
      "  warnings.warn(\n"
     ]
    },
    {
     "name": "stdout",
     "output_type": "stream",
     "text": [
      "1/0.6667/0.02 | 2/0.6667/0.02 | 3/0.6667/0.02 | 4/0.6667/0.02 | 5/0.6667/0.02 | 6/0.6667/0.02 | 7/0.6667/0.02 | 8/0.6667/0.01 | 9/0.6667/0.01 | 10/0.6667/0.01 | 11/0.7333/0.01 | 12/0.7333/0.01 | 13/0.7333/0.01 | 14/0.7333/0.005 | 15/0.7333/0.005 | 16/0.7333/0.005 | 17/0.7333/0.005 | 18/0.7333/0.005 | 19/0.7333/0.005 | 20/0.7333/0.0025 | 21/0.7333/0.0025 | 22/0.7333/0.0025 | 23/0.7333/0.0025 | 24/0.7333/0.0025 | 25/0.7333/0.0025 | 26/0.7333/0.00125 | 27/0.7333/0.00125 | 28/0.7333/0.00125 | 29/0.7333/0.00125 | 30/0.7333/0.00125 | 31/0.7333/0.00125 | 32/0.7333/0.000625 | 33/0.7333/0.000625 | 34/0.7333/0.000625 | 35/0.7333/0.000625 | 36/0.7333/0.000625 | 37/0.7333/0.000625 | 38/0.7333/0.0003125 | 39/0.7333/0.0003125 | 40/0.7333/0.0003125 | 41/0.7333/0.0003125 | 42/0.7333/0.0003125 | 43/0.7333/0.0003125 | 44/0.7333/0.00015625 | 45/0.7333/0.00015625 | 46/0.7333/0.00015625 | 47/0.7333/0.00015625 | 48/0.7333/0.00015625 | 49/0.7333/0.00015625 | 50/0.7333/7.8125e-05 | 51/0.7333/7.8125e-05 | 52/0.7333/7.8125e-05 | 53/0.7333/7.8125e-05 | 54/0.7333/7.8125e-05 | 55/0.7333/7.8125e-05 | 56/0.7333/3.90625e-05 | 57/0.7333/3.90625e-05 | 58/0.7333/3.90625e-05 | 59/0.7333/3.90625e-05 | 60/0.7333/3.90625e-05 | 61/0.7333/3.90625e-05 | 62/0.7333/1.953125e-05 | 63/0.8000/1.953125e-05 | 64/0.7333/1.953125e-05 | 65/0.8000/1.953125e-05 | 66/0.8000/1.953125e-05 | 67/0.8000/1.953125e-05 | 68/0.8000/9.765625e-06 | Accuracy: 0.5752\n",
      "Evaluating mutag dataset using random method with a percentile of 50 against class members\n",
      "Training GCN on mutag for 200 epochs:\n",
      "Epoch/train loss/val accuracy: "
     ]
    },
    {
     "name": "stderr",
     "output_type": "stream",
     "text": [
      "/opt/conda/lib/python3.10/site-packages/torch_geometric/deprecation.py:26: UserWarning: 'data.DataLoader' is deprecated, use 'loader.DataLoader' instead\n",
      "  warnings.warn(out)\n",
      "/opt/conda/lib/python3.10/site-packages/torch/cuda/amp/grad_scaler.py:125: UserWarning: torch.cuda.amp.GradScaler is enabled, but CUDA is not available.  Disabling.\n",
      "  warnings.warn(\n",
      "/opt/conda/lib/python3.10/site-packages/torch/amp/autocast_mode.py:250: UserWarning: User provided device_type of 'cuda', but CUDA is not available. Disabling\n",
      "  warnings.warn(\n"
     ]
    },
    {
     "name": "stdout",
     "output_type": "stream",
     "text": [
      "1/0.6842/0.02 | 2/0.3158/0.02 | 3/0.6842/0.02 | 4/0.6842/0.02 | 5/0.6842/0.02 | 6/0.3158/0.02 | 7/0.3158/0.02 | 8/0.3158/0.02 | 9/0.3158/0.01 | 10/0.3158/0.01 | 11/0.3158/0.01 | 12/0.3158/0.01 | 13/0.3684/0.01 | 14/0.7368/0.01 | 15/0.7895/0.005 | 16/0.7895/0.005 | 17/0.7895/0.005 | 18/0.7368/0.005 | 19/0.7368/0.005 | 20/0.7895/0.005 | 21/0.8421/0.0025 | 22/0.8421/0.0025 | 23/0.8421/0.0025 | 24/0.8421/0.0025 | 25/0.8421/0.0025 | 26/0.8421/0.0025 | 27/0.8421/0.00125 | 28/0.8421/0.00125 | 29/0.8421/0.00125 | 30/0.8421/0.00125 | 31/0.8421/0.00125 | 32/0.8421/0.00125 | 33/0.8421/0.000625 | 34/0.8421/0.000625 | 35/0.8421/0.000625 | 36/0.8421/0.000625 | 37/0.7895/0.000625 | 38/0.8421/0.000625 | 39/0.8421/0.0003125 | 40/0.8421/0.0003125 | 41/0.8421/0.0003125 | 42/0.8421/0.0003125 | 43/0.8421/0.0003125 | 44/0.8421/0.0003125 | 45/0.8421/0.00015625 | 46/0.8421/0.00015625 | 47/0.8421/0.00015625 | 48/0.8421/0.00015625 | 49/0.8421/0.00015625 | 50/0.8421/0.00015625 | 51/0.8421/7.8125e-05 | 52/0.8421/7.8125e-05 | 53/0.8421/7.8125e-05 | 54/0.8421/7.8125e-05 | 55/0.8421/7.8125e-05 | 56/0.8421/7.8125e-05 | 57/0.8421/3.90625e-05 | 58/0.8421/3.90625e-05 | 59/0.8421/3.90625e-05 | 60/0.7895/3.90625e-05 | 61/0.7895/3.90625e-05 | 62/0.8421/3.90625e-05 | 63/0.8421/1.953125e-05 | 64/0.7895/1.953125e-05 | 65/0.8421/1.953125e-05 | 66/0.7895/1.953125e-05 | 67/0.7895/1.953125e-05 | 68/0.8421/1.953125e-05 | 69/0.8421/9.765625e-06 | Accuracy: 0.6383\n",
      "Evaluating mutag dataset using random method with a percentile of 60 against class members\n",
      "Training GCN on mutag for 200 epochs:\n",
      "Epoch/train loss/val accuracy: "
     ]
    },
    {
     "name": "stderr",
     "output_type": "stream",
     "text": [
      "/opt/conda/lib/python3.10/site-packages/torch_geometric/deprecation.py:26: UserWarning: 'data.DataLoader' is deprecated, use 'loader.DataLoader' instead\n",
      "  warnings.warn(out)\n",
      "/opt/conda/lib/python3.10/site-packages/torch/cuda/amp/grad_scaler.py:125: UserWarning: torch.cuda.amp.GradScaler is enabled, but CUDA is not available.  Disabling.\n",
      "  warnings.warn(\n",
      "/opt/conda/lib/python3.10/site-packages/torch/amp/autocast_mode.py:250: UserWarning: User provided device_type of 'cuda', but CUDA is not available. Disabling\n",
      "  warnings.warn(\n"
     ]
    },
    {
     "name": "stdout",
     "output_type": "stream",
     "text": [
      "1/0.8696/0.02 | 2/0.3913/0.02 | 3/0.8696/0.02 | 4/0.8696/0.02 | 5/0.8696/0.02 | 6/0.8696/0.02 | 7/0.8696/0.02 | 8/0.8696/0.02 | 9/0.8696/0.01 | 10/0.8696/0.01 | 11/0.8696/0.01 | 12/0.8696/0.01 | 13/0.8696/0.01 | 14/0.8696/0.01 | 15/0.8696/0.005 | 16/0.8696/0.005 | 17/0.8696/0.005 | 18/0.8696/0.005 | 19/0.8696/0.005 | 20/0.8696/0.005 | 21/0.8696/0.0025 | 22/0.8696/0.0025 | 23/0.8696/0.0025 | 24/0.8696/0.0025 | 25/0.8696/0.0025 | 26/0.8261/0.0025 | 27/0.7391/0.00125 | 28/0.7391/0.00125 | 29/0.7391/0.00125 | 30/0.7391/0.00125 | 31/0.7391/0.00125 | 32/0.7391/0.00125 | 33/0.7391/0.000625 | 34/0.7391/0.000625 | 35/0.7391/0.000625 | 36/0.7391/0.000625 | 37/0.7391/0.000625 | 38/0.7391/0.000625 | 39/0.7391/0.0003125 | 40/0.7391/0.0003125 | 41/0.7391/0.0003125 | 42/0.7391/0.0003125 | 43/0.7391/0.0003125 | 44/0.7391/0.0003125 | 45/0.7391/0.00015625 | 46/0.7391/0.00015625 | 47/0.7391/0.00015625 | 48/0.7391/0.00015625 | 49/0.7391/0.00015625 | 50/0.7391/0.00015625 | 51/0.7391/7.8125e-05 | 52/0.7391/7.8125e-05 | 53/0.7391/7.8125e-05 | 54/0.7391/7.8125e-05 | 55/0.7391/7.8125e-05 | 56/0.7391/7.8125e-05 | 57/0.7391/3.90625e-05 | 58/0.7391/3.90625e-05 | 59/0.7391/3.90625e-05 | 60/0.7391/3.90625e-05 | 61/0.7391/3.90625e-05 | 62/0.7391/3.90625e-05 | 63/0.7391/1.953125e-05 | 64/0.7391/1.953125e-05 | 65/0.7391/1.953125e-05 | 66/0.7391/1.953125e-05 | 67/0.7391/1.953125e-05 | 68/0.7391/1.953125e-05 | 69/0.7391/9.765625e-06 | Accuracy: 0.5395\n",
      "Evaluating mutag dataset using random method with a percentile of 70 against class members\n",
      "Training GCN on mutag for 200 epochs:\n",
      "Epoch/train loss/val accuracy: "
     ]
    },
    {
     "name": "stderr",
     "output_type": "stream",
     "text": [
      "/opt/conda/lib/python3.10/site-packages/torch_geometric/deprecation.py:26: UserWarning: 'data.DataLoader' is deprecated, use 'loader.DataLoader' instead\n",
      "  warnings.warn(out)\n",
      "/opt/conda/lib/python3.10/site-packages/torch/cuda/amp/grad_scaler.py:125: UserWarning: torch.cuda.amp.GradScaler is enabled, but CUDA is not available.  Disabling.\n",
      "  warnings.warn(\n",
      "/opt/conda/lib/python3.10/site-packages/torch/amp/autocast_mode.py:250: UserWarning: User provided device_type of 'cuda', but CUDA is not available. Disabling\n",
      "  warnings.warn(\n"
     ]
    },
    {
     "name": "stdout",
     "output_type": "stream",
     "text": [
      "1/0.6667/0.02 | 2/0.6667/0.02 | 3/0.6667/0.02 | 4/0.6667/0.02 | 5/0.6667/0.02 | 6/0.7407/0.02 | 7/0.7407/0.02 | 8/0.7407/0.01 | 9/0.7037/0.01 | 10/0.7407/0.01 | 11/0.7407/0.01 | 12/0.7778/0.01 | 13/0.8148/0.01 | 14/0.8148/0.005 | 15/0.8148/0.005 | 16/0.8148/0.005 | 17/0.8148/0.005 | 18/0.8148/0.005 | 19/0.8148/0.005 | 20/0.8148/0.0025 | 21/0.8148/0.0025 | 22/0.8148/0.0025 | 23/0.8148/0.0025 | 24/0.8148/0.0025 | 25/0.8148/0.0025 | 26/0.8148/0.00125 | 27/0.8148/0.00125 | 28/0.8148/0.00125 | 29/0.8148/0.00125 | 30/0.8148/0.00125 | 31/0.8148/0.00125 | 32/0.8148/0.000625 | 33/0.8148/0.000625 | 34/0.8148/0.000625 | 35/0.8148/0.000625 | 36/0.8148/0.000625 | 37/0.8148/0.000625 | 38/0.8148/0.0003125 | 39/0.8148/0.0003125 | 40/0.8148/0.0003125 | 41/0.8148/0.0003125 | 42/0.8148/0.0003125 | 43/0.8148/0.0003125 | 44/0.8148/0.00015625 | 45/0.8148/0.00015625 | 46/0.8148/0.00015625 | 47/0.8148/0.00015625 | 48/0.8148/0.00015625 | 49/0.8148/0.00015625 | 50/0.8148/7.8125e-05 | 51/0.8148/7.8125e-05 | 52/0.8148/7.8125e-05 | 53/0.8148/7.8125e-05 | 54/0.8148/7.8125e-05 | 55/0.8148/7.8125e-05 | 56/0.8148/3.90625e-05 | 57/0.8148/3.90625e-05 | 58/0.8148/3.90625e-05 | 59/0.8148/3.90625e-05 | 60/0.8148/3.90625e-05 | 61/0.8148/3.90625e-05 | 62/0.8148/1.953125e-05 | 63/0.8148/1.953125e-05 | 64/0.8148/1.953125e-05 | 65/0.8148/1.953125e-05 | 66/0.8148/1.953125e-05 | 67/0.8148/1.953125e-05 | 68/0.8148/9.765625e-06 | Accuracy: 0.7018\n",
      "Evaluating mutag dataset using random method with a percentile of 80 against class members\n",
      "Training GCN on mutag for 200 epochs:\n",
      "Epoch/train loss/val accuracy: "
     ]
    },
    {
     "name": "stderr",
     "output_type": "stream",
     "text": [
      "/opt/conda/lib/python3.10/site-packages/torch_geometric/deprecation.py:26: UserWarning: 'data.DataLoader' is deprecated, use 'loader.DataLoader' instead\n",
      "  warnings.warn(out)\n",
      "/opt/conda/lib/python3.10/site-packages/torch/cuda/amp/grad_scaler.py:125: UserWarning: torch.cuda.amp.GradScaler is enabled, but CUDA is not available.  Disabling.\n",
      "  warnings.warn(\n",
      "/opt/conda/lib/python3.10/site-packages/torch/amp/autocast_mode.py:250: UserWarning: User provided device_type of 'cuda', but CUDA is not available. Disabling\n",
      "  warnings.warn(\n"
     ]
    },
    {
     "name": "stdout",
     "output_type": "stream",
     "text": [
      "1/0.6667/0.02 | 2/0.6667/0.02 | 3/0.6667/0.02 | 4/0.8000/0.02 | 5/0.7667/0.02 | 6/0.7000/0.02 | 7/0.7667/0.02 | 8/0.7667/0.01 | 9/0.8333/0.01 | 10/0.7667/0.01 | 11/0.7667/0.01 | 12/0.8000/0.01 | 13/0.7667/0.01 | 14/0.7667/0.005 | 15/0.7667/0.005 | 16/0.7667/0.005 | 17/0.7667/0.005 | 18/0.7667/0.005 | 19/0.8000/0.005 | 20/0.7667/0.0025 | 21/0.7667/0.0025 | 22/0.7667/0.0025 | 23/0.7333/0.0025 | 24/0.7667/0.0025 | 25/0.7667/0.0025 | 26/0.7667/0.00125 | 27/0.7667/0.00125 | 28/0.7667/0.00125 | 29/0.7667/0.00125 | 30/0.7667/0.00125 | 31/0.7667/0.00125 | 32/0.7667/0.000625 | 33/0.7667/0.000625 | 34/0.7667/0.000625 | 35/0.7667/0.000625 | 36/0.8000/0.000625 | 37/0.7667/0.000625 | 38/0.8000/0.0003125 | 39/0.8000/0.0003125 | 40/0.8000/0.0003125 | 41/0.8000/0.0003125 | 42/0.8000/0.0003125 | 43/0.8000/0.0003125 | 44/0.8000/0.00015625 | 45/0.8000/0.00015625 | 46/0.8000/0.00015625 | 47/0.8000/0.00015625 | 48/0.8000/0.00015625 | 49/0.8000/0.00015625 | 50/0.8000/7.8125e-05 | 51/0.8000/7.8125e-05 | 52/0.8000/7.8125e-05 | 53/0.8000/7.8125e-05 | 54/0.8000/7.8125e-05 | 55/0.8000/7.8125e-05 | 56/0.8000/3.90625e-05 | 57/0.8000/3.90625e-05 | 58/0.8000/3.90625e-05 | 59/0.8000/3.90625e-05 | 60/0.8000/3.90625e-05 | 61/0.8000/3.90625e-05 | 62/0.8000/1.953125e-05 | 63/0.8000/1.953125e-05 | 64/0.8000/1.953125e-05 | 65/0.8000/1.953125e-05 | 66/0.8000/1.953125e-05 | 67/0.8000/1.953125e-05 | 68/0.8000/9.765625e-06 | Accuracy: 0.6316\n",
      "Evaluating mutag dataset using random method with a percentile of 90 against class members\n",
      "Training GCN on mutag for 200 epochs:\n",
      "Epoch/train loss/val accuracy: "
     ]
    },
    {
     "name": "stderr",
     "output_type": "stream",
     "text": [
      "/opt/conda/lib/python3.10/site-packages/torch_geometric/deprecation.py:26: UserWarning: 'data.DataLoader' is deprecated, use 'loader.DataLoader' instead\n",
      "  warnings.warn(out)\n",
      "/opt/conda/lib/python3.10/site-packages/torch/cuda/amp/grad_scaler.py:125: UserWarning: torch.cuda.amp.GradScaler is enabled, but CUDA is not available.  Disabling.\n",
      "  warnings.warn(\n",
      "/opt/conda/lib/python3.10/site-packages/torch/amp/autocast_mode.py:250: UserWarning: User provided device_type of 'cuda', but CUDA is not available. Disabling\n",
      "  warnings.warn(\n"
     ]
    },
    {
     "name": "stdout",
     "output_type": "stream",
     "text": [
      "1/0.6176/0.02 | 2/0.6176/0.02 | 3/0.6176/0.02 | 4/0.6176/0.02 | 5/0.6176/0.02 | 6/0.6765/0.02 | 7/0.7059/0.02 | 8/0.6176/0.01 | 9/0.7941/0.01 | 10/0.7941/0.01 | 11/0.8235/0.01 | 12/0.7941/0.01 | 13/0.8235/0.01 | 14/0.7941/0.005 | 15/0.7941/0.005 | 16/0.7941/0.005 | 17/0.8235/0.005 | 18/0.7941/0.005 | 19/0.7941/0.005 | 20/0.8235/0.0025 | 21/0.8235/0.0025 | 22/0.8235/0.0025 | 23/0.7941/0.0025 | 24/0.8235/0.0025 | 25/0.7941/0.0025 | 26/0.8235/0.00125 | 27/0.7941/0.00125 | 28/0.7941/0.00125 | 29/0.8235/0.00125 | 30/0.8235/0.00125 | 31/0.8235/0.00125 | 32/0.8235/0.000625 | 33/0.8235/0.000625 | 34/0.8235/0.000625 | 35/0.8235/0.000625 | 36/0.8235/0.000625 | 37/0.8235/0.000625 | 38/0.8235/0.0003125 | 39/0.8235/0.0003125 | 40/0.8235/0.0003125 | 41/0.8235/0.0003125 | 42/0.7941/0.0003125 | 43/0.7941/0.0003125 | 44/0.8235/0.00015625 | 45/0.8235/0.00015625 | 46/0.7941/0.00015625 | 47/0.7941/0.00015625 | 48/0.7941/0.00015625 | 49/0.7941/0.00015625 | 50/0.7941/7.8125e-05 | 51/0.7941/7.8125e-05 | 52/0.7941/7.8125e-05 | 53/0.7941/7.8125e-05 | 54/0.7941/7.8125e-05 | 55/0.7941/7.8125e-05 | 56/0.7941/3.90625e-05 | 57/0.7941/3.90625e-05 | 58/0.7941/3.90625e-05 | 59/0.8235/3.90625e-05 | 60/0.7941/3.90625e-05 | 61/0.7941/3.90625e-05 | 62/0.8235/1.953125e-05 | 63/0.8235/1.953125e-05 | 64/0.7941/1.953125e-05 | 65/0.7941/1.953125e-05 | 66/0.7941/1.953125e-05 | 67/0.7941/1.953125e-05 | 68/0.7941/9.765625e-06 | Accuracy: 0.6316\n",
      "Evaluating mutag dataset using graph_order method with a percentile of 40 against class members\n",
      "Training GCN on mutag for 200 epochs:\n",
      "Epoch/train loss/val accuracy: "
     ]
    },
    {
     "name": "stderr",
     "output_type": "stream",
     "text": [
      "/opt/conda/lib/python3.10/site-packages/torch_geometric/deprecation.py:26: UserWarning: 'data.DataLoader' is deprecated, use 'loader.DataLoader' instead\n",
      "  warnings.warn(out)\n",
      "/opt/conda/lib/python3.10/site-packages/torch/cuda/amp/grad_scaler.py:125: UserWarning: torch.cuda.amp.GradScaler is enabled, but CUDA is not available.  Disabling.\n",
      "  warnings.warn(\n",
      "/opt/conda/lib/python3.10/site-packages/torch/amp/autocast_mode.py:250: UserWarning: User provided device_type of 'cuda', but CUDA is not available. Disabling\n",
      "  warnings.warn(\n"
     ]
    },
    {
     "name": "stdout",
     "output_type": "stream",
     "text": [
      "1/0.6250/0.02 | 2/0.6250/0.02 | 3/0.6250/0.02 | 4/0.6250/0.02 | 5/0.6250/0.02 | 6/0.6250/0.02 | 7/0.6250/0.02 | 8/0.6250/0.01 | 9/0.6250/0.01 | 10/0.6250/0.01 | 11/0.6250/0.01 | 12/0.6250/0.01 | 13/0.6250/0.01 | 14/0.6250/0.005 | 15/0.6250/0.005 | 16/0.6250/0.005 | 17/0.6250/0.005 | 18/0.6250/0.005 | 19/0.6250/0.005 | 20/0.6250/0.0025 | 21/0.6250/0.0025 | 22/0.6250/0.0025 | 23/0.6250/0.0025 | 24/0.6250/0.0025 | 25/0.5625/0.0025 | 26/0.5625/0.0025 | 27/0.6250/0.0025 | 28/0.6250/0.0025 | 29/0.7500/0.0025 | 30/0.7500/0.0025 | 31/0.7500/0.0025 | 32/0.7500/0.00125 | 33/0.7500/0.00125 | 34/0.7500/0.00125 | 35/0.7500/0.00125 | 36/0.7500/0.00125 | 37/0.7500/0.00125 | 38/0.7500/0.000625 | 39/0.7500/0.000625 | 40/0.7500/0.000625 | 41/0.7500/0.000625 | 42/0.7500/0.000625 | 43/0.7500/0.000625 | 44/0.7500/0.0003125 | 45/0.7500/0.0003125 | 46/0.7500/0.0003125 | 47/0.7500/0.0003125 | 48/0.7500/0.0003125 | 49/0.7500/0.0003125 | 50/0.7500/0.00015625 | 51/0.7500/0.00015625 | 52/0.7500/0.00015625 | 53/0.7500/0.00015625 | 54/0.7500/0.00015625 | 55/0.7500/0.00015625 | 56/0.7500/7.8125e-05 | 57/0.7500/7.8125e-05 | 58/0.7500/7.8125e-05 | 59/0.7500/7.8125e-05 | 60/0.7500/7.8125e-05 | 61/0.7500/7.8125e-05 | 62/0.7500/3.90625e-05 | 63/0.7500/3.90625e-05 | 64/0.7500/3.90625e-05 | 65/0.7500/3.90625e-05 | 66/0.7500/3.90625e-05 | 67/0.7500/3.90625e-05 | 68/0.7500/1.953125e-05 | 69/0.7500/1.953125e-05 | 70/0.7500/1.953125e-05 | 71/0.7500/1.953125e-05 | 72/0.7500/1.953125e-05 | 73/0.7500/1.953125e-05 | 74/0.7500/9.765625e-06 | Accuracy: 0.6339\n",
      "Evaluating mutag dataset using graph_order method with a percentile of 50 against class members\n",
      "Training GCN on mutag for 200 epochs:\n",
      "Epoch/train loss/val accuracy: "
     ]
    },
    {
     "name": "stderr",
     "output_type": "stream",
     "text": [
      "/opt/conda/lib/python3.10/site-packages/torch_geometric/deprecation.py:26: UserWarning: 'data.DataLoader' is deprecated, use 'loader.DataLoader' instead\n",
      "  warnings.warn(out)\n",
      "/opt/conda/lib/python3.10/site-packages/torch/cuda/amp/grad_scaler.py:125: UserWarning: torch.cuda.amp.GradScaler is enabled, but CUDA is not available.  Disabling.\n",
      "  warnings.warn(\n",
      "/opt/conda/lib/python3.10/site-packages/torch/amp/autocast_mode.py:250: UserWarning: User provided device_type of 'cuda', but CUDA is not available. Disabling\n",
      "  warnings.warn(\n"
     ]
    },
    {
     "name": "stdout",
     "output_type": "stream",
     "text": [
      "1/0.7895/0.02 | 2/0.7895/0.02 | 3/0.7895/0.02 | 4/0.6842/0.02 | 5/0.8421/0.02 | 6/0.7895/0.02 | 7/0.7895/0.02 | 8/0.6842/0.02 | 9/0.6316/0.02 | 10/0.6316/0.02 | 11/0.7368/0.02 | 12/0.8421/0.02 | 13/0.7895/0.02 | 14/0.7895/0.02 | 15/0.8421/0.02 | 16/0.8421/0.01 | 17/0.8421/0.01 | 18/0.7368/0.01 | 19/0.7368/0.01 | 20/0.6842/0.01 | 21/0.6842/0.01 | 22/0.6842/0.005 | 23/0.6842/0.005 | 24/0.6842/0.005 | 25/0.6842/0.005 | 26/0.6842/0.005 | 27/0.6842/0.005 | 28/0.6842/0.0025 | 29/0.6842/0.0025 | 30/0.6842/0.0025 | 31/0.7368/0.0025 | 32/0.6842/0.0025 | 33/0.6842/0.0025 | 34/0.6842/0.00125 | 35/0.6842/0.00125 | 36/0.6842/0.00125 | 37/0.6842/0.00125 | 38/0.6842/0.00125 | 39/0.6842/0.00125 | 40/0.6842/0.000625 | 41/0.6842/0.000625 | 42/0.6842/0.000625 | 43/0.6842/0.000625 | 44/0.6842/0.000625 | 45/0.6842/0.000625 | 46/0.6842/0.0003125 | 47/0.6842/0.0003125 | 48/0.6842/0.0003125 | 49/0.6842/0.0003125 | 50/0.6842/0.0003125 | 51/0.6842/0.0003125 | 52/0.6842/0.00015625 | 53/0.6842/0.00015625 | 54/0.6842/0.00015625 | 55/0.7368/0.00015625 | 56/0.6842/0.00015625 | 57/0.6842/0.00015625 | 58/0.6842/7.8125e-05 | 59/0.6842/7.8125e-05 | 60/0.6842/7.8125e-05 | 61/0.6842/7.8125e-05 | 62/0.6842/7.8125e-05 | 63/0.6842/7.8125e-05 | 64/0.6842/3.90625e-05 | 65/0.6842/3.90625e-05 | 66/0.6842/3.90625e-05 | 67/0.6842/3.90625e-05 | 68/0.6842/3.90625e-05 | 69/0.6842/3.90625e-05 | 70/0.6842/1.953125e-05 | 71/0.6842/1.953125e-05 | 72/0.6842/1.953125e-05 | 73/0.6842/1.953125e-05 | 74/0.6842/1.953125e-05 | 75/0.6842/1.953125e-05 | 76/0.6842/9.765625e-06 | Accuracy: 0.6022\n",
      "Evaluating mutag dataset using graph_order method with a percentile of 60 against class members\n",
      "Training GCN on mutag for 200 epochs:\n",
      "Epoch/train loss/val accuracy: "
     ]
    },
    {
     "name": "stderr",
     "output_type": "stream",
     "text": [
      "/opt/conda/lib/python3.10/site-packages/torch_geometric/deprecation.py:26: UserWarning: 'data.DataLoader' is deprecated, use 'loader.DataLoader' instead\n",
      "  warnings.warn(out)\n",
      "/opt/conda/lib/python3.10/site-packages/torch/cuda/amp/grad_scaler.py:125: UserWarning: torch.cuda.amp.GradScaler is enabled, but CUDA is not available.  Disabling.\n",
      "  warnings.warn(\n",
      "/opt/conda/lib/python3.10/site-packages/torch/amp/autocast_mode.py:250: UserWarning: User provided device_type of 'cuda', but CUDA is not available. Disabling\n",
      "  warnings.warn(\n"
     ]
    },
    {
     "name": "stdout",
     "output_type": "stream",
     "text": [
      "1/0.6522/0.02 | 2/0.6522/0.02 | 3/0.6522/0.02 | 4/0.6522/0.02 | 5/0.7391/0.02 | 6/0.7826/0.02 | 7/0.6522/0.02 | 8/0.6957/0.01 | 9/0.7391/0.01 | 10/0.7391/0.01 | 11/0.7826/0.01 | 12/0.7391/0.01 | 13/0.6522/0.01 | 14/0.6522/0.005 | 15/0.6957/0.005 | 16/0.7391/0.005 | 17/0.7826/0.005 | 18/0.7826/0.005 | 19/0.7826/0.005 | 20/0.7391/0.0025 | 21/0.7391/0.0025 | 22/0.7391/0.0025 | 23/0.6957/0.0025 | 24/0.6957/0.0025 | 25/0.6957/0.0025 | 26/0.6957/0.00125 | 27/0.6957/0.00125 | 28/0.7391/0.00125 | 29/0.7391/0.00125 | 30/0.7826/0.00125 | 31/0.7826/0.00125 | 32/0.7826/0.000625 | 33/0.8261/0.000625 | 34/0.8261/0.000625 | 35/0.8261/0.000625 | 36/0.8261/0.000625 | 37/0.8261/0.000625 | 38/0.7826/0.0003125 | 39/0.7826/0.0003125 | 40/0.8261/0.0003125 | 41/0.8261/0.0003125 | 42/0.8261/0.0003125 | 43/0.8261/0.0003125 | 44/0.8261/0.00015625 | 45/0.8261/0.00015625 | 46/0.8261/0.00015625 | 47/0.8261/0.00015625 | 48/0.8261/0.00015625 | 49/0.8261/0.00015625 | 50/0.8261/7.8125e-05 | 51/0.8261/7.8125e-05 | 52/0.8261/7.8125e-05 | 53/0.8261/7.8125e-05 | 54/0.8261/7.8125e-05 | 55/0.8261/7.8125e-05 | 56/0.8261/3.90625e-05 | 57/0.8261/3.90625e-05 | 58/0.8261/3.90625e-05 | 59/0.8261/3.90625e-05 | 60/0.8261/3.90625e-05 | 61/0.8261/3.90625e-05 | 62/0.8261/1.953125e-05 | 63/0.8261/1.953125e-05 | 64/0.8261/1.953125e-05 | 65/0.8261/1.953125e-05 | 66/0.8261/1.953125e-05 | 67/0.8261/1.953125e-05 | 68/0.8261/9.765625e-06 | Accuracy: 0.6533\n",
      "Evaluating mutag dataset using graph_order method with a percentile of 70 against class members\n",
      "Training GCN on mutag for 200 epochs:\n",
      "Epoch/train loss/val accuracy: "
     ]
    },
    {
     "name": "stderr",
     "output_type": "stream",
     "text": [
      "/opt/conda/lib/python3.10/site-packages/torch_geometric/deprecation.py:26: UserWarning: 'data.DataLoader' is deprecated, use 'loader.DataLoader' instead\n",
      "  warnings.warn(out)\n",
      "/opt/conda/lib/python3.10/site-packages/torch/cuda/amp/grad_scaler.py:125: UserWarning: torch.cuda.amp.GradScaler is enabled, but CUDA is not available.  Disabling.\n",
      "  warnings.warn(\n",
      "/opt/conda/lib/python3.10/site-packages/torch/amp/autocast_mode.py:250: UserWarning: User provided device_type of 'cuda', but CUDA is not available. Disabling\n",
      "  warnings.warn(\n"
     ]
    },
    {
     "name": "stdout",
     "output_type": "stream",
     "text": [
      "1/0.6296/0.02 | 2/0.6296/0.02 | 3/0.6296/0.02 | 4/0.6296/0.02 | 5/0.6296/0.02 | 6/0.6296/0.02 | 7/0.6296/0.02 | 8/0.6296/0.01 | 9/0.6296/0.01 | 10/0.6296/0.01 | 11/0.6296/0.01 | 12/0.6667/0.01 | 13/0.6667/0.01 | 14/0.6667/0.005 | 15/0.6667/0.005 | 16/0.6667/0.005 | 17/0.6667/0.005 | 18/0.6667/0.005 | 19/0.6667/0.005 | 20/0.7037/0.0025 | 21/0.7037/0.0025 | 22/0.7407/0.0025 | 23/0.7037/0.0025 | 24/0.7407/0.0025 | 25/0.7407/0.0025 | 26/0.7407/0.00125 | 27/0.7037/0.00125 | 28/0.7037/0.00125 | 29/0.7037/0.00125 | 30/0.7407/0.00125 | 31/0.7407/0.00125 | 32/0.7407/0.000625 | 33/0.7407/0.000625 | 34/0.7407/0.000625 | 35/0.7407/0.000625 | 36/0.7407/0.000625 | 37/0.7407/0.000625 | 38/0.7407/0.0003125 | 39/0.7407/0.0003125 | 40/0.7407/0.0003125 | 41/0.7407/0.0003125 | 42/0.7407/0.0003125 | 43/0.7407/0.0003125 | 44/0.7407/0.00015625 | 45/0.7407/0.00015625 | 46/0.7407/0.00015625 | 47/0.7407/0.00015625 | 48/0.7407/0.00015625 | 49/0.7407/0.00015625 | 50/0.7407/7.8125e-05 | 51/0.7037/7.8125e-05 | 52/0.7037/7.8125e-05 | 53/0.7037/7.8125e-05 | 54/0.7037/7.8125e-05 | 55/0.7037/7.8125e-05 | 56/0.7037/3.90625e-05 | 57/0.7037/3.90625e-05 | 58/0.7037/3.90625e-05 | 59/0.7407/3.90625e-05 | 60/0.7407/3.90625e-05 | 61/0.7407/3.90625e-05 | 62/0.7407/1.953125e-05 | 63/0.7407/1.953125e-05 | 64/0.7407/1.953125e-05 | 65/0.7407/1.953125e-05 | 66/0.7407/1.953125e-05 | 67/0.7407/1.953125e-05 | 68/0.7037/9.765625e-06 | Accuracy: 0.6545\n",
      "Evaluating mutag dataset using graph_order method with a percentile of 80 against class members\n",
      "Training GCN on mutag for 200 epochs:\n",
      "Epoch/train loss/val accuracy: "
     ]
    },
    {
     "name": "stderr",
     "output_type": "stream",
     "text": [
      "/opt/conda/lib/python3.10/site-packages/torch_geometric/deprecation.py:26: UserWarning: 'data.DataLoader' is deprecated, use 'loader.DataLoader' instead\n",
      "  warnings.warn(out)\n",
      "/opt/conda/lib/python3.10/site-packages/torch/cuda/amp/grad_scaler.py:125: UserWarning: torch.cuda.amp.GradScaler is enabled, but CUDA is not available.  Disabling.\n",
      "  warnings.warn(\n",
      "/opt/conda/lib/python3.10/site-packages/torch/amp/autocast_mode.py:250: UserWarning: User provided device_type of 'cuda', but CUDA is not available. Disabling\n",
      "  warnings.warn(\n"
     ]
    },
    {
     "name": "stdout",
     "output_type": "stream",
     "text": [
      "1/0.6774/0.02 | 2/0.6774/0.02 | 3/0.6774/0.02 | 4/0.6774/0.02 | 5/0.6774/0.02 | 6/0.6774/0.02 | 7/0.6774/0.02 | 8/0.7419/0.01 | 9/0.7419/0.01 | 10/0.7097/0.01 | 11/0.6774/0.01 | 12/0.7419/0.01 | 13/0.7097/0.01 | 14/0.7097/0.005 | 15/0.7097/0.005 | 16/0.7097/0.005 | 17/0.7097/0.005 | 18/0.7097/0.005 | 19/0.7097/0.005 | 20/0.7097/0.0025 | 21/0.7097/0.0025 | 22/0.7097/0.0025 | 23/0.7097/0.0025 | 24/0.7097/0.0025 | 25/0.7419/0.0025 | 26/0.7419/0.00125 | 27/0.7419/0.00125 | 28/0.7419/0.00125 | 29/0.7419/0.00125 | 30/0.7419/0.00125 | 31/0.7419/0.00125 | 32/0.7419/0.000625 | 33/0.7419/0.000625 | 34/0.7419/0.000625 | 35/0.7419/0.000625 | 36/0.7419/0.000625 | 37/0.7742/0.000625 | 38/0.7742/0.0003125 | 39/0.8065/0.0003125 | 40/0.8065/0.0003125 | 41/0.8065/0.0003125 | 42/0.8065/0.0003125 | 43/0.8065/0.0003125 | 44/0.8065/0.00015625 | 45/0.8065/0.00015625 | 46/0.8065/0.00015625 | 47/0.8065/0.00015625 | 48/0.8065/0.00015625 | 49/0.8065/0.00015625 | 50/0.8065/7.8125e-05 | 51/0.8065/7.8125e-05 | 52/0.8065/7.8125e-05 | 53/0.8065/7.8125e-05 | 54/0.8065/7.8125e-05 | 55/0.8065/7.8125e-05 | 56/0.8065/3.90625e-05 | 57/0.8065/3.90625e-05 | 58/0.8065/3.90625e-05 | 59/0.8065/3.90625e-05 | 60/0.8065/3.90625e-05 | 61/0.8065/3.90625e-05 | 62/0.8065/1.953125e-05 | 63/0.8065/1.953125e-05 | 64/0.8065/1.953125e-05 | 65/0.8065/1.953125e-05 | 66/0.8065/1.953125e-05 | 67/0.8065/1.953125e-05 | 68/0.8065/9.765625e-06 | Accuracy: 0.6757\n",
      "Evaluating mutag dataset using graph_order method with a percentile of 90 against class members\n",
      "Training GCN on mutag for 200 epochs:\n",
      "Epoch/train loss/val accuracy: "
     ]
    },
    {
     "name": "stderr",
     "output_type": "stream",
     "text": [
      "/opt/conda/lib/python3.10/site-packages/torch_geometric/deprecation.py:26: UserWarning: 'data.DataLoader' is deprecated, use 'loader.DataLoader' instead\n",
      "  warnings.warn(out)\n",
      "/opt/conda/lib/python3.10/site-packages/torch/cuda/amp/grad_scaler.py:125: UserWarning: torch.cuda.amp.GradScaler is enabled, but CUDA is not available.  Disabling.\n",
      "  warnings.warn(\n",
      "/opt/conda/lib/python3.10/site-packages/torch/amp/autocast_mode.py:250: UserWarning: User provided device_type of 'cuda', but CUDA is not available. Disabling\n",
      "  warnings.warn(\n"
     ]
    },
    {
     "name": "stdout",
     "output_type": "stream",
     "text": [
      "1/0.3235/0.02 | 2/0.6765/0.02 | 3/0.6765/0.02 | 4/0.6765/0.02 | 5/0.6765/0.02 | 6/0.6765/0.02 | 7/0.7059/0.02 | 8/0.7647/0.01 | 9/0.7647/0.01 | 10/0.7647/0.01 | 11/0.7647/0.01 | 12/0.7647/0.01 | 13/0.7941/0.01 | 14/0.7941/0.005 | 15/0.7941/0.005 | 16/0.7941/0.005 | 17/0.7941/0.005 | 18/0.7941/0.005 | 19/0.7941/0.005 | 20/0.7941/0.0025 | 21/0.7941/0.0025 | 22/0.7941/0.0025 | 23/0.7941/0.0025 | 24/0.7941/0.0025 | 25/0.7941/0.0025 | 26/0.7941/0.00125 | 27/0.7941/0.00125 | 28/0.7941/0.00125 | 29/0.7941/0.00125 | 30/0.7941/0.00125 | 31/0.7941/0.00125 | 32/0.7941/0.000625 | 33/0.7941/0.000625 | 34/0.7941/0.000625 | 35/0.7941/0.000625 | 36/0.7941/0.000625 | 37/0.8235/0.000625 | 38/0.7941/0.0003125 | 39/0.7941/0.0003125 | 40/0.7941/0.0003125 | 41/0.7941/0.0003125 | 42/0.7941/0.0003125 | 43/0.7941/0.0003125 | 44/0.7941/0.00015625 | 45/0.7941/0.00015625 | 46/0.7941/0.00015625 | 47/0.7941/0.00015625 | 48/0.7941/0.00015625 | 49/0.7941/0.00015625 | 50/0.7941/7.8125e-05 | 51/0.7941/7.8125e-05 | 52/0.7941/7.8125e-05 | 53/0.7941/7.8125e-05 | 54/0.7941/7.8125e-05 | 55/0.7941/7.8125e-05 | 56/0.7941/3.90625e-05 | 57/0.7941/3.90625e-05 | 58/0.7941/3.90625e-05 | 59/0.7941/3.90625e-05 | 60/0.7941/3.90625e-05 | 61/0.8235/3.90625e-05 | 62/0.8235/1.953125e-05 | 63/0.8235/1.953125e-05 | 64/0.8235/1.953125e-05 | 65/0.8235/1.953125e-05 | 66/0.7941/1.953125e-05 | 67/0.7941/1.953125e-05 | 68/0.7941/9.765625e-06 | Accuracy: 0.6667\n",
      "Evaluating mutag dataset using cos_sim method with a percentile of 40 against class members\n",
      "Training GCN on mutag for 200 epochs:\n",
      "Epoch/train loss/val accuracy: "
     ]
    },
    {
     "name": "stderr",
     "output_type": "stream",
     "text": [
      "/opt/conda/lib/python3.10/site-packages/torch_geometric/deprecation.py:26: UserWarning: 'data.DataLoader' is deprecated, use 'loader.DataLoader' instead\n",
      "  warnings.warn(out)\n",
      "/opt/conda/lib/python3.10/site-packages/torch/cuda/amp/grad_scaler.py:125: UserWarning: torch.cuda.amp.GradScaler is enabled, but CUDA is not available.  Disabling.\n",
      "  warnings.warn(\n",
      "/opt/conda/lib/python3.10/site-packages/torch/amp/autocast_mode.py:250: UserWarning: User provided device_type of 'cuda', but CUDA is not available. Disabling\n",
      "  warnings.warn(\n"
     ]
    },
    {
     "name": "stdout",
     "output_type": "stream",
     "text": [
      "1/0.5625/0.02 | 2/0.5625/0.02 | 3/0.5625/0.02 | 4/0.5625/0.02 | 5/0.5625/0.02 | 6/0.5625/0.02 | 7/0.5625/0.02 | 8/0.5625/0.01 | 9/0.5625/0.01 | 10/0.5625/0.01 | 11/0.5625/0.01 | 12/0.5625/0.01 | 13/0.5625/0.01 | 14/0.5625/0.005 | 15/0.5625/0.005 | 16/0.5625/0.005 | 17/0.5625/0.005 | 18/0.5625/0.005 | 19/0.5625/0.005 | 20/0.5625/0.0025 | 21/0.5625/0.0025 | 22/0.5625/0.0025 | 23/0.5625/0.0025 | 24/0.5625/0.0025 | 25/0.5625/0.0025 | 26/0.5625/0.00125 | 27/0.5625/0.00125 | 28/0.5625/0.00125 | 29/0.6250/0.00125 | 30/0.6250/0.00125 | 31/0.6250/0.00125 | 32/0.6250/0.000625 | 33/0.6250/0.000625 | 34/0.6250/0.000625 | 35/0.6250/0.000625 | 36/0.6250/0.000625 | 37/0.6250/0.000625 | 38/0.6250/0.0003125 | 39/0.6250/0.0003125 | 40/0.6250/0.0003125 | 41/0.6250/0.0003125 | 42/0.6250/0.0003125 | 43/0.6250/0.0003125 | 44/0.6875/0.00015625 | 45/0.6875/0.00015625 | 46/0.6875/0.00015625 | 47/0.6875/0.00015625 | 48/0.6875/0.00015625 | 49/0.6875/0.00015625 | 50/0.6875/7.8125e-05 | 51/0.6875/7.8125e-05 | 52/0.6875/7.8125e-05 | 53/0.6875/7.8125e-05 | 54/0.6875/7.8125e-05 | 55/0.6875/7.8125e-05 | 56/0.6875/3.90625e-05 | 57/0.6875/3.90625e-05 | 58/0.6875/3.90625e-05 | 59/0.6875/3.90625e-05 | 60/0.6875/3.90625e-05 | 61/0.6875/3.90625e-05 | 62/0.6875/1.953125e-05 | 63/0.6875/1.953125e-05 | 64/0.6875/1.953125e-05 | 65/0.6875/1.953125e-05 | 66/0.6875/1.953125e-05 | 67/0.6875/1.953125e-05 | 68/0.6875/9.765625e-06 | Accuracy: 0.6696\n",
      "Evaluating mutag dataset using cos_sim method with a percentile of 50 against class members\n",
      "Training GCN on mutag for 200 epochs:\n",
      "Epoch/train loss/val accuracy: "
     ]
    },
    {
     "name": "stderr",
     "output_type": "stream",
     "text": [
      "/opt/conda/lib/python3.10/site-packages/torch_geometric/deprecation.py:26: UserWarning: 'data.DataLoader' is deprecated, use 'loader.DataLoader' instead\n",
      "  warnings.warn(out)\n",
      "/opt/conda/lib/python3.10/site-packages/torch/cuda/amp/grad_scaler.py:125: UserWarning: torch.cuda.amp.GradScaler is enabled, but CUDA is not available.  Disabling.\n",
      "  warnings.warn(\n",
      "/opt/conda/lib/python3.10/site-packages/torch/amp/autocast_mode.py:250: UserWarning: User provided device_type of 'cuda', but CUDA is not available. Disabling\n",
      "  warnings.warn(\n"
     ]
    },
    {
     "name": "stdout",
     "output_type": "stream",
     "text": [
      "1/0.7368/0.02 | 2/0.7368/0.02 | 3/0.7895/0.02 | 4/0.7368/0.02 | 5/0.7368/0.02 | 6/0.7368/0.02 | 7/0.7895/0.02 | 8/0.8421/0.01 | 9/0.8421/0.01 | 10/0.7895/0.01 | 11/0.7895/0.01 | 12/0.7895/0.01 | 13/0.7895/0.01 | 14/0.7895/0.005 | 15/0.7895/0.005 | 16/0.8421/0.005 | 17/0.8947/0.005 | 18/0.8947/0.005 | 19/0.8947/0.005 | 20/0.8947/0.0025 | 21/0.8421/0.0025 | 22/0.8421/0.0025 | 23/0.8421/0.0025 | 24/0.8421/0.0025 | 25/0.8421/0.0025 | 26/0.8421/0.00125 | 27/0.8421/0.00125 | 28/0.8421/0.00125 | 29/0.8421/0.00125 | 30/0.8421/0.00125 | 31/0.8947/0.00125 | 32/0.8947/0.000625 | 33/0.8947/0.000625 | 34/0.8947/0.000625 | 35/0.8947/0.000625 | 36/0.8947/0.000625 | 37/0.8947/0.000625 | 38/0.8947/0.0003125 | 39/0.8947/0.0003125 | 40/0.8947/0.0003125 | 41/0.8947/0.0003125 | 42/0.8947/0.0003125 | 43/0.8947/0.0003125 | 44/0.8947/0.00015625 | 45/0.8947/0.00015625 | 46/0.8947/0.00015625 | 47/0.8947/0.00015625 | 48/0.8947/0.00015625 | 49/0.8947/0.00015625 | 50/0.8947/7.8125e-05 | 51/0.8947/7.8125e-05 | 52/0.8947/7.8125e-05 | 53/0.8947/7.8125e-05 | 54/0.8947/7.8125e-05 | 55/0.8947/7.8125e-05 | 56/0.8947/3.90625e-05 | 57/0.8947/3.90625e-05 | 58/0.8947/3.90625e-05 | 59/0.8947/3.90625e-05 | 60/0.8947/3.90625e-05 | 61/0.8947/3.90625e-05 | 62/0.8947/1.953125e-05 | 63/0.8947/1.953125e-05 | 64/0.8947/1.953125e-05 | 65/0.8947/1.953125e-05 | 66/0.8947/1.953125e-05 | 67/0.8947/1.953125e-05 | 68/0.8947/9.765625e-06 | Accuracy: 0.6667\n",
      "Evaluating mutag dataset using cos_sim method with a percentile of 60 against class members\n",
      "Training GCN on mutag for 200 epochs:\n",
      "Epoch/train loss/val accuracy: "
     ]
    },
    {
     "name": "stderr",
     "output_type": "stream",
     "text": [
      "/opt/conda/lib/python3.10/site-packages/torch_geometric/deprecation.py:26: UserWarning: 'data.DataLoader' is deprecated, use 'loader.DataLoader' instead\n",
      "  warnings.warn(out)\n",
      "/opt/conda/lib/python3.10/site-packages/torch/cuda/amp/grad_scaler.py:125: UserWarning: torch.cuda.amp.GradScaler is enabled, but CUDA is not available.  Disabling.\n",
      "  warnings.warn(\n",
      "/opt/conda/lib/python3.10/site-packages/torch/amp/autocast_mode.py:250: UserWarning: User provided device_type of 'cuda', but CUDA is not available. Disabling\n",
      "  warnings.warn(\n"
     ]
    },
    {
     "name": "stdout",
     "output_type": "stream",
     "text": [
      "1/0.6957/0.02 | 2/0.6957/0.02 | 3/0.6957/0.02 | 4/0.6957/0.02 | 5/0.6957/0.02 | 6/0.7391/0.02 | 7/0.7391/0.02 | 8/0.7826/0.01 | 9/0.8261/0.01 | 10/0.7826/0.01 | 11/0.7826/0.01 | 12/0.8261/0.01 | 13/0.8261/0.01 | 14/0.8261/0.005 | 15/0.8261/0.005 | 16/0.8261/0.005 | 17/0.8261/0.005 | 18/0.8261/0.005 | 19/0.8261/0.005 | 20/0.8261/0.0025 | 21/0.8261/0.0025 | 22/0.8261/0.0025 | 23/0.8261/0.0025 | 24/0.8261/0.0025 | 25/0.8696/0.0025 | 26/0.8696/0.00125 | 27/0.8696/0.00125 | 28/0.8696/0.00125 | 29/0.8696/0.00125 | 30/0.8696/0.00125 | 31/0.8696/0.00125 | 32/0.8696/0.000625 | 33/0.8696/0.000625 | 34/0.8696/0.000625 | 35/0.8696/0.000625 | 36/0.8696/0.000625 | 37/0.8696/0.000625 | 38/0.8696/0.0003125 | 39/0.8696/0.0003125 | 40/0.8696/0.0003125 | 41/0.8696/0.0003125 | 42/0.8696/0.0003125 | 43/0.8696/0.0003125 | 44/0.8696/0.00015625 | 45/0.8696/0.00015625 | 46/0.8696/0.00015625 | 47/0.8696/0.00015625 | 48/0.8696/0.00015625 | 49/0.8696/0.00015625 | 50/0.8696/7.8125e-05 | 51/0.8696/7.8125e-05 | 52/0.8696/7.8125e-05 | 53/0.8696/7.8125e-05 | 54/0.8696/7.8125e-05 | 55/0.8696/7.8125e-05 | 56/0.8696/3.90625e-05 | 57/0.8696/3.90625e-05 | 58/0.8696/3.90625e-05 | 59/0.8696/3.90625e-05 | 60/0.8696/3.90625e-05 | 61/0.8696/3.90625e-05 | 62/0.8696/1.953125e-05 | 63/0.8696/1.953125e-05 | 64/0.8696/1.953125e-05 | 65/0.8696/1.953125e-05 | 66/0.8696/1.953125e-05 | 67/0.8696/1.953125e-05 | 68/0.8696/9.765625e-06 | Accuracy: 0.6667\n",
      "Evaluating mutag dataset using cos_sim method with a percentile of 70 against class members\n",
      "Training GCN on mutag for 200 epochs:\n",
      "Epoch/train loss/val accuracy: "
     ]
    },
    {
     "name": "stderr",
     "output_type": "stream",
     "text": [
      "/opt/conda/lib/python3.10/site-packages/torch_geometric/deprecation.py:26: UserWarning: 'data.DataLoader' is deprecated, use 'loader.DataLoader' instead\n",
      "  warnings.warn(out)\n",
      "/opt/conda/lib/python3.10/site-packages/torch/cuda/amp/grad_scaler.py:125: UserWarning: torch.cuda.amp.GradScaler is enabled, but CUDA is not available.  Disabling.\n",
      "  warnings.warn(\n",
      "/opt/conda/lib/python3.10/site-packages/torch/amp/autocast_mode.py:250: UserWarning: User provided device_type of 'cuda', but CUDA is not available. Disabling\n",
      "  warnings.warn(\n"
     ]
    },
    {
     "name": "stdout",
     "output_type": "stream",
     "text": [
      "1/0.4444/0.02 | 2/0.5556/0.02 | 3/0.5556/0.02 | 4/0.5556/0.02 | 5/0.5556/0.02 | 6/0.5556/0.02 | 7/0.5556/0.02 | 8/0.5556/0.01 | 9/0.5556/0.01 | 10/0.5556/0.01 | 11/0.5926/0.01 | 12/0.5556/0.01 | 13/0.5185/0.01 | 14/0.5556/0.005 | 15/0.5556/0.005 | 16/0.5556/0.005 | 17/0.5185/0.005 | 18/0.5185/0.005 | 19/0.5185/0.005 | 20/0.5556/0.0025 | 21/0.5556/0.0025 | 22/0.5926/0.0025 | 23/0.5926/0.0025 | 24/0.5926/0.0025 | 25/0.5926/0.0025 | 26/0.5926/0.00125 | 27/0.5926/0.00125 | 28/0.5926/0.00125 | 29/0.6296/0.00125 | 30/0.6667/0.00125 | 31/0.6667/0.00125 | 32/0.6667/0.000625 | 33/0.6667/0.000625 | 34/0.6667/0.000625 | 35/0.6667/0.000625 | 36/0.6667/0.000625 | 37/0.6667/0.000625 | 38/0.6667/0.0003125 | 39/0.6667/0.0003125 | 40/0.6667/0.0003125 | 41/0.6667/0.0003125 | 42/0.6667/0.0003125 | 43/0.6667/0.0003125 | 44/0.6667/0.00015625 | 45/0.6667/0.00015625 | 46/0.6667/0.00015625 | 47/0.6667/0.00015625 | 48/0.6667/0.00015625 | 49/0.6667/0.00015625 | 50/0.6667/7.8125e-05 | 51/0.6667/7.8125e-05 | 52/0.6667/7.8125e-05 | 53/0.6667/7.8125e-05 | 54/0.6667/7.8125e-05 | 55/0.6667/7.8125e-05 | 56/0.6667/3.90625e-05 | 57/0.6667/3.90625e-05 | 58/0.6667/3.90625e-05 | 59/0.6667/3.90625e-05 | 60/0.6667/3.90625e-05 | 61/0.6667/3.90625e-05 | 62/0.6667/1.953125e-05 | 63/0.6667/1.953125e-05 | 64/0.6667/1.953125e-05 | 65/0.6667/1.953125e-05 | 66/0.6667/1.953125e-05 | 67/0.6667/1.953125e-05 | 68/0.6667/9.765625e-06 | Accuracy: 0.6727\n",
      "Evaluating mutag dataset using cos_sim method with a percentile of 80 against class members\n",
      "Training GCN on mutag for 200 epochs:\n",
      "Epoch/train loss/val accuracy: "
     ]
    },
    {
     "name": "stderr",
     "output_type": "stream",
     "text": [
      "/opt/conda/lib/python3.10/site-packages/torch_geometric/deprecation.py:26: UserWarning: 'data.DataLoader' is deprecated, use 'loader.DataLoader' instead\n",
      "  warnings.warn(out)\n",
      "/opt/conda/lib/python3.10/site-packages/torch/cuda/amp/grad_scaler.py:125: UserWarning: torch.cuda.amp.GradScaler is enabled, but CUDA is not available.  Disabling.\n",
      "  warnings.warn(\n",
      "/opt/conda/lib/python3.10/site-packages/torch/amp/autocast_mode.py:250: UserWarning: User provided device_type of 'cuda', but CUDA is not available. Disabling\n",
      "  warnings.warn(\n"
     ]
    },
    {
     "name": "stdout",
     "output_type": "stream",
     "text": [
      "1/0.5161/0.02 | 2/0.5161/0.02 | 3/0.5161/0.02 | 4/0.5484/0.02 | 5/0.5161/0.02 | 6/0.5161/0.02 | 7/0.5806/0.02 | 8/0.5806/0.01 | 9/0.5484/0.01 | 10/0.5484/0.01 | 11/0.6129/0.01 | 12/0.5806/0.01 | 13/0.5806/0.01 | 14/0.6129/0.005 | 15/0.6452/0.005 | 16/0.6129/0.005 | 17/0.6129/0.005 | 18/0.6129/0.005 | 19/0.5806/0.005 | 20/0.5806/0.0025 | 21/0.6129/0.0025 | 22/0.6129/0.0025 | 23/0.6129/0.0025 | 24/0.6129/0.0025 | 25/0.5806/0.0025 | 26/0.5806/0.00125 | 27/0.5806/0.00125 | 28/0.5806/0.00125 | 29/0.5806/0.00125 | 30/0.5806/0.00125 | 31/0.5806/0.00125 | 32/0.6129/0.000625 | 33/0.6129/0.000625 | 34/0.5806/0.000625 | 35/0.5806/0.000625 | 36/0.5806/0.000625 | 37/0.5806/0.000625 | 38/0.5806/0.0003125 | 39/0.5806/0.0003125 | 40/0.5806/0.0003125 | 41/0.5806/0.0003125 | 42/0.5806/0.0003125 | 43/0.5806/0.0003125 | 44/0.5806/0.00015625 | 45/0.5806/0.00015625 | 46/0.5806/0.00015625 | 47/0.5806/0.00015625 | 48/0.5806/0.00015625 | 49/0.5806/0.00015625 | 50/0.5806/7.8125e-05 | 51/0.5806/7.8125e-05 | 52/0.5806/7.8125e-05 | 53/0.5806/7.8125e-05 | 54/0.5806/7.8125e-05 | 55/0.5806/7.8125e-05 | 56/0.5806/3.90625e-05 | 57/0.6129/3.90625e-05 | 58/0.5806/3.90625e-05 | 59/0.6129/3.90625e-05 | 60/0.5806/3.90625e-05 | 61/0.5806/3.90625e-05 | 62/0.5806/1.953125e-05 | 63/0.5806/1.953125e-05 | 64/0.5806/1.953125e-05 | 65/0.5806/1.953125e-05 | 66/0.5806/1.953125e-05 | 67/0.5806/1.953125e-05 | 68/0.5806/9.765625e-06 | Accuracy: 0.6486\n",
      "Evaluating mutag dataset using cos_sim method with a percentile of 90 against class members\n",
      "Training GCN on mutag for 200 epochs:\n",
      "Epoch/train loss/val accuracy: "
     ]
    },
    {
     "name": "stderr",
     "output_type": "stream",
     "text": [
      "/opt/conda/lib/python3.10/site-packages/torch_geometric/deprecation.py:26: UserWarning: 'data.DataLoader' is deprecated, use 'loader.DataLoader' instead\n",
      "  warnings.warn(out)\n",
      "/opt/conda/lib/python3.10/site-packages/torch/cuda/amp/grad_scaler.py:125: UserWarning: torch.cuda.amp.GradScaler is enabled, but CUDA is not available.  Disabling.\n",
      "  warnings.warn(\n",
      "/opt/conda/lib/python3.10/site-packages/torch/amp/autocast_mode.py:250: UserWarning: User provided device_type of 'cuda', but CUDA is not available. Disabling\n",
      "  warnings.warn(\n"
     ]
    },
    {
     "name": "stdout",
     "output_type": "stream",
     "text": [
      "1/0.5882/0.02 | 2/0.6176/0.02 | 3/0.5882/0.02 | 4/0.5882/0.02 | 5/0.5882/0.02 | 6/0.7353/0.02 | 7/0.7059/0.02 | 8/0.6765/0.01 | 9/0.6471/0.01 | 10/0.6176/0.01 | 11/0.6471/0.01 | 12/0.7059/0.01 | 13/0.7059/0.01 | 14/0.7059/0.005 | 15/0.7059/0.005 | 16/0.7059/0.005 | 17/0.6765/0.005 | 18/0.6765/0.005 | 19/0.7059/0.005 | 20/0.7059/0.0025 | 21/0.7059/0.0025 | 22/0.7059/0.0025 | 23/0.7353/0.0025 | 24/0.7353/0.0025 | 25/0.7059/0.0025 | 26/0.7059/0.00125 | 27/0.7059/0.00125 | 28/0.7059/0.00125 | 29/0.7059/0.00125 | 30/0.7059/0.00125 | 31/0.7059/0.00125 | 32/0.7059/0.000625 | 33/0.7059/0.000625 | 34/0.7353/0.000625 | 35/0.7353/0.000625 | 36/0.7353/0.000625 | 37/0.7353/0.000625 | 38/0.7647/0.0003125 | 39/0.7647/0.0003125 | 40/0.7353/0.0003125 | 41/0.7353/0.0003125 | 42/0.7647/0.0003125 | 43/0.7647/0.0003125 | 44/0.7647/0.00015625 | 45/0.7647/0.00015625 | 46/0.7647/0.00015625 | 47/0.7647/0.00015625 | 48/0.7647/0.00015625 | 49/0.7647/0.00015625 | 50/0.7647/7.8125e-05 | 51/0.7647/7.8125e-05 | 52/0.7647/7.8125e-05 | 53/0.7647/7.8125e-05 | 54/0.7647/7.8125e-05 | 55/0.7647/7.8125e-05 | 56/0.7647/3.90625e-05 | 57/0.7647/3.90625e-05 | 58/0.7647/3.90625e-05 | 59/0.7647/3.90625e-05 | 60/0.7647/3.90625e-05 | 61/0.7647/3.90625e-05 | 62/0.7647/1.953125e-05 | 63/0.7647/1.953125e-05 | 64/0.7647/1.953125e-05 | 65/0.7647/1.953125e-05 | 66/0.7647/1.953125e-05 | 67/0.7647/1.953125e-05 | 68/0.7647/9.765625e-06 | Accuracy: 0.6111\n"
     ]
    }
   ],
   "source": [
    "results_dict = {}\n",
    "for name, dataset in dataset_dict.items():\n",
    "    results_dict[name] = {}\n",
    "    for char_method in char_methods:\n",
    "        results_dict[name][char_method] = {}\n",
    "        for pctl in percentiles:\n",
    "            results_dict[name][char_method][pctl] = {}\n",
    "            for pop_method in ['class']:\n",
    "                print(f'Evaluating {name} dataset using {char_method} method with a percentile of {pctl} against {pop_method} members')\n",
    "                results_dict[name][char_method][pctl][pop_method] = my_gcn_train(\n",
    "                    name, \n",
    "                    dataset, \n",
    "                    train_indices_dict,\n",
    "                    method = char_method,\n",
    "                    _all_or_class = pop_method, \n",
    "                    pctl = pctl, \n",
    "                    num_epochs = 200\n",
    "                )\n"
   ]
  },
  {
   "cell_type": "code",
   "execution_count": 17,
   "id": "ae27951d",
   "metadata": {
    "execution": {
     "iopub.execute_input": "2024-06-17T22:14:09.923353Z",
     "iopub.status.busy": "2024-06-17T22:14:09.922908Z",
     "iopub.status.idle": "2024-06-17T22:14:09.933518Z",
     "shell.execute_reply": "2024-06-17T22:14:09.932243Z"
    },
    "papermill": {
     "duration": 0.637573,
     "end_time": "2024-06-17T22:14:09.936050",
     "exception": false,
     "start_time": "2024-06-17T22:14:09.298477",
     "status": "completed"
    },
    "tags": []
   },
   "outputs": [],
   "source": [
    "import pickle\n",
    "with open('/kaggle/working/results_dict.pkl', 'wb') as f:\n",
    "    pickle.dump(results_dict, f)\n",
    "\n",
    "\n"
   ]
  },
  {
   "cell_type": "code",
   "execution_count": null,
   "id": "54f327e8",
   "metadata": {
    "papermill": {
     "duration": 0.49951,
     "end_time": "2024-06-17T22:14:10.935879",
     "exception": false,
     "start_time": "2024-06-17T22:14:10.436369",
     "status": "completed"
    },
    "tags": []
   },
   "outputs": [],
   "source": []
  }
 ],
 "metadata": {
  "kaggle": {
   "accelerator": "none",
   "dataSources": [
    {
     "sourceId": 183818701,
     "sourceType": "kernelVersion"
    },
    {
     "sourceId": 183818784,
     "sourceType": "kernelVersion"
    },
    {
     "sourceId": 183818831,
     "sourceType": "kernelVersion"
    },
    {
     "sourceId": 183818866,
     "sourceType": "kernelVersion"
    },
    {
     "sourceId": 183818895,
     "sourceType": "kernelVersion"
    },
    {
     "sourceId": 183818939,
     "sourceType": "kernelVersion"
    }
   ],
   "dockerImageVersionId": 30732,
   "isGpuEnabled": false,
   "isInternetEnabled": true,
   "language": "python",
   "sourceType": "notebook"
  },
  "kernelspec": {
   "display_name": "Python 3",
   "language": "python",
   "name": "python3"
  },
  "language_info": {
   "codemirror_mode": {
    "name": "ipython",
    "version": 3
   },
   "file_extension": ".py",
   "mimetype": "text/x-python",
   "name": "python",
   "nbconvert_exporter": "python",
   "pygments_lexer": "ipython3",
   "version": "3.10.13"
  },
  "papermill": {
   "default_parameters": {},
   "duration": 24589.081451,
   "end_time": "2024-06-17T22:14:14.319053",
   "environment_variables": {},
   "exception": null,
   "input_path": "__notebook__.ipynb",
   "output_path": "__notebook__.ipynb",
   "parameters": {},
   "start_time": "2024-06-17T15:24:25.237602",
   "version": "2.5.0"
  }
 },
 "nbformat": 4,
 "nbformat_minor": 5
}
